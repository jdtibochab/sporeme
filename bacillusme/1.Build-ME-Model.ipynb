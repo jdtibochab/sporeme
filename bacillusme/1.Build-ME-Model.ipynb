{
 "cells": [
  {
   "cell_type": "markdown",
   "metadata": {},
   "source": [
    "# Build *Bacillus subtilis*"
   ]
  },
  {
   "cell_type": "code",
   "execution_count": null,
   "metadata": {},
   "outputs": [],
   "source": [
    "from __future__ import print_function, division, absolute_import\n",
    "\n",
    "import sys\n",
    "\n",
    "# python imports\n",
    "import re\n",
    "from os.path import join,dirname,abspath\n",
    "from collections import defaultdict\n",
    "import pickle\n",
    "\n",
    "# third party imports\n",
    "import pandas\n",
    "import cobra\n",
    "\n",
    "# COBRAme\n",
    "import cobrame\n",
    "from cobrame.util import building, mu, me_model_interface\n",
    "from cobrame.io.json import save_json_me_model, save_reduced_json_me_model\n",
    "\n",
    "# ECOLIme\n",
    "import bacillusme\n",
    "from bacillusme import (transcription, translation, flat_files, generics, formulas, compartments)\n",
    "from bacillusme.util.helper_functions import *\n",
    "\n",
    "%load_ext autoreload\n",
    "%autoreload 2\n",
    "print(cobrame.__file__)\n",
    "print(bacillusme.__file__)"
   ]
  },
  {
   "cell_type": "code",
   "execution_count": null,
   "metadata": {},
   "outputs": [],
   "source": [
    "# Define Models\n",
    "eco_directory = join(flat_files.ecoli_files_dir, 'iJO1366.json')\n",
    "ijo_directory = join(flat_files.ecoli_files_dir, 'iYO844_mod.json')\n",
    "uni_directory = join(flat_files.ecoli_files_dir, 'universal_model.json')\n",
    "\n",
    "eco = cobra.io.load_json_model(eco_directory)\n",
    "ijo = cobra.io.load_json_model(ijo_directory)\n",
    "uni = cobra.io.load_json_model(uni_directory)"
   ]
  },
  {
   "cell_type": "code",
   "execution_count": null,
   "metadata": {},
   "outputs": [],
   "source": [
    "model = cobra.io.load_json_model(\"./building_data/iYO844.json\")\n",
    "curation = read_curation(\"./building_data/sporeme_metabolic_curation.csv\")\n",
    "curate_model(model,curation)\n",
    "model.optimize()\n",
    "assert model.solution.f > 1e-3"
   ]
  },
  {
   "cell_type": "code",
   "execution_count": null,
   "metadata": {},
   "outputs": [],
   "source": [
    "## M-model Fixes\n",
    "ijo.reactions.BIOMASS_BS_10.lower_bound = 0\n",
    "ijo.reactions.BIOMASS_BS_10.upper_bound = 0"
   ]
  },
  {
   "cell_type": "markdown",
   "metadata": {},
   "source": [
    "## Part 1: Create minimum solveable ME-model\n",
    "This will include the bare minimum representations of \n",
    "- Transcription Reactions\n",
    "- Translation Reactions\n",
    "- Complex Formation Reactions\n",
    "- Metabolic Reactions\n",
    "\n",
    "that still produce a working ME-model\n",
    "\n",
    "### 1) Create Model Object and populate its global info\n",
    "This includes important parameters that are used to calculate coupling \n",
    "constraints as well as organism-specific information such as peptide \n",
    "processing types"
   ]
  },
  {
   "cell_type": "code",
   "execution_count": null,
   "metadata": {},
   "outputs": [],
   "source": [
    "me = cobrame.MEModel('iJT964-ME')\n",
    "\n",
    "# ME-models require special OptLang interface if cobrapy version >= 0.6.0\n",
    "# If cannot import SymbolicParameter, assume using cobrapy\n",
    "# versions <= 0.5.11\n",
    "try:\n",
    "    from optlang.interface import SymbolicParameter\n",
    "except:\n",
    "    pass\n",
    "else:\n",
    "    me.solver = me_model_interface\n",
    "\n",
    "# \"Translational capacity\" of organism\n",
    "me.global_info['kt'] = 4.5  # (in h-1)scott 2010, RNA-to-protein curve fit\n",
    "me.global_info['r0'] = 0.087  # scott 2010, RNA-to-protein curve fit\n",
    "me.global_info['k_deg'] = 1.0/5. * 60.0  # 1/5 1/min 60 min/h # h-1\n",
    "\n",
    "# Molecular mass of RNA component of ribosome\n",
    "me.global_info['m_rr'] = 1453. # in kDa\n",
    "\n",
    "# Average molecular mass of an amino acid\n",
    "me.global_info['m_aa'] = 109. / 1000.  # in kDa\n",
    "\n",
    "# Proportion of RNA that is rRNA\n",
    "me.global_info['f_rRNA'] = .86\n",
    "me.global_info['m_nt'] = 324. / 1000.  # in kDa\n",
    "me.global_info['f_mRNA'] = .02\n",
    "\n",
    "# tRNA associated global information\n",
    "me.global_info['m_tRNA'] = 25000. / 1000.  # in kDA\n",
    "me.global_info['f_tRNA'] = .12\n",
    "\n",
    "# Folding Properties\n",
    "me.global_info['temperature'] = 37\n",
    "me.global_info['propensity_scaling'] = .45\n",
    "\n",
    "# DNA Replication Parameters\n",
    "me.global_info['GC_fraction'] = 0.507896997096\n",
    "\n",
    "# Define the types of biomass that will be synthesized in the model\n",
    "me.add_biomass_constraints_to_model([\"protein_biomass\", \"mRNA_biomass\", \"tRNA_biomass\", \"rRNA_biomass\",\n",
    "                                     \"ncRNA_biomass\", \"DNA_biomass\", \"lipid_biomass\", \"constituent_biomass\",\n",
    "                                     \"prosthetic_group_biomass\", \"peptidoglycan_biomass\"])\n",
    "\n",
    "# Define ME-model compartments\n",
    "me.compartments = {\"p\": \"Periplasm\", \"e\": \"Extra-organism\", \"c\": \"Cytosol\", \n",
    "                   \"im\": 'Inner Membrane', 'om': \"Outer Membrane\", \"mc\": \"ME-model Constraint\",\n",
    "                   \"m\": \"Membrane\"}"
   ]
  },
  {
   "cell_type": "markdown",
   "metadata": {},
   "source": [
    "### 2) Load metabolites and build Metabolic reactions\n",
    "The below reads in:\n",
    "- Required \n",
    " * **reaction_matrix.txt** (reaction matrix w/ reactions unlumped, metabolites renamed etc.)\n",
    " * **metabolites.txt** (metabolite properties)\n",
    " * **reactions.txt** (info on reversiblity, whether enzyme catalyzed etc.)\n",
    " * **m_to_me_mets.csv** (mapping of enzymes/complexes used in M-model to their ME-model compatible ID)\n",
    " * **protein_complexes.txt** (protein subunit stoichiometry of all complexes, used to identify metabolites as such)\n",
    " \n",
    "It creates a new M-model from this info then incorporates it into the ME-model using *add_m_model_content*. metabolites are added directly reactions are added as StoichiometricData\n",
    "\n",
    "Metabolite types have different properties in an ME-model so enzyme complexes need added to the model as Complexes not Metabolites. Components in the M-model that are actually Complexes are compiled in *complex_list*"
   ]
  },
  {
   "cell_type": "code",
   "execution_count": null,
   "metadata": {},
   "outputs": [],
   "source": [
    "# m_model = flat_files.get_m_model()\n",
    "m_model = flat_files.process_m_model(ijo, 'metabolites.txt',\n",
    "                                     'm_to_me_mets.csv', 'reactions.txt',\n",
    "                                     'reaction_matrix.txt',\n",
    "                                     'protein_complexes.txt',\n",
    "                                     defer_to_rxn_matrix=set())\n",
    "m_model.reactions.EX_glc__D_e.id = 'EX_glc__D_e'\n",
    "m_model.repair()\n",
    "# Manual curation Oct 2023\n",
    "curation = read_curation(\"./building_data/sporeme_metabolic_curation.csv\")\n",
    "curate_model(m_model,curation)\n",
    "\n",
    "# some of the \"metabolites\" in iJO1366 \"M\" model are actually complexes. We pass those in\n",
    "# so they get created as complexes, not metabolites.\n",
    "complexes = flat_files.get_complex_subunit_stoichiometry(\n",
    "    'protein_complexes.txt').keys()\n",
    "complex_set = set(\n",
    "    [i.id for i in m_model.metabolites if i.id.split('_mod_')[0] in complexes])\n",
    "building.add_m_model_content(me, m_model, complex_metabolite_ids=complex_set)"
   ]
  },
  {
   "cell_type": "code",
   "execution_count": null,
   "metadata": {},
   "outputs": [],
   "source": [
    "# This adds exchange reactions for metabolites not contained in iJO1366\n",
    "# Some of these cannot be produced by the model so they are added here\n",
    "exchange_list = ['4fe4s_c','2fe2s_c','udcpp_c','pydx5p_c','3fe4s_c','cl_c','sheme_c','cu_c','mn2_c',\n",
    "                 'bmocogdp_c','dpm_c','thmpp_c','zn2_c','cbl1_c','cobalt2_c']\n",
    "transport_candidates = {}\n",
    "bsub_ecoli_blast = pd.read_csv('./building_data/blast_out_bsub_as_ref.txt',sep='\\t',index_col=2)\n",
    "for met_id in exchange_list:   \n",
    "    # Identify or create metabolites\n",
    "    if hasattr(me.metabolites,met_id):\n",
    "        met = me.metabolites.get_by_id(met_id)\n",
    "    else:\n",
    "        met = cobrame.Metabolite(met_id)\n",
    "    met_e_id = re.sub('_.','_e',met_id)\n",
    "    if hasattr(me.metabolites,met_e_id):\n",
    "        met_e = me.metabolites.get_by_id(met_e_id)\n",
    "    else:\n",
    "        met_e = cobrame.Metabolite(met_e_id)\n",
    "        \n",
    "    # Identify or create exchange reaction\n",
    "    ex_id = 'EX_{}'.format(met_e_id)\n",
    "    if hasattr(me.reactions,ex_id):\n",
    "        ex_r = me.reactions.get_by_id(ex_id)\n",
    "    else:\n",
    "        ex_r = cobrame.MEReaction(ex_id)\n",
    "        ex_r.add_metabolites({met_e:-1})\n",
    "        me.add_reaction(ex_r)\n",
    "    ex_r.upper_bound = 0 # Avoid secretion of this metabolites. These reactions are\n",
    "                         # only meant to supply cofactors for which no biosynthetic \n",
    "                         # pathway has been defined in the model.\n",
    "    ex_r.lower_bound = -1000\n",
    "    \n",
    "    # Identify or create transport reaction. Available transport reactions in model?\n",
    "    met_prod_rxns = [rxn.id for rxn in get_reactions_of_met(m_model,met.id,s=1,verbose=0)]\n",
    "    met_e_cons_rxns = [rxn.id for rxn in get_reactions_of_met(m_model,met_e.id,s=-1,verbose=0)]\n",
    "    transport = list(set(met_prod_rxns)&set(met_e_cons_rxns))\n",
    "    ref = 'none'\n",
    "    if transport:\n",
    "        ref = 'bsub'\n",
    "        for r in transport:\n",
    "            rxn = m_model.reactions.get_by_id(r)\n",
    "            rxn.lower_bound = 0\n",
    "            rxn.upper_bound = 1000\n",
    "            print('Found in model:',met_id,r,rxn.reaction)\n",
    "    else:\n",
    "        # In E. coli as template?\n",
    "        transporters = []\n",
    "        met_prod_rxns = [rxn.id for rxn in get_reactions_of_met(eco,re.sub('_.','_p',met.id),s=1,verbose=0)]\n",
    "        met_e_cons_rxns = [rxn.id for rxn in get_reactions_of_met(eco,met_e.id,s=-1,verbose=0)]\n",
    "        transport = list(set(met_prod_rxns)&set(met_e_cons_rxns))\n",
    "        if transport:\n",
    "            ref = 'eco'\n",
    "            for r in transport:\n",
    "                rxn = eco.reactions.get_by_id(r)\n",
    "                transporters = [bsub_ecoli_blast.loc[gene.id]['BSUB_gene'] for gene in rxn.genes \\\n",
    "                                    if gene.id in bsub_ecoli_blast.index]\n",
    "                if transporters:\n",
    "                    transport_candidates[met_id] = transporters\n",
    "                    print('Manually curate: ', met_id, transport)\n",
    "                else:\n",
    "                    art = 1\n",
    "        else:\n",
    "            art = 1\n",
    "        if art:\n",
    "            ## Add artificial reaction\n",
    "            t_r = cobrame.MEReaction(met_id.split('_')[0].upper()+'t')\n",
    "            t_r.add_metabolites({met_e:-1,met:1})\n",
    "            print('Artificially added: ', met_id)\n",
    "            me.add_reaction(t_r)\n",
    "    #_ = get_reactions_of_met(me,met_e.id)"
   ]
  },
  {
   "cell_type": "markdown",
   "metadata": {},
   "source": [
    "### 3) Add Transcription and Translation \n",
    "The below reads in:\n",
    "- Required\n",
    " * **NC_000913.2.gb** (Genbank sequence annotation)\n",
    " * **ecolime/translation.py** (codon to tRNA mapping)\n",
    "- Optional\n",
    " * **TUs_from_ecocyc.txt** (TU definitions, start/stop positions, etc.)\n",
    " * **ecolime/translation.py** (dictionary of gene to frameshift mutation)\n",
    " \n",
    "To construct the bare minimimum components of a transcription and translation reactions. For example, transcription reactions at this point include nucleotides and the synthesized RNAs."
   ]
  },
  {
   "cell_type": "code",
   "execution_count": null,
   "metadata": {},
   "outputs": [],
   "source": [
    "element_types = {'CDS', 'rRNA','tRNA', 'ncRNA','misc_RNA'}"
   ]
  },
  {
   "cell_type": "code",
   "execution_count": null,
   "metadata": {
    "scrolled": true
   },
   "outputs": [],
   "source": [
    "gb_filename = join(flat_files.ecoli_files_dir,'NC_000964.gb')                                                                                    \n",
    "tu_df = flat_files.get_tu_dataframe('TUs_from_bsubcyc.txt')\n",
    "\n",
    "building.build_reactions_from_genbank(me, gb_filename, tu_df, verbose=False,\n",
    "                                      frameshift_dict=translation.frameshift_dict,\n",
    "                                      trna_to_codon=translation.trna_to_codon,\n",
    "                                      element_types = element_types)\n",
    "\n"
   ]
  },
  {
   "cell_type": "markdown",
   "metadata": {},
   "source": [
    "### 4) Add in complex Formation without modifications (for now)\n",
    "\n",
    "The below reads in:\n",
    "- Required\n",
    " * **protein_complexes.txt** (Metabolic complexes' protein subunit stoichiometries)\n",
    " * **protein_modification.txt** (Type and number of modifications for each protein)"
   ]
  },
  {
   "cell_type": "code",
   "execution_count": null,
   "metadata": {
    "scrolled": true
   },
   "outputs": [],
   "source": [
    "# complex_stoichiometry_dict is a dict of {'complex_id': [{'bnum' : count}]}\n",
    "rna_components = {'BSU_misc_RNA_2','BSU_misc_RNA_35'} # component id should have 'RNA_ instead' of 'protein_'\n",
    "# get Metabolic Complex composition from ECOLIme\n",
    "complex_stoichiometry_dict = flat_files.get_complex_subunit_stoichiometry('protein_complexes.txt', rna_components)\n",
    "# add complexes to model\n",
    "complex_modification_dict = flat_files.get_complex_modifications('protein_modification.txt', 'protein_complexes.txt')\n",
    "building.add_model_complexes(me, complex_stoichiometry_dict, complex_modification_dict, verbose=False)\n",
    "\n",
    "# remove modifications. they will be added back in later\n",
    "for data in me.complex_data:\n",
    "    data.subreactions = {}\n",
    "# add formation reactions for each of the ComplexDatas\n",
    "for cplx_data in me.complex_data:\n",
    "    formation = cplx_data.formation\n",
    "    if formation:\n",
    "        formation.update()\n",
    "    else:\n",
    "        cplx_data.create_complex_formation()"
   ]
  },
  {
   "cell_type": "markdown",
   "metadata": {},
   "source": [
    "### 5) Add dummy reaction to model and unmodeled_protein_fraction\n",
    "\n",
    "Includes the transcription, translation, complex_formation, and metabolic reaction. Sequence based on prevelance of each codon found.\n",
    " - Required\n",
    "     * [**codon_usage.csv**](http://openwetware.org/wiki/Escherichia_coli/Codon_usage) (codon prevelance)"
   ]
  },
  {
   "cell_type": "code",
   "execution_count": null,
   "metadata": {},
   "outputs": [],
   "source": [
    "seq = \"ATG\"\n",
    "codons = pandas.read_csv(join(flat_files.ecoli_files_dir, \"codon_usage.csv\"), index_col=1)\n",
    "for codon, row in codons.iterrows():\n",
    "    if row.amino_acid == \"Stop\":\n",
    "        continue\n",
    "    seq += codon * int(row.per_1000 // 3)  # want roughly 300 aa\n",
    "# get the most used stop codon\n",
    "seq += codons[codons.amino_acid == \"Stop\"].sort_values(\"per_1000\").index[-1]\n",
    "building.add_dummy_reactions(me, seq, update=True)\n",
    "\n",
    "# dummy proteins can be used to catalyze orphan reactions. This\n",
    "# ensures that orphan reactions will not becore favored to fulfil \n",
    "# unmodeled protein fraction requirement \n",
    "rxn = cobrame.SummaryVariable('dummy_protein_to_mass')\n",
    "me.add_reactions([rxn])\n",
    "mass = me.metabolites.protein_dummy.formula_weight / 1000.  # in kDa\n",
    "rxn.add_metabolites({'protein_biomass': -mass, 'protein_dummy': -1,\n",
    "                     cobrame.Constraint('unmodeled_protein_biomass'): mass})"
   ]
  },
  {
   "cell_type": "code",
   "execution_count": null,
   "metadata": {},
   "outputs": [],
   "source": [
    "get_reactions_of_met(me,'unmodeled_protein_biomass')"
   ]
  },
  {
   "cell_type": "code",
   "execution_count": null,
   "metadata": {},
   "outputs": [],
   "source": [
    "for r in me.reactions:\n",
    "    if 'biomass' in r.id:\n",
    "        print(r.id, r.reaction , r.bounds)"
   ]
  },
  {
   "cell_type": "code",
   "execution_count": null,
   "metadata": {},
   "outputs": [],
   "source": [
    "for r in me.metabolites.unmodeled_protein_biomass.reactions:\n",
    "    print(r.id,r.reaction)"
   ]
  },
  {
   "cell_type": "code",
   "execution_count": null,
   "metadata": {},
   "outputs": [],
   "source": [
    "for r in me.metabolites.protein_dummy.reactions:\n",
    "    print(r.id,r.reaction)"
   ]
  },
  {
   "cell_type": "markdown",
   "metadata": {},
   "source": [
    "### 6) Assocated Complexes and build Metabolic Reactions \n",
    "- Required\n",
    "    * **enzyme_reaction_association.txt**\n",
    "    * **reactions.txt** (gives reaction name, reversiblity, source and whether reaction is spontaneous)\n"
   ]
  },
  {
   "cell_type": "code",
   "execution_count": null,
   "metadata": {
    "scrolled": true
   },
   "outputs": [],
   "source": [
    "# associate reaction id with the old ME complex id (including modifications)\n",
    "rxn_to_cplx_dict = flat_files.get_reaction_to_complex(m_model)\n",
    "rxn_info = flat_files.get_reaction_info_frame('reactions.txt')\n",
    "\n",
    "# Required to add dummy reaction as spontaneous reaction\n",
    "rxn_info = rxn_info.append(pandas.Series({'description': 'dummy reaction', 'is_reversible': 0,\n",
    "                                          'is_spontaneous':1}, name='dummy_reaction'))\n",
    "\n",
    "building.add_reactions_from_stoichiometric_data(me, rxn_to_cplx_dict, rxn_info, update=True)"
   ]
  },
  {
   "cell_type": "markdown",
   "metadata": {},
   "source": [
    "### 7) Incorporate remaining biomass constituents\n",
    "There are leftover components from the biomass equation that either: \n",
    "1. have no mechanistic function in the model (glycogen)\n",
    "2. are cofactors that are regenerated (nad)\n",
    "\n",
    "Applies demands and coefficients from the biomass objective function"
   ]
  },
  {
   "cell_type": "code",
   "execution_count": null,
   "metadata": {},
   "outputs": [],
   "source": [
    "me.ngam = 9.\n",
    "me.gam = 105.053483\n",
    "me.unmodeled_protein_fraction = .36\n",
    "\n",
    "biomass_constituents = {\n",
    "    \"10fthf_c\": -0.000367,\n",
    "    \"peptido_BS_c\": -.101817,\n",
    "    \"psetha_BS_c\": -0.00056,\n",
    "    \"mql7_c\":-0.000266,\n",
    "}\n",
    "\n",
    "\n",
    "rxn = cobrame.SummaryVariable('biomass_constituent_demand')\n",
    "me.add_reactions([rxn])\n",
    "rxn.add_metabolites(biomass_constituents)\n",
    "constituent_mass = sum(me.metabolites.get_by_id(c).formula_weight / 1000. * -v\n",
    "                     for c, v in biomass_constituents.items())\n",
    "rxn.lower_bound = mu\n",
    "rxn.upper_bound = mu\n",
    "rxn.add_metabolites({me.metabolites.constituent_biomass: constituent_mass})"
   ]
  },
  {
   "cell_type": "markdown",
   "metadata": {},
   "source": [
    " #### Lipid components\n",
    " Metabolites and coefficients from biomass objective function"
   ]
  },
  {
   "cell_type": "code",
   "execution_count": null,
   "metadata": {},
   "outputs": [],
   "source": [
    "# Identify lipid metabolites in biomass equation\n",
    "\n",
    "lipid_demand = {}\n",
    "for key, value in ijo.reactions.BIOMASS_BS_10.metabolites.items():\n",
    "    if '_BS_c' in key.id and not key.id in biomass_constituents:\n",
    "        lipid_demand[key.id] = abs(value)\n",
    "                \n",
    "for met, requirement in lipid_demand.items():\n",
    "    component_mass = me.metabolites.get_by_id(met).formula_weight / 1000.\n",
    "    rxn = cobrame.SummaryVariable('Demand_' + met)\n",
    "    me.add_reactions([rxn])\n",
    "    rxn.add_metabolites({met: -1 * requirement,\n",
    "                         'lipid_biomass': component_mass * requirement})\n",
    "    rxn.lower_bound = mu\n",
    "    rxn.upper_bound = 1000.\n",
    "\n",
    "# Kdo2lipid4\n",
    "#requirement = 0.01945  # in mmol/gDW\n",
    "#met = me.metabolites.get_by_id('kdo2lipid4_e')\n",
    "#component_mass = met.formula_weight / 1000.\n",
    "#rxn = cobrame.SummaryVariable('Demand_' + met.id)\n",
    "#me.add_reactions([rxn])\n",
    "\n",
    "#rxn.add_metabolites({met.id : -1.*requirement,\n",
    "#                     'lipid_biomass': component_mass * requirement})\n",
    "#rxn.lower_bound = mu\n",
    "#rxn.upper_bound = mu"
   ]
  },
  {
   "cell_type": "markdown",
   "metadata": {},
   "source": [
    "#### DNA Demand Requirements\n",
    "Added based on growth rate dependent DNA levels as in [O'brien EJ et al 2013](https://www.ncbi.nlm.nih.gov/pubmed/24084808)"
   ]
  },
  {
   "cell_type": "code",
   "execution_count": null,
   "metadata": {},
   "outputs": [],
   "source": [
    "dna_demand_stoich, dna_demand_bound = bacillusme.dna_replication.return_gr_dependent_dna_demand(\n",
    "    me, me.global_info['GC_fraction'])\n",
    "\n",
    "dna_replication = cobrame.SummaryVariable(\"DNA_replication\")\n",
    "me.add_reaction(dna_replication)\n",
    "dna_replication.add_metabolites(dna_demand_stoich)\n",
    "dna_biomass = cobrame.Constraint(\"DNA_biomass\")\n",
    "\n",
    "dna_mw = 0\n",
    "dna_mw_no_ppi = bacillusme.dna_replication.get_dna_mw_no_ppi_dict(me)\n",
    "for met, value in me.reactions.DNA_replication.metabolites.items():\n",
    "    if met.id != 'ppi_c':\n",
    "        dna_mw -= value * dna_mw_no_ppi[met.id.replace('_c','')] / 1000.\n",
    "        \n",
    "dna_replication.add_metabolites({dna_biomass: dna_mw})\n",
    "dna_replication.lower_bound = dna_demand_bound \n",
    "dna_replication.upper_bound = dna_demand_bound \n"
   ]
  },
  {
   "cell_type": "markdown",
   "metadata": {},
   "source": [
    "**Note**: From this point forward, executing every codeblock should result in a solveable ME-model\n",
    "\n",
    "------\n",
    "\n",
    "## Part 2: Add metastructures to solving ME-model\n",
    "This includes:\n",
    "1. ribosome\n",
    "2. RNA polymerase\n",
    "3. charged_tRNAs"
   ]
  },
  {
   "cell_type": "markdown",
   "metadata": {},
   "source": [
    "Sometimes multiple entities can perform the same role. To prevent a combinatorial explosion of possibilities, we can create  \"generic\" version, where any of those entities can fill in."
   ]
  },
  {
   "cell_type": "code",
   "execution_count": null,
   "metadata": {},
   "outputs": [],
   "source": [
    "for generic, components in generics.generic_dict.items():\n",
    "    cobrame.GenericData(generic, me, components).create_reactions()"
   ]
  },
  {
   "cell_type": "markdown",
   "metadata": {},
   "source": [
    "### 1) Add ribosome\n",
    "This uses the ribosome composition definition in **ecolime/ribosome.py**"
   ]
  },
  {
   "cell_type": "code",
   "execution_count": null,
   "metadata": {},
   "outputs": [],
   "source": [
    "bacillusme.ribosome.add_ribosome(me, verbose=False)"
   ]
  },
  {
   "cell_type": "markdown",
   "metadata": {},
   "source": [
    "### 2) Add charged tRNA reactions"
   ]
  },
  {
   "cell_type": "markdown",
   "metadata": {},
   "source": [
    "The tRNA charging reactions were automatically added when loading the genome from the genbank file. However, the charging reactions still need to be made aware of the tRNA synthetases which are responsible.\n",
    "\n",
    "Uses **trna_charging.py**"
   ]
  },
  {
   "cell_type": "code",
   "execution_count": null,
   "metadata": {
    "scrolled": true
   },
   "outputs": [],
   "source": [
    "aa_synthetase_dict = bacillusme.trna_charging.amino_acid_trna_synthetase\n",
    "for data in me.tRNA_data:\n",
    "    data.synthetase = str(aa_synthetase_dict[data.amino_acid])"
   ]
  },
  {
   "cell_type": "markdown",
   "metadata": {},
   "source": [
    "Generic charged tRNAs are added to translation reactions via SubreactionData below.\n",
    "\n",
    "All new data added in this block contained in **ecolime/translation.py**"
   ]
  },
  {
   "cell_type": "code",
   "execution_count": null,
   "metadata": {
    "scrolled": true
   },
   "outputs": [],
   "source": [
    "bacillusme.translation.add_charged_trna_subreactions(me)\n",
    "for data in me.translation_data:\n",
    "    data.add_initiation_subreactions(start_codons=translation.translation_start_codons,\n",
    "                                    start_subreactions=set(translation.initiation_subreactions.keys()))\n",
    "\n",
    "    data.add_elongation_subreactions(elongation_subreactions=set(translation.elongation_subreactions.keys()))\n",
    "\n",
    "    data.add_termination_subreactions(translation_terminator_dict=translation.translation_stop_dict)"
   ]
  },
  {
   "cell_type": "markdown",
   "metadata": {},
   "source": [
    "### 3) Add Transcription Metacomplexes\n",
    "#### RNA Polymerase\n",
    "\n",
    "Data for RNA_polymerase composition fround in **ecolime/transcription**\n",
    "\n",
    "Uses *tu_df* from **TUs_from_ecocyc.txt**, above"
   ]
  },
  {
   "cell_type": "code",
   "execution_count": null,
   "metadata": {},
   "outputs": [],
   "source": [
    "for met in transcription.rna_polymerases:\n",
    "    rnap_obj = cobrame.RNAP(met)\n",
    "    me.add_metabolites(rnap_obj)\n",
    "transcription.add_rna_polymerase_complexes(me, verbose=False)\n",
    "\n",
    "# associate the correct RNA_polymerase and factors to TUs\n",
    "sigma_to_rnap_dict = transcription.sigma_factor_complex_to_rna_polymerase_dict\n",
    "for tu_id in tu_df.index:\n",
    "    transcription_data = me.process_data.get_by_id(tu_id)\n",
    "    sigma = tu_df.sigma[tu_id]\n",
    "    rna_polymerase = sigma_to_rnap_dict[sigma]\n",
    "    transcription_data.RNA_polymerase = rna_polymerase"
   ]
  },
  {
   "cell_type": "markdown",
   "metadata": {},
   "source": [
    "#### Degradosome (both for RNA degradation and RNA splicing)\n",
    "\n",
    "All new data contained in **transcription.py**"
   ]
  },
  {
   "cell_type": "code",
   "execution_count": null,
   "metadata": {},
   "outputs": [],
   "source": [
    "me.add_metabolites([cobrame.Complex('RNA_degradosome')])\n",
    "data = cobrame.ComplexData('RNA_degradosome', me)\n",
    "for subunit, value in transcription.rna_degradosome.items():\n",
    "    data.stoichiometry[subunit] = value\n",
    "data.create_complex_formation(verbose=False)\n",
    "\n",
    "# Used for RNA splicing\n",
    "data = cobrame.SubreactionData('RNA_degradation_machine', me)\n",
    "data.enzyme = 'RNA_degradosome'\n",
    "\n",
    "data = cobrame.SubreactionData('RNA_degradation_atp_requirement', me)\n",
    "# .25 water equivaltent for atp hydrolysis per nucleotide\n",
    "data.stoichiometry = {'atp_c': -.25, 'h2o_c': -.25, 'adp_c': .25,\n",
    "                      'pi_c': .25, 'h_c': .25}\n",
    "\n",
    "transcription.add_rna_splicing(me)"
   ]
  },
  {
   "cell_type": "markdown",
   "metadata": {},
   "source": [
    "------\n",
    "## Part 3: Add remaining modifications\n",
    "rRNA modifications handled in *add_ribosome*\n",
    "\n",
    "### 1) Add complex modifications\n",
    "*complex_modification_dict* from **protein_modification.text**, above\n",
    "\n",
    "The rest of the new data contained in **ecolime/modifications.py**"
   ]
  },
  {
   "cell_type": "code",
   "execution_count": null,
   "metadata": {},
   "outputs": [],
   "source": [
    "for complex_id, info in complex_modification_dict.items():\n",
    "    modifications = {}\n",
    "    for mod, value in info['modifications'].items():\n",
    "        # stoichiometry of modification determined in \n",
    "        # subreaction_data.stoichiometry\n",
    "        \n",
    "        modifications['mod_' + mod] = abs(value)\n",
    "    me.process_data.get_by_id(complex_id).subreactions = modifications\n",
    "\n",
    "# Adds modification data for more complicated enzyme modifications\n",
    "# (ie, iron sulfur cluster modification)\n",
    "bacillusme.modifications.add_modification_procedures(me)"
   ]
  },
  {
   "cell_type": "code",
   "execution_count": null,
   "metadata": {},
   "outputs": [],
   "source": [
    "with open(\"./me_models/iBS_checkpoint.pickle\", \"wb\") as outfile:\n",
    "    pickle.dump(me, outfile)"
   ]
  },
  {
   "cell_type": "code",
   "execution_count": null,
   "metadata": {},
   "outputs": [],
   "source": [
    "with open(\"./me_models/iBS_checkpoint.pickle\", \"rb\") as outfile:\n",
    "    me = pickle.load(outfile)"
   ]
  },
  {
   "cell_type": "code",
   "execution_count": null,
   "metadata": {},
   "outputs": [],
   "source": [
    "# add formation reactions for each of the ComplexDatas\n",
    "for cplx_data in me.complex_data:\n",
    "    formation = cplx_data.formation\n",
    "    if 'Oxidized' not in cplx_data.id: \n",
    "        if formation:\n",
    "            formation.update()\n",
    "        else:\n",
    "            cplx_data.create_complex_formation()"
   ]
  },
  {
   "cell_type": "markdown",
   "metadata": {},
   "source": [
    "### 2) Add tRNA mods and asocciate them with tRNA charging reactions\n",
    "New data from:\n",
    "1. **ecolime/trna_charging.py** (read via *add_tRNA_modification_procedures()*)\n",
    "2. **post_transcriptional_modification_of_tRNA.txt** (modification types per tRNA)\n"
   ]
  },
  {
   "cell_type": "code",
   "execution_count": null,
   "metadata": {},
   "outputs": [],
   "source": [
    "# Add tRNA modifications to ME-model\n",
    "bacillusme.trna_charging.add_trna_modification_procedures(me)\n",
    "\n",
    "# trna_modifications = {tRNA_id: {modifications: count}}\n",
    "trna_modifications=flat_files.get_trna_modification_targets()\n",
    "for trna in trna_modifications:\n",
    "    for data in me.process_data.query(trna):\n",
    "        data.subreactions = trna_modifications[trna]"
   ]
  },
  {
   "cell_type": "markdown",
   "metadata": {},
   "source": [
    "---\n",
    "## Part 4: Add remaining subreactions\n",
    "### 1) Add translation related subreactions\n",
    "All new data from **ecolime/translation.py**"
   ]
  },
  {
   "cell_type": "code",
   "execution_count": null,
   "metadata": {},
   "outputs": [],
   "source": [
    "# add the translation subreaction data objects to model\n",
    "translation.add_translation_subreactions_to_model(me)\n",
    "\n",
    "# add translation subreaction data to reactions\n",
    "methionine_cleaved=translation.methionine_cleaved\n",
    "folding_dict=translation.folding_dict\n",
    "\n",
    "for data in me.translation_data:\n",
    "    locus_id = data.id\n",
    "    if locus_id in methionine_cleaved:\n",
    "        data.subreactions['N_terminal_methionine_cleavage'] = 1\n",
    "\n",
    "    for folding_type in folding_dict:\n",
    "        if locus_id in folding_dict[folding_type]:\n",
    "            data.subreactions[folding_type] = 1\n",
    "\n",
    "    # This block was ran above, but should be ran again to \n",
    "    # incorporate any subreactions not added previously\n",
    "    data.add_initiation_subreactions(\n",
    "        start_codons=translation.translation_start_codons,\n",
    "        start_subreactions=set(translation.initiation_subreactions.keys()))\n",
    "    data.add_elongation_subreactions(\n",
    "        elongation_subreactions=set(translation.elongation_subreactions.keys()))\n",
    "    data.add_termination_subreactions(\n",
    "        translation_terminator_dict=translation.translation_stop_dict)\n",
    "\n",
    "    # add organism specific subreactions associated with peptide processing\n",
    "    for subrxn in translation.peptide_processing_subreactions:\n",
    "        data.subreactions[subrxn] = 1"
   ]
  },
  {
   "cell_type": "markdown",
   "metadata": {},
   "source": [
    "### 2) Add transcription related subreactions\n",
    "All new data from **ecolime/transcription.py**"
   ]
  },
  {
   "cell_type": "code",
   "execution_count": null,
   "metadata": {},
   "outputs": [],
   "source": [
    "for subreaction in transcription.transcription_subreactions:\n",
    "    subreaction_data = cobrame.SubreactionData(subreaction, me)\n",
    "    enzymes = transcription.transcription_subreactions[subreaction]['enzymes']\n",
    "    subreaction_data.stoichiometry = transcription.transcription_subreactions[subreaction]['stoich']\n",
    "    subreaction_data.enzyme = enzymes\n",
    "\n",
    "for transcription_data in me.transcription_data:\n",
    "    # Assume false if not in tu_df\n",
    "    rho_dependent = tu_df.rho_dependent.get(transcription_data.id, False)\n",
    "    rho = 'dependent' if rho_dependent else 'independent'\n",
    "    stable = 'stable' if transcription_data.codes_stable_rna else 'normal'\n",
    "    transcription_data.subreactions['Transcription_%s_rho_%s' % (stable,\n",
    "                                                                 rho)] = 1"
   ]
  },
  {
   "cell_type": "markdown",
   "metadata": {},
   "source": [
    "----\n",
    "## Part 5: Add in translocation\n",
    "\n",
    "New data from:\n",
    "1. **peptide_compartment_and_pathways.txt** (Protein compartment and translocation pathway for each membrane complex)\n",
    "2. **ecolime/translocation.py** (definitions of each translocation pathway)"
   ]
  },
  {
   "cell_type": "code",
   "execution_count": null,
   "metadata": {},
   "outputs": [],
   "source": [
    "# Add TranslocationData\n",
    "transloc = pandas.read_csv(join(flat_files.ecoli_files_dir,\"peptide_compartment_and_pathways.txt\"),\n",
    "                           sep='\\t', comment=\"#\")\n",
    "for pathway, info in bacillusme.translocation.pathway.items():\n",
    "    if 'alt' not in pathway:\n",
    "        transloc_data = cobrame.TranslocationData(pathway + '_translocation', me)\n",
    "    else:\n",
    "        transloc_data = cobrame.TranslocationData(pathway.replace('_alt', '_translocation_alt'), me)\n",
    "    transloc_data.enzyme_dict = info['enzymes']\n",
    "    transloc_data.keff = info['keff']\n",
    "    transloc_data.length_dependent_energy = info['length_dependent_energy']\n",
    "    transloc_data.stoichiometry = info['stoichiometry']\n",
    "\n",
    "# Associate data and add translocation reactions\n",
    "bacillusme.translocation.add_translocation_pathways(me, transloc, membrane_constraints = False)\n",
    "\n",
    "# Update stoichiometry of membrane complexes\n",
    "# new_stoich = {complex_id: protein_w_compartment}\n",
    "new_stoich = defaultdict(dict)\n",
    "for cplx, row in transloc.set_index('Complex').iterrows():\n",
    "    if cplx == 'EG10544-MONOMER':\n",
    "        continue\n",
    "    protein = row.Protein.split('(')[0] + '_' + row.Protein_compartment\n",
    "    value = me.process_data.get_by_id(cplx).stoichiometry['protein_' + row.Protein.split('(')[0]]\n",
    "    new_stoich[cplx]['protein_' + protein] = float(value)\n",
    "\n",
    "for cplx, stoich in new_stoich.items():\n",
    "    complex_data = me.process_data.get_by_id(cplx)\n",
    "    for met, value in stoich.items():\n",
    "        complex_data.stoichiometry.pop(met[0:16])\n",
    "        complex_data.stoichiometry[met] = value\n",
    "        complex_data.formation.update()\n",
    "    # Complex ids in protein compartment file doesn't include mods\n",
    "    # Some have multiple alternative modifications so must loop through these\n",
    "    for complex_data in me.process_data.query(cplx + '_mod_'):\n",
    "        for met, value in stoich.items():\n",
    "            complex_data.stoichiometry.pop(met[0:16])\n",
    "            complex_data.stoichiometry[met] = value\n",
    "            complex_data.formation.update()"
   ]
  },
  {
   "cell_type": "markdown",
   "metadata": {},
   "source": [
    "---\n",
    "## Part 6: Add Cell Wall Components\n",
    "All new data from **ecolime/translocation.py**"
   ]
  },
  {
   "cell_type": "code",
   "execution_count": null,
   "metadata": {},
   "outputs": [],
   "source": [
    "compartment_dict = {}\n",
    "for prot, compartment in transloc.set_index('Protein').Protein_compartment.to_dict().items():\n",
    "    compartment_dict[prot.split('(')[0]] = compartment"
   ]
  },
  {
   "cell_type": "markdown",
   "metadata": {},
   "source": [
    "#### Add lipid modification SubreactionData"
   ]
  },
  {
   "cell_type": "code",
   "execution_count": null,
   "metadata": {},
   "outputs": [],
   "source": [
    "# Bsub m-model doest not have pe and pg metabolites"
   ]
  },
  {
   "cell_type": "markdown",
   "metadata": {},
   "source": [
    "#### Braun's lipoprotein demand\n",
    "Metabolites and coefficients as defined in [Liu et al 2014](http://bmcsystbiol.biomedcentral.com/articles/10.1186/s12918-014-0110-6)"
   ]
  },
  {
   "cell_type": "markdown",
   "metadata": {},
   "source": [
    "#### Correct complex formation IDs if they contain lipoproteins"
   ]
  },
  {
   "cell_type": "code",
   "execution_count": null,
   "metadata": {},
   "outputs": [],
   "source": [
    "# Bsub m-model doest not have murein"
   ]
  },
  {
   "cell_type": "markdown",
   "metadata": {},
   "source": [
    "-----\n",
    "## Part 7: Set keffs\n",
    "\n",
    "Either entirely based on SASA or using fit keffs from [Ebrahim et al 2016](https://www.ncbi.nlm.nih.gov/pubmed/27782110?dopt=Abstract)"
   ]
  },
  {
   "cell_type": "code",
   "execution_count": null,
   "metadata": {},
   "outputs": [],
   "source": [
    "# # Set keffs to sasa fluxes centered around 65.\n",
    "# me.set_SASA_keffs(65)"
   ]
  },
  {
   "cell_type": "code",
   "execution_count": null,
   "metadata": {
    "scrolled": true
   },
   "outputs": [],
   "source": [
    "## Get median sasa\n",
    "from cobrame.core.component import Complex\n",
    "import numpy as np\n",
    "\n",
    "sasa_list = []\n",
    "for met in me.metabolites:\n",
    "    cplx_sasa = 0.\n",
    "    if not isinstance(met, Complex):\n",
    "        continue\n",
    "    MW = met.formula_weight\n",
    "    if not MW:\n",
    "        MW = 0\n",
    "        print(met.id, ' has no formula')\n",
    "    cplx_sasa += MW ** (3. / 4)\n",
    "    sasa_list.append(cplx_sasa)\n",
    "median_sasa = np.median(np.array(sasa_list))"
   ]
  },
  {
   "cell_type": "code",
   "execution_count": null,
   "metadata": {
    "scrolled": true
   },
   "outputs": [],
   "source": [
    "reaction_median_keffs = pandas.read_csv(flat_files.fixpath('reaction_median_keffs.txt'), sep='\\t',\n",
    "                              names=['Reaction', 'Complex', 'Median_Keff'])\n",
    "keff_list = []\n",
    "for key, row in reaction_median_keffs.iterrows():\n",
    "    reaction_id = row['Reaction']\n",
    "    complex_id = row['Complex']\n",
    "    median_keff = row['Median_Keff']\n",
    "    \n",
    "    real_reaction_id = reaction_id + ''\n",
    "    \n",
    "    molecular_weight = me.metabolites.get_by_id(complex_id).formula_weight\n",
    "    sasa = molecular_weight ** (3./4)\n",
    "    keff = sasa * median_keff / median_sasa\n",
    "    \n",
    "    if keff > 3000:\n",
    "        keff = 3000.\n",
    "    elif keff < .01:\n",
    "        keff = .01\n",
    "    keff_list.append(keff)\n",
    "    try:\n",
    "        me.reactions.get_by_id(reaction_id).keff = keff\n",
    "        me.reactions.get_by_id(reaction_id).update()\n",
    "    except:\n",
    "        continue\n",
    "    "
   ]
  },
  {
   "cell_type": "markdown",
   "metadata": {},
   "source": [
    "-----\n",
    "## Part 8: Model updates and corrections"
   ]
  },
  {
   "cell_type": "code",
   "execution_count": null,
   "metadata": {},
   "outputs": [],
   "source": [
    "# Add reaction subsystems to model\n",
    "for rxn in ijo.reactions:\n",
    "    if rxn.id in me.process_data:\n",
    "        data = me.process_data.get_by_id(rxn.id)\n",
    "    else:\n",
    "        continue\n",
    "    for r in data.parent_reactions:\n",
    "        r.subsystem = rxn.subsystem"
   ]
  },
  {
   "cell_type": "markdown",
   "metadata": {},
   "source": [
    "#### Add enzymatic coupling for \"carriers\"\n",
    "These are enzyme complexes that act as metabolites in a metabolic reaction (i.e. are metabolites in iJO1366)"
   ]
  },
  {
   "cell_type": "code",
   "execution_count": null,
   "metadata": {},
   "outputs": [],
   "source": [
    "for data in me.stoichiometric_data:\n",
    "    if data.id == 'dummy_reaction':\n",
    "        continue\n",
    "        \n",
    "    for met, value in data.stoichiometry.items():\n",
    "        if not isinstance(me.metabolites.get_by_id(met), cobrame.Complex) or value > 0:\n",
    "            continue\n",
    "            \n",
    "        subreaction_id = met + '_carrier_activity'\n",
    "        if subreaction_id not in me.process_data:           \n",
    "            sub = cobrame.SubreactionData(met + '_carrier_activity', me)\n",
    "            sub.enzyme = met\n",
    "        data.subreactions[subreaction_id] = abs(value)"
   ]
  },
  {
   "cell_type": "markdown",
   "metadata": {},
   "source": [
    "----\n",
    "## Part 9: Update and save"
   ]
  },
  {
   "cell_type": "code",
   "execution_count": null,
   "metadata": {},
   "outputs": [],
   "source": [
    "me.reactions.biomass_dilution.objective_coefficient = 1.\n",
    "me.reactions.EX_glc__D_e.lower_bound = -1000\n",
    "me.reactions.EX_o2_e.lower_bound = -1000\n",
    "me.ngam = 9.\n",
    "me.gam = 105.053483\n",
    "me.unmodeled_protein_fraction = .36\n",
    "\n",
    "me.reactions.BIOMASS_BS_10_FWD_CPLX_dummy.lower_bound = 0\n",
    "me.reactions.BIOMASS_BS_10_FWD_CPLX_dummy.upper_bound = 0\n",
    "me.reactions.ATPM_FWD_CPLX_dummy.lower_bound = 0\n",
    "me.reactions.ATPM_FWD_CPLX_dummy.upper_bound = 0\n",
    "\n",
    "me.metabolites.get_by_id('mn2_c').formula = 'Mn2'\n",
    "me.metabolites.get_by_id('mg2_c').formula = 'Mg2'\n",
    "me.metabolites.get_by_id('ca2_c').formula = 'Ca2'\n",
    "me.metabolites.get_by_id('cu2_c').formula = 'Cu2'"
   ]
  },
  {
   "cell_type": "code",
   "execution_count": null,
   "metadata": {},
   "outputs": [],
   "source": [
    "me.update()"
   ]
  },
  {
   "cell_type": "code",
   "execution_count": null,
   "metadata": {},
   "outputs": [],
   "source": [
    "me.prune()"
   ]
  },
  {
   "cell_type": "markdown",
   "metadata": {},
   "source": [
    "### Add remaining complex formulas and compartments to model"
   ]
  },
  {
   "cell_type": "code",
   "execution_count": null,
   "metadata": {},
   "outputs": [],
   "source": [
    "# Update a second time to incorporate all of the metabolite formulas corectly\n",
    "for r in me.reactions.query('formation_'):\n",
    "    r.update()\n",
    "\n",
    "# Update complex formulas\n",
    "df = pandas.read_table(join(flat_files.ecoli_files_dir, 'modification.txt'),\n",
    "                            names=['mod', 'formula','na'])\n",
    "df = df.drop('na', axis=1).set_index('mod').dropna(how='any')\n",
    "modification_formulas = df.T.to_dict()\n",
    "formulas.add_remaining_complex_formulas(me, modification_formulas)\n",
    "\n",
    "# Update reactions affected by formula update \n",
    "for r in me.reactions.query('_mod_lipo'):\n",
    "    r.update()\n",
    "for r in me.reactions.query('_mod_glycyl'):\n",
    "    r.update()\n",
    "    \n",
    "# add metabolite compartments\n",
    "compartments.add_compartments_to_model(me)"
   ]
  },
  {
   "cell_type": "markdown",
   "metadata": {},
   "source": [
    "### Remaining fields"
   ]
  },
  {
   "cell_type": "code",
   "execution_count": null,
   "metadata": {
    "scrolled": true
   },
   "outputs": [],
   "source": [
    "##\n",
    "current_gene_ids = [gene.id for gene in me.genes]\n",
    "for met in me.metabolites:\n",
    "    met_id = met.id\n",
    "    if 'protein_BSU' in met_id:\n",
    "        gene_id = met_id.split('_')[1]\n",
    "        if gene_id and gene_id not in current_gene_ids:\n",
    "            try:\n",
    "                print(gene_id)\n",
    "                gene = cobra.Gene(gene_id)\n",
    "                me.genes.append(gene)\n",
    "            except:\n",
    "                pass\n",
    "\n",
    "##\n",
    "me.reactions.BIOMASS_BS_10_FWD_CPLX_dummy.lower_bound = 0\n",
    "me.reactions.BIOMASS_BS_10_FWD_CPLX_dummy.upper_bound = 0\n",
    "me.reactions.ATPM_FWD_CPLX_dummy.lower_bound = 0\n",
    "me.reactions.ATPM_FWD_CPLX_dummy.upper_bound = 0\n",
    "\n",
    "## Homogenize exchange reactions\n",
    "for rxn in me.reactions:\n",
    "    if 'EX_' in rxn.id:\n",
    "        try:\n",
    "            lb = ijo.reactions.get_by_id(rxn.id).lower_bound\n",
    "            ub = ijo.reactions.get_by_id(rxn.id).upper_bound\n",
    "            rxn.lower_bound = lb\n",
    "            rxn.upper_bound = ub\n",
    "        except:\n",
    "            print(rxn.id, 'not in m_model')\n",
    "            \n",
    "## These exchange reactions need to be opened\n",
    "mets = ['mn2_e','zn2_e','cobalt2_e']\n",
    "for met_id in mets:\n",
    "    r = me.reactions.get_by_id('EX_'+met_id)\n",
    "    r.lower_bound = -1000\n",
    "    r.upper_bound = 0"
   ]
  },
  {
   "cell_type": "markdown",
   "metadata": {},
   "source": [
    "## New fixes"
   ]
  },
  {
   "cell_type": "code",
   "execution_count": null,
   "metadata": {},
   "outputs": [],
   "source": [
    "# Feb 12, 2020\n",
    "# Model was synthesizing extra lipids to compensate and reach maximum growth rate.\n",
    "# Fix: Set lb = ub = mass fraction of lipids\n",
    "rxns = get_reactions_of_met(me,'lipid_biomass', s=1, verbose=False)\n",
    "for rxn in rxns:\n",
    "    rxn.upper_bound = mu\n",
    "_=get_reactions_of_met(me,'lipid_biomass', s=1, verbose=True)"
   ]
  },
  {
   "cell_type": "code",
   "execution_count": null,
   "metadata": {},
   "outputs": [],
   "source": [
    "# Fix names\n",
    "for r in me.reactions:\n",
    "    if isinstance(r,cobrame.MetabolicReaction):\n",
    "        if r.stoichiometric_data.id not in ijo.reactions: continue\n",
    "        og_r = ijo.reactions.get_by_id(r.stoichiometric_data.id)\n",
    "        r.name = og_r.name\n",
    "        r.subsystem = og_r.subsystem"
   ]
  },
  {
   "cell_type": "markdown",
   "metadata": {},
   "source": [
    "## Save"
   ]
  },
  {
   "cell_type": "code",
   "execution_count": null,
   "metadata": {
    "scrolled": true
   },
   "outputs": [],
   "source": [
    "solve_me_model(me, max_mu = 0.5, min_mu = .05, using_soplex=False, precision = 1e-6)"
   ]
  },
  {
   "cell_type": "code",
   "execution_count": null,
   "metadata": {},
   "outputs": [],
   "source": [
    "# Save. When ready, copy to me_models/final/\n",
    "with open(\"./me_models/solution.pickle\", \"wb\") as outfile:\n",
    "    pickle.dump(me, outfile)"
   ]
  },
  {
   "cell_type": "markdown",
   "metadata": {},
   "source": [
    "### Summary info"
   ]
  },
  {
   "cell_type": "code",
   "execution_count": null,
   "metadata": {
    "scrolled": true,
    "tags": []
   },
   "outputs": [],
   "source": [
    "from tqdm import tqdm\n",
    "d = {}\n",
    "for r in tqdm(me.reactions):\n",
    "    if r.id in d: continue\n",
    "    dr = {}\n",
    "    dr['name'] = r.name\n",
    "    dr['subsystem'] = r.subsystem\n",
    "    try:\n",
    "        dr['reaction'] = r.reaction\n",
    "    except:\n",
    "        print('Cant write reaction of ' + r.id)\n",
    "    if hasattr(r,'complex_data'):\n",
    "        if r.complex_data:\n",
    "            cplx = r.complex_data.id.split('_mod_')[0]\n",
    "            dr['complex'] = cplx\n",
    "            try:\n",
    "                dr['genes'] = df[2][cplx]\n",
    "            except:\n",
    "                print(r.complex_data.id + ' not in protein_complexes.txt')\n",
    "    d[r.id] = dr\n",
    "info_df = pd.DataFrame.from_dict(d).T\n",
    "info_df.fillna('').to_csv('summary_info.csv')"
   ]
  },
  {
   "cell_type": "markdown",
   "metadata": {},
   "source": [
    "### Breakdown"
   ]
  },
  {
   "cell_type": "code",
   "execution_count": null,
   "metadata": {},
   "outputs": [],
   "source": [
    "def get_breakdown(me,field):\n",
    "    count = {}\n",
    "    for instance in getattr(me,field):\n",
    "        instance_type = instance.__class__.__name__\n",
    "        if instance_type not in count.keys():\n",
    "            count[instance_type] = 0\n",
    "        count[instance_type] += 1\n",
    "    return pd.DataFrame.from_dict({'count':count})"
   ]
  },
  {
   "cell_type": "code",
   "execution_count": null,
   "metadata": {},
   "outputs": [],
   "source": [
    "import matplotlib.pyplot as plt\n",
    "fields = ['metabolites','reactions']\n",
    "\n",
    "lims = np.array([[0,300,800,1100],[0,1000,1300,1800]])\n",
    "\n",
    "fig,ax = plt.subplots(2,len(fields),sharex=False)\n",
    "plt.rcParams['svg.fonttype'] = 'none'\n",
    "for idx,f in enumerate(fields):\n",
    "    df = get_breakdown(me,f).sort_values(by='count')\n",
    "    \n",
    "    df.plot.bar(legend=False,figsize=(13,5),ax=ax[0,idx])\n",
    "    df.plot.bar(legend=False,figsize=(13,5),ax=ax[1,idx])\n",
    "    \n",
    "    ax[0,idx].set_ylim(lims[idx,2], lims[idx,3])  # outliers only\n",
    "    ax[1,idx].set_ylim(lims[idx,0], lims[idx,1])  # most of the data\n",
    "    \n",
    "    ax[0,idx].spines['bottom'].set_visible(False)\n",
    "    ax[1,idx].spines['top'].set_visible(False)\n",
    "    ax[0,idx].tick_params(axis='x', which='both',bottom=False)\n",
    "    \n",
    "    ax[0,idx].tick_params(labeltop=False)  # don't put tick labels at the top\n",
    "    ax[1,idx].xaxis.tick_bottom()\n",
    "    \n",
    "    \n",
    "    ax[0,idx].set_ylabel('Count')\n",
    "    ax[0,idx].set_title(f)\n"
   ]
  },
  {
   "cell_type": "code",
   "execution_count": null,
   "metadata": {},
   "outputs": [],
   "source": [
    "# Define Models\n",
    "temp = join(flat_files.ecoli_files_dir, 'iYO844.json')\n",
    "clean_bsub = cobra.io.load_json_model(temp)"
   ]
  },
  {
   "cell_type": "code",
   "execution_count": null,
   "metadata": {
    "scrolled": true
   },
   "outputs": [],
   "source": [
    "me_dict = me.get_metabolic_flux()\n",
    "clean_bsub.optimize()\n",
    "m_dict = clean_bsub.solution.x_dict\n",
    "\n",
    "comparison_dict = {}\n",
    "for r in me_dict:\n",
    "    if r not in m_dict:\n",
    "        print('Skipping {}'.format(r))\n",
    "        continue\n",
    "    comparison_dict[r] = {}\n",
    "    comparison_dict[r]['m'] = m_dict[r]\n",
    "    comparison_dict[r]['me'] = me_dict[r]"
   ]
  },
  {
   "cell_type": "code",
   "execution_count": null,
   "metadata": {},
   "outputs": [],
   "source": [
    "df = pd.DataFrame.from_dict(comparison_dict).T"
   ]
  },
  {
   "cell_type": "code",
   "execution_count": null,
   "metadata": {},
   "outputs": [],
   "source": [
    "np.log10(df[df.abs()>0]).plot(x='m',y='me',style='o',figsize=(6.5,5))\n",
    "plt.plot([-6,2],[-6,2],'--k')\n",
    "\n",
    "plt.xlim([-6.5,6.5])\n",
    "plt.ylabel('ME-predictions')\n",
    "plt.xlabel('Mm-predictions')\n"
   ]
  },
  {
   "cell_type": "code",
   "execution_count": null,
   "metadata": {},
   "outputs": [],
   "source": [
    "fig = plt.figure(figsize=(6.5,5))\n",
    "np.log10(df[df.abs()>0])['m'].hist(bins=50,alpha=0.5,label='m')\n",
    "np.log10(df[df.abs()>0])['me'].hist(bins=40,alpha=0.5,label='me')\n",
    "\n",
    "plt.xlabel('log10(flux)')\n",
    "plt.ylabel('Count')\n",
    "plt.legend()\n"
   ]
  },
  {
   "cell_type": "code",
   "execution_count": null,
   "metadata": {},
   "outputs": [],
   "source": []
  }
 ],
 "metadata": {
  "celltoolbar": "Raw Cell Format",
  "kernelspec": {
   "display_name": "python3.7-cobrame",
   "language": "python",
   "name": "python3.7-cobrame"
  },
  "language_info": {
   "codemirror_mode": {
    "name": "ipython",
    "version": 3
   },
   "file_extension": ".py",
   "mimetype": "text/x-python",
   "name": "python",
   "nbconvert_exporter": "python",
   "pygments_lexer": "ipython3",
   "version": "3.7.8"
  }
 },
 "nbformat": 4,
 "nbformat_minor": 4
}
