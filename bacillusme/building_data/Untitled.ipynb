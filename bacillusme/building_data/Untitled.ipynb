{
 "cells": [
  {
   "cell_type": "code",
   "execution_count": null,
   "metadata": {},
   "outputs": [],
   "source": []
  },
  {
   "cell_type": "code",
   "execution_count": 3,
   "metadata": {},
   "outputs": [],
   "source": [
    "from bs4 import BeautifulSoup"
   ]
  },
  {
   "cell_type": "code",
   "execution_count": 2,
   "metadata": {},
   "outputs": [
    {
     "data": {
      "text/plain": [
       "['/home/jt/UCSD/ME_modelling/ME_env/lib/python36.zip',\n",
       " '/home/jt/UCSD/ME_modelling/ME_env/lib/python3.6',\n",
       " '/home/jt/UCSD/ME_modelling/ME_env/lib/python3.6/lib-dynload',\n",
       " '/usr/local/lib/python3.6',\n",
       " '',\n",
       " '/home/jt/UCSD/ME_modelling/ME_env/lib/python3.6/site-packages',\n",
       " '/home/jt/Downloads/cobrapy-0.5.11',\n",
       " '/home/jt/UCSD/solvemepy-master',\n",
       " '/home/jt/UCSD/cobrame-master',\n",
       " '/home/jt/UCSD/ME_modelling/ME_env/lib/python3.6/site-packages/scipy-1.4.1-py3.6-linux-x86_64.egg',\n",
       " '/home/jt/UCSD/ME_modelling/ME_env/lib/python3.6/site-packages/biopython-1.76-py3.6-linux-x86_64.egg',\n",
       " '/home/jt/UCSD/bacillusme-master',\n",
       " '/home/jt/UCSD/ME_modelling/ME_env/lib/python3.6/site-packages/xlrd-1.2.0-py3.6.egg',\n",
       " '/home/jt/UCSD/ME_modelling/ME_env/lib/python3.6/site-packages',\n",
       " '/home/jt/UCSD/ME_modelling/ME_env/lib/python3.6/site-packages/IPython/extensions',\n",
       " '/home/jt/.ipython']"
      ]
     },
     "execution_count": 2,
     "metadata": {},
     "output_type": "execute_result"
    }
   ],
   "source": [
    "import sys\n",
    "sys.path"
   ]
  },
  {
   "cell_type": "code",
   "execution_count": null,
   "metadata": {},
   "outputs": [],
   "source": []
  }
 ],
 "metadata": {
  "kernelspec": {
   "display_name": "Python 3",
   "language": "python",
   "name": "python3"
  },
  "language_info": {
   "codemirror_mode": {
    "name": "ipython",
    "version": 3
   },
   "file_extension": ".py",
   "mimetype": "text/x-python",
   "name": "python",
   "nbconvert_exporter": "python",
   "pygments_lexer": "ipython3",
   "version": "3.6.3"
  }
 },
 "nbformat": 4,
 "nbformat_minor": 2
}
