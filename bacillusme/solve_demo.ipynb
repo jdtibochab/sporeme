{
 "cells": [
  {
   "cell_type": "code",
   "execution_count": 1,
   "metadata": {},
   "outputs": [
    {
     "name": "stderr",
     "output_type": "stream",
     "text": [
      "/home/jt/work/cobrapy-0.5.11/cobra/io/sbml3.py:24: UserWarning: Install lxml for faster SBML I/O\n",
      "  warn(\"Install lxml for faster SBML I/O\")\n",
      "/home/jt/work/cobrapy-0.5.11/cobra/io/__init__.py:12: UserWarning: cobra.io.sbml requires libsbml\n",
      "  warn(\"cobra.io.sbml requires libsbml\")\n"
     ]
    }
   ],
   "source": [
    "import qminospy\n",
    "from qminospy.me2 import ME_NLP\n",
    "import cobra\n",
    "import cobrame\n",
    "import pickle"
   ]
  },
  {
   "cell_type": "markdown",
   "metadata": {},
   "source": [
    "## Load Mother ME-model"
   ]
  },
  {
   "cell_type": "code",
   "execution_count": 2,
   "metadata": {},
   "outputs": [],
   "source": [
    "with open('./me_models/solution_mother.pickle', 'rb') as f:\n",
    "    mother = pickle.load(f)"
   ]
  },
  {
   "cell_type": "markdown",
   "metadata": {},
   "source": [
    "## Load Spore ME-model"
   ]
  },
  {
   "cell_type": "code",
   "execution_count": 3,
   "metadata": {},
   "outputs": [],
   "source": [
    "with open('./me_models/solution_spore.pickle', 'rb') as f:\n",
    "    spore = pickle.load(f)"
   ]
  },
  {
   "cell_type": "markdown",
   "metadata": {},
   "source": [
    "## Load ME-model"
   ]
  },
  {
   "cell_type": "code",
   "execution_count": 4,
   "metadata": {},
   "outputs": [],
   "source": [
    "with open('./me_models/solution.pickle', 'rb') as f:\n",
    "    me = pickle.load(f)"
   ]
  },
  {
   "cell_type": "markdown",
   "metadata": {},
   "source": [
    "## Solving a ME-model"
   ]
  },
  {
   "cell_type": "code",
   "execution_count": 5,
   "metadata": {},
   "outputs": [],
   "source": [
    "def solve_me_model(me, max_mu=1., precision=1e-6, min_mu=0, using_soplex=True,\n",
    "                  compiled_expressions=None, verbosity = 2, mu_fix = False,\n",
    "                  growth_key='mu'):\n",
    "    from qminospy.me1 import ME_NLP1\n",
    "    ## If fixed growth rate, solve as LP\n",
    "    if mu_fix:\n",
    "        me_nlp = ME_NLP1(me)\n",
    "        me_nlp.solvelp(mu_fix)\n",
    "    else:\n",
    "        ## \n",
    "        if using_soplex:\n",
    "            from cobrame.solve.algorithms import binary_search\n",
    "            binary_search(me, min_mu=min_mu, max_mu=max_mu, debug=True, mu_accuracy=precision,\n",
    "                compiled_expressions=compiled_expressions)\n",
    "        else:\n",
    "            # The object containing solveME methods--composite that uses a ME model object \n",
    "            me_nlp = ME_NLP1(me, growth_key=growth_key)\n",
    "            # Use bisection for now (until the NLP formulation is worked out)\n",
    "            muopt, hs, xopt, cache = me_nlp.bisectmu(precision=precision, mumax=max_mu, verbosity=verbosity)\n",
    "            try:\n",
    "                me.solution.f = me.solution.x_dict['biomass_dilution']\n",
    "            except:\n",
    "                pass\n"
   ]
  },
  {
   "cell_type": "code",
   "execution_count": null,
   "metadata": {
    "scrolled": true,
    "tags": []
   },
   "outputs": [
    {
     "name": "stdout",
     "output_type": "stream",
     "text": [
      "iter\tmuopt    \ta     \tb     \tmu1       \tstat1\n",
      "Finished compiling expressions in 30.479065 seconds\n",
      "Finished substituting S,lb,ub in 1.065972 seconds\n",
      "Finished makeME_LP in 0.152913 seconds\n",
      "Getting MINOS parameters from ME_NLP...\n",
      "1 0.0 0.0 0.25 0.25 1\n"
     ]
    }
   ],
   "source": [
    "solve_me_model(me, max_mu = 0.5, min_mu = .05, using_soplex=False, precision = 1e-2)"
   ]
  }
 ],
 "metadata": {
  "kernelspec": {
   "display_name": "python3.7-cobrame",
   "language": "python",
   "name": "python3.7-cobrame"
  },
  "language_info": {
   "codemirror_mode": {
    "name": "ipython",
    "version": 3
   },
   "file_extension": ".py",
   "mimetype": "text/x-python",
   "name": "python",
   "nbconvert_exporter": "python",
   "pygments_lexer": "ipython3",
   "version": "3.7.8"
  }
 },
 "nbformat": 4,
 "nbformat_minor": 4
}
