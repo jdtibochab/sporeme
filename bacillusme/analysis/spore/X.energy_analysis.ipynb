{
 "cells": [
  {
   "cell_type": "markdown",
   "metadata": {},
   "source": [
    "# Transporter analysis of bacillus mother-spore"
   ]
  },
  {
   "cell_type": "code",
   "execution_count": 2,
   "metadata": {
    "scrolled": true
   },
   "outputs": [
    {
     "name": "stderr",
     "output_type": "stream",
     "text": [
      "/home/jt/me_modeling/lib/python3.6/site-packages/cobra-0.5.11-py3.6-linux-x86_64.egg/cobra/io/sbml3.py:24: UserWarning: Install lxml for faster SBML I/O\n",
      "  warn(\"Install lxml for faster SBML I/O\")\n",
      "/home/jt/me_modeling/lib/python3.6/site-packages/cobra-0.5.11-py3.6-linux-x86_64.egg/cobra/io/__init__.py:12: UserWarning: cobra.io.sbml requires libsbml\n",
      "  warn(\"cobra.io.sbml requires libsbml\")\n"
     ]
    },
    {
     "name": "stdout",
     "output_type": "stream",
     "text": [
      "/home/jt/me_modeling/lib/python3.6/site-packages/cobra-0.5.11-py3.6-linux-x86_64.egg/cobra/__init__.py\n",
      "/home/jt/UCSD/cobrame/cobrame/__init__.py\n",
      "/home/jt/UCSD/bacillusme-master/bacillusme/__init__.py\n"
     ]
    }
   ],
   "source": [
    "from __future__ import print_function, division, absolute_import\n",
    "\n",
    "import sys\n",
    "\n",
    "import qminospy\n",
    "from qminospy.me2 import ME_NLP\n",
    "\n",
    "# python imports\n",
    "from copy import copy\n",
    "import re\n",
    "from os.path import join, dirname, abspath\n",
    "import sys\n",
    "sys.path.append('/home/UCSD/cobra_utils')\n",
    "from collections import defaultdict\n",
    "import pickle\n",
    "\n",
    "# third party imports\n",
    "import pandas\n",
    "import cobra\n",
    "from tqdm import tqdm\n",
    "import numpy as np\n",
    "import scipy\n",
    "\n",
    "# COBRAme\n",
    "import cobrame\n",
    "from cobrame.util import building, mu, me_model_interface\n",
    "from cobrame.io.json import save_json_me_model, save_reduced_json_me_model\n",
    "\n",
    "# ECOLIme\n",
    "import bacillusme\n",
    "from bacillusme import (transcription, translation, flat_files, generics, formulas, compartments)\n",
    "from cobrame.util.helper_functions import *\n",
    "\n",
    "import copy\n",
    "from scipy import stats\n",
    "import matplotlib.pyplot as plt\n",
    "%load_ext autoreload\n",
    "%autoreload 2\n",
    "print(cobra.__file__)\n",
    "print(cobrame.__file__)\n",
    "print(bacillusme.__file__)\n",
    "ecoli_files = dirname(abspath(bacillusme.__file__))\n",
    "pd.set_option('display.max_colwidth', None)"
   ]
  },
  {
   "cell_type": "code",
   "execution_count": 3,
   "metadata": {},
   "outputs": [],
   "source": [
    "with open(\"../../me_models/solution.pickle\", \"rb\") as outfile:\n",
    "    me = pickle.load(outfile)"
   ]
  },
  {
   "cell_type": "markdown",
   "metadata": {},
   "source": [
    "### Closing mechanisms"
   ]
  },
  {
   "cell_type": "code",
   "execution_count": 4,
   "metadata": {
    "scrolled": true
   },
   "outputs": [],
   "source": [
    "with open(\"./sporeme_solution_v4_proteomics.pickle\", \"rb\") as outfile:\n",
    "    sporeme = pickle.load(outfile)"
   ]
  },
  {
   "cell_type": "code",
   "execution_count": 5,
   "metadata": {},
   "outputs": [],
   "source": [
    "main_mechanisms = [ 'ACKr_REV_BSU29470-MONOMER',\n",
    "                    'PGK_REV_BSU33930-MONOMER',\n",
    "                    'PYK_FWD_BSU29180-MONOMER_mod_mn2_mod_k']"
   ]
  },
  {
   "cell_type": "code",
   "execution_count": 6,
   "metadata": {},
   "outputs": [],
   "source": [
    "for r in main_mechanisms:\n",
    "    sporeme.reactions.get_by_id(r).bounds = (0,0)\n",
    "    sporeme.reactions.get_by_id(r+'_s').bounds = (0,0)"
   ]
  },
  {
   "cell_type": "code",
   "execution_count": 7,
   "metadata": {},
   "outputs": [],
   "source": [
    "version = 'v5_KO_ACK_PGK_PYK'"
   ]
  },
  {
   "cell_type": "code",
   "execution_count": 9,
   "metadata": {
    "scrolled": true,
    "tags": []
   },
   "outputs": [
    {
     "name": "stdout",
     "output_type": "stream",
     "text": [
      "iter\tmuopt    \ta     \tb     \tmu1       \tstat1\n",
      "Finished compiling expressions in 248.511381 seconds\n",
      "Finished substituting S,lb,ub in 7.094637 seconds\n",
      "Finished makeME_LP in 1.522246 seconds\n",
      "Getting MINOS parameters from ME_NLP...\n",
      "1 0.0 0.0 0.05 0.05 1\n",
      "Finished substituting S,lb,ub in 7.121589 seconds\n",
      "Finished makeME_LP in 1.508124 seconds\n",
      "Getting MINOS parameters from ME_NLP...\n",
      "2 0.0 0.0 0.025 0.025 1\n",
      "Finished substituting S,lb,ub in 7.103040 seconds\n",
      "Finished makeME_LP in 1.499345 seconds\n",
      "Getting MINOS parameters from ME_NLP...\n",
      "3 0.0 0.0 0.0125 0.0125 1\n",
      "Finished substituting S,lb,ub in 7.101150 seconds\n",
      "Finished makeME_LP in 1.501006 seconds\n",
      "Getting MINOS parameters from ME_NLP...\n",
      "4 0.00625 0.00625 0.0125 0.00625 optimal\n",
      "Finished substituting S,lb,ub in 7.148437 seconds\n",
      "Finished makeME_LP in 1.523553 seconds\n",
      "Getting MINOS parameters from ME_NLP...\n",
      "5 0.009375000000000001 0.009375000000000001 0.0125 0.009375000000000001 optimal\n",
      "Finished substituting S,lb,ub in 7.080312 seconds\n",
      "Finished makeME_LP in 1.506168 seconds\n",
      "Getting MINOS parameters from ME_NLP...\n",
      "6 0.009375000000000001 0.009375000000000001 0.010937500000000001 0.010937500000000001 1\n",
      "Finished substituting S,lb,ub in 6.898724 seconds\n",
      "Finished makeME_LP in 1.521826 seconds\n",
      "Getting MINOS parameters from ME_NLP...\n",
      "7 0.010156250000000002 0.010156250000000002 0.010937500000000001 0.010156250000000002 optimal\n",
      "Bisection done in 1401.1 seconds\n"
     ]
    }
   ],
   "source": [
    "solve_me_model(sporeme, max_mu = 0.1, min_mu = .01, using_soplex=False, precision = 1e-3,growth_key = 'sigma')"
   ]
  },
  {
   "cell_type": "code",
   "execution_count": 10,
   "metadata": {},
   "outputs": [
    {
     "data": {
      "text/plain": [
       "0.010156250000000002"
      ]
     },
     "execution_count": 10,
     "metadata": {},
     "output_type": "execute_result"
    }
   ],
   "source": [
    "sporeme.solution.x_dict['biomass_dilution_s']"
   ]
  },
  {
   "cell_type": "code",
   "execution_count": 11,
   "metadata": {
    "scrolled": true,
    "tags": []
   },
   "outputs": [
    {
     "name": "stdout",
     "output_type": "stream",
     "text": [
      "iter\tmuopt    \ta     \tb     \tmu1       \tstat1\n",
      "Finished compiling expressions in 247.352470 seconds\n",
      "Finished substituting S,lb,ub in 7.186478 seconds\n",
      "Finished makeME_LP in 1.510343 seconds\n",
      "Getting MINOS parameters from ME_NLP...\n",
      "1 0.0 0.0 0.05 0.05 1\n",
      "Finished substituting S,lb,ub in 7.239314 seconds\n",
      "Finished makeME_LP in 1.509732 seconds\n",
      "Getting MINOS parameters from ME_NLP...\n",
      "2 0.0 0.0 0.025 0.025 1\n",
      "Finished substituting S,lb,ub in 7.224814 seconds\n",
      "Finished makeME_LP in 1.514063 seconds\n",
      "Getting MINOS parameters from ME_NLP...\n",
      "3 0.0 0.0 0.0125 0.0125 1\n",
      "Finished substituting S,lb,ub in 7.171512 seconds\n",
      "Finished makeME_LP in 1.501719 seconds\n",
      "Getting MINOS parameters from ME_NLP...\n",
      "4 0.0 0.0 0.00625 0.00625 1\n",
      "Finished substituting S,lb,ub in 7.181740 seconds\n",
      "Finished makeME_LP in 1.519977 seconds\n",
      "Getting MINOS parameters from ME_NLP...\n",
      "5 0.0 0.0 0.003125 0.003125 1\n",
      "Finished substituting S,lb,ub in 7.212373 seconds\n",
      "Finished makeME_LP in 1.506061 seconds\n",
      "Getting MINOS parameters from ME_NLP...\n",
      "6 0.0 0.0 0.0015625 0.0015625 1\n",
      "Finished substituting S,lb,ub in 7.172508 seconds\n",
      "Finished makeME_LP in 1.503221 seconds\n",
      "Getting MINOS parameters from ME_NLP...\n",
      "7 0.0 0.0 0.00078125 0.00078125 1\n",
      "Bisection done in 2483.25 seconds\n"
     ]
    }
   ],
   "source": [
    "sporeme.reactions.get_by_id('PRPPS_REV_BSU00510-MONOMER_mod_mn2_mod_pi_s').bounds = (0,0)\n",
    "solve_me_model(sporeme, max_mu = 0.1, min_mu = .01, using_soplex=False, precision = 1e-3,growth_key = 'sigma')"
   ]
  },
  {
   "cell_type": "code",
   "execution_count": 145,
   "metadata": {},
   "outputs": [],
   "source": [
    "if sporeme.solution: sporeme.solution.x_dict['biomass_dilution_s']"
   ]
  },
  {
   "cell_type": "markdown",
   "metadata": {},
   "source": [
    "### GK"
   ]
  },
  {
   "cell_type": "code",
   "execution_count": 87,
   "metadata": {},
   "outputs": [],
   "source": [
    "with open(\"./sporeme_solution_v3.pickle\", \"rb\") as outfile:\n",
    "    sporeme = pickle.load(outfile)"
   ]
  },
  {
   "cell_type": "code",
   "execution_count": 88,
   "metadata": {},
   "outputs": [
    {
     "name": "stdout",
     "output_type": "stream",
     "text": [
      "formation_BSU15680-MONOMER_mod_mg2_s\n",
      "DGK1_REV_BSU15680-MONOMER_mod_mg2_s\n",
      "DGK1_FWD_BSU15680-MONOMER_mod_mg2_s\n",
      "GK1_REV_BSU15680-MONOMER_mod_mg2_s\n",
      "GK1_FWD_BSU15680-MONOMER_mod_mg2_s\n",
      "GK2_REV_BSU15680-MONOMER_mod_mg2_s\n",
      "GK2_FWD_BSU15680-MONOMER_mod_mg2_s\n"
     ]
    }
   ],
   "source": [
    "for r in sporeme.reactions.query(re.compile('BSU15680-MONOMER.*_s$')):\n",
    "    print(r.id)\n",
    "    r.bounds = (0,0)"
   ]
  },
  {
   "cell_type": "code",
   "execution_count": 89,
   "metadata": {
    "scrolled": true,
    "tags": []
   },
   "outputs": [
    {
     "name": "stdout",
     "output_type": "stream",
     "text": [
      "iter\tmuopt    \ta     \tb     \tmu1       \tstat1\n",
      "Finished compiling expressions in 249.921906 seconds\n",
      "Finished substituting S,lb,ub in 7.332601 seconds\n",
      "Finished makeME_LP in 1.530706 seconds\n",
      "Getting MINOS parameters from ME_NLP...\n",
      "1 0.0 0.0 0.05 0.05 1\n",
      "Finished substituting S,lb,ub in 7.339327 seconds\n",
      "Finished makeME_LP in 1.531912 seconds\n",
      "Getting MINOS parameters from ME_NLP...\n",
      "2 0.0 0.0 0.025 0.025 1\n",
      "Finished substituting S,lb,ub in 7.365429 seconds\n",
      "Finished makeME_LP in 1.534005 seconds\n",
      "Getting MINOS parameters from ME_NLP...\n"
     ]
    },
    {
     "ename": "KeyboardInterrupt",
     "evalue": "",
     "output_type": "error",
     "traceback": [
      "\u001b[0;31m---------------------------------------------------------------------------\u001b[0m",
      "\u001b[0;31mKeyboardInterrupt\u001b[0m                         Traceback (most recent call last)",
      "\u001b[0;32m<ipython-input-89-195d26e92052>\u001b[0m in \u001b[0;36m<module>\u001b[0;34m\u001b[0m\n\u001b[0;32m----> 1\u001b[0;31m \u001b[0msolve_me_model\u001b[0m\u001b[0;34m(\u001b[0m\u001b[0msporeme\u001b[0m\u001b[0;34m,\u001b[0m \u001b[0mmax_mu\u001b[0m \u001b[0;34m=\u001b[0m \u001b[0;36m0.1\u001b[0m\u001b[0;34m,\u001b[0m \u001b[0mmin_mu\u001b[0m \u001b[0;34m=\u001b[0m \u001b[0;36m.01\u001b[0m\u001b[0;34m,\u001b[0m \u001b[0musing_soplex\u001b[0m\u001b[0;34m=\u001b[0m\u001b[0;32mFalse\u001b[0m\u001b[0;34m,\u001b[0m \u001b[0mprecision\u001b[0m \u001b[0;34m=\u001b[0m \u001b[0;36m1e-3\u001b[0m\u001b[0;34m,\u001b[0m\u001b[0mgrowth_key\u001b[0m \u001b[0;34m=\u001b[0m \u001b[0;34m'sigma'\u001b[0m\u001b[0;34m)\u001b[0m\u001b[0;34m\u001b[0m\u001b[0;34m\u001b[0m\u001b[0m\n\u001b[0m",
      "\u001b[0;32m~/UCSD/cobrame/cobrame/util/helper_functions.py\u001b[0m in \u001b[0;36msolve_me_model\u001b[0;34m(me, max_mu, precision, min_mu, using_soplex, compiled_expressions, verbosity, mu_fix, growth_key)\u001b[0m\n\u001b[1;32m    309\u001b[0m             \u001b[0mme_nlp\u001b[0m \u001b[0;34m=\u001b[0m \u001b[0mME_NLP1\u001b[0m\u001b[0;34m(\u001b[0m\u001b[0mme\u001b[0m\u001b[0;34m,\u001b[0m \u001b[0mgrowth_key\u001b[0m\u001b[0;34m=\u001b[0m\u001b[0mgrowth_key\u001b[0m\u001b[0;34m)\u001b[0m\u001b[0;34m\u001b[0m\u001b[0;34m\u001b[0m\u001b[0m\n\u001b[1;32m    310\u001b[0m             \u001b[0;31m# Use bisection for now (until the NLP formulation is worked out)\u001b[0m\u001b[0;34m\u001b[0m\u001b[0;34m\u001b[0m\u001b[0;34m\u001b[0m\u001b[0m\n\u001b[0;32m--> 311\u001b[0;31m             \u001b[0mmuopt\u001b[0m\u001b[0;34m,\u001b[0m \u001b[0mhs\u001b[0m\u001b[0;34m,\u001b[0m \u001b[0mxopt\u001b[0m\u001b[0;34m,\u001b[0m \u001b[0mcache\u001b[0m \u001b[0;34m=\u001b[0m \u001b[0mme_nlp\u001b[0m\u001b[0;34m.\u001b[0m\u001b[0mbisectmu\u001b[0m\u001b[0;34m(\u001b[0m\u001b[0mprecision\u001b[0m\u001b[0;34m=\u001b[0m\u001b[0mprecision\u001b[0m\u001b[0;34m,\u001b[0m \u001b[0mmumax\u001b[0m\u001b[0;34m=\u001b[0m\u001b[0mmax_mu\u001b[0m\u001b[0;34m,\u001b[0m \u001b[0mverbosity\u001b[0m\u001b[0;34m=\u001b[0m\u001b[0mverbosity\u001b[0m\u001b[0;34m)\u001b[0m\u001b[0;34m\u001b[0m\u001b[0;34m\u001b[0m\u001b[0m\n\u001b[0m\u001b[1;32m    312\u001b[0m             \u001b[0;32mtry\u001b[0m\u001b[0;34m:\u001b[0m\u001b[0;34m\u001b[0m\u001b[0;34m\u001b[0m\u001b[0m\n\u001b[1;32m    313\u001b[0m                 \u001b[0mme\u001b[0m\u001b[0;34m.\u001b[0m\u001b[0msolution\u001b[0m\u001b[0;34m.\u001b[0m\u001b[0mf\u001b[0m \u001b[0;34m=\u001b[0m \u001b[0mme\u001b[0m\u001b[0;34m.\u001b[0m\u001b[0msolution\u001b[0m\u001b[0;34m.\u001b[0m\u001b[0mx_dict\u001b[0m\u001b[0;34m[\u001b[0m\u001b[0;34m'biomass_dilution'\u001b[0m\u001b[0;34m]\u001b[0m\u001b[0;34m\u001b[0m\u001b[0;34m\u001b[0m\u001b[0m\n",
      "\u001b[0;32m~/UCSD/solvemepy-master/qminospy/me1.py\u001b[0m in \u001b[0;36mbisectmu\u001b[0;34m(self, precision, mumin, mumax, maxIter, quad, basis, nlp_compat, check_feas0, zero_mu, verbosity, solver_precision)\u001b[0m\n\u001b[1;32m    463\u001b[0m             \u001b[0mmu1\u001b[0m \u001b[0;34m=\u001b[0m \u001b[0;34m(\u001b[0m\u001b[0ma\u001b[0m\u001b[0;34m+\u001b[0m\u001b[0mb\u001b[0m\u001b[0;34m)\u001b[0m\u001b[0;34m/\u001b[0m\u001b[0;36m2.\u001b[0m\u001b[0;34m\u001b[0m\u001b[0;34m\u001b[0m\u001b[0m\n\u001b[1;32m    464\u001b[0m             \u001b[0;31m# Retrieve evaluation from cache if it exists: golden section advantage\u001b[0m\u001b[0;34m\u001b[0m\u001b[0;34m\u001b[0m\u001b[0;34m\u001b[0m\u001b[0m\n\u001b[0;32m--> 465\u001b[0;31m             \u001b[0mstat1\u001b[0m\u001b[0;34m,\u001b[0m \u001b[0mhs\u001b[0m\u001b[0;34m,\u001b[0m \u001b[0msol1\u001b[0m\u001b[0;34m,\u001b[0m \u001b[0mx1\u001b[0m \u001b[0;34m=\u001b[0m \u001b[0mcheckmu\u001b[0m\u001b[0;34m(\u001b[0m\u001b[0mmu1\u001b[0m\u001b[0;34m,\u001b[0m \u001b[0mhs\u001b[0m\u001b[0;34m)\u001b[0m\u001b[0;34m\u001b[0m\u001b[0;34m\u001b[0m\u001b[0m\n\u001b[0m\u001b[1;32m    466\u001b[0m             \u001b[0;32mif\u001b[0m \u001b[0mstat1\u001b[0m \u001b[0;32mis\u001b[0m \u001b[0;34m'optimal'\u001b[0m\u001b[0;34m:\u001b[0m\u001b[0;34m\u001b[0m\u001b[0;34m\u001b[0m\u001b[0m\n\u001b[1;32m    467\u001b[0m                 \u001b[0ma\u001b[0m \u001b[0;34m=\u001b[0m \u001b[0mmu1\u001b[0m\u001b[0;34m\u001b[0m\u001b[0;34m\u001b[0m\u001b[0m\n",
      "\u001b[0;32m~/UCSD/solvemepy-master/qminospy/me1.py\u001b[0m in \u001b[0;36mcheckmu\u001b[0;34m(muf, hs)\u001b[0m\n\u001b[1;32m    437\u001b[0m                 x_new, stat_new, hs_new = self.solvelp(\n\u001b[1;32m    438\u001b[0m                     \u001b[0mmuf\u001b[0m\u001b[0;34m,\u001b[0m \u001b[0mbasis\u001b[0m\u001b[0;34m=\u001b[0m\u001b[0mhs\u001b[0m\u001b[0;34m,\u001b[0m \u001b[0mnlp_compat\u001b[0m\u001b[0;34m=\u001b[0m\u001b[0mnlp_compat\u001b[0m\u001b[0;34m,\u001b[0m \u001b[0mverbosity\u001b[0m\u001b[0;34m=\u001b[0m\u001b[0mverbosity\u001b[0m\u001b[0;34m,\u001b[0m\u001b[0;34m\u001b[0m\u001b[0;34m\u001b[0m\u001b[0m\n\u001b[0;32m--> 439\u001b[0;31m                     precision=solver_precision)\n\u001b[0m\u001b[1;32m    440\u001b[0m                 \u001b[0;32mif\u001b[0m \u001b[0mme\u001b[0m\u001b[0;34m.\u001b[0m\u001b[0msolution\u001b[0m\u001b[0;34m.\u001b[0m\u001b[0mstatus\u001b[0m \u001b[0;32mis\u001b[0m \u001b[0;34m'optimal'\u001b[0m\u001b[0;34m:\u001b[0m\u001b[0;34m\u001b[0m\u001b[0;34m\u001b[0m\u001b[0m\n\u001b[1;32m    441\u001b[0m                     \u001b[0mhs\u001b[0m \u001b[0;34m=\u001b[0m \u001b[0mhs_new\u001b[0m\u001b[0;34m\u001b[0m\u001b[0;34m\u001b[0m\u001b[0m\n",
      "\u001b[0;32m~/UCSD/solvemepy-master/qminospy/me2.py\u001b[0m in \u001b[0;36msolvelp\u001b[0;34m(self, muf, quad, basis, nlp_compat, verbose, lpopt_file, verbosity, precision)\u001b[0m\n\u001b[1;32m    396\u001b[0m                                       \u001b[0mnstropts\u001b[0m \u001b[0;34m=\u001b[0m \u001b[0mnStrOpts\u001b[0m\u001b[0;34m,\u001b[0m\u001b[0;34m\u001b[0m\u001b[0;34m\u001b[0m\u001b[0m\n\u001b[1;32m    397\u001b[0m                                       \u001b[0mnintopts\u001b[0m \u001b[0;34m=\u001b[0m \u001b[0mnIntOpts\u001b[0m\u001b[0;34m,\u001b[0m\u001b[0;34m\u001b[0m\u001b[0;34m\u001b[0m\u001b[0m\n\u001b[0;32m--> 398\u001b[0;31m                                       nrealopts = nRealOpts)\n\u001b[0m\u001b[1;32m    399\u001b[0m         \u001b[0;32melif\u001b[0m \u001b[0mprecision\u001b[0m \u001b[0;34m==\u001b[0m \u001b[0;34m'double'\u001b[0m\u001b[0;34m:\u001b[0m\u001b[0;34m\u001b[0m\u001b[0;34m\u001b[0m\u001b[0m\n\u001b[1;32m    400\u001b[0m             \u001b[0mstropts\u001b[0m\u001b[0;34m,\u001b[0m\u001b[0mintopts\u001b[0m\u001b[0;34m,\u001b[0m\u001b[0mrealopts\u001b[0m\u001b[0;34m,\u001b[0m\u001b[0mintvals\u001b[0m\u001b[0;34m,\u001b[0m\u001b[0mrealvals\u001b[0m\u001b[0;34m,\u001b[0m\u001b[0mnStrOpts\u001b[0m\u001b[0;34m,\u001b[0m\u001b[0mnIntOpts\u001b[0m\u001b[0;34m,\u001b[0m\u001b[0mnRealOpts\u001b[0m \u001b[0;34m=\u001b[0m\u001b[0;31m\\\u001b[0m\u001b[0;34m\u001b[0m\u001b[0;34m\u001b[0m\u001b[0m\n",
      "\u001b[0;31mKeyboardInterrupt\u001b[0m: "
     ]
    }
   ],
   "source": [
    "solve_me_model(sporeme, max_mu = 0.1, min_mu = .01, using_soplex=False, precision = 1e-3,growth_key = 'sigma')"
   ]
  },
  {
   "cell_type": "code",
   "execution_count": null,
   "metadata": {},
   "outputs": [],
   "source": [
    "if sporeme.solution: sporeme.solution.x_dict['biomass_dilution_s']"
   ]
  },
  {
   "cell_type": "code",
   "execution_count": 81,
   "metadata": {},
   "outputs": [
    {
     "data": {
      "text/html": [
       "<div>\n",
       "<style scoped>\n",
       "    .dataframe tbody tr th:only-of-type {\n",
       "        vertical-align: middle;\n",
       "    }\n",
       "\n",
       "    .dataframe tbody tr th {\n",
       "        vertical-align: top;\n",
       "    }\n",
       "\n",
       "    .dataframe thead th {\n",
       "        text-align: right;\n",
       "    }\n",
       "</style>\n",
       "<table border=\"1\" class=\"dataframe\">\n",
       "  <thead>\n",
       "    <tr style=\"text-align: right;\">\n",
       "      <th></th>\n",
       "      <th>lb</th>\n",
       "      <th>ub</th>\n",
       "      <th>rxn_flux</th>\n",
       "      <th>met_flux</th>\n",
       "      <th>reaction</th>\n",
       "    </tr>\n",
       "  </thead>\n",
       "  <tbody>\n",
       "    <tr>\n",
       "      <th>FUM_FWD_BSU33040-MONOMER</th>\n",
       "      <td>0</td>\n",
       "      <td>999999</td>\n",
       "      <td>2.31881</td>\n",
       "      <td>-2.31881</td>\n",
       "      <td>fum_c + h2o_c --&gt; -2.39256977563745e-6*sigma BSU33040-MONOMER + mal__L_c</td>\n",
       "    </tr>\n",
       "    <tr>\n",
       "      <th>SUCD1_FWD_CPLX8J2-15</th>\n",
       "      <td>0</td>\n",
       "      <td>999999</td>\n",
       "      <td>2.28039</td>\n",
       "      <td>2.28039</td>\n",
       "      <td>fad_c + succ_c --&gt; -4.27350427350427e-6*sigma CPLX8J2-15 + fadh2_c + fum_c</td>\n",
       "    </tr>\n",
       "    <tr>\n",
       "      <th>ADSL2r_FWD_BSU06440-MONOMER</th>\n",
       "      <td>0</td>\n",
       "      <td>999999</td>\n",
       "      <td>0.0161137</td>\n",
       "      <td>0.0161137</td>\n",
       "      <td>25aics_c --&gt; -1.06664492347285e-5*sigma BSU06440-MONOMER + aicar_c + fum_c</td>\n",
       "    </tr>\n",
       "    <tr>\n",
       "      <th>ADSL1r_FWD_BSU06440-MONOMER</th>\n",
       "      <td>0</td>\n",
       "      <td>999999</td>\n",
       "      <td>0.0141867</td>\n",
       "      <td>0.0141867</td>\n",
       "      <td>dcamp_c --&gt; -4.27350427350427e-6*sigma BSU06440-MONOMER + amp_c + fum_c</td>\n",
       "    </tr>\n",
       "    <tr>\n",
       "      <th>ARGSL_FWD_BSU29440-MONOMER</th>\n",
       "      <td>0</td>\n",
       "      <td>999999</td>\n",
       "      <td>0.00811811</td>\n",
       "      <td>0.00811811</td>\n",
       "      <td>argsuc_c --&gt; -1.02894591975503e-5*sigma BSU29440-MONOMER + arg__L_c + fum_c</td>\n",
       "    </tr>\n",
       "    <tr>\n",
       "      <th>ADSL2r_REV_BSU06440-MONOMER</th>\n",
       "      <td>0</td>\n",
       "      <td>999999</td>\n",
       "      <td>0</td>\n",
       "      <td>-0</td>\n",
       "      <td>aicar_c + fum_c --&gt; 25aics_c + -1.06664492347285e-5*sigma BSU06440-MONOMER</td>\n",
       "    </tr>\n",
       "    <tr>\n",
       "      <th>FUMt2r_FWD_BSU04470-MONOMER</th>\n",
       "      <td>0</td>\n",
       "      <td>999999</td>\n",
       "      <td>0</td>\n",
       "      <td>0</td>\n",
       "      <td>fum_e + h_e --&gt; -4.27350427350427e-6*sigma BSU04470-MONOMER + fum_c + h_c</td>\n",
       "    </tr>\n",
       "    <tr>\n",
       "      <th>FUMt2r_REV_BSU07570-MONOMER_s</th>\n",
       "      <td>0</td>\n",
       "      <td>999999</td>\n",
       "      <td>0</td>\n",
       "      <td>0</td>\n",
       "      <td>fum_s + h_s --&gt; -4.27350427350427e-6*sigma BSU07570-MONOMER_s + fum_c + h_c</td>\n",
       "    </tr>\n",
       "    <tr>\n",
       "      <th>FUMt2r_FWD_BSU07570-MONOMER_s</th>\n",
       "      <td>0</td>\n",
       "      <td>999999</td>\n",
       "      <td>0</td>\n",
       "      <td>-0</td>\n",
       "      <td>fum_c + h_c --&gt; -4.27350427350427e-6*sigma BSU07570-MONOMER_s + fum_s + h_s</td>\n",
       "    </tr>\n",
       "    <tr>\n",
       "      <th>FUMt2r_REV_BSU04470-MONOMER_s</th>\n",
       "      <td>0</td>\n",
       "      <td>999999</td>\n",
       "      <td>0</td>\n",
       "      <td>0</td>\n",
       "      <td>fum_s + h_s --&gt; -4.27350427350427e-6*sigma BSU04470-MONOMER_s + fum_c + h_c</td>\n",
       "    </tr>\n",
       "  </tbody>\n",
       "</table>\n",
       "</div>"
      ],
      "text/plain": [
       "                              lb      ub    rxn_flux    met_flux  \\\n",
       "FUM_FWD_BSU33040-MONOMER       0  999999     2.31881    -2.31881   \n",
       "SUCD1_FWD_CPLX8J2-15           0  999999     2.28039     2.28039   \n",
       "ADSL2r_FWD_BSU06440-MONOMER    0  999999   0.0161137   0.0161137   \n",
       "ADSL1r_FWD_BSU06440-MONOMER    0  999999   0.0141867   0.0141867   \n",
       "ARGSL_FWD_BSU29440-MONOMER     0  999999  0.00811811  0.00811811   \n",
       "ADSL2r_REV_BSU06440-MONOMER    0  999999           0          -0   \n",
       "FUMt2r_FWD_BSU04470-MONOMER    0  999999           0           0   \n",
       "FUMt2r_REV_BSU07570-MONOMER_s  0  999999           0           0   \n",
       "FUMt2r_FWD_BSU07570-MONOMER_s  0  999999           0          -0   \n",
       "FUMt2r_REV_BSU04470-MONOMER_s  0  999999           0           0   \n",
       "\n",
       "                                                                                                  reaction  \n",
       "FUM_FWD_BSU33040-MONOMER          fum_c + h2o_c --> -2.39256977563745e-6*sigma BSU33040-MONOMER + mal__L_c  \n",
       "SUCD1_FWD_CPLX8J2-15            fad_c + succ_c --> -4.27350427350427e-6*sigma CPLX8J2-15 + fadh2_c + fum_c  \n",
       "ADSL2r_FWD_BSU06440-MONOMER     25aics_c --> -1.06664492347285e-5*sigma BSU06440-MONOMER + aicar_c + fum_c  \n",
       "ADSL1r_FWD_BSU06440-MONOMER        dcamp_c --> -4.27350427350427e-6*sigma BSU06440-MONOMER + amp_c + fum_c  \n",
       "ARGSL_FWD_BSU29440-MONOMER     argsuc_c --> -1.02894591975503e-5*sigma BSU29440-MONOMER + arg__L_c + fum_c  \n",
       "ADSL2r_REV_BSU06440-MONOMER     aicar_c + fum_c --> 25aics_c + -1.06664492347285e-5*sigma BSU06440-MONOMER  \n",
       "FUMt2r_FWD_BSU04470-MONOMER      fum_e + h_e --> -4.27350427350427e-6*sigma BSU04470-MONOMER + fum_c + h_c  \n",
       "FUMt2r_REV_BSU07570-MONOMER_s  fum_s + h_s --> -4.27350427350427e-6*sigma BSU07570-MONOMER_s + fum_c + h_c  \n",
       "FUMt2r_FWD_BSU07570-MONOMER_s  fum_c + h_c --> -4.27350427350427e-6*sigma BSU07570-MONOMER_s + fum_s + h_s  \n",
       "FUMt2r_REV_BSU04470-MONOMER_s  fum_s + h_s --> -4.27350427350427e-6*sigma BSU04470-MONOMER_s + fum_c + h_c  "
      ]
     },
     "execution_count": 81,
     "metadata": {},
     "output_type": "execute_result"
    }
   ],
   "source": [
    "flux_based_reactions(sporeme,'fum_c',only_types=['MetabolicReaction']).head(10)"
   ]
  },
  {
   "cell_type": "markdown",
   "metadata": {},
   "source": [
    "### CYTK"
   ]
  },
  {
   "cell_type": "code",
   "execution_count": 90,
   "metadata": {},
   "outputs": [],
   "source": [
    "with open(\"./sporeme_solution_v3.pickle\", \"rb\") as outfile:\n",
    "    sporeme = pickle.load(outfile)"
   ]
  },
  {
   "cell_type": "code",
   "execution_count": 91,
   "metadata": {
    "scrolled": true,
    "tags": []
   },
   "outputs": [
    {
     "name": "stdout",
     "output_type": "stream",
     "text": [
      "formation_BSU22890-MONOMER_mod_mg2\n",
      "CYTK1_REV_BSU22890-MONOMER_mod_mg2\n",
      "CYTK1_FWD_BSU22890-MONOMER_mod_mg2\n",
      "CYTK2_REV_BSU22890-MONOMER_mod_mg2\n",
      "CYTK2_FWD_BSU22890-MONOMER_mod_mg2\n",
      "UMPK_FWD_BSU22890-MONOMER_mod_mg2\n",
      "URIDK2r_copy1_FWD_BSU22890-MONOMER_mod_mg2\n",
      "formation_BSU22890-MONOMER_mod_mg2_s\n",
      "CYTK1_REV_BSU22890-MONOMER_mod_mg2_s\n",
      "CYTK1_FWD_BSU22890-MONOMER_mod_mg2_s\n",
      "CYTK2_REV_BSU22890-MONOMER_mod_mg2_s\n",
      "CYTK2_FWD_BSU22890-MONOMER_mod_mg2_s\n",
      "UMPK_FWD_BSU22890-MONOMER_mod_mg2_s\n",
      "URIDK2r_copy1_FWD_BSU22890-MONOMER_mod_mg2_s\n"
     ]
    }
   ],
   "source": [
    "for r in sporeme.reactions.query('BSU22890-MONOMER'):\n",
    "    print(r.id)\n",
    "    r.bounds = (0,0)"
   ]
  },
  {
   "cell_type": "code",
   "execution_count": 146,
   "metadata": {},
   "outputs": [
    {
     "name": "stdout",
     "output_type": "stream",
     "text": [
      "formation_BSU37150-MONOMER_mod_mg2_s mg2_s + 4.0 protein_BSU37150_s --> BSU37150-MONOMER_mod_mg2_s + 0.04861 prosthetic_group_biomass_s\n",
      "CTPS1_FWD_BSU37150-MONOMER_mod_mg2_s atp_s + nh4_s + utp_s --> -4.27350427350427e-6*sigma BSU37150-MONOMER_mod_mg2_s + adp_s + ctp_s + 2.0 h_s + pi_s\n",
      "CTPS2_FWD_BSU37150-MONOMER_mod_mg2_s atp_s + gln__L_s + h2o_s + utp_s --> -3.27559071090038e-6*sigma BSU37150-MONOMER_mod_mg2_s + adp_s + ctp_s + glu__L_s + 2.0 h_s + pi_s\n"
     ]
    }
   ],
   "source": [
    "for r in sporeme.reactions.query(re.compile('BSU37150-MONOMER.*_s$')):\n",
    "    print(r.id,r.reaction)\n",
    "    r.bounds = (0,0)"
   ]
  },
  {
   "cell_type": "code",
   "execution_count": 93,
   "metadata": {
    "scrolled": true,
    "tags": []
   },
   "outputs": [
    {
     "name": "stdout",
     "output_type": "stream",
     "text": [
      "iter\tmuopt    \ta     \tb     \tmu1       \tstat1\n",
      "Finished compiling expressions in 251.678204 seconds\n",
      "Finished substituting S,lb,ub in 7.290562 seconds\n",
      "Finished makeME_LP in 1.530940 seconds\n",
      "Getting MINOS parameters from ME_NLP...\n",
      "1 0.0 0.0 0.05 0.05 1\n",
      "Finished substituting S,lb,ub in 7.328154 seconds\n",
      "Finished makeME_LP in 1.526656 seconds\n",
      "Getting MINOS parameters from ME_NLP...\n",
      "2 0.0 0.0 0.025 0.025 1\n",
      "Finished substituting S,lb,ub in 7.262715 seconds\n",
      "Finished makeME_LP in 1.528114 seconds\n",
      "Getting MINOS parameters from ME_NLP...\n",
      "3 0.0 0.0 0.0125 0.0125 1\n",
      "Finished substituting S,lb,ub in 7.295166 seconds\n",
      "Finished makeME_LP in 1.525097 seconds\n",
      "Getting MINOS parameters from ME_NLP...\n",
      "4 0.0 0.0 0.00625 0.00625 1\n",
      "Finished substituting S,lb,ub in 7.310462 seconds\n",
      "Finished makeME_LP in 1.527177 seconds\n",
      "Getting MINOS parameters from ME_NLP...\n",
      "5 0.0 0.0 0.003125 0.003125 1\n",
      "Finished substituting S,lb,ub in 7.304533 seconds\n",
      "Finished makeME_LP in 1.531065 seconds\n",
      "Getting MINOS parameters from ME_NLP...\n",
      "6 0.0 0.0 0.0015625 0.0015625 1\n",
      "Finished substituting S,lb,ub in 7.262285 seconds\n",
      "Finished makeME_LP in 1.526000 seconds\n",
      "Getting MINOS parameters from ME_NLP...\n",
      "7 0.0 0.0 0.00078125 0.00078125 1\n",
      "Bisection done in 2860.59 seconds\n"
     ]
    }
   ],
   "source": [
    "solve_me_model(sporeme, max_mu = 0.1, min_mu = .01, using_soplex=False, precision = 1e-3,growth_key = 'sigma')"
   ]
  },
  {
   "cell_type": "code",
   "execution_count": 94,
   "metadata": {},
   "outputs": [],
   "source": [
    "if sporeme.solution: sporeme.solution.x_dict['biomass_dilution_s']"
   ]
  },
  {
   "cell_type": "code",
   "execution_count": 98,
   "metadata": {},
   "outputs": [
    {
     "data": {
      "text/html": [
       "<div>\n",
       "<style scoped>\n",
       "    .dataframe tbody tr th:only-of-type {\n",
       "        vertical-align: middle;\n",
       "    }\n",
       "\n",
       "    .dataframe tbody tr th {\n",
       "        vertical-align: top;\n",
       "    }\n",
       "\n",
       "    .dataframe thead th {\n",
       "        text-align: right;\n",
       "    }\n",
       "</style>\n",
       "<table border=\"1\" class=\"dataframe\">\n",
       "  <thead>\n",
       "    <tr style=\"text-align: right;\">\n",
       "      <th></th>\n",
       "      <th>lb</th>\n",
       "      <th>ub</th>\n",
       "      <th>rxn_flux</th>\n",
       "      <th>met_flux</th>\n",
       "      <th>reaction</th>\n",
       "    </tr>\n",
       "  </thead>\n",
       "  <tbody>\n",
       "    <tr>\n",
       "      <th>NDPK3_FWD_BSU22730-MONOMER_mod_mn2_s</th>\n",
       "      <td>0</td>\n",
       "      <td>999999</td>\n",
       "      <td>0.10809</td>\n",
       "      <td>0.10809</td>\n",
       "      <td>atp_s + cdp_s --&gt; -4.27350427350427e-6*sigma BSU22730-MONOMER_mod_mn2_s + adp_s + ctp_s</td>\n",
       "    </tr>\n",
       "    <tr>\n",
       "      <th>G3PCT_FWD_BSU35740-MONOMER_s</th>\n",
       "      <td>0</td>\n",
       "      <td>999999</td>\n",
       "      <td>0.0966749</td>\n",
       "      <td>-0.0966749</td>\n",
       "      <td>ctp_s + glyc3p_s + h_s --&gt; -4.27350427350427e-6*sigma BSU35740-MONOMER_s + cdpglyc_s + ppi_s</td>\n",
       "    </tr>\n",
       "    <tr>\n",
       "      <th>PHCYT_BS_FWD_BSU16540-MONOMER_mod_mg2_mod_k_s</th>\n",
       "      <td>0</td>\n",
       "      <td>999999</td>\n",
       "      <td>0.00670795</td>\n",
       "      <td>-0.00670795</td>\n",
       "      <td>0.01 12dag3p_BS_s + ctp_s + h_s --&gt; -1.54262689436083e-5*sigma BSU16540-MONOMER_mod_mg2_mod_k_s + 0.01 cdpdag_BS_s + ppi_s</td>\n",
       "    </tr>\n",
       "    <tr>\n",
       "      <th>MEPCT_FWD_BSU00900-MONOMER_mod_mn2_s</th>\n",
       "      <td>0</td>\n",
       "      <td>999999</td>\n",
       "      <td>0.000107983</td>\n",
       "      <td>-0.000107983</td>\n",
       "      <td>2me4p_s + ctp_s + h_s --&gt; 4c2me_s + -1.03246272317615e-5*sigma BSU00900-MONOMER_mod_mn2_s + ppi_s</td>\n",
       "    </tr>\n",
       "    <tr>\n",
       "      <th>PPNCL_FWD_BSU15700-MONOMER_s</th>\n",
       "      <td>0</td>\n",
       "      <td>999999</td>\n",
       "      <td>0</td>\n",
       "      <td>-0</td>\n",
       "      <td>4ppan_s + ctp_s + cys__L_s --&gt; 4ppcys_s + -3.22695132810028e-6*sigma BSU15700-MONOMER_s + cdp_s + h_s + pi_s</td>\n",
       "    </tr>\n",
       "    <tr>\n",
       "      <th>G3PCT_FWD_CPLX-5322_s</th>\n",
       "      <td>0</td>\n",
       "      <td>999999</td>\n",
       "      <td>0</td>\n",
       "      <td>-0</td>\n",
       "      <td>ctp_s + glyc3p_s + h_s --&gt; -0.000185492911781972*sigma CPLX-5322_s + cdpglyc_s + ppi_s</td>\n",
       "    </tr>\n",
       "    <tr>\n",
       "      <th>NDPK3_REV_BSU22730-MONOMER_mod_mn2_s</th>\n",
       "      <td>0</td>\n",
       "      <td>999999</td>\n",
       "      <td>0</td>\n",
       "      <td>-0</td>\n",
       "      <td>adp_s + ctp_s --&gt; -4.27350427350427e-6*sigma BSU22730-MONOMER_mod_mn2_s + atp_s + cdp_s</td>\n",
       "    </tr>\n",
       "    <tr>\n",
       "      <th>CTPS2_FWD_BSU37150-MONOMER_mod_mg2_s</th>\n",
       "      <td>0</td>\n",
       "      <td>999999</td>\n",
       "      <td>0</td>\n",
       "      <td>0</td>\n",
       "      <td>atp_s + gln__L_s + h2o_s + utp_s --&gt; -3.27559071090038e-6*sigma BSU37150-MONOMER_mod_mg2_s + adp_s + ctp_s + glu__L_s + 2.0 h_s + pi_s</td>\n",
       "    </tr>\n",
       "    <tr>\n",
       "      <th>CTPS1_FWD_BSU37150-MONOMER_mod_mg2_s</th>\n",
       "      <td>0</td>\n",
       "      <td>999999</td>\n",
       "      <td>0</td>\n",
       "      <td>0</td>\n",
       "      <td>atp_s + nh4_s + utp_s --&gt; -4.27350427350427e-6*sigma BSU37150-MONOMER_mod_mg2_s + adp_s + ctp_s + 2.0 h_s + pi_s</td>\n",
       "    </tr>\n",
       "    <tr>\n",
       "      <th>BIOMASS_BS_10_FWD_CPLX_dummy_s</th>\n",
       "      <td>0</td>\n",
       "      <td>0</td>\n",
       "      <td>0</td>\n",
       "      <td>-0</td>\n",
       "      <td>0.000367 10fthf_s + 0.266902 ala__L_s + 0.00467 amp_s + 0.193021 arg__L_s + 0.147987 asn__L_s + 0.148014 asp__L_s + 105.053483 atp_s + 0.003205 ca2_s + 5e-06 cdlp_BS_s + 0.000251 cdp_s + 0.001042 cmp_s + 0.038902 ctp_s + 0.05699 cys__L_s + 0.00011 d12dg_BS_s + 0.022982 datp_s + 0.01738 dctp_s + 0.017398 dgtp_s + 0.022899 dttp_s + 0.00345 fe3_s + 0.00018 gdp_s + 0.260335 gln__L_s + 0.260378 glu__L_s + 0.408288 gly_s + 0.000503 gmp_s + 0.003624 gtca1_45_BS_s + 0.002347 gtca2_45_BS_s + 0.001819 gtca3_45_BS_s + 0.062667 gtp_s + 105.0 h2o_s + 0.081739 his__L_s + 0.269905 ile__L_s + 0.706312 k_s + 0.346445 leu__L_s + 7e-06 lipo1_24_BS_s + 6e-06 lipo2_24_BS_s + 1.8e-05 lipo3_24_BS_s + 1.5e-05 lipo4_24_BS_s + 0.323093 lys__L_s + 2.2e-05 lysylpgly_BS_s + 8.6e-05 m12dg_BS_s + 0.113326 met__L_s + 0.101714 mg2_s + 0.000266 mql7_s + 0.016164 nad_s + 0.000934 nadp_s + 0.000216 nadph_s + 0.101817 peptido_BS_s + 0.000176 pgly_BS_s + 0.175939 phe__L_s + 0.000918 ppi_s + 0.160642 pro__L_s + 0.00056 psetha_BS_s + 0.216213 ser__L_s + 6.6e-05 t12dg_BS_s + 0.003112 tcam_BS_s + 0.186317 thr__L_s + 0.054336 trp__L_s + 0.110824 tyr__L_s + 0.041501 utp_s + 0.306734 val__L_s --&gt; -4.27350427350427e-6*sigma CPLX_dummy_s + 104.997414 adp_s + 105.0 h_s + 104.985613 pi_s</td>\n",
       "    </tr>\n",
       "  </tbody>\n",
       "</table>\n",
       "</div>"
      ],
      "text/plain": [
       "                                              lb      ub     rxn_flux  \\\n",
       "NDPK3_FWD_BSU22730-MONOMER_mod_mn2_s           0  999999      0.10809   \n",
       "G3PCT_FWD_BSU35740-MONOMER_s                   0  999999    0.0966749   \n",
       "PHCYT_BS_FWD_BSU16540-MONOMER_mod_mg2_mod_k_s  0  999999   0.00670795   \n",
       "MEPCT_FWD_BSU00900-MONOMER_mod_mn2_s           0  999999  0.000107983   \n",
       "PPNCL_FWD_BSU15700-MONOMER_s                   0  999999            0   \n",
       "G3PCT_FWD_CPLX-5322_s                          0  999999            0   \n",
       "NDPK3_REV_BSU22730-MONOMER_mod_mn2_s           0  999999            0   \n",
       "CTPS2_FWD_BSU37150-MONOMER_mod_mg2_s           0  999999            0   \n",
       "CTPS1_FWD_BSU37150-MONOMER_mod_mg2_s           0  999999            0   \n",
       "BIOMASS_BS_10_FWD_CPLX_dummy_s                 0       0            0   \n",
       "\n",
       "                                                  met_flux  \\\n",
       "NDPK3_FWD_BSU22730-MONOMER_mod_mn2_s               0.10809   \n",
       "G3PCT_FWD_BSU35740-MONOMER_s                    -0.0966749   \n",
       "PHCYT_BS_FWD_BSU16540-MONOMER_mod_mg2_mod_k_s  -0.00670795   \n",
       "MEPCT_FWD_BSU00900-MONOMER_mod_mn2_s          -0.000107983   \n",
       "PPNCL_FWD_BSU15700-MONOMER_s                            -0   \n",
       "G3PCT_FWD_CPLX-5322_s                                   -0   \n",
       "NDPK3_REV_BSU22730-MONOMER_mod_mn2_s                    -0   \n",
       "CTPS2_FWD_BSU37150-MONOMER_mod_mg2_s                     0   \n",
       "CTPS1_FWD_BSU37150-MONOMER_mod_mg2_s                     0   \n",
       "BIOMASS_BS_10_FWD_CPLX_dummy_s                          -0   \n",
       "\n",
       "                                                                                                                                                                                                                                                                                                                                                                                                                                                                                                                                                                                                                                                                                                                                                                                                                                                                                                                                                                                                                                                                                                                                                                                                                                                                                                                                                  reaction  \n",
       "NDPK3_FWD_BSU22730-MONOMER_mod_mn2_s                                                                                                                                                                                                                                                                                                                                                                                                                                                                                                                                                                                                                                                                                                                                                                                                                                                                                                                                                                                                                                                                                                                                                                                                                               atp_s + cdp_s --> -4.27350427350427e-6*sigma BSU22730-MONOMER_mod_mn2_s + adp_s + ctp_s  \n",
       "G3PCT_FWD_BSU35740-MONOMER_s                                                                                                                                                                                                                                                                                                                                                                                                                                                                                                                                                                                                                                                                                                                                                                                                                                                                                                                                                                                                                                                                                                                                                                                                                                  ctp_s + glyc3p_s + h_s --> -4.27350427350427e-6*sigma BSU35740-MONOMER_s + cdpglyc_s + ppi_s  \n",
       "PHCYT_BS_FWD_BSU16540-MONOMER_mod_mg2_mod_k_s                                                                                                                                                                                                                                                                                                                                                                                                                                                                                                                                                                                                                                                                                                                                                                                                                                                                                                                                                                                                                                                                                                                                                                                   0.01 12dag3p_BS_s + ctp_s + h_s --> -1.54262689436083e-5*sigma BSU16540-MONOMER_mod_mg2_mod_k_s + 0.01 cdpdag_BS_s + ppi_s  \n",
       "MEPCT_FWD_BSU00900-MONOMER_mod_mn2_s                                                                                                                                                                                                                                                                                                                                                                                                                                                                                                                                                                                                                                                                                                                                                                                                                                                                                                                                                                                                                                                                                                                                                                                                                     2me4p_s + ctp_s + h_s --> 4c2me_s + -1.03246272317615e-5*sigma BSU00900-MONOMER_mod_mn2_s + ppi_s  \n",
       "PPNCL_FWD_BSU15700-MONOMER_s                                                                                                                                                                                                                                                                                                                                                                                                                                                                                                                                                                                                                                                                                                                                                                                                                                                                                                                                                                                                                                                                                                                                                                                                                  4ppan_s + ctp_s + cys__L_s --> 4ppcys_s + -3.22695132810028e-6*sigma BSU15700-MONOMER_s + cdp_s + h_s + pi_s  \n",
       "G3PCT_FWD_CPLX-5322_s                                                                                                                                                                                                                                                                                                                                                                                                                                                                                                                                                                                                                                                                                                                                                                                                                                                                                                                                                                                                                                                                                                                                                                                                                                               ctp_s + glyc3p_s + h_s --> -0.000185492911781972*sigma CPLX-5322_s + cdpglyc_s + ppi_s  \n",
       "NDPK3_REV_BSU22730-MONOMER_mod_mn2_s                                                                                                                                                                                                                                                                                                                                                                                                                                                                                                                                                                                                                                                                                                                                                                                                                                                                                                                                                                                                                                                                                                                                                                                                                               adp_s + ctp_s --> -4.27350427350427e-6*sigma BSU22730-MONOMER_mod_mn2_s + atp_s + cdp_s  \n",
       "CTPS2_FWD_BSU37150-MONOMER_mod_mg2_s                                                                                                                                                                                                                                                                                                                                                                                                                                                                                                                                                                                                                                                                                                                                                                                                                                                                                                                                                                                                                                                                                                                                                                                atp_s + gln__L_s + h2o_s + utp_s --> -3.27559071090038e-6*sigma BSU37150-MONOMER_mod_mg2_s + adp_s + ctp_s + glu__L_s + 2.0 h_s + pi_s  \n",
       "CTPS1_FWD_BSU37150-MONOMER_mod_mg2_s                                                                                                                                                                                                                                                                                                                                                                                                                                                                                                                                                                                                                                                                                                                                                                                                                                                                                                                                                                                                                                                                                                                                                                                                      atp_s + nh4_s + utp_s --> -4.27350427350427e-6*sigma BSU37150-MONOMER_mod_mg2_s + adp_s + ctp_s + 2.0 h_s + pi_s  \n",
       "BIOMASS_BS_10_FWD_CPLX_dummy_s                 0.000367 10fthf_s + 0.266902 ala__L_s + 0.00467 amp_s + 0.193021 arg__L_s + 0.147987 asn__L_s + 0.148014 asp__L_s + 105.053483 atp_s + 0.003205 ca2_s + 5e-06 cdlp_BS_s + 0.000251 cdp_s + 0.001042 cmp_s + 0.038902 ctp_s + 0.05699 cys__L_s + 0.00011 d12dg_BS_s + 0.022982 datp_s + 0.01738 dctp_s + 0.017398 dgtp_s + 0.022899 dttp_s + 0.00345 fe3_s + 0.00018 gdp_s + 0.260335 gln__L_s + 0.260378 glu__L_s + 0.408288 gly_s + 0.000503 gmp_s + 0.003624 gtca1_45_BS_s + 0.002347 gtca2_45_BS_s + 0.001819 gtca3_45_BS_s + 0.062667 gtp_s + 105.0 h2o_s + 0.081739 his__L_s + 0.269905 ile__L_s + 0.706312 k_s + 0.346445 leu__L_s + 7e-06 lipo1_24_BS_s + 6e-06 lipo2_24_BS_s + 1.8e-05 lipo3_24_BS_s + 1.5e-05 lipo4_24_BS_s + 0.323093 lys__L_s + 2.2e-05 lysylpgly_BS_s + 8.6e-05 m12dg_BS_s + 0.113326 met__L_s + 0.101714 mg2_s + 0.000266 mql7_s + 0.016164 nad_s + 0.000934 nadp_s + 0.000216 nadph_s + 0.101817 peptido_BS_s + 0.000176 pgly_BS_s + 0.175939 phe__L_s + 0.000918 ppi_s + 0.160642 pro__L_s + 0.00056 psetha_BS_s + 0.216213 ser__L_s + 6.6e-05 t12dg_BS_s + 0.003112 tcam_BS_s + 0.186317 thr__L_s + 0.054336 trp__L_s + 0.110824 tyr__L_s + 0.041501 utp_s + 0.306734 val__L_s --> -4.27350427350427e-6*sigma CPLX_dummy_s + 104.997414 adp_s + 105.0 h_s + 104.985613 pi_s  "
      ]
     },
     "execution_count": 98,
     "metadata": {},
     "output_type": "execute_result"
    }
   ],
   "source": [
    "flux_based_reactions(sporeme,'ctp_s',only_types=['MetabolicReaction'])"
   ]
  },
  {
   "cell_type": "code",
   "execution_count": 62,
   "metadata": {},
   "outputs": [
    {
     "data": {
      "text/html": [
       "<div>\n",
       "<style scoped>\n",
       "    .dataframe tbody tr th:only-of-type {\n",
       "        vertical-align: middle;\n",
       "    }\n",
       "\n",
       "    .dataframe tbody tr th {\n",
       "        vertical-align: top;\n",
       "    }\n",
       "\n",
       "    .dataframe thead th {\n",
       "        text-align: right;\n",
       "    }\n",
       "</style>\n",
       "<table border=\"1\" class=\"dataframe\">\n",
       "  <thead>\n",
       "    <tr style=\"text-align: right;\">\n",
       "      <th></th>\n",
       "      <th>lb</th>\n",
       "      <th>ub</th>\n",
       "      <th>rxn_flux</th>\n",
       "      <th>met_flux</th>\n",
       "      <th>reaction</th>\n",
       "    </tr>\n",
       "  </thead>\n",
       "  <tbody>\n",
       "    <tr>\n",
       "      <th>CBPS_FWD_CPLX8J2-5</th>\n",
       "      <td>0</td>\n",
       "      <td>999999</td>\n",
       "      <td>0.0251957</td>\n",
       "      <td>0.0251957</td>\n",
       "      <td>2.0 atp_c + gln__L_c + h2o_c + hco3_c --&gt; -4.27350427350427e-6*sigma CPLX8J2-5 + 2.0 adp_c + cbp_c + glu__L_c + 2.0 h_c + pi_c</td>\n",
       "    </tr>\n",
       "    <tr>\n",
       "      <th>ASPCT_FWD_BSU15490-MONOMER</th>\n",
       "      <td>0</td>\n",
       "      <td>999999</td>\n",
       "      <td>0.0170776</td>\n",
       "      <td>-0.0170776</td>\n",
       "      <td>asp__L_c + cbp_c --&gt; -1.40657082016779e-5*sigma BSU15490-MONOMER + cbasp_c + h_c + pi_c</td>\n",
       "    </tr>\n",
       "    <tr>\n",
       "      <th>OCBT_1_FWD_BSU11250-MONOMER</th>\n",
       "      <td>0</td>\n",
       "      <td>999999</td>\n",
       "      <td>0.00811811</td>\n",
       "      <td>-0.00811811</td>\n",
       "      <td>cbp_c + orn__L_c --&gt; -1.39331395579107e-5*sigma BSU11250-MONOMER + citr__L_c + h_c + pi_c</td>\n",
       "    </tr>\n",
       "    <tr>\n",
       "      <th>OCBT_1_REV_BSU11250-MONOMER</th>\n",
       "      <td>0</td>\n",
       "      <td>999999</td>\n",
       "      <td>0</td>\n",
       "      <td>0</td>\n",
       "      <td>citr__L_c + h_c + pi_c --&gt; -1.39331395579107e-5*sigma BSU11250-MONOMER + cbp_c + orn__L_c</td>\n",
       "    </tr>\n",
       "    <tr>\n",
       "      <th>CBPS_FWD_CPLX8J2-6_mod_zn2</th>\n",
       "      <td>0</td>\n",
       "      <td>999999</td>\n",
       "      <td>0</td>\n",
       "      <td>0</td>\n",
       "      <td>2.0 atp_c + gln__L_c + h2o_c + hco3_c --&gt; -2.65848692994324e-6*sigma CPLX8J2-6_mod_zn2 + 2.0 adp_c + cbp_c + glu__L_c + 2.0 h_c + pi_c</td>\n",
       "    </tr>\n",
       "  </tbody>\n",
       "</table>\n",
       "</div>"
      ],
      "text/plain": [
       "                            lb      ub    rxn_flux    met_flux  \\\n",
       "CBPS_FWD_CPLX8J2-5           0  999999   0.0251957   0.0251957   \n",
       "ASPCT_FWD_BSU15490-MONOMER   0  999999   0.0170776  -0.0170776   \n",
       "OCBT_1_FWD_BSU11250-MONOMER  0  999999  0.00811811 -0.00811811   \n",
       "OCBT_1_REV_BSU11250-MONOMER  0  999999           0           0   \n",
       "CBPS_FWD_CPLX8J2-6_mod_zn2   0  999999           0           0   \n",
       "\n",
       "                                                                                                                                                           reaction  \n",
       "CBPS_FWD_CPLX8J2-5                   2.0 atp_c + gln__L_c + h2o_c + hco3_c --> -4.27350427350427e-6*sigma CPLX8J2-5 + 2.0 adp_c + cbp_c + glu__L_c + 2.0 h_c + pi_c  \n",
       "ASPCT_FWD_BSU15490-MONOMER                                                  asp__L_c + cbp_c --> -1.40657082016779e-5*sigma BSU15490-MONOMER + cbasp_c + h_c + pi_c  \n",
       "OCBT_1_FWD_BSU11250-MONOMER                                               cbp_c + orn__L_c --> -1.39331395579107e-5*sigma BSU11250-MONOMER + citr__L_c + h_c + pi_c  \n",
       "OCBT_1_REV_BSU11250-MONOMER                                               citr__L_c + h_c + pi_c --> -1.39331395579107e-5*sigma BSU11250-MONOMER + cbp_c + orn__L_c  \n",
       "CBPS_FWD_CPLX8J2-6_mod_zn2   2.0 atp_c + gln__L_c + h2o_c + hco3_c --> -2.65848692994324e-6*sigma CPLX8J2-6_mod_zn2 + 2.0 adp_c + cbp_c + glu__L_c + 2.0 h_c + pi_c  "
      ]
     },
     "execution_count": 62,
     "metadata": {},
     "output_type": "execute_result"
    }
   ],
   "source": [
    "flux_based_reactions(sporeme,'cbp_c',only_types=['MetabolicReaction'])"
   ]
  },
  {
   "cell_type": "markdown",
   "metadata": {},
   "source": [
    "### Methionine"
   ]
  },
  {
   "cell_type": "code",
   "execution_count": 113,
   "metadata": {},
   "outputs": [],
   "source": [
    "with open(\"./sporeme_solution_v3.pickle\", \"rb\") as outfile:\n",
    "    sporeme = pickle.load(outfile)"
   ]
  },
  {
   "cell_type": "code",
   "execution_count": 114,
   "metadata": {},
   "outputs": [
    {
     "name": "stdout",
     "output_type": "stream",
     "text": [
      "METabc_FWD_CPLX8J2-67_s\n"
     ]
    }
   ],
   "source": [
    "for r in get_transport_reactions(sporeme,'met__L_s',comps=['c','s']):\n",
    "    print(r.id)\n",
    "    r.bounds = (0,0)"
   ]
  },
  {
   "cell_type": "code",
   "execution_count": 115,
   "metadata": {
    "scrolled": true,
    "tags": []
   },
   "outputs": [
    {
     "name": "stdout",
     "output_type": "stream",
     "text": [
      "iter\tmuopt    \ta     \tb     \tmu1       \tstat1\n",
      "Finished compiling expressions in 250.193434 seconds\n",
      "Finished substituting S,lb,ub in 7.382745 seconds\n",
      "Finished makeME_LP in 1.537819 seconds\n",
      "Getting MINOS parameters from ME_NLP...\n",
      "1 0.05 0.05 0.1 0.05 optimal\n",
      "Finished substituting S,lb,ub in 7.362918 seconds\n",
      "Finished makeME_LP in 1.532017 seconds\n",
      "Getting MINOS parameters from ME_NLP...\n",
      "2 0.05 0.05 0.07500000000000001 0.07500000000000001 1\n",
      "Finished substituting S,lb,ub in 7.196329 seconds\n",
      "Finished makeME_LP in 1.528339 seconds\n",
      "Getting MINOS parameters from ME_NLP...\n",
      "3 0.05 0.05 0.0625 0.0625 1\n",
      "Finished substituting S,lb,ub in 7.299746 seconds\n",
      "Finished makeME_LP in 1.532322 seconds\n",
      "Getting MINOS parameters from ME_NLP...\n",
      "4 0.05625 0.05625 0.0625 0.05625 optimal\n",
      "Finished substituting S,lb,ub in 7.141644 seconds\n",
      "Finished makeME_LP in 1.523025 seconds\n",
      "Getting MINOS parameters from ME_NLP...\n",
      "5 0.05625 0.05625 0.059375 0.059375 1\n",
      "Finished substituting S,lb,ub in 7.171215 seconds\n",
      "Finished makeME_LP in 1.525771 seconds\n",
      "Getting MINOS parameters from ME_NLP...\n",
      "6 0.0578125 0.0578125 0.059375 0.0578125 optimal\n",
      "Finished substituting S,lb,ub in 7.133823 seconds\n",
      "Finished makeME_LP in 1.529619 seconds\n",
      "Getting MINOS parameters from ME_NLP...\n",
      "7 0.0578125 0.0578125 0.05859375 0.05859375 1\n",
      "Bisection done in 620.971 seconds\n"
     ]
    }
   ],
   "source": [
    "solve_me_model(sporeme, max_mu = 0.1, min_mu = .01, using_soplex=False, precision = 1e-3,growth_key = 'sigma')"
   ]
  },
  {
   "cell_type": "code",
   "execution_count": 118,
   "metadata": {},
   "outputs": [
    {
     "name": "stdout",
     "output_type": "stream",
     "text": [
      "0.0578125\n"
     ]
    }
   ],
   "source": [
    "if sporeme.solution: print(sporeme.solution.x_dict['biomass_dilution_s'])"
   ]
  },
  {
   "cell_type": "code",
   "execution_count": 144,
   "metadata": {},
   "outputs": [
    {
     "name": "stdout",
     "output_type": "stream",
     "text": [
      "O-Succinyl-L-homoserine\n"
     ]
    },
    {
     "data": {
      "text/html": [
       "<div>\n",
       "<style scoped>\n",
       "    .dataframe tbody tr th:only-of-type {\n",
       "        vertical-align: middle;\n",
       "    }\n",
       "\n",
       "    .dataframe tbody tr th {\n",
       "        vertical-align: top;\n",
       "    }\n",
       "\n",
       "    .dataframe thead th {\n",
       "        text-align: right;\n",
       "    }\n",
       "</style>\n",
       "<table border=\"1\" class=\"dataframe\">\n",
       "  <thead>\n",
       "    <tr style=\"text-align: right;\">\n",
       "      <th></th>\n",
       "      <th>lb</th>\n",
       "      <th>ub</th>\n",
       "      <th>rxn_flux</th>\n",
       "      <th>met_flux</th>\n",
       "      <th>reaction</th>\n",
       "    </tr>\n",
       "  </thead>\n",
       "  <tbody>\n",
       "    <tr>\n",
       "      <th>HSST_FWD_BSU21910-MONOMER_s</th>\n",
       "      <td>0</td>\n",
       "      <td>999999</td>\n",
       "      <td>0.0019583</td>\n",
       "      <td>0.0019583</td>\n",
       "      <td>hom__L_s + succoa_s --&gt; -1.37222235288943e-5*sigma BSU21910-MONOMER_s + coa_s + suchms_s</td>\n",
       "    </tr>\n",
       "    <tr>\n",
       "      <th>SHSL2_FWD_BSU11870-MONOMER_s</th>\n",
       "      <td>0</td>\n",
       "      <td>999999</td>\n",
       "      <td>0.0019583</td>\n",
       "      <td>-0.0019583</td>\n",
       "      <td>h2s_s + suchms_s --&gt; -4.27350427350427e-6*sigma BSU11870-MONOMER_s + hcys__L_s + succ_s</td>\n",
       "    </tr>\n",
       "    <tr>\n",
       "      <th>SHSL3_FWD_BSU11870-MONOMER_s</th>\n",
       "      <td>0</td>\n",
       "      <td>999999</td>\n",
       "      <td>-3.45413e-25</td>\n",
       "      <td>3.45413e-25</td>\n",
       "      <td>ch4s_s + suchms_s --&gt; -4.27350427350427e-6*sigma BSU11870-MONOMER_s + h_s + met__L_s + succ_s</td>\n",
       "    </tr>\n",
       "    <tr>\n",
       "      <th>SHSL1_FWD_BSU11870-MONOMER_s</th>\n",
       "      <td>0</td>\n",
       "      <td>999999</td>\n",
       "      <td>0</td>\n",
       "      <td>-0</td>\n",
       "      <td>cys__L_s + suchms_s --&gt; -4.27350427350427e-6*sigma BSU11870-MONOMER_s + cyst__L_s + h_s + succ_s</td>\n",
       "    </tr>\n",
       "    <tr>\n",
       "      <th>SHSL4r_FWD_BSU11870-MONOMER_s</th>\n",
       "      <td>0</td>\n",
       "      <td>999999</td>\n",
       "      <td>0</td>\n",
       "      <td>-0</td>\n",
       "      <td>h2o_s + suchms_s --&gt; 2obut_s + -4.27350427350427e-6*sigma BSU11870-MONOMER_s + h_s + nh4_s + succ_s</td>\n",
       "    </tr>\n",
       "    <tr>\n",
       "      <th>HSST_REV_BSU21910-MONOMER_s</th>\n",
       "      <td>0</td>\n",
       "      <td>999999</td>\n",
       "      <td>0</td>\n",
       "      <td>-0</td>\n",
       "      <td>coa_s + suchms_s --&gt; -1.37222235288943e-5*sigma BSU21910-MONOMER_s + hom__L_s + succoa_s</td>\n",
       "    </tr>\n",
       "  </tbody>\n",
       "</table>\n",
       "</div>"
      ],
      "text/plain": [
       "                              lb      ub     rxn_flux     met_flux  \\\n",
       "HSST_FWD_BSU21910-MONOMER_s    0  999999    0.0019583    0.0019583   \n",
       "SHSL2_FWD_BSU11870-MONOMER_s   0  999999    0.0019583   -0.0019583   \n",
       "SHSL3_FWD_BSU11870-MONOMER_s   0  999999 -3.45413e-25  3.45413e-25   \n",
       "SHSL1_FWD_BSU11870-MONOMER_s   0  999999            0           -0   \n",
       "SHSL4r_FWD_BSU11870-MONOMER_s  0  999999            0           -0   \n",
       "HSST_REV_BSU21910-MONOMER_s    0  999999            0           -0   \n",
       "\n",
       "                                                                                                                          reaction  \n",
       "HSST_FWD_BSU21910-MONOMER_s               hom__L_s + succoa_s --> -1.37222235288943e-5*sigma BSU21910-MONOMER_s + coa_s + suchms_s  \n",
       "SHSL2_FWD_BSU11870-MONOMER_s               h2s_s + suchms_s --> -4.27350427350427e-6*sigma BSU11870-MONOMER_s + hcys__L_s + succ_s  \n",
       "SHSL3_FWD_BSU11870-MONOMER_s         ch4s_s + suchms_s --> -4.27350427350427e-6*sigma BSU11870-MONOMER_s + h_s + met__L_s + succ_s  \n",
       "SHSL1_FWD_BSU11870-MONOMER_s      cys__L_s + suchms_s --> -4.27350427350427e-6*sigma BSU11870-MONOMER_s + cyst__L_s + h_s + succ_s  \n",
       "SHSL4r_FWD_BSU11870-MONOMER_s  h2o_s + suchms_s --> 2obut_s + -4.27350427350427e-6*sigma BSU11870-MONOMER_s + h_s + nh4_s + succ_s  \n",
       "HSST_REV_BSU21910-MONOMER_s               coa_s + suchms_s --> -1.37222235288943e-5*sigma BSU21910-MONOMER_s + hom__L_s + succoa_s  "
      ]
     },
     "execution_count": 144,
     "metadata": {},
     "output_type": "execute_result"
    }
   ],
   "source": [
    "met = 'suchms_s'\n",
    "print(sporeme.metabolites.get_by_id(met).name)\n",
    "flux_based_reactions(sporeme,met,only_types=['MetabolicReaction'])"
   ]
  },
  {
   "cell_type": "markdown",
   "metadata": {},
   "source": [
    "### Mechanisms"
   ]
  },
  {
   "cell_type": "code",
   "execution_count": null,
   "metadata": {
    "scrolled": true
   },
   "outputs": [],
   "source": [
    "with open(\"./sporeme_solution_v3.pickle\", \"rb\") as outfile:\n",
    "    sporeme = pickle.load(outfile)"
   ]
  },
  {
   "cell_type": "code",
   "execution_count": null,
   "metadata": {},
   "outputs": [],
   "source": [
    "main_mechanisms = [ 'ACKr_REV_BSU29470-MONOMER_s',\n",
    "                    'PGK_REV_BSU33930-MONOMER_s',\n",
    "                    'PYK_FWD_BSU29180-MONOMER_mod_mn2_mod_k_s',\n",
    "                    'PRPPS_REV_BSU00510-MONOMER_mod_mn2_mod_pi_s']"
   ]
  },
  {
   "cell_type": "code",
   "execution_count": null,
   "metadata": {},
   "outputs": [],
   "source": [
    "for r in main_mechanisms:\n",
    "    sporeme.reactions.get_by_id(r).bounds = (0,0)"
   ]
  },
  {
   "cell_type": "code",
   "execution_count": null,
   "metadata": {
    "scrolled": true,
    "tags": []
   },
   "outputs": [],
   "source": [
    "solve_me_model(sporeme, max_mu = 0.1, min_mu = .01, using_soplex=False, precision = 1e-6,growth_key = 'sigma')"
   ]
  },
  {
   "cell_type": "code",
   "execution_count": 8,
   "metadata": {},
   "outputs": [
    {
     "data": {
      "text/plain": [
       "<Solution 0.00 at 0x7ff95aa61b00>"
      ]
     },
     "execution_count": 8,
     "metadata": {},
     "output_type": "execute_result"
    }
   ],
   "source": [
    "sporeme.solution"
   ]
  },
  {
   "cell_type": "code",
   "execution_count": null,
   "metadata": {},
   "outputs": [],
   "source": [
    "with open(\"./sporeme_solution_{}.pickle\".format(version), \"wb\") as outfile:\n",
    "    pickle.dump(sporeme, outfile)"
   ]
  },
  {
   "cell_type": "code",
   "execution_count": null,
   "metadata": {},
   "outputs": [],
   "source": [
    "# Previously identified essential metabolites\n",
    "exchange_list = ['4fe4s_s','2fe2s_s','udcpp_s','pydx5p_s','3fe4s_s','cl_s','sheme_s','cu_s','mn2_s',\n",
    "                 'bmocogdp_s','dpm_s','thmpp_s','zn2_s','cbl1_s','cobalt2_s']\n",
    "additional = [m.id for m in sporeme.metabolites if isinstance(m,cobrame.Metabolite)]\n",
    "transported_metabolites = exchange_list+additional"
   ]
  },
  {
   "cell_type": "code",
   "execution_count": null,
   "metadata": {
    "scrolled": true
   },
   "outputs": [],
   "source": [
    "# Get transport reactions\n",
    "\n",
    "def get_compartments(r):\n",
    "    comps = []\n",
    "    if isinstance(r,cobrame.MetabolicReaction):\n",
    "        for m in r.metabolites:\n",
    "            if isinstance(m,cobrame.Metabolite):\n",
    "                comps.append(m.id[-1])\n",
    "    return list(set(comps))\n",
    "\n",
    "def get_all_transport(model):\n",
    "    transport_reactions = []\n",
    "    for r in tqdm(model.reactions):\n",
    "        comps = get_compartments(r)\n",
    "        if len(comps) > 1 and 's' in comps:\n",
    "            transport_reactions.append(r.id)\n",
    "    return list(set(transport_reactions))\n",
    "\n",
    "def get_active_transport(transport_reactions):\n",
    "    active_transporters = []\n",
    "    for r in tqdm(transport_reactions):\n",
    "        if 'SPONT' not in r and abs(sporeme.solution.x_dict[r])>0.:\n",
    "            active_transporters.append(r)\n",
    "    # Include arginine transport\n",
    "    arginine_transport = [r.id for r in get_transport_reactions(sporeme,'arg__L_c',comps=['c','s'])+get_transport_reactions(sporeme,'arg__L_c',comps=['s','c'])]\n",
    "    [active_transporters.append(r) for r in arginine_transport]\n",
    "    active_transporters = list(set(active_transporters))\n",
    "    return active_transporters"
   ]
  },
  {
   "cell_type": "markdown",
   "metadata": {},
   "source": [
    "## Check by group of transporters of metabolite"
   ]
  },
  {
   "cell_type": "code",
   "execution_count": null,
   "metadata": {},
   "outputs": [],
   "source": [
    "def get_necessary_metabolites(model,active_transporters):\n",
    "    necessary_metabolites = []\n",
    "    for r in tqdm(active_transporters):\n",
    "        rxn = model.reactions.get_by_id(r)\n",
    "        for m in rxn.products:\n",
    "            if not isinstance(m,cobrame.Metabolite):\n",
    "                continue\n",
    "            met_root = m.id[:-2]\n",
    "            for i in rxn.reactants:\n",
    "                if met_root in i.id:\n",
    "                    necessary_metabolites.append(m.id)\n",
    "    return list(set(necessary_metabolites))\n",
    "\n",
    "def get_all_available_transport(model,necessary_metabolites):\n",
    "    available_transport = []\n",
    "    at_dict = {}\n",
    "    for m in tqdm(necessary_metabolites):\n",
    "        rxns = get_transport_reactions(model,m,comps=['c','s']) + get_transport_reactions(model,m,comps=['s','c'])\n",
    "        [available_transport.append(r.id) for r in rxns]\n",
    "        at_dict[m] = []\n",
    "        [at_dict[m].append(r.id) for r in rxns]\n",
    "    return list(set(available_transport)), at_dict"
   ]
  },
  {
   "cell_type": "code",
   "execution_count": null,
   "metadata": {},
   "outputs": [],
   "source": [
    "# Previously identified essential metabolites\n",
    "exchange_list = ['4fe4s_s','2fe2s_s','udcpp_s','pydx5p_s','3fe4s_s','cl_s','sheme_s','cu_s','mn2_s',\n",
    "                 'bmocogdp_s','dpm_s','thmpp_s','zn2_s','cbl1_s','cobalt2_s']\n",
    "additional = [m.id for m in sporeme.metabolites if isinstance(m,cobrame.Metabolite)]\n",
    "transported_metabolites = exchange_list+additional"
   ]
  },
  {
   "cell_type": "code",
   "execution_count": null,
   "metadata": {},
   "outputs": [],
   "source": [
    "transport_reactions = get_all_transport(sporeme)\n",
    "print('{} transport reactions identified'.format(len(transport_reactions)))"
   ]
  },
  {
   "cell_type": "code",
   "execution_count": null,
   "metadata": {
    "scrolled": true
   },
   "outputs": [],
   "source": [
    "active_transporters = get_active_transport(transport_reactions)\n",
    "necessary_metabolites = get_necessary_metabolites(sporeme,active_transporters)\n",
    "necessary_metabolites.remove('h_s')\n",
    "necessary_metabolites.remove('h_c')\n",
    "available_transport, at_dict = get_all_available_transport(sporeme,necessary_metabolites)"
   ]
  },
  {
   "cell_type": "code",
   "execution_count": null,
   "metadata": {},
   "outputs": [],
   "source": [
    "print('{} active transport reactions identified'.format(len(active_transporters)))\n",
    "print('{} necessary metabolites identified'.format(len(necessary_metabolites)))\n",
    "print('{} available transport reactions identified'.format(len(available_transport)))"
   ]
  },
  {
   "cell_type": "code",
   "execution_count": null,
   "metadata": {},
   "outputs": [],
   "source": [
    "all_transporters_to_open = list(set(active_transporters + available_transport))\n",
    "print('{} open transport reactions identified'.format(len(all_transporters_to_open)))\n",
    "print('Included {}'.format(set(active_transporters)-set(available_transport)))"
   ]
  },
  {
   "cell_type": "code",
   "execution_count": null,
   "metadata": {},
   "outputs": [],
   "source": [
    "for r in transport_reactions:\n",
    "    if r not in all_transporters_to_open and 'SPONT' not in r:\n",
    "        rxn = sporeme.reactions.get_by_id(r)\n",
    "        rxn.upper_bound = 0 \n",
    "        rxn.lower_bound = 0"
   ]
  },
  {
   "cell_type": "code",
   "execution_count": null,
   "metadata": {
    "scrolled": true
   },
   "outputs": [],
   "source": [
    "solve_me_model(sporeme, max_mu = 0.1, min_mu = .01, using_soplex=False, precision = 1e-6,growth_key = 'sigma')"
   ]
  },
  {
   "cell_type": "code",
   "execution_count": null,
   "metadata": {
    "scrolled": true,
    "tags": []
   },
   "outputs": [],
   "source": [
    "from bacillusme.analysis import sensitivity as ss\n",
    "flux_results_df = ss.transporter_knockout(sporeme,necessary_metabolites, \\\n",
    "                                        NP=20,solution=1,biomass_dilution='biomass_dilution_s',\\\n",
    "                                        growth_key = 'sigma',single_change_function='group_knockout')"
   ]
  },
  {
   "cell_type": "code",
   "execution_count": null,
   "metadata": {},
   "outputs": [],
   "source": [
    "flux_results_df.to_csv('group_KO_flux_results_{}.csv'.format(version))"
   ]
  },
  {
   "cell_type": "code",
   "execution_count": null,
   "metadata": {},
   "outputs": [],
   "source": [
    "flux_results_df = pd.read_csv('group_KO_flux_results_{}.csv'.format(version),index_col=0)\n",
    "flux_results_df.loc['biomass_dilution_s'].sort_values().plot.bar(figsize=(12 ,4))\n",
    "plt.tight_layout()\n",
    "plt.savefig(\"group_KO_flux_results_{}.svg\".format(version), format=\"SVG\")"
   ]
  },
  {
   "cell_type": "markdown",
   "metadata": {},
   "source": [
    "### Close metabolite one by one\n",
    "Including information about arginine being transported"
   ]
  },
  {
   "cell_type": "code",
   "execution_count": null,
   "metadata": {
    "scrolled": true
   },
   "outputs": [],
   "source": [
    "with open(\"./sporeme_solution_{}.pickle\".format(version), \"rb\") as outfile:\n",
    "    sporeme = pickle.load(outfile)"
   ]
  },
  {
   "cell_type": "code",
   "execution_count": null,
   "metadata": {},
   "outputs": [],
   "source": [
    "for r in transport_reactions:\n",
    "    if r not in all_transporters_to_open and 'SPONT' not in r:\n",
    "        rxn = sporeme.reactions.get_by_id(r)\n",
    "        rxn.upper_bound = 0 \n",
    "        rxn.lower_bound = 0"
   ]
  },
  {
   "cell_type": "code",
   "execution_count": null,
   "metadata": {},
   "outputs": [],
   "source": [
    "flux_results_df = pd.read_csv('group_KO_flux_results_{}.csv'.format(version),index_col=0)\n",
    "sorted_mets = flux_results_df.loc['biomass_dilution_s'].sort_values(ascending=False).drop('base').index.to_list()"
   ]
  },
  {
   "cell_type": "code",
   "execution_count": null,
   "metadata": {},
   "outputs": [],
   "source": [
    "sorted_mets.remove('arg__L_s')\n",
    "sorted_mets.append('arg__L_s')"
   ]
  },
  {
   "cell_type": "code",
   "execution_count": null,
   "metadata": {
    "scrolled": true
   },
   "outputs": [],
   "source": [
    "from bacillusme.analysis import sensitivity as ss\n",
    "flux_results_df = ss.transporter_knockout(sporeme,sorted_mets, \\\n",
    "                                        NP=20,solution=1,biomass_dilution='biomass_dilution_s',\\\n",
    "                                        growth_key = 'sigma',single_change_function='group_knockout',sequential=True)\n",
    "flux_results_df.to_csv('group_1by1_KO_flux_results_{}.csv'.format(version))"
   ]
  },
  {
   "cell_type": "code",
   "execution_count": null,
   "metadata": {},
   "outputs": [],
   "source": [
    "flux_results_df = pd.read_csv('group_1by1_KO_flux_results_{}.csv'.format(version),index_col=0)\n",
    "flux_results_df.loc['biomass_dilution_s',sorted_mets[::-1]].plot.bar(figsize=(12,4))\n",
    "plt.tight_layout()\n",
    "plt.savefig(\"group_1by1_KO_flux_results_{}.svg\".format(version), format=\"SVG\")"
   ]
  },
  {
   "cell_type": "markdown",
   "metadata": {},
   "source": [
    "# Cases"
   ]
  },
  {
   "cell_type": "code",
   "execution_count": null,
   "metadata": {},
   "outputs": [],
   "source": [
    "pd.set_option('display.max_colwidth', None)"
   ]
  },
  {
   "cell_type": "markdown",
   "metadata": {},
   "source": [
    "### Original"
   ]
  },
  {
   "cell_type": "code",
   "execution_count": null,
   "metadata": {},
   "outputs": [],
   "source": [
    "# CYTK2 KO\n",
    "version = 'v4'"
   ]
  },
  {
   "cell_type": "code",
   "execution_count": null,
   "metadata": {},
   "outputs": [],
   "source": [
    "flux_results_df = pd.read_csv('group_KO_flux_results_{}.csv'.format(version),index_col=0)\n",
    "flux_results_df.loc['biomass_dilution_s'].sort_values().plot.bar(figsize=(12 ,4))"
   ]
  },
  {
   "cell_type": "code",
   "execution_count": null,
   "metadata": {},
   "outputs": [],
   "source": [
    "flux_results_df = pd.read_csv('group_1by1_KO_flux_results_{}.csv'.format(version),index_col=0)\n",
    "sorted_mets = flux_results_df.loc['biomass_dilution_s'].sort_values(ascending=True)\n",
    "last_met = sorted_mets.index[list(sorted_mets.index).index(sorted_mets[sorted_mets<1e-5].index[-1])+1]\n",
    "print(last_met)\n",
    "flux_dict = flux_results_df[last_met].to_dict() # Last time before model breaks"
   ]
  },
  {
   "cell_type": "code",
   "execution_count": null,
   "metadata": {},
   "outputs": [],
   "source": [
    "flux_results_df = pd.read_csv('group_1by1_KO_flux_results_{}.csv'.format(version),index_col=0)\n",
    "flux_results_df.loc['biomass_dilution_s',sorted_mets.index[::-1]].plot.bar(figsize=(12,4))\n",
    "plt.tight_layout()"
   ]
  },
  {
   "cell_type": "code",
   "execution_count": null,
   "metadata": {},
   "outputs": [],
   "source": [
    "flux_dict['biomass_dilution']"
   ]
  },
  {
   "cell_type": "code",
   "execution_count": 125,
   "metadata": {},
   "outputs": [
    {
     "data": {
      "text/plain": [
       "15.866048221386526"
      ]
     },
     "execution_count": 125,
     "metadata": {},
     "output_type": "execute_result"
    }
   ],
   "source": [
    "met='atp_s' # ATP production and glucose uptake\n",
    "prod_atp_df = flux_based_reactions(sporeme,met,flux_dict=flux_dict,only_types=['MetabolicReaction'])\n",
    "prod_atp_df = prod_atp_df[prod_atp_df['met_flux']>0]\n",
    "prod_atp_df['met_flux'].sum()"
   ]
  },
  {
   "cell_type": "code",
   "execution_count": 126,
   "metadata": {},
   "outputs": [
    {
     "data": {
      "text/plain": [
       "ACKr_REV_BSU29470-MONOMER_s                        0.435925\n",
       "PGK_REV_BSU33930-MONOMER_s                         0.303972\n",
       "PYK_FWD_BSU29180-MONOMER_mod_mn2_mod_k_s           0.222772\n",
       "PRPPS_REV_BSU00510-MONOMER_mod_mn2_mod_pi_s        0.021681\n",
       "ADK1_REV_BSU01370-MONOMER_mod_mg2_s               0.0152716\n",
       "ARGSS_REV_BSU29450-MONOMER_mod_mg2_s            0.000229173\n",
       "URIDK2r_copy2_REV_BSU00280-MONOMER_mod_mg2_s    0.000118324\n",
       "CYTK2_REV_BSU22890-MONOMER_mod_mg2_s            3.04227e-05\n",
       "SUCOAS_FWD_CPLX8J2-7_s                          4.18044e-39\n",
       "LAAL29_FWD_BSU37710-MONOMER_s                   9.05477e-40\n",
       "PRASCSi_REV_BSU06450-MONOMER_s                   3.6099e-40\n",
       "ARGKr_REV_CPLX_dummy_s                          1.41334e-40\n",
       "LAAL23_FWD_BSU37710-MONOMER_s                   1.35944e-40\n",
       "Name: met_flux, dtype: object"
      ]
     },
     "execution_count": 126,
     "metadata": {},
     "output_type": "execute_result"
    }
   ],
   "source": [
    "prod_atp_df['met_flux'].div(prod_atp_df['met_flux'].sum())"
   ]
  },
  {
   "cell_type": "markdown",
   "metadata": {},
   "source": [
    "### All mechanisms KO"
   ]
  },
  {
   "cell_type": "code",
   "execution_count": 105,
   "metadata": {},
   "outputs": [],
   "source": [
    "version = 'v5_all_KO'"
   ]
  },
  {
   "cell_type": "code",
   "execution_count": 109,
   "metadata": {},
   "outputs": [
    {
     "data": {
      "text/plain": [
       "<AxesSubplot:>"
      ]
     },
     "execution_count": 109,
     "metadata": {},
     "output_type": "execute_result"
    },
    {
     "data": {
      "image/png": "[encoded data removed]",
      "text/plain": [
       "<Figure size 864x288 with 1 Axes>"
      ]
     },
     "metadata": {
      "needs_background": "light"
     },
     "output_type": "display_data"
    }
   ],
   "source": [
    "flux_results_df = pd.read_csv('group_KO_flux_results_{}.csv'.format(version),index_col=0)\n",
    "flux_results_df.loc['biomass_dilution_s'].sort_values().plot.bar(figsize=(12 ,4))"
   ]
  },
  {
   "cell_type": "code",
   "execution_count": 107,
   "metadata": {},
   "outputs": [
    {
     "name": "stdout",
     "output_type": "stream",
     "text": [
      "thr__L_s\n"
     ]
    }
   ],
   "source": [
    "flux_results_df = pd.read_csv('group_1by1_KO_flux_results_{}.csv'.format(version),index_col=0)\n",
    "sorted_mets = flux_results_df.loc['biomass_dilution_s'].sort_values(ascending=True)\n",
    "last_met = sorted_mets.index[list(sorted_mets.index).index(sorted_mets[sorted_mets<1e-5].index[-1])+1]\n",
    "print(last_met)\n",
    "flux_dict = flux_results_df[last_met].to_dict() # Last time before model breaks"
   ]
  },
  {
   "cell_type": "code",
   "execution_count": 108,
   "metadata": {},
   "outputs": [
    {
     "data": {
      "image/png": "[encoded data removed]",
      "text/plain": [
       "<Figure size 864x288 with 1 Axes>"
      ]
     },
     "metadata": {
      "needs_background": "light"
     },
     "output_type": "display_data"
    }
   ],
   "source": [
    "flux_results_df = pd.read_csv('group_1by1_KO_flux_results_{}.csv'.format(version),index_col=0)\n",
    "flux_results_df.loc['biomass_dilution_s',sorted_mets.index[::-1]].plot.bar(figsize=(12,4))\n",
    "plt.tight_layout()"
   ]
  },
  {
   "cell_type": "code",
   "execution_count": 110,
   "metadata": {},
   "outputs": [
    {
     "data": {
      "text/plain": [
       "0.011462839961196077"
      ]
     },
     "execution_count": 110,
     "metadata": {},
     "output_type": "execute_result"
    }
   ],
   "source": [
    "flux_dict['biomass_dilution']"
   ]
  },
  {
   "cell_type": "code",
   "execution_count": 111,
   "metadata": {},
   "outputs": [
    {
     "data": {
      "text/plain": [
       "24.56360422878673"
      ]
     },
     "execution_count": 111,
     "metadata": {},
     "output_type": "execute_result"
    }
   ],
   "source": [
    "met='atp_s' # ATP production and glucose uptake\n",
    "prod_atp_df = flux_based_reactions(sporeme,met,flux_dict=flux_dict,only_types=['MetabolicReaction'])\n",
    "prod_atp_df = prod_atp_df[prod_atp_df['met_flux']>0]\n",
    "prod_atp_df['met_flux'].sum()"
   ]
  },
  {
   "cell_type": "code",
   "execution_count": 112,
   "metadata": {},
   "outputs": [
    {
     "data": {
      "text/plain": [
       "PRPPS_REV_BSU00510-MONOMER_mod_mn2_mod_pi_s        0.500522\n",
       "ADK1_REV_BSU01370-MONOMER_mod_mg2_s                0.499333\n",
       "ARGSS_REV_BSU29450-MONOMER_mod_mg2_s            9.02715e-05\n",
       "URIDK2r_copy2_REV_BSU00280-MONOMER_mod_mg2_s    5.46958e-05\n",
       "Name: met_flux, dtype: object"
      ]
     },
     "execution_count": 112,
     "metadata": {},
     "output_type": "execute_result"
    }
   ],
   "source": [
    "prod_atp_df['met_flux'].div(prod_atp_df['met_flux'].sum())"
   ]
  },
  {
   "cell_type": "code",
   "execution_count": 114,
   "metadata": {},
   "outputs": [
    {
     "data": {
      "text/html": [
       "<div>\n",
       "<style scoped>\n",
       "    .dataframe tbody tr th:only-of-type {\n",
       "        vertical-align: middle;\n",
       "    }\n",
       "\n",
       "    .dataframe tbody tr th {\n",
       "        vertical-align: top;\n",
       "    }\n",
       "\n",
       "    .dataframe thead th {\n",
       "        text-align: right;\n",
       "    }\n",
       "</style>\n",
       "<table border=\"1\" class=\"dataframe\">\n",
       "  <thead>\n",
       "    <tr style=\"text-align: right;\">\n",
       "      <th></th>\n",
       "      <th>lb</th>\n",
       "      <th>ub</th>\n",
       "      <th>rxn_flux</th>\n",
       "      <th>met_flux</th>\n",
       "      <th>reaction</th>\n",
       "    </tr>\n",
       "  </thead>\n",
       "  <tbody>\n",
       "    <tr>\n",
       "      <th>PRPPS_REV_BSU00510-MONOMER_mod_mn2_mod_pi_s</th>\n",
       "      <td>0</td>\n",
       "      <td>999999</td>\n",
       "      <td>12.2946</td>\n",
       "      <td>12.2946</td>\n",
       "      <td>amp_s + h_s + prpp_s --&gt; -1.38401264312306e-5*sigma BSU00510-MONOMER_mod_mn2_mod_pi_s + atp_s + r5p_s</td>\n",
       "    </tr>\n",
       "    <tr>\n",
       "      <th>ADK1_REV_BSU01370-MONOMER_mod_mg2_s</th>\n",
       "      <td>0</td>\n",
       "      <td>999999</td>\n",
       "      <td>12.2654</td>\n",
       "      <td>12.2654</td>\n",
       "      <td>2.0 adp_s --&gt; -4.27350427350427e-6*sigma BSU01370-MONOMER_mod_mg2_s + amp_s + atp_s</td>\n",
       "    </tr>\n",
       "    <tr>\n",
       "      <th>PPIabc_FWD_CPLX_dummy_s</th>\n",
       "      <td>0</td>\n",
       "      <td>999999</td>\n",
       "      <td>12.1354</td>\n",
       "      <td>-12.1354</td>\n",
       "      <td>atp_s + h2o_s + ppi_c --&gt; -4.27350427350427e-6*sigma CPLX_dummy_s + adp_s + h_s + pi_s + ppi_s</td>\n",
       "    </tr>\n",
       "    <tr>\n",
       "      <th>ACKr_FWD_BSU29470-MONOMER_s</th>\n",
       "      <td>0</td>\n",
       "      <td>999999</td>\n",
       "      <td>0.0737005</td>\n",
       "      <td>-0.0737005</td>\n",
       "      <td>ac_s + atp_s --&gt; -4.27350427350427e-6*sigma BSU29470-MONOMER_s + actp_s + adp_s</td>\n",
       "    </tr>\n",
       "    <tr>\n",
       "      <th>NDPK2_FWD_BSU22730-MONOMER_mod_mn2_s</th>\n",
       "      <td>0</td>\n",
       "      <td>999999</td>\n",
       "      <td>0.0675318</td>\n",
       "      <td>-0.0675318</td>\n",
       "      <td>atp_s + udp_s --&gt; -4.27350427350427e-6*sigma BSU22730-MONOMER_mod_mn2_s + adp_s + utp_s</td>\n",
       "    </tr>\n",
       "    <tr>\n",
       "      <th>...</th>\n",
       "      <td>...</td>\n",
       "      <td>...</td>\n",
       "      <td>...</td>\n",
       "      <td>...</td>\n",
       "      <td>...</td>\n",
       "    </tr>\n",
       "    <tr>\n",
       "      <th>ACKr_REV_BSU29470-MONOMER_s</th>\n",
       "      <td>0</td>\n",
       "      <td>0</td>\n",
       "      <td>0</td>\n",
       "      <td>0</td>\n",
       "      <td>actp_s + adp_s --&gt; -4.27350427350427e-6*sigma BSU29470-MONOMER_s + ac_s + atp_s</td>\n",
       "    </tr>\n",
       "    <tr>\n",
       "      <th>FACOAL150_anteiso_REV_BSU18250-MONOMER_s</th>\n",
       "      <td>0</td>\n",
       "      <td>999999</td>\n",
       "      <td>0</td>\n",
       "      <td>0</td>\n",
       "      <td>amp_s + fa4coa_s + ppi_s --&gt; -4.27350427350427e-6*sigma BSU18250-MONOMER_s + atp_s + coa_s + fa4_s</td>\n",
       "    </tr>\n",
       "    <tr>\n",
       "      <th>FACOAL150_anteiso_FWD_BSU18250-MONOMER_s</th>\n",
       "      <td>0</td>\n",
       "      <td>999999</td>\n",
       "      <td>0</td>\n",
       "      <td>-0</td>\n",
       "      <td>atp_s + coa_s + fa4_s --&gt; -4.27350427350427e-6*sigma BSU18250-MONOMER_s + amp_s + fa4coa_s + ppi_s</td>\n",
       "    </tr>\n",
       "    <tr>\n",
       "      <th>FACOAL160_REV_BSU28560-MONOMER_mod_mg2_s</th>\n",
       "      <td>0</td>\n",
       "      <td>999999</td>\n",
       "      <td>0</td>\n",
       "      <td>0</td>\n",
       "      <td>amp_s + pmtcoa_s + ppi_s --&gt; -4.27350427350427e-6*sigma BSU28560-MONOMER_mod_mg2_s + atp_s + coa_s + hdca_s</td>\n",
       "    </tr>\n",
       "    <tr>\n",
       "      <th>HEX7_FWD_CPLX8J2-90_s</th>\n",
       "      <td>0</td>\n",
       "      <td>999999</td>\n",
       "      <td>0</td>\n",
       "      <td>-0</td>\n",
       "      <td>atp_s + fru_s --&gt; -4.27350427350427e-6*sigma CPLX8J2-90_s + adp_s + f6p_s + h_s</td>\n",
       "    </tr>\n",
       "  </tbody>\n",
       "</table>\n",
       "<p>418 rows × 5 columns</p>\n",
       "</div>"
      ],
      "text/plain": [
       "                                            lb      ub   rxn_flux   met_flux  \\\n",
       "PRPPS_REV_BSU00510-MONOMER_mod_mn2_mod_pi_s  0  999999    12.2946    12.2946   \n",
       "ADK1_REV_BSU01370-MONOMER_mod_mg2_s          0  999999    12.2654    12.2654   \n",
       "PPIabc_FWD_CPLX_dummy_s                      0  999999    12.1354   -12.1354   \n",
       "ACKr_FWD_BSU29470-MONOMER_s                  0  999999  0.0737005 -0.0737005   \n",
       "NDPK2_FWD_BSU22730-MONOMER_mod_mn2_s         0  999999  0.0675318 -0.0675318   \n",
       "...                                         ..     ...        ...        ...   \n",
       "ACKr_REV_BSU29470-MONOMER_s                  0       0          0          0   \n",
       "FACOAL150_anteiso_REV_BSU18250-MONOMER_s     0  999999          0          0   \n",
       "FACOAL150_anteiso_FWD_BSU18250-MONOMER_s     0  999999          0         -0   \n",
       "FACOAL160_REV_BSU28560-MONOMER_mod_mg2_s     0  999999          0          0   \n",
       "HEX7_FWD_CPLX8J2-90_s                        0  999999          0         -0   \n",
       "\n",
       "                                                                                                                                                reaction  \n",
       "PRPPS_REV_BSU00510-MONOMER_mod_mn2_mod_pi_s        amp_s + h_s + prpp_s --> -1.38401264312306e-5*sigma BSU00510-MONOMER_mod_mn2_mod_pi_s + atp_s + r5p_s  \n",
       "ADK1_REV_BSU01370-MONOMER_mod_mg2_s                                  2.0 adp_s --> -4.27350427350427e-6*sigma BSU01370-MONOMER_mod_mg2_s + amp_s + atp_s  \n",
       "PPIabc_FWD_CPLX_dummy_s                                   atp_s + h2o_s + ppi_c --> -4.27350427350427e-6*sigma CPLX_dummy_s + adp_s + h_s + pi_s + ppi_s  \n",
       "ACKr_FWD_BSU29470-MONOMER_s                                              ac_s + atp_s --> -4.27350427350427e-6*sigma BSU29470-MONOMER_s + actp_s + adp_s  \n",
       "NDPK2_FWD_BSU22730-MONOMER_mod_mn2_s                             atp_s + udp_s --> -4.27350427350427e-6*sigma BSU22730-MONOMER_mod_mn2_s + adp_s + utp_s  \n",
       "...                                                                                                                                                  ...  \n",
       "ACKr_REV_BSU29470-MONOMER_s                                              actp_s + adp_s --> -4.27350427350427e-6*sigma BSU29470-MONOMER_s + ac_s + atp_s  \n",
       "FACOAL150_anteiso_REV_BSU18250-MONOMER_s              amp_s + fa4coa_s + ppi_s --> -4.27350427350427e-6*sigma BSU18250-MONOMER_s + atp_s + coa_s + fa4_s  \n",
       "FACOAL150_anteiso_FWD_BSU18250-MONOMER_s              atp_s + coa_s + fa4_s --> -4.27350427350427e-6*sigma BSU18250-MONOMER_s + amp_s + fa4coa_s + ppi_s  \n",
       "FACOAL160_REV_BSU28560-MONOMER_mod_mg2_s     amp_s + pmtcoa_s + ppi_s --> -4.27350427350427e-6*sigma BSU28560-MONOMER_mod_mg2_s + atp_s + coa_s + hdca_s  \n",
       "HEX7_FWD_CPLX8J2-90_s                                                    atp_s + fru_s --> -4.27350427350427e-6*sigma CPLX8J2-90_s + adp_s + f6p_s + h_s  \n",
       "\n",
       "[418 rows x 5 columns]"
      ]
     },
     "execution_count": 114,
     "metadata": {},
     "output_type": "execute_result"
    }
   ],
   "source": [
    "flux_based_reactions(sporeme,met,flux_dict=flux_dict,only_types=['MetabolicReaction'])"
   ]
  },
  {
   "cell_type": "code",
   "execution_count": 115,
   "metadata": {},
   "outputs": [
    {
     "data": {
      "text/html": [
       "<div>\n",
       "<style scoped>\n",
       "    .dataframe tbody tr th:only-of-type {\n",
       "        vertical-align: middle;\n",
       "    }\n",
       "\n",
       "    .dataframe tbody tr th {\n",
       "        vertical-align: top;\n",
       "    }\n",
       "\n",
       "    .dataframe thead th {\n",
       "        text-align: right;\n",
       "    }\n",
       "</style>\n",
       "<table border=\"1\" class=\"dataframe\">\n",
       "  <thead>\n",
       "    <tr style=\"text-align: right;\">\n",
       "      <th></th>\n",
       "      <th>lb</th>\n",
       "      <th>ub</th>\n",
       "      <th>rxn_flux</th>\n",
       "      <th>met_flux</th>\n",
       "      <th>reaction</th>\n",
       "    </tr>\n",
       "  </thead>\n",
       "  <tbody>\n",
       "    <tr>\n",
       "      <th>GUAPRT_REV_BSU00680-MONOMER_s</th>\n",
       "      <td>0</td>\n",
       "      <td>999999</td>\n",
       "      <td>12.2991</td>\n",
       "      <td>12.2991</td>\n",
       "      <td>gmp_s + ppi_s --&gt; -4.27350427350427e-6*sigma BSU00680-MONOMER_s + gua_s + prpp_s</td>\n",
       "    </tr>\n",
       "    <tr>\n",
       "      <th>PRPPS_REV_BSU00510-MONOMER_mod_mn2_mod_pi_s</th>\n",
       "      <td>0</td>\n",
       "      <td>999999</td>\n",
       "      <td>12.2946</td>\n",
       "      <td>-12.2946</td>\n",
       "      <td>amp_s + h_s + prpp_s --&gt; -1.38401264312306e-5*sigma BSU00510-MONOMER_mod_mn2_mod_pi_s + atp_s + r5p_s</td>\n",
       "    </tr>\n",
       "    <tr>\n",
       "      <th>ORPT_REV_BSU15560-MONOMER_s</th>\n",
       "      <td>0</td>\n",
       "      <td>999999</td>\n",
       "      <td>0.00404941</td>\n",
       "      <td>-0.00404941</td>\n",
       "      <td>orot_s + prpp_s --&gt; -1.86331330653874e-5*sigma BSU15560-MONOMER_s + orot5p_s + ppi_s</td>\n",
       "    </tr>\n",
       "    <tr>\n",
       "      <th>ATPPRT_FWD_BSU34920-MONOMER_s</th>\n",
       "      <td>0</td>\n",
       "      <td>999999</td>\n",
       "      <td>0.000298377</td>\n",
       "      <td>-0.000298377</td>\n",
       "      <td>atp_s + prpp_s --&gt; -4.27350427350427e-6*sigma BSU34920-MONOMER_s + ppi_s + prbatp_s</td>\n",
       "    </tr>\n",
       "    <tr>\n",
       "      <th>ANPRT_FWD_BSU22670-MONOMER_s</th>\n",
       "      <td>0</td>\n",
       "      <td>999999</td>\n",
       "      <td>0.00012065</td>\n",
       "      <td>-0.00012065</td>\n",
       "      <td>anth_s + prpp_s --&gt; -1.35361847172882e-5*sigma BSU22670-MONOMER_s + ppi_s + pran_s</td>\n",
       "    </tr>\n",
       "    <tr>\n",
       "      <th>NNDPR_FWD_BSU27860-MONOMER_mod_mg2_s</th>\n",
       "      <td>0</td>\n",
       "      <td>999999</td>\n",
       "      <td>5.98408e-10</td>\n",
       "      <td>-5.98408e-10</td>\n",
       "      <td>2.0 h_s + prpp_s + quln_s --&gt; -2.4712036904137e-6*sigma BSU27860-MONOMER_mod_mg2_s + co2_s + nicrnt_s + ppi_s</td>\n",
       "    </tr>\n",
       "    <tr>\n",
       "      <th>PRPPS_FWD_BSU00510-MONOMER_mod_mn2_mod_pi_s</th>\n",
       "      <td>0</td>\n",
       "      <td>999999</td>\n",
       "      <td>0</td>\n",
       "      <td>0</td>\n",
       "      <td>atp_s + r5p_s --&gt; -1.38401264312306e-5*sigma BSU00510-MONOMER_mod_mn2_mod_pi_s + amp_s + h_s + prpp_s</td>\n",
       "    </tr>\n",
       "    <tr>\n",
       "      <th>ADPT_FWD_BSU27610-MONOMER_mod_mg2_s</th>\n",
       "      <td>0</td>\n",
       "      <td>999999</td>\n",
       "      <td>0</td>\n",
       "      <td>-0</td>\n",
       "      <td>ade_s + prpp_s --&gt; -1.30688922594939e-5*sigma BSU27610-MONOMER_mod_mg2_s + amp_s + ppi_s</td>\n",
       "    </tr>\n",
       "    <tr>\n",
       "      <th>NAPRT_REV_BSU31750-MONOMER_s</th>\n",
       "      <td>0</td>\n",
       "      <td>999999</td>\n",
       "      <td>0</td>\n",
       "      <td>0</td>\n",
       "      <td>nicrnt_s + ppi_s --&gt; -2.68603911285977e-6*sigma BSU31750-MONOMER_s + h_s + nac_s + prpp_s</td>\n",
       "    </tr>\n",
       "    <tr>\n",
       "      <th>ATPPRT_REV_BSU34920-MONOMER_s</th>\n",
       "      <td>0</td>\n",
       "      <td>999999</td>\n",
       "      <td>0</td>\n",
       "      <td>0</td>\n",
       "      <td>ppi_s + prbatp_s --&gt; -4.27350427350427e-6*sigma BSU34920-MONOMER_s + atp_s + prpp_s</td>\n",
       "    </tr>\n",
       "    <tr>\n",
       "      <th>HXPRT_REV_BSU00680-MONOMER_s</th>\n",
       "      <td>0</td>\n",
       "      <td>999999</td>\n",
       "      <td>0</td>\n",
       "      <td>0</td>\n",
       "      <td>imp_s + ppi_s --&gt; -7.37520462238496e-6*sigma BSU00680-MONOMER_s + hxan_s + prpp_s</td>\n",
       "    </tr>\n",
       "    <tr>\n",
       "      <th>GUAPRT_FWD_BSU00680-MONOMER_s</th>\n",
       "      <td>0</td>\n",
       "      <td>999999</td>\n",
       "      <td>0</td>\n",
       "      <td>-0</td>\n",
       "      <td>gua_s + prpp_s --&gt; -4.27350427350427e-6*sigma BSU00680-MONOMER_s + gmp_s + ppi_s</td>\n",
       "    </tr>\n",
       "    <tr>\n",
       "      <th>XPPT_FWD_BSU22070-MONOMER_s</th>\n",
       "      <td>0</td>\n",
       "      <td>999999</td>\n",
       "      <td>0</td>\n",
       "      <td>-0</td>\n",
       "      <td>prpp_s + xan_s --&gt; -2.02594348405928e-5*sigma BSU22070-MONOMER_s + ppi_s + xmp_s</td>\n",
       "    </tr>\n",
       "    <tr>\n",
       "      <th>NAPRT_FWD_BSU31750-MONOMER_s</th>\n",
       "      <td>0</td>\n",
       "      <td>999999</td>\n",
       "      <td>0</td>\n",
       "      <td>-0</td>\n",
       "      <td>h_s + nac_s + prpp_s --&gt; -2.68603911285977e-6*sigma BSU31750-MONOMER_s + nicrnt_s + ppi_s</td>\n",
       "    </tr>\n",
       "    <tr>\n",
       "      <th>ORPT_FWD_BSU15560-MONOMER_s</th>\n",
       "      <td>0</td>\n",
       "      <td>999999</td>\n",
       "      <td>0</td>\n",
       "      <td>0</td>\n",
       "      <td>orot5p_s + ppi_s --&gt; -1.86331330653874e-5*sigma BSU15560-MONOMER_s + orot_s + prpp_s</td>\n",
       "    </tr>\n",
       "    <tr>\n",
       "      <th>HXPRT_FWD_BSU00680-MONOMER_s</th>\n",
       "      <td>0</td>\n",
       "      <td>999999</td>\n",
       "      <td>0</td>\n",
       "      <td>-0</td>\n",
       "      <td>hxan_s + prpp_s --&gt; -7.37520462238496e-6*sigma BSU00680-MONOMER_s + imp_s + ppi_s</td>\n",
       "    </tr>\n",
       "    <tr>\n",
       "      <th>UPPRT_FWD_BSU36890-MONOMER_s</th>\n",
       "      <td>0</td>\n",
       "      <td>999999</td>\n",
       "      <td>0</td>\n",
       "      <td>-0</td>\n",
       "      <td>prpp_s + ura_s --&gt; -1.89261171325844e-5*sigma BSU36890-MONOMER_s + ppi_s + ump_s</td>\n",
       "    </tr>\n",
       "    <tr>\n",
       "      <th>GLUPRT_FWD_BSU06490-MONOMER_s</th>\n",
       "      <td>0</td>\n",
       "      <td>999999</td>\n",
       "      <td>0</td>\n",
       "      <td>-0</td>\n",
       "      <td>gln__L_s + h2o_s + prpp_s --&gt; -1.03232804738843e-5*sigma BSU06490-MONOMER_s + glu__L_s + ppi_s + pram_s</td>\n",
       "    </tr>\n",
       "  </tbody>\n",
       "</table>\n",
       "</div>"
      ],
      "text/plain": [
       "                                            lb      ub     rxn_flux  \\\n",
       "GUAPRT_REV_BSU00680-MONOMER_s                0  999999      12.2991   \n",
       "PRPPS_REV_BSU00510-MONOMER_mod_mn2_mod_pi_s  0  999999      12.2946   \n",
       "ORPT_REV_BSU15560-MONOMER_s                  0  999999   0.00404941   \n",
       "ATPPRT_FWD_BSU34920-MONOMER_s                0  999999  0.000298377   \n",
       "ANPRT_FWD_BSU22670-MONOMER_s                 0  999999   0.00012065   \n",
       "NNDPR_FWD_BSU27860-MONOMER_mod_mg2_s         0  999999  5.98408e-10   \n",
       "PRPPS_FWD_BSU00510-MONOMER_mod_mn2_mod_pi_s  0  999999            0   \n",
       "ADPT_FWD_BSU27610-MONOMER_mod_mg2_s          0  999999            0   \n",
       "NAPRT_REV_BSU31750-MONOMER_s                 0  999999            0   \n",
       "ATPPRT_REV_BSU34920-MONOMER_s                0  999999            0   \n",
       "HXPRT_REV_BSU00680-MONOMER_s                 0  999999            0   \n",
       "GUAPRT_FWD_BSU00680-MONOMER_s                0  999999            0   \n",
       "XPPT_FWD_BSU22070-MONOMER_s                  0  999999            0   \n",
       "NAPRT_FWD_BSU31750-MONOMER_s                 0  999999            0   \n",
       "ORPT_FWD_BSU15560-MONOMER_s                  0  999999            0   \n",
       "HXPRT_FWD_BSU00680-MONOMER_s                 0  999999            0   \n",
       "UPPRT_FWD_BSU36890-MONOMER_s                 0  999999            0   \n",
       "GLUPRT_FWD_BSU06490-MONOMER_s                0  999999            0   \n",
       "\n",
       "                                                met_flux  \\\n",
       "GUAPRT_REV_BSU00680-MONOMER_s                    12.2991   \n",
       "PRPPS_REV_BSU00510-MONOMER_mod_mn2_mod_pi_s     -12.2946   \n",
       "ORPT_REV_BSU15560-MONOMER_s                  -0.00404941   \n",
       "ATPPRT_FWD_BSU34920-MONOMER_s               -0.000298377   \n",
       "ANPRT_FWD_BSU22670-MONOMER_s                 -0.00012065   \n",
       "NNDPR_FWD_BSU27860-MONOMER_mod_mg2_s        -5.98408e-10   \n",
       "PRPPS_FWD_BSU00510-MONOMER_mod_mn2_mod_pi_s            0   \n",
       "ADPT_FWD_BSU27610-MONOMER_mod_mg2_s                   -0   \n",
       "NAPRT_REV_BSU31750-MONOMER_s                           0   \n",
       "ATPPRT_REV_BSU34920-MONOMER_s                          0   \n",
       "HXPRT_REV_BSU00680-MONOMER_s                           0   \n",
       "GUAPRT_FWD_BSU00680-MONOMER_s                         -0   \n",
       "XPPT_FWD_BSU22070-MONOMER_s                           -0   \n",
       "NAPRT_FWD_BSU31750-MONOMER_s                          -0   \n",
       "ORPT_FWD_BSU15560-MONOMER_s                            0   \n",
       "HXPRT_FWD_BSU00680-MONOMER_s                          -0   \n",
       "UPPRT_FWD_BSU36890-MONOMER_s                          -0   \n",
       "GLUPRT_FWD_BSU06490-MONOMER_s                         -0   \n",
       "\n",
       "                                                                                                                                                  reaction  \n",
       "GUAPRT_REV_BSU00680-MONOMER_s                                             gmp_s + ppi_s --> -4.27350427350427e-6*sigma BSU00680-MONOMER_s + gua_s + prpp_s  \n",
       "PRPPS_REV_BSU00510-MONOMER_mod_mn2_mod_pi_s          amp_s + h_s + prpp_s --> -1.38401264312306e-5*sigma BSU00510-MONOMER_mod_mn2_mod_pi_s + atp_s + r5p_s  \n",
       "ORPT_REV_BSU15560-MONOMER_s                                           orot_s + prpp_s --> -1.86331330653874e-5*sigma BSU15560-MONOMER_s + orot5p_s + ppi_s  \n",
       "ATPPRT_FWD_BSU34920-MONOMER_s                                          atp_s + prpp_s --> -4.27350427350427e-6*sigma BSU34920-MONOMER_s + ppi_s + prbatp_s  \n",
       "ANPRT_FWD_BSU22670-MONOMER_s                                            anth_s + prpp_s --> -1.35361847172882e-5*sigma BSU22670-MONOMER_s + ppi_s + pran_s  \n",
       "NNDPR_FWD_BSU27860-MONOMER_mod_mg2_s         2.0 h_s + prpp_s + quln_s --> -2.4712036904137e-6*sigma BSU27860-MONOMER_mod_mg2_s + co2_s + nicrnt_s + ppi_s  \n",
       "PRPPS_FWD_BSU00510-MONOMER_mod_mn2_mod_pi_s          atp_s + r5p_s --> -1.38401264312306e-5*sigma BSU00510-MONOMER_mod_mn2_mod_pi_s + amp_s + h_s + prpp_s  \n",
       "ADPT_FWD_BSU27610-MONOMER_mod_mg2_s                               ade_s + prpp_s --> -1.30688922594939e-5*sigma BSU27610-MONOMER_mod_mg2_s + amp_s + ppi_s  \n",
       "NAPRT_REV_BSU31750-MONOMER_s                                     nicrnt_s + ppi_s --> -2.68603911285977e-6*sigma BSU31750-MONOMER_s + h_s + nac_s + prpp_s  \n",
       "ATPPRT_REV_BSU34920-MONOMER_s                                          ppi_s + prbatp_s --> -4.27350427350427e-6*sigma BSU34920-MONOMER_s + atp_s + prpp_s  \n",
       "HXPRT_REV_BSU00680-MONOMER_s                                             imp_s + ppi_s --> -7.37520462238496e-6*sigma BSU00680-MONOMER_s + hxan_s + prpp_s  \n",
       "GUAPRT_FWD_BSU00680-MONOMER_s                                             gua_s + prpp_s --> -4.27350427350427e-6*sigma BSU00680-MONOMER_s + gmp_s + ppi_s  \n",
       "XPPT_FWD_BSU22070-MONOMER_s                                               prpp_s + xan_s --> -2.02594348405928e-5*sigma BSU22070-MONOMER_s + ppi_s + xmp_s  \n",
       "NAPRT_FWD_BSU31750-MONOMER_s                                     h_s + nac_s + prpp_s --> -2.68603911285977e-6*sigma BSU31750-MONOMER_s + nicrnt_s + ppi_s  \n",
       "ORPT_FWD_BSU15560-MONOMER_s                                           orot5p_s + ppi_s --> -1.86331330653874e-5*sigma BSU15560-MONOMER_s + orot_s + prpp_s  \n",
       "HXPRT_FWD_BSU00680-MONOMER_s                                             hxan_s + prpp_s --> -7.37520462238496e-6*sigma BSU00680-MONOMER_s + imp_s + ppi_s  \n",
       "UPPRT_FWD_BSU36890-MONOMER_s                                              prpp_s + ura_s --> -1.89261171325844e-5*sigma BSU36890-MONOMER_s + ppi_s + ump_s  \n",
       "GLUPRT_FWD_BSU06490-MONOMER_s                      gln__L_s + h2o_s + prpp_s --> -1.03232804738843e-5*sigma BSU06490-MONOMER_s + glu__L_s + ppi_s + pram_s  "
      ]
     },
     "execution_count": 115,
     "metadata": {},
     "output_type": "execute_result"
    }
   ],
   "source": [
    "flux_based_reactions(sporeme,'prpp_s',flux_dict=flux_dict,only_types=['MetabolicReaction'])"
   ]
  },
  {
   "cell_type": "code",
   "execution_count": 116,
   "metadata": {},
   "outputs": [
    {
     "data": {
      "text/plain": [
       "'5-Phospho-alpha-D-ribose 1-diphosphate'"
      ]
     },
     "execution_count": 116,
     "metadata": {},
     "output_type": "execute_result"
    }
   ],
   "source": [
    "sporeme.metabolites.prpp_s.name"
   ]
  }
 ],
 "metadata": {
  "kernelspec": {
   "display_name": "me_modeling",
   "language": "python",
   "name": "me_modeling"
  },
  "language_info": {
   "codemirror_mode": {
    "name": "ipython",
    "version": 3
   },
   "file_extension": ".py",
   "mimetype": "text/x-python",
   "name": "python",
   "nbconvert_exporter": "python",
   "pygments_lexer": "ipython3",
   "version": "3.6.8"
  }
 },
 "nbformat": 4,
 "nbformat_minor": 4
}
