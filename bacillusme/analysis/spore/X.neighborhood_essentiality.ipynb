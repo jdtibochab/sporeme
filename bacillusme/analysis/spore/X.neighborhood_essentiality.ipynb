{
 "cells": [
  {
   "cell_type": "code",
   "execution_count": 1,
   "id": "81b8fbbf-2625-49bf-bbab-3aa35256ce4c",
   "metadata": {
    "scrolled": true
   },
   "outputs": [
    {
     "name": "stderr",
     "output_type": "stream",
     "text": [
      "/home/jt/me_modeling/lib/python3.6/site-packages/cobra-0.5.11-py3.6-linux-x86_64.egg/cobra/io/sbml3.py:24: UserWarning: Install lxml for faster SBML I/O\n",
      "  warn(\"Install lxml for faster SBML I/O\")\n",
      "/home/jt/me_modeling/lib/python3.6/site-packages/cobra-0.5.11-py3.6-linux-x86_64.egg/cobra/io/__init__.py:12: UserWarning: cobra.io.sbml requires libsbml\n",
      "  warn(\"cobra.io.sbml requires libsbml\")\n"
     ]
    },
    {
     "name": "stdout",
     "output_type": "stream",
     "text": [
      "/home/jt/me_modeling/lib/python3.6/site-packages/cobra-0.5.11-py3.6-linux-x86_64.egg/cobra/__init__.py\n",
      "/home/jt/UCSD/cobrame/cobrame/__init__.py\n",
      "/home/jt/UCSD/bacillusme-master/bacillusme/__init__.py\n"
     ]
    }
   ],
   "source": [
    "from __future__ import print_function, division, absolute_import\n",
    "\n",
    "import sys\n",
    "\n",
    "import qminospy\n",
    "from qminospy.me2 import ME_NLP\n",
    "import os\n",
    "\n",
    "# python imports\n",
    "from copy import copy\n",
    "import re\n",
    "from os.path import join, dirname, abspath\n",
    "import sys\n",
    "sys.path.append('/home/UCSD/cobra_utils')\n",
    "from collections import defaultdict\n",
    "import pickle\n",
    "\n",
    "# third party imports\n",
    "import pandas\n",
    "import cobra\n",
    "from tqdm import tqdm\n",
    "import numpy as np\n",
    "import scipy\n",
    "\n",
    "# COBRAme\n",
    "import cobrame\n",
    "from cobrame.util import building, mu, me_model_interface\n",
    "from cobrame.io.json import save_json_me_model, save_reduced_json_me_model\n",
    "\n",
    "# ECOLIme\n",
    "import bacillusme\n",
    "from bacillusme import (transcription, translation, flat_files, generics, formulas, compartments)\n",
    "from cobrame.util.helper_functions import *\n",
    "\n",
    "import copy\n",
    "from scipy import stats\n",
    "import matplotlib.pyplot as plt\n",
    "%load_ext autoreload\n",
    "%autoreload 2\n",
    "print(cobra.__file__)\n",
    "print(cobrame.__file__)\n",
    "print(bacillusme.__file__)\n",
    "ecoli_files = dirname(abspath(bacillusme.__file__))\n",
    "pd.set_option('display.max_colwidth', None)"
   ]
  },
  {
   "cell_type": "code",
   "execution_count": 2,
   "id": "6b4461a2-361b-4028-a7f5-d2725c789182",
   "metadata": {},
   "outputs": [],
   "source": [
    "def add_transport_to_model(model,mets):\n",
    "    for met in mets:\n",
    "        rxn = cobrame.MEReaction('{}_transport'.format(met))\n",
    "        model.add_reactions([rxn])\n",
    "        rxn.add_metabolites({\n",
    "            '{}_c'.format(met):-1,\n",
    "            '{}_s'.format(met):1\n",
    "        })\n",
    "        rxn.bounds = (-1000,1000)\n",
    "        print(rxn.reaction)\n",
    "def add_sinks_to_model(model,mets):\n",
    "    rlist = []\n",
    "    for met in mets:\n",
    "        rxn = cobrame.MEReaction('SK_{}'.format(met))\n",
    "        model.add_reactions([rxn])\n",
    "        rxn.add_metabolites({\n",
    "            met:1\n",
    "        })\n",
    "        rxn.bounds = (0,1e-15)\n",
    "        rlist.append(rxn)\n",
    "    return rlist"
   ]
  },
  {
   "cell_type": "markdown",
   "id": "1e2b50e4-52cc-43ab-bb2c-46e06814d288",
   "metadata": {},
   "source": [
    "## Setup"
   ]
  },
  {
   "cell_type": "code",
   "execution_count": 3,
   "id": "91d0be47-5559-42f6-8c61-677229fbd139",
   "metadata": {
    "scrolled": true
   },
   "outputs": [],
   "source": [
    "with open(\"./sporeme_solution_v4_naive.pickle\", \"rb\") as outfile:\n",
    "    sporeme = pickle.load(outfile)"
   ]
  },
  {
   "cell_type": "code",
   "execution_count": 4,
   "id": "5e803470-7cbb-473f-96b6-75e8f0be6480",
   "metadata": {},
   "outputs": [
    {
     "name": "stdout",
     "output_type": "stream",
     "text": [
      "atp_c <=> atp_s\n",
      "ctp_c <=> ctp_s\n",
      "gtp_c <=> gtp_s\n"
     ]
    }
   ],
   "source": [
    "add_transport_to_model(sporeme,['atp','ctp','gtp'])"
   ]
  },
  {
   "cell_type": "code",
   "execution_count": 5,
   "id": "5a5e8d01-015b-4f88-ad82-70a05f42fa9e",
   "metadata": {
    "scrolled": true,
    "tags": []
   },
   "outputs": [],
   "source": [
    "genes = [i + '_s' for i in list(pd.read_csv('confirmed_depletion_neighborhood.txt',header=None)[1].values)]"
   ]
  },
  {
   "cell_type": "code",
   "execution_count": 6,
   "id": "c9727f20-1210-4f95-891b-f26a18808ee8",
   "metadata": {
    "scrolled": true,
    "tags": []
   },
   "outputs": [
    {
     "data": {
      "text/plain": [
       "{<TranslatedGene protein_BSU00980_s at 0x7f212014e320>,\n",
       " <TranslatedGene protein_BSU02230_s at 0x7f211fff5320>,\n",
       " <TranslatedGene protein_BSU04520_s at 0x7f211fe69c18>,\n",
       " <TranslatedGene protein_BSU04740_s at 0x7f211fe169b0>,\n",
       " <TranslatedGene protein_BSU06420_s at 0x7f211fdabbe0>,\n",
       " <TranslatedGene protein_BSU06450_s at 0x7f211fdc2a58>,\n",
       " <TranslatedGene protein_BSU06480_s at 0x7f211fd5a470>,\n",
       " <TranslatedGene protein_BSU06490_s at 0x7f211fd5a908>,\n",
       " <TranslatedGene protein_BSU06500_s at 0x7f211fd5aa58>,\n",
       " <TranslatedGene protein_BSU06510_s at 0x7f211fd5afd0>,\n",
       " <TranslatedGene protein_BSU06530_s at 0x7f211fd716d8>,\n",
       " <TranslatedGene protein_BSU07840_s at 0x7f211fcfa3c8>,\n",
       " <TranslatedGene protein_BSU10220_s at 0x7f211fb92160>,\n",
       " <TranslatedGene protein_BSU11010_s at 0x7f211fba7ba8>,\n",
       " <TranslatedGene protein_BSU11190_s at 0x7f211fbbf0f0>,\n",
       " <TranslatedGene protein_BSU11200_s at 0x7f211fbbf630>,\n",
       " <TranslatedGene protein_BSU11210_s at 0x7f211fbbfb38>,\n",
       " <TranslatedGene protein_BSU11220_s at 0x7f211fbbffd0>,\n",
       " <TranslatedGene protein_BSU11230_s at 0x7f211fb572b0>,\n",
       " <TranslatedGene protein_BSU11240_s at 0x7f211fb57748>,\n",
       " <TranslatedGene protein_BSU11250_s at 0x7f211fb57940>,\n",
       " <TranslatedGene protein_BSU11870_s at 0x7f211fb1d438>,\n",
       " <TranslatedGene protein_BSU12290_s at 0x7f211fac8320>,\n",
       " <TranslatedGene protein_BSU12910_s at 0x7f211faf8748>,\n",
       " <TranslatedGene protein_BSU13120_s at 0x7f211faa5cc0>,\n",
       " <TranslatedGene protein_BSU13130_s at 0x7f211fabc208>,\n",
       " <TranslatedGene protein_BSU13180_s at 0x7f211fabcc88>,\n",
       " <TranslatedGene protein_BSU14580_s at 0x7f211f9f6320>,\n",
       " <TranslatedGene protein_BSU14590_s at 0x7f211f9f6828>,\n",
       " <TranslatedGene protein_BSU14600_s at 0x7f211f9f6cc0>,\n",
       " <TranslatedGene protein_BSU14610_s at 0x7f211f98c208>,\n",
       " <TranslatedGene protein_BSU15490_s at 0x7f211f8c61d0>,\n",
       " <TranslatedGene protein_BSU15500_s at 0x7f211f8c66d8>,\n",
       " <TranslatedGene protein_BSU15510_s at 0x7f211f8c6c18>,\n",
       " <TranslatedGene protein_BSU15520_s at 0x7f211f8dc1d0>,\n",
       " <TranslatedGene protein_BSU15530_s at 0x7f211f8dc5f8>,\n",
       " <TranslatedGene protein_BSU15540_s at 0x7f211f8dc860>,\n",
       " <TranslatedGene protein_BSU15550_s at 0x7f211f8dcba8>,\n",
       " <TranslatedGene protein_BSU15560_s at 0x7f211f8f6048>,\n",
       " <TranslatedGene protein_BSU15570_s at 0x7f211f8f65c0>,\n",
       " <TranslatedGene protein_BSU15580_s at 0x7f211f8f6a20>,\n",
       " <TranslatedGene protein_BSU15590_s at 0x7f211f8f6eb8>,\n",
       " <TranslatedGene protein_BSU16090_s at 0x7f211f82ccc0>,\n",
       " <TranslatedGene protein_BSU16100_s at 0x7f211f82cf60>,\n",
       " <TranslatedGene protein_BSU17680_s at 0x7f211f73a470>,\n",
       " <TranslatedGene protein_BSU18000_s at 0x7f211f6d2278>,\n",
       " <TranslatedGene protein_BSU18470_s at 0x7f211f6982e8>,\n",
       " <TranslatedGene protein_BSU19360_s at 0x7f211f65c470>,\n",
       " <TranslatedGene protein_BSU19370_s at 0x7f211f65c9e8>,\n",
       " <TranslatedGene protein_BSU21770_s at 0x7f211f639668>,\n",
       " <TranslatedGene protein_BSU21870_s at 0x7f211f5cf7f0>,\n",
       " <TranslatedGene protein_BSU21910_s at 0x7f211f5e62e8>,\n",
       " <TranslatedGene protein_BSU23250_s at 0x7f211f48bc18>,\n",
       " <TranslatedGene protein_BSU23260_s at 0x7f211f4a2128>,\n",
       " <TranslatedGene protein_BSU23270_s at 0x7f211f4a2278>,\n",
       " <TranslatedGene protein_BSU23280_s at 0x7f211f4a2828>,\n",
       " <TranslatedGene protein_BSU24150_s at 0x7f211f3f04a8>,\n",
       " <TranslatedGene protein_BSU27010_s at 0x7f211f2ac4a8>,\n",
       " <TranslatedGene protein_BSU27250_s at 0x7f211f25c8d0>,\n",
       " <TranslatedGene protein_BSU27260_s at 0x7f211f25cac8>,\n",
       " <TranslatedGene protein_BSU27330_s at 0x7f211f270b38>,\n",
       " <TranslatedGene protein_BSU27850_s at 0x7f211f1cba90>,\n",
       " <TranslatedGene protein_BSU27860_s at 0x7f211f1cbef0>,\n",
       " <TranslatedGene protein_BSU27870_s at 0x7f211f1e2470>,\n",
       " <TranslatedGene protein_BSU28290_s at 0x7f211f156128>,\n",
       " <TranslatedGene protein_BSU28300_s at 0x7f211f1566a0>,\n",
       " <TranslatedGene protein_BSU28310_s at 0x7f211f156ba8>,\n",
       " <TranslatedGene protein_BSU28540_s at 0x7f211f1197f0>,\n",
       " <TranslatedGene protein_BSU29120_s at 0x7f211f0bc080>,\n",
       " <TranslatedGene protein_BSU29440_s at 0x7f211f017710>,\n",
       " <TranslatedGene protein_BSU29450_s at 0x7f211f017d30>,\n",
       " <TranslatedGene protein_BSU32260_s at 0x7f211ee289b0>,\n",
       " <TranslatedGene protein_BSU32830_s at 0x7f211ed86ba8>,\n",
       " <TranslatedGene protein_BSU32840_s at 0x7f211ed9e160>,\n",
       " <TranslatedGene protein_BSU33040_s at 0x7f211ed9e630>,\n",
       " <TranslatedGene protein_BSU33170_s at 0x7f211edb5160>,\n",
       " <TranslatedGene protein_BSU33430_s at 0x7f211ed0d400>,\n",
       " <TranslatedGene protein_BSU34790_s at 0x7f211ec59e48>,\n",
       " <TranslatedGene protein_BSU37110_s at 0x7f211ea54f98>,\n",
       " <TranslatedGene protein_BSU37170_s at 0x7f211ea7f470>,\n",
       " <TranslatedGene protein_BSU38710_s at 0x7f211e917d68>,\n",
       " <TranslatedGene protein_BSU38980_s at 0x7f211e944a90>,\n",
       " <TranslatedGene protein_BSU38990_s at 0x7f211e944fd0>}"
      ]
     },
     "execution_count": 6,
     "metadata": {},
     "output_type": "execute_result"
    }
   ],
   "source": [
    "cplxs = []\n",
    "for i in genes:\n",
    "    m = sporeme.metabolites.get_by_id('protein_'+i)\n",
    "#     c = find_complex(m)\n",
    "    cplxs.append(m)\n",
    "cplxs = set(cplxs)\n",
    "cplxs"
   ]
  },
  {
   "cell_type": "code",
   "execution_count": 7,
   "id": "359548f9-5621-4d34-9134-a70e3bc90146",
   "metadata": {
    "scrolled": true,
    "tags": []
   },
   "outputs": [
    {
     "data": {
      "text/plain": [
       "[('SK_protein_BSU14590_s', ' --> protein_BSU14590_s'),\n",
       " ('SK_protein_BSU23280_s', ' --> protein_BSU23280_s'),\n",
       " ('SK_protein_BSU15560_s', ' --> protein_BSU15560_s'),\n",
       " ('SK_protein_BSU15540_s', ' --> protein_BSU15540_s'),\n",
       " ('SK_protein_BSU29120_s', ' --> protein_BSU29120_s'),\n",
       " ('SK_protein_BSU27250_s', ' --> protein_BSU27250_s'),\n",
       " ('SK_protein_BSU11190_s', ' --> protein_BSU11190_s'),\n",
       " ('SK_protein_BSU06490_s', ' --> protein_BSU06490_s'),\n",
       " ('SK_protein_BSU28290_s', ' --> protein_BSU28290_s'),\n",
       " ('SK_protein_BSU23260_s', ' --> protein_BSU23260_s'),\n",
       " ('SK_protein_BSU11250_s', ' --> protein_BSU11250_s'),\n",
       " ('SK_protein_BSU32840_s', ' --> protein_BSU32840_s'),\n",
       " ('SK_protein_BSU10220_s', ' --> protein_BSU10220_s'),\n",
       " ('SK_protein_BSU33170_s', ' --> protein_BSU33170_s'),\n",
       " ('SK_protein_BSU38990_s', ' --> protein_BSU38990_s'),\n",
       " ('SK_protein_BSU32260_s', ' --> protein_BSU32260_s'),\n",
       " ('SK_protein_BSU04740_s', ' --> protein_BSU04740_s'),\n",
       " ('SK_protein_BSU15520_s', ' --> protein_BSU15520_s'),\n",
       " ('SK_protein_BSU19370_s', ' --> protein_BSU19370_s'),\n",
       " ('SK_protein_BSU15490_s', ' --> protein_BSU15490_s'),\n",
       " ('SK_protein_BSU14610_s', ' --> protein_BSU14610_s'),\n",
       " ('SK_protein_BSU13130_s', ' --> protein_BSU13130_s'),\n",
       " ('SK_protein_BSU15580_s', ' --> protein_BSU15580_s'),\n",
       " ('SK_protein_BSU06450_s', ' --> protein_BSU06450_s'),\n",
       " ('SK_protein_BSU06500_s', ' --> protein_BSU06500_s'),\n",
       " ('SK_protein_BSU18000_s', ' --> protein_BSU18000_s'),\n",
       " ('SK_protein_BSU23270_s', ' --> protein_BSU23270_s'),\n",
       " ('SK_protein_BSU27850_s', ' --> protein_BSU27850_s'),\n",
       " ('SK_protein_BSU38980_s', ' --> protein_BSU38980_s'),\n",
       " ('SK_protein_BSU11230_s', ' --> protein_BSU11230_s'),\n",
       " ('SK_protein_BSU27260_s', ' --> protein_BSU27260_s'),\n",
       " ('SK_protein_BSU21910_s', ' --> protein_BSU21910_s'),\n",
       " ('SK_protein_BSU18470_s', ' --> protein_BSU18470_s'),\n",
       " ('SK_protein_BSU12290_s', ' --> protein_BSU12290_s'),\n",
       " ('SK_protein_BSU11210_s', ' --> protein_BSU11210_s'),\n",
       " ('SK_protein_BSU14580_s', ' --> protein_BSU14580_s'),\n",
       " ('SK_protein_BSU02230_s', ' --> protein_BSU02230_s'),\n",
       " ('SK_protein_BSU00980_s', ' --> protein_BSU00980_s'),\n",
       " ('SK_protein_BSU17680_s', ' --> protein_BSU17680_s'),\n",
       " ('SK_protein_BSU27330_s', ' --> protein_BSU27330_s'),\n",
       " ('SK_protein_BSU32830_s', ' --> protein_BSU32830_s'),\n",
       " ('SK_protein_BSU28310_s', ' --> protein_BSU28310_s'),\n",
       " ('SK_protein_BSU15550_s', ' --> protein_BSU15550_s'),\n",
       " ('SK_protein_BSU11010_s', ' --> protein_BSU11010_s'),\n",
       " ('SK_protein_BSU06420_s', ' --> protein_BSU06420_s'),\n",
       " ('SK_protein_BSU07840_s', ' --> protein_BSU07840_s'),\n",
       " ('SK_protein_BSU33430_s', ' --> protein_BSU33430_s'),\n",
       " ('SK_protein_BSU15510_s', ' --> protein_BSU15510_s'),\n",
       " ('SK_protein_BSU23250_s', ' --> protein_BSU23250_s'),\n",
       " ('SK_protein_BSU11870_s', ' --> protein_BSU11870_s'),\n",
       " ('SK_protein_BSU04520_s', ' --> protein_BSU04520_s'),\n",
       " ('SK_protein_BSU37170_s', ' --> protein_BSU37170_s'),\n",
       " ('SK_protein_BSU13180_s', ' --> protein_BSU13180_s'),\n",
       " ('SK_protein_BSU27870_s', ' --> protein_BSU27870_s'),\n",
       " ('SK_protein_BSU27010_s', ' --> protein_BSU27010_s'),\n",
       " ('SK_protein_BSU24150_s', ' --> protein_BSU24150_s'),\n",
       " ('SK_protein_BSU19360_s', ' --> protein_BSU19360_s'),\n",
       " ('SK_protein_BSU14600_s', ' --> protein_BSU14600_s'),\n",
       " ('SK_protein_BSU13120_s', ' --> protein_BSU13120_s'),\n",
       " ('SK_protein_BSU06480_s', ' --> protein_BSU06480_s'),\n",
       " ('SK_protein_BSU06510_s', ' --> protein_BSU06510_s'),\n",
       " ('SK_protein_BSU16090_s', ' --> protein_BSU16090_s'),\n",
       " ('SK_protein_BSU29450_s', ' --> protein_BSU29450_s'),\n",
       " ('SK_protein_BSU38710_s', ' --> protein_BSU38710_s'),\n",
       " ('SK_protein_BSU15570_s', ' --> protein_BSU15570_s'),\n",
       " ('SK_protein_BSU15530_s', ' --> protein_BSU15530_s'),\n",
       " ('SK_protein_BSU11200_s', ' --> protein_BSU11200_s'),\n",
       " ('SK_protein_BSU33040_s', ' --> protein_BSU33040_s'),\n",
       " ('SK_protein_BSU34790_s', ' --> protein_BSU34790_s'),\n",
       " ('SK_protein_BSU21770_s', ' --> protein_BSU21770_s'),\n",
       " ('SK_protein_BSU28300_s', ' --> protein_BSU28300_s'),\n",
       " ('SK_protein_BSU15590_s', ' --> protein_BSU15590_s'),\n",
       " ('SK_protein_BSU06530_s', ' --> protein_BSU06530_s'),\n",
       " ('SK_protein_BSU15500_s', ' --> protein_BSU15500_s'),\n",
       " ('SK_protein_BSU27860_s', ' --> protein_BSU27860_s'),\n",
       " ('SK_protein_BSU29440_s', ' --> protein_BSU29440_s'),\n",
       " ('SK_protein_BSU11240_s', ' --> protein_BSU11240_s'),\n",
       " ('SK_protein_BSU12910_s', ' --> protein_BSU12910_s'),\n",
       " ('SK_protein_BSU16100_s', ' --> protein_BSU16100_s'),\n",
       " ('SK_protein_BSU21870_s', ' --> protein_BSU21870_s'),\n",
       " ('SK_protein_BSU37110_s', ' --> protein_BSU37110_s'),\n",
       " ('SK_protein_BSU11220_s', ' --> protein_BSU11220_s'),\n",
       " ('SK_protein_BSU28540_s', ' --> protein_BSU28540_s')]"
      ]
     },
     "execution_count": 7,
     "metadata": {},
     "output_type": "execute_result"
    }
   ],
   "source": [
    "rlist = add_sinks_to_model(sporeme,cplxs)\n",
    "[(r.id,r.reaction) for r in rlist]"
   ]
  },
  {
   "cell_type": "code",
   "execution_count": 8,
   "id": "b7711af5-2b9f-4e04-ab55-66c95f5fb677",
   "metadata": {},
   "outputs": [],
   "source": [
    "sporeme.objective = rlist"
   ]
  },
  {
   "cell_type": "code",
   "execution_count": 9,
   "id": "ffd29f5c-e646-4824-949d-928e772928c2",
   "metadata": {},
   "outputs": [],
   "source": [
    "from bacillusme.analysis import sensitivity as ss"
   ]
  },
  {
   "cell_type": "code",
   "execution_count": 10,
   "id": "459f4763-6e5e-4f10-81d6-2619cadb3d99",
   "metadata": {
    "scrolled": true,
    "tags": []
   },
   "outputs": [
    {
     "name": "stdout",
     "output_type": "stream",
     "text": [
      "iter\tmuopt    \ta     \tb     \tmu1       \tstat1\n",
      "Finished compiling expressions in 277.960589 seconds\n",
      "Finished substituting S,lb,ub in 8.126358 seconds\n",
      "Finished makeME_LP in 1.481331 seconds\n",
      "Getting MINOS parameters from ME_NLP...\n",
      "1 0.05 0.05 0.1 0.05 optimal\n",
      "Finished substituting S,lb,ub in 7.992590 seconds\n",
      "Finished makeME_LP in 1.452786 seconds\n",
      "Getting MINOS parameters from ME_NLP...\n",
      "2 0.05 0.05 0.07500000000000001 0.07500000000000001 1\n",
      "Finished substituting S,lb,ub in 8.477287 seconds\n",
      "Finished makeME_LP in 1.716203 seconds\n",
      "Getting MINOS parameters from ME_NLP...\n",
      "3 0.0625 0.0625 0.07500000000000001 0.0625 optimal\n",
      "Finished substituting S,lb,ub in 7.724838 seconds\n",
      "Finished makeME_LP in 1.467609 seconds\n",
      "Getting MINOS parameters from ME_NLP...\n",
      "4 0.0625 0.0625 0.06875 0.06875 1\n",
      "Finished substituting S,lb,ub in 7.441894 seconds\n",
      "Finished makeME_LP in 1.446157 seconds\n",
      "Getting MINOS parameters from ME_NLP...\n",
      "5 0.065625 0.065625 0.06875 0.065625 optimal\n",
      "Finished substituting S,lb,ub in 7.087964 seconds\n",
      "Finished makeME_LP in 1.440539 seconds\n",
      "Getting MINOS parameters from ME_NLP...\n",
      "6 0.06718750000000001 0.06718750000000001 0.06875 0.06718750000000001 optimal\n",
      "Finished substituting S,lb,ub in 7.173423 seconds\n",
      "Finished makeME_LP in 1.453758 seconds\n",
      "Getting MINOS parameters from ME_NLP...\n",
      "7 0.06718750000000001 0.06718750000000001 0.06796875000000001 0.06796875000000001 1\n",
      "Finished substituting S,lb,ub in 7.134834 seconds\n",
      "Finished makeME_LP in 1.440908 seconds\n",
      "Getting MINOS parameters from ME_NLP...\n",
      "8 0.06718750000000001 0.06718750000000001 0.06757812500000002 0.06757812500000002 1\n",
      "Finished substituting S,lb,ub in 7.284267 seconds\n",
      "Finished makeME_LP in 1.737488 seconds\n",
      "Getting MINOS parameters from ME_NLP...\n",
      "9 0.06738281250000001 0.06738281250000001 0.06757812500000002 0.06738281250000001 optimal\n",
      "Finished substituting S,lb,ub in 7.048312 seconds\n",
      "Finished makeME_LP in 1.451685 seconds\n",
      "Getting MINOS parameters from ME_NLP...\n",
      "10 0.06748046875000002 0.06748046875000002 0.06757812500000002 0.06748046875000002 optimal\n",
      "Finished substituting S,lb,ub in 7.094059 seconds\n",
      "Finished makeME_LP in 1.441511 seconds\n",
      "Getting MINOS parameters from ME_NLP...\n",
      "11 0.06752929687500002 0.06752929687500002 0.06757812500000002 0.06752929687500002 optimal\n",
      "Finished substituting S,lb,ub in 7.128652 seconds\n",
      "Finished makeME_LP in 1.439315 seconds\n",
      "Getting MINOS parameters from ME_NLP...\n",
      "12 0.06752929687500002 0.06752929687500002 0.06755371093750001 0.06755371093750001 1\n",
      "Finished substituting S,lb,ub in 7.023634 seconds\n",
      "Finished makeME_LP in 1.436478 seconds\n",
      "Getting MINOS parameters from ME_NLP...\n",
      "13 0.06752929687500002 0.06752929687500002 0.06754150390625002 0.06754150390625002 1\n",
      "Finished substituting S,lb,ub in 7.135898 seconds\n",
      "Finished makeME_LP in 1.445302 seconds\n",
      "Getting MINOS parameters from ME_NLP...\n",
      "14 0.06752929687500002 0.06752929687500002 0.06753540039062503 0.06753540039062503 1\n",
      "Finished substituting S,lb,ub in 7.212916 seconds\n",
      "Finished makeME_LP in 1.440176 seconds\n",
      "Getting MINOS parameters from ME_NLP...\n",
      "15 0.06752929687500002 0.06752929687500002 0.06753234863281252 0.06753234863281252 1\n",
      "Finished substituting S,lb,ub in 7.069137 seconds\n",
      "Finished makeME_LP in 1.440171 seconds\n",
      "Getting MINOS parameters from ME_NLP...\n",
      "16 0.06753082275390626 0.06753082275390626 0.06753234863281252 0.06753082275390626 optimal\n",
      "Finished substituting S,lb,ub in 7.185803 seconds\n",
      "Finished makeME_LP in 1.441262 seconds\n",
      "Getting MINOS parameters from ME_NLP...\n",
      "17 0.06753158569335939 0.06753158569335939 0.06753234863281252 0.06753158569335939 optimal\n",
      "Bisection done in 1184.51 seconds\n"
     ]
    }
   ],
   "source": [
    "solve_me_model(sporeme,\n",
    "               max_mu = 0.1,\n",
    "               min_mu = .01,\n",
    "               using_soplex=False,\n",
    "               precision = 1e-6,\n",
    "               growth_key = 'sigma',\n",
    "               verbosity=2)"
   ]
  },
  {
   "cell_type": "code",
   "execution_count": 11,
   "id": "9112971a-a5f5-49a4-9eed-59177f695ffb",
   "metadata": {},
   "outputs": [
    {
     "data": {
      "text/plain": [
       "flux        \n",
       "1.000000e-15    83\n",
       "dtype: int64"
      ]
     },
     "execution_count": 11,
     "metadata": {},
     "output_type": "execute_result"
    }
   ],
   "source": [
    "pd.DataFrame.from_dict({'flux':sporeme.solution.x_dict}).T[[r.id for r in rlist]].T.sort_values('flux').value_counts()"
   ]
  },
  {
   "cell_type": "markdown",
   "id": "9e0c1e60-01eb-49aa-a870-9bddc08710fb",
   "metadata": {},
   "source": [
    "## Analysis"
   ]
  },
  {
   "cell_type": "code",
   "execution_count": null,
   "id": "289fe175-9b54-4b88-8daa-1a1ef4682bd1",
   "metadata": {},
   "outputs": [
    {
     "name": "stderr",
     "output_type": "stream",
     "text": [
      "SK_protein_BSU14590_s response (10 threads):  61%|██████▏   | 51/83 [6:22:57<10:29:47, 1180.85s/it]"
     ]
    }
   ],
   "source": [
    "flux_responses = ss.all_flux_responses(sporeme,genes,NP=10,precision=1e-6,solution=sporeme.solution,\n",
    "                       single_change_function='knockout_protein_sink',growth_key='sigma')\n",
    "flux_responses.to_csv('essentiality_raw_results_neighborhood.csv')"
   ]
  },
  {
   "cell_type": "code",
   "execution_count": null,
   "id": "7fcac0d7-a717-4191-8112-ac5b6d0696a4",
   "metadata": {},
   "outputs": [],
   "source": [
    "flux_responses.loc[[r.id for r in rlist]]"
   ]
  },
  {
   "cell_type": "markdown",
   "id": "3da12071-8e89-4823-8af8-7095d08465c1",
   "metadata": {},
   "source": [
    "### Gene interdependence"
   ]
  },
  {
   "cell_type": "code",
   "execution_count": null,
   "id": "f11fa791-636f-4250-a8d6-a3dfafdcd65b",
   "metadata": {},
   "outputs": [],
   "source": [
    "with open(\"./sporeme_solution_v4_naive.pickle\", \"rb\") as outfile:\n",
    "    sporeme = pickle.load(outfile)"
   ]
  },
  {
   "cell_type": "code",
   "execution_count": null,
   "id": "43562b31-816f-450b-9c9d-d80cfc58963e",
   "metadata": {
    "scrolled": true,
    "tags": []
   },
   "outputs": [],
   "source": [
    "locus_to_name = pd.read_csv('../gene_name_dictionary.csv',index_col=0)['name'].to_dict()\n",
    "name_to_locus = pd.read_csv('../gene_name_dictionary.csv',index_col=1)['locus_id'].to_dict()"
   ]
  },
  {
   "cell_type": "code",
   "execution_count": null,
   "id": "76a4f280-fd9e-4002-a3ba-4602325ea1e4",
   "metadata": {},
   "outputs": [],
   "source": [
    "import pandas as pd\n",
    "df = pd.read_csv('essentiality_raw_results_neighborhood.csv',index_col=0)\n"
   ]
  },
  {
   "cell_type": "code",
   "execution_count": null,
   "id": "122ead2c-83f5-4005-b30a-b2039ddf5423",
   "metadata": {},
   "outputs": [],
   "source": [
    "cutoff = 1e-16\n",
    "translation = df.loc[[r.id for r in rlist]]\n",
    "active_base = translation[translation['base']>cutoff].T.drop('base')\n",
    "inactive_base = translation[translation['base']<=cutoff].T.drop('base')"
   ]
  },
  {
   "cell_type": "code",
   "execution_count": null,
   "id": "502db467-992f-4846-9fd7-5bf8fe66b9a9",
   "metadata": {
    "scrolled": true,
    "tags": []
   },
   "outputs": [],
   "source": [
    "id_dep = defaultdict(list)\n",
    "name_dep = defaultdict(list)\n",
    "fwd_id_dep = defaultdict(list)\n",
    "fwd_name_dep = defaultdict(list)\n",
    "for g,row in active_base.iterrows():\n",
    "    g = g.split('_s')[0]\n",
    "    gname = locus_to_name[g]\n",
    "    for i,_ in row[row<cutoff].items():\n",
    "        gene = i.split('SK_protein_')[1].split('_s')[0]\n",
    "        gene_name = locus_to_name[gene]\n",
    "        id_dep[gene].append(g)\n",
    "        name_dep[gene_name].append(gname)\n",
    "        \n",
    "        fwd_id_dep[g].append(gene)\n",
    "        fwd_name_dep[gname].append(gene_name)\n",
    "        "
   ]
  },
  {
   "cell_type": "markdown",
   "id": "036ff269-d8f9-4370-8e7e-99adb4422bdd",
   "metadata": {},
   "source": [
    "### Known depletions"
   ]
  },
  {
   "cell_type": "code",
   "execution_count": null,
   "id": "8b94ed38-887c-440b-b801-dd25058899da",
   "metadata": {},
   "outputs": [],
   "source": [
    "known_depletions = [g[0].lower() + g[1:] for g in list(pd.read_csv('proteomics/known_depletions.txt')['protein'].values)]\n",
    "confirmed_depletions = ['pckA','purL','ilvB','ilvE','citZ','acsA','etfA','acoC','sigF','yxbC','lutC',\n",
    "                  'argJ','hpf']"
   ]
  },
  {
   "cell_type": "markdown",
   "id": "83765065-1fc4-4493-8a00-587371b933cd",
   "metadata": {},
   "source": [
    "## Forward interdependence"
   ]
  },
  {
   "cell_type": "code",
   "execution_count": 27,
   "id": "e4494f1b-e017-4b07-a305-e8d98b125c58",
   "metadata": {},
   "outputs": [],
   "source": [
    "# importing networkx\n",
    "import networkx as nx\n",
    "# importing matplotlib.pyplot\n",
    "import matplotlib.pyplot as plt\n",
    "plt.rcParams['svg.fonttype'] = 'none'\n",
    "G = nx.DiGraph()\n",
    "\n",
    "for i in fwd_name_dep:\n",
    "    dep_genes = fwd_name_dep[i]\n",
    "    for j in dep_genes:\n",
    "        if j==i: continue\n",
    "        G.add_edge(i,j)"
   ]
  },
  {
   "cell_type": "code",
   "execution_count": 28,
   "id": "05d6343b-fbc9-4c26-af79-033134de7879",
   "metadata": {},
   "outputs": [],
   "source": [
    "color_map = []\n",
    "degree = []\n",
    "labels = {}\n",
    "for node in G:\n",
    "    d = len(fwd_name_dep[node])\n",
    "    degree.append(d)\n",
    "    name = locus_to_name[node] if node in locus_to_name else node\n",
    "    if name in confirmed_depletions:\n",
    "        color_map.append('green')\n",
    "    elif name in known_depletions:\n",
    "        color_map.append('blue')\n",
    "    else: \n",
    "        color_map.append('gray')\n",
    "#     if d > 5:\n",
    "    labels[node] = locus_to_name[node] if node in locus_to_name else node"
   ]
  },
  {
   "cell_type": "code",
   "execution_count": 73,
   "id": "146f698b-abab-45c1-ba7a-f57d4cc71800",
   "metadata": {},
   "outputs": [
    {
     "data": {
      "image/png": "[encoded data removed]",
      "text/plain": [
       "<Figure size 576x576 with 1 Axes>"
      ]
     },
     "metadata": {},
     "output_type": "display_data"
    }
   ],
   "source": [
    "plt.figure(figsize=(8,8))\n",
    "pos = nx.spring_layout(G, k=1e-5)\n",
    "nx.draw(G,\n",
    "#        pos=pos,\n",
    "       with_labels = True,\n",
    "       node_size=[i*50 for i in degree],\n",
    "#        arrowsize=20,\n",
    "#        width = 1.5,\n",
    "#        font_size=15,\n",
    "       node_color=color_map\n",
    "       )\n",
    "# plt.savefig('./figures/network_gene_interdependence_spring_fwd_transport_neighborhood.svg',format='SVG')"
   ]
  },
  {
   "cell_type": "markdown",
   "id": "1acd4b91-e141-4658-a613-42d3d69f6b12",
   "metadata": {},
   "source": [
    "#### Are any of the nodes essential in the FS?"
   ]
  },
  {
   "cell_type": "code",
   "execution_count": 161,
   "id": "b980a1ba-28d8-46ae-92eb-10ac0883874b",
   "metadata": {},
   "outputs": [
    {
     "data": {
      "text/plain": [
       "False    56\n",
       "Name: FS_essential, dtype: int64"
      ]
     },
     "execution_count": 161,
     "metadata": {},
     "output_type": "execute_result"
    }
   ],
   "source": [
    "summary = pd.read_csv('./essentiality_summary.csv',index_col=1)\n",
    "summary.loc[[i for i in G.nodes if i in summary.index]]['FS_essential'].value_counts()"
   ]
  },
  {
   "cell_type": "markdown",
   "id": "53faec9f-b02c-437f-b811-48c8c2ce7f31",
   "metadata": {},
   "source": [
    "## Subgraphs"
   ]
  },
  {
   "cell_type": "code",
   "execution_count": 101,
   "id": "13083db2-f34c-4d7f-8a12-13a666fbd05b",
   "metadata": {},
   "outputs": [],
   "source": [
    "def get_color_map(G):\n",
    "    color_map = []\n",
    "    degree = []\n",
    "    labels = {}\n",
    "    for node in G:\n",
    "        d = len(fwd_name_dep[node])\n",
    "        degree.append(d)\n",
    "        name = locus_to_name[node] if node in locus_to_name else node\n",
    "        if name in confirmed_depletions:\n",
    "            color_map.append('green')\n",
    "        elif name in known_depletions:\n",
    "            color_map.append('blue')\n",
    "        else: \n",
    "            color_map.append('gray')\n",
    "    #     if d > 5:\n",
    "        labels[node] = locus_to_name[node] if node in locus_to_name else node\n",
    "    return color_map,degree,labels"
   ]
  },
  {
   "cell_type": "code",
   "execution_count": 144,
   "id": "5750fa99-9d3c-45f1-ac02-ed8fc79fb665",
   "metadata": {
    "tags": []
   },
   "outputs": [
    {
     "name": "stdout",
     "output_type": "stream",
     "text": [
      "subgraph 0 has 2 nodes\n",
      "\tNodes: {'carA', 'carB'}\n",
      "subgraph 1 has 4 nodes\n",
      "\tNodes: {'argD', 'argC', 'argJ', 'argB'}\n",
      "subgraph 2 has 9 nodes\n",
      "\tNodes: {'sat', 'cysH', 'metAA', 'metE', 'samT', 'metI', 'hom', 'yvrB', 'cysP'}\n",
      "subgraph 3 has 2 nodes\n",
      "\tNodes: {'ilvH', 'ilvB'}\n",
      "subgraph 4 has 3 nodes\n",
      "\tNodes: {'ilvD', 'ilvA', 'ilvC'}\n",
      "subgraph 5 has 3 nodes\n",
      "\tNodes: {'nadA', 'nadC', 'nadB'}\n",
      "subgraph 6 has 6 nodes\n",
      "\tNodes: {'pdhA', 'pdhC', 'odhB', 'odhA', 'pdhB', 'pdhD'}\n",
      "subgraph 8 has 8 nodes\n",
      "\tNodes: {'purD', 'purC', 'purF', 'purT', 'purL', 'purN', 'purE', 'purM'}\n",
      "subgraph 9 has 2 nodes\n",
      "\tNodes: {'pyrAA', 'pyrAB'}\n",
      "subgraph 13 has 2 nodes\n",
      "\tNodes: {'sucD', 'sucC'}\n"
     ]
    },
    {
     "data": {
      "image/png": "[encoded data removed]",
      "text/plain": [
       "<Figure size 72x72 with 1 Axes>"
      ]
     },
     "metadata": {},
     "output_type": "display_data"
    },
    {
     "data": {
      "image/png": "[encoded data removed]",
      "text/plain": [
       "<Figure size 72x72 with 1 Axes>"
      ]
     },
     "metadata": {},
     "output_type": "display_data"
    },
    {
     "data": {
      "image/png": "[encoded data removed]",
      "text/plain": [
       "<Figure size 144x144 with 1 Axes>"
      ]
     },
     "metadata": {},
     "output_type": "display_data"
    },
    {
     "data": {
      "image/png": "[encoded data removed]",
      "text/plain": [
       "<Figure size 72x72 with 1 Axes>"
      ]
     },
     "metadata": {},
     "output_type": "display_data"
    },
    {
     "data": {
      "image/png": "[encoded data removed]",
      "text/plain": [
       "<Figure size 72x72 with 1 Axes>"
      ]
     },
     "metadata": {},
     "output_type": "display_data"
    },
    {
     "data": {
      "image/png": "[encoded data removed]",
      "text/plain": [
       "<Figure size 72x72 with 1 Axes>"
      ]
     },
     "metadata": {},
     "output_type": "display_data"
    },
    {
     "data": {
      "image/png": "[encoded data removed]",
      "text/plain": [
       "<Figure size 144x144 with 1 Axes>"
      ]
     },
     "metadata": {},
     "output_type": "display_data"
    },
    {
     "data": {
      "image/png": "[encoded data removed]",
      "text/plain": [
       "<Figure size 144x144 with 1 Axes>"
      ]
     },
     "metadata": {},
     "output_type": "display_data"
    },
    {
     "data": {
      "image/png": "[encoded data removed]",
      "text/plain": [
       "<Figure size 72x72 with 1 Axes>"
      ]
     },
     "metadata": {},
     "output_type": "display_data"
    },
    {
     "data": {
      "image/png": "[encoded data removed]",
      "text/plain": [
       "<Figure size 72x72 with 1 Axes>"
      ]
     },
     "metadata": {},
     "output_type": "display_data"
    }
   ],
   "source": [
    "UG = G.to_undirected()\n",
    "# extract subgraphs\n",
    "sub_graphs = nx.connected_components(UG)\n",
    "\n",
    "for i, sg in enumerate(sub_graphs):\n",
    "    if not set(known_depletions) & sg: continue\n",
    "    print (\"subgraph {} has {} nodes\".format(i, len(sg)))\n",
    "    print (\"\\tNodes:\", sg)\n",
    "    SG = G.subgraph(sg)\n",
    "    color_map,degree,labels = get_color_map(SG)\n",
    "    if len(SG.nodes) > 4:\n",
    "        plt.figure(figsize=(2,2))\n",
    "    else:\n",
    "        plt.figure(figsize=(1,1))\n",
    "        \n",
    "        \n",
    "    pos = nx.spring_layout(SG, k=2.0)\n",
    "    nx.draw(SG,\n",
    "           pos=pos,\n",
    "           with_labels = True,\n",
    "    #        node_size=[i*50 for i in degree],\n",
    "    #        arrowsize=20,\n",
    "    #        width = 1.5,\n",
    "    #        font_size=15,\n",
    "           node_color=color_map\n",
    "           )\n",
    "    plt.savefig('figures/network_sg_{}.svg'.format(i),format='SVG')"
   ]
  },
  {
   "cell_type": "markdown",
   "id": "6614b305-baa2-4eb1-8183-d50b59f46074",
   "metadata": {},
   "source": [
    "## Forward interdependence clustergram"
   ]
  },
  {
   "cell_type": "code",
   "execution_count": 47,
   "id": "bee1e0a6-8c2c-439e-a8a4-eed312b26c2e",
   "metadata": {},
   "outputs": [],
   "source": [
    "d = {}\n",
    "for k,v in fwd_name_dep.items():\n",
    "    d[k] = {}\n",
    "    for i in v:\n",
    "        d[k][i] = 0"
   ]
  },
  {
   "cell_type": "code",
   "execution_count": 48,
   "id": "6c0ddd8a-dc2f-45d6-a726-08fd584da3fd",
   "metadata": {},
   "outputs": [],
   "source": [
    "kodf = pd.DataFrame.from_dict(d).fillna(1).T"
   ]
  },
  {
   "cell_type": "code",
   "execution_count": 49,
   "id": "f50a24e4-429b-407c-bfa1-960cc44ddfed",
   "metadata": {},
   "outputs": [
    {
     "data": {
      "text/html": [
       "<div>\n",
       "<style scoped>\n",
       "    .dataframe tbody tr th:only-of-type {\n",
       "        vertical-align: middle;\n",
       "    }\n",
       "\n",
       "    .dataframe tbody tr th {\n",
       "        vertical-align: top;\n",
       "    }\n",
       "\n",
       "    .dataframe thead th {\n",
       "        text-align: right;\n",
       "    }\n",
       "</style>\n",
       "<table border=\"1\" class=\"dataframe\">\n",
       "  <thead>\n",
       "    <tr style=\"text-align: right;\">\n",
       "      <th></th>\n",
       "      <th>carA</th>\n",
       "      <th>carB</th>\n",
       "      <th>argH</th>\n",
       "      <th>adhA</th>\n",
       "      <th>argB</th>\n",
       "      <th>argD</th>\n",
       "      <th>argF</th>\n",
       "      <th>argC</th>\n",
       "      <th>argG</th>\n",
       "      <th>argJ</th>\n",
       "      <th>...</th>\n",
       "      <th>sigH</th>\n",
       "      <th>tal</th>\n",
       "      <th>sucC</th>\n",
       "      <th>sucD</th>\n",
       "      <th>trxB</th>\n",
       "      <th>thyA</th>\n",
       "      <th>udk</th>\n",
       "      <th>ydbM</th>\n",
       "      <th>yfkN</th>\n",
       "      <th>yxlA</th>\n",
       "    </tr>\n",
       "  </thead>\n",
       "  <tbody>\n",
       "    <tr>\n",
       "      <th>carA</th>\n",
       "      <td>0.0</td>\n",
       "      <td>0.0</td>\n",
       "      <td>1.0</td>\n",
       "      <td>1.0</td>\n",
       "      <td>1.0</td>\n",
       "      <td>1.0</td>\n",
       "      <td>1.0</td>\n",
       "      <td>1.0</td>\n",
       "      <td>1.0</td>\n",
       "      <td>1.0</td>\n",
       "      <td>...</td>\n",
       "      <td>1.0</td>\n",
       "      <td>1.0</td>\n",
       "      <td>1.0</td>\n",
       "      <td>1.0</td>\n",
       "      <td>1.0</td>\n",
       "      <td>1.0</td>\n",
       "      <td>1.0</td>\n",
       "      <td>1.0</td>\n",
       "      <td>1.0</td>\n",
       "      <td>1.0</td>\n",
       "    </tr>\n",
       "    <tr>\n",
       "      <th>argH</th>\n",
       "      <td>1.0</td>\n",
       "      <td>1.0</td>\n",
       "      <td>0.0</td>\n",
       "      <td>1.0</td>\n",
       "      <td>1.0</td>\n",
       "      <td>1.0</td>\n",
       "      <td>1.0</td>\n",
       "      <td>1.0</td>\n",
       "      <td>1.0</td>\n",
       "      <td>1.0</td>\n",
       "      <td>...</td>\n",
       "      <td>1.0</td>\n",
       "      <td>1.0</td>\n",
       "      <td>1.0</td>\n",
       "      <td>1.0</td>\n",
       "      <td>1.0</td>\n",
       "      <td>1.0</td>\n",
       "      <td>1.0</td>\n",
       "      <td>1.0</td>\n",
       "      <td>1.0</td>\n",
       "      <td>1.0</td>\n",
       "    </tr>\n",
       "    <tr>\n",
       "      <th>adhA</th>\n",
       "      <td>1.0</td>\n",
       "      <td>1.0</td>\n",
       "      <td>1.0</td>\n",
       "      <td>0.0</td>\n",
       "      <td>1.0</td>\n",
       "      <td>1.0</td>\n",
       "      <td>1.0</td>\n",
       "      <td>1.0</td>\n",
       "      <td>1.0</td>\n",
       "      <td>1.0</td>\n",
       "      <td>...</td>\n",
       "      <td>1.0</td>\n",
       "      <td>1.0</td>\n",
       "      <td>1.0</td>\n",
       "      <td>1.0</td>\n",
       "      <td>1.0</td>\n",
       "      <td>1.0</td>\n",
       "      <td>1.0</td>\n",
       "      <td>1.0</td>\n",
       "      <td>1.0</td>\n",
       "      <td>1.0</td>\n",
       "    </tr>\n",
       "    <tr>\n",
       "      <th>argD</th>\n",
       "      <td>1.0</td>\n",
       "      <td>1.0</td>\n",
       "      <td>1.0</td>\n",
       "      <td>1.0</td>\n",
       "      <td>0.0</td>\n",
       "      <td>0.0</td>\n",
       "      <td>1.0</td>\n",
       "      <td>1.0</td>\n",
       "      <td>1.0</td>\n",
       "      <td>1.0</td>\n",
       "      <td>...</td>\n",
       "      <td>1.0</td>\n",
       "      <td>1.0</td>\n",
       "      <td>1.0</td>\n",
       "      <td>1.0</td>\n",
       "      <td>1.0</td>\n",
       "      <td>1.0</td>\n",
       "      <td>1.0</td>\n",
       "      <td>1.0</td>\n",
       "      <td>1.0</td>\n",
       "      <td>1.0</td>\n",
       "    </tr>\n",
       "    <tr>\n",
       "      <th>argF</th>\n",
       "      <td>1.0</td>\n",
       "      <td>1.0</td>\n",
       "      <td>1.0</td>\n",
       "      <td>1.0</td>\n",
       "      <td>1.0</td>\n",
       "      <td>1.0</td>\n",
       "      <td>0.0</td>\n",
       "      <td>1.0</td>\n",
       "      <td>1.0</td>\n",
       "      <td>1.0</td>\n",
       "      <td>...</td>\n",
       "      <td>1.0</td>\n",
       "      <td>1.0</td>\n",
       "      <td>1.0</td>\n",
       "      <td>1.0</td>\n",
       "      <td>1.0</td>\n",
       "      <td>1.0</td>\n",
       "      <td>1.0</td>\n",
       "      <td>1.0</td>\n",
       "      <td>1.0</td>\n",
       "      <td>1.0</td>\n",
       "    </tr>\n",
       "    <tr>\n",
       "      <th>...</th>\n",
       "      <td>...</td>\n",
       "      <td>...</td>\n",
       "      <td>...</td>\n",
       "      <td>...</td>\n",
       "      <td>...</td>\n",
       "      <td>...</td>\n",
       "      <td>...</td>\n",
       "      <td>...</td>\n",
       "      <td>...</td>\n",
       "      <td>...</td>\n",
       "      <td>...</td>\n",
       "      <td>...</td>\n",
       "      <td>...</td>\n",
       "      <td>...</td>\n",
       "      <td>...</td>\n",
       "      <td>...</td>\n",
       "      <td>...</td>\n",
       "      <td>...</td>\n",
       "      <td>...</td>\n",
       "      <td>...</td>\n",
       "      <td>...</td>\n",
       "    </tr>\n",
       "    <tr>\n",
       "      <th>udk</th>\n",
       "      <td>1.0</td>\n",
       "      <td>1.0</td>\n",
       "      <td>1.0</td>\n",
       "      <td>1.0</td>\n",
       "      <td>1.0</td>\n",
       "      <td>1.0</td>\n",
       "      <td>1.0</td>\n",
       "      <td>1.0</td>\n",
       "      <td>1.0</td>\n",
       "      <td>1.0</td>\n",
       "      <td>...</td>\n",
       "      <td>1.0</td>\n",
       "      <td>1.0</td>\n",
       "      <td>1.0</td>\n",
       "      <td>1.0</td>\n",
       "      <td>1.0</td>\n",
       "      <td>1.0</td>\n",
       "      <td>0.0</td>\n",
       "      <td>1.0</td>\n",
       "      <td>1.0</td>\n",
       "      <td>1.0</td>\n",
       "    </tr>\n",
       "    <tr>\n",
       "      <th>ydbM</th>\n",
       "      <td>1.0</td>\n",
       "      <td>1.0</td>\n",
       "      <td>1.0</td>\n",
       "      <td>1.0</td>\n",
       "      <td>1.0</td>\n",
       "      <td>1.0</td>\n",
       "      <td>1.0</td>\n",
       "      <td>1.0</td>\n",
       "      <td>1.0</td>\n",
       "      <td>1.0</td>\n",
       "      <td>...</td>\n",
       "      <td>1.0</td>\n",
       "      <td>1.0</td>\n",
       "      <td>1.0</td>\n",
       "      <td>1.0</td>\n",
       "      <td>1.0</td>\n",
       "      <td>1.0</td>\n",
       "      <td>1.0</td>\n",
       "      <td>0.0</td>\n",
       "      <td>1.0</td>\n",
       "      <td>1.0</td>\n",
       "    </tr>\n",
       "    <tr>\n",
       "      <th>yvrB</th>\n",
       "      <td>1.0</td>\n",
       "      <td>1.0</td>\n",
       "      <td>1.0</td>\n",
       "      <td>1.0</td>\n",
       "      <td>1.0</td>\n",
       "      <td>1.0</td>\n",
       "      <td>1.0</td>\n",
       "      <td>1.0</td>\n",
       "      <td>1.0</td>\n",
       "      <td>1.0</td>\n",
       "      <td>...</td>\n",
       "      <td>1.0</td>\n",
       "      <td>1.0</td>\n",
       "      <td>1.0</td>\n",
       "      <td>1.0</td>\n",
       "      <td>1.0</td>\n",
       "      <td>1.0</td>\n",
       "      <td>1.0</td>\n",
       "      <td>1.0</td>\n",
       "      <td>1.0</td>\n",
       "      <td>1.0</td>\n",
       "    </tr>\n",
       "    <tr>\n",
       "      <th>yfkN</th>\n",
       "      <td>1.0</td>\n",
       "      <td>1.0</td>\n",
       "      <td>1.0</td>\n",
       "      <td>1.0</td>\n",
       "      <td>1.0</td>\n",
       "      <td>1.0</td>\n",
       "      <td>1.0</td>\n",
       "      <td>1.0</td>\n",
       "      <td>1.0</td>\n",
       "      <td>1.0</td>\n",
       "      <td>...</td>\n",
       "      <td>1.0</td>\n",
       "      <td>1.0</td>\n",
       "      <td>1.0</td>\n",
       "      <td>1.0</td>\n",
       "      <td>1.0</td>\n",
       "      <td>1.0</td>\n",
       "      <td>1.0</td>\n",
       "      <td>1.0</td>\n",
       "      <td>0.0</td>\n",
       "      <td>1.0</td>\n",
       "    </tr>\n",
       "    <tr>\n",
       "      <th>yxlA</th>\n",
       "      <td>1.0</td>\n",
       "      <td>1.0</td>\n",
       "      <td>1.0</td>\n",
       "      <td>1.0</td>\n",
       "      <td>1.0</td>\n",
       "      <td>1.0</td>\n",
       "      <td>1.0</td>\n",
       "      <td>1.0</td>\n",
       "      <td>1.0</td>\n",
       "      <td>1.0</td>\n",
       "      <td>...</td>\n",
       "      <td>1.0</td>\n",
       "      <td>1.0</td>\n",
       "      <td>1.0</td>\n",
       "      <td>1.0</td>\n",
       "      <td>1.0</td>\n",
       "      <td>1.0</td>\n",
       "      <td>1.0</td>\n",
       "      <td>1.0</td>\n",
       "      <td>1.0</td>\n",
       "      <td>0.0</td>\n",
       "    </tr>\n",
       "  </tbody>\n",
       "</table>\n",
       "<p>83 rows × 83 columns</p>\n",
       "</div>"
      ],
      "text/plain": [
       "      carA  carB  argH  adhA  argB  argD  argF  argC  argG  argJ  ...  sigH  \\\n",
       "carA   0.0   0.0   1.0   1.0   1.0   1.0   1.0   1.0   1.0   1.0  ...   1.0   \n",
       "argH   1.0   1.0   0.0   1.0   1.0   1.0   1.0   1.0   1.0   1.0  ...   1.0   \n",
       "adhA   1.0   1.0   1.0   0.0   1.0   1.0   1.0   1.0   1.0   1.0  ...   1.0   \n",
       "argD   1.0   1.0   1.0   1.0   0.0   0.0   1.0   1.0   1.0   1.0  ...   1.0   \n",
       "argF   1.0   1.0   1.0   1.0   1.0   1.0   0.0   1.0   1.0   1.0  ...   1.0   \n",
       "...    ...   ...   ...   ...   ...   ...   ...   ...   ...   ...  ...   ...   \n",
       "udk    1.0   1.0   1.0   1.0   1.0   1.0   1.0   1.0   1.0   1.0  ...   1.0   \n",
       "ydbM   1.0   1.0   1.0   1.0   1.0   1.0   1.0   1.0   1.0   1.0  ...   1.0   \n",
       "yvrB   1.0   1.0   1.0   1.0   1.0   1.0   1.0   1.0   1.0   1.0  ...   1.0   \n",
       "yfkN   1.0   1.0   1.0   1.0   1.0   1.0   1.0   1.0   1.0   1.0  ...   1.0   \n",
       "yxlA   1.0   1.0   1.0   1.0   1.0   1.0   1.0   1.0   1.0   1.0  ...   1.0   \n",
       "\n",
       "      tal  sucC  sucD  trxB  thyA  udk  ydbM  yfkN  yxlA  \n",
       "carA  1.0   1.0   1.0   1.0   1.0  1.0   1.0   1.0   1.0  \n",
       "argH  1.0   1.0   1.0   1.0   1.0  1.0   1.0   1.0   1.0  \n",
       "adhA  1.0   1.0   1.0   1.0   1.0  1.0   1.0   1.0   1.0  \n",
       "argD  1.0   1.0   1.0   1.0   1.0  1.0   1.0   1.0   1.0  \n",
       "argF  1.0   1.0   1.0   1.0   1.0  1.0   1.0   1.0   1.0  \n",
       "...   ...   ...   ...   ...   ...  ...   ...   ...   ...  \n",
       "udk   1.0   1.0   1.0   1.0   1.0  0.0   1.0   1.0   1.0  \n",
       "ydbM  1.0   1.0   1.0   1.0   1.0  1.0   0.0   1.0   1.0  \n",
       "yvrB  1.0   1.0   1.0   1.0   1.0  1.0   1.0   1.0   1.0  \n",
       "yfkN  1.0   1.0   1.0   1.0   1.0  1.0   1.0   0.0   1.0  \n",
       "yxlA  1.0   1.0   1.0   1.0   1.0  1.0   1.0   1.0   0.0  \n",
       "\n",
       "[83 rows x 83 columns]"
      ]
     },
     "execution_count": 49,
     "metadata": {},
     "output_type": "execute_result"
    }
   ],
   "source": [
    "kodf"
   ]
  },
  {
   "cell_type": "code",
   "execution_count": 55,
   "id": "86b10d81-6baf-4b9c-a7be-f8d83b00d2cc",
   "metadata": {
    "scrolled": true,
    "tags": []
   },
   "outputs": [
    {
     "data": {
      "text/plain": [
       "{'argJ', 'ilvB', 'purL'}"
      ]
     },
     "execution_count": 55,
     "metadata": {},
     "output_type": "execute_result"
    }
   ],
   "source": [
    "set(confirmed_depletions) & set(kodf.index)"
   ]
  },
  {
   "cell_type": "code",
   "execution_count": 51,
   "id": "f3696918-e039-4b62-87a1-a873cdeef997",
   "metadata": {},
   "outputs": [],
   "source": [
    "import seaborn as sns"
   ]
  },
  {
   "cell_type": "code",
   "execution_count": 59,
   "id": "b21f1b0c-c44b-460f-abb8-0ab7d77ce252",
   "metadata": {},
   "outputs": [
    {
     "data": {
      "text/plain": [
       "<seaborn.matrix.ClusterGrid at 0x7f211fbfb5c0>"
      ]
     },
     "execution_count": 59,
     "metadata": {},
     "output_type": "execute_result"
    },
    {
     "data": {
      "image/png": "[encoded data removed]",
      "text/plain": [
       "<Figure size 720x720 with 4 Axes>"
      ]
     },
     "metadata": {
      "needs_background": "light"
     },
     "output_type": "display_data"
    }
   ],
   "source": [
    "sns.clustermap(kodf,\n",
    "              figsize=(10,10))"
   ]
  },
  {
   "cell_type": "markdown",
   "id": "92816282-028a-4ae6-ac78-b2ada34d0a00",
   "metadata": {},
   "source": [
    "## One gene interdependence"
   ]
  },
  {
   "cell_type": "code",
   "execution_count": null,
   "id": "a86d8c86-bf08-4b65-8dd1-be8d8bac620b",
   "metadata": {},
   "outputs": [],
   "source": [
    "def get_value(k):\n",
    "    return list(set(fwd_name_dep[k]) - set([k]))\n",
    "\n",
    "def traverse_graph(k,seen = set()):\n",
    "    v = get_value(k)\n",
    "#     print(k,v)\n",
    "    if not v:\n",
    "        return seen\n",
    "    for i in v:\n",
    "        if i in seen:continue\n",
    "        seen.add(i)\n",
    "        seen = traverse_graph(i,seen=seen)\n",
    "    return seen\n",
    "\n",
    "def get_graph_from_gene(gene):\n",
    "    import networkx as nx\n",
    "    import matplotlib.pyplot as plt\n",
    "    plt.rcParams['svg.fonttype'] = 'none'\n",
    "    G = nx.DiGraph()\n",
    "    seen_nodes = set()\n",
    "    for i in traverse_graph(gene):\n",
    "        if i in seen_nodes: continue\n",
    "        seen_nodes.add(i)\n",
    "        dep_genes = fwd_name_dep[i]\n",
    "        for j in dep_genes:\n",
    "            print(i,j)\n",
    "            if j==gene: continue\n",
    "            G.add_edge(i,j)\n",
    "    return G"
   ]
  },
  {
   "cell_type": "code",
   "execution_count": null,
   "id": "8752d525-f305-4a93-b290-2beeec382874",
   "metadata": {},
   "outputs": [],
   "source": [
    "gene = 'argD'\n",
    "G = get_graph_from_gene(gene)\n",
    "G.nodes"
   ]
  },
  {
   "cell_type": "code",
   "execution_count": null,
   "id": "4b34155c-dd13-4407-84ca-2083b2de56bc",
   "metadata": {},
   "outputs": [],
   "source": [
    "color_map = []\n",
    "degree = []\n",
    "labels = {}\n",
    "for node in G:\n",
    "    d = len(fwd_name_dep[node])\n",
    "    degree.append(d)\n",
    "    name = locus_to_name[node] if node in locus_to_name else node\n",
    "    if node in confirmed_depletions:\n",
    "        color_map.append('green')\n",
    "    elif node in known_depletions:\n",
    "        color_map.append('blue')\n",
    "    else: \n",
    "        color_map.append('gray')   \n",
    "#     if d > 5:\n",
    "    labels[node] = locus_to_name[node] if node in locus_to_name else node"
   ]
  },
  {
   "cell_type": "code",
   "execution_count": null,
   "id": "a0f68703-3cbf-45ed-8702-a8fe7e4645b4",
   "metadata": {},
   "outputs": [],
   "source": [
    "plt.figure(figsize=(5,5))\n",
    "pos = nx.spring_layout(G, k=2.)\n",
    "nx.draw(G,\n",
    "       pos=pos,\n",
    "       node_color=color_map,\n",
    "       node_size=[i*50 for i in degree])\n",
    "_ = nx.draw_networkx_labels(G,pos,labels,font_size=16,font_color='k')\n",
    "# plt.savefig('./figures/network_gene_interdependence_spring_fwd_{}.svg'.format(gene),format='SVG')"
   ]
  },
  {
   "cell_type": "code",
   "execution_count": null,
   "id": "149351d4-49c3-4dc4-b952-2be5213dd7ab",
   "metadata": {},
   "outputs": [],
   "source": []
  }
 ],
 "metadata": {
  "kernelspec": {
   "display_name": "me_modeling",
   "language": "python",
   "name": "me_modeling"
  },
  "language_info": {
   "codemirror_mode": {
    "name": "ipython",
    "version": 3
   },
   "file_extension": ".py",
   "mimetype": "text/x-python",
   "name": "python",
   "nbconvert_exporter": "python",
   "pygments_lexer": "ipython3",
   "version": "3.6.8"
  }
 },
 "nbformat": 4,
 "nbformat_minor": 5
}
