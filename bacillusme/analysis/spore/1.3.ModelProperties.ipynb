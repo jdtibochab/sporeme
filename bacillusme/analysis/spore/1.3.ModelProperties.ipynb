{
 "cells": [
  {
   "cell_type": "code",
   "execution_count": 1,
   "metadata": {
    "scrolled": true
   },
   "outputs": [],
   "source": [
    "import pickle"
   ]
  },
  {
   "cell_type": "code",
   "execution_count": 2,
   "metadata": {
    "scrolled": true
   },
   "outputs": [
    {
     "name": "stderr",
     "output_type": "stream",
     "text": [
      "/home/jt/work/cobrapy-0.5.11/cobra/io/sbml3.py:24: UserWarning: Install lxml for faster SBML I/O\n",
      "  warn(\"Install lxml for faster SBML I/O\")\n",
      "/home/jt/work/cobrapy-0.5.11/cobra/io/__init__.py:12: UserWarning: cobra.io.sbml requires libsbml\n",
      "  warn(\"cobra.io.sbml requires libsbml\")\n"
     ]
    }
   ],
   "source": [
    "with open('./sporeme_solution_v4_proteomics_spoAQ.pickle', 'rb') as solution:\n",
    "    sporeme = pickle.load(solution)"
   ]
  },
  {
   "cell_type": "code",
   "execution_count": 3,
   "metadata": {},
   "outputs": [],
   "source": [
    "def get_properties(model):\n",
    "    dct = {\n",
    "        \"metabolites_MC\" : len(set(sporeme.metabolites) - set(sporeme.metabolites.query('.*_s$'))),\n",
    "        \"metabolites_FS\" : len(sporeme.metabolites.query('.*_s$')),\n",
    "        \"metabolites\" : len(sporeme.metabolites),\n",
    "        \"reactions_FS\" : len(sporeme.reactions.query('.*_s$')),\n",
    "        \"reactions_MC\" : len(set(sporeme.reactions) - set(sporeme.reactions.query('.*_s$'))),\n",
    "        \"reactions\" : len(sporeme.reactions),\n",
    "        \"proteins_FS\": len(sporeme.metabolites.query('protein_BSU\\d*_s$')),\n",
    "        \"proteins_MC\": len(sporeme.metabolites.query('protein_BSU\\d*$')),\n",
    "        \"proteins\": len(sporeme.metabolites.query('protein_BSU\\d*(_s$|$)')),\n",
    "        \n",
    "    }\n",
    "    return dct"
   ]
  },
  {
   "cell_type": "code",
   "execution_count": 4,
   "metadata": {},
   "outputs": [
    {
     "data": {
      "text/plain": [
       "{'metabolites_MC': 4239,\n",
       " 'metabolites_FS': 3201,\n",
       " 'metabolites': 7440,\n",
       " 'reactions_FS': 5013,\n",
       " 'reactions_MC': 6231,\n",
       " 'reactions': 11244,\n",
       " 'proteins_FS': 733,\n",
       " 'proteins_MC': 974,\n",
       " 'proteins': 1707}"
      ]
     },
     "execution_count": 4,
     "metadata": {},
     "output_type": "execute_result"
    }
   ],
   "source": [
    "get_properties(sporeme)"
   ]
  }
 ],
 "metadata": {
  "kernelspec": {
   "display_name": "python3.7-cobrame",
   "language": "python",
   "name": "python3.7-cobrame"
  },
  "language_info": {
   "codemirror_mode": {
    "name": "ipython",
    "version": 3
   },
   "file_extension": ".py",
   "mimetype": "text/x-python",
   "name": "python",
   "nbconvert_exporter": "python",
   "pygments_lexer": "ipython3",
   "version": "3.7.8"
  }
 },
 "nbformat": 4,
 "nbformat_minor": 4
}
