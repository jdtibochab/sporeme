{
 "cells": [
  {
   "cell_type": "markdown",
   "metadata": {},
   "source": [
    "# Transporter analysis of bacillus mother-spore"
   ]
  },
  {
   "cell_type": "code",
   "execution_count": 1,
   "metadata": {
    "scrolled": true
   },
   "outputs": [
    {
     "name": "stderr",
     "output_type": "stream",
     "text": [
      "/home/jt/work/cobrapy-0.5.11/cobra/io/sbml3.py:24: UserWarning: Install lxml for faster SBML I/O\n",
      "  warn(\"Install lxml for faster SBML I/O\")\n",
      "/home/jt/work/cobrapy-0.5.11/cobra/io/__init__.py:12: UserWarning: cobra.io.sbml requires libsbml\n",
      "  warn(\"cobra.io.sbml requires libsbml\")\n"
     ]
    },
    {
     "name": "stdout",
     "output_type": "stream",
     "text": [
      "/home/jt/work/cobrapy-0.5.11/cobra/__init__.py\n",
      "/home/jt/work/cobrame/cobrame/__init__.py\n",
      "/home/jt/work/sporeme/bacillusme/__init__.py\n"
     ]
    }
   ],
   "source": [
    "from __future__ import print_function, division, absolute_import\n",
    "\n",
    "import sys\n",
    "\n",
    "import qminospy\n",
    "from qminospy.me2 import ME_NLP\n",
    "\n",
    "# python imports\n",
    "from copy import copy\n",
    "import re\n",
    "from os.path import join, dirname, abspath\n",
    "import sys\n",
    "from collections import defaultdict\n",
    "import pickle\n",
    "\n",
    "# third party imports\n",
    "import pandas as pd\n",
    "import cobra\n",
    "from tqdm import tqdm\n",
    "import numpy as np\n",
    "import scipy\n",
    "\n",
    "# COBRAme\n",
    "import cobrame\n",
    "from cobrame.util import building, mu, me_model_interface\n",
    "from cobrame.io.json import save_json_me_model, save_reduced_json_me_model\n",
    "\n",
    "# ECOLIme\n",
    "import bacillusme\n",
    "from bacillusme import (transcription, translation, flat_files, generics, formulas, compartments)\n",
    "from cobrame.util.helper_functions import *\n",
    "\n",
    "import copy\n",
    "from scipy import stats\n",
    "import matplotlib.pyplot as plt\n",
    "%load_ext autoreload\n",
    "%autoreload 2\n",
    "ecoli_files = dirname(abspath(bacillusme.__file__))\n",
    "pd.set_option('display.max_colwidth', None)\n"
   ]
  },
  {
   "cell_type": "markdown",
   "metadata": {},
   "source": [
    "# Amino acids"
   ]
  },
  {
   "cell_type": "code",
   "execution_count": 2,
   "metadata": {},
   "outputs": [],
   "source": [
    "with open(\"./sporeme_solution_v4_proteomics_spoAQ.pickle\", \"rb\") as outfile:\n",
    "    sporeme = pickle.load(outfile)"
   ]
  },
  {
   "cell_type": "code",
   "execution_count": 3,
   "metadata": {},
   "outputs": [],
   "source": [
    "pd.DataFrame.from_dict({'flux':sporeme.solution.x_dict}).to_csv('Supplementary File 2.csv')"
   ]
  },
  {
   "cell_type": "code",
   "execution_count": 4,
   "metadata": {},
   "outputs": [],
   "source": [
    "# for r in get_transport_reactions(sporeme,'met__L_s',comps=['c','s']):\n",
    "#     print(r.id)\n",
    "#     r.bounds = (0,0)\n",
    "# solve_me_model(sporeme, max_mu = 0.1, min_mu = .01, using_soplex=False, precision = 1e-3,growth_key = 'sigma')"
   ]
  },
  {
   "cell_type": "code",
   "execution_count": 5,
   "metadata": {},
   "outputs": [
    {
     "name": "stdout",
     "output_type": "stream",
     "text": [
      "0.017942047119140624\n"
     ]
    }
   ],
   "source": [
    "if sporeme.solution: print(sporeme.solution.x_dict['biomass_dilution_s'])"
   ]
  },
  {
   "cell_type": "code",
   "execution_count": 7,
   "metadata": {
    "scrolled": true,
    "tags": []
   },
   "outputs": [
    {
     "name": "stdout",
     "output_type": "stream",
     "text": [
      "met__L_s\n",
      "atp_s + h2o_s + met__L_c --> -4.27350427350427e-6*sigma PORE-CPLX_s + adp_s + h_s + met__L_s + pi_s\n",
      "0.00048509737247183564\n",
      "100.0 %\n",
      "\n",
      "\n",
      "trp__L_s\n",
      "h_c + trp__L_c --> -4.27350427350427e-6*sigma PORE-CPLX_s + h_s + trp__L_s\n",
      "0.00015947163451364514\n",
      "100.0 %\n",
      "\n",
      "\n",
      "glu__L_s\n",
      "akg_s + h_s + nadh_s + nh4_s --> -4.27350427350427e-6*sigma BSU22960-MONOMER_s + glu__L_s + h2o_s + nad_s\n",
      "0.00810987214544222\n",
      "83.93457550816719 %\n",
      "\n",
      "\n",
      "ser__L_s\n",
      "h_c + ser__L_c --> -4.27350427350427e-6*sigma PORE-CPLX_s + h_s + ser__L_s\n",
      "0.0032057865794111124\n",
      "100.0 %\n",
      "\n",
      "\n",
      "lys__L_s\n",
      "h_s + lys__L_c --> -4.27350427350427e-6*sigma PORE-CPLX_s + h_c + lys__L_s\n",
      "0.0018966915533663322\n",
      "100.0 %\n",
      "\n",
      "\n",
      "phe__L_s\n",
      "glu__L_s + phpyr_s --> -4.27350427350427e-6*sigma BSU09570-MONOMER_s + akg_s + phe__L_s\n",
      "0.0007093732888843219\n",
      "100.0 %\n",
      "\n",
      "\n",
      "gly_s\n",
      "gly_c + h_c --> -4.27350427350427e-6*sigma PORE-CPLX_s + gly_s + h_s\n",
      "0.0014233087303357351\n",
      "94.76281121891273 %\n",
      "\n",
      "\n",
      "leu__L_s\n",
      "h_c + leu__L_c --> -4.27350427350427e-6*sigma PORE-CPLX_s + h_s + leu__L_s\n",
      "0.0030955262449944084\n",
      "100.0 %\n",
      "\n",
      "\n",
      "thr__L_s\n",
      "h_c + thr__L_c --> -4.27350427350427e-6*sigma PORE-CPLX_s + h_s + thr__L_s\n",
      "0.005227392392202625\n",
      "100.0 %\n",
      "\n",
      "\n",
      "asp__L_s\n",
      "glu__L_s + oaa_s --> -7.0388844961562e-6*sigma BSU22370-MONOMER_s + akg_s + asp__L_s\n",
      "0.001355719481413559\n",
      "100.0 %\n",
      "\n",
      "\n",
      "val__L_s\n",
      "3mob_s + h_s + nadh_s + nh4_s --> -1.25190676006434e-5*sigma BSU24080-MONOMER_s + h2o_s + nad_s + val__L_s\n",
      "0.0012398214763830245\n",
      "66.36660223940957 %\n",
      "\n",
      "\n",
      "pro__L_s\n",
      "h_c + pro__L_c --> -4.27350427350427e-6*sigma PORE-CPLX_s + h_s + pro__L_s\n",
      "0.0006075621544797069\n",
      "100.0 %\n",
      "\n",
      "\n",
      "ala__L_s\n",
      "glu__L_s + pyr_s --> -1.20003594272506e-5*sigma BSU31400-MONOMER_s + akg_s + ala__L_s\n",
      "0.004312821102830299\n",
      "100.0 %\n",
      "\n",
      "\n",
      "arg__L_s\n",
      "arg__L_c + h_c --> -4.27350427350427e-6*sigma PORE-CPLX_s + arg__L_s + h_s\n",
      "0.0005696249328785458\n",
      "100.0 %\n",
      "\n",
      "\n",
      "asn__L_s\n",
      "asn__L_c + h_c --> -4.27350427350427e-6*sigma PORE-CPLX_s + asn__L_s + h_s\n",
      "0.000989625084949251\n",
      "100.0 %\n",
      "\n",
      "\n",
      "ile__L_s\n",
      "2o3mpt_s + h_s + nadh_s + nh4_s --> -4.27350427350427e-6*sigma BSU24080-MONOMER_s + h2o_s + ile__L_s + nad_s\n",
      "0.0011972530864879614\n",
      "100.0 %\n",
      "\n",
      "\n",
      "gln__L_s\n",
      "atp_s + glu__L_s + nh4_s --> -4.27350427350427e-6*sigma CPLX8J2-146_s + adp_s + gln__L_s + h_s + pi_s\n",
      "0.0008179976416157062\n",
      "100.0 %\n",
      "\n",
      "\n",
      "his__L_s\n",
      "h_c + his__L_c --> -4.27350427350427e-6*sigma PORE-CPLX_s + h_s + his__L_s\n",
      "0.00041054725111445777\n",
      "100.0 %\n",
      "\n",
      "\n",
      "tyr__L_s\n",
      "h_c + tyr__L_c --> -4.27350427350427e-6*sigma PORE-CPLX_s + h_s + tyr__L_s\n",
      "0.0007040009879583256\n",
      "100.0 %\n",
      "\n",
      "\n",
      "cys__L_s\n",
      "atp_s + cys__L_c + h2o_s --> -4.27350427350427e-6*sigma PORE-CPLX_s + adp_s + cys__L_s + h_s + pi_s\n",
      "9.39523818601926e-05\n",
      "99.47677507569998 %\n",
      "\n",
      "\n",
      "abt__L_s\n",
      "No production\n",
      "\n",
      "\n",
      "orn__L_s\n",
      "No production\n",
      "\n",
      "\n",
      "rbl__L_s\n",
      "No production\n",
      "\n",
      "\n",
      "mal__L_s\n",
      "2.0 h_c + lac__L_s + mal__L_c + na1_s --> -4.27350427350427e-6*sigma PORE-CPLX_s + 2.0 h_s + lac__L_c + mal__L_s + na1_c\n",
      "0.030126147955126577\n",
      "100.0 %\n",
      "\n",
      "\n",
      "hom__L_s\n",
      "No production\n",
      "\n",
      "\n",
      "lac__L_s\n",
      "h_s + nadh_s + pyr_s --> -9.97575592480009e-5*sigma BSU03050-MONOMER_s + lac__L_s + nad_s\n",
      "6.251641153330356\n",
      "100.0 %\n",
      "\n",
      "\n",
      "srb__L_s\n",
      "No production\n",
      "\n",
      "\n"
     ]
    }
   ],
   "source": [
    "dct = {}\n",
    "for m in sporeme.metabolites.query(re.compile('^[a-z]{3}__L_s|^gly_s$')):\n",
    "    df = flux_based_reactions(sporeme,m.id,only_types=['MetabolicReaction'])\n",
    "    prod = df[df['met_flux']>0]['met_flux']\n",
    "    prod = prod.div(prod.sum())\n",
    "    top = df.sort_values('met_flux').iloc[[-1]]\n",
    "    print(m)\n",
    "    dct[m.id] = {}\n",
    "    if top['met_flux'][0] > 0:\n",
    "        print(top['reaction'][0])\n",
    "        dct[m.id][\"reaction\"] = top['reaction'][0]\n",
    "        print(top['met_flux'][0])\n",
    "        dct[m.id][\"met_flux\"] = top['met_flux'][0]\n",
    "        print('{} %'.format(str(prod.loc[top.index[0]]*100)))\n",
    "        dct[m.id][\"percentage\"] = '{} %'.format(str(prod.loc[top.index[0]]*100))\n",
    "    else:\n",
    "        print('No production')\n",
    "    print('\\n')"
   ]
  },
  {
   "cell_type": "code",
   "execution_count": 11,
   "metadata": {},
   "outputs": [],
   "source": [
    "pd.DataFrame.from_dict(dct).T.to_csv(\"./Supplementary Files/SupplementaryFile_AA_Production.csv\")"
   ]
  }
 ],
 "metadata": {
  "kernelspec": {
   "display_name": "python3.7-cobrame",
   "language": "python",
   "name": "python3.7-cobrame"
  },
  "language_info": {
   "codemirror_mode": {
    "name": "ipython",
    "version": 3
   },
   "file_extension": ".py",
   "mimetype": "text/x-python",
   "name": "python",
   "nbconvert_exporter": "python",
   "pygments_lexer": "ipython3",
   "version": "3.7.8"
  }
 },
 "nbformat": 4,
 "nbformat_minor": 4
}
