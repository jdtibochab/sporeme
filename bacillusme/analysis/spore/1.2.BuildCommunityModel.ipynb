{
 "cells": [
  {
   "cell_type": "markdown",
   "metadata": {},
   "source": [
    "# Build community model"
   ]
  },
  {
   "cell_type": "code",
   "execution_count": 1,
   "metadata": {
    "scrolled": true
   },
   "outputs": [
    {
     "name": "stderr",
     "output_type": "stream",
     "text": [
      "/home/jt/work/cobrapy-0.5.11/cobra/io/sbml3.py:24: UserWarning: Install lxml for faster SBML I/O\n",
      "  warn(\"Install lxml for faster SBML I/O\")\n",
      "/home/jt/work/cobrapy-0.5.11/cobra/io/__init__.py:12: UserWarning: cobra.io.sbml requires libsbml\n",
      "  warn(\"cobra.io.sbml requires libsbml\")\n"
     ]
    }
   ],
   "source": [
    "from __future__ import print_function, division, absolute_import\n",
    "\n",
    "import sys\n",
    "\n",
    "import qminospy\n",
    "from qminospy.me2 import ME_NLP\n",
    "\n",
    "# python imports\n",
    "from copy import copy\n",
    "import re\n",
    "from os.path import join, dirname, abspath\n",
    "import sys\n",
    "from collections import defaultdict\n",
    "import pickle\n",
    "\n",
    "# third party imports\n",
    "import pandas as pd\n",
    "import cobra\n",
    "from tqdm import tqdm\n",
    "import numpy as np\n",
    "import scipy\n",
    "\n",
    "# COBRAme\n",
    "import cobrame\n",
    "from cobrame.util import building, mu, me_model_interface\n",
    "from cobrame.io.json import save_json_me_model, save_reduced_json_me_model\n",
    "\n",
    "# ECOLIme\n",
    "import bacillusme\n",
    "from bacillusme import (transcription, translation, flat_files, generics, formulas, compartments)\n",
    "from bacillusme.util.helper_functions import *\n",
    "\n",
    "import copy\n",
    "%load_ext autoreload\n",
    "%autoreload 2\n",
    "ecoli_files = dirname(abspath(bacillusme.__file__))\n",
    "plt.rcParams['svg.fonttype'] = 'none'"
   ]
  },
  {
   "cell_type": "code",
   "execution_count": 2,
   "metadata": {
    "scrolled": true
   },
   "outputs": [],
   "source": [
    "# with open(ecoli_files+'/me_models/solution.pickle', 'rb') as solution:\n",
    "#     me = pickle.load(solution)\n",
    "with open(ecoli_files+'/me_models/solution_spore.pickle', 'rb') as solution:\n",
    "    spore = pickle.load(solution)"
   ]
  },
  {
   "cell_type": "code",
   "execution_count": 3,
   "metadata": {},
   "outputs": [],
   "source": [
    "with open(ecoli_files+'/me_models/solution.pickle', 'rb') as solution:\n",
    "    me = pickle.load(solution)"
   ]
  },
  {
   "cell_type": "code",
   "execution_count": 4,
   "metadata": {
    "scrolled": true
   },
   "outputs": [
    {
     "name": "stdout",
     "output_type": "stream",
     "text": [
      "iter\tmuopt    \ta     \tb     \tmu1       \tstat1\n",
      "Finished compiling expressions in 30.684345 seconds\n",
      "Finished substituting S,lb,ub in 1.141505 seconds\n",
      "Finished makeME_LP in 0.148719 seconds\n",
      "Getting MINOS parameters from ME_NLP...\n",
      "1 0.5 0.5 1.0 0.5 optimal\n",
      "Finished substituting S,lb,ub in 1.063426 seconds\n",
      "Finished makeME_LP in 0.146930 seconds\n",
      "Getting MINOS parameters from ME_NLP...\n",
      "2 0.5 0.5 0.75 0.75 1\n",
      "Finished substituting S,lb,ub in 1.026491 seconds\n",
      "Finished makeME_LP in 0.141812 seconds\n",
      "Getting MINOS parameters from ME_NLP...\n",
      "3 0.5 0.5 0.625 0.625 1\n",
      "Finished substituting S,lb,ub in 1.030723 seconds\n",
      "Finished makeME_LP in 0.145432 seconds\n",
      "Getting MINOS parameters from ME_NLP...\n",
      "4 0.5 0.5 0.5625 0.5625 1\n",
      "Finished substituting S,lb,ub in 1.018031 seconds\n",
      "Finished makeME_LP in 0.144475 seconds\n",
      "Getting MINOS parameters from ME_NLP...\n",
      "5 0.53125 0.53125 0.5625 0.53125 optimal\n",
      "Finished substituting S,lb,ub in 1.017473 seconds\n",
      "Finished makeME_LP in 0.144277 seconds\n",
      "Getting MINOS parameters from ME_NLP...\n",
      "6 0.546875 0.546875 0.5625 0.546875 optimal\n",
      "Finished substituting S,lb,ub in 1.019413 seconds\n",
      "Finished makeME_LP in 0.141329 seconds\n",
      "Getting MINOS parameters from ME_NLP...\n",
      "7 0.546875 0.546875 0.5546875 0.5546875 1\n",
      "Finished substituting S,lb,ub in 0.987733 seconds\n",
      "Finished makeME_LP in 0.140882 seconds\n",
      "Getting MINOS parameters from ME_NLP...\n",
      "8 0.546875 0.546875 0.55078125 0.55078125 1\n",
      "Finished substituting S,lb,ub in 0.992983 seconds\n",
      "Finished makeME_LP in 0.141311 seconds\n",
      "Getting MINOS parameters from ME_NLP...\n",
      "9 0.548828125 0.548828125 0.55078125 0.548828125 optimal\n",
      "Finished substituting S,lb,ub in 0.989127 seconds\n",
      "Finished makeME_LP in 0.141296 seconds\n",
      "Getting MINOS parameters from ME_NLP...\n",
      "10 0.5498046875 0.5498046875 0.55078125 0.5498046875 optimal\n",
      "Finished substituting S,lb,ub in 0.985226 seconds\n",
      "Finished makeME_LP in 0.141537 seconds\n",
      "Getting MINOS parameters from ME_NLP...\n",
      "11 0.5498046875 0.5498046875 0.55029296875 0.55029296875 1\n",
      "Finished substituting S,lb,ub in 0.984101 seconds\n",
      "Finished makeME_LP in 0.141859 seconds\n",
      "Getting MINOS parameters from ME_NLP...\n",
      "12 0.550048828125 0.550048828125 0.55029296875 0.550048828125 optimal\n",
      "Finished substituting S,lb,ub in 0.985169 seconds\n",
      "Finished makeME_LP in 0.141917 seconds\n",
      "Getting MINOS parameters from ME_NLP...\n",
      "13 0.550048828125 0.550048828125 0.5501708984375 0.5501708984375 1\n",
      "Finished substituting S,lb,ub in 0.985293 seconds\n",
      "Finished makeME_LP in 0.141968 seconds\n",
      "Getting MINOS parameters from ME_NLP...\n",
      "14 0.55010986328125 0.55010986328125 0.5501708984375 0.55010986328125 optimal\n",
      "Finished substituting S,lb,ub in 0.976691 seconds\n",
      "Finished makeME_LP in 0.140991 seconds\n",
      "Getting MINOS parameters from ME_NLP...\n",
      "15 0.550140380859375 0.550140380859375 0.5501708984375 0.550140380859375 optimal\n",
      "Finished substituting S,lb,ub in 0.986482 seconds\n",
      "Finished makeME_LP in 0.141100 seconds\n",
      "Getting MINOS parameters from ME_NLP...\n",
      "16 0.5501556396484375 0.5501556396484375 0.5501708984375 0.5501556396484375 optimal\n",
      "Finished substituting S,lb,ub in 0.985739 seconds\n",
      "Finished makeME_LP in 0.140765 seconds\n",
      "Getting MINOS parameters from ME_NLP...\n",
      "17 0.5501632690429688 0.5501632690429688 0.5501708984375 0.5501632690429688 optimal\n",
      "Finished substituting S,lb,ub in 1.012491 seconds\n",
      "Finished makeME_LP in 0.146224 seconds\n",
      "Getting MINOS parameters from ME_NLP...\n",
      "18 0.5501632690429688 0.5501632690429688 0.5501670837402344 0.5501670837402344 1\n",
      "Finished substituting S,lb,ub in 1.055676 seconds\n",
      "Finished makeME_LP in 0.152214 seconds\n",
      "Getting MINOS parameters from ME_NLP...\n",
      "19 0.5501632690429688 0.5501632690429688 0.5501651763916016 0.5501651763916016 1\n",
      "Finished substituting S,lb,ub in 1.072663 seconds\n",
      "Finished makeME_LP in 0.143200 seconds\n",
      "Getting MINOS parameters from ME_NLP...\n",
      "20 0.5501642227172852 0.5501642227172852 0.5501651763916016 0.5501642227172852 optimal\n",
      "Bisection done in 77.4317 seconds\n"
     ]
    }
   ],
   "source": [
    "me.reactions.EX_glc__D_e.bounds = (-1000,0)\n",
    "solve_me_model(me, max_mu = 1.0, min_mu = .05, using_soplex=False, precision = 1e-6)"
   ]
  },
  {
   "cell_type": "markdown",
   "metadata": {},
   "source": [
    "## Create spore model"
   ]
  },
  {
   "cell_type": "markdown",
   "metadata": {},
   "source": [
    "### Change IDs (compartment _s)"
   ]
  },
  {
   "cell_type": "code",
   "execution_count": 5,
   "metadata": {},
   "outputs": [
    {
     "name": "stderr",
     "output_type": "stream",
     "text": [
      "100%|██████████| 3442/3442 [00:00<00:00, 695480.99it/s]\n"
     ]
    }
   ],
   "source": [
    "# Metabolites\n",
    "new_compartment = 's'\n",
    "fix = []\n",
    "for met in tqdm(spore.metabolites):\n",
    "    if re.search('_[c,e]$',met.id):\n",
    "        met.id = re.sub('c$',new_compartment,met.id)\n",
    "    else:\n",
    "        met.id = met.id+'_'+new_compartment"
   ]
  },
  {
   "cell_type": "code",
   "execution_count": 6,
   "metadata": {},
   "outputs": [
    {
     "name": "stderr",
     "output_type": "stream",
     "text": [
      "100%|██████████| 5245/5245 [00:00<00:00, 1393231.44it/s]\n"
     ]
    }
   ],
   "source": [
    "# Reactions\n",
    "new_compartment = 's'\n",
    "fix = []\n",
    "for r in tqdm(spore.reactions):\n",
    "        r.id = r.id+'_'+new_compartment"
   ]
  },
  {
   "cell_type": "code",
   "execution_count": 7,
   "metadata": {},
   "outputs": [],
   "source": [
    "spore.repair()"
   ]
  },
  {
   "cell_type": "code",
   "execution_count": 8,
   "metadata": {
    "scrolled": true
   },
   "outputs": [
    {
     "name": "stderr",
     "output_type": "stream",
     "text": [
      "100%|██████████| 5245/5245 [00:06<00:00, 800.12it/s] \n"
     ]
    }
   ],
   "source": [
    "# Create new growth key for spore\n",
    "new_growth_key = 'sigma'\n",
    "for r in tqdm(spore.reactions):\n",
    "    lb = r.lower_bound\n",
    "    ub = r.upper_bound\n",
    "    new_stoichiometry = {m:s for m,s in r.metabolites.items()}\n",
    "    if hasattr(lb, 'subs'):\n",
    "        growth_key = list(lb.free_symbols)[0]\n",
    "        r.lower_bound = lb.subs(growth_key,new_growth_key)\n",
    "    if hasattr(ub, 'subs'):\n",
    "        growth_key = list(ub.free_symbols)[0]\n",
    "        r.upper_bound = ub.subs(growth_key,new_growth_key)\n",
    "    for m,s in new_stoichiometry.items():\n",
    "        if hasattr(s, 'subs'):\n",
    "            growth_key = list(s.free_symbols)[0]\n",
    "            new_stoichiometry[m] = s.subs(growth_key,new_growth_key)\n",
    "    r.add_metabolites(new_stoichiometry,combine=False)"
   ]
  },
  {
   "cell_type": "code",
   "execution_count": 9,
   "metadata": {
    "scrolled": true
   },
   "outputs": [
    {
     "name": "stderr",
     "output_type": "stream",
     "text": [
      "100%|██████████| 5245/5245 [00:00<00:00, 66244.07it/s]\n"
     ]
    }
   ],
   "source": [
    "# Eliminate exchange reactions:\n",
    "reactions = [r for r in spore.reactions]\n",
    "for r in tqdm(reactions):\n",
    "    if re.search('^EX_',r.id):\n",
    "        r.remove_from_model()"
   ]
  },
  {
   "cell_type": "markdown",
   "metadata": {},
   "source": [
    "### Create spore biomass reactions"
   ]
  },
  {
   "cell_type": "code",
   "execution_count": 10,
   "metadata": {},
   "outputs": [],
   "source": [
    "bio_rxn = spore.reactions.BIOMASS_BS_10_FWD_CPLX_dummy_s"
   ]
  },
  {
   "cell_type": "code",
   "execution_count": 11,
   "metadata": {},
   "outputs": [],
   "source": [
    "bio_comp = pd.read_csv('spore_composition.csv',index_col=0)"
   ]
  },
  {
   "cell_type": "code",
   "execution_count": 12,
   "metadata": {},
   "outputs": [],
   "source": [
    "# Identify lipid metabolites in biomass equation\n",
    "lipid_demand = {}\n",
    "for m in bio_comp.index:\n",
    "    if '_BS_c' in m:\n",
    "        new_id = re.sub('c$','s',m)\n",
    "        value = bio_comp.loc[m]['coeff']\n",
    "        lipid_demand[new_id] = abs(value)\n",
    "                \n",
    "for met, requirement in lipid_demand.items():\n",
    "    component_mass = spore.metabolites.get_by_id(met).formula_weight / 1000.\n",
    "    rxn = cobrame.SummaryVariable('Demand_' + met)\n",
    "    spore.add_reactions([rxn])\n",
    "    rxn.add_metabolites({met: -1 * requirement,\n",
    "                         'lipid_biomass_s': component_mass * requirement})\n",
    "    rxn.lower_bound = spore.reactions.biomass_dilution_s.lower_bound\n",
    "    rxn.upper_bound = 1000.\n",
    "#     print(rxn.reaction)"
   ]
  },
  {
   "cell_type": "markdown",
   "metadata": {},
   "source": [
    "### Merge"
   ]
  },
  {
   "cell_type": "code",
   "execution_count": 13,
   "metadata": {},
   "outputs": [],
   "source": [
    "with open(ecoli_files+'/me_models/solution_mother.pickle', 'rb') as solution:\n",
    "    sporeme = pickle.load(solution)"
   ]
  },
  {
   "cell_type": "code",
   "execution_count": 14,
   "metadata": {
    "scrolled": true
   },
   "outputs": [
    {
     "name": "stderr",
     "output_type": "stream",
     "text": [
      "100%|██████████| 6233/6233 [00:08<00:00, 696.85it/s] \n"
     ]
    }
   ],
   "source": [
    "# The only objective is the forespore's growth.\n",
    "new_growth_key = 'sigma'\n",
    "for r in tqdm(sporeme.reactions):\n",
    "    lb = r.lower_bound\n",
    "    ub = r.upper_bound\n",
    "    new_stoichiometry = {m:s for m,s in r.metabolites.items()}\n",
    "    if hasattr(lb, 'subs'):\n",
    "        growth_key = list(lb.free_symbols)[0]\n",
    "        r.lower_bound = float(lb.subs(growth_key,0.))\n",
    "    if hasattr(ub, 'subs'):\n",
    "        growth_key = list(ub.free_symbols)[0]\n",
    "        r.upper_bound = float(ub.subs(growth_key,1000.))\n",
    "    for m,s in new_stoichiometry.items():\n",
    "        if hasattr(s, 'subs'):\n",
    "            growth_key = list(s.free_symbols)[0]\n",
    "            new_stoichiometry[m] = s.subs(growth_key,new_growth_key)\n",
    "            a = 1\n",
    "    r.add_metabolites(new_stoichiometry,combine=False)"
   ]
  },
  {
   "cell_type": "code",
   "execution_count": 15,
   "metadata": {},
   "outputs": [],
   "source": [
    "# sporeme.add_reactions(spore.reactions) # This approach no longer worked after python version change."
   ]
  },
  {
   "cell_type": "markdown",
   "metadata": {},
   "source": [
    "#### Add spore reactions"
   ]
  },
  {
   "cell_type": "code",
   "execution_count": 16,
   "metadata": {
    "scrolled": true,
    "tags": []
   },
   "outputs": [
    {
     "name": "stderr",
     "output_type": "stream",
     "text": [
      "100%|██████████| 5014/5014 [00:03<00:00, 1344.77it/s]\n"
     ]
    }
   ],
   "source": [
    "# Add spore reactions\n",
    "for r in tqdm(spore.reactions):\n",
    "    new = r.__class__(r.id) # Create and identical reaction\n",
    "    new.bounds = r.bounds\n",
    "    sporeme.add_reaction(new)\n",
    "    for k,v in r.metabolites.items():\n",
    "        if not hasattr(sporeme.metabolites,k.id):\n",
    "            args = k.__init__.__code__.co_varnames[1:] # Eliminate \"self\"\n",
    "            if len(args) == 1: # No additional inputs to __init__\n",
    "                met = k.__class__(k.id)\n",
    "            else:\n",
    "                vals = [getattr(k, dir(k)[[i.lower() for i in dir(k)].index(a)]) for a in args]\n",
    "                met = k.__class__(*vals)\n",
    "            sporeme.add_metabolites(met)\n",
    "            met.name = k.name\n",
    "            met.formula = k.formula\n",
    "            met.charge = k.charge\n",
    "            met.compartment = met.id[-1]\n",
    "            \n",
    "        new.add_metabolites({k.id:v})"
   ]
  },
  {
   "cell_type": "markdown",
   "metadata": {},
   "source": [
    "#### Connect C with S\n",
    "Replace transport reaction S-E with S-C"
   ]
  },
  {
   "cell_type": "code",
   "execution_count": 17,
   "metadata": {
    "scrolled": true
   },
   "outputs": [],
   "source": [
    "# # Connect C with S\n",
    "# ## Change spore transport from e-s to c-s\n",
    "\n",
    "# ## DEPRECATED as this ignores transport reactions that change the metabolite chemically, such as PTS\n",
    "# for m in tqdm(sporeme.metabolites):\n",
    "#     if not isinstance(m,cobrame.Metabolite) or not re.search('_s$',m.id):\n",
    "#         continue\n",
    "#     in_transport = get_transport_reactions(sporeme,m.id,comps=['e','s'])\n",
    "#     out_transport = get_transport_reactions(sporeme,m.id,comps=['s','e'])\n",
    "#     transport_reactions = in_transport + out_transport\n",
    "#     for r in transport_reactions:\n",
    "#         old_met = sporeme.metabolites.get_by_id(re.sub('_s$','_e',m.id))\n",
    "#         new_met = sporeme.metabolites.get_by_id(re.sub('_s$','_c',m.id))\n",
    "#         coeff = r.metabolites[old_met]\n",
    "#         r.add_metabolites({old_met:-coeff,new_met:coeff})"
   ]
  },
  {
   "cell_type": "code",
   "execution_count": 18,
   "metadata": {},
   "outputs": [],
   "source": [
    "def get_compartments(rxn):\n",
    "    return [m.compartment for m in rxn.metabolites if isinstance(m,cobrame.core.component.Metabolite)]"
   ]
  },
  {
   "cell_type": "code",
   "execution_count": 19,
   "metadata": {
    "scrolled": true
   },
   "outputs": [
    {
     "name": "stderr",
     "output_type": "stream",
     "text": [
      "100%|██████████| 11247/11247 [00:00<00:00, 473623.13it/s]\n",
      "100%|██████████| 805/805 [00:00<00:00, 38946.35it/s]\n"
     ]
    }
   ],
   "source": [
    "rxns = bacillusme.util.helper_functions.get_all_transport_of_model(sporeme)\n",
    "rxns = set([r for r in rxns if isinstance(sporeme.reactions.get_by_id(r),cobrame.core.reaction.MetabolicReaction)])\n",
    "for r in tqdm(rxns):\n",
    "    rxn = sporeme.reactions.get_by_id(r)\n",
    "    comps = get_compartments(rxn)\n",
    "    if len(comps) < 2:\n",
    "        continue\n",
    "    if set([\"e\",\"s\"]) - set(comps):\n",
    "        continue\n",
    "    \n",
    "    for m,coeff in rxn.metabolites.items():\n",
    "        # print(m)\n",
    "        if m.compartment != \"e\":\n",
    "            continue\n",
    "        new_met_id = re.sub('_e$','_c',m.id)\n",
    "        if new_met_id not in sporeme.metabolites:\n",
    "            new_met = cobrame.core.component.Metabolite(new_met_id)\n",
    "            sporeme.add_metabolites([new_met])\n",
    "        new_met = sporeme.metabolites.get_by_id(new_met_id)\n",
    "        rxn.add_metabolites({\n",
    "            m : -coeff,\n",
    "            new_met : coeff\n",
    "        })"
   ]
  },
  {
   "cell_type": "code",
   "execution_count": 20,
   "metadata": {},
   "outputs": [],
   "source": [
    "# sporeme.objective = 'biomass_dilution_s'\n",
    "sporeme.reactions.get_by_id('BIOMASS_BS_10_FWD_CPLX_dummy_s').upper_bound = 0"
   ]
  },
  {
   "cell_type": "markdown",
   "metadata": {},
   "source": [
    "### Correct spoIIIAA-H - spoIIQ formation"
   ]
  },
  {
   "cell_type": "code",
   "execution_count": 21,
   "metadata": {},
   "outputs": [],
   "source": [
    "sporeme.reactions.get_by_id('formation_PORE-CPLX').remove_from_model()"
   ]
  },
  {
   "cell_type": "code",
   "execution_count": 22,
   "metadata": {},
   "outputs": [],
   "source": [
    "old_formation = sporeme.reactions.get_by_id('formation_PORE-CPLX_s')"
   ]
  },
  {
   "cell_type": "code",
   "execution_count": 23,
   "metadata": {
    "scrolled": true,
    "tags": []
   },
   "outputs": [],
   "source": [
    "new_stoich = {}\n",
    "for k,v in old_formation.metabolites.items():\n",
    "    if v > 0 or 'BSU36550' in k.id: # spoIIQ is from the spore\n",
    "        new_stoich[k] = v\n",
    "        continue\n",
    "    newk = k.id.split('_s')[0]\n",
    "    new_stoich[sporeme.metabolites.get_by_id(newk)] = v"
   ]
  },
  {
   "cell_type": "code",
   "execution_count": 24,
   "metadata": {},
   "outputs": [
    {
     "name": "stdout",
     "output_type": "stream",
     "text": [
      "12.0 protein_BSU24360_Inner_Membrane + 30.0 protein_BSU24370_Inner_Membrane + protein_BSU24380_Inner_Membrane + protein_BSU24390_Inner_Membrane + protein_BSU24400_Inner_Membrane + protein_BSU24410_Inner_Membrane + protein_BSU24420_Inner_Membrane + 6.0 protein_BSU24430_Inner_Membrane + 12.0 protein_BSU36550_Inner_Membrane_s --> PORE-CPLX_s\n"
     ]
    }
   ],
   "source": [
    "new_formation = cobrame.core.reaction.ComplexFormation('formation_combined_PORE-CPLX_s')\n",
    "sporeme.add_reactions([new_formation])\n",
    "new_formation.add_metabolites(new_stoich)\n",
    "print(new_formation.reaction)"
   ]
  },
  {
   "cell_type": "code",
   "execution_count": 25,
   "metadata": {},
   "outputs": [],
   "source": [
    "old_formation.remove_from_model()"
   ]
  },
  {
   "cell_type": "code",
   "execution_count": 26,
   "metadata": {},
   "outputs": [
    {
     "data": {
      "text/plain": [
       "[<ComplexFormation formation_combined_PORE-CPLX_s at 0x762ee80eb650>]"
      ]
     },
     "execution_count": 26,
     "metadata": {},
     "output_type": "execute_result"
    }
   ],
   "source": [
    "sporeme.reactions.query('formation_.*PORE')"
   ]
  },
  {
   "cell_type": "markdown",
   "metadata": {},
   "source": [
    "### Peptidoglycan"
   ]
  },
  {
   "cell_type": "markdown",
   "metadata": {},
   "source": [
    "##### Spore peptidoglycan precursors are synthesized in the mother cell19 and are flipped across the outer forespore membrane into the intermembrane space by an as yet incompletely understood mechanism20. \n",
    "https://www.nature.com/articles/nrmicro2921\n",
    "\n",
    "Moreover, sigK is responsible for this biosynthesis activation, and it is an MC sigma factor. This makes sigK not essential in the FS anymore"
   ]
  },
  {
   "cell_type": "code",
   "execution_count": 27,
   "metadata": {},
   "outputs": [
    {
     "data": {
      "text/plain": [
       "{<Metabolite 10fthf_s at 0x762ef42fc690>: -0.000367,\n",
       " <Metabolite psetha_BS_s at 0x762ee8657c10>: -0.00056,\n",
       " <Constraint constituent_biomass_s at 0x762ee9f29a50>: 0.13926027055704,\n",
       " <Metabolite peptido_BS_c at 0x762eb29c3a10>: -0.101817}"
      ]
     },
     "execution_count": 27,
     "metadata": {},
     "output_type": "execute_result"
    }
   ],
   "source": [
    "r = sporeme.reactions.get_by_id('biomass_constituent_demand_s')\n",
    "m = sporeme.metabolites.get_by_id('peptido_BS_s')\n",
    "newm = sporeme.metabolites.get_by_id('peptido_BS_c')\n",
    "r.add_metabolites({newm:r.metabolites[m],\n",
    "                   m:-r.metabolites[m]})\n",
    "r.metabolites"
   ]
  },
  {
   "cell_type": "markdown",
   "metadata": {},
   "source": [
    "### Close ATP synthase as there is no evidence for it on the spore membrane"
   ]
  },
  {
   "cell_type": "code",
   "execution_count": 28,
   "metadata": {},
   "outputs": [
    {
     "name": "stdout",
     "output_type": "stream",
     "text": [
      "ATPS4r_REV_PORE-CPLX_s atp_s + h2o_s + 3.0 h_s --> -4.27350427350427e-6*sigma PORE-CPLX_s + adp_s + 4.0 h_c + pi_s\n",
      "ATPS4r_FWD_PORE-CPLX_s adp_s + 4.0 h_c + pi_s --> -4.27350427350427e-6*sigma PORE-CPLX_s + atp_s + h2o_s + 3.0 h_s\n"
     ]
    }
   ],
   "source": [
    "for r in sporeme.reactions.query('ATPS.*_s'):\n",
    "    print(r.id,r.reaction)\n",
    "    r.bounds = (0,0)\n",
    "# sporeme.reactions.get_by_id('ATPS4r_FWD_CPLX000-10_s').bounds = (0,0)\n",
    "# # No glucose uptake from e\n",
    "# for r in sporeme.reactions.query('GLCpts.*_s'):\n",
    "#     print(r.id,r.reaction)\n",
    "#     r.bounds = (0,0)"
   ]
  },
  {
   "cell_type": "markdown",
   "metadata": {},
   "source": [
    "### Change carbon source to glutamate"
   ]
  },
  {
   "cell_type": "code",
   "execution_count": 29,
   "metadata": {},
   "outputs": [],
   "source": [
    "sporeme.reactions.get_by_id(\"EX_glc__D_e\").bounds = (0,1000)\n",
    "sporeme.reactions.get_by_id(\"EX_glu__L_e\").bounds = (-2,1000)"
   ]
  },
  {
   "cell_type": "markdown",
   "metadata": {},
   "source": [
    "### Fixes"
   ]
  },
  {
   "cell_type": "code",
   "execution_count": 30,
   "metadata": {},
   "outputs": [],
   "source": [
    "for r in sporeme.reactions:\n",
    "    if r.objective_coefficient:\n",
    "        r.objective_coefficient = 0\n",
    "sporeme.reactions.get_by_id(\"dummy_reaction_FWD_SPONT_s\").objective_coefficient = 1"
   ]
  },
  {
   "cell_type": "markdown",
   "metadata": {},
   "source": [
    "### Solve"
   ]
  },
  {
   "cell_type": "code",
   "execution_count": 31,
   "metadata": {
    "scrolled": true,
    "tags": []
   },
   "outputs": [
    {
     "name": "stdout",
     "output_type": "stream",
     "text": [
      "iter\tmuopt    \ta     \tb     \tmu1       \tstat1\n",
      "Finished compiling expressions in 54.198052 seconds\n",
      "Finished substituting S,lb,ub in 1.866975 seconds\n",
      "Finished makeME_LP in 0.262977 seconds\n",
      "Getting MINOS parameters from ME_NLP...\n",
      "1 0.0 0.0 0.05 0.05 1\n",
      "Finished substituting S,lb,ub in 1.803734 seconds\n",
      "Finished makeME_LP in 0.269962 seconds\n",
      "Getting MINOS parameters from ME_NLP...\n",
      "2 0.025 0.025 0.05 0.025 optimal\n",
      "Finished substituting S,lb,ub in 1.876069 seconds\n",
      "Finished makeME_LP in 0.272960 seconds\n",
      "Getting MINOS parameters from ME_NLP...\n",
      "3 0.025 0.025 0.037500000000000006 0.037500000000000006 1\n",
      "Finished substituting S,lb,ub in 1.805474 seconds\n",
      "Finished makeME_LP in 0.272653 seconds\n",
      "Getting MINOS parameters from ME_NLP...\n",
      "4 0.03125 0.03125 0.037500000000000006 0.03125 optimal\n",
      "Finished substituting S,lb,ub in 1.800871 seconds\n",
      "Finished makeME_LP in 0.269253 seconds\n",
      "Getting MINOS parameters from ME_NLP...\n",
      "5 0.03125 0.03125 0.034375 0.034375 1\n",
      "Finished substituting S,lb,ub in 1.797917 seconds\n",
      "Finished makeME_LP in 0.271525 seconds\n",
      "Getting MINOS parameters from ME_NLP...\n",
      "6 0.03125 0.03125 0.0328125 0.0328125 1\n",
      "Finished substituting S,lb,ub in 1.852283 seconds\n",
      "Finished makeME_LP in 0.276123 seconds\n",
      "Getting MINOS parameters from ME_NLP...\n",
      "7 0.03203125 0.03203125 0.0328125 0.03203125 optimal\n",
      "Finished substituting S,lb,ub in 1.796417 seconds\n",
      "Finished makeME_LP in 0.270307 seconds\n",
      "Getting MINOS parameters from ME_NLP...\n",
      "8 0.03203125 0.03203125 0.032421875 0.032421875 1\n",
      "Finished substituting S,lb,ub in 1.804900 seconds\n",
      "Finished makeME_LP in 0.271846 seconds\n",
      "Getting MINOS parameters from ME_NLP...\n",
      "9 0.0322265625 0.0322265625 0.032421875 0.0322265625 optimal\n",
      "Finished substituting S,lb,ub in 1.798542 seconds\n",
      "Finished makeME_LP in 0.272426 seconds\n",
      "Getting MINOS parameters from ME_NLP...\n",
      "10 0.0322265625 0.0322265625 0.03232421875 0.03232421875 1\n",
      "Finished substituting S,lb,ub in 1.859915 seconds\n",
      "Finished makeME_LP in 0.276947 seconds\n",
      "Getting MINOS parameters from ME_NLP...\n",
      "11 0.032275390625 0.032275390625 0.03232421875 0.032275390625 optimal\n",
      "Finished substituting S,lb,ub in 1.799279 seconds\n",
      "Finished makeME_LP in 0.272545 seconds\n",
      "Getting MINOS parameters from ME_NLP...\n",
      "12 0.0322998046875 0.0322998046875 0.03232421875 0.0322998046875 optimal\n",
      "Finished substituting S,lb,ub in 1.866995 seconds\n",
      "Finished makeME_LP in 0.281862 seconds\n",
      "Getting MINOS parameters from ME_NLP...\n",
      "13 0.032312011718750006 0.032312011718750006 0.03232421875 0.032312011718750006 optimal\n",
      "Finished substituting S,lb,ub in 1.880790 seconds\n",
      "Finished makeME_LP in 0.283319 seconds\n",
      "Getting MINOS parameters from ME_NLP...\n",
      "14 0.032318115234375 0.032318115234375 0.03232421875 0.032318115234375 optimal\n",
      "Finished substituting S,lb,ub in 1.894691 seconds\n",
      "Finished makeME_LP in 0.282010 seconds\n",
      "Getting MINOS parameters from ME_NLP...\n",
      "15 0.0323211669921875 0.0323211669921875 0.03232421875 0.0323211669921875 optimal\n",
      "Finished substituting S,lb,ub in 1.913964 seconds\n",
      "Finished makeME_LP in 0.276359 seconds\n",
      "Getting MINOS parameters from ME_NLP...\n",
      "16 0.0323211669921875 0.0323211669921875 0.03232269287109375 0.03232269287109375 1\n",
      "Finished substituting S,lb,ub in 1.848994 seconds\n",
      "Finished makeME_LP in 0.277297 seconds\n",
      "Getting MINOS parameters from ME_NLP...\n",
      "17 0.0323211669921875 0.0323211669921875 0.032321929931640625 0.032321929931640625 1\n",
      "Bisection done in 326.921 seconds\n"
     ]
    }
   ],
   "source": [
    "solve_me_model(sporeme, max_mu = 0.1, min_mu = .05, using_soplex=False, precision = 1e-6,growth_key = 'sigma')"
   ]
  },
  {
   "cell_type": "code",
   "execution_count": 32,
   "metadata": {},
   "outputs": [],
   "source": [
    "sporeme.name = 'Spore model with spoIIIA-H - spoIIQ pore channel'\n",
    "with open(\"./sporeme_solution_v4_proteomics_spoAQ_naive.pickle\", \"wb\") as outfile:\n",
    "    pickle.dump(sporeme, outfile)"
   ]
  },
  {
   "cell_type": "markdown",
   "metadata": {},
   "source": [
    "### Close specific reactions in the spore\n",
    "Sporulation allows bacteria to survive adverse conditions and is essential to the lifecycle of some obligate anaerobes. In Bacillus subtilis, the sporulation-specific sigma factors, σF, σE, σG, and σK, activate compartment-specific transcriptional programs that drive sporulation through its morphological stages\n",
    "\n",
    "https://www.ncbi.nlm.nih.gov/pmc/articles/PMC4380625/"
   ]
  },
  {
   "cell_type": "code",
   "execution_count": 33,
   "metadata": {
    "scrolled": true,
    "tags": []
   },
   "outputs": [],
   "source": [
    "# From proteomics. ilvE = ybgE\n",
    "gene_dictionary = pd.read_csv('../../building_data/gene_name_dictionary.csv',index_col=1)\n",
    "\n",
    "deplete_genes = set(['pckA','purL','ilvB','ilvE','citZ','acsA','etfA','acoC','sigF','yxbC','lutC',\n",
    "                  'argJ','hpf'])\n",
    "deplete_genes -= set(['sigF']) # sigF and sigG are FS sigma factors\n",
    "deplete_genes = deplete_genes | set(['sigE', 'sigKc', 'sigKn']) # sigE and sigK are MC sigma factors\n",
    "\n",
    "deplete_genes = set(gene_dictionary.loc[deplete_genes]['locus_id'])"
   ]
  },
  {
   "cell_type": "code",
   "execution_count": 34,
   "metadata": {},
   "outputs": [
    {
     "data": {
      "text/plain": [
       "15"
      ]
     },
     "execution_count": 34,
     "metadata": {},
     "output_type": "execute_result"
    }
   ],
   "source": [
    "eliminate_genes = (deplete_genes)\n",
    "len(eliminate_genes)"
   ]
  },
  {
   "cell_type": "code",
   "execution_count": 35,
   "metadata": {},
   "outputs": [],
   "source": [
    "# # From Eammon's paper.\n",
    "# # https://www.science.org/doi/10.1126/sciadv.abd6385\n",
    "# eliminate_genes = ['citB','citZ','icd','sucD','fumC','mdh']\n",
    "# gene_dictionary.loc[eliminate_genes]['locus_id']"
   ]
  },
  {
   "cell_type": "code",
   "execution_count": 36,
   "metadata": {
    "scrolled": true,
    "tags": []
   },
   "outputs": [
    {
     "data": {
      "text/html": [
       "<div>\n",
       "<style scoped>\n",
       "    .dataframe tbody tr th:only-of-type {\n",
       "        vertical-align: middle;\n",
       "    }\n",
       "\n",
       "    .dataframe tbody tr th {\n",
       "        vertical-align: top;\n",
       "    }\n",
       "\n",
       "    .dataframe thead th {\n",
       "        text-align: right;\n",
       "    }\n",
       "</style>\n",
       "<table border=\"1\" class=\"dataframe\">\n",
       "  <thead>\n",
       "    <tr style=\"text-align: right;\">\n",
       "      <th></th>\n",
       "      <th>response_me</th>\n",
       "      <th>essentiality_me</th>\n",
       "      <th>response_m</th>\n",
       "      <th>essentiality_m</th>\n",
       "      <th>true_essentiality</th>\n",
       "    </tr>\n",
       "  </thead>\n",
       "  <tbody>\n",
       "    <tr>\n",
       "      <th>BSU28310</th>\n",
       "      <td>-0.000009</td>\n",
       "      <td>0</td>\n",
       "      <td>0.000000e+00</td>\n",
       "      <td>0</td>\n",
       "      <td>0</td>\n",
       "    </tr>\n",
       "    <tr>\n",
       "      <th>BSU26390</th>\n",
       "      <td>-1.000000</td>\n",
       "      <td>e</td>\n",
       "      <td>NaN</td>\n",
       "      <td>NaN</td>\n",
       "      <td>0</td>\n",
       "    </tr>\n",
       "    <tr>\n",
       "      <th>BSU06480</th>\n",
       "      <td>0.000000</td>\n",
       "      <td>0</td>\n",
       "      <td>-1.000000e+00</td>\n",
       "      <td>e</td>\n",
       "      <td>0</td>\n",
       "    </tr>\n",
       "    <tr>\n",
       "      <th>BSU02390</th>\n",
       "      <td>0.000000</td>\n",
       "      <td>0</td>\n",
       "      <td>0.000000e+00</td>\n",
       "      <td>0</td>\n",
       "      <td>0</td>\n",
       "    </tr>\n",
       "    <tr>\n",
       "      <th>BSU30560</th>\n",
       "      <td>0.000000</td>\n",
       "      <td>0</td>\n",
       "      <td>-1.828217e-10</td>\n",
       "      <td>0</td>\n",
       "      <td>0</td>\n",
       "    </tr>\n",
       "    <tr>\n",
       "      <th>BSU15320</th>\n",
       "      <td>-1.000000</td>\n",
       "      <td>e</td>\n",
       "      <td>NaN</td>\n",
       "      <td>NaN</td>\n",
       "      <td>0</td>\n",
       "    </tr>\n",
       "    <tr>\n",
       "      <th>BSU29680</th>\n",
       "      <td>0.000000</td>\n",
       "      <td>0</td>\n",
       "      <td>-1.302820e-10</td>\n",
       "      <td>0</td>\n",
       "      <td>0</td>\n",
       "    </tr>\n",
       "    <tr>\n",
       "      <th>BSU29140</th>\n",
       "      <td>-0.000028</td>\n",
       "      <td>0</td>\n",
       "      <td>0.000000e+00</td>\n",
       "      <td>0</td>\n",
       "      <td>0</td>\n",
       "    </tr>\n",
       "    <tr>\n",
       "      <th>BSU25760</th>\n",
       "      <td>-1.000000</td>\n",
       "      <td>e</td>\n",
       "      <td>NaN</td>\n",
       "      <td>NaN</td>\n",
       "      <td>0</td>\n",
       "    </tr>\n",
       "    <tr>\n",
       "      <th>BSU11200</th>\n",
       "      <td>-1.000000</td>\n",
       "      <td>e</td>\n",
       "      <td>-1.000000e+00</td>\n",
       "      <td>e</td>\n",
       "      <td>0</td>\n",
       "    </tr>\n",
       "  </tbody>\n",
       "</table>\n",
       "</div>"
      ],
      "text/plain": [
       "          response_me essentiality_me    response_m essentiality_m  \\\n",
       "BSU28310    -0.000009               0  0.000000e+00              0   \n",
       "BSU26390    -1.000000               e           NaN            NaN   \n",
       "BSU06480     0.000000               0 -1.000000e+00              e   \n",
       "BSU02390     0.000000               0  0.000000e+00              0   \n",
       "BSU30560     0.000000               0 -1.828217e-10              0   \n",
       "BSU15320    -1.000000               e           NaN            NaN   \n",
       "BSU29680     0.000000               0 -1.302820e-10              0   \n",
       "BSU29140    -0.000028               0  0.000000e+00              0   \n",
       "BSU25760    -1.000000               e           NaN            NaN   \n",
       "BSU11200    -1.000000               e -1.000000e+00              e   \n",
       "\n",
       "         true_essentiality  \n",
       "BSU28310                 0  \n",
       "BSU26390                 0  \n",
       "BSU06480                 0  \n",
       "BSU02390                 0  \n",
       "BSU30560                 0  \n",
       "BSU15320                 0  \n",
       "BSU29680                 0  \n",
       "BSU29140                 0  \n",
       "BSU25760                 0  \n",
       "BSU11200                 0  "
      ]
     },
     "execution_count": 36,
     "metadata": {},
     "output_type": "execute_result"
    }
   ],
   "source": [
    "essentiality_df = pd.read_csv('../essentiality/essentiality_results.csv',index_col=0)\n",
    "eliminate_ids = set(eliminate_genes) & set(essentiality_df.index)\n",
    "essentiality_df.loc[eliminate_ids]"
   ]
  },
  {
   "cell_type": "code",
   "execution_count": 37,
   "metadata": {
    "tags": []
   },
   "outputs": [
    {
     "name": "stdout",
     "output_type": "stream",
     "text": [
      "translation_BSU28310_s\n",
      "translation_BSU26390_s\n",
      "translation_BSU06480_s\n",
      "translation_BSU02390_s\n",
      "translation_BSU30560_s\n",
      "translation_BSU15320_s\n",
      "translation_BSU29680_s\n",
      "translation_BSU29140_s\n",
      "translation_BSU25760_s\n",
      "translation_BSU11200_s\n"
     ]
    }
   ],
   "source": [
    "for gene in eliminate_ids:\n",
    "    r = 'translation_' + gene +'_s'\n",
    "    if r not in sporeme.reactions:\n",
    "        print(r+\" not in model\")\n",
    "        continue\n",
    "    print(r)\n",
    "    rxn = sporeme.reactions.get_by_id(r)\n",
    "    rxn.bounds = (0,0)"
   ]
  },
  {
   "cell_type": "markdown",
   "metadata": {},
   "source": [
    "### Solve"
   ]
  },
  {
   "cell_type": "code",
   "execution_count": 38,
   "metadata": {
    "scrolled": true,
    "tags": []
   },
   "outputs": [
    {
     "name": "stdout",
     "output_type": "stream",
     "text": [
      "iter\tmuopt    \ta     \tb     \tmu1       \tstat1\n",
      "Finished compiling expressions in 52.640980 seconds\n",
      "Finished substituting S,lb,ub in 1.825016 seconds\n",
      "Finished makeME_LP in 0.256785 seconds\n",
      "Getting MINOS parameters from ME_NLP...\n",
      "1 0.0 0.0 0.05 0.05 1\n",
      "Finished substituting S,lb,ub in 1.799937 seconds\n",
      "Finished makeME_LP in 0.252412 seconds\n",
      "Getting MINOS parameters from ME_NLP...\n",
      "2 0.0 0.0 0.025 0.025 1\n",
      "Finished substituting S,lb,ub in 1.870894 seconds\n",
      "Finished makeME_LP in 0.261153 seconds\n",
      "Getting MINOS parameters from ME_NLP...\n",
      "3 0.0125 0.0125 0.025 0.0125 optimal\n",
      "Finished substituting S,lb,ub in 1.848379 seconds\n",
      "Finished makeME_LP in 0.258810 seconds\n",
      "Getting MINOS parameters from ME_NLP...\n",
      "4 0.0125 0.0125 0.018750000000000003 0.018750000000000003 1\n",
      "Finished substituting S,lb,ub in 1.836860 seconds\n",
      "Finished makeME_LP in 0.256556 seconds\n",
      "Getting MINOS parameters from ME_NLP...\n",
      "5 0.015625 0.015625 0.018750000000000003 0.015625 optimal\n",
      "Finished substituting S,lb,ub in 1.841273 seconds\n",
      "Finished makeME_LP in 0.258243 seconds\n",
      "Getting MINOS parameters from ME_NLP...\n",
      "6 0.0171875 0.0171875 0.018750000000000003 0.0171875 optimal\n",
      "Finished substituting S,lb,ub in 1.977509 seconds\n",
      "Finished makeME_LP in 0.259586 seconds\n",
      "Getting MINOS parameters from ME_NLP...\n",
      "7 0.0171875 0.0171875 0.017968750000000002 0.017968750000000002 1\n",
      "Finished substituting S,lb,ub in 1.840009 seconds\n",
      "Finished makeME_LP in 0.258952 seconds\n",
      "Getting MINOS parameters from ME_NLP...\n",
      "8 0.017578125 0.017578125 0.017968750000000002 0.017578125 optimal\n",
      "Finished substituting S,lb,ub in 1.845619 seconds\n",
      "Finished makeME_LP in 0.258579 seconds\n",
      "Getting MINOS parameters from ME_NLP...\n",
      "9 0.017773437500000003 0.017773437500000003 0.017968750000000002 0.017773437500000003 optimal\n",
      "Finished substituting S,lb,ub in 1.866001 seconds\n",
      "Finished makeME_LP in 0.260415 seconds\n",
      "Getting MINOS parameters from ME_NLP...\n",
      "10 0.017871093750000004 0.017871093750000004 0.017968750000000002 0.017871093750000004 optimal\n",
      "Finished substituting S,lb,ub in 1.817159 seconds\n",
      "Finished makeME_LP in 0.253523 seconds\n",
      "Getting MINOS parameters from ME_NLP...\n",
      "11 0.017919921875 0.017919921875 0.017968750000000002 0.017919921875 optimal\n",
      "Finished substituting S,lb,ub in 1.800637 seconds\n",
      "Finished makeME_LP in 0.253800 seconds\n",
      "Getting MINOS parameters from ME_NLP...\n",
      "12 0.017919921875 0.017919921875 0.0179443359375 0.0179443359375 1\n",
      "Finished substituting S,lb,ub in 1.794093 seconds\n",
      "Finished makeME_LP in 0.253109 seconds\n",
      "Getting MINOS parameters from ME_NLP...\n",
      "13 0.01793212890625 0.01793212890625 0.0179443359375 0.01793212890625 optimal\n",
      "Finished substituting S,lb,ub in 1.794477 seconds\n",
      "Finished makeME_LP in 0.254637 seconds\n",
      "Getting MINOS parameters from ME_NLP...\n",
      "14 0.017938232421875 0.017938232421875 0.0179443359375 0.017938232421875 optimal\n",
      "Finished substituting S,lb,ub in 1.871342 seconds\n",
      "Finished makeME_LP in 0.263642 seconds\n",
      "Getting MINOS parameters from ME_NLP...\n",
      "15 0.0179412841796875 0.0179412841796875 0.0179443359375 0.0179412841796875 optimal\n",
      "Finished substituting S,lb,ub in 1.870515 seconds\n",
      "Finished makeME_LP in 0.265841 seconds\n",
      "Getting MINOS parameters from ME_NLP...\n",
      "16 0.0179412841796875 0.0179412841796875 0.01794281005859375 0.01794281005859375 1\n",
      "Finished substituting S,lb,ub in 1.851961 seconds\n",
      "Finished makeME_LP in 0.272201 seconds\n",
      "Getting MINOS parameters from ME_NLP...\n",
      "17 0.017942047119140624 0.017942047119140624 0.01794281005859375 0.017942047119140624 optimal\n",
      "Bisection done in 424.793 seconds\n"
     ]
    }
   ],
   "source": [
    "solve_me_model(sporeme, max_mu = 0.1, min_mu = .05, using_soplex=False, precision = 1e-6,growth_key = 'sigma')"
   ]
  },
  {
   "cell_type": "code",
   "execution_count": 39,
   "metadata": {},
   "outputs": [],
   "source": [
    "sporeme.name = 'Spore model with proteomics constraints and spoIIIA-H - spoIIQ pore channel'\n",
    "with open(\"./sporeme_solution_v4_proteomics_spoAQ.pickle\", \"wb\") as outfile:\n",
    "    pickle.dump(sporeme, outfile)"
   ]
  },
  {
   "cell_type": "markdown",
   "metadata": {},
   "source": [
    "## Properties"
   ]
  },
  {
   "cell_type": "code",
   "execution_count": 40,
   "metadata": {},
   "outputs": [
    {
     "data": {
      "text/plain": [
       "(3201, 5014, 733)"
      ]
     },
     "execution_count": 40,
     "metadata": {},
     "output_type": "execute_result"
    }
   ],
   "source": [
    "len(sporeme.metabolites.query('.*_s$')),\\\n",
    "len(sporeme.reactions.query('.*_s$')),\\\n",
    "len(sporeme.metabolites.query('protein_BSU\\d*_s$'))"
   ]
  },
  {
   "cell_type": "code",
   "execution_count": 41,
   "metadata": {},
   "outputs": [
    {
     "data": {
      "text/plain": [
       "(4239, 6232, 974)"
      ]
     },
     "execution_count": 41,
     "metadata": {},
     "output_type": "execute_result"
    }
   ],
   "source": [
    "len(set(sporeme.metabolites) - set(sporeme.metabolites.query('.*_s$'))),\\\n",
    "len(set(sporeme.reactions) - set(sporeme.reactions.query('.*_s$'))),\\\n",
    "len(sporeme.metabolites.query('protein_BSU\\d*[^s]$'))"
   ]
  },
  {
   "cell_type": "code",
   "execution_count": 42,
   "metadata": {},
   "outputs": [
    {
     "data": {
      "text/plain": [
       "(7440, 11246, 1707)"
      ]
     },
     "execution_count": 42,
     "metadata": {},
     "output_type": "execute_result"
    }
   ],
   "source": [
    "len(sporeme.metabolites),\\\n",
    "len(sporeme.reactions),\\\n",
    "len(sporeme.metabolites.query('protein_BSU\\d*_*s*$'))"
   ]
  },
  {
   "cell_type": "code",
   "execution_count": 43,
   "metadata": {},
   "outputs": [],
   "source": [
    "def get_breakdown(me,field):\n",
    "    count = {}\n",
    "    for instance in getattr(me,field):\n",
    "        instance_type = instance.__class__.__name__\n",
    "        if instance_type not in count.keys():\n",
    "            count[instance_type] = 0\n",
    "        count[instance_type] += 1\n",
    "    return pd.DataFrame.from_dict({'count':count})"
   ]
  },
  {
   "cell_type": "code",
   "execution_count": 44,
   "metadata": {},
   "outputs": [
    {
     "data": {
      "text/plain": [
       "<AxesSubplot:>"
      ]
     },
     "execution_count": 44,
     "metadata": {},
     "output_type": "execute_result"
    },
    {
     "data": {
      "image/png": "[encoded data removed]",
      "text/plain": [
       "<Figure size 640x480 with 1 Axes>"
      ]
     },
     "metadata": {},
     "output_type": "display_data"
    }
   ],
   "source": [
    "get_breakdown(sporeme,'metabolites').sort_values('count').plot.bar()"
   ]
  },
  {
   "cell_type": "code",
   "execution_count": 45,
   "metadata": {},
   "outputs": [
    {
     "data": {
      "text/plain": [
       "<AxesSubplot:>"
      ]
     },
     "execution_count": 45,
     "metadata": {},
     "output_type": "execute_result"
    },
    {
     "data": {
      "image/png": "[encoded data removed]",
      "text/plain": [
       "<Figure size 640x480 with 1 Axes>"
      ]
     },
     "metadata": {},
     "output_type": "display_data"
    }
   ],
   "source": [
    "get_breakdown(sporeme,'reactions').sort_values('count').plot.bar()"
   ]
  },
  {
   "cell_type": "code",
   "execution_count": 46,
   "metadata": {
    "scrolled": true,
    "tags": []
   },
   "outputs": [],
   "source": [
    "d = {}\n",
    "for r in sporeme.reactions:\n",
    "    try:\n",
    "        rxn = r.reaction\n",
    "    except:\n",
    "        rxn = ''\n",
    "    d[r.id] = {\n",
    "        'lower_bound' : r.lower_bound,\n",
    "        'upper_bound' : r.upper_bound,\n",
    "        'reaction' : rxn,\n",
    "        'subsystem' : r.subsystem,\n",
    "        'flux' : sporeme.solution.x_dict[r.id]\n",
    "    }"
   ]
  },
  {
   "cell_type": "code",
   "execution_count": 47,
   "metadata": {},
   "outputs": [],
   "source": [
    "pd.DataFrame.from_dict(d).T.to_csv('Supplementary Files/Supplementary File 1.csv')"
   ]
  },
  {
   "cell_type": "markdown",
   "metadata": {},
   "source": [
    "### Summary of the model"
   ]
  },
  {
   "cell_type": "code",
   "execution_count": 48,
   "metadata": {},
   "outputs": [
    {
     "data": {
      "text/html": [
       "<div>\n",
       "<style scoped>\n",
       "    .dataframe tbody tr th:only-of-type {\n",
       "        vertical-align: middle;\n",
       "    }\n",
       "\n",
       "    .dataframe tbody tr th {\n",
       "        vertical-align: top;\n",
       "    }\n",
       "\n",
       "    .dataframe thead th {\n",
       "        text-align: right;\n",
       "    }\n",
       "</style>\n",
       "<table border=\"1\" class=\"dataframe\">\n",
       "  <thead>\n",
       "    <tr style=\"text-align: right;\">\n",
       "      <th></th>\n",
       "      <th>name</th>\n",
       "      <th>reaction</th>\n",
       "      <th>reaction_with_names</th>\n",
       "      <th>genes</th>\n",
       "    </tr>\n",
       "  </thead>\n",
       "  <tbody>\n",
       "    <tr>\n",
       "      <th>23CN2P1</th>\n",
       "      <td>2  3  cyclic nucleotide 2  phosphodiesterase  ...</td>\n",
       "      <td>23camp_c + h2o_c &lt;=&gt; 3amp_c + h_c</td>\n",
       "      <td>2',3'-Cyclic AMP + H2O H2O &lt;=&gt; 3  AMP C10H12N5...</td>\n",
       "      <td>BSU07840</td>\n",
       "    </tr>\n",
       "    <tr>\n",
       "      <th>23CN2P2</th>\n",
       "      <td>2  3  cyclic nucleotide 2  phosphodiesterase  ...</td>\n",
       "      <td>23cump_c + h2o_c &lt;=&gt; 3ump_c + h_c</td>\n",
       "      <td>2',3'-Cyclic UMP + H2O H2O &lt;=&gt; 3  UMP C9H11N2O...</td>\n",
       "      <td>BSU07840</td>\n",
       "    </tr>\n",
       "    <tr>\n",
       "      <th>23CN2P3</th>\n",
       "      <td>2  3  cyclic nucleotide 2  phosphodiesterase  ...</td>\n",
       "      <td>23ccmp_c + h2o_c &lt;=&gt; 3cmp_c + h_c</td>\n",
       "      <td>2',3'-Cyclic CMP + H2O H2O &lt;=&gt; 3  CMP C9H12N3O...</td>\n",
       "      <td>BSU07840</td>\n",
       "    </tr>\n",
       "    <tr>\n",
       "      <th>23CN2P4</th>\n",
       "      <td>2  3  cyclic nucleotide 2  phosphodiesterase  ...</td>\n",
       "      <td>23cgmp_c + h2o_c &lt;=&gt; 3gmp_c + h_c</td>\n",
       "      <td>2',3'-Cyclic GMP + H2O H2O &lt;=&gt; Guanosine 3  ph...</td>\n",
       "      <td>BSU07840</td>\n",
       "    </tr>\n",
       "    <tr>\n",
       "      <th>26DPAi</th>\n",
       "      <td>Dipicolinate synthase</td>\n",
       "      <td>23dhdp_c + nad_c --&gt; DPA_c + h_c + nadh_c</td>\n",
       "      <td>2,3-Dihydrodipicolinate + Nicotinamide adenine...</td>\n",
       "      <td>BSU16730 and BSU16740</td>\n",
       "    </tr>\n",
       "  </tbody>\n",
       "</table>\n",
       "</div>"
      ],
      "text/plain": [
       "                                                      name  \\\n",
       "23CN2P1  2  3  cyclic nucleotide 2  phosphodiesterase  ...   \n",
       "23CN2P2  2  3  cyclic nucleotide 2  phosphodiesterase  ...   \n",
       "23CN2P3  2  3  cyclic nucleotide 2  phosphodiesterase  ...   \n",
       "23CN2P4  2  3  cyclic nucleotide 2  phosphodiesterase  ...   \n",
       "26DPAi                               Dipicolinate synthase   \n",
       "\n",
       "                                          reaction  \\\n",
       "23CN2P1          23camp_c + h2o_c <=> 3amp_c + h_c   \n",
       "23CN2P2          23cump_c + h2o_c <=> 3ump_c + h_c   \n",
       "23CN2P3          23ccmp_c + h2o_c <=> 3cmp_c + h_c   \n",
       "23CN2P4          23cgmp_c + h2o_c <=> 3gmp_c + h_c   \n",
       "26DPAi   23dhdp_c + nad_c --> DPA_c + h_c + nadh_c   \n",
       "\n",
       "                                       reaction_with_names  \\\n",
       "23CN2P1  2',3'-Cyclic AMP + H2O H2O <=> 3  AMP C10H12N5...   \n",
       "23CN2P2  2',3'-Cyclic UMP + H2O H2O <=> 3  UMP C9H11N2O...   \n",
       "23CN2P3  2',3'-Cyclic CMP + H2O H2O <=> 3  CMP C9H12N3O...   \n",
       "23CN2P4  2',3'-Cyclic GMP + H2O H2O <=> Guanosine 3  ph...   \n",
       "26DPAi   2,3-Dihydrodipicolinate + Nicotinamide adenine...   \n",
       "\n",
       "                         genes  \n",
       "23CN2P1               BSU07840  \n",
       "23CN2P2               BSU07840  \n",
       "23CN2P3               BSU07840  \n",
       "23CN2P4               BSU07840  \n",
       "26DPAi   BSU16730 and BSU16740  "
      ]
     },
     "execution_count": 48,
     "metadata": {},
     "output_type": "execute_result"
    }
   ],
   "source": [
    "df = pd.read_csv(\"../../iYO844_summary.csv\",index_col=0)\n",
    "df.head()"
   ]
  },
  {
   "cell_type": "code",
   "execution_count": 49,
   "metadata": {
    "scrolled": true
   },
   "outputs": [],
   "source": [
    "d = {}\n",
    "for r in sporeme.reactions:\n",
    "    if not isinstance(r, cobrame.core.reaction.MetabolicReaction):\n",
    "        continue\n",
    "    if r.id[-2:] == \"_s\":\n",
    "        cell = \"spore\"\n",
    "    else:\n",
    "        cell = \"mother\"\n",
    "    baseid = re.split(\"_FWD_|_REV_\",r.id)[0]\n",
    "    sign = 1 if \"FWD\" in r.id else -1\n",
    "    flux = sign * sporeme.solution.x_dict[r.id]\n",
    "    if baseid not in d:\n",
    "        d[baseid] = {\n",
    "            \"spore\" : 0,\n",
    "            \"mother\" : 0\n",
    "        }\n",
    "    d[baseid][cell] += flux\n",
    "flux = pd.DataFrame.from_dict(d).T"
   ]
  },
  {
   "cell_type": "code",
   "execution_count": 50,
   "metadata": {},
   "outputs": [],
   "source": [
    "df[\"spore\"] = flux[\"spore\"]\n",
    "df[\"mother\"] = flux[\"mother\"]\n",
    "df.head()\n",
    "df = df.fillna({\"spore\":0, \"mother\":0})\n",
    "df = df.fillna(\"\")\n",
    "df.to_csv(\"sporeme_metabolic_flux_summary.csv\")"
   ]
  }
 ],
 "metadata": {
  "kernelspec": {
   "display_name": "python3.7-cobrame",
   "language": "python",
   "name": "python3.7-cobrame"
  },
  "language_info": {
   "codemirror_mode": {
    "name": "ipython",
    "version": 3
   },
   "file_extension": ".py",
   "mimetype": "text/x-python",
   "name": "python",
   "nbconvert_exporter": "python",
   "pygments_lexer": "ipython3",
   "version": "3.7.8"
  }
 },
 "nbformat": 4,
 "nbformat_minor": 4
}
