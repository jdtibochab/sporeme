{
 "cells": [
  {
   "cell_type": "markdown",
   "metadata": {},
   "source": [
    "# Mechanisms"
   ]
  },
  {
   "cell_type": "code",
   "execution_count": 1,
   "metadata": {
    "scrolled": true
   },
   "outputs": [
    {
     "name": "stderr",
     "output_type": "stream",
     "text": [
      "/home/jt/work/cobrapy-0.5.11/cobra/io/sbml3.py:24: UserWarning: Install lxml for faster SBML I/O\n",
      "  warn(\"Install lxml for faster SBML I/O\")\n",
      "/home/jt/work/cobrapy-0.5.11/cobra/io/__init__.py:12: UserWarning: cobra.io.sbml requires libsbml\n",
      "  warn(\"cobra.io.sbml requires libsbml\")\n"
     ]
    },
    {
     "name": "stdout",
     "output_type": "stream",
     "text": [
      "/home/jt/work/cobrapy-0.5.11/cobra/__init__.py\n",
      "/home/jt/work/cobrame/cobrame/__init__.py\n",
      "/home/jt/work/sporeme/bacillusme/__init__.py\n"
     ]
    }
   ],
   "source": [
    "from __future__ import print_function, division, absolute_import\n",
    "\n",
    "import sys\n",
    "\n",
    "import qminospy\n",
    "from qminospy.me2 import ME_NLP\n",
    "\n",
    "# python imports\n",
    "from copy import copy\n",
    "import re\n",
    "from os.path import join, dirname, abspath\n",
    "import sys\n",
    "from collections import defaultdict\n",
    "import pickle\n",
    "\n",
    "# third party imports\n",
    "import pandas as pd\n",
    "import cobra\n",
    "from tqdm import tqdm\n",
    "import numpy as np\n",
    "import scipy\n",
    "\n",
    "# COBRAme\n",
    "import cobrame\n",
    "from cobrame.util import building, mu, me_model_interface\n",
    "from cobrame.io.json import save_json_me_model, save_reduced_json_me_model\n",
    "\n",
    "# ECOLIme\n",
    "import bacillusme\n",
    "from bacillusme import (transcription, translation, flat_files, generics, formulas, compartments)\n",
    "from bacillusme.util.helper_functions import *\n",
    "\n",
    "import copy\n",
    "%load_ext autoreload\n",
    "%autoreload 2\n",
    "ecoli_files = dirname(abspath(bacillusme.__file__))\n",
    "plt.rcParams['svg.fonttype'] = 'none'\n",
    "pd.set_option('display.max_colwidth', None)"
   ]
  },
  {
   "cell_type": "code",
   "execution_count": 2,
   "metadata": {
    "scrolled": true,
    "tags": []
   },
   "outputs": [],
   "source": [
    "with open(\"./sporeme_solution_v4_proteomics_spoAQ.pickle\", \"rb\") as outfile:\n",
    "    sporeme = pickle.load(outfile)"
   ]
  },
  {
   "cell_type": "code",
   "execution_count": 3,
   "metadata": {},
   "outputs": [],
   "source": [
    "def add_transport_to_model(model,mets):\n",
    "    for met in mets:\n",
    "        rxn = cobrame.core.reaction.MetabolicReaction('{}_transport'.format(met))\n",
    "        model.add_reactions([rxn])\n",
    "        rxn.add_metabolites({\n",
    "            '{}_c'.format(met):-1,\n",
    "            '{}_s'.format(met):1\n",
    "        })\n",
    "        rxn.bounds = (-1000,1000)\n",
    "        print(rxn.reaction)"
   ]
  },
  {
   "cell_type": "code",
   "execution_count": 4,
   "metadata": {
    "scrolled": true
   },
   "outputs": [
    {
     "name": "stdout",
     "output_type": "stream",
     "text": [
      "atp_c <=> atp_s\n",
      "Finished compiling expressions in 57.306999 seconds\n",
      "Finished substituting S,lb,ub in 2.155164 seconds\n",
      "Finished makeME_LP in 0.287726 seconds\n",
      "Getting MINOS parameters from ME_NLP...\n",
      "Finished substituting S,lb,ub in 2.210220 seconds\n",
      "Finished makeME_LP in 0.282664 seconds\n",
      "Getting MINOS parameters from ME_NLP...\n",
      "Finished substituting S,lb,ub in 2.260612 seconds\n",
      "Finished makeME_LP in 0.277091 seconds\n",
      "Getting MINOS parameters from ME_NLP...\n",
      "Finished substituting S,lb,ub in 2.145804 seconds\n",
      "Finished makeME_LP in 0.280755 seconds\n",
      "Getting MINOS parameters from ME_NLP...\n",
      "Finished substituting S,lb,ub in 2.182991 seconds\n",
      "Finished makeME_LP in 0.277992 seconds\n",
      "Getting MINOS parameters from ME_NLP...\n",
      "Finished substituting S,lb,ub in 2.177761 seconds\n",
      "Finished makeME_LP in 0.280942 seconds\n",
      "Getting MINOS parameters from ME_NLP...\n",
      "Finished substituting S,lb,ub in 2.160222 seconds\n",
      "Finished makeME_LP in 0.287404 seconds\n",
      "Getting MINOS parameters from ME_NLP...\n",
      "Finished substituting S,lb,ub in 2.124859 seconds\n",
      "Finished makeME_LP in 0.275591 seconds\n",
      "Getting MINOS parameters from ME_NLP...\n",
      "Finished substituting S,lb,ub in 2.082209 seconds\n",
      "Finished makeME_LP in 0.279373 seconds\n",
      "Getting MINOS parameters from ME_NLP...\n",
      "Finished substituting S,lb,ub in 2.169490 seconds\n",
      "Finished makeME_LP in 0.278691 seconds\n",
      "Getting MINOS parameters from ME_NLP...\n",
      "Finished substituting S,lb,ub in 2.179753 seconds\n",
      "Finished makeME_LP in 0.285021 seconds\n",
      "Getting MINOS parameters from ME_NLP...\n",
      "Finished substituting S,lb,ub in 2.073291 seconds\n",
      "Finished makeME_LP in 0.279440 seconds\n",
      "Getting MINOS parameters from ME_NLP...\n",
      "Finished substituting S,lb,ub in 2.154992 seconds\n",
      "Finished makeME_LP in 0.287818 seconds\n",
      "Getting MINOS parameters from ME_NLP...\n",
      "Finished substituting S,lb,ub in 2.178111 seconds\n",
      "Finished makeME_LP in 0.281414 seconds\n",
      "Getting MINOS parameters from ME_NLP...\n",
      "Finished substituting S,lb,ub in 2.168758 seconds\n",
      "Finished makeME_LP in 0.284004 seconds\n",
      "Getting MINOS parameters from ME_NLP...\n",
      "Finished substituting S,lb,ub in 2.115367 seconds\n",
      "Finished makeME_LP in 0.280418 seconds\n",
      "Getting MINOS parameters from ME_NLP...\n",
      "Finished substituting S,lb,ub in 2.107132 seconds\n",
      "Finished makeME_LP in 0.271212 seconds\n",
      "Getting MINOS parameters from ME_NLP...\n"
     ]
    }
   ],
   "source": [
    "add_transport_to_model(sporeme,['atp'])\n",
    "solve_me_model(sporeme,\n",
    "                   max_mu = 0.1,\n",
    "                   min_mu = .01,\n",
    "                   using_soplex=False,\n",
    "                   precision = 1e-6,\n",
    "                   growth_key = 'sigma',\n",
    "                   verbosity=2)"
   ]
  },
  {
   "cell_type": "markdown",
   "metadata": {},
   "source": [
    "## ATP mechanisms"
   ]
  },
  {
   "cell_type": "code",
   "execution_count": 10,
   "metadata": {},
   "outputs": [],
   "source": [
    "df = flux_based_reactions(sporeme,'atp_s',only_types=['MetabolicReaction'],growth_symbol = 'sigma')"
   ]
  },
  {
   "cell_type": "code",
   "execution_count": 13,
   "metadata": {},
   "outputs": [
    {
     "data": {
      "text/plain": [
       "0.0328521728515625"
      ]
     },
     "execution_count": 13,
     "metadata": {},
     "output_type": "execute_result"
    }
   ],
   "source": [
    "sporeme.solution.x_dict[\"biomass_dilution_s\"]"
   ]
  },
  {
   "cell_type": "code",
   "execution_count": 22,
   "metadata": {},
   "outputs": [
    {
     "data": {
      "text/plain": [
       "atp_transport                                 0.499796\n",
       "ADK1_REV_BSU01370-MONOMER_mod_mg2_s           0.496053\n",
       "PYK_FWD_BSU29180-MONOMER_mod_mn2_mod_k_s    0.00415151\n",
       "Name: met_flux, dtype: object"
      ]
     },
     "execution_count": 22,
     "metadata": {},
     "output_type": "execute_result"
    }
   ],
   "source": [
    "prod_df = df[df['met_flux']>1e-16]['met_flux']\n",
    "prod_df.div(prod_df.sum())"
   ]
  },
  {
   "cell_type": "code",
   "execution_count": 15,
   "metadata": {
    "scrolled": true
   },
   "outputs": [
    {
     "name": "stdout",
     "output_type": "stream",
     "text": [
      "atp_transport\n",
      "atp_c <=> atp_s\n",
      "\n",
      "ADK1_REV_BSU01370-MONOMER_mod_mg2_s\n",
      "2.0 adp_s --> -4.27350427350427e-6*sigma BSU01370-MONOMER_mod_mg2_s + amp_s + atp_s\n",
      "\n",
      "PYK_FWD_BSU29180-MONOMER_mod_mn2_mod_k_s\n",
      "adp_s + h_s + pep_s --> -7.24275931761575e-7*sigma BSU29180-MONOMER_mod_mn2_mod_k_s + atp_s + pyr_s\n",
      "\n",
      "FACOAL161_ISO_REV_BSU10270-MONOMER_s\n",
      "amp_s + fa5coa_s + ppi_s --> -4.27350427350427e-6*sigma BSU10270-MONOMER_s + atp_s + coa_s + fa5_s\n",
      "\n",
      "translation_BSU28450_s\n",
      "10fthf_s + 20 ala__L_s + 10 arg__L_s + 9 asn__L_s + 2 asp__L_s + 2.0 generic_tRNA_AAA_lys__L_s + 5.0 generic_tRNA_AAC_asn__L_s + 4.0 generic_tRNA_AAU_asn__L_s + 3.0 generic_tRNA_ACA_thr__L_s + 3.0 generic_tRNA_ACC_thr__L_s + 3.0 generic_tRNA_ACG_thr__L_s + generic_tRNA_ACU_thr__L_s + 4.0 generic_tRNA_AGA_arg__L_s + 5.0 generic_tRNA_AGC_ser__L_s + 2.0 generic_tRNA_AGG_arg__L_s + 2.0 generic_tRNA_AUA_ile__L_s + 5.0 generic_tRNA_AUC_ile__L_s + 6.0 generic_tRNA_AUG_met__L_s + 13.0 generic_tRNA_AUU_ile__L_s + 3.0 generic_tRNA_CAA_gln__L_s + 2.0 generic_tRNA_CAC_his__L_s + 3.0 generic_tRNA_CAG_gln__L_s + 4.0 generic_tRNA_CAU_his__L_s + generic_tRNA_CCA_pro__L_s + 2.0 generic_tRNA_CCG_pro__L_s + 2.0 generic_tRNA_CCU_pro__L_s + generic_tRNA_CGA_arg__L_s + generic_tRNA_CGC_arg__L_s + 2.0 generic_tRNA_CGU_arg__L_s + generic_tRNA_CUA_leu__L_s + generic_tRNA_CUC_leu__L_s + 4.0 generic_tRNA_CUG_leu__L_s + 3.0 generic_tRNA_CUU_leu__L_s + 3.0 generic_tRNA_GAA_glu__L_s + generic_tRNA_GAC_asp__L_s + 2.0 generic_tRNA_GAG_glu__L_s + generic_tRNA_GAU_asp__L_s + 6.0 generic_tRNA_GCA_ala__L_s + 4.0 generic_tRNA_GCC_ala__L_s + 4.0 generic_tRNA_GCG_ala__L_s + 6.0 generic_tRNA_GCU_ala__L_s + 5.0 generic_tRNA_GGC_gly_s + generic_tRNA_GGG_gly_s + 7.0 generic_tRNA_GGU_gly_s + 3.0 generic_tRNA_GUA_val__L_s + 8.0 generic_tRNA_GUC_val__L_s + 2.0 generic_tRNA_GUG_val__L_s + 6.0 generic_tRNA_GUU_val__L_s + generic_tRNA_START_met__L_s + 6.0 generic_tRNA_UAC_tyr__L_s + 4.0 generic_tRNA_UAU_tyr__L_s + 2.0 generic_tRNA_UCA_ser__L_s + generic_tRNA_UCC_ser__L_s + 2.0 generic_tRNA_UCG_ser__L_s + 4.0 generic_tRNA_UCU_ser__L_s + 5.0 generic_tRNA_UGG_trp__L_s + 6.0 generic_tRNA_UUA_leu__L_s + 9.0 generic_tRNA_UUC_phe__L_s + 4.0 generic_tRNA_UUG_leu__L_s + 11.0 generic_tRNA_UUU_phe__L_s + 6 gln__L_s + 5 glu__L_s + 13 gly_s + 404.0 gtp_s + 6 his__L_s + 20 ile__L_s + 19 leu__L_s + 2 lys__L_s + 7 met__L_s + 20 phe__L_s + 5 pro__L_s + 14 ser__L_s + 10 thr__L_s + 5 trp__L_s + 10 tyr__L_s + 19 val__L_s --> -0.000858974358974359*sigma BSU01120-MONOMER_s + -4.27350427350427e-6*sigma BSU01390-MONOMER_s + -4.27350427350427e-6*sigma BSU15720-MONOMER_s + -4.27350427350427e-6*sigma BSU15730-MONOMER_s + -0.000858974358974359*sigma BSU16500-MONOMER_s + -4.27350427350427e-6*sigma BSU16520-MONOMER_s + -8.54700854700855e-6*sigma BSU16630-MONOMER_s + -4.27350427350427e-6*sigma BSU28870-MONOMER_s + -4.27350427350427e-6*sigma BSU35290-MONOMER_s + -0.000498399634202103*sigma - 0.000195123456790123 - 0.00598079561042524*(sigma + 0.3915)/sigma RNA_BSU28450_s + -2.55589556001079e-8*sigma - 1.00063311174422e-8 RNA_degradosome_s + 0.909080932784637*(sigma + 0.3915)/sigma adp_s + 201.0 + 1.24400548696845*(sigma + 0.3915)/sigma amp_s + -201.0 - 0.909080932784637*(sigma + 0.3915)/sigma atp_s + 0.795445816186557*(sigma + 0.3915)/sigma cmp_s + for_s + 404.0 gdp_s + -4.27350427350427e-6*sigma generic_RF_s + -0.000858974358974359*sigma generic_Tuf_s + 0.777503429355281*(sigma + 0.3915)/sigma gmp_s + -405.0 - 0.909080932784637*(sigma + 0.3915)/sigma h2o_s + 605.0 + 0.909080932784637*(sigma + 0.3915)/sigma h_s + -1.16971029624148*(sigma + 0.3915)/sigma mRNA_biomass_s + 404.0 + 0.909080932784637*(sigma + 0.3915)/sigma pi_s + 201.0 ppi_s + protein_BSU28450_s + 22.936735620000004 protein_biomass_s + -0.00289599755295557*sigma - 0.00113378304198211 ribosome_s + thf_s + 0.825349794238683*(sigma + 0.3915)/sigma ump_s\n",
      "\n"
     ]
    }
   ],
   "source": [
    "for r in prod_df.div(prod_df.sum()).index:\n",
    "    r = sporeme.reactions.get_by_id(r)\n",
    "    print(r.id)\n",
    "    print(r.reaction)\n",
    "    print()"
   ]
  },
  {
   "cell_type": "code",
   "execution_count": 29,
   "metadata": {},
   "outputs": [
    {
     "data": {
      "image/png": "[encoded data removed]",
      "text/plain": [
       "<Figure size 640x480 with 1 Axes>"
      ]
     },
     "metadata": {},
     "output_type": "display_data"
    }
   ],
   "source": [
    "prod_df.plot.pie(autopct = '%1.1f%%')\n",
    "plt.savefig('figures/ATP_synthesis_spoAQ_with_ATP_transport.svg',format='SVG')"
   ]
  },
  {
   "cell_type": "markdown",
   "metadata": {},
   "source": [
    "## GFP comparison"
   ]
  },
  {
   "cell_type": "code",
   "execution_count": 30,
   "metadata": {},
   "outputs": [],
   "source": [
    "plt.rcParams['svg.fonttype'] = 'none'"
   ]
  },
  {
   "cell_type": "code",
   "execution_count": 34,
   "metadata": {},
   "outputs": [],
   "source": [
    "locus_to_name = pd.read_csv('./gene_name_dictionary.csv',index_col=0)['name'].to_dict()\n",
    "name_to_locus = pd.read_csv('./gene_name_dictionary.csv',index_col=1)['locus_id'].to_dict()"
   ]
  },
  {
   "cell_type": "code",
   "execution_count": 35,
   "metadata": {},
   "outputs": [],
   "source": [
    "confirmed_depletions = ['pckA','purL','ilvB','ilvE','citZ','acsA','etfA','acoC','sigF','yxbC','lutC',\n",
    "                  'argJ','hpf']"
   ]
  },
  {
   "cell_type": "code",
   "execution_count": 36,
   "metadata": {},
   "outputs": [],
   "source": [
    "l = ['scoB','argJ','citZ','pckA','ilvB','metE','lutC','argD','argB','pyrK','pdhD','gmk','cmk','eno','pyk','gapA']"
   ]
  },
  {
   "cell_type": "code",
   "execution_count": 37,
   "metadata": {},
   "outputs": [
    {
     "data": {
      "text/plain": [
       "{'argJ', 'citZ', 'ilvB', 'lutC', 'pckA'}"
      ]
     },
     "execution_count": 37,
     "metadata": {},
     "output_type": "execute_result"
    }
   ],
   "source": [
    "set(l) & set(confirmed_depletions)"
   ]
  },
  {
   "cell_type": "code",
   "execution_count": 38,
   "metadata": {},
   "outputs": [
    {
     "name": "stdout",
     "output_type": "stream",
     "text": [
      "lutC  not in model\n"
     ]
    }
   ],
   "source": [
    "d = {}\n",
    "for g in l:\n",
    "    locus = name_to_locus[g]\n",
    "    if not sporeme.metabolites.query(locus):\n",
    "        print(g, ' not in model')\n",
    "        continue\n",
    "    mc = sporeme.solution.x_dict['translation_{}'.format(locus)]\n",
    "    fs = sporeme.solution.x_dict['translation_{}_s'.format(locus)]\n",
    "    d[g] = {'mc':mc,'fs':fs}"
   ]
  },
  {
   "cell_type": "code",
   "execution_count": 39,
   "metadata": {},
   "outputs": [
    {
     "data": {
      "text/html": [
       "<div>\n",
       "<style scoped>\n",
       "    .dataframe tbody tr th:only-of-type {\n",
       "        vertical-align: middle;\n",
       "    }\n",
       "\n",
       "    .dataframe tbody tr th {\n",
       "        vertical-align: top;\n",
       "    }\n",
       "\n",
       "    .dataframe thead th {\n",
       "        text-align: right;\n",
       "    }\n",
       "</style>\n",
       "<table border=\"1\" class=\"dataframe\">\n",
       "  <thead>\n",
       "    <tr style=\"text-align: right;\">\n",
       "      <th></th>\n",
       "      <th>mc</th>\n",
       "      <th>fs</th>\n",
       "    </tr>\n",
       "  </thead>\n",
       "  <tbody>\n",
       "    <tr>\n",
       "      <th>scoB</th>\n",
       "      <td>0.000000</td>\n",
       "      <td>0.000000</td>\n",
       "    </tr>\n",
       "    <tr>\n",
       "      <th>argJ</th>\n",
       "      <td>100.000000</td>\n",
       "      <td>0.000000</td>\n",
       "    </tr>\n",
       "    <tr>\n",
       "      <th>citZ</th>\n",
       "      <td>100.000000</td>\n",
       "      <td>0.000000</td>\n",
       "    </tr>\n",
       "    <tr>\n",
       "      <th>pckA</th>\n",
       "      <td>100.000000</td>\n",
       "      <td>0.000000</td>\n",
       "    </tr>\n",
       "    <tr>\n",
       "      <th>ilvB</th>\n",
       "      <td>100.000000</td>\n",
       "      <td>0.000000</td>\n",
       "    </tr>\n",
       "    <tr>\n",
       "      <th>metE</th>\n",
       "      <td>100.000000</td>\n",
       "      <td>0.000000</td>\n",
       "    </tr>\n",
       "    <tr>\n",
       "      <th>argD</th>\n",
       "      <td>100.000000</td>\n",
       "      <td>0.000000</td>\n",
       "    </tr>\n",
       "    <tr>\n",
       "      <th>argB</th>\n",
       "      <td>100.000000</td>\n",
       "      <td>0.000000</td>\n",
       "    </tr>\n",
       "    <tr>\n",
       "      <th>pyrK</th>\n",
       "      <td>100.000000</td>\n",
       "      <td>0.000000</td>\n",
       "    </tr>\n",
       "    <tr>\n",
       "      <th>pdhD</th>\n",
       "      <td>97.791922</td>\n",
       "      <td>2.208078</td>\n",
       "    </tr>\n",
       "    <tr>\n",
       "      <th>gmk</th>\n",
       "      <td>86.314514</td>\n",
       "      <td>13.685486</td>\n",
       "    </tr>\n",
       "    <tr>\n",
       "      <th>cmk</th>\n",
       "      <td>48.000608</td>\n",
       "      <td>51.999392</td>\n",
       "    </tr>\n",
       "    <tr>\n",
       "      <th>eno</th>\n",
       "      <td>89.598458</td>\n",
       "      <td>10.401542</td>\n",
       "    </tr>\n",
       "    <tr>\n",
       "      <th>pyk</th>\n",
       "      <td>95.837241</td>\n",
       "      <td>4.162759</td>\n",
       "    </tr>\n",
       "    <tr>\n",
       "      <th>gapA</th>\n",
       "      <td>97.934818</td>\n",
       "      <td>2.065182</td>\n",
       "    </tr>\n",
       "  </tbody>\n",
       "</table>\n",
       "</div>"
      ],
      "text/plain": [
       "              mc         fs\n",
       "scoB    0.000000   0.000000\n",
       "argJ  100.000000   0.000000\n",
       "citZ  100.000000   0.000000\n",
       "pckA  100.000000   0.000000\n",
       "ilvB  100.000000   0.000000\n",
       "metE  100.000000   0.000000\n",
       "argD  100.000000   0.000000\n",
       "argB  100.000000   0.000000\n",
       "pyrK  100.000000   0.000000\n",
       "pdhD   97.791922   2.208078\n",
       "gmk    86.314514  13.685486\n",
       "cmk    48.000608  51.999392\n",
       "eno    89.598458  10.401542\n",
       "pyk    95.837241   4.162759\n",
       "gapA   97.934818   2.065182"
      ]
     },
     "execution_count": 39,
     "metadata": {},
     "output_type": "execute_result"
    }
   ],
   "source": [
    "df = pd.DataFrame.from_dict(d).T\n",
    "df[df<1e-16] = 0\n",
    "df = df.div(df.sum(axis=1),axis=0).fillna(0) * 100\n",
    "df"
   ]
  },
  {
   "cell_type": "code",
   "execution_count": 40,
   "metadata": {},
   "outputs": [
    {
     "data": {
      "image/png": "[encoded data removed]",
      "text/plain": [
       "<Figure size 640x480 with 1 Axes>"
      ]
     },
     "metadata": {},
     "output_type": "display_data"
    }
   ],
   "source": [
    "ax = df.plot.bar(stacked=False)\n",
    "# ax.invert_yaxis()\n",
    "plt.plot(df.index,df['mc'],'^')\n",
    "plt.plot(df.index,df['fs'],'*')\n",
    "plt.ylabel('Expression fraction')\n",
    "plt.savefig('figures/STRP_comparison.svg',format='SVG')"
   ]
  },
  {
   "cell_type": "markdown",
   "metadata": {},
   "source": [
    "## NADH mechanisms"
   ]
  },
  {
   "cell_type": "code",
   "execution_count": 41,
   "metadata": {},
   "outputs": [],
   "source": [
    "df = flux_based_reactions(sporeme,'nadh_s',only_types=['MetabolicReaction'],growth_symbol = 'sigma')"
   ]
  },
  {
   "cell_type": "code",
   "execution_count": 46,
   "metadata": {},
   "outputs": [
    {
     "data": {
      "text/plain": [
       "PDH_FWD_CPLX000-61_s            0.898501\n",
       "OIVD3_FWD_CPLX000-60_s         0.0501029\n",
       "OIVD1r_FWD_CPLX000-58_s         0.026525\n",
       "MDH_FWD_BSU29120-MONOMER_s      0.018977\n",
       "OIVD2_FWD_CPLX000-59_s        0.00589445\n",
       "Name: met_flux, dtype: object"
      ]
     },
     "execution_count": 46,
     "metadata": {},
     "output_type": "execute_result"
    }
   ],
   "source": [
    "prod_df = df[df['met_flux']>1e-16]['met_flux']\n",
    "prod_df.div(prod_df.sum())"
   ]
  },
  {
   "cell_type": "code",
   "execution_count": 43,
   "metadata": {
    "scrolled": true
   },
   "outputs": [
    {
     "name": "stdout",
     "output_type": "stream",
     "text": [
      "PDH_FWD_CPLX000-61_s\n",
      "coa_s + nad_s + pyr_s --> -4.27350427350427e-6*sigma CPLX000-61_s + accoa_s + co2_s + nadh_s\n",
      "\n",
      "OIVD3_FWD_CPLX000-60_s\n",
      "3mop_s + coa_s + nad_s --> 2mbcoa_s + -4.27350427350427e-6*sigma CPLX000-60_s + co2_s + nadh_s\n",
      "\n",
      "OIVD1r_FWD_CPLX000-58_s\n",
      "4mop_s + coa_s + nad_s --> -4.27350427350427e-6*sigma CPLX000-58_s + co2_s + ivcoa_s + nadh_s\n",
      "\n",
      "MDH_FWD_BSU29120-MONOMER_s\n",
      "mal__L_s + nad_s --> -1.93076423348459e-6*sigma BSU29120-MONOMER_s + h_s + nadh_s + oaa_s\n",
      "\n",
      "OIVD2_FWD_CPLX000-59_s\n",
      "3mob_s + coa_s + nad_s --> -4.27350427350427e-6*sigma CPLX000-59_s + co2_s + ibcoa_s + nadh_s\n",
      "\n",
      "UDPGD_REV_BSU35580-MONOMER_s\n",
      "3.0 h_s + 2.0 nadh_s + udpglcur_s --> -7.6432684724297e-5*sigma BSU35580-MONOMER_s + h2o_s + 2.0 nad_s + udpg_s\n",
      "\n"
     ]
    }
   ],
   "source": [
    "for r in prod_df.div(prod_df.sum()).index:\n",
    "    r = sporeme.reactions.get_by_id(r)\n",
    "    print(r.id)\n",
    "    print(r.reaction)\n",
    "    print()"
   ]
  },
  {
   "cell_type": "code",
   "execution_count": 45,
   "metadata": {},
   "outputs": [
    {
     "data": {
      "image/png": "[encoded data removed]",
      "text/plain": [
       "<Figure size 640x480 with 1 Axes>"
      ]
     },
     "metadata": {},
     "output_type": "display_data"
    }
   ],
   "source": [
    "prod_df.plot.pie()\n",
    "plt.savefig('figures/NADH_synthesis_spoAQ_with_ATP_transport.svg',format='SVG')"
   ]
  }
 ],
 "metadata": {
  "kernelspec": {
   "display_name": "python3.7-cobrame",
   "language": "python",
   "name": "python3.7-cobrame"
  },
  "language_info": {
   "codemirror_mode": {
    "name": "ipython",
    "version": 3
   },
   "file_extension": ".py",
   "mimetype": "text/x-python",
   "name": "python",
   "nbconvert_exporter": "python",
   "pygments_lexer": "ipython3",
   "version": "3.7.8"
  }
 },
 "nbformat": 4,
 "nbformat_minor": 4
}
