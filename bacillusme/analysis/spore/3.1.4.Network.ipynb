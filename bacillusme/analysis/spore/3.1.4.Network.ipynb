{
 "cells": [
  {
   "cell_type": "code",
   "execution_count": 2,
   "id": "81b8fbbf-2625-49bf-bbab-3aa35256ce4c",
   "metadata": {
    "scrolled": true
   },
   "outputs": [
    {
     "name": "stderr",
     "output_type": "stream",
     "text": [
      "/home/jt/work/cobrapy-0.5.11/cobra/io/sbml3.py:24: UserWarning: Install lxml for faster SBML I/O\n",
      "  warn(\"Install lxml for faster SBML I/O\")\n",
      "/home/jt/work/cobrapy-0.5.11/cobra/io/__init__.py:12: UserWarning: cobra.io.sbml requires libsbml\n",
      "  warn(\"cobra.io.sbml requires libsbml\")\n"
     ]
    },
    {
     "name": "stdout",
     "output_type": "stream",
     "text": [
      "/home/jt/work/cobrapy-0.5.11/cobra/__init__.py\n",
      "/home/jt/work/cobrame/cobrame/__init__.py\n",
      "/home/jt/work/sporeme/bacillusme/__init__.py\n"
     ]
    }
   ],
   "source": [
    "from __future__ import print_function, division, absolute_import\n",
    "\n",
    "import sys\n",
    "\n",
    "import qminospy\n",
    "from qminospy.me2 import ME_NLP\n",
    "import os\n",
    "\n",
    "# python imports\n",
    "from copy import copy\n",
    "import re\n",
    "from os.path import join, dirname, abspath\n",
    "import sys\n",
    "sys.path.append('/home/UCSD/cobra_utils')\n",
    "from collections import defaultdict\n",
    "import pickle\n",
    "\n",
    "# third party imports\n",
    "import pandas\n",
    "import cobra\n",
    "from tqdm import tqdm\n",
    "import numpy as np\n",
    "import scipy\n",
    "\n",
    "# COBRAme\n",
    "import cobrame\n",
    "from cobrame.util import building, mu, me_model_interface\n",
    "from cobrame.io.json import save_json_me_model, save_reduced_json_me_model\n",
    "\n",
    "# ECOLIme\n",
    "import bacillusme\n",
    "from bacillusme import (transcription, translation, flat_files, generics, formulas, compartments)\n",
    "from cobrame.util.helper_functions import *\n",
    "\n",
    "import copy\n",
    "from scipy import stats\n",
    "import matplotlib.pyplot as plt\n",
    "%load_ext autoreload\n",
    "%autoreload 2\n",
    "print(cobra.__file__)\n",
    "print(cobrame.__file__)\n",
    "print(bacillusme.__file__)\n",
    "ecoli_files = dirname(abspath(bacillusme.__file__))\n",
    "pd.set_option('display.max_colwidth', None)"
   ]
  },
  {
   "cell_type": "markdown",
   "id": "83e7e8e5-0de2-467b-aedf-3d374938340e",
   "metadata": {},
   "source": [
    "### Gene inactivation"
   ]
  },
  {
   "cell_type": "code",
   "execution_count": 3,
   "id": "59bfc709-00c1-45dc-b798-d56f705419d5",
   "metadata": {
    "scrolled": true
   },
   "outputs": [
    {
     "data": {
      "text/html": [
       "<div>\n",
       "<style scoped>\n",
       "    .dataframe tbody tr th:only-of-type {\n",
       "        vertical-align: middle;\n",
       "    }\n",
       "\n",
       "    .dataframe tbody tr th {\n",
       "        vertical-align: top;\n",
       "    }\n",
       "\n",
       "    .dataframe thead th {\n",
       "        text-align: right;\n",
       "    }\n",
       "</style>\n",
       "<table border=\"1\" class=\"dataframe\">\n",
       "  <thead>\n",
       "    <tr style=\"text-align: right;\">\n",
       "      <th></th>\n",
       "      <th>SOURCE</th>\n",
       "      <th>TARGET</th>\n",
       "      <th>blockage</th>\n",
       "    </tr>\n",
       "  </thead>\n",
       "  <tbody>\n",
       "    <tr>\n",
       "      <th>0</th>\n",
       "      <td>nrdE</td>\n",
       "      <td>nrdF</td>\n",
       "      <td>False</td>\n",
       "    </tr>\n",
       "    <tr>\n",
       "      <th>1</th>\n",
       "      <td>nrdE</td>\n",
       "      <td>trxA</td>\n",
       "      <td>False</td>\n",
       "    </tr>\n",
       "    <tr>\n",
       "      <th>2</th>\n",
       "      <td>nrdE</td>\n",
       "      <td>trxB</td>\n",
       "      <td>False</td>\n",
       "    </tr>\n",
       "    <tr>\n",
       "      <th>3</th>\n",
       "      <td>nrdF</td>\n",
       "      <td>nrdE</td>\n",
       "      <td>False</td>\n",
       "    </tr>\n",
       "    <tr>\n",
       "      <th>4</th>\n",
       "      <td>nrdF</td>\n",
       "      <td>trxA</td>\n",
       "      <td>False</td>\n",
       "    </tr>\n",
       "    <tr>\n",
       "      <th>...</th>\n",
       "      <td>...</td>\n",
       "      <td>...</td>\n",
       "      <td>...</td>\n",
       "    </tr>\n",
       "    <tr>\n",
       "      <th>95</th>\n",
       "      <td>sufU</td>\n",
       "      <td>ilvD</td>\n",
       "      <td>False</td>\n",
       "    </tr>\n",
       "    <tr>\n",
       "      <th>96</th>\n",
       "      <td>sufU</td>\n",
       "      <td>mccB</td>\n",
       "      <td>False</td>\n",
       "    </tr>\n",
       "    <tr>\n",
       "      <th>97</th>\n",
       "      <td>sufU</td>\n",
       "      <td>mccA</td>\n",
       "      <td>False</td>\n",
       "    </tr>\n",
       "    <tr>\n",
       "      <th>98</th>\n",
       "      <td>sufU</td>\n",
       "      <td>ilvC</td>\n",
       "      <td>False</td>\n",
       "    </tr>\n",
       "    <tr>\n",
       "      <th>99</th>\n",
       "      <td>sufU</td>\n",
       "      <td>alsS</td>\n",
       "      <td>False</td>\n",
       "    </tr>\n",
       "  </tbody>\n",
       "</table>\n",
       "<p>100 rows × 3 columns</p>\n",
       "</div>"
      ],
      "text/plain": [
       "   SOURCE TARGET  blockage\n",
       "0    nrdE   nrdF     False\n",
       "1    nrdE   trxA     False\n",
       "2    nrdE   trxB     False\n",
       "3    nrdF   nrdE     False\n",
       "4    nrdF   trxA     False\n",
       "..    ...    ...       ...\n",
       "95   sufU   ilvD     False\n",
       "96   sufU   mccB     False\n",
       "97   sufU   mccA     False\n",
       "98   sufU   ilvC     False\n",
       "99   sufU   alsS     False\n",
       "\n",
       "[100 rows x 3 columns]"
      ]
     },
     "execution_count": 3,
     "metadata": {},
     "output_type": "execute_result"
    }
   ],
   "source": [
    "inactivation = pandas.read_csv(\"./cytoscape/base_inactivation.csv\")\n",
    "inactivation[\"blockage\"] = False\n",
    "inactivation"
   ]
  },
  {
   "cell_type": "code",
   "execution_count": 4,
   "id": "49879c07-dece-4bf6-9619-7e7a0944fdf0",
   "metadata": {
    "scrolled": true
   },
   "outputs": [],
   "source": [
    "map = {(v[\"SOURCE\"],v[\"TARGET\"]):idx for idx,v in inactivation.iterrows()}"
   ]
  },
  {
   "cell_type": "markdown",
   "id": "43b61367-3d94-4d81-b0f8-5a458a6d451b",
   "metadata": {},
   "source": [
    "### Gene blockage"
   ]
  },
  {
   "cell_type": "code",
   "execution_count": 7,
   "id": "09feb46f-7252-406c-9e09-9a46919d007e",
   "metadata": {
    "scrolled": true
   },
   "outputs": [
    {
     "data": {
      "text/html": [
       "<div>\n",
       "<style scoped>\n",
       "    .dataframe tbody tr th:only-of-type {\n",
       "        vertical-align: middle;\n",
       "    }\n",
       "\n",
       "    .dataframe tbody tr th {\n",
       "        vertical-align: top;\n",
       "    }\n",
       "\n",
       "    .dataframe thead th {\n",
       "        text-align: right;\n",
       "    }\n",
       "</style>\n",
       "<table border=\"1\" class=\"dataframe\">\n",
       "  <thead>\n",
       "    <tr style=\"text-align: right;\">\n",
       "      <th></th>\n",
       "      <th>SOURCE</th>\n",
       "      <th>TARGET</th>\n",
       "    </tr>\n",
       "  </thead>\n",
       "  <tbody>\n",
       "    <tr>\n",
       "      <th>0</th>\n",
       "      <td>alsS</td>\n",
       "      <td>ilvD</td>\n",
       "    </tr>\n",
       "    <tr>\n",
       "      <th>1</th>\n",
       "      <td>alsS</td>\n",
       "      <td>ilvC</td>\n",
       "    </tr>\n",
       "    <tr>\n",
       "      <th>2</th>\n",
       "      <td>pdhA</td>\n",
       "      <td>pdhB</td>\n",
       "    </tr>\n",
       "    <tr>\n",
       "      <th>3</th>\n",
       "      <td>pdhA</td>\n",
       "      <td>pdhC</td>\n",
       "    </tr>\n",
       "    <tr>\n",
       "      <th>4</th>\n",
       "      <td>pdhB</td>\n",
       "      <td>pdhC</td>\n",
       "    </tr>\n",
       "    <tr>\n",
       "      <th>5</th>\n",
       "      <td>pdhB</td>\n",
       "      <td>pdhA</td>\n",
       "    </tr>\n",
       "    <tr>\n",
       "      <th>6</th>\n",
       "      <td>ilvC</td>\n",
       "      <td>ilvD</td>\n",
       "    </tr>\n",
       "    <tr>\n",
       "      <th>7</th>\n",
       "      <td>ilvD</td>\n",
       "      <td>ilvC</td>\n",
       "    </tr>\n",
       "    <tr>\n",
       "      <th>8</th>\n",
       "      <td>pdhD</td>\n",
       "      <td>pdhB</td>\n",
       "    </tr>\n",
       "    <tr>\n",
       "      <th>9</th>\n",
       "      <td>pdhD</td>\n",
       "      <td>pdhC</td>\n",
       "    </tr>\n",
       "    <tr>\n",
       "      <th>10</th>\n",
       "      <td>pdhD</td>\n",
       "      <td>pdhA</td>\n",
       "    </tr>\n",
       "    <tr>\n",
       "      <th>11</th>\n",
       "      <td>pdhC</td>\n",
       "      <td>pdhB</td>\n",
       "    </tr>\n",
       "    <tr>\n",
       "      <th>12</th>\n",
       "      <td>pdhC</td>\n",
       "      <td>pdhA</td>\n",
       "    </tr>\n",
       "    <tr>\n",
       "      <th>13</th>\n",
       "      <td>sufU</td>\n",
       "      <td>ilvD</td>\n",
       "    </tr>\n",
       "    <tr>\n",
       "      <th>14</th>\n",
       "      <td>sufU</td>\n",
       "      <td>ilvC</td>\n",
       "    </tr>\n",
       "    <tr>\n",
       "      <th>15</th>\n",
       "      <td>sufU</td>\n",
       "      <td>citB</td>\n",
       "    </tr>\n",
       "  </tbody>\n",
       "</table>\n",
       "</div>"
      ],
      "text/plain": [
       "   SOURCE TARGET\n",
       "0    alsS   ilvD\n",
       "1    alsS   ilvC\n",
       "2    pdhA   pdhB\n",
       "3    pdhA   pdhC\n",
       "4    pdhB   pdhC\n",
       "5    pdhB   pdhA\n",
       "6    ilvC   ilvD\n",
       "7    ilvD   ilvC\n",
       "8    pdhD   pdhB\n",
       "9    pdhD   pdhC\n",
       "10   pdhD   pdhA\n",
       "11   pdhC   pdhB\n",
       "12   pdhC   pdhA\n",
       "13   sufU   ilvD\n",
       "14   sufU   ilvC\n",
       "15   sufU   citB"
      ]
     },
     "execution_count": 7,
     "metadata": {},
     "output_type": "execute_result"
    }
   ],
   "source": [
    "blockage = pandas.read_csv(\"./cytoscape/base_blockage.csv\")\n",
    "blockage"
   ]
  },
  {
   "cell_type": "code",
   "execution_count": 8,
   "id": "ed758e6e-e388-4e5c-9d16-f16b9d146eca",
   "metadata": {
    "scrolled": true
   },
   "outputs": [],
   "source": [
    "for _,v in blockage.iterrows():\n",
    "    edge = (v[\"SOURCE\"],v[\"TARGET\"])\n",
    "    idx = map.get(edge,None)\n",
    "    if idx is None:\n",
    "        print(edge)\n",
    "        continue\n",
    "    inactivation.loc[idx,\"blockage\"] = True"
   ]
  },
  {
   "cell_type": "markdown",
   "id": "5263d314-12d1-4dba-9fe6-d54ac1b5787b",
   "metadata": {},
   "source": [
    "### To table"
   ]
  },
  {
   "cell_type": "code",
   "execution_count": 9,
   "id": "2803bf5e-0340-431d-9d8d-226b33f80ded",
   "metadata": {},
   "outputs": [],
   "source": [
    "known_depletions = [g[0].lower() + g[1:] for g in list(pd.read_csv('proteomics/known_depletions.txt')['protein'].values)]\n",
    "confirmed_depletions = ['pckA','purL','ilvB','ilvE','citZ','acsA','etfA','acoC','sigF','yxbC','lutC',\n",
    "                  'argJ','hpf']"
   ]
  },
  {
   "cell_type": "code",
   "execution_count": 10,
   "id": "008da7a8-b66f-4819-aa3d-1f3bf397ad7f",
   "metadata": {},
   "outputs": [],
   "source": [
    "def get_properties(gene):\n",
    "    return {\n",
    "        \"confirmed\" : True if gene in confirmed_depletions else False,\n",
    "        \"known\" : True if gene in known_depletions else False\n",
    "    }"
   ]
  },
  {
   "cell_type": "code",
   "execution_count": 11,
   "id": "fb738c88-4e6a-4398-9b1a-d99c292ff130",
   "metadata": {},
   "outputs": [],
   "source": [
    "dct = {}\n",
    "counter = 0\n",
    "for idx,row in inactivation.iterrows():\n",
    "    i,j = row[[\"SOURCE\",\"TARGET\"]]\n",
    "    if i == j:\n",
    "        continue\n",
    "    source_properties = {\"SOURCE_\"+k:v for k,v in get_properties(i).items()}\n",
    "    target_properties = {\"TARGET_\"+k:v for k,v in get_properties(j).items()}\n",
    "\n",
    "\n",
    "    tmp = {k:v for k,v in row.items()}\n",
    "    tmp.update(source_properties)\n",
    "    tmp.update(target_properties)\n",
    "    dct[counter] = tmp\n",
    "    counter += 1"
   ]
  },
  {
   "cell_type": "code",
   "execution_count": 12,
   "id": "e0722787-3383-4cd4-8b7f-e6c2bdd106e3",
   "metadata": {
    "scrolled": true
   },
   "outputs": [],
   "source": [
    "properties = pandas.DataFrame.from_dict(dct).T"
   ]
  },
  {
   "cell_type": "code",
   "execution_count": 13,
   "id": "42c9bbd3-46f8-48a5-ad52-207cd647bdcf",
   "metadata": {
    "scrolled": true
   },
   "outputs": [],
   "source": [
    "properties.set_index(\"SOURCE\").to_csv(\"./cytoscape/base_network.csv\")"
   ]
  },
  {
   "cell_type": "code",
   "execution_count": null,
   "id": "45b2fe5c-9ef2-4b7f-a56b-3299ceaf781d",
   "metadata": {},
   "outputs": [],
   "source": []
  }
 ],
 "metadata": {
  "kernelspec": {
   "display_name": "python3.7-cobrame",
   "language": "python",
   "name": "python3.7-cobrame"
  },
  "language_info": {
   "codemirror_mode": {
    "name": "ipython",
    "version": 3
   },
   "file_extension": ".py",
   "mimetype": "text/x-python",
   "name": "python",
   "nbconvert_exporter": "python",
   "pygments_lexer": "ipython3",
   "version": "3.7.8"
  }
 },
 "nbformat": 4,
 "nbformat_minor": 5
}
