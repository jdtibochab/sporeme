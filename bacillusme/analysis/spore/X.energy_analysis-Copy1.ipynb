{
 "cells": [
  {
   "cell_type": "markdown",
   "metadata": {},
   "source": [
    "# Transporter analysis of bacillus mother-spore"
   ]
  },
  {
   "cell_type": "code",
   "execution_count": 1,
   "metadata": {
    "scrolled": true
   },
   "outputs": [
    {
     "name": "stderr",
     "output_type": "stream",
     "text": [
      "/home/jt/Downloads/cobrapy-0.5.11/cobra/io/sbml3.py:24: UserWarning: Install lxml for faster SBML I/O\n",
      "  warn(\"Install lxml for faster SBML I/O\")\n",
      "/home/jt/Downloads/cobrapy-0.5.11/cobra/io/__init__.py:12: UserWarning: cobra.io.sbml requires libsbml\n",
      "  warn(\"cobra.io.sbml requires libsbml\")\n"
     ]
    },
    {
     "name": "stdout",
     "output_type": "stream",
     "text": [
      "/home/jt/Downloads/cobrapy-0.5.11/cobra/__init__.py\n",
      "/home/jt/UCSD/cobrame-master/cobrame/__init__.py\n",
      "/home/jt/UCSD/bacillusme-master/bacillusme/__init__.py\n"
     ]
    }
   ],
   "source": [
    "from __future__ import print_function, division, absolute_import\n",
    "\n",
    "import sys\n",
    "\n",
    "import qminospy\n",
    "from qminospy.me2 import ME_NLP\n",
    "\n",
    "# python imports\n",
    "from copy import copy\n",
    "import re\n",
    "from os.path import join, dirname, abspath\n",
    "import sys\n",
    "sys.path.append('/home/UCSD/cobra_utils')\n",
    "from collections import defaultdict\n",
    "import pickle\n",
    "\n",
    "# third party imports\n",
    "import pandas\n",
    "import cobra\n",
    "from tqdm import tqdm\n",
    "import numpy as np\n",
    "import scipy\n",
    "\n",
    "# COBRAme\n",
    "import cobrame\n",
    "from cobrame.util import building, mu, me_model_interface\n",
    "from cobrame.io.json import save_json_me_model, save_reduced_json_me_model\n",
    "\n",
    "# ECOLIme\n",
    "import bacillusme\n",
    "from bacillusme import (transcription, translation, flat_files, generics, formulas, compartments)\n",
    "from bacillusme.util.helper_functions import *\n",
    "\n",
    "import copy\n",
    "from scipy import stats\n",
    "import matplotlib.pyplot as plt\n",
    "%load_ext autoreload\n",
    "%autoreload 2\n",
    "print(cobra.__file__)\n",
    "print(cobrame.__file__)\n",
    "print(bacillusme.__file__)\n",
    "ecoli_files = dirname(abspath(bacillusme.__file__))"
   ]
  },
  {
   "cell_type": "code",
   "execution_count": 36,
   "metadata": {
    "scrolled": true
   },
   "outputs": [],
   "source": [
    "with open(\"./sporeme_solution.pickle\", \"rb\") as outfile:\n",
    "    sporeme = pickle.load(outfile)"
   ]
  },
  {
   "cell_type": "code",
   "execution_count": 37,
   "metadata": {
    "scrolled": true,
    "tags": []
   },
   "outputs": [
    {
     "name": "stdout",
     "output_type": "stream",
     "text": [
      "iter\tmuopt    \ta     \tb     \tmu1       \tstat1\n",
      "Finished compiling expressions in 438.284179 seconds\n",
      "Finished substituting S,lb,ub in 11.263735 seconds\n",
      "Finished makeME_LP in 2.234428 seconds\n",
      "Getting MINOS parameters from ME_NLP...\n",
      "1 0.0 0.0 0.25 0.25 1\n",
      "Finished substituting S,lb,ub in 11.217346 seconds\n",
      "Finished makeME_LP in 2.226781 seconds\n",
      "Getting MINOS parameters from ME_NLP...\n",
      "2 0.0 0.0 0.125 0.125 1\n",
      "Finished substituting S,lb,ub in 11.419299 seconds\n",
      "Finished makeME_LP in 2.219893 seconds\n",
      "Getting MINOS parameters from ME_NLP...\n",
      "3 0.0625 0.0625 0.125 0.0625 optimal\n",
      "Finished substituting S,lb,ub in 11.467450 seconds\n",
      "Finished makeME_LP in 2.236072 seconds\n",
      "Getting MINOS parameters from ME_NLP...\n",
      "4 0.09375 0.09375 0.125 0.09375 optimal\n",
      "Finished substituting S,lb,ub in 11.412444 seconds\n",
      "Finished makeME_LP in 2.234481 seconds\n",
      "Getting MINOS parameters from ME_NLP...\n",
      "5 0.109375 0.109375 0.125 0.109375 optimal\n",
      "Finished substituting S,lb,ub in 11.342300 seconds\n",
      "Finished makeME_LP in 2.243705 seconds\n",
      "Getting MINOS parameters from ME_NLP...\n",
      "6 0.109375 0.109375 0.1171875 0.1171875 1\n",
      "Finished substituting S,lb,ub in 11.329506 seconds\n",
      "Finished makeME_LP in 2.233641 seconds\n",
      "Getting MINOS parameters from ME_NLP...\n",
      "7 0.109375 0.109375 0.11328125 0.11328125 1\n",
      "Finished substituting S,lb,ub in 11.293017 seconds\n",
      "Finished makeME_LP in 2.225884 seconds\n",
      "Getting MINOS parameters from ME_NLP...\n",
      "8 0.111328125 0.111328125 0.11328125 0.111328125 optimal\n",
      "Finished substituting S,lb,ub in 11.123152 seconds\n",
      "Finished makeME_LP in 2.218363 seconds\n",
      "Getting MINOS parameters from ME_NLP...\n",
      "9 0.1123046875 0.1123046875 0.11328125 0.1123046875 optimal\n",
      "Finished substituting S,lb,ub in 11.122139 seconds\n",
      "Finished makeME_LP in 2.226949 seconds\n",
      "Getting MINOS parameters from ME_NLP...\n",
      "10 0.1123046875 0.1123046875 0.11279296875 0.11279296875 1\n",
      "Finished substituting S,lb,ub in 11.099297 seconds\n",
      "Finished makeME_LP in 2.211305 seconds\n",
      "Getting MINOS parameters from ME_NLP...\n",
      "11 0.112548828125 0.112548828125 0.11279296875 0.112548828125 optimal\n",
      "Finished substituting S,lb,ub in 11.043247 seconds\n",
      "Finished makeME_LP in 2.227342 seconds\n",
      "Getting MINOS parameters from ME_NLP...\n",
      "12 0.112548828125 0.112548828125 0.1126708984375 0.1126708984375 1\n",
      "Finished substituting S,lb,ub in 11.070529 seconds\n",
      "Finished makeME_LP in 2.213602 seconds\n",
      "Getting MINOS parameters from ME_NLP...\n",
      "13 0.11260986328125 0.11260986328125 0.1126708984375 0.11260986328125 optimal\n",
      "Finished substituting S,lb,ub in 11.305117 seconds\n",
      "Finished makeME_LP in 2.241749 seconds\n",
      "Getting MINOS parameters from ME_NLP...\n",
      "14 0.11260986328125 0.11260986328125 0.112640380859375 0.112640380859375 1\n",
      "Finished substituting S,lb,ub in 10.977665 seconds\n",
      "Finished makeME_LP in 2.236534 seconds\n",
      "Getting MINOS parameters from ME_NLP...\n",
      "15 0.11260986328125 0.11260986328125 0.1126251220703125 0.1126251220703125 1\n",
      "Finished substituting S,lb,ub in 11.032069 seconds\n",
      "Finished makeME_LP in 2.236253 seconds\n",
      "Getting MINOS parameters from ME_NLP...\n",
      "16 0.11260986328125 0.11260986328125 0.11261749267578125 0.11261749267578125 1\n",
      "Finished substituting S,lb,ub in 11.043282 seconds\n",
      "Finished makeME_LP in 2.229974 seconds\n",
      "Getting MINOS parameters from ME_NLP...\n",
      "17 0.11260986328125 0.11260986328125 0.11261367797851562 0.11261367797851562 1\n",
      "Finished substituting S,lb,ub in 11.098329 seconds\n",
      "Finished makeME_LP in 2.223531 seconds\n",
      "Getting MINOS parameters from ME_NLP...\n",
      "18 0.11261177062988281 0.11261177062988281 0.11261367797851562 0.11261177062988281 optimal\n",
      "Finished substituting S,lb,ub in 11.129924 seconds\n",
      "Finished makeME_LP in 2.213338 seconds\n",
      "Getting MINOS parameters from ME_NLP...\n",
      "19 0.11261272430419922 0.11261272430419922 0.11261367797851562 0.11261272430419922 optimal\n",
      "Bisection done in 1695.26 seconds\n"
     ]
    }
   ],
   "source": [
    "solve_me_model(sporeme, max_mu = 0.5, min_mu = .05, using_soplex=False, precision = 1e-6,growth_key = 'sigma')"
   ]
  },
  {
   "cell_type": "code",
   "execution_count": 3,
   "metadata": {},
   "outputs": [],
   "source": [
    "# Previously identified essential metabolites\n",
    "exchange_list = ['4fe4s_s','2fe2s_s','udcpp_s','pydx5p_s','3fe4s_s','cl_s','sheme_s','cu_s','mn2_s',\n",
    "                 'bmocogdp_s','dpm_s','thmpp_s','zn2_s','cbl1_s','cobalt2_s']\n",
    "additional = [m.id for m in sporeme.metabolites if isinstance(m,cobrame.Metabolite)]\n",
    "transported_metabolites = exchange_list+additional"
   ]
  },
  {
   "cell_type": "code",
   "execution_count": 4,
   "metadata": {
    "scrolled": true
   },
   "outputs": [],
   "source": [
    "# Get transport reactions\n",
    "\n",
    "def get_compartments(r):\n",
    "    comps = []\n",
    "    if isinstance(r,cobrame.MetabolicReaction):\n",
    "        for m in r.metabolites:\n",
    "            if isinstance(m,cobrame.Metabolite):\n",
    "                comps.append(m.id[-1])\n",
    "    return list(set(comps))\n",
    "\n",
    "def get_all_transport(model):\n",
    "    transport_reactions = []\n",
    "    for r in tqdm(model.reactions):\n",
    "        comps = get_compartments(r)\n",
    "        if len(comps) > 1 and 's' in comps:\n",
    "            transport_reactions.append(r.id)\n",
    "    return list(set(transport_reactions))\n",
    "\n",
    "def get_active_transport(transport_reactions):\n",
    "    active_transporters = []\n",
    "    for r in tqdm(transport_reactions):\n",
    "        if 'SPONT' not in r and abs(sporeme.solution.x_dict[r])>0.:\n",
    "            active_transporters.append(r)\n",
    "    # Include arginine transport\n",
    "    arginine_transport = [r.id for r in get_transport_reactions(sporeme,'arg__L_c',comps=['c','s'])+get_transport_reactions(sporeme,'arg__L_c',comps=['s','c'])]\n",
    "    [active_transporters.append(r) for r in arginine_transport]\n",
    "    active_transporters = list(set(active_transporters))\n",
    "    return active_transporters"
   ]
  },
  {
   "cell_type": "code",
   "execution_count": 5,
   "metadata": {
    "scrolled": true
   },
   "outputs": [],
   "source": [
    "with open(\"./sporeme_solution.pickle\", \"rb\") as outfile:\n",
    "    sporeme = pickle.load(outfile)"
   ]
  },
  {
   "cell_type": "markdown",
   "metadata": {},
   "source": [
    "## Check by group of transporters of metabolite"
   ]
  },
  {
   "cell_type": "code",
   "execution_count": 46,
   "metadata": {
    "scrolled": true,
    "tags": []
   },
   "outputs": [
    {
     "name": "stdout",
     "output_type": "stream",
     "text": [
      "iter\tmuopt    \ta     \tb     \tmu1       \tstat1\n",
      "Finished compiling expressions in 440.220508 seconds\n",
      "Finished substituting S,lb,ub in 12.258054 seconds\n",
      "Finished makeME_LP in 2.168828 seconds\n",
      "Getting MINOS parameters from ME_NLP...\n",
      "1 0.0 0.0 0.25 0.25 1\n",
      "Finished substituting S,lb,ub in 12.075626 seconds\n",
      "Finished makeME_LP in 2.189026 seconds\n",
      "Getting MINOS parameters from ME_NLP...\n",
      "2 0.0 0.0 0.125 0.125 1\n",
      "Finished substituting S,lb,ub in 12.112451 seconds\n",
      "Finished makeME_LP in 2.177423 seconds\n",
      "Getting MINOS parameters from ME_NLP...\n",
      "3 0.0625 0.0625 0.125 0.0625 optimal\n",
      "Finished substituting S,lb,ub in 12.054281 seconds\n",
      "Finished makeME_LP in 2.186527 seconds\n",
      "Getting MINOS parameters from ME_NLP...\n",
      "4 0.09375 0.09375 0.125 0.09375 optimal\n",
      "Finished substituting S,lb,ub in 12.052042 seconds\n",
      "Finished makeME_LP in 2.181184 seconds\n",
      "Getting MINOS parameters from ME_NLP...\n",
      "5 0.109375 0.109375 0.125 0.109375 optimal\n",
      "Finished substituting S,lb,ub in 11.952905 seconds\n",
      "Finished makeME_LP in 2.183706 seconds\n",
      "Getting MINOS parameters from ME_NLP...\n",
      "6 0.109375 0.109375 0.1171875 0.1171875 1\n",
      "Finished substituting S,lb,ub in 11.939112 seconds\n",
      "Finished makeME_LP in 2.194855 seconds\n",
      "Getting MINOS parameters from ME_NLP...\n",
      "7 0.109375 0.109375 0.11328125 0.11328125 1\n",
      "Finished substituting S,lb,ub in 11.921879 seconds\n",
      "Finished makeME_LP in 2.189906 seconds\n",
      "Getting MINOS parameters from ME_NLP...\n",
      "8 0.111328125 0.111328125 0.11328125 0.111328125 optimal\n",
      "Finished substituting S,lb,ub in 11.726362 seconds\n",
      "Finished makeME_LP in 2.204914 seconds\n",
      "Getting MINOS parameters from ME_NLP...\n",
      "9 0.1123046875 0.1123046875 0.11328125 0.1123046875 optimal\n",
      "Finished substituting S,lb,ub in 11.755995 seconds\n",
      "Finished makeME_LP in 2.188234 seconds\n",
      "Getting MINOS parameters from ME_NLP...\n",
      "10 0.1123046875 0.1123046875 0.11279296875 0.11279296875 1\n",
      "Finished substituting S,lb,ub in 11.816374 seconds\n",
      "Finished makeME_LP in 2.171464 seconds\n",
      "Getting MINOS parameters from ME_NLP...\n",
      "11 0.112548828125 0.112548828125 0.11279296875 0.112548828125 optimal\n",
      "Finished substituting S,lb,ub in 11.498545 seconds\n",
      "Finished makeME_LP in 2.180345 seconds\n",
      "Getting MINOS parameters from ME_NLP...\n",
      "12 0.112548828125 0.112548828125 0.1126708984375 0.1126708984375 1\n",
      "Finished substituting S,lb,ub in 11.483034 seconds\n",
      "Finished makeME_LP in 2.174616 seconds\n",
      "Getting MINOS parameters from ME_NLP...\n",
      "13 0.11260986328125 0.11260986328125 0.1126708984375 0.11260986328125 optimal\n",
      "Bisection done in 1611.86 seconds\n"
     ]
    }
   ],
   "source": [
    "solve_me_model(sporeme, max_mu = 0.5, min_mu = .05, using_soplex=False, precision = 1e-4,growth_key = 'sigma', verbosity = 2)"
   ]
  },
  {
   "cell_type": "code",
   "execution_count": 6,
   "metadata": {},
   "outputs": [],
   "source": [
    "def get_necessary_metabolites(model,active_transporters):\n",
    "    necessary_metabolites = []\n",
    "    for r in tqdm(active_transporters):\n",
    "        rxn = model.reactions.get_by_id(r)\n",
    "        for m in rxn.products:\n",
    "            if not isinstance(m,cobrame.Metabolite):\n",
    "                continue\n",
    "            met_root = m.id[:-2]\n",
    "            for i in rxn.reactants:\n",
    "                if met_root in i.id:\n",
    "                    necessary_metabolites.append(m.id)\n",
    "    return list(set(necessary_metabolites))\n",
    "\n",
    "def get_all_available_transport(model,necessary_metabolites):\n",
    "    available_transport = []\n",
    "    at_dict = {}\n",
    "    for m in tqdm(necessary_metabolites):\n",
    "        rxns = get_transport_reactions(model,m,comps=['c','s']) + get_transport_reactions(model,m,comps=['s','c'])\n",
    "        [available_transport.append(r.id) for r in rxns]\n",
    "        at_dict[m] = []\n",
    "        [at_dict[m].append(r.id) for r in rxns]\n",
    "    return list(set(available_transport)), at_dict"
   ]
  },
  {
   "cell_type": "code",
   "execution_count": 7,
   "metadata": {},
   "outputs": [],
   "source": [
    "# Previously identified essential metabolites\n",
    "exchange_list = ['4fe4s_s','2fe2s_s','udcpp_s','pydx5p_s','3fe4s_s','cl_s','sheme_s','cu_s','mn2_s',\n",
    "                 'bmocogdp_s','dpm_s','thmpp_s','zn2_s','cbl1_s','cobalt2_s']\n",
    "additional = [m.id for m in sporeme.metabolites if isinstance(m,cobrame.Metabolite)]\n",
    "transported_metabolites = exchange_list+additional"
   ]
  },
  {
   "cell_type": "code",
   "execution_count": 8,
   "metadata": {},
   "outputs": [
    {
     "name": "stderr",
     "output_type": "stream",
     "text": [
      "100%|██████████| 12339/12339 [00:00<00:00, 156082.95it/s]"
     ]
    },
    {
     "name": "stdout",
     "output_type": "stream",
     "text": [
      "405 transport reactions identified\n"
     ]
    },
    {
     "name": "stderr",
     "output_type": "stream",
     "text": [
      "\n"
     ]
    }
   ],
   "source": [
    "transport_reactions = get_all_transport(sporeme)\n",
    "print('{} transport reactions identified'.format(len(transport_reactions)))"
   ]
  },
  {
   "cell_type": "code",
   "execution_count": 9,
   "metadata": {
    "scrolled": true
   },
   "outputs": [
    {
     "name": "stderr",
     "output_type": "stream",
     "text": [
      "100%|██████████| 405/405 [00:00<00:00, 363512.33it/s]\n",
      "100%|██████████| 54/54 [00:00<00:00, 3615.89it/s]\n",
      "100%|██████████| 51/51 [00:01<00:00, 42.77it/s]\n"
     ]
    }
   ],
   "source": [
    "active_transporters = get_active_transport(transport_reactions)\n",
    "necessary_metabolites = get_necessary_metabolites(sporeme,active_transporters)\n",
    "necessary_metabolites.remove('h_s')\n",
    "necessary_metabolites.remove('h_c')\n",
    "available_transport, at_dict = get_all_available_transport(sporeme,necessary_metabolites)"
   ]
  },
  {
   "cell_type": "code",
   "execution_count": 10,
   "metadata": {},
   "outputs": [
    {
     "name": "stdout",
     "output_type": "stream",
     "text": [
      "54 active transport reactions identified\n",
      "51 necessary metabolites identified\n",
      "127 available transport reactions identified\n"
     ]
    }
   ],
   "source": [
    "print('{} active transport reactions identified'.format(len(active_transporters)))\n",
    "print('{} necessary metabolites identified'.format(len(necessary_metabolites)))\n",
    "print('{} available transport reactions identified'.format(len(available_transport)))"
   ]
  },
  {
   "cell_type": "code",
   "execution_count": 11,
   "metadata": {},
   "outputs": [
    {
     "name": "stdout",
     "output_type": "stream",
     "text": [
      "129 open transport reactions identified\n",
      "Included {'ATPS4r_FWD_CPLX000-10_s', 'GLCpts_FWD_BSU13890-MONOMER_s'}\n"
     ]
    }
   ],
   "source": [
    "all_transporters_to_open = list(set(active_transporters + available_transport))\n",
    "print('{} open transport reactions identified'.format(len(all_transporters_to_open)))\n",
    "print('Included {}'.format(set(active_transporters)-set(available_transport)))"
   ]
  },
  {
   "cell_type": "code",
   "execution_count": 12,
   "metadata": {},
   "outputs": [],
   "source": [
    "for r in transport_reactions:\n",
    "    if r not in all_transporters_to_open and 'SPONT' not in r:\n",
    "        rxn = sporeme.reactions.get_by_id(r)\n",
    "        rxn.upper_bound = 0 \n",
    "        rxn.lower_bound = 0"
   ]
  },
  {
   "cell_type": "markdown",
   "metadata": {},
   "source": [
    "#### Close PEP shuttle"
   ]
  },
  {
   "cell_type": "code",
   "execution_count": 13,
   "metadata": {},
   "outputs": [],
   "source": [
    "necessary_metabolites.remove('pep_s')\n",
    "for r in at_dict['pep_s']:\n",
    "    sporeme.reactions.get_by_id(r).bounds = (0,0)"
   ]
  },
  {
   "cell_type": "code",
   "execution_count": 14,
   "metadata": {},
   "outputs": [],
   "source": [
    "necessary_metabolites.remove('pyr_c')\n",
    "for r in at_dict['pyr_c']:\n",
    "    sporeme.reactions.get_by_id(r).bounds = (0,0)"
   ]
  },
  {
   "cell_type": "code",
   "execution_count": 15,
   "metadata": {
    "scrolled": true
   },
   "outputs": [
    {
     "name": "stdout",
     "output_type": "stream",
     "text": [
      "iter\tmuopt    \ta     \tb     \tmu1       \tstat1\n",
      "Finished compiling expressions in 452.655037 seconds\n",
      "Finished substituting S,lb,ub in 12.430493 seconds\n",
      "Finished makeME_LP in 2.406062 seconds\n",
      "Getting MINOS parameters from ME_NLP...\n",
      "1 0.075 0.075 0.15 0.075 optimal\n",
      "Finished substituting S,lb,ub in 12.774487 seconds\n",
      "Finished makeME_LP in 2.449258 seconds\n",
      "Getting MINOS parameters from ME_NLP...\n",
      "2 0.075 0.075 0.11249999999999999 0.11249999999999999 1\n",
      "Finished substituting S,lb,ub in 11.831181 seconds\n",
      "Finished makeME_LP in 2.232360 seconds\n",
      "Getting MINOS parameters from ME_NLP...\n",
      "3 0.09375 0.09375 0.11249999999999999 0.09375 optimal\n",
      "Finished substituting S,lb,ub in 11.910250 seconds\n",
      "Finished makeME_LP in 2.223287 seconds\n",
      "Getting MINOS parameters from ME_NLP...\n",
      "4 0.103125 0.103125 0.11249999999999999 0.103125 optimal\n",
      "Finished substituting S,lb,ub in 11.715594 seconds\n",
      "Finished makeME_LP in 2.222601 seconds\n",
      "Getting MINOS parameters from ME_NLP...\n",
      "5 0.10781249999999999 0.10781249999999999 0.11249999999999999 0.10781249999999999 optimal\n",
      "Finished substituting S,lb,ub in 11.495316 seconds\n",
      "Finished makeME_LP in 2.223460 seconds\n",
      "Getting MINOS parameters from ME_NLP...\n",
      "6 0.11015624999999998 0.11015624999999998 0.11249999999999999 0.11015624999999998 optimal\n",
      "Finished substituting S,lb,ub in 11.685212 seconds\n",
      "Finished makeME_LP in 2.229717 seconds\n",
      "Getting MINOS parameters from ME_NLP...\n",
      "7 0.11132812499999999 0.11132812499999999 0.11249999999999999 0.11132812499999999 optimal\n",
      "Finished substituting S,lb,ub in 11.624471 seconds\n",
      "Finished makeME_LP in 2.223577 seconds\n",
      "Getting MINOS parameters from ME_NLP...\n",
      "8 0.11132812499999999 0.11132812499999999 0.1119140625 0.1119140625 1\n",
      "Finished substituting S,lb,ub in 11.525068 seconds\n",
      "Finished makeME_LP in 2.222667 seconds\n",
      "Getting MINOS parameters from ME_NLP...\n",
      "9 0.11132812499999999 0.11132812499999999 0.11162109374999998 0.11162109374999998 1\n",
      "Finished substituting S,lb,ub in 11.528689 seconds\n",
      "Finished makeME_LP in 2.225312 seconds\n",
      "Getting MINOS parameters from ME_NLP...\n",
      "10 0.11147460937499998 0.11147460937499998 0.11162109374999998 0.11147460937499998 optimal\n",
      "Finished substituting S,lb,ub in 11.590668 seconds\n",
      "Finished makeME_LP in 2.221987 seconds\n",
      "Getting MINOS parameters from ME_NLP...\n",
      "11 0.11147460937499998 0.11147460937499998 0.11154785156249998 0.11154785156249998 1\n",
      "Finished substituting S,lb,ub in 11.680400 seconds\n",
      "Finished makeME_LP in 2.225638 seconds\n",
      "Getting MINOS parameters from ME_NLP...\n",
      "12 0.11147460937499998 0.11147460937499998 0.11151123046874997 0.11151123046874997 1\n",
      "Finished substituting S,lb,ub in 11.490868 seconds\n",
      "Finished makeME_LP in 2.227763 seconds\n",
      "Getting MINOS parameters from ME_NLP...\n",
      "13 0.11147460937499998 0.11147460937499998 0.11149291992187498 0.11149291992187498 1\n",
      "Finished substituting S,lb,ub in 12.271660 seconds\n",
      "Finished makeME_LP in 2.230876 seconds\n",
      "Getting MINOS parameters from ME_NLP...\n",
      "14 0.11148376464843748 0.11148376464843748 0.11149291992187498 0.11148376464843748 optimal\n",
      "Finished substituting S,lb,ub in 12.080756 seconds\n",
      "Finished makeME_LP in 2.231088 seconds\n",
      "Getting MINOS parameters from ME_NLP...\n",
      "15 0.11148376464843748 0.11148376464843748 0.11148834228515622 0.11148834228515622 1\n",
      "Finished substituting S,lb,ub in 11.516519 seconds\n",
      "Finished makeME_LP in 2.231491 seconds\n",
      "Getting MINOS parameters from ME_NLP...\n",
      "16 0.11148605346679685 0.11148605346679685 0.11148834228515622 0.11148605346679685 optimal\n",
      "Finished substituting S,lb,ub in 12.309929 seconds\n",
      "Finished makeME_LP in 2.228329 seconds\n",
      "Getting MINOS parameters from ME_NLP...\n",
      "17 0.11148719787597654 0.11148719787597654 0.11148834228515622 0.11148719787597654 optimal\n",
      "Finished substituting S,lb,ub in 11.433344 seconds\n",
      "Finished makeME_LP in 2.224802 seconds\n",
      "Getting MINOS parameters from ME_NLP...\n",
      "18 0.11148719787597654 0.11148719787597654 0.11148777008056637 0.11148777008056637 1\n",
      "Bisection done in 1011.92 seconds\n"
     ]
    }
   ],
   "source": [
    "solve_me_model(sporeme, max_mu = 0.15, min_mu = .05, using_soplex=False, precision = 1e-6,growth_key = 'sigma')"
   ]
  },
  {
   "cell_type": "code",
   "execution_count": 16,
   "metadata": {
    "scrolled": true
   },
   "outputs": [
    {
     "name": "stdout",
     "output_type": "stream",
     "text": [
      "Chosen change function: group_knockout      Sequential = False\n"
     ]
    },
    {
     "name": "stderr",
     "output_type": "stream",
     "text": [
      "biomass_dilution_s response (10 threads): 100%|██████████| 49/49 [3:29:04<00:00, 919.25s/it]  "
     ]
    }
   ],
   "source": [
    "from bacillusme.analysis import sensitivity as ss\n",
    "flux_results_df = ss.transporter_knockout(sporeme,necessary_metabolites, \\\n",
    "                                        NP=10,solution=1,biomass_dilution='biomass_dilution_s',\\\n",
    "                                        growth_key = 'sigma',single_change_function='group_knockout')"
   ]
  },
  {
   "cell_type": "code",
   "execution_count": 17,
   "metadata": {},
   "outputs": [],
   "source": [
    "flux_results_df.to_csv('PEP_group_KO_flux_results.csv')"
   ]
  },
  {
   "cell_type": "code",
   "execution_count": 18,
   "metadata": {},
   "outputs": [
    {
     "data": {
      "image/png": "[encoded data removed]",
      "text/plain": [
       "<Figure size 864x288 with 1 Axes>"
      ]
     },
     "metadata": {
      "needs_background": "light"
     },
     "output_type": "display_data"
    }
   ],
   "source": [
    "flux_results_df = pd.read_csv('PEP_group_KO_flux_results.csv',index_col=0)\n",
    "flux_results_df.loc['biomass_dilution_s'].sort_values().plot.bar(figsize=(12,4))\n",
    "plt.tight_layout()\n",
    "plt.savefig(\"PEP_group_KO_flux_results.svg\", format=\"SVG\")"
   ]
  },
  {
   "cell_type": "markdown",
   "metadata": {},
   "source": [
    "### Close metabolite one by one\n",
    "Including information about arginine being transported"
   ]
  },
  {
   "cell_type": "code",
   "execution_count": 19,
   "metadata": {},
   "outputs": [],
   "source": [
    "for r in transport_reactions:\n",
    "    if r not in all_transporters_to_open and 'SPONT' not in r:\n",
    "        rxn = sporeme.reactions.get_by_id(r)\n",
    "        rxn.upper_bound = 0 \n",
    "        rxn.lower_bound = 0"
   ]
  },
  {
   "cell_type": "code",
   "execution_count": 20,
   "metadata": {},
   "outputs": [],
   "source": [
    "flux_results_df = pd.read_csv('PEP_group_KO_flux_results.csv',index_col=0)\n",
    "sorted_mets = flux_results_df.loc['biomass_dilution_s'].sort_values(ascending=False).drop('base').index.to_list()"
   ]
  },
  {
   "cell_type": "code",
   "execution_count": 21,
   "metadata": {},
   "outputs": [],
   "source": [
    "sorted_mets.remove('arg__L_s')\n",
    "sorted_mets.append('arg__L_s')"
   ]
  },
  {
   "cell_type": "code",
   "execution_count": 22,
   "metadata": {
    "scrolled": true
   },
   "outputs": [],
   "source": [
    "# flux_dict = {}\n",
    "# b = 0\n",
    "# for met in tqdm(sorted_mets):\n",
    "#     transport = at_dict[met]\n",
    "    \n",
    "#     if b == 1:\n",
    "#         flux_dict[met] = {r.id:0. for r in sporeme.reactions}\n",
    "#         continue\n",
    "    \n",
    "#     for r in transport:\n",
    "#         rxn = sporeme.reactions.get_by_id(r)\n",
    "#         rxn.lower_bound = 0\n",
    "#         rxn.upper_bound = 0\n",
    "#     solve_me_model(sporeme, max_mu = 0.5, min_mu = .05, using_soplex=False, precision = 1e-4,growth_key = 'sigma',\n",
    "#                   verbosity = 0)\n",
    "#     if sporeme.solution:\n",
    "#         flux_dict[met] = sporeme.solution.x_dict\n",
    "#     else:\n",
    "#         flux_dict[met] = {r.id:0. for r in sporeme.reactions}\n",
    "#         b = 1\n",
    "# flux_results_df = pd.DataFrame.from_dict(flux_dict)\n"
   ]
  },
  {
   "cell_type": "code",
   "execution_count": null,
   "metadata": {
    "scrolled": true
   },
   "outputs": [
    {
     "name": "stdout",
     "output_type": "stream",
     "text": [
      "Chosen change function: group_knockout      Sequential = True\n"
     ]
    },
    {
     "name": "stderr",
     "output_type": "stream",
     "text": [
      "biomass_dilution_s response (10 threads): 100%|██████████| 49/49 [3:29:13<00:00, 256.20s/it]\n",
      "biomass_dilution_s response (10 threads): 100%|██████████| 49/49 [3:29:19<00:00, 256.31s/it]\n",
      "biomass_dilution_s response (10 threads): 100%|██████████| 49/49 [3:29:21<00:00, 256.35s/it]\n",
      "biomass_dilution_s response (10 threads): 100%|██████████| 49/49 [3:29:23<00:00, 256.39s/it]\n",
      "biomass_dilution_s response (10 threads): 100%|██████████| 49/49 [3:29:24<00:00, 256.43s/it]\n",
      "biomass_dilution_s response (10 threads): 100%|██████████| 49/49 [3:29:27<00:00, 256.48s/it]\n",
      "biomass_dilution_s response (10 threads): 100%|██████████| 49/49 [3:29:29<00:00, 256.52s/it]\n",
      "biomass_dilution_s response (10 threads): 100%|██████████| 49/49 [3:29:31<00:00, 256.56s/it]\n",
      "biomass_dilution_s response (10 threads): 100%|██████████| 49/49 [3:29:33<00:00, 256.61s/it]\n",
      "biomass_dilution_s response (10 threads): 100%|██████████| 49/49 [3:29:36<00:00, 256.65s/it]\n",
      "biomass_dilution_s response (10 threads): 100%|██████████| 49/49 [3:29:37<00:00, 256.69s/it]\n",
      "biomass_dilution_s response (10 threads): 100%|██████████| 49/49 [3:29:40<00:00, 256.74s/it]\n",
      "biomass_dilution_s response (10 threads): 100%|██████████| 49/49 [3:29:42<00:00, 256.78s/it]\n",
      "biomass_dilution_s response (10 threads): 100%|██████████| 49/49 [3:29:44<00:00, 256.82s/it]\n",
      "biomass_dilution_s response (10 threads): 100%|██████████| 49/49 [3:29:48<00:00, 256.90s/it]\n",
      "biomass_dilution_s response (10 threads): 100%|██████████| 49/49 [3:29:51<00:00, 256.96s/it]\n",
      "biomass_dilution_s response (10 threads): 100%|██████████| 49/49 [3:29:55<00:00, 257.05s/it]\n",
      "biomass_dilution_s response (10 threads): 100%|██████████| 49/49 [3:29:57<00:00, 257.10s/it]\n",
      "biomass_dilution_s response (10 threads): 100%|██████████| 49/49 [3:30:01<00:00, 257.17s/it]\n",
      "biomass_dilution_s response (10 threads): 100%|██████████| 49/49 [3:30:04<00:00, 257.24s/it]\n",
      "biomass_dilution_s response (10 threads): 100%|██████████| 49/49 [3:30:07<00:00, 257.29s/it]\n",
      "biomass_dilution_s response (20 threads):  41%|████      | 20/49 [34:13<09:22, 19.39s/it]    "
     ]
    }
   ],
   "source": [
    "from bacillusme.analysis import sensitivity as ss\n",
    "flux_results_df = ss.transporter_knockout(sporeme,sorted_mets, \\\n",
    "                                        NP=20,solution=1,biomass_dilution='biomass_dilution_s',\\\n",
    "                                        growth_key = 'sigma',single_change_function='group_knockout',sequential=True)\n",
    "flux_results_df.to_csv('PEP_group_1by1_KO_flux_results.csv')"
   ]
  },
  {
   "cell_type": "code",
   "execution_count": 53,
   "metadata": {},
   "outputs": [
    {
     "data": {
      "image/png": "[encoded data removed]",
      "text/plain": [
       "<Figure size 864x288 with 1 Axes>"
      ]
     },
     "metadata": {
      "needs_background": "light"
     },
     "output_type": "display_data"
    }
   ],
   "source": [
    "flux_results_df = pd.read_csv('PEP_group_1by1_KO_flux_results.csv',index_col=0)\n",
    "flux_results_df.loc['biomass_dilution_s',sorted_mets[::-1]].plot.bar(figsize=(12,4))\n",
    "plt.tight_layout()\n",
    "plt.savefig(\"PEP_group_1by1_KO_flux_results.svg\", format=\"SVG\")"
   ]
  },
  {
   "cell_type": "markdown",
   "metadata": {},
   "source": [
    "#### Essential mets"
   ]
  },
  {
   "cell_type": "code",
   "execution_count": 55,
   "metadata": {
    "scrolled": true
   },
   "outputs": [],
   "source": [
    "with open(\"./sporeme_solution.pickle\", \"rb\") as outfile:\n",
    "    sporeme = pickle.load(outfile)"
   ]
  },
  {
   "cell_type": "code",
   "execution_count": 56,
   "metadata": {},
   "outputs": [
    {
     "name": "stdout",
     "output_type": "stream",
     "text": [
      "Essential metabolites: ['pser__L_s', 'leu__L_s', 'gmp_s', 'his__L_s', 'btd_RR_c', 'so4_s', 'phe__L_c', 'gly_s', 'ump_s', 'asn__L_s', 'cmp_s', 'acac_s', 'tyr__L_c', 'man6p_c', 'cbl1_s', 'amp_s', 'pi_c', '3amp_s', 'adn_c', 'mg2_s', 'zn2_s', 'arg__L_s', 'acnam_s', 'chor_s', 'mn2_s', 'f6p_s', '6pgc_s', 'k_s', 'for_c']\n"
     ]
    }
   ],
   "source": [
    "flux_results_df = pd.read_csv('PEP_group_1by1_KO_flux_results.csv',index_col=0)\n",
    "sorted_mets = flux_results_df.loc['biomass_dilution_s'].sort_values(ascending=True).index.to_list()\n",
    "essential_mets = sorted_mets[:sorted_mets.index('for_c')+1]\n",
    "print('Essential metabolites: {}'.format(essential_mets))"
   ]
  },
  {
   "cell_type": "code",
   "execution_count": 57,
   "metadata": {},
   "outputs": [],
   "source": [
    "essential_transporters = []\n",
    "for met in essential_mets:\n",
    "    [essential_transporters.append(i) for i in at_dict[met]]"
   ]
  },
  {
   "cell_type": "code",
   "execution_count": 58,
   "metadata": {},
   "outputs": [
    {
     "name": "stdout",
     "output_type": "stream",
     "text": [
      "79 essential open transporters\n"
     ]
    }
   ],
   "source": [
    "print('{} essential open transporters'.format(len(essential_transporters)))"
   ]
  },
  {
   "cell_type": "code",
   "execution_count": 59,
   "metadata": {},
   "outputs": [],
   "source": [
    "for r in transport_reactions:\n",
    "    if r not in essential_transporters and 'SPONT' not in r:\n",
    "        rxn = sporeme.reactions.get_by_id(r)\n",
    "        rxn.upper_bound = 0 \n",
    "        rxn.lower_bound = 0"
   ]
  },
  {
   "cell_type": "code",
   "execution_count": 60,
   "metadata": {
    "scrolled": true
   },
   "outputs": [
    {
     "name": "stdout",
     "output_type": "stream",
     "text": [
      "iter\tmuopt    \ta     \tb     \tmu1       \tstat1\n",
      "Finished compiling expressions in 437.338554 seconds\n",
      "Finished substituting S,lb,ub in 11.839911 seconds\n",
      "Finished makeME_LP in 2.265680 seconds\n",
      "Getting MINOS parameters from ME_NLP...\n",
      "1 0.0 0.0 0.075 0.075 1\n",
      "Finished substituting S,lb,ub in 11.849881 seconds\n",
      "Finished makeME_LP in 2.287160 seconds\n",
      "Getting MINOS parameters from ME_NLP...\n",
      "2 0.0 0.0 0.0375 0.0375 1\n",
      "Finished substituting S,lb,ub in 11.870062 seconds\n",
      "Finished makeME_LP in 2.283748 seconds\n",
      "Getting MINOS parameters from ME_NLP...\n",
      "3 0.0 0.0 0.01875 0.01875 1\n",
      "Finished substituting S,lb,ub in 11.841204 seconds\n",
      "Finished makeME_LP in 2.282859 seconds\n",
      "Getting MINOS parameters from ME_NLP...\n",
      "4 0.009375 0.009375 0.01875 0.009375 optimal\n",
      "Finished substituting S,lb,ub in 11.907261 seconds\n",
      "Finished makeME_LP in 2.274466 seconds\n",
      "Getting MINOS parameters from ME_NLP...\n",
      "5 0.014062499999999999 0.014062499999999999 0.01875 0.014062499999999999 optimal\n",
      "Finished substituting S,lb,ub in 11.743381 seconds\n",
      "Finished makeME_LP in 2.286303 seconds\n",
      "Getting MINOS parameters from ME_NLP...\n",
      "6 0.014062499999999999 0.014062499999999999 0.016406249999999997 0.016406249999999997 1\n",
      "Finished substituting S,lb,ub in 11.701407 seconds\n",
      "Finished makeME_LP in 2.279301 seconds\n",
      "Getting MINOS parameters from ME_NLP...\n",
      "7 0.014062499999999999 0.014062499999999999 0.015234374999999998 0.015234374999999998 1\n",
      "Finished substituting S,lb,ub in 11.681971 seconds\n",
      "Finished makeME_LP in 2.286690 seconds\n",
      "Getting MINOS parameters from ME_NLP...\n",
      "8 0.014062499999999999 0.014062499999999999 0.014648437499999998 0.014648437499999998 1\n",
      "Finished substituting S,lb,ub in 11.642919 seconds\n",
      "Finished makeME_LP in 2.273565 seconds\n",
      "Getting MINOS parameters from ME_NLP...\n",
      "9 0.01435546875 0.01435546875 0.014648437499999998 0.01435546875 optimal\n",
      "Finished substituting S,lb,ub in 11.945617 seconds\n",
      "Finished makeME_LP in 2.277508 seconds\n",
      "Getting MINOS parameters from ME_NLP...\n",
      "10 0.01435546875 0.01435546875 0.014501953124999998 0.014501953124999998 1\n",
      "Finished substituting S,lb,ub in 11.664129 seconds\n",
      "Finished makeME_LP in 2.278133 seconds\n",
      "Getting MINOS parameters from ME_NLP...\n",
      "11 0.014428710937499999 0.014428710937499999 0.014501953124999998 0.014428710937499999 optimal\n",
      "Finished substituting S,lb,ub in 11.744756 seconds\n",
      "Finished makeME_LP in 2.281842 seconds\n",
      "Getting MINOS parameters from ME_NLP...\n",
      "12 0.014465332031249998 0.014465332031249998 0.014501953124999998 0.014465332031249998 optimal\n",
      "Finished substituting S,lb,ub in 11.730469 seconds\n",
      "Finished makeME_LP in 2.295680 seconds\n",
      "Getting MINOS parameters from ME_NLP...\n",
      "13 0.014465332031249998 0.014465332031249998 0.014483642578124997 0.014483642578124997 1\n",
      "Finished substituting S,lb,ub in 11.756249 seconds\n",
      "Finished makeME_LP in 2.291986 seconds\n",
      "Getting MINOS parameters from ME_NLP...\n",
      "14 0.014474487304687499 0.014474487304687499 0.014483642578124997 0.014474487304687499 optimal\n",
      "Finished substituting S,lb,ub in 11.667831 seconds\n",
      "Finished makeME_LP in 2.294910 seconds\n",
      "Getting MINOS parameters from ME_NLP...\n",
      "15 0.014474487304687499 0.014474487304687499 0.014479064941406248 0.014479064941406248 1\n",
      "Finished substituting S,lb,ub in 11.824590 seconds\n",
      "Finished makeME_LP in 2.289355 seconds\n",
      "Getting MINOS parameters from ME_NLP...\n",
      "16 0.014474487304687499 0.014474487304687499 0.014476776123046873 0.014476776123046873 1\n",
      "Finished substituting S,lb,ub in 11.844110 seconds\n",
      "Finished makeME_LP in 2.278949 seconds\n",
      "Getting MINOS parameters from ME_NLP...\n",
      "17 0.014475631713867187 0.014475631713867187 0.014476776123046873 0.014475631713867187 optimal\n",
      "Finished substituting S,lb,ub in 11.842324 seconds\n",
      "Finished makeME_LP in 2.304326 seconds\n",
      "Getting MINOS parameters from ME_NLP...\n",
      "18 0.01447620391845703 0.01447620391845703 0.014476776123046873 0.01447620391845703 optimal\n",
      "Bisection done in 1757.66 seconds\n"
     ]
    }
   ],
   "source": [
    "solve_me_model(sporeme, max_mu = 0.15, min_mu = .05, using_soplex=False, precision = 1e-6,growth_key = 'sigma')"
   ]
  },
  {
   "cell_type": "code",
   "execution_count": null,
   "metadata": {
    "scrolled": true
   },
   "outputs": [
    {
     "name": "stdout",
     "output_type": "stream",
     "text": [
      "Chosen change function: group_knockout      Sequential = False\n"
     ]
    },
    {
     "name": "stderr",
     "output_type": "stream",
     "text": [
      "biomass_dilution_s response (20 threads):  34%|███▍      | 10/29 [58:29<19:09, 60.51s/it]    "
     ]
    }
   ],
   "source": [
    "from bacillusme.analysis import sensitivity as ss\n",
    "flux_results_df = ss.transporter_knockout(sporeme,essential_mets, \\\n",
    "                                        NP=20,solution=1,biomass_dilution='biomass_dilution_s',\\\n",
    "                                        growth_key = 'sigma',single_change_function='group_knockout')\n",
    "flux_results_df.to_csv('PEP_essential_metabolite_group_KO.csv')"
   ]
  },
  {
   "cell_type": "code",
   "execution_count": 66,
   "metadata": {},
   "outputs": [
    {
     "data": {
      "image/png": "[encoded data removed]",
      "text/plain": [
       "<Figure size 1080x288 with 1 Axes>"
      ]
     },
     "metadata": {
      "needs_background": "light"
     },
     "output_type": "display_data"
    }
   ],
   "source": [
    "flux_results_df = pd.read_csv('PEP_essential_metabolite_group_KO.csv',index_col=0)\n",
    "flux_results_df.loc['biomass_dilution_s'].plot.bar(figsize=(15,4))\n",
    "plt.tight_layout()\n",
    "plt.savefig(\"PEP_essential_metabolite_group_KO.svg\", format=\"SVG\")"
   ]
  },
  {
   "cell_type": "code",
   "execution_count": null,
   "metadata": {},
   "outputs": [],
   "source": [
    "flux_results_df = pd.read_csv('PEP_essential_metabolite_group_KO.csv',index_col=0)\n",
    "flux_results_df.loc['biomass_dilution_s'].plot.bar(figsize=(15,4))"
   ]
  },
  {
   "cell_type": "code",
   "execution_count": 69,
   "metadata": {
    "scrolled": true
   },
   "outputs": [
    {
     "name": "stdout",
     "output_type": "stream",
     "text": [
      "Chosen change function: transporter      Sequential = False\n"
     ]
    },
    {
     "name": "stderr",
     "output_type": "stream",
     "text": [
      "biomass_dilution_s response (20 threads): 100%|██████████| 79/79 [4:04:56<00:00, 498.11s/it]   "
     ]
    }
   ],
   "source": [
    "from bacillusme.analysis import sensitivity as ss\n",
    "flux_results_df = ss.transporter_knockout(sporeme,essential_transporters, \\\n",
    "                                        NP=20,solution=1,biomass_dilution='biomass_dilution_s',\\\n",
    "                                        growth_key = 'sigma')\n",
    "flux_results_df.to_csv('PEP_essential_transporter_KO.csv')"
   ]
  },
  {
   "cell_type": "code",
   "execution_count": 70,
   "metadata": {},
   "outputs": [
    {
     "data": {
      "text/plain": [
       "<AxesSubplot:>"
      ]
     },
     "execution_count": 70,
     "metadata": {},
     "output_type": "execute_result"
    },
    {
     "data": {
      "image/png": "[encoded data removed]",
      "text/plain": [
       "<Figure size 1080x288 with 1 Axes>"
      ]
     },
     "metadata": {
      "needs_background": "light"
     },
     "output_type": "display_data"
    }
   ],
   "source": [
    "flux_results_df = pd.read_csv('PEP_essential_transporter_KO.csv',index_col=0)\n",
    "flux_results_df.loc['biomass_dilution_s'].plot.bar(figsize=(15,4))"
   ]
  },
  {
   "cell_type": "code",
   "execution_count": 53,
   "metadata": {},
   "outputs": [
    {
     "data": {
      "text/plain": [
       "<matplotlib.axes._subplots.AxesSubplot at 0x7f43f5945ba8>"
      ]
     },
     "execution_count": 53,
     "metadata": {},
     "output_type": "execute_result"
    },
    {
     "data": {
      "image/png": "[encoded data removed]",
      "text/plain": [
       "<Figure size 576x396 with 1 Axes>"
      ]
     },
     "metadata": {},
     "output_type": "display_data"
    }
   ],
   "source": [
    "flux_results_df.loc['biomass_dilution_s',at_dict['arg__L_s']+at_dict['met__L_c']].plot.bar()"
   ]
  },
  {
   "cell_type": "code",
   "execution_count": 74,
   "metadata": {},
   "outputs": [
    {
     "name": "stdout",
     "output_type": "stream",
     "text": [
      "arg__L_c + h_c <=> -7.42684631202334e-5*sigma BSU37760-MONOMER_s + arg__L_s + h_s\n",
      "arg__L_c + h_c <=> -4.27350427350427e-6*sigma BSU33330-MONOMER_s + arg__L_s + h_s\n",
      "arg__L_c + atp_s + h2o_s <=> -4.27350427350427e-6*sigma CPLX000-9_s + adp_s + arg__L_s + h_s + pi_s\n",
      "arg__L_c + h_c <=> -4.27350427350427e-6*sigma BSU40330-MONOMER_s + arg__L_s + h_s\n"
     ]
    }
   ],
   "source": [
    "for r in at_dict['arg__L_s']:\n",
    "    rxn = sporeme.reactions.get_by_id(r)\n",
    "    print(rxn.reaction)"
   ]
  },
  {
   "cell_type": "markdown",
   "metadata": {},
   "source": [
    "### Network visualization"
   ]
  },
  {
   "cell_type": "code",
   "execution_count": 67,
   "metadata": {},
   "outputs": [
    {
     "name": "stderr",
     "output_type": "stream",
     "text": [
      "biomass_dilution_s response (20 threads): 100%|██████████| 29/29 [18:06:45<00:00, 2248.47s/it]\n"
     ]
    }
   ],
   "source": [
    "import itertools\n",
    "import networkx as nx"
   ]
  },
  {
   "cell_type": "code",
   "execution_count": 71,
   "metadata": {},
   "outputs": [],
   "source": [
    "flux_results_df = pd.read_csv('PEP_essential_transporter_KO.csv',index_col=0)"
   ]
  },
  {
   "cell_type": "code",
   "execution_count": 72,
   "metadata": {},
   "outputs": [
    {
     "data": {
      "text/html": [
       "<div>\n",
       "<style scoped>\n",
       "    .dataframe tbody tr th:only-of-type {\n",
       "        vertical-align: middle;\n",
       "    }\n",
       "\n",
       "    .dataframe tbody tr th {\n",
       "        vertical-align: top;\n",
       "    }\n",
       "\n",
       "    .dataframe thead th {\n",
       "        text-align: right;\n",
       "    }\n",
       "</style>\n",
       "<table border=\"1\" class=\"dataframe\">\n",
       "  <thead>\n",
       "    <tr style=\"text-align: right;\">\n",
       "      <th></th>\n",
       "      <th>BTDt6_RR_FWD_CPLX_dummy_s</th>\n",
       "      <th>HISt2r_FWD_BSU39390-MONOMER_s</th>\n",
       "      <th>LEUt2r_REV_BSU26690-MONOMER_s</th>\n",
       "      <th>GMPt6_REV_CPLX_dummy_s</th>\n",
       "      <th>GMPt6_FWD_CPLX_dummy_s</th>\n",
       "      <th>LEUt2r_REV_BSU29600-MONOMER_s</th>\n",
       "      <th>PHEt2r_FWD_CPLX_dummy_s</th>\n",
       "      <th>PSER_Lt6_FWD_CPLX_dummy_s</th>\n",
       "      <th>LEUt2r_FWD_BSU26690-MONOMER_s</th>\n",
       "      <th>SO4t2_FWD_BSU15580-MONOMER_s</th>\n",
       "      <th>...</th>\n",
       "      <th>CBLtex_FWD_BSU33170-MONOMER_s</th>\n",
       "      <th>Kt1_FWD_BSU31322-MONOMER_s</th>\n",
       "      <th>ACACt2_REV_CPLX_dummy_s</th>\n",
       "      <th>Kt2r_FWD_BSU26640-MONOMER_s</th>\n",
       "      <th>Kt3r_FWD_CPLX8J2-158_s</th>\n",
       "      <th>Kt1_REV_BSU31322-MONOMER_s</th>\n",
       "      <th>FORt2_FWD_BSU27200-MONOMER_s</th>\n",
       "      <th>FORt2_REV_BSU27200-MONOMER_s</th>\n",
       "      <th>CD2t4_FWD_BSU26650-MONOMER_s</th>\n",
       "      <th>ZNabc_FWD_CPLX000-71_s</th>\n",
       "    </tr>\n",
       "  </thead>\n",
       "  <tbody>\n",
       "    <tr>\n",
       "      <th>biomass_dilution</th>\n",
       "      <td>0.004487</td>\n",
       "      <td>0.004487</td>\n",
       "      <td>0.004487</td>\n",
       "      <td>0.004487</td>\n",
       "      <td>0.004479</td>\n",
       "      <td>0.004487</td>\n",
       "      <td>0.004487</td>\n",
       "      <td>0.004487</td>\n",
       "      <td>0.004487</td>\n",
       "      <td>0.004487</td>\n",
       "      <td>...</td>\n",
       "      <td>0.0</td>\n",
       "      <td>0.004487</td>\n",
       "      <td>0.0</td>\n",
       "      <td>0.004487</td>\n",
       "      <td>0.004506</td>\n",
       "      <td>0.004487</td>\n",
       "      <td>0.004487</td>\n",
       "      <td>0.004487</td>\n",
       "      <td>0.004487</td>\n",
       "      <td>0.0</td>\n",
       "    </tr>\n",
       "    <tr>\n",
       "      <th>protein_biomass_to_biomass</th>\n",
       "      <td>0.002637</td>\n",
       "      <td>0.002637</td>\n",
       "      <td>0.002637</td>\n",
       "      <td>0.002637</td>\n",
       "      <td>0.002632</td>\n",
       "      <td>0.002637</td>\n",
       "      <td>0.002637</td>\n",
       "      <td>0.002637</td>\n",
       "      <td>0.002637</td>\n",
       "      <td>0.002637</td>\n",
       "      <td>...</td>\n",
       "      <td>0.0</td>\n",
       "      <td>0.002637</td>\n",
       "      <td>0.0</td>\n",
       "      <td>0.002637</td>\n",
       "      <td>0.002648</td>\n",
       "      <td>0.002637</td>\n",
       "      <td>0.002637</td>\n",
       "      <td>0.002637</td>\n",
       "      <td>0.002637</td>\n",
       "      <td>0.0</td>\n",
       "    </tr>\n",
       "    <tr>\n",
       "      <th>mRNA_biomass_to_biomass</th>\n",
       "      <td>0.000007</td>\n",
       "      <td>0.000007</td>\n",
       "      <td>0.000007</td>\n",
       "      <td>0.000007</td>\n",
       "      <td>0.000007</td>\n",
       "      <td>0.000007</td>\n",
       "      <td>0.000007</td>\n",
       "      <td>0.000007</td>\n",
       "      <td>0.000007</td>\n",
       "      <td>0.000007</td>\n",
       "      <td>...</td>\n",
       "      <td>0.0</td>\n",
       "      <td>0.000007</td>\n",
       "      <td>0.0</td>\n",
       "      <td>0.000007</td>\n",
       "      <td>0.000007</td>\n",
       "      <td>0.000007</td>\n",
       "      <td>0.000007</td>\n",
       "      <td>0.000007</td>\n",
       "      <td>0.000007</td>\n",
       "      <td>0.0</td>\n",
       "    </tr>\n",
       "    <tr>\n",
       "      <th>tRNA_biomass_to_biomass</th>\n",
       "      <td>0.000043</td>\n",
       "      <td>0.000043</td>\n",
       "      <td>0.000043</td>\n",
       "      <td>0.000043</td>\n",
       "      <td>0.000042</td>\n",
       "      <td>0.000043</td>\n",
       "      <td>0.000043</td>\n",
       "      <td>0.000043</td>\n",
       "      <td>0.000043</td>\n",
       "      <td>0.000043</td>\n",
       "      <td>...</td>\n",
       "      <td>0.0</td>\n",
       "      <td>0.000043</td>\n",
       "      <td>0.0</td>\n",
       "      <td>0.000043</td>\n",
       "      <td>0.000043</td>\n",
       "      <td>0.000043</td>\n",
       "      <td>0.000043</td>\n",
       "      <td>0.000043</td>\n",
       "      <td>0.000043</td>\n",
       "      <td>0.0</td>\n",
       "    </tr>\n",
       "    <tr>\n",
       "      <th>rRNA_biomass_to_biomass</th>\n",
       "      <td>0.000315</td>\n",
       "      <td>0.000315</td>\n",
       "      <td>0.000315</td>\n",
       "      <td>0.000315</td>\n",
       "      <td>0.000314</td>\n",
       "      <td>0.000315</td>\n",
       "      <td>0.000315</td>\n",
       "      <td>0.000315</td>\n",
       "      <td>0.000315</td>\n",
       "      <td>0.000315</td>\n",
       "      <td>...</td>\n",
       "      <td>0.0</td>\n",
       "      <td>0.000315</td>\n",
       "      <td>0.0</td>\n",
       "      <td>0.000315</td>\n",
       "      <td>0.000316</td>\n",
       "      <td>0.000315</td>\n",
       "      <td>0.000315</td>\n",
       "      <td>0.000315</td>\n",
       "      <td>0.000315</td>\n",
       "      <td>0.0</td>\n",
       "    </tr>\n",
       "    <tr>\n",
       "      <th>...</th>\n",
       "      <td>...</td>\n",
       "      <td>...</td>\n",
       "      <td>...</td>\n",
       "      <td>...</td>\n",
       "      <td>...</td>\n",
       "      <td>...</td>\n",
       "      <td>...</td>\n",
       "      <td>...</td>\n",
       "      <td>...</td>\n",
       "      <td>...</td>\n",
       "      <td>...</td>\n",
       "      <td>...</td>\n",
       "      <td>...</td>\n",
       "      <td>...</td>\n",
       "      <td>...</td>\n",
       "      <td>...</td>\n",
       "      <td>...</td>\n",
       "      <td>...</td>\n",
       "      <td>...</td>\n",
       "      <td>...</td>\n",
       "      <td>...</td>\n",
       "    </tr>\n",
       "    <tr>\n",
       "      <th>Demand_psetha_BS_s</th>\n",
       "      <td>0.014476</td>\n",
       "      <td>0.014476</td>\n",
       "      <td>0.014476</td>\n",
       "      <td>0.014476</td>\n",
       "      <td>0.014446</td>\n",
       "      <td>0.014476</td>\n",
       "      <td>0.014476</td>\n",
       "      <td>0.014476</td>\n",
       "      <td>0.014476</td>\n",
       "      <td>0.014476</td>\n",
       "      <td>...</td>\n",
       "      <td>0.0</td>\n",
       "      <td>0.014476</td>\n",
       "      <td>0.0</td>\n",
       "      <td>0.014476</td>\n",
       "      <td>0.014439</td>\n",
       "      <td>0.014476</td>\n",
       "      <td>0.014476</td>\n",
       "      <td>0.014476</td>\n",
       "      <td>0.014476</td>\n",
       "      <td>0.0</td>\n",
       "    </tr>\n",
       "    <tr>\n",
       "      <th>Demand_t12dg_BS_s</th>\n",
       "      <td>0.014476</td>\n",
       "      <td>0.014476</td>\n",
       "      <td>0.014476</td>\n",
       "      <td>0.014476</td>\n",
       "      <td>0.014446</td>\n",
       "      <td>0.014476</td>\n",
       "      <td>0.014476</td>\n",
       "      <td>0.014476</td>\n",
       "      <td>0.014476</td>\n",
       "      <td>0.014476</td>\n",
       "      <td>...</td>\n",
       "      <td>0.0</td>\n",
       "      <td>0.014476</td>\n",
       "      <td>0.0</td>\n",
       "      <td>0.014476</td>\n",
       "      <td>0.014439</td>\n",
       "      <td>0.014476</td>\n",
       "      <td>0.014476</td>\n",
       "      <td>0.014476</td>\n",
       "      <td>0.014476</td>\n",
       "      <td>0.0</td>\n",
       "    </tr>\n",
       "    <tr>\n",
       "      <th>Demand_gtca3_45_BS_s</th>\n",
       "      <td>0.014476</td>\n",
       "      <td>0.014476</td>\n",
       "      <td>0.014476</td>\n",
       "      <td>0.014476</td>\n",
       "      <td>0.014446</td>\n",
       "      <td>0.014476</td>\n",
       "      <td>0.014476</td>\n",
       "      <td>0.014476</td>\n",
       "      <td>0.014476</td>\n",
       "      <td>0.014476</td>\n",
       "      <td>...</td>\n",
       "      <td>0.0</td>\n",
       "      <td>0.014476</td>\n",
       "      <td>0.0</td>\n",
       "      <td>0.014476</td>\n",
       "      <td>0.014439</td>\n",
       "      <td>0.014476</td>\n",
       "      <td>0.014476</td>\n",
       "      <td>0.014476</td>\n",
       "      <td>0.014476</td>\n",
       "      <td>0.0</td>\n",
       "    </tr>\n",
       "    <tr>\n",
       "      <th>Demand_lipo1_24_BS_s</th>\n",
       "      <td>0.014476</td>\n",
       "      <td>0.014476</td>\n",
       "      <td>0.014476</td>\n",
       "      <td>0.014476</td>\n",
       "      <td>0.014446</td>\n",
       "      <td>0.014476</td>\n",
       "      <td>0.014476</td>\n",
       "      <td>0.014476</td>\n",
       "      <td>0.014476</td>\n",
       "      <td>0.014476</td>\n",
       "      <td>...</td>\n",
       "      <td>0.0</td>\n",
       "      <td>0.014476</td>\n",
       "      <td>0.0</td>\n",
       "      <td>0.014476</td>\n",
       "      <td>0.014439</td>\n",
       "      <td>0.014476</td>\n",
       "      <td>0.014476</td>\n",
       "      <td>0.014476</td>\n",
       "      <td>0.014476</td>\n",
       "      <td>0.0</td>\n",
       "    </tr>\n",
       "    <tr>\n",
       "      <th>Demand_tcam_BS_s</th>\n",
       "      <td>0.233878</td>\n",
       "      <td>0.233877</td>\n",
       "      <td>0.233878</td>\n",
       "      <td>0.233878</td>\n",
       "      <td>0.233364</td>\n",
       "      <td>0.233878</td>\n",
       "      <td>0.233878</td>\n",
       "      <td>0.233878</td>\n",
       "      <td>0.233878</td>\n",
       "      <td>0.233878</td>\n",
       "      <td>...</td>\n",
       "      <td>0.0</td>\n",
       "      <td>0.233878</td>\n",
       "      <td>0.0</td>\n",
       "      <td>0.233878</td>\n",
       "      <td>0.231476</td>\n",
       "      <td>0.233878</td>\n",
       "      <td>0.233878</td>\n",
       "      <td>0.233878</td>\n",
       "      <td>0.233879</td>\n",
       "      <td>0.0</td>\n",
       "    </tr>\n",
       "  </tbody>\n",
       "</table>\n",
       "<p>12339 rows × 76 columns</p>\n",
       "</div>"
      ],
      "text/plain": [
       "                            BTDt6_RR_FWD_CPLX_dummy_s  \\\n",
       "biomass_dilution                             0.004487   \n",
       "protein_biomass_to_biomass                   0.002637   \n",
       "mRNA_biomass_to_biomass                      0.000007   \n",
       "tRNA_biomass_to_biomass                      0.000043   \n",
       "rRNA_biomass_to_biomass                      0.000315   \n",
       "...                                               ...   \n",
       "Demand_psetha_BS_s                           0.014476   \n",
       "Demand_t12dg_BS_s                            0.014476   \n",
       "Demand_gtca3_45_BS_s                         0.014476   \n",
       "Demand_lipo1_24_BS_s                         0.014476   \n",
       "Demand_tcam_BS_s                             0.233878   \n",
       "\n",
       "                            HISt2r_FWD_BSU39390-MONOMER_s  \\\n",
       "biomass_dilution                                 0.004487   \n",
       "protein_biomass_to_biomass                       0.002637   \n",
       "mRNA_biomass_to_biomass                          0.000007   \n",
       "tRNA_biomass_to_biomass                          0.000043   \n",
       "rRNA_biomass_to_biomass                          0.000315   \n",
       "...                                                   ...   \n",
       "Demand_psetha_BS_s                               0.014476   \n",
       "Demand_t12dg_BS_s                                0.014476   \n",
       "Demand_gtca3_45_BS_s                             0.014476   \n",
       "Demand_lipo1_24_BS_s                             0.014476   \n",
       "Demand_tcam_BS_s                                 0.233877   \n",
       "\n",
       "                            LEUt2r_REV_BSU26690-MONOMER_s  \\\n",
       "biomass_dilution                                 0.004487   \n",
       "protein_biomass_to_biomass                       0.002637   \n",
       "mRNA_biomass_to_biomass                          0.000007   \n",
       "tRNA_biomass_to_biomass                          0.000043   \n",
       "rRNA_biomass_to_biomass                          0.000315   \n",
       "...                                                   ...   \n",
       "Demand_psetha_BS_s                               0.014476   \n",
       "Demand_t12dg_BS_s                                0.014476   \n",
       "Demand_gtca3_45_BS_s                             0.014476   \n",
       "Demand_lipo1_24_BS_s                             0.014476   \n",
       "Demand_tcam_BS_s                                 0.233878   \n",
       "\n",
       "                            GMPt6_REV_CPLX_dummy_s  GMPt6_FWD_CPLX_dummy_s  \\\n",
       "biomass_dilution                          0.004487                0.004479   \n",
       "protein_biomass_to_biomass                0.002637                0.002632   \n",
       "mRNA_biomass_to_biomass                   0.000007                0.000007   \n",
       "tRNA_biomass_to_biomass                   0.000043                0.000042   \n",
       "rRNA_biomass_to_biomass                   0.000315                0.000314   \n",
       "...                                            ...                     ...   \n",
       "Demand_psetha_BS_s                        0.014476                0.014446   \n",
       "Demand_t12dg_BS_s                         0.014476                0.014446   \n",
       "Demand_gtca3_45_BS_s                      0.014476                0.014446   \n",
       "Demand_lipo1_24_BS_s                      0.014476                0.014446   \n",
       "Demand_tcam_BS_s                          0.233878                0.233364   \n",
       "\n",
       "                            LEUt2r_REV_BSU29600-MONOMER_s  \\\n",
       "biomass_dilution                                 0.004487   \n",
       "protein_biomass_to_biomass                       0.002637   \n",
       "mRNA_biomass_to_biomass                          0.000007   \n",
       "tRNA_biomass_to_biomass                          0.000043   \n",
       "rRNA_biomass_to_biomass                          0.000315   \n",
       "...                                                   ...   \n",
       "Demand_psetha_BS_s                               0.014476   \n",
       "Demand_t12dg_BS_s                                0.014476   \n",
       "Demand_gtca3_45_BS_s                             0.014476   \n",
       "Demand_lipo1_24_BS_s                             0.014476   \n",
       "Demand_tcam_BS_s                                 0.233878   \n",
       "\n",
       "                            PHEt2r_FWD_CPLX_dummy_s  \\\n",
       "biomass_dilution                           0.004487   \n",
       "protein_biomass_to_biomass                 0.002637   \n",
       "mRNA_biomass_to_biomass                    0.000007   \n",
       "tRNA_biomass_to_biomass                    0.000043   \n",
       "rRNA_biomass_to_biomass                    0.000315   \n",
       "...                                             ...   \n",
       "Demand_psetha_BS_s                         0.014476   \n",
       "Demand_t12dg_BS_s                          0.014476   \n",
       "Demand_gtca3_45_BS_s                       0.014476   \n",
       "Demand_lipo1_24_BS_s                       0.014476   \n",
       "Demand_tcam_BS_s                           0.233878   \n",
       "\n",
       "                            PSER_Lt6_FWD_CPLX_dummy_s  \\\n",
       "biomass_dilution                             0.004487   \n",
       "protein_biomass_to_biomass                   0.002637   \n",
       "mRNA_biomass_to_biomass                      0.000007   \n",
       "tRNA_biomass_to_biomass                      0.000043   \n",
       "rRNA_biomass_to_biomass                      0.000315   \n",
       "...                                               ...   \n",
       "Demand_psetha_BS_s                           0.014476   \n",
       "Demand_t12dg_BS_s                            0.014476   \n",
       "Demand_gtca3_45_BS_s                         0.014476   \n",
       "Demand_lipo1_24_BS_s                         0.014476   \n",
       "Demand_tcam_BS_s                             0.233878   \n",
       "\n",
       "                            LEUt2r_FWD_BSU26690-MONOMER_s  \\\n",
       "biomass_dilution                                 0.004487   \n",
       "protein_biomass_to_biomass                       0.002637   \n",
       "mRNA_biomass_to_biomass                          0.000007   \n",
       "tRNA_biomass_to_biomass                          0.000043   \n",
       "rRNA_biomass_to_biomass                          0.000315   \n",
       "...                                                   ...   \n",
       "Demand_psetha_BS_s                               0.014476   \n",
       "Demand_t12dg_BS_s                                0.014476   \n",
       "Demand_gtca3_45_BS_s                             0.014476   \n",
       "Demand_lipo1_24_BS_s                             0.014476   \n",
       "Demand_tcam_BS_s                                 0.233878   \n",
       "\n",
       "                            SO4t2_FWD_BSU15580-MONOMER_s  ...  \\\n",
       "biomass_dilution                                0.004487  ...   \n",
       "protein_biomass_to_biomass                      0.002637  ...   \n",
       "mRNA_biomass_to_biomass                         0.000007  ...   \n",
       "tRNA_biomass_to_biomass                         0.000043  ...   \n",
       "rRNA_biomass_to_biomass                         0.000315  ...   \n",
       "...                                                  ...  ...   \n",
       "Demand_psetha_BS_s                              0.014476  ...   \n",
       "Demand_t12dg_BS_s                               0.014476  ...   \n",
       "Demand_gtca3_45_BS_s                            0.014476  ...   \n",
       "Demand_lipo1_24_BS_s                            0.014476  ...   \n",
       "Demand_tcam_BS_s                                0.233878  ...   \n",
       "\n",
       "                            CBLtex_FWD_BSU33170-MONOMER_s  \\\n",
       "biomass_dilution                                      0.0   \n",
       "protein_biomass_to_biomass                            0.0   \n",
       "mRNA_biomass_to_biomass                               0.0   \n",
       "tRNA_biomass_to_biomass                               0.0   \n",
       "rRNA_biomass_to_biomass                               0.0   \n",
       "...                                                   ...   \n",
       "Demand_psetha_BS_s                                    0.0   \n",
       "Demand_t12dg_BS_s                                     0.0   \n",
       "Demand_gtca3_45_BS_s                                  0.0   \n",
       "Demand_lipo1_24_BS_s                                  0.0   \n",
       "Demand_tcam_BS_s                                      0.0   \n",
       "\n",
       "                            Kt1_FWD_BSU31322-MONOMER_s  \\\n",
       "biomass_dilution                              0.004487   \n",
       "protein_biomass_to_biomass                    0.002637   \n",
       "mRNA_biomass_to_biomass                       0.000007   \n",
       "tRNA_biomass_to_biomass                       0.000043   \n",
       "rRNA_biomass_to_biomass                       0.000315   \n",
       "...                                                ...   \n",
       "Demand_psetha_BS_s                            0.014476   \n",
       "Demand_t12dg_BS_s                             0.014476   \n",
       "Demand_gtca3_45_BS_s                          0.014476   \n",
       "Demand_lipo1_24_BS_s                          0.014476   \n",
       "Demand_tcam_BS_s                              0.233878   \n",
       "\n",
       "                            ACACt2_REV_CPLX_dummy_s  \\\n",
       "biomass_dilution                                0.0   \n",
       "protein_biomass_to_biomass                      0.0   \n",
       "mRNA_biomass_to_biomass                         0.0   \n",
       "tRNA_biomass_to_biomass                         0.0   \n",
       "rRNA_biomass_to_biomass                         0.0   \n",
       "...                                             ...   \n",
       "Demand_psetha_BS_s                              0.0   \n",
       "Demand_t12dg_BS_s                               0.0   \n",
       "Demand_gtca3_45_BS_s                            0.0   \n",
       "Demand_lipo1_24_BS_s                            0.0   \n",
       "Demand_tcam_BS_s                                0.0   \n",
       "\n",
       "                            Kt2r_FWD_BSU26640-MONOMER_s  \\\n",
       "biomass_dilution                               0.004487   \n",
       "protein_biomass_to_biomass                     0.002637   \n",
       "mRNA_biomass_to_biomass                        0.000007   \n",
       "tRNA_biomass_to_biomass                        0.000043   \n",
       "rRNA_biomass_to_biomass                        0.000315   \n",
       "...                                                 ...   \n",
       "Demand_psetha_BS_s                             0.014476   \n",
       "Demand_t12dg_BS_s                              0.014476   \n",
       "Demand_gtca3_45_BS_s                           0.014476   \n",
       "Demand_lipo1_24_BS_s                           0.014476   \n",
       "Demand_tcam_BS_s                               0.233878   \n",
       "\n",
       "                            Kt3r_FWD_CPLX8J2-158_s  \\\n",
       "biomass_dilution                          0.004506   \n",
       "protein_biomass_to_biomass                0.002648   \n",
       "mRNA_biomass_to_biomass                   0.000007   \n",
       "tRNA_biomass_to_biomass                   0.000043   \n",
       "rRNA_biomass_to_biomass                   0.000316   \n",
       "...                                            ...   \n",
       "Demand_psetha_BS_s                        0.014439   \n",
       "Demand_t12dg_BS_s                         0.014439   \n",
       "Demand_gtca3_45_BS_s                      0.014439   \n",
       "Demand_lipo1_24_BS_s                      0.014439   \n",
       "Demand_tcam_BS_s                          0.231476   \n",
       "\n",
       "                            Kt1_REV_BSU31322-MONOMER_s  \\\n",
       "biomass_dilution                              0.004487   \n",
       "protein_biomass_to_biomass                    0.002637   \n",
       "mRNA_biomass_to_biomass                       0.000007   \n",
       "tRNA_biomass_to_biomass                       0.000043   \n",
       "rRNA_biomass_to_biomass                       0.000315   \n",
       "...                                                ...   \n",
       "Demand_psetha_BS_s                            0.014476   \n",
       "Demand_t12dg_BS_s                             0.014476   \n",
       "Demand_gtca3_45_BS_s                          0.014476   \n",
       "Demand_lipo1_24_BS_s                          0.014476   \n",
       "Demand_tcam_BS_s                              0.233878   \n",
       "\n",
       "                            FORt2_FWD_BSU27200-MONOMER_s  \\\n",
       "biomass_dilution                                0.004487   \n",
       "protein_biomass_to_biomass                      0.002637   \n",
       "mRNA_biomass_to_biomass                         0.000007   \n",
       "tRNA_biomass_to_biomass                         0.000043   \n",
       "rRNA_biomass_to_biomass                         0.000315   \n",
       "...                                                  ...   \n",
       "Demand_psetha_BS_s                              0.014476   \n",
       "Demand_t12dg_BS_s                               0.014476   \n",
       "Demand_gtca3_45_BS_s                            0.014476   \n",
       "Demand_lipo1_24_BS_s                            0.014476   \n",
       "Demand_tcam_BS_s                                0.233878   \n",
       "\n",
       "                            FORt2_REV_BSU27200-MONOMER_s  \\\n",
       "biomass_dilution                                0.004487   \n",
       "protein_biomass_to_biomass                      0.002637   \n",
       "mRNA_biomass_to_biomass                         0.000007   \n",
       "tRNA_biomass_to_biomass                         0.000043   \n",
       "rRNA_biomass_to_biomass                         0.000315   \n",
       "...                                                  ...   \n",
       "Demand_psetha_BS_s                              0.014476   \n",
       "Demand_t12dg_BS_s                               0.014476   \n",
       "Demand_gtca3_45_BS_s                            0.014476   \n",
       "Demand_lipo1_24_BS_s                            0.014476   \n",
       "Demand_tcam_BS_s                                0.233878   \n",
       "\n",
       "                            CD2t4_FWD_BSU26650-MONOMER_s  \\\n",
       "biomass_dilution                                0.004487   \n",
       "protein_biomass_to_biomass                      0.002637   \n",
       "mRNA_biomass_to_biomass                         0.000007   \n",
       "tRNA_biomass_to_biomass                         0.000043   \n",
       "rRNA_biomass_to_biomass                         0.000315   \n",
       "...                                                  ...   \n",
       "Demand_psetha_BS_s                              0.014476   \n",
       "Demand_t12dg_BS_s                               0.014476   \n",
       "Demand_gtca3_45_BS_s                            0.014476   \n",
       "Demand_lipo1_24_BS_s                            0.014476   \n",
       "Demand_tcam_BS_s                                0.233879   \n",
       "\n",
       "                            ZNabc_FWD_CPLX000-71_s  \n",
       "biomass_dilution                               0.0  \n",
       "protein_biomass_to_biomass                     0.0  \n",
       "mRNA_biomass_to_biomass                        0.0  \n",
       "tRNA_biomass_to_biomass                        0.0  \n",
       "rRNA_biomass_to_biomass                        0.0  \n",
       "...                                            ...  \n",
       "Demand_psetha_BS_s                             0.0  \n",
       "Demand_t12dg_BS_s                              0.0  \n",
       "Demand_gtca3_45_BS_s                           0.0  \n",
       "Demand_lipo1_24_BS_s                           0.0  \n",
       "Demand_tcam_BS_s                               0.0  \n",
       "\n",
       "[12339 rows x 76 columns]"
      ]
     },
     "execution_count": 72,
     "metadata": {},
     "output_type": "execute_result"
    }
   ],
   "source": [
    "flux_results_df.drop('base',axis=1)"
   ]
  },
  {
   "cell_type": "code",
   "execution_count": 73,
   "metadata": {},
   "outputs": [],
   "source": [
    "G = nx.Graph()\n",
    "\n",
    "for r in flux_results_df.drop('base',axis=1).columns:\n",
    "    rxn = sporeme.reactions.get_by_id(r)\n",
    "    mets = list(set([m.id[:-2] for m in rxn.metabolites if isinstance(m,cobrame.Metabolite)]))\n",
    "    combinations = list(itertools.combinations(mets, 2))\n",
    "    \n",
    "    for m in mets:\n",
    "        G.add_node(m,node_size=1000)\n",
    "    \n",
    "    for c in combinations:\n",
    "        G.add_edge(c[0],c[1])"
   ]
  },
  {
   "cell_type": "code",
   "execution_count": 74,
   "metadata": {},
   "outputs": [
    {
     "name": "stdout",
     "output_type": "stream",
     "text": [
      "Nodes of graph: \n",
      "['h', 'btd_RR', 'his__L', 'leu__L', 'gmp', 'phe__L', 'pser__L', 'so4', 'gly', 'ump', 'cmp', 'tyr__L', 'amp', 'man6p', 'asn__L', 'acac', 'pi', 'f6p', 'na1', 'h2o', 'atp', 'adp', 'g6p', '3amp', 'mg2', 'g1p', 'adn', 'cit', 'icit', 'zn2', 'k', 'arg__L', 'chor', 'mn2', 'acnam', '6pgc', 'cbl1', 'for', 'cd2']\n",
      "Edges of graph: \n",
      "[('h', 'btd_RR'), ('h', 'his__L'), ('h', 'leu__L'), ('h', 'gmp'), ('h', 'phe__L'), ('h', 'pser__L'), ('h', 'so4'), ('h', 'gly'), ('h', 'ump'), ('h', 'cmp'), ('h', 'tyr__L'), ('h', 'amp'), ('h', 'man6p'), ('h', 'asn__L'), ('h', 'acac'), ('h', 'pi'), ('h', 'h2o'), ('h', 'atp'), ('h', 'adp'), ('h', '3amp'), ('h', 'adn'), ('h', 'mg2'), ('h', 'cit'), ('h', 'icit'), ('h', 'zn2'), ('h', 'k'), ('h', 'arg__L'), ('h', 'chor'), ('h', 'mn2'), ('h', 'acnam'), ('h', '6pgc'), ('h', 'for'), ('h', 'cd2'), ('pi', 'f6p'), ('pi', 'na1'), ('pi', 'h2o'), ('pi', 'atp'), ('pi', 'adp'), ('pi', 'g6p'), ('pi', 'g1p'), ('pi', 'arg__L'), ('pi', 'mn2'), ('pi', 'zn2'), ('h2o', 'atp'), ('h2o', 'adp'), ('h2o', 'arg__L'), ('h2o', 'mn2'), ('h2o', 'zn2'), ('atp', 'adp'), ('atp', 'arg__L'), ('atp', 'mn2'), ('atp', 'zn2'), ('adp', 'arg__L'), ('adp', 'mn2'), ('adp', 'zn2'), ('mg2', 'cit'), ('mg2', 'icit'), ('cit', 'zn2'), ('cit', 'mn2'), ('zn2', 'k'), ('k', 'cd2')]\n"
     ]
    }
   ],
   "source": [
    "print(\"Nodes of graph: \")\n",
    "print(G.nodes())\n",
    "print(\"Edges of graph: \")\n",
    "print(G.edges())"
   ]
  },
  {
   "cell_type": "code",
   "execution_count": 75,
   "metadata": {},
   "outputs": [],
   "source": [
    "G.remove_node('cbl1')"
   ]
  },
  {
   "cell_type": "code",
   "execution_count": 76,
   "metadata": {},
   "outputs": [
    {
     "data": {
      "image/png": "[encoded data removed]",
      "text/plain": [
       "<Figure size 936x576 with 1 Axes>"
      ]
     },
     "metadata": {},
     "output_type": "display_data"
    }
   ],
   "source": [
    "d = dict(G.degree)\n",
    "\n",
    "pos = nx.spring_layout(G)\n",
    "plt.figure(figsize=(13,8))\n",
    "nx.draw(G,pos=pos, nodelist=d.keys(), node_size=[v * 100 for v in d.values()],alpha=0.8)\n",
    "\n",
    "for label in pos.keys():\n",
    "    x,y = pos[label]\n",
    "    plt.text(x,y+0.09,s=label,horizontalalignment='center')\n",
    "\n",
    "plt.draw()\n",
    "plt.savefig(\"transport_graph.svg\", format=\"SVG\")"
   ]
  },
  {
   "cell_type": "markdown",
   "metadata": {},
   "source": [
    "#### Cases"
   ]
  },
  {
   "cell_type": "code",
   "execution_count": 35,
   "metadata": {},
   "outputs": [],
   "source": [
    "flux_results_df = pd.read_csv('PEP_group_1by1_KO_flux_results.csv',index_col=0)\n",
    "flux_dict = flux_results_df['for_c'].to_dict() # Last time before model breaks"
   ]
  },
  {
   "cell_type": "code",
   "execution_count": 21,
   "metadata": {},
   "outputs": [
    {
     "data": {
      "text/html": [
       "<div>\n",
       "<style scoped>\n",
       "    .dataframe tbody tr th:only-of-type {\n",
       "        vertical-align: middle;\n",
       "    }\n",
       "\n",
       "    .dataframe tbody tr th {\n",
       "        vertical-align: top;\n",
       "    }\n",
       "\n",
       "    .dataframe thead th {\n",
       "        text-align: right;\n",
       "    }\n",
       "</style>\n",
       "<table border=\"1\" class=\"dataframe\">\n",
       "  <thead>\n",
       "    <tr style=\"text-align: right;\">\n",
       "      <th></th>\n",
       "      <th>lb</th>\n",
       "      <th>ub</th>\n",
       "      <th>rxn_flux</th>\n",
       "      <th>met_flux</th>\n",
       "      <th>reaction</th>\n",
       "    </tr>\n",
       "  </thead>\n",
       "  <tbody>\n",
       "    <tr>\n",
       "      <th>NDPK1_FWD_BSU22730-MONOMER_mod_mn2_s</th>\n",
       "      <td>0</td>\n",
       "      <td>999999</td>\n",
       "      <td>0.950312</td>\n",
       "      <td>-0.950312</td>\n",
       "      <td>atp_s + gdp_s &lt;=&gt; -4.27350427350427e-6*sigma B...</td>\n",
       "    </tr>\n",
       "    <tr>\n",
       "      <th>ADK1_FWD_BSU01370-MONOMER_mod_mg2_s</th>\n",
       "      <td>0</td>\n",
       "      <td>999999</td>\n",
       "      <td>0.550753</td>\n",
       "      <td>-0.550753</td>\n",
       "      <td>amp_s + atp_s &lt;=&gt; -4.27350427350427e-6*sigma B...</td>\n",
       "    </tr>\n",
       "    <tr>\n",
       "      <th>PC_FWD_BSU14860-MONOMER_s</th>\n",
       "      <td>0</td>\n",
       "      <td>999999</td>\n",
       "      <td>0.189997</td>\n",
       "      <td>-0.189997</td>\n",
       "      <td>atp_s + hco3_s + pyr_s &lt;=&gt; -4.27350427350427e-...</td>\n",
       "    </tr>\n",
       "    <tr>\n",
       "      <th>ACCOAC_FWD_CPLX000-1_s</th>\n",
       "      <td>0</td>\n",
       "      <td>999999</td>\n",
       "      <td>0.167228</td>\n",
       "      <td>-0.167228</td>\n",
       "      <td>accoa_s + atp_s + hco3_s &lt;=&gt; -4.27350427350427...</td>\n",
       "    </tr>\n",
       "    <tr>\n",
       "      <th>ASPK_FWD_BSU16760-MONOMER_s</th>\n",
       "      <td>0</td>\n",
       "      <td>999999</td>\n",
       "      <td>0.130944</td>\n",
       "      <td>-0.130944</td>\n",
       "      <td>asp__L_s + atp_s &lt;=&gt; 4pasp_s + -4.273504273504...</td>\n",
       "    </tr>\n",
       "    <tr>\n",
       "      <th>...</th>\n",
       "      <td>...</td>\n",
       "      <td>...</td>\n",
       "      <td>...</td>\n",
       "      <td>...</td>\n",
       "      <td>...</td>\n",
       "    </tr>\n",
       "    <tr>\n",
       "      <th>NDPK2_REV_BSU22730-MONOMER_mod_mn2_s</th>\n",
       "      <td>0</td>\n",
       "      <td>999999</td>\n",
       "      <td>0.0101283</td>\n",
       "      <td>0.0101283</td>\n",
       "      <td>adp_s + utp_s &lt;=&gt; -4.27350427350427e-6*sigma B...</td>\n",
       "    </tr>\n",
       "    <tr>\n",
       "      <th>ARGSS_REV_BSU29450-MONOMER_mod_mg2_s</th>\n",
       "      <td>0</td>\n",
       "      <td>999999</td>\n",
       "      <td>0.0342162</td>\n",
       "      <td>0.0342162</td>\n",
       "      <td>amp_s + argsuc_s + h_s + ppi_s &lt;=&gt; -4.27350427...</td>\n",
       "    </tr>\n",
       "    <tr>\n",
       "      <th>PGK_REV_BSU33930-MONOMER_s</th>\n",
       "      <td>0</td>\n",
       "      <td>999999</td>\n",
       "      <td>0.245138</td>\n",
       "      <td>0.245138</td>\n",
       "      <td>13dpg_s + adp_s &lt;=&gt; 3pg_s + -2.73961266103634e...</td>\n",
       "    </tr>\n",
       "    <tr>\n",
       "      <th>PYK_FWD_BSU29180-MONOMER_mod_mn2_mod_k_s</th>\n",
       "      <td>0</td>\n",
       "      <td>999999</td>\n",
       "      <td>0.591435</td>\n",
       "      <td>0.591435</td>\n",
       "      <td>adp_s + h_s + pep_s &lt;=&gt; -7.24069444255906e-7*s...</td>\n",
       "    </tr>\n",
       "    <tr>\n",
       "      <th>ATPS4r_FWD_CPLX000-10_s</th>\n",
       "      <td>0</td>\n",
       "      <td>999999</td>\n",
       "      <td>22.778</td>\n",
       "      <td>22.778</td>\n",
       "      <td>adp_s + 4.0 h_c + pi_s &lt;=&gt; -4.27350427350427e-...</td>\n",
       "    </tr>\n",
       "  </tbody>\n",
       "</table>\n",
       "<p>418 rows × 5 columns</p>\n",
       "</div>"
      ],
      "text/plain": [
       "                                         lb      ub   rxn_flux   met_flux  \\\n",
       "NDPK1_FWD_BSU22730-MONOMER_mod_mn2_s      0  999999   0.950312  -0.950312   \n",
       "ADK1_FWD_BSU01370-MONOMER_mod_mg2_s       0  999999   0.550753  -0.550753   \n",
       "PC_FWD_BSU14860-MONOMER_s                 0  999999   0.189997  -0.189997   \n",
       "ACCOAC_FWD_CPLX000-1_s                    0  999999   0.167228  -0.167228   \n",
       "ASPK_FWD_BSU16760-MONOMER_s               0  999999   0.130944  -0.130944   \n",
       "...                                      ..     ...        ...        ...   \n",
       "NDPK2_REV_BSU22730-MONOMER_mod_mn2_s      0  999999  0.0101283  0.0101283   \n",
       "ARGSS_REV_BSU29450-MONOMER_mod_mg2_s      0  999999  0.0342162  0.0342162   \n",
       "PGK_REV_BSU33930-MONOMER_s                0  999999   0.245138   0.245138   \n",
       "PYK_FWD_BSU29180-MONOMER_mod_mn2_mod_k_s  0  999999   0.591435   0.591435   \n",
       "ATPS4r_FWD_CPLX000-10_s                   0  999999     22.778     22.778   \n",
       "\n",
       "                                                                                   reaction  \n",
       "NDPK1_FWD_BSU22730-MONOMER_mod_mn2_s      atp_s + gdp_s <=> -4.27350427350427e-6*sigma B...  \n",
       "ADK1_FWD_BSU01370-MONOMER_mod_mg2_s       amp_s + atp_s <=> -4.27350427350427e-6*sigma B...  \n",
       "PC_FWD_BSU14860-MONOMER_s                 atp_s + hco3_s + pyr_s <=> -4.27350427350427e-...  \n",
       "ACCOAC_FWD_CPLX000-1_s                    accoa_s + atp_s + hco3_s <=> -4.27350427350427...  \n",
       "ASPK_FWD_BSU16760-MONOMER_s               asp__L_s + atp_s <=> 4pasp_s + -4.273504273504...  \n",
       "...                                                                                     ...  \n",
       "NDPK2_REV_BSU22730-MONOMER_mod_mn2_s      adp_s + utp_s <=> -4.27350427350427e-6*sigma B...  \n",
       "ARGSS_REV_BSU29450-MONOMER_mod_mg2_s      amp_s + argsuc_s + h_s + ppi_s <=> -4.27350427...  \n",
       "PGK_REV_BSU33930-MONOMER_s                13dpg_s + adp_s <=> 3pg_s + -2.73961266103634e...  \n",
       "PYK_FWD_BSU29180-MONOMER_mod_mn2_mod_k_s  adp_s + h_s + pep_s <=> -7.24069444255906e-7*s...  \n",
       "ATPS4r_FWD_CPLX000-10_s                   adp_s + 4.0 h_c + pi_s <=> -4.27350427350427e-...  \n",
       "\n",
       "[418 rows x 5 columns]"
      ]
     },
     "execution_count": 21,
     "metadata": {},
     "output_type": "execute_result"
    }
   ],
   "source": [
    "met='atp_s' # Protein synthesis\n",
    "flux_based_reactions(sporeme,met,flux_dict=flux_dict,only_types=['MetabolicReaction']).sort_values('met_flux')"
   ]
  },
  {
   "cell_type": "code",
   "execution_count": 34,
   "metadata": {},
   "outputs": [
    {
     "data": {
      "text/plain": [
       "'Adenosine'"
      ]
     },
     "execution_count": 34,
     "metadata": {},
     "output_type": "execute_result"
    }
   ],
   "source": [
    "sporeme.metabolites.get_by_id('adn_c').name"
   ]
  },
  {
   "cell_type": "code",
   "execution_count": 27,
   "metadata": {},
   "outputs": [
    {
     "data": {
      "text/html": [
       "<div>\n",
       "<style scoped>\n",
       "    .dataframe tbody tr th:only-of-type {\n",
       "        vertical-align: middle;\n",
       "    }\n",
       "\n",
       "    .dataframe tbody tr th {\n",
       "        vertical-align: top;\n",
       "    }\n",
       "\n",
       "    .dataframe thead th {\n",
       "        text-align: right;\n",
       "    }\n",
       "</style>\n",
       "<table border=\"1\" class=\"dataframe\">\n",
       "  <thead>\n",
       "    <tr style=\"text-align: right;\">\n",
       "      <th></th>\n",
       "      <th>lb</th>\n",
       "      <th>ub</th>\n",
       "      <th>rxn_flux</th>\n",
       "      <th>met_flux</th>\n",
       "      <th>reaction</th>\n",
       "    </tr>\n",
       "  </thead>\n",
       "  <tbody>\n",
       "    <tr>\n",
       "      <th>ADNt2_REV_BSU38710-MONOMER_s</th>\n",
       "      <td>0</td>\n",
       "      <td>999999</td>\n",
       "      <td>181.363</td>\n",
       "      <td>181.363</td>\n",
       "      <td>adn_s + h_s &lt;=&gt; -4.27350427350427e-6*sigma BSU...</td>\n",
       "    </tr>\n",
       "    <tr>\n",
       "      <th>MAN6Pt6_REV_BSU10520-MONOMER_s</th>\n",
       "      <td>0</td>\n",
       "      <td>999999</td>\n",
       "      <td>91.451</td>\n",
       "      <td>91.451</td>\n",
       "      <td>h_s + man6p_s &lt;=&gt; -4.27350427350427e-6*sigma B...</td>\n",
       "    </tr>\n",
       "    <tr>\n",
       "      <th>ATPS4r_FWD_CPLX000-10</th>\n",
       "      <td>0</td>\n",
       "      <td>999999</td>\n",
       "      <td>10.3809</td>\n",
       "      <td>31.1428</td>\n",
       "      <td>adp_c + 4.0 h_e + pi_c &lt;=&gt; -4.27350427350427e-...</td>\n",
       "    </tr>\n",
       "    <tr>\n",
       "      <th>GAPD_FWD_BSU33940-MONOMER</th>\n",
       "      <td>0</td>\n",
       "      <td>999999</td>\n",
       "      <td>2.62972</td>\n",
       "      <td>2.62972</td>\n",
       "      <td>g3p_c + nad_c + pi_c &lt;=&gt; 13dpg_c + -3.09634335...</td>\n",
       "    </tr>\n",
       "    <tr>\n",
       "      <th>SUCD5_BS_FWD_CPLX8J2-15</th>\n",
       "      <td>0</td>\n",
       "      <td>999999</td>\n",
       "      <td>0.980736</td>\n",
       "      <td>1.96147</td>\n",
       "      <td>fadh2_c + 2.0 h_e + mqn7_c &lt;=&gt; -1.278571786469...</td>\n",
       "    </tr>\n",
       "    <tr>\n",
       "      <th>PFK_FWD_BSU29190-MONOMER</th>\n",
       "      <td>0</td>\n",
       "      <td>999999</td>\n",
       "      <td>1.49912</td>\n",
       "      <td>1.49912</td>\n",
       "      <td>atp_c + f6p_c &lt;=&gt; -4.27350427350427e-6*sigma B...</td>\n",
       "    </tr>\n",
       "    <tr>\n",
       "      <th>MDH_FWD_BSU29120-MONOMER</th>\n",
       "      <td>0</td>\n",
       "      <td>999999</td>\n",
       "      <td>1.15295</td>\n",
       "      <td>1.15295</td>\n",
       "      <td>mal__L_c + nad_c &lt;=&gt; -1.93021378209842e-6*sigm...</td>\n",
       "    </tr>\n",
       "    <tr>\n",
       "      <th>CS_FWD_BSU29140-MONOMER</th>\n",
       "      <td>0</td>\n",
       "      <td>999999</td>\n",
       "      <td>1.14512</td>\n",
       "      <td>1.14512</td>\n",
       "      <td>accoa_c + h2o_c + oaa_c &lt;=&gt; -1.64233937725983e...</td>\n",
       "    </tr>\n",
       "    <tr>\n",
       "      <th>PPA_FWD_BSU40550-MONOMER</th>\n",
       "      <td>0</td>\n",
       "      <td>999999</td>\n",
       "      <td>0.803401</td>\n",
       "      <td>0.803401</td>\n",
       "      <td>h2o_c + ppi_c &lt;=&gt; -0.000101820379163072*sigma ...</td>\n",
       "    </tr>\n",
       "    <tr>\n",
       "      <th>HCO3E_FWD_BSU30690-MONOMER_mod_zn2</th>\n",
       "      <td>0</td>\n",
       "      <td>999999</td>\n",
       "      <td>0.417303</td>\n",
       "      <td>0.417303</td>\n",
       "      <td>co2_c + h2o_c &lt;=&gt; -3.32710184601155e-6*sigma B...</td>\n",
       "    </tr>\n",
       "  </tbody>\n",
       "</table>\n",
       "</div>"
      ],
      "text/plain": [
       "                                   lb      ub  rxn_flux  met_flux  \\\n",
       "ADNt2_REV_BSU38710-MONOMER_s        0  999999   181.363   181.363   \n",
       "MAN6Pt6_REV_BSU10520-MONOMER_s      0  999999    91.451    91.451   \n",
       "ATPS4r_FWD_CPLX000-10               0  999999   10.3809   31.1428   \n",
       "GAPD_FWD_BSU33940-MONOMER           0  999999   2.62972   2.62972   \n",
       "SUCD5_BS_FWD_CPLX8J2-15             0  999999  0.980736   1.96147   \n",
       "PFK_FWD_BSU29190-MONOMER            0  999999   1.49912   1.49912   \n",
       "MDH_FWD_BSU29120-MONOMER            0  999999   1.15295   1.15295   \n",
       "CS_FWD_BSU29140-MONOMER             0  999999   1.14512   1.14512   \n",
       "PPA_FWD_BSU40550-MONOMER            0  999999  0.803401  0.803401   \n",
       "HCO3E_FWD_BSU30690-MONOMER_mod_zn2  0  999999  0.417303  0.417303   \n",
       "\n",
       "                                                                             reaction  \n",
       "ADNt2_REV_BSU38710-MONOMER_s        adn_s + h_s <=> -4.27350427350427e-6*sigma BSU...  \n",
       "MAN6Pt6_REV_BSU10520-MONOMER_s      h_s + man6p_s <=> -4.27350427350427e-6*sigma B...  \n",
       "ATPS4r_FWD_CPLX000-10               adp_c + 4.0 h_e + pi_c <=> -4.27350427350427e-...  \n",
       "GAPD_FWD_BSU33940-MONOMER           g3p_c + nad_c + pi_c <=> 13dpg_c + -3.09634335...  \n",
       "SUCD5_BS_FWD_CPLX8J2-15             fadh2_c + 2.0 h_e + mqn7_c <=> -1.278571786469...  \n",
       "PFK_FWD_BSU29190-MONOMER            atp_c + f6p_c <=> -4.27350427350427e-6*sigma B...  \n",
       "MDH_FWD_BSU29120-MONOMER            mal__L_c + nad_c <=> -1.93021378209842e-6*sigm...  \n",
       "CS_FWD_BSU29140-MONOMER             accoa_c + h2o_c + oaa_c <=> -1.64233937725983e...  \n",
       "PPA_FWD_BSU40550-MONOMER            h2o_c + ppi_c <=> -0.000101820379163072*sigma ...  \n",
       "HCO3E_FWD_BSU30690-MONOMER_mod_zn2  co2_c + h2o_c <=> -3.32710184601155e-6*sigma B...  "
      ]
     },
     "execution_count": 27,
     "metadata": {},
     "output_type": "execute_result"
    }
   ],
   "source": [
    "met='h_c' \n",
    "flux_based_reactions(sporeme,met,flux_dict=flux_dict,only_types=['MetabolicReaction']).sort_values(by='met_flux',ascending=False).head(10)"
   ]
  },
  {
   "cell_type": "code",
   "execution_count": 33,
   "metadata": {},
   "outputs": [
    {
     "data": {
      "text/html": [
       "<div>\n",
       "<style scoped>\n",
       "    .dataframe tbody tr th:only-of-type {\n",
       "        vertical-align: middle;\n",
       "    }\n",
       "\n",
       "    .dataframe tbody tr th {\n",
       "        vertical-align: top;\n",
       "    }\n",
       "\n",
       "    .dataframe thead th {\n",
       "        text-align: right;\n",
       "    }\n",
       "</style>\n",
       "<table border=\"1\" class=\"dataframe\">\n",
       "  <thead>\n",
       "    <tr style=\"text-align: right;\">\n",
       "      <th></th>\n",
       "      <th>lb</th>\n",
       "      <th>ub</th>\n",
       "      <th>rxn_flux</th>\n",
       "      <th>met_flux</th>\n",
       "      <th>reaction</th>\n",
       "    </tr>\n",
       "  </thead>\n",
       "  <tbody>\n",
       "    <tr>\n",
       "      <th>3AMPt6_FWD_CPLX_dummy_s</th>\n",
       "      <td>0</td>\n",
       "      <td>999999</td>\n",
       "      <td>181.363</td>\n",
       "      <td>-181.363</td>\n",
       "      <td>3amp_c + h_c &lt;=&gt; 3amp_s + -4.27350427350427e-6...</td>\n",
       "    </tr>\n",
       "    <tr>\n",
       "      <th>3NUCLE1_REV_BSU07840-MONOMER</th>\n",
       "      <td>0</td>\n",
       "      <td>999999</td>\n",
       "      <td>181.363</td>\n",
       "      <td>181.363</td>\n",
       "      <td>adn_c + pi_c &lt;=&gt; 3amp_c + -4.27350427350427e-6...</td>\n",
       "    </tr>\n",
       "    <tr>\n",
       "      <th>3AMPt6_FWD_CPLX_dummy</th>\n",
       "      <td>0</td>\n",
       "      <td>999999</td>\n",
       "      <td>0</td>\n",
       "      <td>0</td>\n",
       "      <td>3amp_e + h_e &lt;=&gt; 3amp_c + -4.27350427350427e-6...</td>\n",
       "    </tr>\n",
       "    <tr>\n",
       "      <th>3AMPt6_REV_CPLX_dummy_s</th>\n",
       "      <td>0</td>\n",
       "      <td>999999</td>\n",
       "      <td>0</td>\n",
       "      <td>0</td>\n",
       "      <td>3amp_s + h_s &lt;=&gt; 3amp_c + -4.27350427350427e-6...</td>\n",
       "    </tr>\n",
       "    <tr>\n",
       "      <th>3AMPt6_REV_CPLX_dummy</th>\n",
       "      <td>0</td>\n",
       "      <td>999999</td>\n",
       "      <td>0</td>\n",
       "      <td>-0</td>\n",
       "      <td>3amp_c + h_c &lt;=&gt; 3amp_e + -4.27350427350427e-6...</td>\n",
       "    </tr>\n",
       "    <tr>\n",
       "      <th>23CN2P1_REV_BSU07840-MONOMER</th>\n",
       "      <td>0</td>\n",
       "      <td>999999</td>\n",
       "      <td>0</td>\n",
       "      <td>-0</td>\n",
       "      <td>3amp_c + h_c &lt;=&gt; 23camp_c + -4.27350427350427e...</td>\n",
       "    </tr>\n",
       "    <tr>\n",
       "      <th>23CN2P1_FWD_BSU07840-MONOMER</th>\n",
       "      <td>0</td>\n",
       "      <td>999999</td>\n",
       "      <td>0</td>\n",
       "      <td>0</td>\n",
       "      <td>23camp_c + h2o_c &lt;=&gt; 3amp_c + -4.2735042735042...</td>\n",
       "    </tr>\n",
       "    <tr>\n",
       "      <th>3NUCLE1_FWD_BSU07840-MONOMER</th>\n",
       "      <td>0</td>\n",
       "      <td>999999</td>\n",
       "      <td>0</td>\n",
       "      <td>-0</td>\n",
       "      <td>3amp_c + h2o_c &lt;=&gt; -4.27350427350427e-6*sigma ...</td>\n",
       "    </tr>\n",
       "  </tbody>\n",
       "</table>\n",
       "</div>"
      ],
      "text/plain": [
       "                             lb      ub rxn_flux met_flux  \\\n",
       "3AMPt6_FWD_CPLX_dummy_s       0  999999  181.363 -181.363   \n",
       "3NUCLE1_REV_BSU07840-MONOMER  0  999999  181.363  181.363   \n",
       "3AMPt6_FWD_CPLX_dummy         0  999999        0        0   \n",
       "3AMPt6_REV_CPLX_dummy_s       0  999999        0        0   \n",
       "3AMPt6_REV_CPLX_dummy         0  999999        0       -0   \n",
       "23CN2P1_REV_BSU07840-MONOMER  0  999999        0       -0   \n",
       "23CN2P1_FWD_BSU07840-MONOMER  0  999999        0        0   \n",
       "3NUCLE1_FWD_BSU07840-MONOMER  0  999999        0       -0   \n",
       "\n",
       "                                                                       reaction  \n",
       "3AMPt6_FWD_CPLX_dummy_s       3amp_c + h_c <=> 3amp_s + -4.27350427350427e-6...  \n",
       "3NUCLE1_REV_BSU07840-MONOMER  adn_c + pi_c <=> 3amp_c + -4.27350427350427e-6...  \n",
       "3AMPt6_FWD_CPLX_dummy         3amp_e + h_e <=> 3amp_c + -4.27350427350427e-6...  \n",
       "3AMPt6_REV_CPLX_dummy_s       3amp_s + h_s <=> 3amp_c + -4.27350427350427e-6...  \n",
       "3AMPt6_REV_CPLX_dummy         3amp_c + h_c <=> 3amp_e + -4.27350427350427e-6...  \n",
       "23CN2P1_REV_BSU07840-MONOMER  3amp_c + h_c <=> 23camp_c + -4.27350427350427e...  \n",
       "23CN2P1_FWD_BSU07840-MONOMER  23camp_c + h2o_c <=> 3amp_c + -4.2735042735042...  \n",
       "3NUCLE1_FWD_BSU07840-MONOMER  3amp_c + h2o_c <=> -4.27350427350427e-6*sigma ...  "
      ]
     },
     "execution_count": 33,
     "metadata": {},
     "output_type": "execute_result"
    }
   ],
   "source": [
    "met='3amp_c' \n",
    "flux_based_reactions(sporeme,met,flux_dict=flux_dict,only_types=['MetabolicReaction'])"
   ]
  },
  {
   "cell_type": "code",
   "execution_count": 135,
   "metadata": {},
   "outputs": [
    {
     "data": {
      "text/plain": [
       "'adp_s + h_s + pep_s <=> -7.24069444255906e-7*sigma BSU29180-MONOMER_mod_mn2_mod_k_s + atp_s + pyr_s'"
      ]
     },
     "execution_count": 135,
     "metadata": {},
     "output_type": "execute_result"
    }
   ],
   "source": [
    "sporeme.reactions.get_by_id('PYK_FWD_BSU29180-MONOMER_mod_mn2_mod_k_s').reaction"
   ]
  },
  {
   "cell_type": "code",
   "execution_count": 29,
   "metadata": {},
   "outputs": [],
   "source": [
    "met='pep_s' # ATP production and glucose uptake\n",
    "flux_based_reactions(sporeme,met,flux_dict=flux_dict,only_types=['MetabolicReaction']).to_csv('metabolite_cases/{}.csv'.format(met[:-2]))"
   ]
  },
  {
   "cell_type": "code",
   "execution_count": 14,
   "metadata": {},
   "outputs": [],
   "source": [
    "met='cit_s'\n",
    "flux_based_reactions(sporeme,met,flux_dict=flux_dict,only_types=['MetabolicReaction']).to_csv('metabolite_cases/{}.csv'.format(met[:-2]))"
   ]
  },
  {
   "cell_type": "code",
   "execution_count": 15,
   "metadata": {},
   "outputs": [],
   "source": [
    "met='met__L_s' # Protein synthesis\n",
    "flux_based_reactions(sporeme,met,flux_dict=flux_dict,only_types=['MetabolicReaction']).to_csv('metabolite_cases/{}.csv'.format(met[:-2]))"
   ]
  },
  {
   "cell_type": "code",
   "execution_count": 94,
   "metadata": {},
   "outputs": [
    {
     "data": {
      "text/html": [
       "<div>\n",
       "<style scoped>\n",
       "    .dataframe tbody tr th:only-of-type {\n",
       "        vertical-align: middle;\n",
       "    }\n",
       "\n",
       "    .dataframe tbody tr th {\n",
       "        vertical-align: top;\n",
       "    }\n",
       "\n",
       "    .dataframe thead th {\n",
       "        text-align: right;\n",
       "    }\n",
       "</style>\n",
       "<table border=\"1\" class=\"dataframe\">\n",
       "  <thead>\n",
       "    <tr style=\"text-align: right;\">\n",
       "      <th></th>\n",
       "      <th>lb</th>\n",
       "      <th>ub</th>\n",
       "      <th>rxn_flux</th>\n",
       "      <th>met_flux</th>\n",
       "      <th>reaction</th>\n",
       "    </tr>\n",
       "  </thead>\n",
       "  <tbody>\n",
       "    <tr>\n",
       "      <th>SADT_FWD_BSU15590-MONOMER_s</th>\n",
       "      <td>0</td>\n",
       "      <td>999999</td>\n",
       "      <td>0.0158481</td>\n",
       "      <td>-0.0158481</td>\n",
       "      <td>atp_s + h_s + so4_s &lt;=&gt; -4.27350427350427e-6*s...</td>\n",
       "    </tr>\n",
       "    <tr>\n",
       "      <th>SO4t2_FWD_BSU15580-MONOMER_s</th>\n",
       "      <td>0</td>\n",
       "      <td>999999</td>\n",
       "      <td>0.0158481</td>\n",
       "      <td>0.0158481</td>\n",
       "      <td>h_c + so4_c &lt;=&gt; -4.27350427350427e-6*sigma BSU...</td>\n",
       "    </tr>\n",
       "    <tr>\n",
       "      <th>SO4t2_FWD_BSU34660-MONOMER_s</th>\n",
       "      <td>0</td>\n",
       "      <td>999999</td>\n",
       "      <td>0</td>\n",
       "      <td>0</td>\n",
       "      <td>h_c + so4_c &lt;=&gt; -6.86674718898359e-5*sigma BSU...</td>\n",
       "    </tr>\n",
       "    <tr>\n",
       "      <th>SADT_REV_BSU15590-MONOMER_s</th>\n",
       "      <td>0</td>\n",
       "      <td>999999</td>\n",
       "      <td>0</td>\n",
       "      <td>0</td>\n",
       "      <td>aps_s + ppi_s &lt;=&gt; -4.27350427350427e-6*sigma B...</td>\n",
       "    </tr>\n",
       "    <tr>\n",
       "      <th>SO4t2_FWD_BSU01580-MONOMER_s</th>\n",
       "      <td>0</td>\n",
       "      <td>999999</td>\n",
       "      <td>0</td>\n",
       "      <td>0</td>\n",
       "      <td>h_c + so4_c &lt;=&gt; -4.27350427350427e-6*sigma BSU...</td>\n",
       "    </tr>\n",
       "  </tbody>\n",
       "</table>\n",
       "</div>"
      ],
      "text/plain": [
       "                             lb      ub   rxn_flux   met_flux  \\\n",
       "SADT_FWD_BSU15590-MONOMER_s   0  999999  0.0158481 -0.0158481   \n",
       "SO4t2_FWD_BSU15580-MONOMER_s  0  999999  0.0158481  0.0158481   \n",
       "SO4t2_FWD_BSU34660-MONOMER_s  0  999999          0          0   \n",
       "SADT_REV_BSU15590-MONOMER_s   0  999999          0          0   \n",
       "SO4t2_FWD_BSU01580-MONOMER_s  0  999999          0          0   \n",
       "\n",
       "                                                                       reaction  \n",
       "SADT_FWD_BSU15590-MONOMER_s   atp_s + h_s + so4_s <=> -4.27350427350427e-6*s...  \n",
       "SO4t2_FWD_BSU15580-MONOMER_s  h_c + so4_c <=> -4.27350427350427e-6*sigma BSU...  \n",
       "SO4t2_FWD_BSU34660-MONOMER_s  h_c + so4_c <=> -6.86674718898359e-5*sigma BSU...  \n",
       "SADT_REV_BSU15590-MONOMER_s   aps_s + ppi_s <=> -4.27350427350427e-6*sigma B...  \n",
       "SO4t2_FWD_BSU01580-MONOMER_s  h_c + so4_c <=> -4.27350427350427e-6*sigma BSU...  "
      ]
     },
     "execution_count": 94,
     "metadata": {},
     "output_type": "execute_result"
    }
   ],
   "source": [
    "met='so4_s' # Protein synthesis\n",
    "flux_based_reactions(sporeme,met,flux_dict=flux_dict,only_types=['MetabolicReaction'])"
   ]
  },
  {
   "cell_type": "code",
   "execution_count": 95,
   "metadata": {},
   "outputs": [
    {
     "data": {
      "text/html": [
       "<div>\n",
       "<style scoped>\n",
       "    .dataframe tbody tr th:only-of-type {\n",
       "        vertical-align: middle;\n",
       "    }\n",
       "\n",
       "    .dataframe tbody tr th {\n",
       "        vertical-align: top;\n",
       "    }\n",
       "\n",
       "    .dataframe thead th {\n",
       "        text-align: right;\n",
       "    }\n",
       "</style>\n",
       "<table border=\"1\" class=\"dataframe\">\n",
       "  <thead>\n",
       "    <tr style=\"text-align: right;\">\n",
       "      <th></th>\n",
       "      <th>lb</th>\n",
       "      <th>ub</th>\n",
       "      <th>rxn_flux</th>\n",
       "      <th>met_flux</th>\n",
       "      <th>reaction</th>\n",
       "    </tr>\n",
       "  </thead>\n",
       "  <tbody>\n",
       "    <tr>\n",
       "      <th>BTDt6_RR_FWD_CPLX_dummy</th>\n",
       "      <td>0</td>\n",
       "      <td>999999</td>\n",
       "      <td>0</td>\n",
       "      <td>0</td>\n",
       "      <td>btd_RR_e + h_e &lt;=&gt; -4.27350427350427e-6*sigma ...</td>\n",
       "    </tr>\n",
       "    <tr>\n",
       "      <th>BTDD_RR_REV_BSU06240-MONOMER</th>\n",
       "      <td>0</td>\n",
       "      <td>999999</td>\n",
       "      <td>0</td>\n",
       "      <td>0</td>\n",
       "      <td>actn__R_c + h_c + nadh_c &lt;=&gt; -3.00246548499129...</td>\n",
       "    </tr>\n",
       "    <tr>\n",
       "      <th>BTDt6_RR_REV_CPLX_dummy</th>\n",
       "      <td>0</td>\n",
       "      <td>999999</td>\n",
       "      <td>0</td>\n",
       "      <td>-0</td>\n",
       "      <td>btd_RR_c + h_c &lt;=&gt; -4.27350427350427e-6*sigma ...</td>\n",
       "    </tr>\n",
       "    <tr>\n",
       "      <th>BTDt6_RR_FWD_CPLX_dummy_s</th>\n",
       "      <td>0</td>\n",
       "      <td>999999</td>\n",
       "      <td>0</td>\n",
       "      <td>-0</td>\n",
       "      <td>btd_RR_c + h_c &lt;=&gt; -4.27350427350427e-6*sigma ...</td>\n",
       "    </tr>\n",
       "    <tr>\n",
       "      <th>BTDD_RR_FWD_BSU06240-MONOMER</th>\n",
       "      <td>0</td>\n",
       "      <td>999999</td>\n",
       "      <td>0</td>\n",
       "      <td>-0</td>\n",
       "      <td>btd_RR_c + nad_c &lt;=&gt; -3.00246548499129e-6*sigm...</td>\n",
       "    </tr>\n",
       "    <tr>\n",
       "      <th>BTDt6_RR_REV_CPLX_dummy_s</th>\n",
       "      <td>0</td>\n",
       "      <td>999999</td>\n",
       "      <td>0</td>\n",
       "      <td>0</td>\n",
       "      <td>btd_RR_s + h_s &lt;=&gt; -4.27350427350427e-6*sigma ...</td>\n",
       "    </tr>\n",
       "  </tbody>\n",
       "</table>\n",
       "</div>"
      ],
      "text/plain": [
       "                             lb      ub rxn_flux met_flux  \\\n",
       "BTDt6_RR_FWD_CPLX_dummy       0  999999        0        0   \n",
       "BTDD_RR_REV_BSU06240-MONOMER  0  999999        0        0   \n",
       "BTDt6_RR_REV_CPLX_dummy       0  999999        0       -0   \n",
       "BTDt6_RR_FWD_CPLX_dummy_s     0  999999        0       -0   \n",
       "BTDD_RR_FWD_BSU06240-MONOMER  0  999999        0       -0   \n",
       "BTDt6_RR_REV_CPLX_dummy_s     0  999999        0        0   \n",
       "\n",
       "                                                                       reaction  \n",
       "BTDt6_RR_FWD_CPLX_dummy       btd_RR_e + h_e <=> -4.27350427350427e-6*sigma ...  \n",
       "BTDD_RR_REV_BSU06240-MONOMER  actn__R_c + h_c + nadh_c <=> -3.00246548499129...  \n",
       "BTDt6_RR_REV_CPLX_dummy       btd_RR_c + h_c <=> -4.27350427350427e-6*sigma ...  \n",
       "BTDt6_RR_FWD_CPLX_dummy_s     btd_RR_c + h_c <=> -4.27350427350427e-6*sigma ...  \n",
       "BTDD_RR_FWD_BSU06240-MONOMER  btd_RR_c + nad_c <=> -3.00246548499129e-6*sigm...  \n",
       "BTDt6_RR_REV_CPLX_dummy_s     btd_RR_s + h_s <=> -4.27350427350427e-6*sigma ...  "
      ]
     },
     "execution_count": 95,
     "metadata": {},
     "output_type": "execute_result"
    }
   ],
   "source": [
    "met='btd_RR_c' # Ornithine synthesis, ArgSuc synthesis\n",
    "flux_based_reactions(sporeme,met,flux_dict=flux_dict,only_types=['MetabolicReaction'])"
   ]
  },
  {
   "cell_type": "code",
   "execution_count": 36,
   "metadata": {},
   "outputs": [],
   "source": [
    "met='argsuc_s' # Citruline synthesis.  Urea cycle and the synthesis of pyrimidines: nucleotide synthesis\n",
    "flux_based_reactions(sporeme,met,flux_dict=flux_dict,only_types=['MetabolicReaction']).to_csv('metabolite_cases/{}.csv'.format(met[:-2]))"
   ]
  },
  {
   "cell_type": "code",
   "execution_count": 37,
   "metadata": {},
   "outputs": [],
   "source": [
    "met='citr__L_s' # Carbamoyl phosphate and ornithine synthesis.  Urea cycle and the synthesis of pyrimidines: nucleotide synthesis\n",
    "flux_based_reactions(sporeme,met,flux_dict=flux_dict,only_types=['MetabolicReaction']).to_csv('metabolite_cases/{}.csv'.format(met[:-2]))"
   ]
  },
  {
   "cell_type": "code",
   "execution_count": 21,
   "metadata": {},
   "outputs": [],
   "source": [
    "met='pser__L_s' # Glutamate synthesis\n",
    "flux_based_reactions(sporeme,met,flux_dict=flux_dict,only_types=['MetabolicReaction']).to_csv('metabolite_cases/{}.csv'.format(met[:-2]))"
   ]
  },
  {
   "cell_type": "code",
   "execution_count": 22,
   "metadata": {},
   "outputs": [],
   "source": [
    "met='asp__L_s' # Production of 4asp\n",
    "flux_based_reactions(sporeme,met,flux_dict=flux_dict,only_types=['MetabolicReaction']).to_csv('metabolite_cases/{}.csv'.format(met[:-2]))"
   ]
  },
  {
   "cell_type": "code",
   "execution_count": 23,
   "metadata": {},
   "outputs": [],
   "source": [
    "met='gmp_s' # Nucleotide synthesis\n",
    "flux_based_reactions(sporeme,met,flux_dict=flux_dict,only_types=['MetabolicReaction']).to_csv('metabolite_cases/{}.csv'.format(met[:-2]))"
   ]
  },
  {
   "cell_type": "code",
   "execution_count": 24,
   "metadata": {},
   "outputs": [],
   "source": [
    "met='acnam_s' # A fraction of PEP_s requirement in the spore\n",
    "flux_based_reactions(sporeme,met,flux_dict=flux_dict,only_types=['MetabolicReaction']).to_csv('metabolite_cases/{}.csv'.format(met[:-2]))"
   ]
  },
  {
   "cell_type": "code",
   "execution_count": 27,
   "metadata": {},
   "outputs": [],
   "source": [
    "met='3amp_s' # Pumping phosporus Pi C->S. Pi is used to pump Fructose C->S\n",
    "flux_based_reactions(sporeme,met,flux_dict=flux_dict,only_types=['MetabolicReaction']).to_csv('metabolite_cases/{}.csv'.format(met[:-2]))"
   ]
  },
  {
   "cell_type": "code",
   "execution_count": 29,
   "metadata": {},
   "outputs": [],
   "source": [
    "met='f6p_s' # \n",
    "flux_based_reactions(sporeme,met,flux_dict=flux_dict,only_types=['MetabolicReaction']).to_csv('metabolite_cases/{}.csv'.format(met[:-2]))"
   ]
  },
  {
   "cell_type": "code",
   "execution_count": 30,
   "metadata": {},
   "outputs": [],
   "source": [
    "met='man6p_s' #\n",
    "flux_based_reactions(sporeme,met,flux_dict=flux_dict,only_types=['MetabolicReaction']).to_csv('metabolite_cases/{}.csv'.format(met[:-2]))"
   ]
  },
  {
   "cell_type": "code",
   "execution_count": 34,
   "metadata": {},
   "outputs": [],
   "source": [
    "met='h_s' # \n",
    "flux_based_reactions(sporeme,met,flux_dict=flux_dict,only_types=['MetabolicReaction']).to_csv('metabolite_cases/{}.csv'.format(met[:-2]))"
   ]
  },
  {
   "cell_type": "code",
   "execution_count": 71,
   "metadata": {},
   "outputs": [
    {
     "data": {
      "text/html": [
       "<div>\n",
       "<style scoped>\n",
       "    .dataframe tbody tr th:only-of-type {\n",
       "        vertical-align: middle;\n",
       "    }\n",
       "\n",
       "    .dataframe tbody tr th {\n",
       "        vertical-align: top;\n",
       "    }\n",
       "\n",
       "    .dataframe thead th {\n",
       "        text-align: right;\n",
       "    }\n",
       "</style>\n",
       "<table border=\"1\" class=\"dataframe\">\n",
       "  <thead>\n",
       "    <tr style=\"text-align: right;\">\n",
       "      <th></th>\n",
       "      <th>lb</th>\n",
       "      <th>ub</th>\n",
       "      <th>rxn_flux</th>\n",
       "      <th>met_flux</th>\n",
       "      <th>reaction</th>\n",
       "    </tr>\n",
       "  </thead>\n",
       "  <tbody>\n",
       "    <tr>\n",
       "      <th>F6Pt6_2_FWD_BSU12010-MONOMER_s</th>\n",
       "      <td>0</td>\n",
       "      <td>999999</td>\n",
       "      <td>90.4033</td>\n",
       "      <td>-180.807</td>\n",
       "      <td>f6p_c + 2.0 pi_s &lt;=&gt; -4.27350427350427e-6*sigm...</td>\n",
       "    </tr>\n",
       "    <tr>\n",
       "      <th>3NUCLE1_FWD_BSU07840-MONOMER_s</th>\n",
       "      <td>0</td>\n",
       "      <td>999999</td>\n",
       "      <td>179.642</td>\n",
       "      <td>179.642</td>\n",
       "      <td>3amp_s + h2o_s &lt;=&gt; -4.27350427350427e-6*sigma ...</td>\n",
       "    </tr>\n",
       "    <tr>\n",
       "      <th>ATPS4r_FWD_CPLX000-10_s</th>\n",
       "      <td>0</td>\n",
       "      <td>999999</td>\n",
       "      <td>23.0471</td>\n",
       "      <td>-23.0471</td>\n",
       "      <td>adp_s + 4.0 h_c + pi_s &lt;=&gt; -4.27350427350427e-...</td>\n",
       "    </tr>\n",
       "    <tr>\n",
       "      <th>PPA_FWD_BSU40550-MONOMER_s</th>\n",
       "      <td>0</td>\n",
       "      <td>999999</td>\n",
       "      <td>0.769643</td>\n",
       "      <td>1.53929</td>\n",
       "      <td>h2o_s + ppi_s &lt;=&gt; -0.000101820379163072*sigma ...</td>\n",
       "    </tr>\n",
       "    <tr>\n",
       "      <th>ACCOAC_FWD_CPLX000-1_s</th>\n",
       "      <td>0</td>\n",
       "      <td>999999</td>\n",
       "      <td>0.168744</td>\n",
       "      <td>0.168744</td>\n",
       "      <td>accoa_s + atp_s + hco3_s &lt;=&gt; -4.27350427350427...</td>\n",
       "    </tr>\n",
       "    <tr>\n",
       "      <th>...</th>\n",
       "      <td>...</td>\n",
       "      <td>...</td>\n",
       "      <td>...</td>\n",
       "      <td>...</td>\n",
       "      <td>...</td>\n",
       "    </tr>\n",
       "    <tr>\n",
       "      <th>OCBT_1_FWD_BSU11250-MONOMER_s</th>\n",
       "      <td>0</td>\n",
       "      <td>999999</td>\n",
       "      <td>0</td>\n",
       "      <td>0</td>\n",
       "      <td>cbp_s + orn__L_s &lt;=&gt; -1.39331395579107e-5*sigm...</td>\n",
       "    </tr>\n",
       "    <tr>\n",
       "      <th>LANTHabc_FWD_CPLX_dummy_s</th>\n",
       "      <td>0</td>\n",
       "      <td>999999</td>\n",
       "      <td>0</td>\n",
       "      <td>0</td>\n",
       "      <td>atp_s + h2o_s + lanth_c &lt;=&gt; -4.27350427350427e...</td>\n",
       "    </tr>\n",
       "    <tr>\n",
       "      <th>MALTTRabc_FWD_CPLX_dummy_s</th>\n",
       "      <td>0</td>\n",
       "      <td>999999</td>\n",
       "      <td>0</td>\n",
       "      <td>0</td>\n",
       "      <td>atp_s + h2o_s + malttr_c &lt;=&gt; -4.27350427350427...</td>\n",
       "    </tr>\n",
       "    <tr>\n",
       "      <th>MSO3abc_FWD_CPLX8J2-74_s</th>\n",
       "      <td>0</td>\n",
       "      <td>999999</td>\n",
       "      <td>0</td>\n",
       "      <td>0</td>\n",
       "      <td>atp_s + h2o_s + mso3_c &lt;=&gt; -4.27350427350427e-...</td>\n",
       "    </tr>\n",
       "    <tr>\n",
       "      <th>ETHSabc_FWD_CPLX8J2-74_s</th>\n",
       "      <td>0</td>\n",
       "      <td>999999</td>\n",
       "      <td>0</td>\n",
       "      <td>0</td>\n",
       "      <td>atp_s + eths_c + h2o_s &lt;=&gt; -4.27350427350427e-...</td>\n",
       "    </tr>\n",
       "  </tbody>\n",
       "</table>\n",
       "<p>281 rows × 5 columns</p>\n",
       "</div>"
      ],
      "text/plain": [
       "                               lb      ub  rxn_flux  met_flux  \\\n",
       "F6Pt6_2_FWD_BSU12010-MONOMER_s  0  999999   90.4033  -180.807   \n",
       "3NUCLE1_FWD_BSU07840-MONOMER_s  0  999999   179.642   179.642   \n",
       "ATPS4r_FWD_CPLX000-10_s         0  999999   23.0471  -23.0471   \n",
       "PPA_FWD_BSU40550-MONOMER_s      0  999999  0.769643   1.53929   \n",
       "ACCOAC_FWD_CPLX000-1_s          0  999999  0.168744  0.168744   \n",
       "...                            ..     ...       ...       ...   \n",
       "OCBT_1_FWD_BSU11250-MONOMER_s   0  999999         0         0   \n",
       "LANTHabc_FWD_CPLX_dummy_s       0  999999         0         0   \n",
       "MALTTRabc_FWD_CPLX_dummy_s      0  999999         0         0   \n",
       "MSO3abc_FWD_CPLX8J2-74_s        0  999999         0         0   \n",
       "ETHSabc_FWD_CPLX8J2-74_s        0  999999         0         0   \n",
       "\n",
       "                                                                         reaction  \n",
       "F6Pt6_2_FWD_BSU12010-MONOMER_s  f6p_c + 2.0 pi_s <=> -4.27350427350427e-6*sigm...  \n",
       "3NUCLE1_FWD_BSU07840-MONOMER_s  3amp_s + h2o_s <=> -4.27350427350427e-6*sigma ...  \n",
       "ATPS4r_FWD_CPLX000-10_s         adp_s + 4.0 h_c + pi_s <=> -4.27350427350427e-...  \n",
       "PPA_FWD_BSU40550-MONOMER_s      h2o_s + ppi_s <=> -0.000101820379163072*sigma ...  \n",
       "ACCOAC_FWD_CPLX000-1_s          accoa_s + atp_s + hco3_s <=> -4.27350427350427...  \n",
       "...                                                                           ...  \n",
       "OCBT_1_FWD_BSU11250-MONOMER_s   cbp_s + orn__L_s <=> -1.39331395579107e-5*sigm...  \n",
       "LANTHabc_FWD_CPLX_dummy_s       atp_s + h2o_s + lanth_c <=> -4.27350427350427e...  \n",
       "MALTTRabc_FWD_CPLX_dummy_s      atp_s + h2o_s + malttr_c <=> -4.27350427350427...  \n",
       "MSO3abc_FWD_CPLX8J2-74_s        atp_s + h2o_s + mso3_c <=> -4.27350427350427e-...  \n",
       "ETHSabc_FWD_CPLX8J2-74_s        atp_s + eths_c + h2o_s <=> -4.27350427350427e-...  \n",
       "\n",
       "[281 rows x 5 columns]"
      ]
     },
     "execution_count": 71,
     "metadata": {},
     "output_type": "execute_result"
    }
   ],
   "source": [
    "met='pi_s' # \n",
    "flux_based_reactions(sporeme,met,flux_dict=flux_dict,only_types=['MetabolicReaction'])"
   ]
  },
  {
   "cell_type": "code",
   "execution_count": 64,
   "metadata": {},
   "outputs": [
    {
     "data": {
      "text/plain": [
       "'3amp_c + h_c <=> 3amp_s + -4.27350427350427e-6*sigma CPLX_dummy_s + h_s'"
      ]
     },
     "execution_count": 64,
     "metadata": {},
     "output_type": "execute_result"
    }
   ],
   "source": [
    "sporeme.reactions.get_by_id('3AMPt6_FWD_CPLX_dummy_s').reaction"
   ]
  },
  {
   "cell_type": "code",
   "execution_count": 66,
   "metadata": {},
   "outputs": [
    {
     "data": {
      "text/plain": [
       "'3amp_s + h2o_s <=> -4.27350427350427e-6*sigma BSU07840-MONOMER_s + adn_s + pi_s'"
      ]
     },
     "execution_count": 66,
     "metadata": {},
     "output_type": "execute_result"
    }
   ],
   "source": [
    "sporeme.reactions.get_by_id('3NUCLE1_FWD_BSU07840-MONOMER_s').reaction"
   ]
  },
  {
   "cell_type": "code",
   "execution_count": 68,
   "metadata": {},
   "outputs": [
    {
     "data": {
      "text/plain": [
       "'adn_s + h_s <=> -4.27350427350427e-6*sigma BSU38710-MONOMER_s + adn_c + h_c'"
      ]
     },
     "execution_count": 68,
     "metadata": {},
     "output_type": "execute_result"
    }
   ],
   "source": [
    "sporeme.reactions.get_by_id('ADNt2_REV_BSU38710-MONOMER_s').reaction"
   ]
  },
  {
   "cell_type": "code",
   "execution_count": 70,
   "metadata": {},
   "outputs": [
    {
     "data": {
      "text/plain": [
       "'adn_c + pi_c <=> 3amp_c + -4.27350427350427e-6*sigma BSU07840-MONOMER + h2o_c'"
      ]
     },
     "execution_count": 70,
     "metadata": {},
     "output_type": "execute_result"
    }
   ],
   "source": [
    "sporeme.reactions.get_by_id('3NUCLE1_REV_BSU07840-MONOMER').reaction"
   ]
  },
  {
   "cell_type": "code",
   "execution_count": 122,
   "metadata": {},
   "outputs": [
    {
     "data": {
      "text/plain": [
       "'6-Phospho-D-gluconate'"
      ]
     },
     "execution_count": 122,
     "metadata": {},
     "output_type": "execute_result"
    }
   ],
   "source": [
    "sporeme.metabolites.get_by_id('6pgc_s').name"
   ]
  },
  {
   "cell_type": "code",
   "execution_count": 26,
   "metadata": {},
   "outputs": [],
   "source": [
    "met='adn_s' #\n",
    "flux_based_reactions(sporeme,met,flux_dict=flux_dict,only_types=['MetabolicReaction']).to_csv('metabolite_cases/{}.csv'.format(met[:-2]))"
   ]
  },
  {
   "cell_type": "code",
   "execution_count": 28,
   "metadata": {},
   "outputs": [],
   "source": [
    "met='pi_s' #\n",
    "flux_based_reactions(sporeme,met,flux_dict=flux_dict,only_types=['MetabolicReaction']).to_csv('metabolite_cases/{}.csv'.format(met[:-2]))"
   ]
  },
  {
   "cell_type": "code",
   "execution_count": 51,
   "metadata": {},
   "outputs": [],
   "source": [
    "met='leu__L_s' # \n",
    "flux_based_reactions(sporeme,met,flux_dict=flux_dict,only_types=['MetabolicReaction']).to_csv('metabolite_cases/{}.csv'.format(met[:-2]))"
   ]
  },
  {
   "cell_type": "code",
   "execution_count": null,
   "metadata": {},
   "outputs": [],
   "source": [
    "met='glu__L_s' # \n",
    "flux_based_reactions(sporeme,met,flux_dict=flux_dict,only_types=['MetabolicReaction']).to_csv('metabolite_cases/{}.csv'.format(met[:-2]))"
   ]
  },
  {
   "cell_type": "code",
   "execution_count": 53,
   "metadata": {},
   "outputs": [],
   "source": [
    "met='orn__L_s' # \n",
    "flux_based_reactions(sporeme,met,flux_dict=flux_dict,only_types=['MetabolicReaction']).to_csv('metabolite_cases/{}.csv'.format(met[:-2]))"
   ]
  },
  {
   "cell_type": "markdown",
   "metadata": {},
   "source": [
    "#### Pairwise interaction"
   ]
  },
  {
   "cell_type": "code",
   "execution_count": 96,
   "metadata": {
    "scrolled": true
   },
   "outputs": [],
   "source": [
    "with open(\"./sporeme_solution.pickle\", \"rb\") as outfile:\n",
    "    sporeme = pickle.load(outfile)"
   ]
  },
  {
   "cell_type": "code",
   "execution_count": 97,
   "metadata": {},
   "outputs": [],
   "source": [
    "for r in transport_reactions:\n",
    "    if r not in essential_transporters and 'SPONT' not in r:\n",
    "        rxn = sporeme.reactions.get_by_id(r)\n",
    "        rxn.upper_bound = 0 \n",
    "        rxn.lower_bound = 0"
   ]
  },
  {
   "cell_type": "code",
   "execution_count": 98,
   "metadata": {},
   "outputs": [],
   "source": [
    "flux_results_df = pd.read_csv('essential_metabolite_group_KO.csv',index_col=0)\n",
    "essential_metabolites = flux_results_df.drop('base',axis=1).columns.values\n",
    "base_model = copy.deepcopy(sporeme)"
   ]
  },
  {
   "cell_type": "code",
   "execution_count": 99,
   "metadata": {},
   "outputs": [
    {
     "name": "stdout",
     "output_type": "stream",
     "text": [
      "With 21 knockouts there can be 210.0 pairs\n"
     ]
    }
   ],
   "source": [
    "from scipy.special import binom\n",
    "print('With {} knockouts there can be {} pairs'.format(len(essential_metabolites),binom(len(essential_metabolites),2)))"
   ]
  },
  {
   "cell_type": "code",
   "execution_count": null,
   "metadata": {
    "scrolled": true
   },
   "outputs": [
    {
     "name": "stdout",
     "output_type": "stream",
     "text": [
      "Chosen change function: group_knockout      Sequential = False\n"
     ]
    },
    {
     "name": "stderr",
     "output_type": "stream",
     "text": [
      "\n",
      "\n",
      "\n",
      "\n",
      "\n",
      "\n",
      "\n",
      "\n",
      "\n",
      "\n",
      "\n",
      "\n",
      "\n",
      "\n",
      "\n",
      "\n",
      "\n",
      "\n",
      "\n",
      "\n",
      "\n",
      "\n",
      "  0%|          | 0/21 [00:00<?, ?it/s]\u001b[A\u001b[A\u001b[A\u001b[A\u001b[A\u001b[A\u001b[A\u001b[A\u001b[A\u001b[A\u001b[A\u001b[A\u001b[A\u001b[A\u001b[A\u001b[A\u001b[A\u001b[A\u001b[A\u001b[A\u001b[A\u001b[A\n",
      "\n",
      "\n",
      "\n",
      "\n",
      "\n",
      "\n",
      "\n",
      "\n",
      "\n",
      "\n",
      "\n",
      "\n",
      "\n",
      "\n",
      "\n",
      "\n",
      "\n",
      "\n",
      "\n",
      "\n",
      "\n",
      "biomass_dilution_s response (20 threads):   0%|          | 0/21 [00:00<?, ?it/s]\u001b[A\u001b[A\u001b[A\u001b[A\u001b[A\u001b[A\u001b[A\u001b[A\u001b[A\u001b[A\u001b[A\u001b[A\u001b[A\u001b[A\u001b[A\u001b[A\u001b[A\u001b[A\u001b[A\u001b[A\u001b[A\u001b[A"
     ]
    }
   ],
   "source": [
    "from bacillusme.analysis import sensitivity as ss\n",
    "for met in essential_metabolites:\n",
    "    # Restore\n",
    "    sporeme = copy.deepcopy(base_model)\n",
    "    \n",
    "    # Close transporter\n",
    "    for r in at_dict[met]:\n",
    "        rxn = sporeme.reactions.get_by_id(r)\n",
    "        rxn.lower_bound = 0\n",
    "        rxn.upper_bound = 0\n",
    "    \n",
    "    # Calculation\n",
    "    flux_results_df = ss.transporter_knockout(sporeme,essential_metabolites, \\\n",
    "                                        NP=20,solution=1,biomass_dilution='biomass_dilution_s',\\\n",
    "                                        growth_key = 'sigma',single_change_function='group_knockout')\n",
    "    flux_results_df.to_csv('group_transporter_knockouts/{}.csv'.format(met))"
   ]
  },
  {
   "cell_type": "code",
   "execution_count": 102,
   "metadata": {},
   "outputs": [
    {
     "data": {
      "text/html": [
       "<div>\n",
       "<style scoped>\n",
       "    .dataframe tbody tr th:only-of-type {\n",
       "        vertical-align: middle;\n",
       "    }\n",
       "\n",
       "    .dataframe tbody tr th {\n",
       "        vertical-align: top;\n",
       "    }\n",
       "\n",
       "    .dataframe thead th {\n",
       "        text-align: right;\n",
       "    }\n",
       "</style>\n",
       "<table border=\"1\" class=\"dataframe\">\n",
       "  <thead>\n",
       "    <tr style=\"text-align: right;\">\n",
       "      <th></th>\n",
       "      <th>base</th>\n",
       "      <th>arg__L_s</th>\n",
       "      <th>zn2_s</th>\n",
       "      <th>so4_s</th>\n",
       "      <th>acnam_s</th>\n",
       "      <th>pser__L_s</th>\n",
       "      <th>6pgc_s</th>\n",
       "      <th>asp__L_s</th>\n",
       "      <th>k_s</th>\n",
       "      <th>gmp_s</th>\n",
       "      <th>...</th>\n",
       "      <th>pyr_c</th>\n",
       "      <th>cbl1_s</th>\n",
       "      <th>mg2_s</th>\n",
       "      <th>pi_c</th>\n",
       "      <th>3amp_s</th>\n",
       "      <th>adn_c</th>\n",
       "      <th>man6p_c</th>\n",
       "      <th>mn2_s</th>\n",
       "      <th>f6p_s</th>\n",
       "      <th>met__L_c</th>\n",
       "    </tr>\n",
       "  </thead>\n",
       "  <tbody>\n",
       "    <tr>\n",
       "      <th>biomass_dilution</th>\n",
       "      <td>0.046832</td>\n",
       "      <td>0.0</td>\n",
       "      <td>0.0</td>\n",
       "      <td>0.0</td>\n",
       "      <td>0.0</td>\n",
       "      <td>0.0</td>\n",
       "      <td>0.0</td>\n",
       "      <td>0.0</td>\n",
       "      <td>0.0</td>\n",
       "      <td>0.0</td>\n",
       "      <td>...</td>\n",
       "      <td>0.0</td>\n",
       "      <td>0.0</td>\n",
       "      <td>0.0</td>\n",
       "      <td>0.0</td>\n",
       "      <td>0.0</td>\n",
       "      <td>0.0</td>\n",
       "      <td>0.0</td>\n",
       "      <td>0.0</td>\n",
       "      <td>0.0</td>\n",
       "      <td>0.0</td>\n",
       "    </tr>\n",
       "    <tr>\n",
       "      <th>protein_biomass_to_biomass</th>\n",
       "      <td>0.026954</td>\n",
       "      <td>0.0</td>\n",
       "      <td>0.0</td>\n",
       "      <td>0.0</td>\n",
       "      <td>0.0</td>\n",
       "      <td>0.0</td>\n",
       "      <td>0.0</td>\n",
       "      <td>0.0</td>\n",
       "      <td>0.0</td>\n",
       "      <td>0.0</td>\n",
       "      <td>...</td>\n",
       "      <td>0.0</td>\n",
       "      <td>0.0</td>\n",
       "      <td>0.0</td>\n",
       "      <td>0.0</td>\n",
       "      <td>0.0</td>\n",
       "      <td>0.0</td>\n",
       "      <td>0.0</td>\n",
       "      <td>0.0</td>\n",
       "      <td>0.0</td>\n",
       "      <td>0.0</td>\n",
       "    </tr>\n",
       "    <tr>\n",
       "      <th>mRNA_biomass_to_biomass</th>\n",
       "      <td>0.000092</td>\n",
       "      <td>0.0</td>\n",
       "      <td>0.0</td>\n",
       "      <td>0.0</td>\n",
       "      <td>0.0</td>\n",
       "      <td>0.0</td>\n",
       "      <td>0.0</td>\n",
       "      <td>0.0</td>\n",
       "      <td>0.0</td>\n",
       "      <td>0.0</td>\n",
       "      <td>...</td>\n",
       "      <td>0.0</td>\n",
       "      <td>0.0</td>\n",
       "      <td>0.0</td>\n",
       "      <td>0.0</td>\n",
       "      <td>0.0</td>\n",
       "      <td>0.0</td>\n",
       "      <td>0.0</td>\n",
       "      <td>0.0</td>\n",
       "      <td>0.0</td>\n",
       "      <td>0.0</td>\n",
       "    </tr>\n",
       "    <tr>\n",
       "      <th>tRNA_biomass_to_biomass</th>\n",
       "      <td>0.000544</td>\n",
       "      <td>0.0</td>\n",
       "      <td>0.0</td>\n",
       "      <td>0.0</td>\n",
       "      <td>0.0</td>\n",
       "      <td>0.0</td>\n",
       "      <td>0.0</td>\n",
       "      <td>0.0</td>\n",
       "      <td>0.0</td>\n",
       "      <td>0.0</td>\n",
       "      <td>...</td>\n",
       "      <td>0.0</td>\n",
       "      <td>0.0</td>\n",
       "      <td>0.0</td>\n",
       "      <td>0.0</td>\n",
       "      <td>0.0</td>\n",
       "      <td>0.0</td>\n",
       "      <td>0.0</td>\n",
       "      <td>0.0</td>\n",
       "      <td>0.0</td>\n",
       "      <td>0.0</td>\n",
       "    </tr>\n",
       "    <tr>\n",
       "      <th>rRNA_biomass_to_biomass</th>\n",
       "      <td>0.004027</td>\n",
       "      <td>0.0</td>\n",
       "      <td>0.0</td>\n",
       "      <td>0.0</td>\n",
       "      <td>0.0</td>\n",
       "      <td>0.0</td>\n",
       "      <td>0.0</td>\n",
       "      <td>0.0</td>\n",
       "      <td>0.0</td>\n",
       "      <td>0.0</td>\n",
       "      <td>...</td>\n",
       "      <td>0.0</td>\n",
       "      <td>0.0</td>\n",
       "      <td>0.0</td>\n",
       "      <td>0.0</td>\n",
       "      <td>0.0</td>\n",
       "      <td>0.0</td>\n",
       "      <td>0.0</td>\n",
       "      <td>0.0</td>\n",
       "      <td>0.0</td>\n",
       "      <td>0.0</td>\n",
       "    </tr>\n",
       "    <tr>\n",
       "      <th>...</th>\n",
       "      <td>...</td>\n",
       "      <td>...</td>\n",
       "      <td>...</td>\n",
       "      <td>...</td>\n",
       "      <td>...</td>\n",
       "      <td>...</td>\n",
       "      <td>...</td>\n",
       "      <td>...</td>\n",
       "      <td>...</td>\n",
       "      <td>...</td>\n",
       "      <td>...</td>\n",
       "      <td>...</td>\n",
       "      <td>...</td>\n",
       "      <td>...</td>\n",
       "      <td>...</td>\n",
       "      <td>...</td>\n",
       "      <td>...</td>\n",
       "      <td>...</td>\n",
       "      <td>...</td>\n",
       "      <td>...</td>\n",
       "      <td>...</td>\n",
       "    </tr>\n",
       "    <tr>\n",
       "      <th>Demand_psetha_BS_s</th>\n",
       "      <td>0.112613</td>\n",
       "      <td>0.0</td>\n",
       "      <td>0.0</td>\n",
       "      <td>0.0</td>\n",
       "      <td>0.0</td>\n",
       "      <td>0.0</td>\n",
       "      <td>0.0</td>\n",
       "      <td>0.0</td>\n",
       "      <td>0.0</td>\n",
       "      <td>0.0</td>\n",
       "      <td>...</td>\n",
       "      <td>0.0</td>\n",
       "      <td>0.0</td>\n",
       "      <td>0.0</td>\n",
       "      <td>0.0</td>\n",
       "      <td>0.0</td>\n",
       "      <td>0.0</td>\n",
       "      <td>0.0</td>\n",
       "      <td>0.0</td>\n",
       "      <td>0.0</td>\n",
       "      <td>0.0</td>\n",
       "    </tr>\n",
       "    <tr>\n",
       "      <th>Demand_t12dg_BS_s</th>\n",
       "      <td>0.112613</td>\n",
       "      <td>0.0</td>\n",
       "      <td>0.0</td>\n",
       "      <td>0.0</td>\n",
       "      <td>0.0</td>\n",
       "      <td>0.0</td>\n",
       "      <td>0.0</td>\n",
       "      <td>0.0</td>\n",
       "      <td>0.0</td>\n",
       "      <td>0.0</td>\n",
       "      <td>...</td>\n",
       "      <td>0.0</td>\n",
       "      <td>0.0</td>\n",
       "      <td>0.0</td>\n",
       "      <td>0.0</td>\n",
       "      <td>0.0</td>\n",
       "      <td>0.0</td>\n",
       "      <td>0.0</td>\n",
       "      <td>0.0</td>\n",
       "      <td>0.0</td>\n",
       "      <td>0.0</td>\n",
       "    </tr>\n",
       "    <tr>\n",
       "      <th>Demand_gtca3_45_BS_s</th>\n",
       "      <td>0.112613</td>\n",
       "      <td>0.0</td>\n",
       "      <td>0.0</td>\n",
       "      <td>0.0</td>\n",
       "      <td>0.0</td>\n",
       "      <td>0.0</td>\n",
       "      <td>0.0</td>\n",
       "      <td>0.0</td>\n",
       "      <td>0.0</td>\n",
       "      <td>0.0</td>\n",
       "      <td>...</td>\n",
       "      <td>0.0</td>\n",
       "      <td>0.0</td>\n",
       "      <td>0.0</td>\n",
       "      <td>0.0</td>\n",
       "      <td>0.0</td>\n",
       "      <td>0.0</td>\n",
       "      <td>0.0</td>\n",
       "      <td>0.0</td>\n",
       "      <td>0.0</td>\n",
       "      <td>0.0</td>\n",
       "    </tr>\n",
       "    <tr>\n",
       "      <th>Demand_lipo1_24_BS_s</th>\n",
       "      <td>0.112613</td>\n",
       "      <td>0.0</td>\n",
       "      <td>0.0</td>\n",
       "      <td>0.0</td>\n",
       "      <td>0.0</td>\n",
       "      <td>0.0</td>\n",
       "      <td>0.0</td>\n",
       "      <td>0.0</td>\n",
       "      <td>0.0</td>\n",
       "      <td>0.0</td>\n",
       "      <td>...</td>\n",
       "      <td>0.0</td>\n",
       "      <td>0.0</td>\n",
       "      <td>0.0</td>\n",
       "      <td>0.0</td>\n",
       "      <td>0.0</td>\n",
       "      <td>0.0</td>\n",
       "      <td>0.0</td>\n",
       "      <td>0.0</td>\n",
       "      <td>0.0</td>\n",
       "      <td>0.0</td>\n",
       "    </tr>\n",
       "    <tr>\n",
       "      <th>Demand_tcam_BS_s</th>\n",
       "      <td>0.112613</td>\n",
       "      <td>0.0</td>\n",
       "      <td>0.0</td>\n",
       "      <td>0.0</td>\n",
       "      <td>0.0</td>\n",
       "      <td>0.0</td>\n",
       "      <td>0.0</td>\n",
       "      <td>0.0</td>\n",
       "      <td>0.0</td>\n",
       "      <td>0.0</td>\n",
       "      <td>...</td>\n",
       "      <td>0.0</td>\n",
       "      <td>0.0</td>\n",
       "      <td>0.0</td>\n",
       "      <td>0.0</td>\n",
       "      <td>0.0</td>\n",
       "      <td>0.0</td>\n",
       "      <td>0.0</td>\n",
       "      <td>0.0</td>\n",
       "      <td>0.0</td>\n",
       "      <td>0.0</td>\n",
       "    </tr>\n",
       "  </tbody>\n",
       "</table>\n",
       "<p>12339 rows × 22 columns</p>\n",
       "</div>"
      ],
      "text/plain": [
       "                                base  arg__L_s  zn2_s  so4_s  acnam_s  \\\n",
       "biomass_dilution            0.046832       0.0    0.0    0.0      0.0   \n",
       "protein_biomass_to_biomass  0.026954       0.0    0.0    0.0      0.0   \n",
       "mRNA_biomass_to_biomass     0.000092       0.0    0.0    0.0      0.0   \n",
       "tRNA_biomass_to_biomass     0.000544       0.0    0.0    0.0      0.0   \n",
       "rRNA_biomass_to_biomass     0.004027       0.0    0.0    0.0      0.0   \n",
       "...                              ...       ...    ...    ...      ...   \n",
       "Demand_psetha_BS_s          0.112613       0.0    0.0    0.0      0.0   \n",
       "Demand_t12dg_BS_s           0.112613       0.0    0.0    0.0      0.0   \n",
       "Demand_gtca3_45_BS_s        0.112613       0.0    0.0    0.0      0.0   \n",
       "Demand_lipo1_24_BS_s        0.112613       0.0    0.0    0.0      0.0   \n",
       "Demand_tcam_BS_s            0.112613       0.0    0.0    0.0      0.0   \n",
       "\n",
       "                            pser__L_s  6pgc_s  asp__L_s  k_s  gmp_s  ...  \\\n",
       "biomass_dilution                  0.0     0.0       0.0  0.0    0.0  ...   \n",
       "protein_biomass_to_biomass        0.0     0.0       0.0  0.0    0.0  ...   \n",
       "mRNA_biomass_to_biomass           0.0     0.0       0.0  0.0    0.0  ...   \n",
       "tRNA_biomass_to_biomass           0.0     0.0       0.0  0.0    0.0  ...   \n",
       "rRNA_biomass_to_biomass           0.0     0.0       0.0  0.0    0.0  ...   \n",
       "...                               ...     ...       ...  ...    ...  ...   \n",
       "Demand_psetha_BS_s                0.0     0.0       0.0  0.0    0.0  ...   \n",
       "Demand_t12dg_BS_s                 0.0     0.0       0.0  0.0    0.0  ...   \n",
       "Demand_gtca3_45_BS_s              0.0     0.0       0.0  0.0    0.0  ...   \n",
       "Demand_lipo1_24_BS_s              0.0     0.0       0.0  0.0    0.0  ...   \n",
       "Demand_tcam_BS_s                  0.0     0.0       0.0  0.0    0.0  ...   \n",
       "\n",
       "                            pyr_c  cbl1_s  mg2_s  pi_c  3amp_s  adn_c  \\\n",
       "biomass_dilution              0.0     0.0    0.0   0.0     0.0    0.0   \n",
       "protein_biomass_to_biomass    0.0     0.0    0.0   0.0     0.0    0.0   \n",
       "mRNA_biomass_to_biomass       0.0     0.0    0.0   0.0     0.0    0.0   \n",
       "tRNA_biomass_to_biomass       0.0     0.0    0.0   0.0     0.0    0.0   \n",
       "rRNA_biomass_to_biomass       0.0     0.0    0.0   0.0     0.0    0.0   \n",
       "...                           ...     ...    ...   ...     ...    ...   \n",
       "Demand_psetha_BS_s            0.0     0.0    0.0   0.0     0.0    0.0   \n",
       "Demand_t12dg_BS_s             0.0     0.0    0.0   0.0     0.0    0.0   \n",
       "Demand_gtca3_45_BS_s          0.0     0.0    0.0   0.0     0.0    0.0   \n",
       "Demand_lipo1_24_BS_s          0.0     0.0    0.0   0.0     0.0    0.0   \n",
       "Demand_tcam_BS_s              0.0     0.0    0.0   0.0     0.0    0.0   \n",
       "\n",
       "                            man6p_c  mn2_s  f6p_s  met__L_c  \n",
       "biomass_dilution                0.0    0.0    0.0       0.0  \n",
       "protein_biomass_to_biomass      0.0    0.0    0.0       0.0  \n",
       "mRNA_biomass_to_biomass         0.0    0.0    0.0       0.0  \n",
       "tRNA_biomass_to_biomass         0.0    0.0    0.0       0.0  \n",
       "rRNA_biomass_to_biomass         0.0    0.0    0.0       0.0  \n",
       "...                             ...    ...    ...       ...  \n",
       "Demand_psetha_BS_s              0.0    0.0    0.0       0.0  \n",
       "Demand_t12dg_BS_s               0.0    0.0    0.0       0.0  \n",
       "Demand_gtca3_45_BS_s            0.0    0.0    0.0       0.0  \n",
       "Demand_lipo1_24_BS_s            0.0    0.0    0.0       0.0  \n",
       "Demand_tcam_BS_s                0.0    0.0    0.0       0.0  \n",
       "\n",
       "[12339 rows x 22 columns]"
      ]
     },
     "execution_count": 102,
     "metadata": {},
     "output_type": "execute_result"
    }
   ],
   "source": [
    "flux_results_df"
   ]
  },
  {
   "cell_type": "code",
   "execution_count": 103,
   "metadata": {},
   "outputs": [],
   "source": [
    "# Read and process\n",
    "gr_df = pd.DataFrame(index=essential_metabolites)\n",
    "for m in essential_metabolites:\n",
    "    flux_results_df=pd.read_csv('group_transporter_knockouts/{}.csv'.format(m),index_col=0).drop('base',axis=1)\n",
    "    for i in flux_results_df.columns.values:\n",
    "        gr_df.loc[m,i] = flux_results_df.loc['biomass_dilution_s',i]"
   ]
  },
  {
   "cell_type": "code",
   "execution_count": 105,
   "metadata": {},
   "outputs": [
    {
     "data": {
      "text/plain": [
       "<seaborn.matrix.ClusterGrid at 0x7f5dce37f780>"
      ]
     },
     "execution_count": 105,
     "metadata": {},
     "output_type": "execute_result"
    },
    {
     "data": {
      "text/plain": [
       "<Figure size 936x360 with 0 Axes>"
      ]
     },
     "metadata": {},
     "output_type": "display_data"
    },
    {
     "data": {
      "image/png": "[encoded data removed]",
      "text/plain": [
       "<Figure size 720x720 with 4 Axes>"
      ]
     },
     "metadata": {},
     "output_type": "display_data"
    }
   ],
   "source": [
    "plt.figure(figsize = (13,5))\n",
    "output = gr_df.loc[gr_df.any(axis=1),gr_df.any(axis=0)]\n",
    "cluster_df = pd.DataFrame(stats.zscore(output,axis=1),\n",
    "                            index=output.index,columns=output.columns)\n",
    "sns.clustermap(cluster_df,col_cluster=1,row_cluster=1, cmap='mako')"
   ]
  },
  {
   "cell_type": "code",
   "execution_count": 111,
   "metadata": {},
   "outputs": [
    {
     "data": {
      "text/plain": [
       "<seaborn.matrix.ClusterGrid at 0x7f5d867192b0>"
      ]
     },
     "execution_count": 111,
     "metadata": {},
     "output_type": "execute_result"
    },
    {
     "data": {
      "text/plain": [
       "<Figure size 936x360 with 0 Axes>"
      ]
     },
     "metadata": {},
     "output_type": "display_data"
    },
    {
     "data": {
      "image/png": "[encoded data removed]",
      "text/plain": [
       "<Figure size 720x720 with 4 Axes>"
      ]
     },
     "metadata": {},
     "output_type": "display_data"
    }
   ],
   "source": [
    "plt.figure(figsize = (13,5))\n",
    "output = gr_df.loc[gr_df.any(axis=1),gr_df.any(axis=0)]\n",
    "cluster_df = pd.DataFrame(stats.zscore(output,axis=1),\n",
    "                            index=output.index,columns=output.columns)\n",
    "sns.clustermap(cluster_df,col_cluster=1,row_cluster=1, cmap='mako')"
   ]
  },
  {
   "cell_type": "markdown",
   "metadata": {},
   "source": [
    "## Energy analysis"
   ]
  },
  {
   "cell_type": "code",
   "execution_count": 188,
   "metadata": {
    "scrolled": true
   },
   "outputs": [],
   "source": [
    "with open(\"./sporeme_solution.pickle\", \"rb\") as outfile:\n",
    "    sporeme = pickle.load(outfile)"
   ]
  },
  {
   "cell_type": "code",
   "execution_count": 189,
   "metadata": {},
   "outputs": [
    {
     "name": "stdout",
     "output_type": "stream",
     "text": [
      "Essential metabolites: ['arg__L_s', 'zn2_s', '6pgc_s', 'so4_s', 'mg2_s', 'pi_c', 'cbl1_s', 'asp__L_s', 'f6p_s', 'mn2_s', 'adn_c', 'acnam_s', 'pep_s', 'pyr_c', 'k_s', 'pser__L_s', 'man6p_c', 'gmp_s', 'leu__L_s', '3amp_s', 'met__L_c']\n"
     ]
    }
   ],
   "source": [
    "flux_results_df = pd.read_csv('group_1by1_KO_flux_results.csv',index_col=0)\n",
    "sorted_mets = flux_results_df.loc['biomass_dilution_s'].sort_values(ascending=True).index.to_list()\n",
    "essential_mets = sorted_mets[:sorted_mets.index('met__L_c')+1]\n",
    "print('Essential metabolites: {}'.format(essential_mets))"
   ]
  },
  {
   "cell_type": "code",
   "execution_count": 190,
   "metadata": {},
   "outputs": [],
   "source": [
    "essential_transporters = []\n",
    "for met in essential_mets:\n",
    "    [essential_transporters.append(i) for i in at_dict[met]]"
   ]
  },
  {
   "cell_type": "code",
   "execution_count": 191,
   "metadata": {},
   "outputs": [
    {
     "name": "stdout",
     "output_type": "stream",
     "text": [
      "63 essential open transporters\n"
     ]
    }
   ],
   "source": [
    "print('{} essential open transporters'.format(len(essential_transporters)))"
   ]
  },
  {
   "cell_type": "code",
   "execution_count": 192,
   "metadata": {},
   "outputs": [],
   "source": [
    "for r in transport_reactions:\n",
    "    if r not in essential_transporters and 'SPONT' not in r:\n",
    "        rxn = sporeme.reactions.get_by_id(r)\n",
    "        rxn.upper_bound = 0 \n",
    "        rxn.lower_bound = 0"
   ]
  },
  {
   "cell_type": "code",
   "execution_count": null,
   "metadata": {
    "scrolled": true
   },
   "outputs": [
    {
     "name": "stdout",
     "output_type": "stream",
     "text": [
      "iter\tmuopt    \ta     \tb     \tmu1       \tstat1\n"
     ]
    }
   ],
   "source": [
    "solve_me_model(sporeme, max_mu = 0.15, min_mu = .05, using_soplex=False, precision = 1e-6,growth_key = 'sigma')\n",
    "flux_dict_base = sporeme.solution.x_dict"
   ]
  },
  {
   "cell_type": "markdown",
   "metadata": {},
   "source": [
    "### Increasing ATPM"
   ]
  },
  {
   "cell_type": "code",
   "execution_count": null,
   "metadata": {},
   "outputs": [],
   "source": [
    "current_ATPM = sporeme.reactions.ATPM_s.lower_bound\n",
    "new_ATPM = 1.1 * current_ATPM\n",
    "\n",
    "sporeme.reactions.ATPM_s.lower_bound = new_ATPM\n",
    "sporeme.reactions.ATPM_s.upper_bound = new_ATPM"
   ]
  },
  {
   "cell_type": "code",
   "execution_count": 177,
   "metadata": {
    "scrolled": true
   },
   "outputs": [
    {
     "name": "stdout",
     "output_type": "stream",
     "text": [
      "iter\tmuopt    \ta     \tb     \tmu1       \tstat1\n",
      "Finished compiling expressions in 415.296403 seconds\n",
      "Finished substituting S,lb,ub in 18.126293 seconds\n",
      "Finished makeME_LP in 2.265234 seconds\n",
      "Getting MINOS parameters from ME_NLP...\n",
      "1 0.0 0.0 0.1 0.1 1\n",
      "Finished substituting S,lb,ub in 18.146298 seconds\n",
      "Finished makeME_LP in 2.297373 seconds\n",
      "Getting MINOS parameters from ME_NLP...\n",
      "2 0.0 0.0 0.05 0.05 1\n",
      "Finished substituting S,lb,ub in 18.020615 seconds\n",
      "Finished makeME_LP in 2.269276 seconds\n",
      "Getting MINOS parameters from ME_NLP...\n",
      "3 0.0 0.0 0.025 0.025 1\n",
      "Finished substituting S,lb,ub in 17.943079 seconds\n",
      "Finished makeME_LP in 2.261524 seconds\n",
      "Getting MINOS parameters from ME_NLP...\n",
      "4 0.0125 0.0125 0.025 0.0125 optimal\n",
      "Finished substituting S,lb,ub in 17.930481 seconds\n",
      "Finished makeME_LP in 2.260695 seconds\n",
      "Getting MINOS parameters from ME_NLP...\n",
      "5 0.0125 0.0125 0.018750000000000003 0.018750000000000003 1\n",
      "Finished substituting S,lb,ub in 18.196980 seconds\n",
      "Finished makeME_LP in 2.283978 seconds\n",
      "Getting MINOS parameters from ME_NLP...\n",
      "6 0.015625 0.015625 0.018750000000000003 0.015625 optimal\n",
      "Finished substituting S,lb,ub in 17.492452 seconds\n",
      "Finished makeME_LP in 2.261822 seconds\n",
      "Getting MINOS parameters from ME_NLP...\n",
      "7 0.015625 0.015625 0.0171875 0.0171875 1\n",
      "Finished substituting S,lb,ub in 17.564386 seconds\n",
      "Finished makeME_LP in 2.240327 seconds\n",
      "Getting MINOS parameters from ME_NLP...\n",
      "8 0.01640625 0.01640625 0.0171875 0.01640625 optimal\n",
      "Finished substituting S,lb,ub in 17.508969 seconds\n",
      "Finished makeME_LP in 2.256292 seconds\n",
      "Getting MINOS parameters from ME_NLP...\n",
      "9 0.01640625 0.01640625 0.016796875000000003 0.016796875000000003 1\n",
      "Finished substituting S,lb,ub in 17.466653 seconds\n",
      "Finished makeME_LP in 2.280223 seconds\n",
      "Getting MINOS parameters from ME_NLP...\n",
      "10 0.0166015625 0.0166015625 0.016796875000000003 0.0166015625 optimal\n",
      "Finished substituting S,lb,ub in 17.559752 seconds\n",
      "Finished makeME_LP in 2.260895 seconds\n",
      "Getting MINOS parameters from ME_NLP...\n",
      "11 0.01669921875 0.01669921875 0.016796875000000003 0.01669921875 optimal\n",
      "Finished substituting S,lb,ub in 17.551544 seconds\n",
      "Finished makeME_LP in 2.249591 seconds\n",
      "Getting MINOS parameters from ME_NLP...\n",
      "12 0.01669921875 0.01669921875 0.016748046875000002 0.016748046875000002 1\n",
      "Finished substituting S,lb,ub in 17.519121 seconds\n",
      "Finished makeME_LP in 2.266143 seconds\n",
      "Getting MINOS parameters from ME_NLP...\n",
      "13 0.0167236328125 0.0167236328125 0.016748046875000002 0.0167236328125 optimal\n",
      "Finished substituting S,lb,ub in 17.448744 seconds\n",
      "Finished makeME_LP in 2.266668 seconds\n",
      "Getting MINOS parameters from ME_NLP...\n",
      "14 0.016735839843750003 0.016735839843750003 0.016748046875000002 0.016735839843750003 optimal\n",
      "Finished substituting S,lb,ub in 17.590960 seconds\n",
      "Finished makeME_LP in 2.263836 seconds\n",
      "Getting MINOS parameters from ME_NLP...\n",
      "15 0.016741943359375004 0.016741943359375004 0.016748046875000002 0.016741943359375004 optimal\n",
      "Finished substituting S,lb,ub in 17.473265 seconds\n",
      "Finished makeME_LP in 2.267441 seconds\n",
      "Getting MINOS parameters from ME_NLP...\n",
      "16 0.0167449951171875 0.0167449951171875 0.016748046875000002 0.0167449951171875 optimal\n",
      "Finished substituting S,lb,ub in 17.451697 seconds\n",
      "Finished makeME_LP in 2.258030 seconds\n",
      "Getting MINOS parameters from ME_NLP...\n",
      "17 0.0167449951171875 0.0167449951171875 0.01674652099609375 0.01674652099609375 1\n",
      "Finished substituting S,lb,ub in 17.609313 seconds\n",
      "Finished makeME_LP in 2.676704 seconds\n",
      "Getting MINOS parameters from ME_NLP...\n",
      "18 0.016745758056640626 0.016745758056640626 0.01674652099609375 0.016745758056640626 optimal\n",
      "Bisection done in 1717.75 seconds\n"
     ]
    }
   ],
   "source": [
    "solve_me_model(sporeme, max_mu = 0.2, min_mu = .05, using_soplex=False, precision = 1e-6,growth_key='sigma')\n",
    "flux_dict_ATPM = sporeme.solution.x_dict"
   ]
  },
  {
   "cell_type": "code",
   "execution_count": 199,
   "metadata": {},
   "outputs": [
    {
     "data": {
      "text/plain": [
       "flux        11.979\n",
       "flux_atp     9.900\n",
       "Name: ATPM_s, dtype: float64"
      ]
     },
     "execution_count": 199,
     "metadata": {},
     "output_type": "execute_result"
    }
   ],
   "source": [
    "atp_df = pd.DataFrame.from_dict({'flux':flux_dict_base}).join(pd.DataFrame.from_dict({'flux':flux_dict_ATPM}),rsuffix='_atp')\n",
    "atp_df.loc['ATPM_s']"
   ]
  },
  {
   "cell_type": "code",
   "execution_count": 215,
   "metadata": {},
   "outputs": [
    {
     "data": {
      "text/plain": [
       "True"
      ]
     },
     "execution_count": 215,
     "metadata": {},
     "output_type": "execute_result"
    }
   ],
   "source": [
    "sums = atp_df.loc[at_dict[met]].sum(axis=0)\n",
    "sums.any()"
   ]
  },
  {
   "cell_type": "markdown",
   "metadata": {},
   "source": [
    "## "
   ]
  },
  {
   "cell_type": "code",
   "execution_count": 218,
   "metadata": {},
   "outputs": [
    {
     "name": "stdout",
     "output_type": "stream",
     "text": [
      "mg2_s 1.369556359552247\n",
      "gmp_s 1.3936761015209471\n",
      "pyr_c 0.9235568354626225\n",
      "k_s 1.402986049062581\n",
      "man6p_c 1.4041387607925155\n",
      "arg__L_s 1.3820070949439316\n",
      "met__L_c 1.3367661897406746\n",
      "mn2_s 1.3274067919517458\n",
      "acnam_s 1.410649664782645\n",
      "pep_s 0.9219755938517683\n",
      "so4_s 1.3508168559868865\n",
      "zn2_s 1.9776180944903203\n",
      "adn_c 0.9206735465435527\n",
      "3amp_s 0.9206362189827443\n",
      "pser__L_s 1.431980366328135\n",
      "6pgc_s 1.404908804372569\n",
      "leu__L_s 1.3894840437357847\n"
     ]
    }
   ],
   "source": [
    "\n",
    "for met in at_dict.keys():\n",
    "    sums = atp_df.loc[at_dict[met]].sum(axis=0)\n",
    "    if sums.any():\n",
    "        ratio = sums['flux_atp']/sums['flux']\n",
    "        print(met,ratio)"
   ]
  },
  {
   "cell_type": "markdown",
   "metadata": {},
   "source": [
    "## Metabolites in medium"
   ]
  },
  {
   "cell_type": "code",
   "execution_count": null,
   "metadata": {},
   "outputs": [],
   "source": [
    "[fed_mets = m for m in at_dict.keys() if m]"
   ]
  },
  {
   "cell_type": "code",
   "execution_count": null,
   "metadata": {
    "scrolled": true
   },
   "outputs": [
    {
     "name": "stdout",
     "output_type": "stream",
     "text": [
      "Chosen change function: feed_metabolites      Sequential = False\n"
     ]
    },
    {
     "name": "stderr",
     "output_type": "stream",
     "text": [
      "\n",
      "\n",
      "\n",
      "\n",
      "\n",
      "\n",
      "\n",
      "\n",
      "\n",
      "\n",
      "\n",
      "\n",
      "\n",
      "\n",
      "\n",
      "\n",
      "\n",
      "\n",
      "\n",
      "\n",
      "\n",
      "\n",
      "\n",
      "\n",
      "\n",
      "\n",
      "\n",
      "\n",
      "\n",
      "\n",
      "\n",
      "\n",
      "\n",
      "\n",
      "\n",
      "\n",
      "\n",
      "\n",
      "\n",
      "\n",
      "\n",
      "\n",
      "\n",
      "\n",
      "  0%|          | 0/38 [00:00<?, ?it/s]\u001b[A\u001b[A\u001b[A\u001b[A\u001b[A\u001b[A\u001b[A\u001b[A\u001b[A\u001b[A\u001b[A\u001b[A\u001b[A\u001b[A\u001b[A\u001b[A\u001b[A\u001b[A\u001b[A\u001b[A\u001b[A\u001b[A\u001b[A\u001b[A\u001b[A\u001b[A\u001b[A\u001b[A\u001b[A\u001b[A\u001b[A\u001b[A\u001b[A\u001b[A\u001b[A\u001b[A\u001b[A\u001b[A\u001b[A\u001b[A\u001b[A\u001b[A\u001b[A\u001b[A\n",
      "\n",
      "\n",
      "\n",
      "\n",
      "\n",
      "\n",
      "\n",
      "\n",
      "\n",
      "\n",
      "\n",
      "\n",
      "\n",
      "\n",
      "\n",
      "\n",
      "\n",
      "\n",
      "\n",
      "\n",
      "\n",
      "\n",
      "\n",
      "\n",
      "\n",
      "\n",
      "\n",
      "\n",
      "\n",
      "\n",
      "\n",
      "\n",
      "\n",
      "\n",
      "\n",
      "\n",
      "\n",
      "\n",
      "\n",
      "\n",
      "\n",
      "\n",
      "\n",
      "biomass_dilution_s response (10 threads):   0%|          | 0/38 [00:00<?, ?it/s]\u001b[A\u001b[A\u001b[A\u001b[A\u001b[A\u001b[A\u001b[A\u001b[A\u001b[A\u001b[A\u001b[A\u001b[A\u001b[A\u001b[A\u001b[A\u001b[A\u001b[A\u001b[A\u001b[A\u001b[A\u001b[A\u001b[A\u001b[A\u001b[A\u001b[A\u001b[A\u001b[A\u001b[A\u001b[A\u001b[A\u001b[A\u001b[A\u001b[A\u001b[A\u001b[A\u001b[A\u001b[A\u001b[A\u001b[A\u001b[A\u001b[A\u001b[A\u001b[A\u001b[A"
     ]
    }
   ],
   "source": [
    "from bacillusme.analysis import sensitivity as ss\n",
    "flux_results_df = ss.transporter_knockout(sporeme,fed_mets, \\\n",
    "                                        NP=10,solution=1,biomass_dilution='biomass_dilution_s',\\\n",
    "                                        growth_key = 'sigma',single_change_function='feed_metabolites')"
   ]
  },
  {
   "cell_type": "code",
   "execution_count": 225,
   "metadata": {},
   "outputs": [
    {
     "data": {
      "text/html": [
       "<div>\n",
       "<style scoped>\n",
       "    .dataframe tbody tr th:only-of-type {\n",
       "        vertical-align: middle;\n",
       "    }\n",
       "\n",
       "    .dataframe tbody tr th {\n",
       "        vertical-align: top;\n",
       "    }\n",
       "\n",
       "    .dataframe thead th {\n",
       "        text-align: right;\n",
       "    }\n",
       "</style>\n",
       "<table border=\"1\" class=\"dataframe\">\n",
       "  <thead>\n",
       "    <tr style=\"text-align: right;\">\n",
       "      <th></th>\n",
       "      <th>base</th>\n",
       "      <th>gly_s</th>\n",
       "      <th>nac_s</th>\n",
       "      <th>cit_s</th>\n",
       "      <th>amp_s</th>\n",
       "      <th>citr__L_s</th>\n",
       "      <th>asn__L_s</th>\n",
       "      <th>acac_s</th>\n",
       "      <th>cmp_s</th>\n",
       "      <th>ump_s</th>\n",
       "      <th>...</th>\n",
       "      <th>ala__D_s</th>\n",
       "      <th>glu__L_s</th>\n",
       "      <th>pnto__R_s</th>\n",
       "      <th>dad_2_s</th>\n",
       "      <th>ribflv_s</th>\n",
       "      <th>3amp_s</th>\n",
       "      <th>ala__L_s</th>\n",
       "      <th>6pgc_s</th>\n",
       "      <th>pser__L_s</th>\n",
       "      <th>leu__L_s</th>\n",
       "    </tr>\n",
       "  </thead>\n",
       "  <tbody>\n",
       "    <tr>\n",
       "      <th>biomass_dilution</th>\n",
       "      <td>0.012078</td>\n",
       "      <td>0.012073</td>\n",
       "      <td>0.012052</td>\n",
       "      <td>0.012060</td>\n",
       "      <td>0.012035</td>\n",
       "      <td>0.012056</td>\n",
       "      <td>0.012061</td>\n",
       "      <td>0.012064</td>\n",
       "      <td>0.012043</td>\n",
       "      <td>0.012044</td>\n",
       "      <td>...</td>\n",
       "      <td>0.012067</td>\n",
       "      <td>0.012055</td>\n",
       "      <td>0.012034</td>\n",
       "      <td>0.012034</td>\n",
       "      <td>0.011992</td>\n",
       "      <td>0.012036</td>\n",
       "      <td>0.012067</td>\n",
       "      <td>0.012054</td>\n",
       "      <td>0.012067</td>\n",
       "      <td>0.012050</td>\n",
       "    </tr>\n",
       "    <tr>\n",
       "      <th>protein_biomass_to_biomass</th>\n",
       "      <td>0.007074</td>\n",
       "      <td>0.007072</td>\n",
       "      <td>0.007059</td>\n",
       "      <td>0.007064</td>\n",
       "      <td>0.007049</td>\n",
       "      <td>0.007061</td>\n",
       "      <td>0.007065</td>\n",
       "      <td>0.007066</td>\n",
       "      <td>0.007054</td>\n",
       "      <td>0.007055</td>\n",
       "      <td>...</td>\n",
       "      <td>0.007068</td>\n",
       "      <td>0.007061</td>\n",
       "      <td>0.007049</td>\n",
       "      <td>0.007049</td>\n",
       "      <td>0.007024</td>\n",
       "      <td>0.007050</td>\n",
       "      <td>0.007068</td>\n",
       "      <td>0.007060</td>\n",
       "      <td>0.007068</td>\n",
       "      <td>0.007058</td>\n",
       "    </tr>\n",
       "    <tr>\n",
       "      <th>mRNA_biomass_to_biomass</th>\n",
       "      <td>0.000020</td>\n",
       "      <td>0.000020</td>\n",
       "      <td>0.000020</td>\n",
       "      <td>0.000020</td>\n",
       "      <td>0.000020</td>\n",
       "      <td>0.000020</td>\n",
       "      <td>0.000020</td>\n",
       "      <td>0.000020</td>\n",
       "      <td>0.000020</td>\n",
       "      <td>0.000020</td>\n",
       "      <td>...</td>\n",
       "      <td>0.000020</td>\n",
       "      <td>0.000020</td>\n",
       "      <td>0.000020</td>\n",
       "      <td>0.000020</td>\n",
       "      <td>0.000020</td>\n",
       "      <td>0.000020</td>\n",
       "      <td>0.000020</td>\n",
       "      <td>0.000020</td>\n",
       "      <td>0.000020</td>\n",
       "      <td>0.000020</td>\n",
       "    </tr>\n",
       "    <tr>\n",
       "      <th>tRNA_biomass_to_biomass</th>\n",
       "      <td>0.000119</td>\n",
       "      <td>0.000119</td>\n",
       "      <td>0.000119</td>\n",
       "      <td>0.000119</td>\n",
       "      <td>0.000118</td>\n",
       "      <td>0.000119</td>\n",
       "      <td>0.000119</td>\n",
       "      <td>0.000119</td>\n",
       "      <td>0.000118</td>\n",
       "      <td>0.000118</td>\n",
       "      <td>...</td>\n",
       "      <td>0.000119</td>\n",
       "      <td>0.000119</td>\n",
       "      <td>0.000118</td>\n",
       "      <td>0.000118</td>\n",
       "      <td>0.000118</td>\n",
       "      <td>0.000118</td>\n",
       "      <td>0.000119</td>\n",
       "      <td>0.000119</td>\n",
       "      <td>0.000119</td>\n",
       "      <td>0.000119</td>\n",
       "    </tr>\n",
       "    <tr>\n",
       "      <th>rRNA_biomass_to_biomass</th>\n",
       "      <td>0.000879</td>\n",
       "      <td>0.000879</td>\n",
       "      <td>0.000877</td>\n",
       "      <td>0.000878</td>\n",
       "      <td>0.000876</td>\n",
       "      <td>0.000877</td>\n",
       "      <td>0.000878</td>\n",
       "      <td>0.000878</td>\n",
       "      <td>0.000876</td>\n",
       "      <td>0.000876</td>\n",
       "      <td>...</td>\n",
       "      <td>0.000878</td>\n",
       "      <td>0.000877</td>\n",
       "      <td>0.000876</td>\n",
       "      <td>0.000876</td>\n",
       "      <td>0.000872</td>\n",
       "      <td>0.000876</td>\n",
       "      <td>0.000878</td>\n",
       "      <td>0.000877</td>\n",
       "      <td>0.000878</td>\n",
       "      <td>0.000877</td>\n",
       "    </tr>\n",
       "    <tr>\n",
       "      <th>...</th>\n",
       "      <td>...</td>\n",
       "      <td>...</td>\n",
       "      <td>...</td>\n",
       "      <td>...</td>\n",
       "      <td>...</td>\n",
       "      <td>...</td>\n",
       "      <td>...</td>\n",
       "      <td>...</td>\n",
       "      <td>...</td>\n",
       "      <td>...</td>\n",
       "      <td>...</td>\n",
       "      <td>...</td>\n",
       "      <td>...</td>\n",
       "      <td>...</td>\n",
       "      <td>...</td>\n",
       "      <td>...</td>\n",
       "      <td>...</td>\n",
       "      <td>...</td>\n",
       "      <td>...</td>\n",
       "      <td>...</td>\n",
       "      <td>...</td>\n",
       "    </tr>\n",
       "    <tr>\n",
       "      <th>Demand_t12dg_BS_s</th>\n",
       "      <td>0.030711</td>\n",
       "      <td>0.030701</td>\n",
       "      <td>0.030658</td>\n",
       "      <td>0.030674</td>\n",
       "      <td>0.030608</td>\n",
       "      <td>0.030663</td>\n",
       "      <td>0.030672</td>\n",
       "      <td>0.030684</td>\n",
       "      <td>0.030635</td>\n",
       "      <td>0.030640</td>\n",
       "      <td>...</td>\n",
       "      <td>0.030691</td>\n",
       "      <td>0.030657</td>\n",
       "      <td>0.030620</td>\n",
       "      <td>0.030610</td>\n",
       "      <td>0.030513</td>\n",
       "      <td>0.030612</td>\n",
       "      <td>0.030691</td>\n",
       "      <td>0.030661</td>\n",
       "      <td>0.030687</td>\n",
       "      <td>0.030656</td>\n",
       "    </tr>\n",
       "    <tr>\n",
       "      <th>Demand_gtca3_45_BS_s</th>\n",
       "      <td>0.030711</td>\n",
       "      <td>0.030701</td>\n",
       "      <td>0.030658</td>\n",
       "      <td>0.030674</td>\n",
       "      <td>0.030608</td>\n",
       "      <td>0.030663</td>\n",
       "      <td>0.030672</td>\n",
       "      <td>0.030684</td>\n",
       "      <td>0.030635</td>\n",
       "      <td>0.030640</td>\n",
       "      <td>...</td>\n",
       "      <td>0.030691</td>\n",
       "      <td>0.030657</td>\n",
       "      <td>0.030620</td>\n",
       "      <td>0.030610</td>\n",
       "      <td>0.030513</td>\n",
       "      <td>0.030612</td>\n",
       "      <td>0.030691</td>\n",
       "      <td>0.030661</td>\n",
       "      <td>0.030687</td>\n",
       "      <td>0.030656</td>\n",
       "    </tr>\n",
       "    <tr>\n",
       "      <th>Demand_lipo1_24_BS_s</th>\n",
       "      <td>0.030711</td>\n",
       "      <td>0.030701</td>\n",
       "      <td>0.030658</td>\n",
       "      <td>0.030674</td>\n",
       "      <td>0.030608</td>\n",
       "      <td>0.030663</td>\n",
       "      <td>0.030672</td>\n",
       "      <td>0.030684</td>\n",
       "      <td>0.030635</td>\n",
       "      <td>0.030640</td>\n",
       "      <td>...</td>\n",
       "      <td>0.030691</td>\n",
       "      <td>0.030657</td>\n",
       "      <td>0.030620</td>\n",
       "      <td>0.030610</td>\n",
       "      <td>0.030513</td>\n",
       "      <td>0.030612</td>\n",
       "      <td>0.030691</td>\n",
       "      <td>0.030661</td>\n",
       "      <td>0.030687</td>\n",
       "      <td>0.030656</td>\n",
       "    </tr>\n",
       "    <tr>\n",
       "      <th>Demand_tcam_BS_s</th>\n",
       "      <td>0.539554</td>\n",
       "      <td>0.539392</td>\n",
       "      <td>0.538664</td>\n",
       "      <td>0.538933</td>\n",
       "      <td>0.537795</td>\n",
       "      <td>0.538743</td>\n",
       "      <td>0.538900</td>\n",
       "      <td>0.539076</td>\n",
       "      <td>0.538259</td>\n",
       "      <td>0.538332</td>\n",
       "      <td>...</td>\n",
       "      <td>0.539224</td>\n",
       "      <td>0.538640</td>\n",
       "      <td>0.537977</td>\n",
       "      <td>0.537838</td>\n",
       "      <td>0.536119</td>\n",
       "      <td>0.537875</td>\n",
       "      <td>0.539226</td>\n",
       "      <td>0.538711</td>\n",
       "      <td>0.539156</td>\n",
       "      <td>0.538619</td>\n",
       "    </tr>\n",
       "    <tr>\n",
       "      <th>dummy_demand</th>\n",
       "      <td>NaN</td>\n",
       "      <td>0.001000</td>\n",
       "      <td>0.001000</td>\n",
       "      <td>0.001000</td>\n",
       "      <td>0.001000</td>\n",
       "      <td>0.001000</td>\n",
       "      <td>0.001000</td>\n",
       "      <td>0.001000</td>\n",
       "      <td>0.001000</td>\n",
       "      <td>0.001000</td>\n",
       "      <td>...</td>\n",
       "      <td>0.001000</td>\n",
       "      <td>0.001000</td>\n",
       "      <td>0.001000</td>\n",
       "      <td>0.001000</td>\n",
       "      <td>0.001000</td>\n",
       "      <td>0.001000</td>\n",
       "      <td>0.001000</td>\n",
       "      <td>0.001000</td>\n",
       "      <td>0.001000</td>\n",
       "      <td>0.001000</td>\n",
       "    </tr>\n",
       "  </tbody>\n",
       "</table>\n",
       "<p>12340 rows × 39 columns</p>\n",
       "</div>"
      ],
      "text/plain": [
       "                                base     gly_s     nac_s     cit_s     amp_s  \\\n",
       "biomass_dilution            0.012078  0.012073  0.012052  0.012060  0.012035   \n",
       "protein_biomass_to_biomass  0.007074  0.007072  0.007059  0.007064  0.007049   \n",
       "mRNA_biomass_to_biomass     0.000020  0.000020  0.000020  0.000020  0.000020   \n",
       "tRNA_biomass_to_biomass     0.000119  0.000119  0.000119  0.000119  0.000118   \n",
       "rRNA_biomass_to_biomass     0.000879  0.000879  0.000877  0.000878  0.000876   \n",
       "...                              ...       ...       ...       ...       ...   \n",
       "Demand_t12dg_BS_s           0.030711  0.030701  0.030658  0.030674  0.030608   \n",
       "Demand_gtca3_45_BS_s        0.030711  0.030701  0.030658  0.030674  0.030608   \n",
       "Demand_lipo1_24_BS_s        0.030711  0.030701  0.030658  0.030674  0.030608   \n",
       "Demand_tcam_BS_s            0.539554  0.539392  0.538664  0.538933  0.537795   \n",
       "dummy_demand                     NaN  0.001000  0.001000  0.001000  0.001000   \n",
       "\n",
       "                            citr__L_s  asn__L_s    acac_s     cmp_s     ump_s  \\\n",
       "biomass_dilution             0.012056  0.012061  0.012064  0.012043  0.012044   \n",
       "protein_biomass_to_biomass   0.007061  0.007065  0.007066  0.007054  0.007055   \n",
       "mRNA_biomass_to_biomass      0.000020  0.000020  0.000020  0.000020  0.000020   \n",
       "tRNA_biomass_to_biomass      0.000119  0.000119  0.000119  0.000118  0.000118   \n",
       "rRNA_biomass_to_biomass      0.000877  0.000878  0.000878  0.000876  0.000876   \n",
       "...                               ...       ...       ...       ...       ...   \n",
       "Demand_t12dg_BS_s            0.030663  0.030672  0.030684  0.030635  0.030640   \n",
       "Demand_gtca3_45_BS_s         0.030663  0.030672  0.030684  0.030635  0.030640   \n",
       "Demand_lipo1_24_BS_s         0.030663  0.030672  0.030684  0.030635  0.030640   \n",
       "Demand_tcam_BS_s             0.538743  0.538900  0.539076  0.538259  0.538332   \n",
       "dummy_demand                 0.001000  0.001000  0.001000  0.001000  0.001000   \n",
       "\n",
       "                            ...  ala__D_s  glu__L_s  pnto__R_s   dad_2_s  \\\n",
       "biomass_dilution            ...  0.012067  0.012055   0.012034  0.012034   \n",
       "protein_biomass_to_biomass  ...  0.007068  0.007061   0.007049  0.007049   \n",
       "mRNA_biomass_to_biomass     ...  0.000020  0.000020   0.000020  0.000020   \n",
       "tRNA_biomass_to_biomass     ...  0.000119  0.000119   0.000118  0.000118   \n",
       "rRNA_biomass_to_biomass     ...  0.000878  0.000877   0.000876  0.000876   \n",
       "...                         ...       ...       ...        ...       ...   \n",
       "Demand_t12dg_BS_s           ...  0.030691  0.030657   0.030620  0.030610   \n",
       "Demand_gtca3_45_BS_s        ...  0.030691  0.030657   0.030620  0.030610   \n",
       "Demand_lipo1_24_BS_s        ...  0.030691  0.030657   0.030620  0.030610   \n",
       "Demand_tcam_BS_s            ...  0.539224  0.538640   0.537977  0.537838   \n",
       "dummy_demand                ...  0.001000  0.001000   0.001000  0.001000   \n",
       "\n",
       "                            ribflv_s    3amp_s  ala__L_s    6pgc_s  pser__L_s  \\\n",
       "biomass_dilution            0.011992  0.012036  0.012067  0.012054   0.012067   \n",
       "protein_biomass_to_biomass  0.007024  0.007050  0.007068  0.007060   0.007068   \n",
       "mRNA_biomass_to_biomass     0.000020  0.000020  0.000020  0.000020   0.000020   \n",
       "tRNA_biomass_to_biomass     0.000118  0.000118  0.000119  0.000119   0.000119   \n",
       "rRNA_biomass_to_biomass     0.000872  0.000876  0.000878  0.000877   0.000878   \n",
       "...                              ...       ...       ...       ...        ...   \n",
       "Demand_t12dg_BS_s           0.030513  0.030612  0.030691  0.030661   0.030687   \n",
       "Demand_gtca3_45_BS_s        0.030513  0.030612  0.030691  0.030661   0.030687   \n",
       "Demand_lipo1_24_BS_s        0.030513  0.030612  0.030691  0.030661   0.030687   \n",
       "Demand_tcam_BS_s            0.536119  0.537875  0.539226  0.538711   0.539156   \n",
       "dummy_demand                0.001000  0.001000  0.001000  0.001000   0.001000   \n",
       "\n",
       "                            leu__L_s  \n",
       "biomass_dilution            0.012050  \n",
       "protein_biomass_to_biomass  0.007058  \n",
       "mRNA_biomass_to_biomass     0.000020  \n",
       "tRNA_biomass_to_biomass     0.000119  \n",
       "rRNA_biomass_to_biomass     0.000877  \n",
       "...                              ...  \n",
       "Demand_t12dg_BS_s           0.030656  \n",
       "Demand_gtca3_45_BS_s        0.030656  \n",
       "Demand_lipo1_24_BS_s        0.030656  \n",
       "Demand_tcam_BS_s            0.538619  \n",
       "dummy_demand                0.001000  \n",
       "\n",
       "[12340 rows x 39 columns]"
      ]
     },
     "execution_count": 225,
     "metadata": {},
     "output_type": "execute_result"
    }
   ],
   "source": [
    "flux_results_df"
   ]
  },
  {
   "cell_type": "code",
   "execution_count": null,
   "metadata": {},
   "outputs": [],
   "source": []
  }
 ],
 "metadata": {
  "kernelspec": {
   "display_name": "me_modeling",
   "language": "python",
   "name": "me_modeling"
  },
  "language_info": {
   "codemirror_mode": {
    "name": "ipython",
    "version": 3
   },
   "file_extension": ".py",
   "mimetype": "text/x-python",
   "name": "python",
   "nbconvert_exporter": "python",
   "pygments_lexer": "ipython3",
   "version": "3.6.8"
  }
 },
 "nbformat": 4,
 "nbformat_minor": 4
}
