{
 "cells": [
  {
   "cell_type": "markdown",
   "metadata": {},
   "source": [
    "# Transporter analysis of bacillus mother-spore"
   ]
  },
  {
   "cell_type": "code",
   "execution_count": 1,
   "metadata": {
    "scrolled": true
   },
   "outputs": [
    {
     "name": "stderr",
     "output_type": "stream",
     "text": [
      "/home/jt/work/cobrapy-0.5.11/cobra/io/sbml3.py:24: UserWarning: Install lxml for faster SBML I/O\n",
      "  warn(\"Install lxml for faster SBML I/O\")\n",
      "/home/jt/work/cobrapy-0.5.11/cobra/io/__init__.py:12: UserWarning: cobra.io.sbml requires libsbml\n",
      "  warn(\"cobra.io.sbml requires libsbml\")\n"
     ]
    },
    {
     "name": "stdout",
     "output_type": "stream",
     "text": [
      "/home/jt/work/cobrapy-0.5.11/cobra/__init__.py\n",
      "/home/jt/work/cobrame/cobrame/__init__.py\n",
      "/home/jt/work/sporeme/bacillusme/__init__.py\n"
     ]
    }
   ],
   "source": [
    "from __future__ import print_function, division, absolute_import\n",
    "\n",
    "import sys\n",
    "\n",
    "import qminospy\n",
    "from qminospy.me2 import ME_NLP\n",
    "\n",
    "# python imports\n",
    "from copy import copy\n",
    "import re\n",
    "from os.path import join, dirname, abspath\n",
    "import sys\n",
    "from collections import defaultdict\n",
    "import pickle\n",
    "\n",
    "# third party imports\n",
    "import pandas\n",
    "import cobra\n",
    "from tqdm import tqdm\n",
    "import numpy as np\n",
    "import scipy\n",
    "\n",
    "# COBRAme\n",
    "import cobrame\n",
    "from cobrame.util import building, mu, me_model_interface\n",
    "from cobrame.io.json import save_json_me_model, save_reduced_json_me_model\n",
    "\n",
    "# ECOLIme\n",
    "import bacillusme\n",
    "from bacillusme import (transcription, translation, flat_files, generics, formulas, compartments)\n",
    "from cobrame.util.helper_functions import *\n",
    "\n",
    "import copy\n",
    "from scipy import stats\n",
    "import matplotlib.pyplot as plt\n",
    "%load_ext autoreload\n",
    "%autoreload 2\n",
    "print(cobra.__file__)\n",
    "print(cobrame.__file__)\n",
    "print(bacillusme.__file__)\n",
    "ecoli_files = dirname(abspath(bacillusme.__file__))\n",
    "pd.set_option('display.max_colwidth', None)\n"
   ]
  },
  {
   "cell_type": "markdown",
   "metadata": {},
   "source": [
    "### PORE"
   ]
  },
  {
   "cell_type": "code",
   "execution_count": 2,
   "metadata": {},
   "outputs": [],
   "source": [
    "pd.set_option('display.max_colwidth', None)"
   ]
  },
  {
   "cell_type": "code",
   "execution_count": 3,
   "metadata": {},
   "outputs": [],
   "source": [
    "with open(\"./sporeme_solution_v4_proteomics_spoAQ.pickle\", \"rb\") as outfile:\n",
    "    sporeme = pickle.load(outfile)"
   ]
  },
  {
   "cell_type": "code",
   "execution_count": 7,
   "metadata": {},
   "outputs": [
    {
     "name": "stderr",
     "output_type": "stream",
     "text": [
      "100%|██████████| 11244/11244 [00:00<00:00, 519666.28it/s]\n"
     ]
    }
   ],
   "source": [
    "from bacillusme.util.helper_functions import get_all_transport_of_model\n",
    "transport = get_all_transport_of_model(sporeme)"
   ]
  },
  {
   "cell_type": "code",
   "execution_count": 25,
   "metadata": {
    "scrolled": true
   },
   "outputs": [
    {
     "data": {
      "text/plain": [
       "49"
      ]
     },
     "execution_count": 25,
     "metadata": {},
     "output_type": "execute_result"
    }
   ],
   "source": [
    "tmp = [r for r in transport if \"DM_\" not in r and \"trans\" not in r and \"formation\" not in r and \"demand\" not in r and \"_s\" in r]\n",
    "fluxes = pandas.Series(sporeme.solution.x_dict)[tmp]\n",
    "fluxes[fluxes!=0].shape[0]"
   ]
  },
  {
   "cell_type": "code",
   "execution_count": 62,
   "metadata": {
    "scrolled": true,
    "tags": []
   },
   "outputs": [
    {
     "data": {
      "text/html": [
       "<div>\n",
       "<style scoped>\n",
       "    .dataframe tbody tr th:only-of-type {\n",
       "        vertical-align: middle;\n",
       "    }\n",
       "\n",
       "    .dataframe tbody tr th {\n",
       "        vertical-align: top;\n",
       "    }\n",
       "\n",
       "    .dataframe thead th {\n",
       "        text-align: right;\n",
       "    }\n",
       "</style>\n",
       "<table border=\"1\" class=\"dataframe\">\n",
       "  <thead>\n",
       "    <tr style=\"text-align: right;\">\n",
       "      <th></th>\n",
       "      <th>lb</th>\n",
       "      <th>ub</th>\n",
       "      <th>rxn_flux</th>\n",
       "      <th>met_flux</th>\n",
       "      <th>reaction</th>\n",
       "    </tr>\n",
       "  </thead>\n",
       "  <tbody>\n",
       "    <tr>\n",
       "      <th>formation_combined_PORE-CPLX_s</th>\n",
       "      <td>0</td>\n",
       "      <td>1000</td>\n",
       "      <td>2.96016e-06</td>\n",
       "      <td>2.96016e-06</td>\n",
       "      <td>12.0 protein_BSU24360_Inner_Membrane + 30.0 protein_BSU24370_Inner_Membrane + protein_BSU24380_Inner_Membrane + protein_BSU24390_Inner_Membrane + protein_BSU24400_Inner_Membrane + protein_BSU24410_Inner_Membrane + protein_BSU24420_Inner_Membrane + 6.0 protein_BSU24430_Inner_Membrane + 12.0 protein_BSU36550_Inner_Membrane_s --&gt; PORE-CPLX_s</td>\n",
       "    </tr>\n",
       "    <tr>\n",
       "      <th>2PGt6_FWD_PORE-CPLX_s</th>\n",
       "      <td>0</td>\n",
       "      <td>999999</td>\n",
       "      <td>6.13171</td>\n",
       "      <td>-3.78697e-07</td>\n",
       "      <td>2pg_c + h_c --&gt; 2pg_s + -4.27350427350427e-6*sigma PORE-CPLX_s + h_s</td>\n",
       "    </tr>\n",
       "    <tr>\n",
       "      <th>CO2t_REV_PORE-CPLX_s</th>\n",
       "      <td>0</td>\n",
       "      <td>999999</td>\n",
       "      <td>4.90016</td>\n",
       "      <td>-3.02636e-07</td>\n",
       "      <td>co2_s --&gt; -4.27350427350427e-6*sigma PORE-CPLX_s + co2_c</td>\n",
       "    </tr>\n",
       "    <tr>\n",
       "      <th>L_LACt2r_REV_PORE-CPLX_s</th>\n",
       "      <td>0</td>\n",
       "      <td>999999</td>\n",
       "      <td>4.22009</td>\n",
       "      <td>-2.60635e-07</td>\n",
       "      <td>h_s + lac__L_s --&gt; -4.27350427350427e-6*sigma PORE-CPLX_s + h_c + lac__L_c</td>\n",
       "    </tr>\n",
       "    <tr>\n",
       "      <th>GSNt2_FWD_PORE-CPLX_s</th>\n",
       "      <td>0</td>\n",
       "      <td>999999</td>\n",
       "      <td>4.05551</td>\n",
       "      <td>-2.5047e-07</td>\n",
       "      <td>gsn_c + h_c --&gt; -4.27350427350427e-6*sigma PORE-CPLX_s + gsn_s + h_s</td>\n",
       "    </tr>\n",
       "    <tr>\n",
       "      <th>...</th>\n",
       "      <td>...</td>\n",
       "      <td>...</td>\n",
       "      <td>...</td>\n",
       "      <td>...</td>\n",
       "      <td>...</td>\n",
       "    </tr>\n",
       "    <tr>\n",
       "      <th>CYOR3m_FWD_PORE-CPLX_s</th>\n",
       "      <td>0</td>\n",
       "      <td>999999</td>\n",
       "      <td>0</td>\n",
       "      <td>-0</td>\n",
       "      <td>2.0 ficytcc_s + h_s + mql7_s --&gt; -4.27350427350427e-6*sigma PORE-CPLX_s + 2.0 focytcc_s + 3.0 h_c + mqn7_s</td>\n",
       "    </tr>\n",
       "    <tr>\n",
       "      <th>GSNt2_REV_PORE-CPLX_s</th>\n",
       "      <td>0</td>\n",
       "      <td>999999</td>\n",
       "      <td>0</td>\n",
       "      <td>-0</td>\n",
       "      <td>gsn_s + h_s --&gt; -4.27350427350427e-6*sigma PORE-CPLX_s + gsn_c + h_c</td>\n",
       "    </tr>\n",
       "    <tr>\n",
       "      <th>DIPEPabc12_FWD_PORE-CPLX_s</th>\n",
       "      <td>0</td>\n",
       "      <td>999999</td>\n",
       "      <td>0</td>\n",
       "      <td>-0</td>\n",
       "      <td>atp_s + h2o_s + met_L_ala__L_c --&gt; -4.27350427350427e-6*sigma PORE-CPLX_s + adp_s + h_s + met_L_ala__L_s + pi_s</td>\n",
       "    </tr>\n",
       "    <tr>\n",
       "      <th>SUCCt2r_FWD_PORE-CPLX_s</th>\n",
       "      <td>0</td>\n",
       "      <td>999999</td>\n",
       "      <td>0</td>\n",
       "      <td>-0</td>\n",
       "      <td>h_c + succ_c --&gt; -4.27350427350427e-6*sigma PORE-CPLX_s + h_s + succ_s</td>\n",
       "    </tr>\n",
       "    <tr>\n",
       "      <th>SUCD5_BS_FWD_PORE-CPLX_s</th>\n",
       "      <td>0</td>\n",
       "      <td>999999</td>\n",
       "      <td>0</td>\n",
       "      <td>-0</td>\n",
       "      <td>fadh2_s + 2.0 h_c + mqn7_s --&gt; -4.27350427350427e-6*sigma PORE-CPLX_s + fad_s + 2.0 h_s + mql7_s</td>\n",
       "    </tr>\n",
       "  </tbody>\n",
       "</table>\n",
       "<p>324 rows × 5 columns</p>\n",
       "</div>"
      ],
      "text/plain": [
       "                               lb      ub     rxn_flux     met_flux  \\\n",
       "formation_combined_PORE-CPLX_s  0    1000  2.96016e-06  2.96016e-06   \n",
       "2PGt6_FWD_PORE-CPLX_s           0  999999      6.13171 -3.78697e-07   \n",
       "CO2t_REV_PORE-CPLX_s            0  999999      4.90016 -3.02636e-07   \n",
       "L_LACt2r_REV_PORE-CPLX_s        0  999999      4.22009 -2.60635e-07   \n",
       "GSNt2_FWD_PORE-CPLX_s           0  999999      4.05551  -2.5047e-07   \n",
       "...                            ..     ...          ...          ...   \n",
       "CYOR3m_FWD_PORE-CPLX_s          0  999999            0           -0   \n",
       "GSNt2_REV_PORE-CPLX_s           0  999999            0           -0   \n",
       "DIPEPabc12_FWD_PORE-CPLX_s      0  999999            0           -0   \n",
       "SUCCt2r_FWD_PORE-CPLX_s         0  999999            0           -0   \n",
       "SUCD5_BS_FWD_PORE-CPLX_s        0  999999            0           -0   \n",
       "\n",
       "                                                                                                                                                                                                                                                                                                                                                                            reaction  \n",
       "formation_combined_PORE-CPLX_s  12.0 protein_BSU24360_Inner_Membrane + 30.0 protein_BSU24370_Inner_Membrane + protein_BSU24380_Inner_Membrane + protein_BSU24390_Inner_Membrane + protein_BSU24400_Inner_Membrane + protein_BSU24410_Inner_Membrane + protein_BSU24420_Inner_Membrane + 6.0 protein_BSU24430_Inner_Membrane + 12.0 protein_BSU36550_Inner_Membrane_s --> PORE-CPLX_s  \n",
       "2PGt6_FWD_PORE-CPLX_s                                                                                                                                                                                                                                                                                           2pg_c + h_c --> 2pg_s + -4.27350427350427e-6*sigma PORE-CPLX_s + h_s  \n",
       "CO2t_REV_PORE-CPLX_s                                                                                                                                                                                                                                                                                                        co2_s --> -4.27350427350427e-6*sigma PORE-CPLX_s + co2_c  \n",
       "L_LACt2r_REV_PORE-CPLX_s                                                                                                                                                                                                                                                                                  h_s + lac__L_s --> -4.27350427350427e-6*sigma PORE-CPLX_s + h_c + lac__L_c  \n",
       "GSNt2_FWD_PORE-CPLX_s                                                                                                                                                                                                                                                                                           gsn_c + h_c --> -4.27350427350427e-6*sigma PORE-CPLX_s + gsn_s + h_s  \n",
       "...                                                                                                                                                                                                                                                                                                                                                                              ...  \n",
       "CYOR3m_FWD_PORE-CPLX_s                                                                                                                                                                                                                                                    2.0 ficytcc_s + h_s + mql7_s --> -4.27350427350427e-6*sigma PORE-CPLX_s + 2.0 focytcc_s + 3.0 h_c + mqn7_s  \n",
       "GSNt2_REV_PORE-CPLX_s                                                                                                                                                                                                                                                                                           gsn_s + h_s --> -4.27350427350427e-6*sigma PORE-CPLX_s + gsn_c + h_c  \n",
       "DIPEPabc12_FWD_PORE-CPLX_s                                                                                                                                                                                                                                           atp_s + h2o_s + met_L_ala__L_c --> -4.27350427350427e-6*sigma PORE-CPLX_s + adp_s + h_s + met_L_ala__L_s + pi_s  \n",
       "SUCCt2r_FWD_PORE-CPLX_s                                                                                                                                                                                                                                                                                       h_c + succ_c --> -4.27350427350427e-6*sigma PORE-CPLX_s + h_s + succ_s  \n",
       "SUCD5_BS_FWD_PORE-CPLX_s                                                                                                                                                                                                                                                            fadh2_s + 2.0 h_c + mqn7_s --> -4.27350427350427e-6*sigma PORE-CPLX_s + fad_s + 2.0 h_s + mql7_s  \n",
       "\n",
       "[324 rows x 5 columns]"
      ]
     },
     "execution_count": 62,
     "metadata": {},
     "output_type": "execute_result"
    }
   ],
   "source": [
    "flux_based_reactions(sporeme,'PORE-CPLX_s',growth_symbol = 'sigma')"
   ]
  },
  {
   "cell_type": "code",
   "execution_count": 63,
   "metadata": {},
   "outputs": [
    {
     "name": "stdout",
     "output_type": "stream",
     "text": [
      "12.0 protein_BSU24360_Inner_Membrane \n",
      " 30.0 protein_BSU24370_Inner_Membrane \n",
      " protein_BSU24380_Inner_Membrane \n",
      " protein_BSU24390_Inner_Membrane \n",
      " protein_BSU24400_Inner_Membrane \n",
      " protein_BSU24410_Inner_Membrane \n",
      " protein_BSU24420_Inner_Membrane \n",
      " 6.0 protein_BSU24430_Inner_Membrane \n",
      " 12.0 protein_BSU36550_Inner_Membrane_s --> PORE-CPLX_s\n"
     ]
    }
   ],
   "source": [
    "for i in sporeme.reactions.get_by_id('formation_combined_PORE-CPLX_s').reaction.split('+'):\n",
    "    print(i)"
   ]
  },
  {
   "cell_type": "code",
   "execution_count": 64,
   "metadata": {},
   "outputs": [],
   "source": [
    "locus_to_name = pd.read_csv('../gene_name_dictionary.csv',index_col=0)['name'].to_dict()\n",
    "name_to_locus = pd.read_csv('../gene_name_dictionary.csv',index_col=1)['locus_id'].to_dict()"
   ]
  },
  {
   "cell_type": "markdown",
   "metadata": {},
   "source": [
    "### Sigmas"
   ]
  },
  {
   "cell_type": "code",
   "execution_count": 65,
   "metadata": {},
   "outputs": [
    {
     "data": {
      "text/html": [
       "<div>\n",
       "<style scoped>\n",
       "    .dataframe tbody tr th:only-of-type {\n",
       "        vertical-align: middle;\n",
       "    }\n",
       "\n",
       "    .dataframe tbody tr th {\n",
       "        vertical-align: top;\n",
       "    }\n",
       "\n",
       "    .dataframe thead th {\n",
       "        text-align: right;\n",
       "    }\n",
       "</style>\n",
       "<table border=\"1\" class=\"dataframe\">\n",
       "  <thead>\n",
       "    <tr style=\"text-align: right;\">\n",
       "      <th></th>\n",
       "      <th>MC</th>\n",
       "      <th>FS</th>\n",
       "    </tr>\n",
       "  </thead>\n",
       "  <tbody>\n",
       "    <tr>\n",
       "      <th>sigKc</th>\n",
       "      <td>0.012324</td>\n",
       "      <td>0.000000</td>\n",
       "    </tr>\n",
       "    <tr>\n",
       "      <th>sigKn</th>\n",
       "      <td>0.012324</td>\n",
       "      <td>0.000000</td>\n",
       "    </tr>\n",
       "    <tr>\n",
       "      <th>sigE</th>\n",
       "      <td>124.265906</td>\n",
       "      <td>0.000000</td>\n",
       "    </tr>\n",
       "    <tr>\n",
       "      <th>sigF</th>\n",
       "      <td>0.000000</td>\n",
       "      <td>7.543542</td>\n",
       "    </tr>\n",
       "  </tbody>\n",
       "</table>\n",
       "</div>"
      ],
      "text/plain": [
       "               MC        FS\n",
       "sigKc    0.012324  0.000000\n",
       "sigKn    0.012324  0.000000\n",
       "sigE   124.265906  0.000000\n",
       "sigF     0.000000  7.543542"
      ]
     },
     "execution_count": 65,
     "metadata": {},
     "output_type": "execute_result"
    }
   ],
   "source": [
    "l = ['sigKc','sigKn','sigE','sigF','sigG']\n",
    "d = {}\n",
    "for j in l:\n",
    "    i = name_to_locus[j]\n",
    "    rfs = 'translation_{}_s'.format(i)\n",
    "    if not sporeme.reactions.has_id(rfs):continue\n",
    "    rmc = 'translation_{}'.format(i)\n",
    "    \n",
    "    d[j] = {\n",
    "        'MC' : sporeme.solution.x_dict[rmc],\n",
    "        'FS' : sporeme.solution.x_dict[rfs]\n",
    "    }\n",
    "(pd.DataFrame.from_dict(d)*1e9).T"
   ]
  },
  {
   "cell_type": "code",
   "execution_count": null,
   "metadata": {},
   "outputs": [],
   "source": [
    "l = [i for i in name_to_locus if 'spoIIIA' in i] + ['spoIIQ']\n",
    "d = {}\n",
    "for j in l:\n",
    "    i = name_to_locus[j]\n",
    "    rfs = 'translation_{}_s'.format(i)\n",
    "    if not sporeme.reactions.has_id(rfs):continue\n",
    "    rmc = 'translation_{}'.format(i)\n",
    "    \n",
    "    d[j] = {\n",
    "        'MC' : sporeme.solution.x_dict[rmc],\n",
    "        'FS' : sporeme.solution.x_dict[rfs]\n",
    "    }\n",
    "(pd.DataFrame.from_dict(d)*1e9).sort_index(True).T"
   ]
  }
 ],
 "metadata": {
  "kernelspec": {
   "display_name": "python3.7-cobrame",
   "language": "python",
   "name": "python3.7-cobrame"
  },
  "language_info": {
   "codemirror_mode": {
    "name": "ipython",
    "version": 3
   },
   "file_extension": ".py",
   "mimetype": "text/x-python",
   "name": "python",
   "nbconvert_exporter": "python",
   "pygments_lexer": "ipython3",
   "version": "3.7.8"
  }
 },
 "nbformat": 4,
 "nbformat_minor": 4
}
