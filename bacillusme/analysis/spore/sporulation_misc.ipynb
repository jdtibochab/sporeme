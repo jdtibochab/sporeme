{
 "cells": [
  {
   "cell_type": "markdown",
   "metadata": {},
   "source": [
    "# Sporulation"
   ]
  },
  {
   "cell_type": "code",
   "execution_count": 1,
   "metadata": {
    "scrolled": true
   },
   "outputs": [
    {
     "name": "stderr",
     "output_type": "stream",
     "text": [
      "/home/jt/me_modeling/lib/python3.6/site-packages/cobra-0.5.11-py3.6-linux-x86_64.egg/cobra/io/sbml3.py:24: UserWarning: Install lxml for faster SBML I/O\n",
      "  warn(\"Install lxml for faster SBML I/O\")\n",
      "/home/jt/me_modeling/lib/python3.6/site-packages/cobra-0.5.11-py3.6-linux-x86_64.egg/cobra/io/__init__.py:12: UserWarning: cobra.io.sbml requires libsbml\n",
      "  warn(\"cobra.io.sbml requires libsbml\")\n"
     ]
    },
    {
     "name": "stdout",
     "output_type": "stream",
     "text": [
      "/home/jt/me_modeling/lib/python3.6/site-packages/cobra-0.5.11-py3.6-linux-x86_64.egg/cobra/__init__.py\n",
      "/home/jt/UCSD/cobrame/cobrame/__init__.py\n",
      "/home/jt/UCSD/ecolime-master/ecolime/__init__.py\n"
     ]
    }
   ],
   "source": [
    "from __future__ import print_function, division, absolute_import\n",
    "\n",
    "import sys\n",
    "\n",
    "import qminospy\n",
    "from qminospy.me2 import ME_NLP\n",
    "\n",
    "# python imports\n",
    "from copy import copy\n",
    "import re\n",
    "from os.path import join\n",
    "from collections import defaultdict\n",
    "import pickle\n",
    "\n",
    "# third party imports\n",
    "import pandas\n",
    "import cobra\n",
    "from tqdm import tqdm\n",
    "import numpy as np\n",
    "import scipy\n",
    "\n",
    "# COBRAme\n",
    "import cobrame\n",
    "from cobrame.util import building, mu, me_model_interface\n",
    "from cobrame.io.json import save_json_me_model, save_reduced_json_me_model\n",
    "\n",
    "# ECOLIme\n",
    "import ecolime\n",
    "from ecolime import (transcription, translation, flat_files, generics, formulas, compartments)\n",
    "from ecolime.util.helper_functions import *\n",
    "\n",
    "%load_ext autoreload\n",
    "%autoreload 2\n",
    "print(cobra.__file__)\n",
    "print(cobrame.__file__)\n",
    "print(ecolime.__file__)"
   ]
  },
  {
   "cell_type": "code",
   "execution_count": 22,
   "metadata": {
    "scrolled": true
   },
   "outputs": [
    {
     "data": {
      "text/plain": [
       "<Solution 0.12 at 0x7f79da2e9898>"
      ]
     },
     "execution_count": 22,
     "metadata": {},
     "output_type": "execute_result"
    }
   ],
   "source": [
    "eco_directory = join(flat_files.ecoli_files_dir, 'iJO1366.json')\n",
    "ijo_directory = join(flat_files.ecoli_files_dir, 'iYO844.json')\n",
    "uni_directory = join(flat_files.ecoli_files_dir, 'universal_model.json')\n",
    "\n",
    "eco = cobra.io.load_json_model(eco_directory)\n",
    "bsub = cobra.io.load_json_model(ijo_directory)\n",
    "uni = cobra.io.load_json_model(uni_directory)\n",
    "\n",
    "bsub.optimize()"
   ]
  },
  {
   "cell_type": "code",
   "execution_count": 23,
   "metadata": {
    "scrolled": true
   },
   "outputs": [],
   "source": [
    "with open('../me_models/solution.pickle', 'rb') as solution:\n",
    "    me = pickle.load(solution)"
   ]
  },
  {
   "cell_type": "markdown",
   "metadata": {},
   "source": [
    "### Is CS essential for growth? (citZ)"
   ]
  },
  {
   "cell_type": "code",
   "execution_count": 15,
   "metadata": {},
   "outputs": [],
   "source": [
    "me.reactions.get_by_id('CS_FWD_BSU29140-MONOMER').upper_bound=0"
   ]
  },
  {
   "cell_type": "code",
   "execution_count": 16,
   "metadata": {},
   "outputs": [],
   "source": [
    "me.reactions.get_by_id('CS_FWD_BSU09440-MONOMER').upper_bound=0"
   ]
  },
  {
   "cell_type": "code",
   "execution_count": 17,
   "metadata": {
    "scrolled": true
   },
   "outputs": [
    {
     "name": "stdout",
     "output_type": "stream",
     "text": [
      "iter\tmuopt    \ta     \tb     \tmu1       \tstat1\n",
      "Finished compiling expressions in 206.843772 seconds\n",
      "Finished substituting S,lb,ub in 9.316815 seconds\n",
      "Finished makeME_LP in 1.050280 seconds\n",
      "Getting MINOS parameters from ME_NLP...\n",
      "1 0.0 0.0 0.25 0.25 1\n",
      "Finished substituting S,lb,ub in 8.988180 seconds\n",
      "Finished makeME_LP in 1.024608 seconds\n",
      "Getting MINOS parameters from ME_NLP...\n",
      "2 0.0 0.0 0.125 0.125 1\n",
      "Finished substituting S,lb,ub in 8.833023 seconds\n",
      "Finished makeME_LP in 1.023247 seconds\n",
      "Getting MINOS parameters from ME_NLP...\n",
      "3 0.0625 0.0625 0.125 0.0625 optimal\n",
      "Finished substituting S,lb,ub in 8.823088 seconds\n",
      "Finished makeME_LP in 1.033025 seconds\n",
      "Getting MINOS parameters from ME_NLP...\n",
      "4 0.0625 0.0625 0.09375 0.09375 1\n",
      "Finished substituting S,lb,ub in 8.736071 seconds\n",
      "Finished makeME_LP in 1.016968 seconds\n",
      "Getting MINOS parameters from ME_NLP...\n",
      "5 0.078125 0.078125 0.09375 0.078125 optimal\n",
      "Finished substituting S,lb,ub in 8.684958 seconds\n",
      "Finished makeME_LP in 1.020726 seconds\n",
      "Getting MINOS parameters from ME_NLP...\n",
      "6 0.0859375 0.0859375 0.09375 0.0859375 optimal\n",
      "Finished substituting S,lb,ub in 8.631092 seconds\n",
      "Finished makeME_LP in 1.017161 seconds\n",
      "Getting MINOS parameters from ME_NLP...\n",
      "7 0.0859375 0.0859375 0.08984375 0.08984375 1\n",
      "Finished substituting S,lb,ub in 8.641331 seconds\n",
      "Finished makeME_LP in 1.028085 seconds\n",
      "Getting MINOS parameters from ME_NLP...\n",
      "8 0.0859375 0.0859375 0.087890625 0.087890625 1\n",
      "Finished substituting S,lb,ub in 8.677259 seconds\n",
      "Finished makeME_LP in 1.022811 seconds\n",
      "Getting MINOS parameters from ME_NLP...\n",
      "9 0.0859375 0.0859375 0.0869140625 0.0869140625 1\n",
      "Finished substituting S,lb,ub in 8.668463 seconds\n",
      "Finished makeME_LP in 1.014616 seconds\n",
      "Getting MINOS parameters from ME_NLP...\n",
      "10 0.0859375 0.0859375 0.08642578125 0.08642578125 1\n",
      "Finished substituting S,lb,ub in 8.698758 seconds\n",
      "Finished makeME_LP in 1.012748 seconds\n",
      "Getting MINOS parameters from ME_NLP...\n",
      "11 0.0859375 0.0859375 0.086181640625 0.086181640625 1\n",
      "Finished substituting S,lb,ub in 8.698337 seconds\n",
      "Finished makeME_LP in 1.030942 seconds\n",
      "Getting MINOS parameters from ME_NLP...\n",
      "12 0.0859375 0.0859375 0.0860595703125 0.0860595703125 1\n",
      "Finished substituting S,lb,ub in 8.630070 seconds\n",
      "Finished makeME_LP in 1.015488 seconds\n",
      "Getting MINOS parameters from ME_NLP...\n",
      "13 0.08599853515625 0.08599853515625 0.0860595703125 0.08599853515625 optimal\n",
      "Finished substituting S,lb,ub in 8.637835 seconds\n",
      "Finished makeME_LP in 1.023976 seconds\n",
      "Getting MINOS parameters from ME_NLP...\n",
      "14 0.086029052734375 0.086029052734375 0.0860595703125 0.086029052734375 optimal\n",
      "Finished substituting S,lb,ub in 8.626815 seconds\n",
      "Finished makeME_LP in 1.022299 seconds\n",
      "Getting MINOS parameters from ME_NLP...\n",
      "15 0.0860443115234375 0.0860443115234375 0.0860595703125 0.0860443115234375 optimal\n",
      "Finished substituting S,lb,ub in 8.874336 seconds\n",
      "Finished makeME_LP in 1.011923 seconds\n",
      "Getting MINOS parameters from ME_NLP...\n",
      "16 0.08605194091796875 0.08605194091796875 0.0860595703125 0.08605194091796875 optimal\n",
      "Finished substituting S,lb,ub in 8.768036 seconds\n",
      "Finished makeME_LP in 1.024788 seconds\n",
      "Getting MINOS parameters from ME_NLP...\n",
      "17 0.08605194091796875 0.08605194091796875 0.08605575561523438 0.08605575561523438 1\n",
      "Finished substituting S,lb,ub in 8.816753 seconds\n",
      "Finished makeME_LP in 1.012864 seconds\n",
      "Getting MINOS parameters from ME_NLP...\n",
      "18 0.08605384826660156 0.08605384826660156 0.08605575561523438 0.08605384826660156 optimal\n",
      "Finished substituting S,lb,ub in 8.794974 seconds\n",
      "Finished makeME_LP in 1.024066 seconds\n",
      "Getting MINOS parameters from ME_NLP...\n",
      "19 0.08605480194091797 0.08605480194091797 0.08605575561523438 0.08605480194091797 optimal\n",
      "Bisection done in 570.125 seconds\n"
     ]
    }
   ],
   "source": [
    "solve_me_model(me, max_mu = 0.5, min_mu = .05, using_soplex=False, precision = 1e-6)"
   ]
  },
  {
   "cell_type": "code",
   "execution_count": null,
   "metadata": {},
   "outputs": [],
   "source": [
    "flux_dict = me.get_metabolic_flux()\n",
    "pd.DataFrame.from_dict({'flux':flux_dict})#.to_csv('../fluxdist_CS-.csv')"
   ]
  },
  {
   "cell_type": "code",
   "execution_count": 18,
   "metadata": {},
   "outputs": [
    {
     "name": "stderr",
     "output_type": "stream",
     "text": [
      "100%|██████████| 1250/1250 [00:00<00:00, 4649.18it/s]\n"
     ]
    }
   ],
   "source": [
    "rxn_dict,rxn_id_dict = homogenize_reactions(bsub,eco)"
   ]
  },
  {
   "cell_type": "code",
   "execution_count": null,
   "metadata": {},
   "outputs": [],
   "source": []
  },
  {
   "cell_type": "code",
   "execution_count": null,
   "metadata": {},
   "outputs": [],
   "source": []
  },
  {
   "cell_type": "code",
   "execution_count": 9,
   "metadata": {},
   "outputs": [],
   "source": [
    "import pandas as pd\n",
    "FS_df = pd.read_csv('essentiality_raw_results_FS.csv',index_col=0).T"
   ]
  },
  {
   "cell_type": "code",
   "execution_count": 10,
   "metadata": {},
   "outputs": [],
   "source": [
    "def get_binary_essentiality(df,threshold = 1e-3,obj = 'biomass_dilution'):\n",
    "    d = {}\n",
    "    for g,row in df.T.iterrows():\n",
    "        d[g.split('_s')[0]] = 1 if row[obj] < threshold else 0\n",
    "    return d\n",
    "def get_comparison(l,annotation=[],names=[]):\n",
    "    d = {}\n",
    "    for i in l[0]:\n",
    "        if any(i not in di for di in l):\n",
    "            continue\n",
    "        v = [di[i] for di in l]\n",
    "        if not names:\n",
    "            names = range(len(l))\n",
    "        d[i] = {ni:vi for ni,vi in zip(names,v)}\n",
    "        if isinstance(annotation,pd.DataFrame):\n",
    "            p = '{}-MONOMER'.format(i)\n",
    "            if p in annotation.index:\n",
    "                d[i]['annotation'] = annotation.loc[p]['name']\n",
    "    return pd.DataFrame.from_dict(d).T"
   ]
  },
  {
   "cell_type": "code",
   "execution_count": 11,
   "metadata": {},
   "outputs": [],
   "source": [
    "FS_es = get_binary_essentiality(FS_df.T,obj = 'biomass_dilution_s')"
   ]
  },
  {
   "cell_type": "code",
   "execution_count": 12,
   "metadata": {
    "scrolled": true,
    "tags": []
   },
   "outputs": [
    {
     "data": {
      "text/plain": [
       "0"
      ]
     },
     "execution_count": 12,
     "metadata": {},
     "output_type": "execute_result"
    }
   ],
   "source": [
    "FS_es['BSU15680']"
   ]
  },
  {
   "cell_type": "code",
   "execution_count": null,
   "metadata": {},
   "outputs": [],
   "source": []
  }
 ],
 "metadata": {
  "kernelspec": {
   "display_name": "me_modeling",
   "language": "python",
   "name": "me_modeling"
  },
  "language_info": {
   "codemirror_mode": {
    "name": "ipython",
    "version": 3
   },
   "file_extension": ".py",
   "mimetype": "text/x-python",
   "name": "python",
   "nbconvert_exporter": "python",
   "pygments_lexer": "ipython3",
   "version": "3.6.8"
  }
 },
 "nbformat": 4,
 "nbformat_minor": 4
}
