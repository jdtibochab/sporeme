{
 "cells": [
  {
   "cell_type": "markdown",
   "metadata": {},
   "source": [
    "# Transporter analysis of bacillus mother-spore"
   ]
  },
  {
   "cell_type": "code",
   "execution_count": 1,
   "metadata": {
    "scrolled": true
   },
   "outputs": [
    {
     "name": "stderr",
     "output_type": "stream",
     "text": [
      "/home/jt/me_modeling/lib/python3.6/site-packages/cobra-0.5.11-py3.6-linux-x86_64.egg/cobra/io/sbml3.py:24: UserWarning: Install lxml for faster SBML I/O\n",
      "  warn(\"Install lxml for faster SBML I/O\")\n",
      "/home/jt/me_modeling/lib/python3.6/site-packages/cobra-0.5.11-py3.6-linux-x86_64.egg/cobra/io/__init__.py:12: UserWarning: cobra.io.sbml requires libsbml\n",
      "  warn(\"cobra.io.sbml requires libsbml\")\n"
     ]
    },
    {
     "name": "stdout",
     "output_type": "stream",
     "text": [
      "/home/jt/me_modeling/lib/python3.6/site-packages/cobra-0.5.11-py3.6-linux-x86_64.egg/cobra/__init__.py\n",
      "/home/jt/UCSD/cobrame/cobrame/__init__.py\n",
      "/home/jt/UCSD/bacillusme-master/bacillusme/__init__.py\n"
     ]
    }
   ],
   "source": [
    "from __future__ import print_function, division, absolute_import\n",
    "\n",
    "import sys\n",
    "\n",
    "import qminospy\n",
    "from qminospy.me2 import ME_NLP\n",
    "\n",
    "# python imports\n",
    "from copy import copy\n",
    "import re\n",
    "from os.path import join, dirname, abspath\n",
    "import sys\n",
    "sys.path.append('/home/UCSD/cobra_utils')\n",
    "from collections import defaultdict\n",
    "import pickle\n",
    "\n",
    "# third party imports\n",
    "import pandas\n",
    "import cobra\n",
    "from tqdm import tqdm\n",
    "import numpy as np\n",
    "import scipy\n",
    "\n",
    "# COBRAme\n",
    "import cobrame\n",
    "from cobrame.util import building, mu, me_model_interface\n",
    "from cobrame.io.json import save_json_me_model, save_reduced_json_me_model\n",
    "\n",
    "# ECOLIme\n",
    "import bacillusme\n",
    "from bacillusme import (transcription, translation, flat_files, generics, formulas, compartments)\n",
    "from cobrame.util.helper_functions import *\n",
    "\n",
    "import copy\n",
    "from scipy import stats\n",
    "import matplotlib.pyplot as plt\n",
    "%load_ext autoreload\n",
    "%autoreload 2\n",
    "print(cobra.__file__)\n",
    "print(cobrame.__file__)\n",
    "print(bacillusme.__file__)\n",
    "ecoli_files = dirname(abspath(bacillusme.__file__))\n",
    "pd.set_option('display.max_colwidth', None)\n"
   ]
  },
  {
   "cell_type": "code",
   "execution_count": 2,
   "metadata": {},
   "outputs": [],
   "source": [
    "with open(\"../../me_models/solution.pickle\", \"rb\") as outfile:\n",
    "    me = pickle.load(outfile)"
   ]
  },
  {
   "cell_type": "markdown",
   "metadata": {},
   "source": [
    "### NDP and NTP transport"
   ]
  },
  {
   "cell_type": "code",
   "execution_count": 3,
   "metadata": {},
   "outputs": [],
   "source": [
    "import sympy\n",
    "import cobrame\n",
    "import pickle\n",
    "from cobrame.util.helper_functions import solve_me_model,flux_based_reactions\n",
    "def gene_ko(model,genes):\n",
    "    for g in genes:\n",
    "        model.reactions.get_by_id('translation_{}'.format(g)).bounds = (0,0)\n",
    "    return model\n",
    "\n",
    "def load_spore_model(add_transport = False):\n",
    "    with open(\"./sporeme_solution_v4_proteomics.pickle\", \"rb\") as infile:\n",
    "        model = pickle.load(infile)\n",
    "    if add_transport:\n",
    "        model = add_transport_to_model(model,add_transport)\n",
    "    return model\n",
    "\n",
    "def load_me_model():\n",
    "    with open(\"/home/jt/UCSD/bacillusme-master/bacillusme/me_models/iJT964-ME.pickle\", \"rb\") as infile:\n",
    "        model = pickle.load(infile)\n",
    "    return model\n",
    "\n",
    "def get_response(model,growth_key='mu'):\n",
    "    solve_me_model(model,\n",
    "                   max_mu = 0.1,\n",
    "                   min_mu = .01,\n",
    "                   using_soplex=False,\n",
    "                   precision = 1e-6,\n",
    "                   growth_key = growth_key,\n",
    "                   verbosity=0)\n",
    "    if model.solution:\n",
    "        return model.solution.x_dict#['biomass_dilution_s']\n",
    "    else:\n",
    "        return {r.id:0. for r in model.reactions}\n",
    "    \n",
    "def add_transport_to_model(model,met,cplx = 'CPLX_dummy'):\n",
    "    rxn = cobrame.MEReaction('{}_FWD_transport'.format(met))\n",
    "    model.add_reactions([rxn])\n",
    "    rxn.add_metabolites({\n",
    "        '{}_c'.format(met):-1,\n",
    "        '{}_s'.format(met):1,\n",
    "        cplx:sympy.Symbol('-1.0*sigma')\n",
    "    })\n",
    "    rxn.bounds = (0,1000)\n",
    "    \n",
    "    rxn = cobrame.MEReaction('{}_REV_transport'.format(met))\n",
    "    model.add_reactions([rxn])\n",
    "    rxn.add_metabolites({\n",
    "        '{}_c'.format(met):1,\n",
    "        '{}_s'.format(met):-1,\n",
    "        cplx+'_s':sympy.Symbol('-1.0*sigma')\n",
    "    })\n",
    "    rxn.bounds = (0,1000)\n",
    "#     print(rxn.metabolites)\n",
    "    return model\n",
    "    \n",
    "def test_essentiality(genes,add_transport=False):\n",
    "    d = {}\n",
    "    # No deg\n",
    "    print('No deg')\n",
    "    model = load_spore_model()\n",
    "    d['no_deg'] = get_response(model,growth_key='sigma')\n",
    "    print(d['no_deg']['biomass_dilution_s'])\n",
    "    \n",
    "    # MC\n",
    "    print('MC')\n",
    "    model = load_spore_model(add_transport=add_transport)\n",
    "    mc_genes = [i for i in genes]\n",
    "    model = gene_ko(model,mc_genes)\n",
    "    d['MC'] = get_response(model,growth_key='sigma')\n",
    "    print(d['MC']['biomass_dilution_s'])\n",
    "    \n",
    "    # FS\n",
    "    print('FS')\n",
    "    model = load_spore_model(add_transport=add_transport)\n",
    "    fs_genes = [i+'_s' for i in genes]\n",
    "    model = gene_ko(model,fs_genes)\n",
    "    d['FS'] = get_response(model,growth_key='sigma')\n",
    "    print(d['FS']['biomass_dilution_s'])\n",
    "    \n",
    "    # Both\n",
    "    print('Both')\n",
    "    model = load_spore_model(add_transport=add_transport)\n",
    "    both_genes = mc_genes + fs_genes\n",
    "    model = gene_ko(model,both_genes)\n",
    "    d['both'] = get_response(model,growth_key='sigma')\n",
    "    print(d['both']['biomass_dilution_s'])\n",
    "    \n",
    "    # Germination\n",
    "    print('Germination')\n",
    "    model = load_me_model() \n",
    "    model = gene_ko(model,genes)\n",
    "    d['germination'] = get_response(model,growth_key='mu')\n",
    "    print(d['germination']['biomass_dilution'])\n",
    "    return d"
   ]
  },
  {
   "cell_type": "code",
   "execution_count": 234,
   "metadata": {},
   "outputs": [
    {
     "name": "stdout",
     "output_type": "stream",
     "text": [
      "No reactions found for dhor_c\n"
     ]
    }
   ],
   "source": [
    "flux_based_reactions(sporeme,'glx_c')"
   ]
  },
  {
   "cell_type": "code",
   "execution_count": 68,
   "metadata": {},
   "outputs": [],
   "source": [
    "results = {}"
   ]
  },
  {
   "cell_type": "code",
   "execution_count": null,
   "metadata": {
    "scrolled": true,
    "tags": []
   },
   "outputs": [
    {
     "name": "stdout",
     "output_type": "stream",
     "text": [
      "No deg\n",
      "0.06048812866210937\n",
      "MC\n"
     ]
    }
   ],
   "source": [
    "results['gmk'] = {}\n",
    "results['gmk']['no_transport'] = test_essentiality(['BSU15680']) # gmk\n",
    "results['gmk']['gdp_transport'] = test_essentiality(['BSU15680'],add_transport = 'gdp') # gmk\n",
    "results['gmk']['gtp_tr ansport'] = test_essentiality(['BSU15680'],add_transport = 'gtp') # gmk"
   ]
  },
  {
   "cell_type": "code",
   "execution_count": null,
   "metadata": {},
   "outputs": [],
   "source": [
    "results['cmk_pyrG'] = {}\n",
    "results['cmk_pyrG']['no_transport'] = test_essentiality(['BSU22890','BSU37150']) # cmk + pyrG\n",
    "results['cmk_pyrG']['cdp_transport'] = test_essentiality(['BSU22890','BSU37150'],add_transport = 'cdp')\n",
    "results['cmk_pyrG']['ctp_transport'] = test_essentiality(['BSU22890','BSU37150'],add_transport = 'ctp')"
   ]
  },
  {
   "cell_type": "code",
   "execution_count": 98,
   "metadata": {},
   "outputs": [],
   "source": [
    "with open(\"transport_results_high.pickle\", \"wb\") as outfile:\n",
    "    pickle.dump(results,outfile)"
   ]
  },
  {
   "cell_type": "code",
   "execution_count": 99,
   "metadata": {},
   "outputs": [],
   "source": [
    "with open(\"./transport_results_high.pickle\", \"rb\") as f:\n",
    "    results = pickle.load(f)"
   ]
  },
  {
   "cell_type": "code",
   "execution_count": 46,
   "metadata": {},
   "outputs": [],
   "source": [
    "import pandas as pd"
   ]
  },
  {
   "cell_type": "code",
   "execution_count": 4,
   "metadata": {},
   "outputs": [],
   "source": [
    "sporeme = load_spore_model()"
   ]
  },
  {
   "cell_type": "code",
   "execution_count": 43,
   "metadata": {
    "tags": []
   },
   "outputs": [
    {
     "data": {
      "text/plain": [
       "(0.008292884832785806, 0.0)"
      ]
     },
     "execution_count": 43,
     "metadata": {},
     "output_type": "execute_result"
    }
   ],
   "source": [
    "flux_dict = results['gmk']['gdp_transport']['FS']\n",
    "# df = flux_based_reactions(sporeme,'gdp_s',flux_dict=flux_dict)\n",
    "flux_dict['gdp_FWD_transport'],flux_dict['gdp_REV_transport']"
   ]
  },
  {
   "cell_type": "code",
   "execution_count": 44,
   "metadata": {},
   "outputs": [
    {
     "data": {
      "text/plain": [
       "(0.0, 0.00783290404466194)"
      ]
     },
     "execution_count": 44,
     "metadata": {},
     "output_type": "execute_result"
    }
   ],
   "source": [
    "flux_dict = results['gmk']['gdp_transport']['MC']\n",
    "# df = flux_based_reactions(sporeme,'gdp_s',flux_dict=flux_dict)\n",
    "flux_dict['gdp_FWD_transport'],flux_dict['gdp_REV_transport']"
   ]
  },
  {
   "cell_type": "code",
   "execution_count": 102,
   "metadata": {},
   "outputs": [
    {
     "data": {
      "image/png": "[encoded data removed]",
      "text/plain": [
       "<Figure size 288x288 with 1 Axes>"
      ]
     },
     "metadata": {
      "needs_background": "light"
     },
     "output_type": "display_data"
    }
   ],
   "source": [
    "condition = 'no_transport'\n",
    "gene = 'gmk'\n",
    "d = {k:v['biomass_dilution_s'] if 'biomass_dilution_s' in v else v['biomass_dilution'] for k,v in results[gene][condition].items()}\n",
    "df = pd.DataFrame.from_dict({'val':d})\n",
    "df = df.div(df.max()).loc[['no_deg','MC','FS','both','germination']]\n",
    "df.plot.bar(figsize=(4,4))\n",
    "plt.savefig('./figures/stage_essentiality_{}_{}.svg'.format(gene,condition),format='SVG')"
   ]
  },
  {
   "cell_type": "code",
   "execution_count": 103,
   "metadata": {},
   "outputs": [
    {
     "data": {
      "image/png": "[encoded data removed]",
      "text/plain": [
       "<Figure size 288x288 with 1 Axes>"
      ]
     },
     "metadata": {
      "needs_background": "light"
     },
     "output_type": "display_data"
    }
   ],
   "source": [
    "condition = 'gdp_transport'\n",
    "gene = 'gmk'\n",
    "d = {k:v['biomass_dilution_s'] if 'biomass_dilution_s' in v else v['biomass_dilution'] for k,v in results[gene][condition].items()}\n",
    "df = pd.DataFrame.from_dict({'val':d})\n",
    "df = df.div(df.max()).loc[['no_deg','MC','FS','both','germination']]\n",
    "df.plot.bar(figsize=(4,4))\n",
    "plt.savefig('./figures/stage_essentiality_{}_{}.svg'.format(gene,condition),format='SVG')"
   ]
  },
  {
   "cell_type": "code",
   "execution_count": 104,
   "metadata": {},
   "outputs": [
    {
     "data": {
      "image/png": "[encoded data removed]",
      "text/plain": [
       "<Figure size 288x288 with 1 Axes>"
      ]
     },
     "metadata": {
      "needs_background": "light"
     },
     "output_type": "display_data"
    }
   ],
   "source": [
    "condition = 'gtp_transport'\n",
    "gene = 'gmk'\n",
    "d = {k:v['biomass_dilution_s'] if 'biomass_dilution_s' in v else v['biomass_dilution'] for k,v in results[gene][condition].items()}\n",
    "df = pd.DataFrame.from_dict({'val':d})\n",
    "df = df.div(df.max()).loc[['no_deg','MC','FS','both','germination']]\n",
    "df.plot.bar(figsize=(4,4))\n",
    "plt.savefig('./figures/stage_essentiality_{}_{}.svg'.format(gene,condition),format='SVG')"
   ]
  },
  {
   "cell_type": "code",
   "execution_count": 105,
   "metadata": {},
   "outputs": [
    {
     "data": {
      "image/png": "[encoded data removed]",
      "text/plain": [
       "<Figure size 288x288 with 1 Axes>"
      ]
     },
     "metadata": {
      "needs_background": "light"
     },
     "output_type": "display_data"
    }
   ],
   "source": [
    "condition = 'no_transport'\n",
    "gene = 'cmk_pyrG'\n",
    "d = {k:v['biomass_dilution_s'] if 'biomass_dilution_s' in v else v['biomass_dilution'] for k,v in results[gene][condition].items()}\n",
    "df = pd.DataFrame.from_dict({'val':d})\n",
    "df = df.div(df.max()).loc[['no_deg','MC','FS','both','germination']]\n",
    "df.plot.bar(figsize=(4,4))\n",
    "plt.savefig('./figures/stage_essentiality_{}_{}.svg'.format(gene,condition),format='SVG')"
   ]
  },
  {
   "cell_type": "code",
   "execution_count": 106,
   "metadata": {},
   "outputs": [
    {
     "data": {
      "image/png": "[encoded data removed]",
      "text/plain": [
       "<Figure size 288x288 with 1 Axes>"
      ]
     },
     "metadata": {
      "needs_background": "light"
     },
     "output_type": "display_data"
    }
   ],
   "source": [
    "condition = 'cdp_transport'\n",
    "gene = 'cmk_pyrG'\n",
    "d = {k:v['biomass_dilution_s'] if 'biomass_dilution_s' in v else v['biomass_dilution'] for k,v in results[gene][condition].items()}\n",
    "df = pd.DataFrame.from_dict({'val':d})\n",
    "df = df.div(df.max()).loc[['no_deg','MC','FS','both','germination']]\n",
    "df.plot.bar(figsize=(4,4))\n",
    "plt.savefig('./figures/stage_essentiality_{}_{}.svg'.format(gene,condition),format='SVG')"
   ]
  },
  {
   "cell_type": "code",
   "execution_count": 107,
   "metadata": {},
   "outputs": [
    {
     "data": {
      "image/png": "[encoded data removed]",
      "text/plain": [
       "<Figure size 288x288 with 1 Axes>"
      ]
     },
     "metadata": {
      "needs_background": "light"
     },
     "output_type": "display_data"
    }
   ],
   "source": [
    "condition = 'ctp_transport'\n",
    "gene = 'cmk_pyrG'\n",
    "d = {k:v['biomass_dilution_s'] if 'biomass_dilution_s' in v else v['biomass_dilution'] for k,v in results[gene][condition].items()}\n",
    "df = pd.DataFrame.from_dict({'val':d})\n",
    "df = df.div(df.max()).loc[['no_deg','MC','FS','both','germination']]\n",
    "df.plot.bar(figsize=(4,4))\n",
    "plt.savefig('./figures/stage_essentiality_{}_{}.svg'.format(gene,condition),format='SVG')"
   ]
  },
  {
   "cell_type": "markdown",
   "metadata": {},
   "source": [
    "### NDK"
   ]
  },
  {
   "cell_type": "code",
   "execution_count": null,
   "metadata": {},
   "outputs": [],
   "source": [
    "d = test_essentiality(['BSU15680'])\n",
    "print(d)"
   ]
  },
  {
   "cell_type": "code",
   "execution_count": null,
   "metadata": {},
   "outputs": [],
   "source": [
    "d = {k:v['biomass_dilution_s'] if 'biomass_dilution_s' in v else v['biomass_dilution'] for k,v in d.items()}\n",
    "df = pd.DataFrame.from_dict({'val':d})\n",
    "df = df.div(df.max()).loc[['no_deg','MC','FS','both','germination']]\n",
    "df.plot.bar(figsize=(4,4))\n",
    "plt.savefig('./figures/stage_essentiality_ndk.svg'.format(gene,condition),format='SVG')"
   ]
  },
  {
   "cell_type": "markdown",
   "metadata": {},
   "source": [
    "### Is CS essential for growth? (citZ)"
   ]
  },
  {
   "cell_type": "code",
   "execution_count": 3,
   "metadata": {
    "scrolled": true
   },
   "outputs": [],
   "source": [
    "with open(\"./sporeme_solution_v4_proteomics.pickle\", \"rb\") as outfile:\n",
    "    sporeme = pickle.load(outfile)"
   ]
  },
  {
   "cell_type": "code",
   "execution_count": 15,
   "metadata": {},
   "outputs": [],
   "source": [
    "me.reactions.get_by_id('CS_FWD_BSU29140-MONOMER').upper_bound=0"
   ]
  },
  {
   "cell_type": "code",
   "execution_count": 16,
   "metadata": {},
   "outputs": [],
   "source": [
    "me.reactions.get_by_id('CS_FWD_BSU09440-MONOMER').upper_bound=0"
   ]
  },
  {
   "cell_type": "code",
   "execution_count": 17,
   "metadata": {
    "scrolled": true
   },
   "outputs": [
    {
     "name": "stdout",
     "output_type": "stream",
     "text": [
      "iter\tmuopt    \ta     \tb     \tmu1       \tstat1\n",
      "Finished compiling expressions in 206.843772 seconds\n",
      "Finished substituting S,lb,ub in 9.316815 seconds\n",
      "Finished makeME_LP in 1.050280 seconds\n",
      "Getting MINOS parameters from ME_NLP...\n",
      "1 0.0 0.0 0.25 0.25 1\n",
      "Finished substituting S,lb,ub in 8.988180 seconds\n",
      "Finished makeME_LP in 1.024608 seconds\n",
      "Getting MINOS parameters from ME_NLP...\n",
      "2 0.0 0.0 0.125 0.125 1\n",
      "Finished substituting S,lb,ub in 8.833023 seconds\n",
      "Finished makeME_LP in 1.023247 seconds\n",
      "Getting MINOS parameters from ME_NLP...\n",
      "3 0.0625 0.0625 0.125 0.0625 optimal\n",
      "Finished substituting S,lb,ub in 8.823088 seconds\n",
      "Finished makeME_LP in 1.033025 seconds\n",
      "Getting MINOS parameters from ME_NLP...\n",
      "4 0.0625 0.0625 0.09375 0.09375 1\n",
      "Finished substituting S,lb,ub in 8.736071 seconds\n",
      "Finished makeME_LP in 1.016968 seconds\n",
      "Getting MINOS parameters from ME_NLP...\n",
      "5 0.078125 0.078125 0.09375 0.078125 optimal\n",
      "Finished substituting S,lb,ub in 8.684958 seconds\n",
      "Finished makeME_LP in 1.020726 seconds\n",
      "Getting MINOS parameters from ME_NLP...\n",
      "6 0.0859375 0.0859375 0.09375 0.0859375 optimal\n",
      "Finished substituting S,lb,ub in 8.631092 seconds\n",
      "Finished makeME_LP in 1.017161 seconds\n",
      "Getting MINOS parameters from ME_NLP...\n",
      "7 0.0859375 0.0859375 0.08984375 0.08984375 1\n",
      "Finished substituting S,lb,ub in 8.641331 seconds\n",
      "Finished makeME_LP in 1.028085 seconds\n",
      "Getting MINOS parameters from ME_NLP...\n",
      "8 0.0859375 0.0859375 0.087890625 0.087890625 1\n",
      "Finished substituting S,lb,ub in 8.677259 seconds\n",
      "Finished makeME_LP in 1.022811 seconds\n",
      "Getting MINOS parameters from ME_NLP...\n",
      "9 0.0859375 0.0859375 0.0869140625 0.0869140625 1\n",
      "Finished substituting S,lb,ub in 8.668463 seconds\n",
      "Finished makeME_LP in 1.014616 seconds\n",
      "Getting MINOS parameters from ME_NLP...\n",
      "10 0.0859375 0.0859375 0.08642578125 0.08642578125 1\n",
      "Finished substituting S,lb,ub in 8.698758 seconds\n",
      "Finished makeME_LP in 1.012748 seconds\n",
      "Getting MINOS parameters from ME_NLP...\n",
      "11 0.0859375 0.0859375 0.086181640625 0.086181640625 1\n",
      "Finished substituting S,lb,ub in 8.698337 seconds\n",
      "Finished makeME_LP in 1.030942 seconds\n",
      "Getting MINOS parameters from ME_NLP...\n",
      "12 0.0859375 0.0859375 0.0860595703125 0.0860595703125 1\n",
      "Finished substituting S,lb,ub in 8.630070 seconds\n",
      "Finished makeME_LP in 1.015488 seconds\n",
      "Getting MINOS parameters from ME_NLP...\n",
      "13 0.08599853515625 0.08599853515625 0.0860595703125 0.08599853515625 optimal\n",
      "Finished substituting S,lb,ub in 8.637835 seconds\n",
      "Finished makeME_LP in 1.023976 seconds\n",
      "Getting MINOS parameters from ME_NLP...\n",
      "14 0.086029052734375 0.086029052734375 0.0860595703125 0.086029052734375 optimal\n",
      "Finished substituting S,lb,ub in 8.626815 seconds\n",
      "Finished makeME_LP in 1.022299 seconds\n",
      "Getting MINOS parameters from ME_NLP...\n",
      "15 0.0860443115234375 0.0860443115234375 0.0860595703125 0.0860443115234375 optimal\n",
      "Finished substituting S,lb,ub in 8.874336 seconds\n",
      "Finished makeME_LP in 1.011923 seconds\n",
      "Getting MINOS parameters from ME_NLP...\n",
      "16 0.08605194091796875 0.08605194091796875 0.0860595703125 0.08605194091796875 optimal\n",
      "Finished substituting S,lb,ub in 8.768036 seconds\n",
      "Finished makeME_LP in 1.024788 seconds\n",
      "Getting MINOS parameters from ME_NLP...\n",
      "17 0.08605194091796875 0.08605194091796875 0.08605575561523438 0.08605575561523438 1\n",
      "Finished substituting S,lb,ub in 8.816753 seconds\n",
      "Finished makeME_LP in 1.012864 seconds\n",
      "Getting MINOS parameters from ME_NLP...\n",
      "18 0.08605384826660156 0.08605384826660156 0.08605575561523438 0.08605384826660156 optimal\n",
      "Finished substituting S,lb,ub in 8.794974 seconds\n",
      "Finished makeME_LP in 1.024066 seconds\n",
      "Getting MINOS parameters from ME_NLP...\n",
      "19 0.08605480194091797 0.08605480194091797 0.08605575561523438 0.08605480194091797 optimal\n",
      "Bisection done in 570.125 seconds\n"
     ]
    }
   ],
   "source": [
    "solve_me_model(me, max_mu = 0.5, min_mu = .05, using_soplex=False, precision = 1e-6)"
   ]
  },
  {
   "cell_type": "code",
   "execution_count": null,
   "metadata": {},
   "outputs": [],
   "source": [
    "flux_dict = me.get_metabolic_flux()\n",
    "pd.DataFrame.from_dict({'flux':flux_dict})#.to_csv('../fluxdist_CS-.csv')"
   ]
  },
  {
   "cell_type": "markdown",
   "metadata": {},
   "source": [
    "### Closing mechanisms"
   ]
  },
  {
   "cell_type": "code",
   "execution_count": 3,
   "metadata": {
    "scrolled": true
   },
   "outputs": [],
   "source": [
    "with open(\"./sporeme_solution_v4_proteomics.pickle\", \"rb\") as outfile:\n",
    "    sporeme = pickle.load(outfile)"
   ]
  },
  {
   "cell_type": "code",
   "execution_count": 4,
   "metadata": {},
   "outputs": [
    {
     "data": {
      "text/plain": [
       "0.06048797607421875"
      ]
     },
     "execution_count": 4,
     "metadata": {},
     "output_type": "execute_result"
    }
   ],
   "source": [
    "sporeme.solution.x_dict['biomass_dilution_s']"
   ]
  },
  {
   "cell_type": "code",
   "execution_count": 5,
   "metadata": {},
   "outputs": [],
   "source": [
    "main_mechanisms = ['ACKr_REV_BSU29470-MONOMER',\n",
    "                    'PGK_REV_BSU33930-MONOMER',\n",
    "                    'PYK_FWD_BSU29180-MONOMER_mod_mn2_mod_k']"
   ]
  },
  {
   "cell_type": "code",
   "execution_count": 6,
   "metadata": {},
   "outputs": [],
   "source": [
    "for r in main_mechanisms:\n",
    "    sporeme.reactions.get_by_id(r).bounds = (0,0)\n",
    "    sporeme.reactions.get_by_id(r+'_s').bounds = (0,0)"
   ]
  },
  {
   "cell_type": "code",
   "execution_count": 8,
   "metadata": {
    "scrolled": true,
    "tags": []
   },
   "outputs": [
    {
     "name": "stdout",
     "output_type": "stream",
     "text": [
      "iter\tmuopt    \ta     \tb     \tmu1       \tstat1\n",
      "Finished compiling expressions in 271.856053 seconds\n",
      "Finished substituting S,lb,ub in 8.378582 seconds\n",
      "Finished makeME_LP in 1.616164 seconds\n",
      "Getting MINOS parameters from ME_NLP...\n",
      "1 0.0 0.0 0.05 0.05 1\n",
      "Finished substituting S,lb,ub in 8.380331 seconds\n",
      "Finished makeME_LP in 1.781484 seconds\n",
      "Getting MINOS parameters from ME_NLP...\n",
      "2 0.0 0.0 0.025 0.025 1\n",
      "Finished substituting S,lb,ub in 8.137363 seconds\n",
      "Finished makeME_LP in 1.595356 seconds\n",
      "Getting MINOS parameters from ME_NLP...\n",
      "3 0.0 0.0 0.0125 0.0125 1\n",
      "Finished substituting S,lb,ub in 7.924966 seconds\n",
      "Finished makeME_LP in 1.464949 seconds\n",
      "Getting MINOS parameters from ME_NLP...\n",
      "4 0.00625 0.00625 0.0125 0.00625 optimal\n",
      "Finished substituting S,lb,ub in 7.407033 seconds\n",
      "Finished makeME_LP in 1.441859 seconds\n",
      "Getting MINOS parameters from ME_NLP...\n",
      "5 0.009375000000000001 0.009375000000000001 0.0125 0.009375000000000001 optimal\n",
      "Finished substituting S,lb,ub in 7.140407 seconds\n",
      "Finished makeME_LP in 1.455417 seconds\n",
      "Getting MINOS parameters from ME_NLP...\n",
      "6 0.009375000000000001 0.009375000000000001 0.010937500000000001 0.010937500000000001 1\n",
      "Finished substituting S,lb,ub in 7.259026 seconds\n",
      "Finished makeME_LP in 1.438505 seconds\n",
      "Getting MINOS parameters from ME_NLP...\n",
      "7 0.010156250000000002 0.010156250000000002 0.010937500000000001 0.010156250000000002 optimal\n",
      "Bisection done in 1456.25 seconds\n"
     ]
    }
   ],
   "source": [
    "solve_me_model(sporeme, max_mu = 0.1, min_mu = .01, using_soplex=False, precision = 1e-3,growth_key = 'sigma')"
   ]
  },
  {
   "cell_type": "code",
   "execution_count": 9,
   "metadata": {},
   "outputs": [
    {
     "data": {
      "text/plain": [
       "0.010156250000000002"
      ]
     },
     "execution_count": 9,
     "metadata": {},
     "output_type": "execute_result"
    }
   ],
   "source": [
    "sporeme.solution.x_dict['biomass_dilution_s']"
   ]
  },
  {
   "cell_type": "code",
   "execution_count": null,
   "metadata": {
    "scrolled": true,
    "tags": []
   },
   "outputs": [
    {
     "name": "stdout",
     "output_type": "stream",
     "text": [
      "iter\tmuopt    \ta     \tb     \tmu1       \tstat1\n",
      "Finished compiling expressions in 255.152021 seconds\n",
      "Finished substituting S,lb,ub in 7.613632 seconds\n",
      "Finished makeME_LP in 1.692763 seconds\n",
      "Getting MINOS parameters from ME_NLP...\n",
      "1 0.0 0.0 0.05 0.05 1\n",
      "Finished substituting S,lb,ub in 7.519974 seconds\n",
      "Finished makeME_LP in 1.441841 seconds\n",
      "Getting MINOS parameters from ME_NLP...\n",
      "2 0.0 0.0 0.025 0.025 1\n",
      "Finished substituting S,lb,ub in 7.493055 seconds\n",
      "Finished makeME_LP in 1.434940 seconds\n",
      "Getting MINOS parameters from ME_NLP...\n",
      "3 0.0 0.0 0.0125 0.0125 1\n",
      "Finished substituting S,lb,ub in 7.452662 seconds\n"
     ]
    }
   ],
   "source": [
    "sporeme.reactions.get_by_id('PRPPS_REV_BSU00510-MONOMER_mod_mn2_mod_pi_s').bounds = (0,0)\n",
    "solve_me_model(sporeme, max_mu = 0.1, min_mu = .01, using_soplex=False, precision = 1e-3,growth_key = 'sigma')"
   ]
  },
  {
   "cell_type": "code",
   "execution_count": 12,
   "metadata": {},
   "outputs": [],
   "source": [
    "if sporeme.solution: sporeme.solution.x_dict['biomass_dilution_s']"
   ]
  },
  {
   "cell_type": "markdown",
   "metadata": {},
   "source": [
    "### Energy mechanisms"
   ]
  },
  {
   "cell_type": "code",
   "execution_count": 115,
   "metadata": {
    "scrolled": true
   },
   "outputs": [],
   "source": [
    "with open(\"./sporeme_solution_v4_proteomics.pickle\", \"rb\") as outfile:\n",
    "    sporeme = pickle.load(outfile)"
   ]
  },
  {
   "cell_type": "code",
   "execution_count": 116,
   "metadata": {},
   "outputs": [],
   "source": [
    "# main_mechanisms = [ 'ACKr_REV_BSU29470-MONOMER_s',\n",
    "#                     'PGK_REV_BSU33930-MONOMER_s',\n",
    "#                     'PYK_FWD_BSU29180-MONOMER_mod_mn2_mod_k_s',\n",
    "#                     'PRPPS_REV_BSU00510-MONOMER_mod_mn2_mod_pi_s']"
   ]
  },
  {
   "cell_type": "code",
   "execution_count": 110,
   "metadata": {},
   "outputs": [],
   "source": [
    "# for r in main_mechanisms:\n",
    "#     sporeme.reactions.get_by_id(r).bounds = (0,0)"
   ]
  },
  {
   "cell_type": "code",
   "execution_count": 117,
   "metadata": {
    "scrolled": true,
    "tags": []
   },
   "outputs": [],
   "source": [
    "# solve_me_model(sporeme, max_mu = 0.1, min_mu = .01, using_soplex=False, precision = 1e-6,growth_key = 'sigma')"
   ]
  },
  {
   "cell_type": "code",
   "execution_count": 118,
   "metadata": {},
   "outputs": [
    {
     "name": "stdout",
     "output_type": "stream",
     "text": [
      "<Solution 0.02 at 0x7f4963296240>\n"
     ]
    }
   ],
   "source": [
    "if sporeme.solution: print(sporeme.solution)"
   ]
  },
  {
   "cell_type": "code",
   "execution_count": 120,
   "metadata": {},
   "outputs": [],
   "source": [
    "df = flux_based_reactions(sporeme,'atp_s',only_types=['MetabolicReaction'])"
   ]
  },
  {
   "cell_type": "code",
   "execution_count": 127,
   "metadata": {},
   "outputs": [
    {
     "data": {
      "text/plain": [
       "ACKr_REV_BSU29470-MONOMER_s                        0.871869\n",
       "PGK_REV_BSU33930-MONOMER_s                        0.0598518\n",
       "PYK_FWD_BSU29180-MONOMER_mod_mn2_mod_k_s          0.0467248\n",
       "PRPPS_REV_BSU00510-MONOMER_mod_mn2_mod_pi_s       0.0138753\n",
       "ADK1_REV_BSU01370-MONOMER_mod_mg2_s              0.00756392\n",
       "URIDK2r_copy2_REV_BSU00280-MONOMER_mod_mg2_s    0.000115594\n",
       "LAAL11_FWD_BSU37710-MONOMER_s                   9.30605e-34\n",
       "LAAL10_FWD_BSU37710-MONOMER_s                   6.17895e-34\n",
       "LAAL39_FWD_BSU37710-MONOMER_s                   5.42867e-34\n",
       "LAAL29_FWD_BSU37710-MONOMER_s                   3.11326e-34\n",
       "LAAL9_FWD_BSU37710-MONOMER_s                    1.76714e-34\n",
       "LAAL23_FWD_BSU37710-MONOMER_s                   1.33991e-34\n",
       "GTPDPK_FWD_BSU27600-MONOMER_mod_mn2_s           3.38839e-36\n",
       "Name: met_flux, dtype: object"
      ]
     },
     "execution_count": 127,
     "metadata": {},
     "output_type": "execute_result"
    }
   ],
   "source": [
    "prod_df = df[df['met_flux']>0]['met_flux']\n",
    "prod_df.div(prod_df.sum())"
   ]
  },
  {
   "cell_type": "markdown",
   "metadata": {},
   "source": [
    "# Amino acids"
   ]
  },
  {
   "cell_type": "code",
   "execution_count": 221,
   "metadata": {},
   "outputs": [],
   "source": [
    "with open(\"./sporeme_solution_v4_proteomics.pickle\", \"rb\") as outfile:\n",
    "    sporeme = pickle.load(outfile)"
   ]
  },
  {
   "cell_type": "code",
   "execution_count": 225,
   "metadata": {},
   "outputs": [],
   "source": [
    "pd.DataFrame.from_dict({'flux':sporeme.solution.x_dict}).to_csv('Supplementary File 2.csv')"
   ]
  },
  {
   "cell_type": "code",
   "execution_count": 50,
   "metadata": {},
   "outputs": [
    {
     "name": "stdout",
     "output_type": "stream",
     "text": [
      "METabc_FWD_CPLX8J2-67_s\n"
     ]
    }
   ],
   "source": [
    "# for r in get_transport_reactions(sporeme,'met__L_s',comps=['c','s']):\n",
    "#     print(r.id)\n",
    "#     r.bounds = (0,0)"
   ]
  },
  {
   "cell_type": "code",
   "execution_count": null,
   "metadata": {
    "scrolled": true,
    "tags": []
   },
   "outputs": [
    {
     "name": "stdout",
     "output_type": "stream",
     "text": [
      "iter\tmuopt    \ta     \tb     \tmu1       \tstat1\n",
      "Finished compiling expressions in 262.401473 seconds\n",
      "Finished substituting S,lb,ub in 7.640560 seconds\n",
      "Finished makeME_LP in 1.458240 seconds\n",
      "Getting MINOS parameters from ME_NLP...\n",
      "1 0.05 0.05 0.1 0.05 optimal\n",
      "Finished substituting S,lb,ub in 7.455499 seconds\n",
      "Finished makeME_LP in 1.442462 seconds\n",
      "Getting MINOS parameters from ME_NLP...\n",
      "2 0.05 0.05 0.07500000000000001 0.07500000000000001 1\n",
      "Finished substituting S,lb,ub in 7.369377 seconds\n",
      "Finished makeME_LP in 1.439852 seconds\n",
      "Getting MINOS parameters from ME_NLP...\n",
      "3 0.05 0.05 0.0625 0.0625 1\n"
     ]
    }
   ],
   "source": [
    "solve_me_model(sporeme, max_mu = 0.1, min_mu = .01, using_soplex=False, precision = 1e-3,growth_key = 'sigma')"
   ]
  },
  {
   "cell_type": "code",
   "execution_count": 142,
   "metadata": {},
   "outputs": [
    {
     "name": "stdout",
     "output_type": "stream",
     "text": [
      "0.06048797607421875\n"
     ]
    }
   ],
   "source": [
    "if sporeme.solution: print(sporeme.solution.x_dict['biomass_dilution_s'])"
   ]
  },
  {
   "cell_type": "code",
   "execution_count": 179,
   "metadata": {
    "scrolled": true,
    "tags": []
   },
   "outputs": [
    {
     "name": "stdout",
     "output_type": "stream",
     "text": [
      "gly_c\n",
      "ser__L_c + thf_c --> -1.13628819200723e-5*sigma BSU36900-MONOMER + gly_c + h2o_c + mlthf_c\n",
      "0.03878370026938251\n",
      "100.0 %\n",
      "\n",
      "\n",
      "met__L_s\n",
      "5mthf_s + hcys__L_s --> -6.99881286711861e-6*sigma BSU13180-MONOMER_mod_zn2_s + h_s + met__L_s + thf_s\n",
      "0.00357686949617453\n",
      "100.0 %\n",
      "\n",
      "\n",
      "trp__L_s\n",
      "h_c + trp__L_c --> -0.000162200908237131*sigma BSU10010-MONOMER_s + h_s + trp__L_s\n",
      "0.001251207163095963\n",
      "100.0 %\n",
      "\n",
      "\n",
      "glu__L_s\n",
      "akg_s + pser__L_s --> 3php_s + -7.40403384347267e-6*sigma BSU10020-MONOMER_mod_pydx5p_s + glu__L_s\n",
      "0.07624531029838442\n",
      "86.71339611174787 %\n",
      "\n",
      "\n",
      "ser__L_s\n",
      "h2o_s + pser__L_s --> -1.94943050983268e-5*sigma BSU04740-MONOMER_s + pi_s + ser__L_s\n",
      "0.019284705696617877\n",
      "100.0 %\n",
      "\n",
      "\n",
      "lys__L_s\n",
      "h_s + lys__L_c --> -0.000131840779608342*sigma BSU10870-MONOMER_s + h_c + lys__L_s\n",
      "0.007396340179854296\n",
      "100.0 %\n",
      "\n",
      "\n",
      "phe__L_s\n",
      "glu__L_s + phpyr_s --> -4.27350427350427e-6*sigma BSU34890-MONOMER_s + akg_s + phe__L_s\n",
      "0.015741796029360294\n",
      "100.0 %\n",
      "\n",
      "\n",
      "leu__L_s\n",
      "h_c + leu__L_c --> -4.27350427350427e-6*sigma BSU29600-MONOMER_s + h_s + leu__L_s\n",
      "0.017553449725538618\n",
      "73.13039193429026 %\n",
      "\n",
      "\n",
      "thr__L_s\n",
      "h_c + thr__L_c --> -4.27350427350427e-6*sigma CPLX_dummy_s + h_s + thr__L_s\n",
      "0.025894536343526384\n",
      "100.0 %\n",
      "\n",
      "\n",
      "asp__L_s\n",
      "asp__L_c + h_c --> -4.27350427350427e-6*sigma BSU10220-MONOMER_s + asp__L_s + h_s\n",
      "0.01539656431994098\n",
      "100.0 %\n",
      "\n",
      "\n",
      "val__L_s\n",
      "3mob_s + glu__L_s --> -4.27350427350427e-6*sigma BSU38550-MONOMER_s + akg_s + val__L_s\n",
      "0.009326658026744076\n",
      "100.0 %\n",
      "\n",
      "\n",
      "pro__L_s\n",
      "h_c + pro__L_c --> -4.27350427350427e-6*sigma BSU06660-MONOMER_s + h_s + pro__L_s\n",
      "0.003728257940591851\n",
      "100.0 %\n",
      "\n",
      "\n",
      "ala__L_s\n",
      "glu__L_s + pyr_s --> -1.19969381838038e-5*sigma BSU31400-MONOMER_s + akg_s + ala__L_s\n",
      "0.04071626799722586\n",
      "100.0 %\n",
      "\n",
      "\n",
      "arg__L_s\n",
      "arg__L_c + h_c --> -4.27350427350427e-6*sigma BSU33330-MONOMER_s + arg__L_s + h_s\n",
      "0.003513250368171912\n",
      "100.0 %\n",
      "\n",
      "\n",
      "asn__L_s\n",
      "asn__L_c + h_c --> -4.27350427350427e-6*sigma CPLX_dummy_s + asn__L_s + h_s\n",
      "0.004114963408220786\n",
      "100.0 %\n",
      "\n",
      "\n",
      "ile__L_s\n",
      "2o3mpt_s + h_s + nadh_s + nh4_s --> -4.27350427350427e-6*sigma BSU24080-MONOMER_s + h2o_s + ile__L_s + nad_s\n",
      "0.009445573647331345\n",
      "100.0 %\n",
      "\n",
      "\n",
      "gln__L_s\n",
      "atp_s + glu__L_s + nh4_s --> -4.27350427350427e-6*sigma CPLX8J2-146_s + adp_s + gln__L_s + h_s + pi_s\n",
      "0.0034161899824405404\n",
      "100.0 %\n",
      "\n",
      "\n",
      "his__L_s\n",
      "h_c + his__L_c --> -4.27350427350427e-6*sigma BSU39390-MONOMER_s + h_s + his__L_s\n",
      "0.001939576692615713\n",
      "100.0 %\n",
      "\n",
      "\n",
      "tyr__L_s\n",
      "h_c + tyr__L_c --> -4.27350427350427e-6*sigma CPLX_dummy_s + h_s + tyr__L_s\n",
      "0.0036648773584203585\n",
      "100.0 %\n",
      "\n",
      "\n",
      "cys__L_s\n",
      "cyst__L_s + h2o_s --> 2obut_s + -4.27350427350427e-6*sigma BSU27250-MONOMER_mod_pydx5p_s + cys__L_s + nh4_s\n",
      "0.0004808074062805515\n",
      "100.0 %\n",
      "\n",
      "\n",
      "abt__L_s\n",
      "No production\n",
      "\n",
      "\n",
      "orn__L_s\n",
      "No production\n",
      "\n",
      "\n",
      "rbl__L_s\n",
      "No production\n",
      "\n",
      "\n",
      "mal__L_s\n",
      "No production\n",
      "\n",
      "\n",
      "hom__L_s\n",
      "aspsa_s + h_s + nadph_s --> -1.10017827564676e-5*sigma BSU32260-MONOMER_s + hom__L_s + nadp_s\n",
      "0.004057676902455082\n",
      "100.0 %\n",
      "\n",
      "\n",
      "lac__L_s\n",
      "h_s + nadh_s + pyr_s --> -9.97291188585341e-5*sigma BSU03050-MONOMER_s + lac__L_s + nad_s\n",
      "3.5366497633715706\n",
      "100.0 %\n",
      "\n",
      "\n",
      "srb__L_s\n",
      "No production\n",
      "\n",
      "\n"
     ]
    }
   ],
   "source": [
    "for m in sporeme.metabolites.query(re.compile('^[a-z]{3}__L_s|^gly_c$')):\n",
    "    df = flux_based_reactions(sporeme,m.id,only_types=['MetabolicReaction'])\n",
    "    prod = df[df['met_flux']>0]['met_flux']\n",
    "    prod = prod.div(prod.sum())\n",
    "    top = df.sort_values('met_flux').iloc[[-1]]\n",
    "    print(m)\n",
    "    if top['met_flux'][0] > 0:\n",
    "        print(top['reaction'][0])\n",
    "        print(top['met_flux'][0])\n",
    "        print('{} %'.format(str(prod.loc[top.index[0]]*100)))\n",
    "    else:\n",
    "        print('No production')\n",
    "    print('\\n')"
   ]
  },
  {
   "cell_type": "code",
   "execution_count": 202,
   "metadata": {
    "scrolled": true,
    "tags": []
   },
   "outputs": [
    {
     "name": "stdout",
     "output_type": "stream",
     "text": [
      "ump_s\n",
      "30.0 h2o_s + 30.0 uacgala_s + 30.0 udpg_s --> -4.27350427350427e-6*sigma CPLX000-68_s + 60.0 h_s + tcam_BS_s + 30.0 udp_s + 30.0 ump_s\n",
      "0.04672750624226834\n",
      "79.88297393204063 %\n",
      "\n",
      "\n",
      "amp_s\n",
      "2.0 adp_s --> -4.27350427350427e-6*sigma BSU01370-MONOMER_mod_mg2_s + amp_s + atp_s\n",
      "0.18912173697575754\n",
      "84.37705362909459 %\n",
      "\n",
      "\n",
      "cmp_s\n",
      "45.0 cdpglyc_s + uacgam_s + uacmam_s --> -4.27350427350427e-6*sigma CPLX000-65_s + 45.0 cmp_s + gtca1_45_BS_s + 46.0 h_s + udp_s + ump_s\n",
      "0.009864379138183593\n",
      "22.19677566828181 %\n",
      "\n",
      "\n",
      "gmp_s\n",
      "gmp_c + h_c --> -4.27350427350427e-6*sigma CPLX_dummy_s + gmp_s + h_s\n",
      "0.34887197559954297\n",
      "100.0 %\n",
      "\n",
      "\n"
     ]
    }
   ],
   "source": [
    "for m in sporeme.metabolites.query(re.compile('^[guca][m]p_s$')):\n",
    "    df = flux_based_reactions(sporeme,m.id,only_types=['MetabolicReaction'])\n",
    "    prod = df[df['met_flux']>0]['met_flux']\n",
    "    prod = prod.div(prod.sum())\n",
    "    top = df.sort_values('met_flux').iloc[[-1]]\n",
    "    print(m)\n",
    "    if top['met_flux'][0] > 0:\n",
    "        print(top['reaction'][0])\n",
    "        print(top['met_flux'][0])\n",
    "        print('{} %'.format(str(prod.loc[top.index[0]]*100)))\n",
    "    else:\n",
    "        print('No production')\n",
    "    print('\\n')"
   ]
  },
  {
   "cell_type": "code",
   "execution_count": 219,
   "metadata": {},
   "outputs": [
    {
     "name": "stdout",
     "output_type": "stream",
     "text": [
      "CTPS1_FWD_BSU37150-MONOMER_mod_mg2\n",
      "atp_c + nh4_c + utp_c --> -4.27350427350427e-6*sigma BSU37150-MONOMER_mod_mg2 + adp_c + ctp_c + 2.0 h_c + pi_c\n",
      "CTPS2_FWD_BSU37150-MONOMER_mod_mg2\n",
      "atp_c + gln__L_c + h2o_c + utp_c --> -3.27559071090038e-6*sigma BSU37150-MONOMER_mod_mg2 + adp_c + ctp_c + glu__L_c + 2.0 h_c + pi_c\n",
      "formation_BSU37150-MONOMER_mod_mg2\n",
      "mg2_c + 4.0 protein_BSU37150 --> BSU37150-MONOMER_mod_mg2 + 0.04861 prosthetic_group_biomass\n"
     ]
    }
   ],
   "source": [
    "for r in sporeme.metabolites.get_by_id('BSU37150-MONOMER_mod_mg2').reactions:\n",
    "    print(r.id)\n",
    "    print(r.reaction)"
   ]
  },
  {
   "cell_type": "code",
   "execution_count": 220,
   "metadata": {},
   "outputs": [
    {
     "data": {
      "text/html": [
       "<div>\n",
       "<style scoped>\n",
       "    .dataframe tbody tr th:only-of-type {\n",
       "        vertical-align: middle;\n",
       "    }\n",
       "\n",
       "    .dataframe tbody tr th {\n",
       "        vertical-align: top;\n",
       "    }\n",
       "\n",
       "    .dataframe thead th {\n",
       "        text-align: right;\n",
       "    }\n",
       "</style>\n",
       "<table border=\"1\" class=\"dataframe\">\n",
       "  <thead>\n",
       "    <tr style=\"text-align: right;\">\n",
       "      <th></th>\n",
       "      <th>lb</th>\n",
       "      <th>ub</th>\n",
       "      <th>rxn_flux</th>\n",
       "      <th>met_flux</th>\n",
       "      <th>reaction</th>\n",
       "    </tr>\n",
       "  </thead>\n",
       "  <tbody>\n",
       "    <tr>\n",
       "      <th>NDPK3_FWD_BSU22730-MONOMER_mod_mn2_s</th>\n",
       "      <td>0</td>\n",
       "      <td>999999</td>\n",
       "      <td>0.0455577</td>\n",
       "      <td>0.0455577</td>\n",
       "      <td>atp_s + cdp_s --&gt; -4.27350427350427e-6*sigma BSU22730-MONOMER_mod_mn2_s + adp_s + ctp_s</td>\n",
       "    </tr>\n",
       "    <tr>\n",
       "      <th>G3PCT_FWD_BSU35740-MONOMER_s</th>\n",
       "      <td>0</td>\n",
       "      <td>999999</td>\n",
       "      <td>0.0318895</td>\n",
       "      <td>-0.0318895</td>\n",
       "      <td>ctp_s + glyc3p_s + h_s --&gt; -4.27350427350427e-6*sigma BSU35740-MONOMER_s + cdpglyc_s + ppi_s</td>\n",
       "    </tr>\n",
       "    <tr>\n",
       "      <th>PHCYT_BS_FWD_BSU16540-MONOMER_mod_mg2_mod_k_s</th>\n",
       "      <td>0</td>\n",
       "      <td>999999</td>\n",
       "      <td>0.00699652</td>\n",
       "      <td>-0.00699652</td>\n",
       "      <td>0.01 12dag3p_BS_s + ctp_s + h_s --&gt; -1.54262689436083e-5*sigma BSU16540-MONOMER_mod_mg2_mod_k_s + 0.01 cdpdag_BS_s + ppi_s</td>\n",
       "    </tr>\n",
       "    <tr>\n",
       "      <th>MEPCT_FWD_BSU00900-MONOMER_mod_mn2_s</th>\n",
       "      <td>0</td>\n",
       "      <td>999999</td>\n",
       "      <td>0.000112629</td>\n",
       "      <td>-0.000112629</td>\n",
       "      <td>2me4p_s + ctp_s + h_s --&gt; 4c2me_s + -1.03246272317615e-5*sigma BSU00900-MONOMER_mod_mn2_s + ppi_s</td>\n",
       "    </tr>\n",
       "    <tr>\n",
       "      <th>NDPK3_REV_BSU22730-MONOMER_mod_mn2_s</th>\n",
       "      <td>0</td>\n",
       "      <td>999999</td>\n",
       "      <td>0</td>\n",
       "      <td>-0</td>\n",
       "      <td>adp_s + ctp_s --&gt; -4.27350427350427e-6*sigma BSU22730-MONOMER_mod_mn2_s + atp_s + cdp_s</td>\n",
       "    </tr>\n",
       "    <tr>\n",
       "      <th>BIOMASS_BS_10_FWD_CPLX_dummy_s</th>\n",
       "      <td>0</td>\n",
       "      <td>0</td>\n",
       "      <td>0</td>\n",
       "      <td>-0</td>\n",
       "      <td>0.000367 10fthf_s + 0.266902 ala__L_s + 0.00467 amp_s + 0.193021 arg__L_s + 0.147987 asn__L_s + 0.148014 asp__L_s + 105.053483 atp_s + 0.003205 ca2_s + 5e-06 cdlp_BS_s + 0.000251 cdp_s + 0.001042 cmp_s + 0.038902 ctp_s + 0.05699 cys__L_s + 0.00011 d12dg_BS_s + 0.022982 datp_s + 0.01738 dctp_s + 0.017398 dgtp_s + 0.022899 dttp_s + 0.00345 fe3_s + 0.00018 gdp_s + 0.260335 gln__L_s + 0.260378 glu__L_s + 0.408288 gly_s + 0.000503 gmp_s + 0.003624 gtca1_45_BS_s + 0.002347 gtca2_45_BS_s + 0.001819 gtca3_45_BS_s + 0.062667 gtp_s + 105.0 h2o_s + 0.081739 his__L_s + 0.269905 ile__L_s + 0.706312 k_s + 0.346445 leu__L_s + 7e-06 lipo1_24_BS_s + 6e-06 lipo2_24_BS_s + 1.8e-05 lipo3_24_BS_s + 1.5e-05 lipo4_24_BS_s + 0.323093 lys__L_s + 2.2e-05 lysylpgly_BS_s + 8.6e-05 m12dg_BS_s + 0.113326 met__L_s + 0.101714 mg2_s + 0.000266 mql7_s + 0.016164 nad_s + 0.000934 nadp_s + 0.000216 nadph_s + 0.101817 peptido_BS_s + 0.000176 pgly_BS_s + 0.175939 phe__L_s + 0.000918 ppi_s + 0.160642 pro__L_s + 0.00056 psetha_BS_s + 0.216213 ser__L_s + 6.6e-05 t12dg_BS_s + 0.003112 tcam_BS_s + 0.186317 thr__L_s + 0.054336 trp__L_s + 0.110824 tyr__L_s + 0.041501 utp_s + 0.306734 val__L_s --&gt; -4.27350427350427e-6*sigma CPLX_dummy_s + 104.997414 adp_s + 105.0 h_s + 104.985613 pi_s</td>\n",
       "    </tr>\n",
       "    <tr>\n",
       "      <th>G3PCT_FWD_CPLX-5322_s</th>\n",
       "      <td>0</td>\n",
       "      <td>999999</td>\n",
       "      <td>0</td>\n",
       "      <td>-0</td>\n",
       "      <td>ctp_s + glyc3p_s + h_s --&gt; -0.000185492911781972*sigma CPLX-5322_s + cdpglyc_s + ppi_s</td>\n",
       "    </tr>\n",
       "    <tr>\n",
       "      <th>CTPS1_FWD_BSU37150-MONOMER_mod_mg2_s</th>\n",
       "      <td>0</td>\n",
       "      <td>999999</td>\n",
       "      <td>0</td>\n",
       "      <td>0</td>\n",
       "      <td>atp_s + nh4_s + utp_s --&gt; -4.27350427350427e-6*sigma BSU37150-MONOMER_mod_mg2_s + adp_s + ctp_s + 2.0 h_s + pi_s</td>\n",
       "    </tr>\n",
       "    <tr>\n",
       "      <th>CTPS2_FWD_BSU37150-MONOMER_mod_mg2_s</th>\n",
       "      <td>0</td>\n",
       "      <td>999999</td>\n",
       "      <td>0</td>\n",
       "      <td>0</td>\n",
       "      <td>atp_s + gln__L_s + h2o_s + utp_s --&gt; -3.27559071090038e-6*sigma BSU37150-MONOMER_mod_mg2_s + adp_s + ctp_s + glu__L_s + 2.0 h_s + pi_s</td>\n",
       "    </tr>\n",
       "    <tr>\n",
       "      <th>PPNCL_FWD_BSU15700-MONOMER_s</th>\n",
       "      <td>0</td>\n",
       "      <td>999999</td>\n",
       "      <td>0</td>\n",
       "      <td>-0</td>\n",
       "      <td>4ppan_s + ctp_s + cys__L_s --&gt; 4ppcys_s + -3.22695132810028e-6*sigma BSU15700-MONOMER_s + cdp_s + h_s + pi_s</td>\n",
       "    </tr>\n",
       "  </tbody>\n",
       "</table>\n",
       "</div>"
      ],
      "text/plain": [
       "                                              lb      ub     rxn_flux  \\\n",
       "NDPK3_FWD_BSU22730-MONOMER_mod_mn2_s           0  999999    0.0455577   \n",
       "G3PCT_FWD_BSU35740-MONOMER_s                   0  999999    0.0318895   \n",
       "PHCYT_BS_FWD_BSU16540-MONOMER_mod_mg2_mod_k_s  0  999999   0.00699652   \n",
       "MEPCT_FWD_BSU00900-MONOMER_mod_mn2_s           0  999999  0.000112629   \n",
       "NDPK3_REV_BSU22730-MONOMER_mod_mn2_s           0  999999            0   \n",
       "BIOMASS_BS_10_FWD_CPLX_dummy_s                 0       0            0   \n",
       "G3PCT_FWD_CPLX-5322_s                          0  999999            0   \n",
       "CTPS1_FWD_BSU37150-MONOMER_mod_mg2_s           0  999999            0   \n",
       "CTPS2_FWD_BSU37150-MONOMER_mod_mg2_s           0  999999            0   \n",
       "PPNCL_FWD_BSU15700-MONOMER_s                   0  999999            0   \n",
       "\n",
       "                                                  met_flux  \\\n",
       "NDPK3_FWD_BSU22730-MONOMER_mod_mn2_s             0.0455577   \n",
       "G3PCT_FWD_BSU35740-MONOMER_s                    -0.0318895   \n",
       "PHCYT_BS_FWD_BSU16540-MONOMER_mod_mg2_mod_k_s  -0.00699652   \n",
       "MEPCT_FWD_BSU00900-MONOMER_mod_mn2_s          -0.000112629   \n",
       "NDPK3_REV_BSU22730-MONOMER_mod_mn2_s                    -0   \n",
       "BIOMASS_BS_10_FWD_CPLX_dummy_s                          -0   \n",
       "G3PCT_FWD_CPLX-5322_s                                   -0   \n",
       "CTPS1_FWD_BSU37150-MONOMER_mod_mg2_s                     0   \n",
       "CTPS2_FWD_BSU37150-MONOMER_mod_mg2_s                     0   \n",
       "PPNCL_FWD_BSU15700-MONOMER_s                            -0   \n",
       "\n",
       "                                                                                                                                                                                                                                                                                                                                                                                                                                                                                                                                                                                                                                                                                                                                                                                                                                                                                                                                                                                                                                                                                                                                                                                                                                                                                                                                                  reaction  \n",
       "NDPK3_FWD_BSU22730-MONOMER_mod_mn2_s                                                                                                                                                                                                                                                                                                                                                                                                                                                                                                                                                                                                                                                                                                                                                                                                                                                                                                                                                                                                                                                                                                                                                                                                                               atp_s + cdp_s --> -4.27350427350427e-6*sigma BSU22730-MONOMER_mod_mn2_s + adp_s + ctp_s  \n",
       "G3PCT_FWD_BSU35740-MONOMER_s                                                                                                                                                                                                                                                                                                                                                                                                                                                                                                                                                                                                                                                                                                                                                                                                                                                                                                                                                                                                                                                                                                                                                                                                                                  ctp_s + glyc3p_s + h_s --> -4.27350427350427e-6*sigma BSU35740-MONOMER_s + cdpglyc_s + ppi_s  \n",
       "PHCYT_BS_FWD_BSU16540-MONOMER_mod_mg2_mod_k_s                                                                                                                                                                                                                                                                                                                                                                                                                                                                                                                                                                                                                                                                                                                                                                                                                                                                                                                                                                                                                                                                                                                                                                                   0.01 12dag3p_BS_s + ctp_s + h_s --> -1.54262689436083e-5*sigma BSU16540-MONOMER_mod_mg2_mod_k_s + 0.01 cdpdag_BS_s + ppi_s  \n",
       "MEPCT_FWD_BSU00900-MONOMER_mod_mn2_s                                                                                                                                                                                                                                                                                                                                                                                                                                                                                                                                                                                                                                                                                                                                                                                                                                                                                                                                                                                                                                                                                                                                                                                                                     2me4p_s + ctp_s + h_s --> 4c2me_s + -1.03246272317615e-5*sigma BSU00900-MONOMER_mod_mn2_s + ppi_s  \n",
       "NDPK3_REV_BSU22730-MONOMER_mod_mn2_s                                                                                                                                                                                                                                                                                                                                                                                                                                                                                                                                                                                                                                                                                                                                                                                                                                                                                                                                                                                                                                                                                                                                                                                                                               adp_s + ctp_s --> -4.27350427350427e-6*sigma BSU22730-MONOMER_mod_mn2_s + atp_s + cdp_s  \n",
       "BIOMASS_BS_10_FWD_CPLX_dummy_s                 0.000367 10fthf_s + 0.266902 ala__L_s + 0.00467 amp_s + 0.193021 arg__L_s + 0.147987 asn__L_s + 0.148014 asp__L_s + 105.053483 atp_s + 0.003205 ca2_s + 5e-06 cdlp_BS_s + 0.000251 cdp_s + 0.001042 cmp_s + 0.038902 ctp_s + 0.05699 cys__L_s + 0.00011 d12dg_BS_s + 0.022982 datp_s + 0.01738 dctp_s + 0.017398 dgtp_s + 0.022899 dttp_s + 0.00345 fe3_s + 0.00018 gdp_s + 0.260335 gln__L_s + 0.260378 glu__L_s + 0.408288 gly_s + 0.000503 gmp_s + 0.003624 gtca1_45_BS_s + 0.002347 gtca2_45_BS_s + 0.001819 gtca3_45_BS_s + 0.062667 gtp_s + 105.0 h2o_s + 0.081739 his__L_s + 0.269905 ile__L_s + 0.706312 k_s + 0.346445 leu__L_s + 7e-06 lipo1_24_BS_s + 6e-06 lipo2_24_BS_s + 1.8e-05 lipo3_24_BS_s + 1.5e-05 lipo4_24_BS_s + 0.323093 lys__L_s + 2.2e-05 lysylpgly_BS_s + 8.6e-05 m12dg_BS_s + 0.113326 met__L_s + 0.101714 mg2_s + 0.000266 mql7_s + 0.016164 nad_s + 0.000934 nadp_s + 0.000216 nadph_s + 0.101817 peptido_BS_s + 0.000176 pgly_BS_s + 0.175939 phe__L_s + 0.000918 ppi_s + 0.160642 pro__L_s + 0.00056 psetha_BS_s + 0.216213 ser__L_s + 6.6e-05 t12dg_BS_s + 0.003112 tcam_BS_s + 0.186317 thr__L_s + 0.054336 trp__L_s + 0.110824 tyr__L_s + 0.041501 utp_s + 0.306734 val__L_s --> -4.27350427350427e-6*sigma CPLX_dummy_s + 104.997414 adp_s + 105.0 h_s + 104.985613 pi_s  \n",
       "G3PCT_FWD_CPLX-5322_s                                                                                                                                                                                                                                                                                                                                                                                                                                                                                                                                                                                                                                                                                                                                                                                                                                                                                                                                                                                                                                                                                                                                                                                                                                               ctp_s + glyc3p_s + h_s --> -0.000185492911781972*sigma CPLX-5322_s + cdpglyc_s + ppi_s  \n",
       "CTPS1_FWD_BSU37150-MONOMER_mod_mg2_s                                                                                                                                                                                                                                                                                                                                                                                                                                                                                                                                                                                                                                                                                                                                                                                                                                                                                                                                                                                                                                                                                                                                                                                                      atp_s + nh4_s + utp_s --> -4.27350427350427e-6*sigma BSU37150-MONOMER_mod_mg2_s + adp_s + ctp_s + 2.0 h_s + pi_s  \n",
       "CTPS2_FWD_BSU37150-MONOMER_mod_mg2_s                                                                                                                                                                                                                                                                                                                                                                                                                                                                                                                                                                                                                                                                                                                                                                                                                                                                                                                                                                                                                                                                                                                                                                                atp_s + gln__L_s + h2o_s + utp_s --> -3.27559071090038e-6*sigma BSU37150-MONOMER_mod_mg2_s + adp_s + ctp_s + glu__L_s + 2.0 h_s + pi_s  \n",
       "PPNCL_FWD_BSU15700-MONOMER_s                                                                                                                                                                                                                                                                                                                                                                                                                                                                                                                                                                                                                                                                                                                                                                                                                                                                                                                                                                                                                                                                                                                                                                                                                  4ppan_s + ctp_s + cys__L_s --> 4ppcys_s + -3.22695132810028e-6*sigma BSU15700-MONOMER_s + cdp_s + h_s + pi_s  "
      ]
     },
     "execution_count": 220,
     "metadata": {},
     "output_type": "execute_result"
    }
   ],
   "source": [
    "flux_based_reactions(sporeme,'ctp_s',only_types=['MetabolicReaction'])"
   ]
  },
  {
   "cell_type": "markdown",
   "metadata": {},
   "source": [
    "# With NTP transport"
   ]
  },
  {
   "cell_type": "code",
   "execution_count": 203,
   "metadata": {},
   "outputs": [],
   "source": [
    "with open(\"./sporeme_solution_v4_proteomics.pickle\", \"rb\") as outfile:\n",
    "    sporeme = pickle.load(outfile)"
   ]
  },
  {
   "cell_type": "code",
   "execution_count": 204,
   "metadata": {},
   "outputs": [],
   "source": [
    "def add_transport(model,mets):\n",
    "    for i in mets:\n",
    "        rxn = cobrame.MEReaction('{}_transport'.format(i))\n",
    "        model.add_reactions([rxn])\n",
    "        rxn.add_metabolites({\n",
    "            '{}_c'.format(i):-1,\n",
    "            '{}_s'.format(i):1\n",
    "        })\n",
    "        rxn.bounds = (-1000,1000)"
   ]
  },
  {
   "cell_type": "code",
   "execution_count": 205,
   "metadata": {},
   "outputs": [],
   "source": [
    "add_transport(sporeme,['atp','gtp','ctp','utp'])"
   ]
  },
  {
   "cell_type": "code",
   "execution_count": 206,
   "metadata": {
    "scrolled": true,
    "tags": []
   },
   "outputs": [
    {
     "name": "stdout",
     "output_type": "stream",
     "text": [
      "iter\tmuopt    \ta     \tb     \tmu1       \tstat1\n",
      "Finished compiling expressions in 279.953369 seconds\n",
      "Finished substituting S,lb,ub in 9.010928 seconds\n",
      "Finished makeME_LP in 1.584175 seconds\n",
      "Getting MINOS parameters from ME_NLP...\n"
     ]
    },
    {
     "ename": "KeyboardInterrupt",
     "evalue": "",
     "output_type": "error",
     "traceback": [
      "\u001b[0;31m---------------------------------------------------------------------------\u001b[0m",
      "\u001b[0;31mKeyboardInterrupt\u001b[0m                         Traceback (most recent call last)",
      "\u001b[0;32m<ipython-input-206-195d26e92052>\u001b[0m in \u001b[0;36m<module>\u001b[0;34m\u001b[0m\n\u001b[0;32m----> 1\u001b[0;31m \u001b[0msolve_me_model\u001b[0m\u001b[0;34m(\u001b[0m\u001b[0msporeme\u001b[0m\u001b[0;34m,\u001b[0m \u001b[0mmax_mu\u001b[0m \u001b[0;34m=\u001b[0m \u001b[0;36m0.1\u001b[0m\u001b[0;34m,\u001b[0m \u001b[0mmin_mu\u001b[0m \u001b[0;34m=\u001b[0m \u001b[0;36m.01\u001b[0m\u001b[0;34m,\u001b[0m \u001b[0musing_soplex\u001b[0m\u001b[0;34m=\u001b[0m\u001b[0;32mFalse\u001b[0m\u001b[0;34m,\u001b[0m \u001b[0mprecision\u001b[0m \u001b[0;34m=\u001b[0m \u001b[0;36m1e-3\u001b[0m\u001b[0;34m,\u001b[0m\u001b[0mgrowth_key\u001b[0m \u001b[0;34m=\u001b[0m \u001b[0;34m'sigma'\u001b[0m\u001b[0;34m)\u001b[0m\u001b[0;34m\u001b[0m\u001b[0;34m\u001b[0m\u001b[0m\n\u001b[0m",
      "\u001b[0;32m~/UCSD/cobrame/cobrame/util/helper_functions.py\u001b[0m in \u001b[0;36msolve_me_model\u001b[0;34m(me, max_mu, precision, min_mu, using_soplex, compiled_expressions, verbosity, mu_fix, growth_key)\u001b[0m\n\u001b[1;32m    309\u001b[0m             \u001b[0mme_nlp\u001b[0m \u001b[0;34m=\u001b[0m \u001b[0mME_NLP1\u001b[0m\u001b[0;34m(\u001b[0m\u001b[0mme\u001b[0m\u001b[0;34m,\u001b[0m \u001b[0mgrowth_key\u001b[0m\u001b[0;34m=\u001b[0m\u001b[0mgrowth_key\u001b[0m\u001b[0;34m)\u001b[0m\u001b[0;34m\u001b[0m\u001b[0;34m\u001b[0m\u001b[0m\n\u001b[1;32m    310\u001b[0m             \u001b[0;31m# Use bisection for now (until the NLP formulation is worked out)\u001b[0m\u001b[0;34m\u001b[0m\u001b[0;34m\u001b[0m\u001b[0;34m\u001b[0m\u001b[0m\n\u001b[0;32m--> 311\u001b[0;31m             \u001b[0mmuopt\u001b[0m\u001b[0;34m,\u001b[0m \u001b[0mhs\u001b[0m\u001b[0;34m,\u001b[0m \u001b[0mxopt\u001b[0m\u001b[0;34m,\u001b[0m \u001b[0mcache\u001b[0m \u001b[0;34m=\u001b[0m \u001b[0mme_nlp\u001b[0m\u001b[0;34m.\u001b[0m\u001b[0mbisectmu\u001b[0m\u001b[0;34m(\u001b[0m\u001b[0mprecision\u001b[0m\u001b[0;34m=\u001b[0m\u001b[0mprecision\u001b[0m\u001b[0;34m,\u001b[0m \u001b[0mmumax\u001b[0m\u001b[0;34m=\u001b[0m\u001b[0mmax_mu\u001b[0m\u001b[0;34m,\u001b[0m \u001b[0mverbosity\u001b[0m\u001b[0;34m=\u001b[0m\u001b[0mverbosity\u001b[0m\u001b[0;34m)\u001b[0m\u001b[0;34m\u001b[0m\u001b[0;34m\u001b[0m\u001b[0m\n\u001b[0m\u001b[1;32m    312\u001b[0m             \u001b[0;32mtry\u001b[0m\u001b[0;34m:\u001b[0m\u001b[0;34m\u001b[0m\u001b[0;34m\u001b[0m\u001b[0m\n\u001b[1;32m    313\u001b[0m                 \u001b[0mme\u001b[0m\u001b[0;34m.\u001b[0m\u001b[0msolution\u001b[0m\u001b[0;34m.\u001b[0m\u001b[0mf\u001b[0m \u001b[0;34m=\u001b[0m \u001b[0mme\u001b[0m\u001b[0;34m.\u001b[0m\u001b[0msolution\u001b[0m\u001b[0;34m.\u001b[0m\u001b[0mx_dict\u001b[0m\u001b[0;34m[\u001b[0m\u001b[0;34m'biomass_dilution'\u001b[0m\u001b[0;34m]\u001b[0m\u001b[0;34m\u001b[0m\u001b[0;34m\u001b[0m\u001b[0m\n",
      "\u001b[0;32m~/UCSD/solvemepy-master/qminospy/me1.py\u001b[0m in \u001b[0;36mbisectmu\u001b[0;34m(self, precision, mumin, mumax, maxIter, quad, basis, nlp_compat, check_feas0, zero_mu, verbosity, solver_precision)\u001b[0m\n\u001b[1;32m    463\u001b[0m             \u001b[0mmu1\u001b[0m \u001b[0;34m=\u001b[0m \u001b[0;34m(\u001b[0m\u001b[0ma\u001b[0m\u001b[0;34m+\u001b[0m\u001b[0mb\u001b[0m\u001b[0;34m)\u001b[0m\u001b[0;34m/\u001b[0m\u001b[0;36m2.\u001b[0m\u001b[0;34m\u001b[0m\u001b[0;34m\u001b[0m\u001b[0m\n\u001b[1;32m    464\u001b[0m             \u001b[0;31m# Retrieve evaluation from cache if it exists: golden section advantage\u001b[0m\u001b[0;34m\u001b[0m\u001b[0;34m\u001b[0m\u001b[0;34m\u001b[0m\u001b[0m\n\u001b[0;32m--> 465\u001b[0;31m             \u001b[0mstat1\u001b[0m\u001b[0;34m,\u001b[0m \u001b[0mhs\u001b[0m\u001b[0;34m,\u001b[0m \u001b[0msol1\u001b[0m\u001b[0;34m,\u001b[0m \u001b[0mx1\u001b[0m \u001b[0;34m=\u001b[0m \u001b[0mcheckmu\u001b[0m\u001b[0;34m(\u001b[0m\u001b[0mmu1\u001b[0m\u001b[0;34m,\u001b[0m \u001b[0mhs\u001b[0m\u001b[0;34m)\u001b[0m\u001b[0;34m\u001b[0m\u001b[0;34m\u001b[0m\u001b[0m\n\u001b[0m\u001b[1;32m    466\u001b[0m             \u001b[0;32mif\u001b[0m \u001b[0mstat1\u001b[0m \u001b[0;32mis\u001b[0m \u001b[0;34m'optimal'\u001b[0m\u001b[0;34m:\u001b[0m\u001b[0;34m\u001b[0m\u001b[0;34m\u001b[0m\u001b[0m\n\u001b[1;32m    467\u001b[0m                 \u001b[0ma\u001b[0m \u001b[0;34m=\u001b[0m \u001b[0mmu1\u001b[0m\u001b[0;34m\u001b[0m\u001b[0;34m\u001b[0m\u001b[0m\n",
      "\u001b[0;32m~/UCSD/solvemepy-master/qminospy/me1.py\u001b[0m in \u001b[0;36mcheckmu\u001b[0;34m(muf, hs)\u001b[0m\n\u001b[1;32m    437\u001b[0m                 x_new, stat_new, hs_new = self.solvelp(\n\u001b[1;32m    438\u001b[0m                     \u001b[0mmuf\u001b[0m\u001b[0;34m,\u001b[0m \u001b[0mbasis\u001b[0m\u001b[0;34m=\u001b[0m\u001b[0mhs\u001b[0m\u001b[0;34m,\u001b[0m \u001b[0mnlp_compat\u001b[0m\u001b[0;34m=\u001b[0m\u001b[0mnlp_compat\u001b[0m\u001b[0;34m,\u001b[0m \u001b[0mverbosity\u001b[0m\u001b[0;34m=\u001b[0m\u001b[0mverbosity\u001b[0m\u001b[0;34m,\u001b[0m\u001b[0;34m\u001b[0m\u001b[0;34m\u001b[0m\u001b[0m\n\u001b[0;32m--> 439\u001b[0;31m                     precision=solver_precision)\n\u001b[0m\u001b[1;32m    440\u001b[0m                 \u001b[0;32mif\u001b[0m \u001b[0mme\u001b[0m\u001b[0;34m.\u001b[0m\u001b[0msolution\u001b[0m\u001b[0;34m.\u001b[0m\u001b[0mstatus\u001b[0m \u001b[0;32mis\u001b[0m \u001b[0;34m'optimal'\u001b[0m\u001b[0;34m:\u001b[0m\u001b[0;34m\u001b[0m\u001b[0;34m\u001b[0m\u001b[0m\n\u001b[1;32m    441\u001b[0m                     \u001b[0mhs\u001b[0m \u001b[0;34m=\u001b[0m \u001b[0mhs_new\u001b[0m\u001b[0;34m\u001b[0m\u001b[0;34m\u001b[0m\u001b[0m\n",
      "\u001b[0;32m~/UCSD/solvemepy-master/qminospy/me2.py\u001b[0m in \u001b[0;36msolvelp\u001b[0;34m(self, muf, quad, basis, nlp_compat, verbose, lpopt_file, verbosity, precision)\u001b[0m\n\u001b[1;32m    396\u001b[0m                                       \u001b[0mnstropts\u001b[0m \u001b[0;34m=\u001b[0m \u001b[0mnStrOpts\u001b[0m\u001b[0;34m,\u001b[0m\u001b[0;34m\u001b[0m\u001b[0;34m\u001b[0m\u001b[0m\n\u001b[1;32m    397\u001b[0m                                       \u001b[0mnintopts\u001b[0m \u001b[0;34m=\u001b[0m \u001b[0mnIntOpts\u001b[0m\u001b[0;34m,\u001b[0m\u001b[0;34m\u001b[0m\u001b[0;34m\u001b[0m\u001b[0m\n\u001b[0;32m--> 398\u001b[0;31m                                       nrealopts = nRealOpts)\n\u001b[0m\u001b[1;32m    399\u001b[0m         \u001b[0;32melif\u001b[0m \u001b[0mprecision\u001b[0m \u001b[0;34m==\u001b[0m \u001b[0;34m'double'\u001b[0m\u001b[0;34m:\u001b[0m\u001b[0;34m\u001b[0m\u001b[0;34m\u001b[0m\u001b[0m\n\u001b[1;32m    400\u001b[0m             \u001b[0mstropts\u001b[0m\u001b[0;34m,\u001b[0m\u001b[0mintopts\u001b[0m\u001b[0;34m,\u001b[0m\u001b[0mrealopts\u001b[0m\u001b[0;34m,\u001b[0m\u001b[0mintvals\u001b[0m\u001b[0;34m,\u001b[0m\u001b[0mrealvals\u001b[0m\u001b[0;34m,\u001b[0m\u001b[0mnStrOpts\u001b[0m\u001b[0;34m,\u001b[0m\u001b[0mnIntOpts\u001b[0m\u001b[0;34m,\u001b[0m\u001b[0mnRealOpts\u001b[0m \u001b[0;34m=\u001b[0m\u001b[0;31m\\\u001b[0m\u001b[0;34m\u001b[0m\u001b[0;34m\u001b[0m\u001b[0m\n",
      "\u001b[0;31mKeyboardInterrupt\u001b[0m: "
     ]
    }
   ],
   "source": [
    "solve_me_model(sporeme, max_mu = 0.1, min_mu = .01, using_soplex=False, precision = 1e-3,growth_key = 'sigma')"
   ]
  },
  {
   "cell_type": "code",
   "execution_count": null,
   "metadata": {},
   "outputs": [],
   "source": []
  },
  {
   "cell_type": "markdown",
   "metadata": {},
   "source": [
    "# Characterizing transport"
   ]
  },
  {
   "cell_type": "code",
   "execution_count": null,
   "metadata": {},
   "outputs": [],
   "source": [
    "version = 'v4_proteomics'"
   ]
  },
  {
   "cell_type": "code",
   "execution_count": 55,
   "metadata": {},
   "outputs": [],
   "source": [
    "with open(\"./sporeme_solution_{}.pickle\".format(version), \"rb\") as outfile:\n",
    "    sporeme = pickle.load(outfile)"
   ]
  },
  {
   "cell_type": "code",
   "execution_count": null,
   "metadata": {},
   "outputs": [],
   "source": [
    "# Previously identified essential metabolites\n",
    "exchange_list = ['4fe4s_s','2fe2s_s','udcpp_s','pydx5p_s','3fe4s_s','cl_s','sheme_s','cu_s','mn2_s',\n",
    "                 'bmocogdp_s','dpm_s','thmpp_s','zn2_s','cbl1_s','cobalt2_s']\n",
    "additional = [m.id for m in sporeme.metabolites if isinstance(m,cobrame.Metabolite)]\n",
    "transported_metabolites = exchange_list+additional"
   ]
  },
  {
   "cell_type": "code",
   "execution_count": null,
   "metadata": {
    "scrolled": true
   },
   "outputs": [],
   "source": [
    "# Get transport reactions\n",
    "\n",
    "def get_compartments(r):\n",
    "    comps = []\n",
    "    if isinstance(r,cobrame.MetabolicReaction):\n",
    "        for m in r.metabolites:\n",
    "            if isinstance(m,cobrame.Metabolite):\n",
    "                comps.append(m.id[-1])\n",
    "    return list(set(comps))\n",
    "\n",
    "def get_all_transport(model):\n",
    "    transport_reactions = []\n",
    "    for r in tqdm(model.reactions):\n",
    "        comps = get_compartments(r)\n",
    "        if len(comps) > 1 and 's' in comps:\n",
    "            transport_reactions.append(r.id)\n",
    "    return list(set(transport_reactions))\n",
    "\n",
    "def get_active_transport(transport_reactions):\n",
    "    active_transporters = []\n",
    "    for r in tqdm(transport_reactions):\n",
    "        if 'SPONT' not in r and abs(sporeme.solution.x_dict[r])>0.:\n",
    "            active_transporters.append(r)\n",
    "    # Include arginine transport\n",
    "    arginine_transport = [r.id for r in get_transport_reactions(sporeme,'arg__L_c',comps=['c','s'])+get_transport_reactions(sporeme,'arg__L_c',comps=['s','c'])]\n",
    "    [active_transporters.append(r) for r in arginine_transport]\n",
    "    active_transporters = list(set(active_transporters))\n",
    "    return active_transporters"
   ]
  },
  {
   "cell_type": "markdown",
   "metadata": {},
   "source": [
    "## Check by group of transporters of metabolite"
   ]
  },
  {
   "cell_type": "code",
   "execution_count": null,
   "metadata": {},
   "outputs": [],
   "source": [
    "def get_necessary_metabolites(model,active_transporters):\n",
    "    necessary_metabolites = []\n",
    "    for r in tqdm(active_transporters):\n",
    "        rxn = model.reactions.get_by_id(r)\n",
    "        for m in rxn.products:\n",
    "            if not isinstance(m,cobrame.Metabolite):\n",
    "                continue\n",
    "            met_root = m.id[:-2]\n",
    "            for i in rxn.reactants:\n",
    "                if met_root in i.id:\n",
    "                    necessary_metabolites.append(m.id)\n",
    "    return list(set(necessary_metabolites))\n",
    "\n",
    "def get_all_available_transport(model,necessary_metabolites):\n",
    "    available_transport = []\n",
    "    at_dict = {}\n",
    "    for m in tqdm(necessary_metabolites):\n",
    "        rxns = get_transport_reactions(model,m,comps=['c','s']) + get_transport_reactions(model,m,comps=['s','c'])\n",
    "        [available_transport.append(r.id) for r in rxns]\n",
    "        at_dict[m] = []\n",
    "        [at_dict[m].append(r.id) for r in rxns]\n",
    "    return list(set(available_transport)), at_dict"
   ]
  },
  {
   "cell_type": "code",
   "execution_count": null,
   "metadata": {},
   "outputs": [],
   "source": [
    "# Previously identified essential metabolites\n",
    "exchange_list = ['4fe4s_s','2fe2s_s','udcpp_s','pydx5p_s','3fe4s_s','cl_s','sheme_s','cu_s','mn2_s',\n",
    "                 'bmocogdp_s','dpm_s','thmpp_s','zn2_s','cbl1_s','cobalt2_s']\n",
    "additional = [m.id for m in sporeme.metabolites if isinstance(m,cobrame.Metabolite)]\n",
    "transported_metabolites = exchange_list+additional"
   ]
  },
  {
   "cell_type": "code",
   "execution_count": null,
   "metadata": {},
   "outputs": [],
   "source": [
    "transport_reactions = get_all_transport(sporeme)\n",
    "print('{} transport reactions identified'.format(len(transport_reactions)))"
   ]
  },
  {
   "cell_type": "code",
   "execution_count": null,
   "metadata": {
    "scrolled": true
   },
   "outputs": [],
   "source": [
    "active_transporters = get_active_transport(transport_reactions)\n",
    "necessary_metabolites = get_necessary_metabolites(sporeme,active_transporters)\n",
    "necessary_metabolites.remove('h_s')\n",
    "necessary_metabolites.remove('h_c')\n",
    "available_transport, at_dict = get_all_available_transport(sporeme,necessary_metabolites)"
   ]
  },
  {
   "cell_type": "code",
   "execution_count": null,
   "metadata": {},
   "outputs": [],
   "source": [
    "print('{} active transport reactions identified'.format(len(active_transporters)))\n",
    "print('{} necessary metabolites identified'.format(len(necessary_metabolites)))\n",
    "print('{} available transport reactions identified'.format(len(available_transport)))"
   ]
  },
  {
   "cell_type": "code",
   "execution_count": null,
   "metadata": {},
   "outputs": [],
   "source": [
    "all_transporters_to_open = list(set(active_transporters + available_transport))\n",
    "print('{} open transport reactions identified'.format(len(all_transporters_to_open)))\n",
    "print('Included {}'.format(set(active_transporters)-set(available_transport)))"
   ]
  },
  {
   "cell_type": "code",
   "execution_count": null,
   "metadata": {},
   "outputs": [],
   "source": [
    "for r in transport_reactions:\n",
    "    if r not in all_transporters_to_open and 'SPONT' not in r:\n",
    "        rxn = sporeme.reactions.get_by_id(r)\n",
    "        rxn.upper_bound = 0 \n",
    "        rxn.lower_bound = 0"
   ]
  },
  {
   "cell_type": "code",
   "execution_count": null,
   "metadata": {
    "scrolled": true
   },
   "outputs": [],
   "source": [
    "solve_me_model(sporeme, max_mu = 0.1, min_mu = .01, using_soplex=False, precision = 1e-6,growth_key = 'sigma')"
   ]
  },
  {
   "cell_type": "code",
   "execution_count": null,
   "metadata": {
    "scrolled": true,
    "tags": []
   },
   "outputs": [],
   "source": [
    "from bacillusme.analysis import sensitivity as ss\n",
    "flux_results_df = ss.transporter_knockout(sporeme,necessary_metabolites, \\\n",
    "                                        NP=20,solution=1,biomass_dilution='biomass_dilution_s',\\\n",
    "                                        growth_key = 'sigma',single_change_function='group_knockout')"
   ]
  },
  {
   "cell_type": "code",
   "execution_count": null,
   "metadata": {},
   "outputs": [],
   "source": [
    "flux_results_df.to_csv('group_KO_flux_results_{}.csv'.format(version))"
   ]
  },
  {
   "cell_type": "code",
   "execution_count": null,
   "metadata": {},
   "outputs": [],
   "source": [
    "flux_results_df = pd.read_csv('group_KO_flux_results_{}.csv'.format(version),index_col=0)\n",
    "flux_results_df.loc['biomass_dilution_s'].sort_values().plot.bar(figsize=(12 ,4))\n",
    "plt.tight_layout()\n",
    "plt.savefig(\"./figures/group_KO_flux_results_{}.svg\".format(version), format=\"SVG\")"
   ]
  },
  {
   "cell_type": "markdown",
   "metadata": {},
   "source": [
    "### Close metabolite one by one\n",
    "Including information about arginine being transported"
   ]
  },
  {
   "cell_type": "code",
   "execution_count": null,
   "metadata": {
    "scrolled": true
   },
   "outputs": [],
   "source": [
    "with open(\"./sporeme_solution_{}.pickle\".format(version), \"rb\") as outfile:\n",
    "    sporeme = pickle.load(outfile)"
   ]
  },
  {
   "cell_type": "code",
   "execution_count": null,
   "metadata": {},
   "outputs": [],
   "source": [
    "for r in transport_reactions:\n",
    "    if r not in all_transporters_to_open and 'SPONT' not in r:\n",
    "        rxn = sporeme.reactions.get_by_id(r)\n",
    "        rxn.upper_bound = 0 \n",
    "        rxn.lower_bound = 0"
   ]
  },
  {
   "cell_type": "code",
   "execution_count": null,
   "metadata": {},
   "outputs": [],
   "source": [
    "flux_results_df = pd.read_csv('group_KO_flux_results_{}.csv'.format(version),index_col=0)\n",
    "sorted_mets = flux_results_df.loc['biomass_dilution_s'].sort_values(ascending=False).drop('base').index.to_list()"
   ]
  },
  {
   "cell_type": "code",
   "execution_count": null,
   "metadata": {},
   "outputs": [],
   "source": [
    "sorted_mets.remove('arg__L_s')\n",
    "sorted_mets.append('arg__L_s')"
   ]
  },
  {
   "cell_type": "code",
   "execution_count": null,
   "metadata": {
    "scrolled": true
   },
   "outputs": [],
   "source": [
    "from bacillusme.analysis import sensitivity as ss\n",
    "flux_results_df = ss.transporter_knockout(sporeme,sorted_mets, \\\n",
    "                                        NP=20,solution=1,biomass_dilution='biomass_dilution_s',\\\n",
    "                                        growth_key = 'sigma',single_change_function='group_knockout',sequential=True)\n",
    "flux_results_df.to_csv('group_1by1_KO_flux_results_{}.csv'.format(version))"
   ]
  },
  {
   "cell_type": "code",
   "execution_count": null,
   "metadata": {},
   "outputs": [],
   "source": [
    "flux_results_df = pd.read_csv('group_1by1_KO_flux_results_{}.csv'.format(version),index_col=0)\n",
    "flux_results_df.loc['biomass_dilution_s',sorted_mets[::-1]].plot.bar(figsize=(12,4))\n",
    "plt.tight_layout()\n",
    "plt.savefig(\"./figures/group_1by1_KO_flux_results_{}.svg\".format(version), format=\"SVG\")"
   ]
  },
  {
   "cell_type": "markdown",
   "metadata": {},
   "source": [
    "# Cases"
   ]
  },
  {
   "cell_type": "code",
   "execution_count": null,
   "metadata": {},
   "outputs": [],
   "source": [
    "pd.set_option('display.max_colwidth', None)"
   ]
  },
  {
   "cell_type": "markdown",
   "metadata": {},
   "source": [
    "### Original"
   ]
  },
  {
   "cell_type": "code",
   "execution_count": 128,
   "metadata": {},
   "outputs": [],
   "source": [
    "# CYTK2 KO\n",
    "version = 'v4'"
   ]
  },
  {
   "cell_type": "code",
   "execution_count": 135,
   "metadata": {},
   "outputs": [
    {
     "data": {
      "text/plain": [
       "<AxesSubplot:>"
      ]
     },
     "execution_count": 135,
     "metadata": {},
     "output_type": "execute_result"
    },
    {
     "data": {
      "image/png": "[encoded data removed]",
      "text/plain": [
       "<Figure size 864x288 with 1 Axes>"
      ]
     },
     "metadata": {
      "needs_background": "light"
     },
     "output_type": "display_data"
    }
   ],
   "source": [
    "flux_results_df = pd.read_csv('group_KO_flux_results_{}.csv'.format(version),index_col=0)\n",
    "flux_results_df.loc['biomass_dilution_s'].sort_values().plot.bar(figsize=(12 ,4))"
   ]
  },
  {
   "cell_type": "code",
   "execution_count": 136,
   "metadata": {},
   "outputs": [
    {
     "name": "stdout",
     "output_type": "stream",
     "text": [
      "asn__L_s\n"
     ]
    }
   ],
   "source": [
    "flux_results_df = pd.read_csv('group_1by1_KO_flux_results_{}.csv'.format(version),index_col=0)\n",
    "sorted_mets = flux_results_df.loc['biomass_dilution_s'].sort_values(ascending=True)\n",
    "last_met = sorted_mets.index[list(sorted_mets.index).index(sorted_mets[sorted_mets<1e-5].index[-1])+1]\n",
    "print(last_met)\n",
    "flux_dict = flux_results_df[last_met].to_dict() # Last time before model breaks"
   ]
  },
  {
   "cell_type": "code",
   "execution_count": 137,
   "metadata": {},
   "outputs": [
    {
     "data": {
      "image/png": "[encoded data removed]",
      "text/plain": [
       "<Figure size 864x288 with 1 Axes>"
      ]
     },
     "metadata": {
      "needs_background": "light"
     },
     "output_type": "display_data"
    }
   ],
   "source": [
    "flux_results_df = pd.read_csv('group_1by1_KO_flux_results_{}.csv'.format(version),index_col=0)\n",
    "flux_results_df.loc['biomass_dilution_s',sorted_mets.index[::-1]].plot.bar(figsize=(12,4))\n",
    "plt.tight_layout()"
   ]
  },
  {
   "cell_type": "code",
   "execution_count": 132,
   "metadata": {},
   "outputs": [
    {
     "data": {
      "text/plain": [
       "0.02168148122087299"
      ]
     },
     "execution_count": 132,
     "metadata": {},
     "output_type": "execute_result"
    }
   ],
   "source": [
    "flux_dict['biomass_dilution']"
   ]
  },
  {
   "cell_type": "code",
   "execution_count": 133,
   "metadata": {},
   "outputs": [
    {
     "data": {
      "text/plain": [
       "15.866048221386526"
      ]
     },
     "execution_count": 133,
     "metadata": {},
     "output_type": "execute_result"
    }
   ],
   "source": [
    "met='atp_s' # ATP production and glucose uptake\n",
    "prod_atp_df = flux_based_reactions(sporeme,met,flux_dict=flux_dict,only_types=['MetabolicReaction'])\n",
    "prod_atp_df = prod_atp_df[prod_atp_df['met_flux']>0]\n",
    "prod_atp_df['met_flux'].sum()"
   ]
  },
  {
   "cell_type": "code",
   "execution_count": 134,
   "metadata": {},
   "outputs": [
    {
     "data": {
      "text/plain": [
       "ACKr_REV_BSU29470-MONOMER_s                        0.435925\n",
       "PGK_REV_BSU33930-MONOMER_s                         0.303972\n",
       "PYK_FWD_BSU29180-MONOMER_mod_mn2_mod_k_s           0.222772\n",
       "PRPPS_REV_BSU00510-MONOMER_mod_mn2_mod_pi_s        0.021681\n",
       "ADK1_REV_BSU01370-MONOMER_mod_mg2_s               0.0152716\n",
       "ARGSS_REV_BSU29450-MONOMER_mod_mg2_s            0.000229173\n",
       "URIDK2r_copy2_REV_BSU00280-MONOMER_mod_mg2_s    0.000118324\n",
       "CYTK2_REV_BSU22890-MONOMER_mod_mg2_s            3.04227e-05\n",
       "SUCOAS_FWD_CPLX8J2-7_s                          4.18044e-39\n",
       "LAAL29_FWD_BSU37710-MONOMER_s                   9.05477e-40\n",
       "PRASCSi_REV_BSU06450-MONOMER_s                   3.6099e-40\n",
       "ARGKr_REV_CPLX_dummy_s                          1.41334e-40\n",
       "LAAL23_FWD_BSU37710-MONOMER_s                   1.35944e-40\n",
       "Name: met_flux, dtype: object"
      ]
     },
     "execution_count": 134,
     "metadata": {},
     "output_type": "execute_result"
    }
   ],
   "source": [
    "prod_atp_df['met_flux'].div(prod_atp_df['met_flux'].sum())"
   ]
  },
  {
   "cell_type": "markdown",
   "metadata": {},
   "source": [
    "### All mechanisms KO"
   ]
  },
  {
   "cell_type": "code",
   "execution_count": 139,
   "metadata": {},
   "outputs": [
    {
     "data": {
      "text/plain": [
       "<AxesSubplot:>"
      ]
     },
     "execution_count": 139,
     "metadata": {},
     "output_type": "execute_result"
    },
    {
     "data": {
      "image/png": "[encoded data removed]",
      "text/plain": [
       "<Figure size 864x288 with 1 Axes>"
      ]
     },
     "metadata": {
      "needs_background": "light"
     },
     "output_type": "display_data"
    }
   ],
   "source": [
    "version = 'v5_all_KO'\n",
    "flux_results_df = pd.read_csv('group_KO_flux_results_{}.csv'.format(version),index_col=0)\n",
    "flux_results_df.loc['biomass_dilution_s'].sort_values().plot.bar(figsize=(12 ,4))"
   ]
  },
  {
   "cell_type": "code",
   "execution_count": 107,
   "metadata": {},
   "outputs": [
    {
     "name": "stdout",
     "output_type": "stream",
     "text": [
      "thr__L_s\n"
     ]
    }
   ],
   "source": [
    "flux_results_df = pd.read_csv('group_1by1_KO_flux_results_{}.csv'.format(version),index_col=0)\n",
    "sorted_mets = flux_results_df.loc['biomass_dilution_s'].sort_values(ascending=True)\n",
    "last_met = sorted_mets.index[list(sorted_mets.index).index(sorted_mets[sorted_mets<1e-5].index[-1])+1]\n",
    "print(last_met)\n",
    "flux_dict = flux_results_df[last_met].to_dict() # Last time before model breaks"
   ]
  },
  {
   "cell_type": "code",
   "execution_count": 108,
   "metadata": {},
   "outputs": [
    {
     "data": {
      "image/png": "[encoded data removed]",
      "text/plain": [
       "<Figure size 864x288 with 1 Axes>"
      ]
     },
     "metadata": {
      "needs_background": "light"
     },
     "output_type": "display_data"
    }
   ],
   "source": [
    "flux_results_df = pd.read_csv('group_1by1_KO_flux_results_{}.csv'.format(version),index_col=0)\n",
    "flux_results_df.loc['biomass_dilution_s',sorted_mets.index[::-1]].plot.bar(figsize=(12,4))\n",
    "plt.tight_layout()"
   ]
  },
  {
   "cell_type": "code",
   "execution_count": 110,
   "metadata": {},
   "outputs": [
    {
     "data": {
      "text/plain": [
       "0.011462839961196077"
      ]
     },
     "execution_count": 110,
     "metadata": {},
     "output_type": "execute_result"
    }
   ],
   "source": [
    "flux_dict['biomass_dilution']"
   ]
  },
  {
   "cell_type": "code",
   "execution_count": 111,
   "metadata": {},
   "outputs": [
    {
     "data": {
      "text/plain": [
       "24.56360422878673"
      ]
     },
     "execution_count": 111,
     "metadata": {},
     "output_type": "execute_result"
    }
   ],
   "source": [
    "met='atp_s' # ATP production and glucose uptake\n",
    "prod_atp_df = flux_based_reactions(sporeme,met,flux_dict=flux_dict,only_types=['MetabolicReaction'])\n",
    "prod_atp_df = prod_atp_df[prod_atp_df['met_flux']>0]\n",
    "prod_atp_df['met_flux'].sum()"
   ]
  },
  {
   "cell_type": "code",
   "execution_count": 112,
   "metadata": {},
   "outputs": [
    {
     "data": {
      "text/plain": [
       "PRPPS_REV_BSU00510-MONOMER_mod_mn2_mod_pi_s        0.500522\n",
       "ADK1_REV_BSU01370-MONOMER_mod_mg2_s                0.499333\n",
       "ARGSS_REV_BSU29450-MONOMER_mod_mg2_s            9.02715e-05\n",
       "URIDK2r_copy2_REV_BSU00280-MONOMER_mod_mg2_s    5.46958e-05\n",
       "Name: met_flux, dtype: object"
      ]
     },
     "execution_count": 112,
     "metadata": {},
     "output_type": "execute_result"
    }
   ],
   "source": [
    "prod_atp_df['met_flux'].div(prod_atp_df['met_flux'].sum())"
   ]
  },
  {
   "cell_type": "code",
   "execution_count": 114,
   "metadata": {},
   "outputs": [
    {
     "data": {
      "text/html": [
       "<div>\n",
       "<style scoped>\n",
       "    .dataframe tbody tr th:only-of-type {\n",
       "        vertical-align: middle;\n",
       "    }\n",
       "\n",
       "    .dataframe tbody tr th {\n",
       "        vertical-align: top;\n",
       "    }\n",
       "\n",
       "    .dataframe thead th {\n",
       "        text-align: right;\n",
       "    }\n",
       "</style>\n",
       "<table border=\"1\" class=\"dataframe\">\n",
       "  <thead>\n",
       "    <tr style=\"text-align: right;\">\n",
       "      <th></th>\n",
       "      <th>lb</th>\n",
       "      <th>ub</th>\n",
       "      <th>rxn_flux</th>\n",
       "      <th>met_flux</th>\n",
       "      <th>reaction</th>\n",
       "    </tr>\n",
       "  </thead>\n",
       "  <tbody>\n",
       "    <tr>\n",
       "      <th>PRPPS_REV_BSU00510-MONOMER_mod_mn2_mod_pi_s</th>\n",
       "      <td>0</td>\n",
       "      <td>999999</td>\n",
       "      <td>12.2946</td>\n",
       "      <td>12.2946</td>\n",
       "      <td>amp_s + h_s + prpp_s --&gt; -1.38401264312306e-5*sigma BSU00510-MONOMER_mod_mn2_mod_pi_s + atp_s + r5p_s</td>\n",
       "    </tr>\n",
       "    <tr>\n",
       "      <th>ADK1_REV_BSU01370-MONOMER_mod_mg2_s</th>\n",
       "      <td>0</td>\n",
       "      <td>999999</td>\n",
       "      <td>12.2654</td>\n",
       "      <td>12.2654</td>\n",
       "      <td>2.0 adp_s --&gt; -4.27350427350427e-6*sigma BSU01370-MONOMER_mod_mg2_s + amp_s + atp_s</td>\n",
       "    </tr>\n",
       "    <tr>\n",
       "      <th>PPIabc_FWD_CPLX_dummy_s</th>\n",
       "      <td>0</td>\n",
       "      <td>999999</td>\n",
       "      <td>12.1354</td>\n",
       "      <td>-12.1354</td>\n",
       "      <td>atp_s + h2o_s + ppi_c --&gt; -4.27350427350427e-6*sigma CPLX_dummy_s + adp_s + h_s + pi_s + ppi_s</td>\n",
       "    </tr>\n",
       "    <tr>\n",
       "      <th>ACKr_FWD_BSU29470-MONOMER_s</th>\n",
       "      <td>0</td>\n",
       "      <td>999999</td>\n",
       "      <td>0.0737005</td>\n",
       "      <td>-0.0737005</td>\n",
       "      <td>ac_s + atp_s --&gt; -4.27350427350427e-6*sigma BSU29470-MONOMER_s + actp_s + adp_s</td>\n",
       "    </tr>\n",
       "    <tr>\n",
       "      <th>NDPK2_FWD_BSU22730-MONOMER_mod_mn2_s</th>\n",
       "      <td>0</td>\n",
       "      <td>999999</td>\n",
       "      <td>0.0675318</td>\n",
       "      <td>-0.0675318</td>\n",
       "      <td>atp_s + udp_s --&gt; -4.27350427350427e-6*sigma BSU22730-MONOMER_mod_mn2_s + adp_s + utp_s</td>\n",
       "    </tr>\n",
       "    <tr>\n",
       "      <th>...</th>\n",
       "      <td>...</td>\n",
       "      <td>...</td>\n",
       "      <td>...</td>\n",
       "      <td>...</td>\n",
       "      <td>...</td>\n",
       "    </tr>\n",
       "    <tr>\n",
       "      <th>ACKr_REV_BSU29470-MONOMER_s</th>\n",
       "      <td>0</td>\n",
       "      <td>0</td>\n",
       "      <td>0</td>\n",
       "      <td>0</td>\n",
       "      <td>actp_s + adp_s --&gt; -4.27350427350427e-6*sigma BSU29470-MONOMER_s + ac_s + atp_s</td>\n",
       "    </tr>\n",
       "    <tr>\n",
       "      <th>FACOAL150_anteiso_REV_BSU18250-MONOMER_s</th>\n",
       "      <td>0</td>\n",
       "      <td>999999</td>\n",
       "      <td>0</td>\n",
       "      <td>0</td>\n",
       "      <td>amp_s + fa4coa_s + ppi_s --&gt; -4.27350427350427e-6*sigma BSU18250-MONOMER_s + atp_s + coa_s + fa4_s</td>\n",
       "    </tr>\n",
       "    <tr>\n",
       "      <th>FACOAL150_anteiso_FWD_BSU18250-MONOMER_s</th>\n",
       "      <td>0</td>\n",
       "      <td>999999</td>\n",
       "      <td>0</td>\n",
       "      <td>-0</td>\n",
       "      <td>atp_s + coa_s + fa4_s --&gt; -4.27350427350427e-6*sigma BSU18250-MONOMER_s + amp_s + fa4coa_s + ppi_s</td>\n",
       "    </tr>\n",
       "    <tr>\n",
       "      <th>FACOAL160_REV_BSU28560-MONOMER_mod_mg2_s</th>\n",
       "      <td>0</td>\n",
       "      <td>999999</td>\n",
       "      <td>0</td>\n",
       "      <td>0</td>\n",
       "      <td>amp_s + pmtcoa_s + ppi_s --&gt; -4.27350427350427e-6*sigma BSU28560-MONOMER_mod_mg2_s + atp_s + coa_s + hdca_s</td>\n",
       "    </tr>\n",
       "    <tr>\n",
       "      <th>HEX7_FWD_CPLX8J2-90_s</th>\n",
       "      <td>0</td>\n",
       "      <td>999999</td>\n",
       "      <td>0</td>\n",
       "      <td>-0</td>\n",
       "      <td>atp_s + fru_s --&gt; -4.27350427350427e-6*sigma CPLX8J2-90_s + adp_s + f6p_s + h_s</td>\n",
       "    </tr>\n",
       "  </tbody>\n",
       "</table>\n",
       "<p>418 rows × 5 columns</p>\n",
       "</div>"
      ],
      "text/plain": [
       "                                            lb      ub   rxn_flux   met_flux  \\\n",
       "PRPPS_REV_BSU00510-MONOMER_mod_mn2_mod_pi_s  0  999999    12.2946    12.2946   \n",
       "ADK1_REV_BSU01370-MONOMER_mod_mg2_s          0  999999    12.2654    12.2654   \n",
       "PPIabc_FWD_CPLX_dummy_s                      0  999999    12.1354   -12.1354   \n",
       "ACKr_FWD_BSU29470-MONOMER_s                  0  999999  0.0737005 -0.0737005   \n",
       "NDPK2_FWD_BSU22730-MONOMER_mod_mn2_s         0  999999  0.0675318 -0.0675318   \n",
       "...                                         ..     ...        ...        ...   \n",
       "ACKr_REV_BSU29470-MONOMER_s                  0       0          0          0   \n",
       "FACOAL150_anteiso_REV_BSU18250-MONOMER_s     0  999999          0          0   \n",
       "FACOAL150_anteiso_FWD_BSU18250-MONOMER_s     0  999999          0         -0   \n",
       "FACOAL160_REV_BSU28560-MONOMER_mod_mg2_s     0  999999          0          0   \n",
       "HEX7_FWD_CPLX8J2-90_s                        0  999999          0         -0   \n",
       "\n",
       "                                                                                                                                                reaction  \n",
       "PRPPS_REV_BSU00510-MONOMER_mod_mn2_mod_pi_s        amp_s + h_s + prpp_s --> -1.38401264312306e-5*sigma BSU00510-MONOMER_mod_mn2_mod_pi_s + atp_s + r5p_s  \n",
       "ADK1_REV_BSU01370-MONOMER_mod_mg2_s                                  2.0 adp_s --> -4.27350427350427e-6*sigma BSU01370-MONOMER_mod_mg2_s + amp_s + atp_s  \n",
       "PPIabc_FWD_CPLX_dummy_s                                   atp_s + h2o_s + ppi_c --> -4.27350427350427e-6*sigma CPLX_dummy_s + adp_s + h_s + pi_s + ppi_s  \n",
       "ACKr_FWD_BSU29470-MONOMER_s                                              ac_s + atp_s --> -4.27350427350427e-6*sigma BSU29470-MONOMER_s + actp_s + adp_s  \n",
       "NDPK2_FWD_BSU22730-MONOMER_mod_mn2_s                             atp_s + udp_s --> -4.27350427350427e-6*sigma BSU22730-MONOMER_mod_mn2_s + adp_s + utp_s  \n",
       "...                                                                                                                                                  ...  \n",
       "ACKr_REV_BSU29470-MONOMER_s                                              actp_s + adp_s --> -4.27350427350427e-6*sigma BSU29470-MONOMER_s + ac_s + atp_s  \n",
       "FACOAL150_anteiso_REV_BSU18250-MONOMER_s              amp_s + fa4coa_s + ppi_s --> -4.27350427350427e-6*sigma BSU18250-MONOMER_s + atp_s + coa_s + fa4_s  \n",
       "FACOAL150_anteiso_FWD_BSU18250-MONOMER_s              atp_s + coa_s + fa4_s --> -4.27350427350427e-6*sigma BSU18250-MONOMER_s + amp_s + fa4coa_s + ppi_s  \n",
       "FACOAL160_REV_BSU28560-MONOMER_mod_mg2_s     amp_s + pmtcoa_s + ppi_s --> -4.27350427350427e-6*sigma BSU28560-MONOMER_mod_mg2_s + atp_s + coa_s + hdca_s  \n",
       "HEX7_FWD_CPLX8J2-90_s                                                    atp_s + fru_s --> -4.27350427350427e-6*sigma CPLX8J2-90_s + adp_s + f6p_s + h_s  \n",
       "\n",
       "[418 rows x 5 columns]"
      ]
     },
     "execution_count": 114,
     "metadata": {},
     "output_type": "execute_result"
    }
   ],
   "source": [
    "flux_based_reactions(sporeme,met,flux_dict=flux_dict,only_types=['MetabolicReaction'])"
   ]
  },
  {
   "cell_type": "code",
   "execution_count": 115,
   "metadata": {},
   "outputs": [
    {
     "data": {
      "text/html": [
       "<div>\n",
       "<style scoped>\n",
       "    .dataframe tbody tr th:only-of-type {\n",
       "        vertical-align: middle;\n",
       "    }\n",
       "\n",
       "    .dataframe tbody tr th {\n",
       "        vertical-align: top;\n",
       "    }\n",
       "\n",
       "    .dataframe thead th {\n",
       "        text-align: right;\n",
       "    }\n",
       "</style>\n",
       "<table border=\"1\" class=\"dataframe\">\n",
       "  <thead>\n",
       "    <tr style=\"text-align: right;\">\n",
       "      <th></th>\n",
       "      <th>lb</th>\n",
       "      <th>ub</th>\n",
       "      <th>rxn_flux</th>\n",
       "      <th>met_flux</th>\n",
       "      <th>reaction</th>\n",
       "    </tr>\n",
       "  </thead>\n",
       "  <tbody>\n",
       "    <tr>\n",
       "      <th>GUAPRT_REV_BSU00680-MONOMER_s</th>\n",
       "      <td>0</td>\n",
       "      <td>999999</td>\n",
       "      <td>12.2991</td>\n",
       "      <td>12.2991</td>\n",
       "      <td>gmp_s + ppi_s --&gt; -4.27350427350427e-6*sigma BSU00680-MONOMER_s + gua_s + prpp_s</td>\n",
       "    </tr>\n",
       "    <tr>\n",
       "      <th>PRPPS_REV_BSU00510-MONOMER_mod_mn2_mod_pi_s</th>\n",
       "      <td>0</td>\n",
       "      <td>999999</td>\n",
       "      <td>12.2946</td>\n",
       "      <td>-12.2946</td>\n",
       "      <td>amp_s + h_s + prpp_s --&gt; -1.38401264312306e-5*sigma BSU00510-MONOMER_mod_mn2_mod_pi_s + atp_s + r5p_s</td>\n",
       "    </tr>\n",
       "    <tr>\n",
       "      <th>ORPT_REV_BSU15560-MONOMER_s</th>\n",
       "      <td>0</td>\n",
       "      <td>999999</td>\n",
       "      <td>0.00404941</td>\n",
       "      <td>-0.00404941</td>\n",
       "      <td>orot_s + prpp_s --&gt; -1.86331330653874e-5*sigma BSU15560-MONOMER_s + orot5p_s + ppi_s</td>\n",
       "    </tr>\n",
       "    <tr>\n",
       "      <th>ATPPRT_FWD_BSU34920-MONOMER_s</th>\n",
       "      <td>0</td>\n",
       "      <td>999999</td>\n",
       "      <td>0.000298377</td>\n",
       "      <td>-0.000298377</td>\n",
       "      <td>atp_s + prpp_s --&gt; -4.27350427350427e-6*sigma BSU34920-MONOMER_s + ppi_s + prbatp_s</td>\n",
       "    </tr>\n",
       "    <tr>\n",
       "      <th>ANPRT_FWD_BSU22670-MONOMER_s</th>\n",
       "      <td>0</td>\n",
       "      <td>999999</td>\n",
       "      <td>0.00012065</td>\n",
       "      <td>-0.00012065</td>\n",
       "      <td>anth_s + prpp_s --&gt; -1.35361847172882e-5*sigma BSU22670-MONOMER_s + ppi_s + pran_s</td>\n",
       "    </tr>\n",
       "    <tr>\n",
       "      <th>NNDPR_FWD_BSU27860-MONOMER_mod_mg2_s</th>\n",
       "      <td>0</td>\n",
       "      <td>999999</td>\n",
       "      <td>5.98408e-10</td>\n",
       "      <td>-5.98408e-10</td>\n",
       "      <td>2.0 h_s + prpp_s + quln_s --&gt; -2.4712036904137e-6*sigma BSU27860-MONOMER_mod_mg2_s + co2_s + nicrnt_s + ppi_s</td>\n",
       "    </tr>\n",
       "    <tr>\n",
       "      <th>PRPPS_FWD_BSU00510-MONOMER_mod_mn2_mod_pi_s</th>\n",
       "      <td>0</td>\n",
       "      <td>999999</td>\n",
       "      <td>0</td>\n",
       "      <td>0</td>\n",
       "      <td>atp_s + r5p_s --&gt; -1.38401264312306e-5*sigma BSU00510-MONOMER_mod_mn2_mod_pi_s + amp_s + h_s + prpp_s</td>\n",
       "    </tr>\n",
       "    <tr>\n",
       "      <th>ADPT_FWD_BSU27610-MONOMER_mod_mg2_s</th>\n",
       "      <td>0</td>\n",
       "      <td>999999</td>\n",
       "      <td>0</td>\n",
       "      <td>-0</td>\n",
       "      <td>ade_s + prpp_s --&gt; -1.30688922594939e-5*sigma BSU27610-MONOMER_mod_mg2_s + amp_s + ppi_s</td>\n",
       "    </tr>\n",
       "    <tr>\n",
       "      <th>NAPRT_REV_BSU31750-MONOMER_s</th>\n",
       "      <td>0</td>\n",
       "      <td>999999</td>\n",
       "      <td>0</td>\n",
       "      <td>0</td>\n",
       "      <td>nicrnt_s + ppi_s --&gt; -2.68603911285977e-6*sigma BSU31750-MONOMER_s + h_s + nac_s + prpp_s</td>\n",
       "    </tr>\n",
       "    <tr>\n",
       "      <th>ATPPRT_REV_BSU34920-MONOMER_s</th>\n",
       "      <td>0</td>\n",
       "      <td>999999</td>\n",
       "      <td>0</td>\n",
       "      <td>0</td>\n",
       "      <td>ppi_s + prbatp_s --&gt; -4.27350427350427e-6*sigma BSU34920-MONOMER_s + atp_s + prpp_s</td>\n",
       "    </tr>\n",
       "    <tr>\n",
       "      <th>HXPRT_REV_BSU00680-MONOMER_s</th>\n",
       "      <td>0</td>\n",
       "      <td>999999</td>\n",
       "      <td>0</td>\n",
       "      <td>0</td>\n",
       "      <td>imp_s + ppi_s --&gt; -7.37520462238496e-6*sigma BSU00680-MONOMER_s + hxan_s + prpp_s</td>\n",
       "    </tr>\n",
       "    <tr>\n",
       "      <th>GUAPRT_FWD_BSU00680-MONOMER_s</th>\n",
       "      <td>0</td>\n",
       "      <td>999999</td>\n",
       "      <td>0</td>\n",
       "      <td>-0</td>\n",
       "      <td>gua_s + prpp_s --&gt; -4.27350427350427e-6*sigma BSU00680-MONOMER_s + gmp_s + ppi_s</td>\n",
       "    </tr>\n",
       "    <tr>\n",
       "      <th>XPPT_FWD_BSU22070-MONOMER_s</th>\n",
       "      <td>0</td>\n",
       "      <td>999999</td>\n",
       "      <td>0</td>\n",
       "      <td>-0</td>\n",
       "      <td>prpp_s + xan_s --&gt; -2.02594348405928e-5*sigma BSU22070-MONOMER_s + ppi_s + xmp_s</td>\n",
       "    </tr>\n",
       "    <tr>\n",
       "      <th>NAPRT_FWD_BSU31750-MONOMER_s</th>\n",
       "      <td>0</td>\n",
       "      <td>999999</td>\n",
       "      <td>0</td>\n",
       "      <td>-0</td>\n",
       "      <td>h_s + nac_s + prpp_s --&gt; -2.68603911285977e-6*sigma BSU31750-MONOMER_s + nicrnt_s + ppi_s</td>\n",
       "    </tr>\n",
       "    <tr>\n",
       "      <th>ORPT_FWD_BSU15560-MONOMER_s</th>\n",
       "      <td>0</td>\n",
       "      <td>999999</td>\n",
       "      <td>0</td>\n",
       "      <td>0</td>\n",
       "      <td>orot5p_s + ppi_s --&gt; -1.86331330653874e-5*sigma BSU15560-MONOMER_s + orot_s + prpp_s</td>\n",
       "    </tr>\n",
       "    <tr>\n",
       "      <th>HXPRT_FWD_BSU00680-MONOMER_s</th>\n",
       "      <td>0</td>\n",
       "      <td>999999</td>\n",
       "      <td>0</td>\n",
       "      <td>-0</td>\n",
       "      <td>hxan_s + prpp_s --&gt; -7.37520462238496e-6*sigma BSU00680-MONOMER_s + imp_s + ppi_s</td>\n",
       "    </tr>\n",
       "    <tr>\n",
       "      <th>UPPRT_FWD_BSU36890-MONOMER_s</th>\n",
       "      <td>0</td>\n",
       "      <td>999999</td>\n",
       "      <td>0</td>\n",
       "      <td>-0</td>\n",
       "      <td>prpp_s + ura_s --&gt; -1.89261171325844e-5*sigma BSU36890-MONOMER_s + ppi_s + ump_s</td>\n",
       "    </tr>\n",
       "    <tr>\n",
       "      <th>GLUPRT_FWD_BSU06490-MONOMER_s</th>\n",
       "      <td>0</td>\n",
       "      <td>999999</td>\n",
       "      <td>0</td>\n",
       "      <td>-0</td>\n",
       "      <td>gln__L_s + h2o_s + prpp_s --&gt; -1.03232804738843e-5*sigma BSU06490-MONOMER_s + glu__L_s + ppi_s + pram_s</td>\n",
       "    </tr>\n",
       "  </tbody>\n",
       "</table>\n",
       "</div>"
      ],
      "text/plain": [
       "                                            lb      ub     rxn_flux  \\\n",
       "GUAPRT_REV_BSU00680-MONOMER_s                0  999999      12.2991   \n",
       "PRPPS_REV_BSU00510-MONOMER_mod_mn2_mod_pi_s  0  999999      12.2946   \n",
       "ORPT_REV_BSU15560-MONOMER_s                  0  999999   0.00404941   \n",
       "ATPPRT_FWD_BSU34920-MONOMER_s                0  999999  0.000298377   \n",
       "ANPRT_FWD_BSU22670-MONOMER_s                 0  999999   0.00012065   \n",
       "NNDPR_FWD_BSU27860-MONOMER_mod_mg2_s         0  999999  5.98408e-10   \n",
       "PRPPS_FWD_BSU00510-MONOMER_mod_mn2_mod_pi_s  0  999999            0   \n",
       "ADPT_FWD_BSU27610-MONOMER_mod_mg2_s          0  999999            0   \n",
       "NAPRT_REV_BSU31750-MONOMER_s                 0  999999            0   \n",
       "ATPPRT_REV_BSU34920-MONOMER_s                0  999999            0   \n",
       "HXPRT_REV_BSU00680-MONOMER_s                 0  999999            0   \n",
       "GUAPRT_FWD_BSU00680-MONOMER_s                0  999999            0   \n",
       "XPPT_FWD_BSU22070-MONOMER_s                  0  999999            0   \n",
       "NAPRT_FWD_BSU31750-MONOMER_s                 0  999999            0   \n",
       "ORPT_FWD_BSU15560-MONOMER_s                  0  999999            0   \n",
       "HXPRT_FWD_BSU00680-MONOMER_s                 0  999999            0   \n",
       "UPPRT_FWD_BSU36890-MONOMER_s                 0  999999            0   \n",
       "GLUPRT_FWD_BSU06490-MONOMER_s                0  999999            0   \n",
       "\n",
       "                                                met_flux  \\\n",
       "GUAPRT_REV_BSU00680-MONOMER_s                    12.2991   \n",
       "PRPPS_REV_BSU00510-MONOMER_mod_mn2_mod_pi_s     -12.2946   \n",
       "ORPT_REV_BSU15560-MONOMER_s                  -0.00404941   \n",
       "ATPPRT_FWD_BSU34920-MONOMER_s               -0.000298377   \n",
       "ANPRT_FWD_BSU22670-MONOMER_s                 -0.00012065   \n",
       "NNDPR_FWD_BSU27860-MONOMER_mod_mg2_s        -5.98408e-10   \n",
       "PRPPS_FWD_BSU00510-MONOMER_mod_mn2_mod_pi_s            0   \n",
       "ADPT_FWD_BSU27610-MONOMER_mod_mg2_s                   -0   \n",
       "NAPRT_REV_BSU31750-MONOMER_s                           0   \n",
       "ATPPRT_REV_BSU34920-MONOMER_s                          0   \n",
       "HXPRT_REV_BSU00680-MONOMER_s                           0   \n",
       "GUAPRT_FWD_BSU00680-MONOMER_s                         -0   \n",
       "XPPT_FWD_BSU22070-MONOMER_s                           -0   \n",
       "NAPRT_FWD_BSU31750-MONOMER_s                          -0   \n",
       "ORPT_FWD_BSU15560-MONOMER_s                            0   \n",
       "HXPRT_FWD_BSU00680-MONOMER_s                          -0   \n",
       "UPPRT_FWD_BSU36890-MONOMER_s                          -0   \n",
       "GLUPRT_FWD_BSU06490-MONOMER_s                         -0   \n",
       "\n",
       "                                                                                                                                                  reaction  \n",
       "GUAPRT_REV_BSU00680-MONOMER_s                                             gmp_s + ppi_s --> -4.27350427350427e-6*sigma BSU00680-MONOMER_s + gua_s + prpp_s  \n",
       "PRPPS_REV_BSU00510-MONOMER_mod_mn2_mod_pi_s          amp_s + h_s + prpp_s --> -1.38401264312306e-5*sigma BSU00510-MONOMER_mod_mn2_mod_pi_s + atp_s + r5p_s  \n",
       "ORPT_REV_BSU15560-MONOMER_s                                           orot_s + prpp_s --> -1.86331330653874e-5*sigma BSU15560-MONOMER_s + orot5p_s + ppi_s  \n",
       "ATPPRT_FWD_BSU34920-MONOMER_s                                          atp_s + prpp_s --> -4.27350427350427e-6*sigma BSU34920-MONOMER_s + ppi_s + prbatp_s  \n",
       "ANPRT_FWD_BSU22670-MONOMER_s                                            anth_s + prpp_s --> -1.35361847172882e-5*sigma BSU22670-MONOMER_s + ppi_s + pran_s  \n",
       "NNDPR_FWD_BSU27860-MONOMER_mod_mg2_s         2.0 h_s + prpp_s + quln_s --> -2.4712036904137e-6*sigma BSU27860-MONOMER_mod_mg2_s + co2_s + nicrnt_s + ppi_s  \n",
       "PRPPS_FWD_BSU00510-MONOMER_mod_mn2_mod_pi_s          atp_s + r5p_s --> -1.38401264312306e-5*sigma BSU00510-MONOMER_mod_mn2_mod_pi_s + amp_s + h_s + prpp_s  \n",
       "ADPT_FWD_BSU27610-MONOMER_mod_mg2_s                               ade_s + prpp_s --> -1.30688922594939e-5*sigma BSU27610-MONOMER_mod_mg2_s + amp_s + ppi_s  \n",
       "NAPRT_REV_BSU31750-MONOMER_s                                     nicrnt_s + ppi_s --> -2.68603911285977e-6*sigma BSU31750-MONOMER_s + h_s + nac_s + prpp_s  \n",
       "ATPPRT_REV_BSU34920-MONOMER_s                                          ppi_s + prbatp_s --> -4.27350427350427e-6*sigma BSU34920-MONOMER_s + atp_s + prpp_s  \n",
       "HXPRT_REV_BSU00680-MONOMER_s                                             imp_s + ppi_s --> -7.37520462238496e-6*sigma BSU00680-MONOMER_s + hxan_s + prpp_s  \n",
       "GUAPRT_FWD_BSU00680-MONOMER_s                                             gua_s + prpp_s --> -4.27350427350427e-6*sigma BSU00680-MONOMER_s + gmp_s + ppi_s  \n",
       "XPPT_FWD_BSU22070-MONOMER_s                                               prpp_s + xan_s --> -2.02594348405928e-5*sigma BSU22070-MONOMER_s + ppi_s + xmp_s  \n",
       "NAPRT_FWD_BSU31750-MONOMER_s                                     h_s + nac_s + prpp_s --> -2.68603911285977e-6*sigma BSU31750-MONOMER_s + nicrnt_s + ppi_s  \n",
       "ORPT_FWD_BSU15560-MONOMER_s                                           orot5p_s + ppi_s --> -1.86331330653874e-5*sigma BSU15560-MONOMER_s + orot_s + prpp_s  \n",
       "HXPRT_FWD_BSU00680-MONOMER_s                                             hxan_s + prpp_s --> -7.37520462238496e-6*sigma BSU00680-MONOMER_s + imp_s + ppi_s  \n",
       "UPPRT_FWD_BSU36890-MONOMER_s                                              prpp_s + ura_s --> -1.89261171325844e-5*sigma BSU36890-MONOMER_s + ppi_s + ump_s  \n",
       "GLUPRT_FWD_BSU06490-MONOMER_s                      gln__L_s + h2o_s + prpp_s --> -1.03232804738843e-5*sigma BSU06490-MONOMER_s + glu__L_s + ppi_s + pram_s  "
      ]
     },
     "execution_count": 115,
     "metadata": {},
     "output_type": "execute_result"
    }
   ],
   "source": [
    "flux_based_reactions(sporeme,'prpp_s',flux_dict=flux_dict,only_types=['MetabolicReaction'])"
   ]
  },
  {
   "cell_type": "code",
   "execution_count": 116,
   "metadata": {},
   "outputs": [
    {
     "data": {
      "text/plain": [
       "'5-Phospho-alpha-D-ribose 1-diphosphate'"
      ]
     },
     "execution_count": 116,
     "metadata": {},
     "output_type": "execute_result"
    }
   ],
   "source": [
    "sporeme.metabolites.prpp_s.name"
   ]
  }
 ],
 "metadata": {
  "kernelspec": {
   "display_name": "me_modeling",
   "language": "python",
   "name": "me_modeling"
  },
  "language_info": {
   "codemirror_mode": {
    "name": "ipython",
    "version": 3
   },
   "file_extension": ".py",
   "mimetype": "text/x-python",
   "name": "python",
   "nbconvert_exporter": "python",
   "pygments_lexer": "ipython3",
   "version": "3.6.8"
  }
 },
 "nbformat": 4,
 "nbformat_minor": 4
}
