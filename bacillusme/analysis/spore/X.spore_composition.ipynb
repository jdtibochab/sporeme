{
 "cells": [
  {
   "cell_type": "markdown",
   "metadata": {},
   "source": [
    "# Spore composition"
   ]
  },
  {
   "cell_type": "code",
   "execution_count": 1,
   "metadata": {
    "scrolled": true
   },
   "outputs": [
    {
     "name": "stderr",
     "output_type": "stream",
     "text": [
      "/home/jt/Downloads/cobrapy-0.5.11/cobra/io/sbml3.py:24: UserWarning: Install lxml for faster SBML I/O\n",
      "  warn(\"Install lxml for faster SBML I/O\")\n",
      "/home/jt/Downloads/cobrapy-0.5.11/cobra/io/__init__.py:12: UserWarning: cobra.io.sbml requires libsbml\n",
      "  warn(\"cobra.io.sbml requires libsbml\")\n"
     ]
    },
    {
     "name": "stdout",
     "output_type": "stream",
     "text": [
      "/home/jt/Downloads/cobrapy-0.5.11/cobra/__init__.py\n",
      "/home/jt/UCSD/cobrame-master/cobrame/__init__.py\n",
      "/home/jt/UCSD/bacillusme-master/ecolime/__init__.py\n"
     ]
    }
   ],
   "source": [
    "from __future__ import print_function, division, absolute_import\n",
    "\n",
    "import sys\n",
    "\n",
    "import qminospy\n",
    "from qminospy.me2 import ME_NLP\n",
    "\n",
    "# python imports\n",
    "from copy import copy\n",
    "import re\n",
    "from os.path import join, dirname, abspath\n",
    "import sys\n",
    "sys.path.append('/home/UCSD/cobra_utils')\n",
    "from collections import defaultdict\n",
    "import pickle\n",
    "\n",
    "# third party imports\n",
    "import pandas\n",
    "import cobra\n",
    "from tqdm import tqdm\n",
    "import numpy as np\n",
    "import scipy\n",
    "\n",
    "# COBRAme\n",
    "import cobrame\n",
    "from cobrame.util import building, mu, me_model_interface\n",
    "from cobrame.io.json import save_json_me_model, save_reduced_json_me_model\n",
    "\n",
    "# ECOLIme\n",
    "import ecolime\n",
    "from ecolime import (transcription, translation, flat_files, generics, formulas, compartments)\n",
    "from ecolime.util.helper_functions import *\n",
    "\n",
    "%load_ext autoreload\n",
    "%autoreload 2\n",
    "print(cobra.__file__)\n",
    "print(cobrame.__file__)\n",
    "print(ecolime.__file__)\n",
    "ecoli_files = dirname(abspath(ecolime.__file__))"
   ]
  },
  {
   "cell_type": "code",
   "execution_count": 2,
   "metadata": {
    "scrolled": true
   },
   "outputs": [
    {
     "data": {
      "text/plain": [
       "<Solution 0.12 at 0x7f53e4e52518>"
      ]
     },
     "execution_count": 2,
     "metadata": {},
     "output_type": "execute_result"
    }
   ],
   "source": [
    "eco_directory = join(flat_files.ecoli_files_dir, 'iJO1366.json')\n",
    "ijo_directory = join(flat_files.ecoli_files_dir, 'iYO844.json')\n",
    "uni_directory = join(flat_files.ecoli_files_dir, 'universal_model.json')\n",
    "\n",
    "eco = cobra.io.load_json_model(eco_directory)\n",
    "bsub = cobra.io.load_json_model(ijo_directory)\n",
    "uni = cobra.io.load_json_model(uni_directory)\n",
    "\n",
    "bsub.optimize()"
   ]
  },
  {
   "cell_type": "code",
   "execution_count": 3,
   "metadata": {
    "scrolled": true
   },
   "outputs": [],
   "source": [
    "with open(ecoli_files+'/me_models/solution.pickle', 'rb') as solution:\n",
    "    me = pickle.load(solution)"
   ]
  },
  {
   "cell_type": "markdown",
   "metadata": {},
   "source": [
    "### Composition dictionary\n",
    "Spore and mother cell are currently impossible to properly separate to analyze chemically. Therefore, composition similarity has to be assumed to model the spore."
   ]
  },
  {
   "cell_type": "code",
   "execution_count": 4,
   "metadata": {},
   "outputs": [],
   "source": [
    "biomass_groups = ['protein','lipids','carbohydrates','DPA']\n",
    "biomass_composition_df = pd.DataFrame(index=biomass_groups,columns=['mass_frac','breakdown'])"
   ]
  },
  {
   "cell_type": "markdown",
   "metadata": {},
   "source": [
    "### Lipids"
   ]
  },
  {
   "cell_type": "markdown",
   "metadata": {},
   "source": [
    "##### Lipid metabolites in the model:"
   ]
  },
  {
   "cell_type": "code",
   "execution_count": 6,
   "metadata": {},
   "outputs": [
    {
     "name": "stdout",
     "output_type": "stream",
     "text": [
      "12dag3p_BS_c \t 1 2 diacyl sn glycerol 3 phosphate C3436H6572O800P100\n",
      "12dgr_BS_c \t 1 2 diacylglycerol C3436H6672O500\n",
      "1ag3p_BS_c \t 1 Acyl sn glycerol 3 phsophate C1868H3636O700P100\n",
      "3ig3p_c \t C'-(3-Indolyl)-glycerol 3-phosphate\n",
      "6pgg_c \t 6-Phospho-beta-D-glucosyl-(1,4)-D-glucose\n",
      "DPA_c \t Dipicolinate C7H3NO4\n",
      "cdlp_BS_c \t Cardiolipin  B subtilis  C7172H13744O1700P200\n",
      "cdpdag_BS_c \t CDPdiacylglycerol  B subtilis  C4336H7772N300O1500P200\n",
      "cdpglyc_c \t CDPglycerol C12H19N3O13P2\n",
      "d12dg_BS_c \t Diglucosyl 1 2 diacylglycerol C4636H8672O1500\n",
      "eig3p_c \t D-erythro-1-(Imidazol-4-yl)glycerol 3-phosphate\n",
      "g3pe_c \t Sn-Glycero-3-phosphoethanolamine\n",
      "g3pg_c \t Glycerophosphoglycerol\n",
      "lysylpgly_BS_c \t Lysylphophatidylglycerol C4336H8572N200O1100P100\n",
      "m12dg_BS_c \t Monoglucosyl 1 2 diacylglycerol C4036H7672O1000\n",
      "pgly_BS_c \t Phosphatidylglycerol  B subtils  C3736H7272O1000P100\n",
      "psetha_BS_c \t Phosphatidylethanolamine  B subtilis  C3636H7172N100O800P100\n",
      "t12dg_BS_c \t Triglucosyl 1 2 diacylglycerol C5236H9672O2000\n"
     ]
    }
   ],
   "source": [
    "keys = ['glycerol','Cardio','Dipico','glucosyl','ethanolamine']\n",
    "for m in me.metabolites:\n",
    "    if isinstance(m,cobrame.Metabolite) and any(k for k in keys if k in m.name):\n",
    "        print(m.id,'\\t',m.name)"
   ]
  },
  {
   "cell_type": "markdown",
   "metadata": {},
   "source": [
    "##### Total lipid content of 4% from [ref](https://jb.asm.org/content/jb/99/1/298.full.pdf). Lipid breakdown from [ref](https://www.ncbi.nlm.nih.gov/pubmed/9422599)."
   ]
  },
  {
   "cell_type": "code",
   "execution_count": 7,
   "metadata": {},
   "outputs": [],
   "source": [
    "# Total\n",
    "biomass_composition_df.loc['lipids']=0.037\n",
    "# Breakdown\n",
    "temp_dict = {\n",
    "    'm12dg_BS_c':0.08,\n",
    "    'd12dg_BS_c':0.126,\n",
    "    't12dg_BS_c':0.089,\n",
    "    'cdlp_BS_c':0.008,\n",
    "    'pgly_BS_c':0.162,\n",
    "    'lysylpgly_BS_c':0.024,\n",
    "    'psetha_BS_c':0.493,\n",
    "}\n",
    "temp_df = pd.DataFrame.from_dict({'mass_frac':temp_dict})"
   ]
  },
  {
   "cell_type": "code",
   "execution_count": 8,
   "metadata": {},
   "outputs": [
    {
     "data": {
      "text/html": [
       "<div>\n",
       "<style scoped>\n",
       "    .dataframe tbody tr th:only-of-type {\n",
       "        vertical-align: middle;\n",
       "    }\n",
       "\n",
       "    .dataframe tbody tr th {\n",
       "        vertical-align: top;\n",
       "    }\n",
       "\n",
       "    .dataframe thead th {\n",
       "        text-align: right;\n",
       "    }\n",
       "</style>\n",
       "<table border=\"1\" class=\"dataframe\">\n",
       "  <thead>\n",
       "    <tr style=\"text-align: right;\">\n",
       "      <th></th>\n",
       "      <th>mass_frac</th>\n",
       "    </tr>\n",
       "  </thead>\n",
       "  <tbody>\n",
       "    <tr>\n",
       "      <th>cdlp_BS_c</th>\n",
       "      <td>0.008147</td>\n",
       "    </tr>\n",
       "    <tr>\n",
       "      <th>d12dg_BS_c</th>\n",
       "      <td>0.128310</td>\n",
       "    </tr>\n",
       "    <tr>\n",
       "      <th>lysylpgly_BS_c</th>\n",
       "      <td>0.024440</td>\n",
       "    </tr>\n",
       "    <tr>\n",
       "      <th>m12dg_BS_c</th>\n",
       "      <td>0.081466</td>\n",
       "    </tr>\n",
       "    <tr>\n",
       "      <th>pgly_BS_c</th>\n",
       "      <td>0.164969</td>\n",
       "    </tr>\n",
       "    <tr>\n",
       "      <th>psetha_BS_c</th>\n",
       "      <td>0.502037</td>\n",
       "    </tr>\n",
       "    <tr>\n",
       "      <th>t12dg_BS_c</th>\n",
       "      <td>0.090631</td>\n",
       "    </tr>\n",
       "  </tbody>\n",
       "</table>\n",
       "</div>"
      ],
      "text/plain": [
       "                mass_frac\n",
       "cdlp_BS_c        0.008147\n",
       "d12dg_BS_c       0.128310\n",
       "lysylpgly_BS_c   0.024440\n",
       "m12dg_BS_c       0.081466\n",
       "pgly_BS_c        0.164969\n",
       "psetha_BS_c      0.502037\n",
       "t12dg_BS_c       0.090631"
      ]
     },
     "execution_count": 8,
     "metadata": {},
     "output_type": "execute_result"
    }
   ],
   "source": [
    "temp_df.div(temp_df.sum())"
   ]
  },
  {
   "cell_type": "code",
   "execution_count": 9,
   "metadata": {},
   "outputs": [],
   "source": [
    "biomass_composition_df.loc['lipids']['breakdown'] = temp_df"
   ]
  },
  {
   "cell_type": "markdown",
   "metadata": {},
   "source": [
    "### Protein"
   ]
  },
  {
   "cell_type": "markdown",
   "metadata": {},
   "source": [
    "Protein content from [ref](https://books.google.com.mx/books?id=xU85I7R-kFsC&pg=PA296&lpg=PA296&dq=%22gross+composition+of+spores+and+vegetative+cells+of+bacillus+megaterium%22&source=bl&ots=zJcGxeZczb&sig=ACfU3U1Y8pGJK6-Bl9KLGJ4JQciul1sdIw&hl=en&sa=X&ved=2ahUKEwjDwZb0j9LoAhXDk60KHRPFCccQ6AEwAHoECAIQKQ#v=onepage&q=%22gross%20composition%20of%20spores%20and%20vegetative%20cells%20of%20bacillus%20megaterium%22&f=false). This ref is for B. megaterium, but there is no other option. Breakdown from [ref](https://www.ncbi.nlm.nih.gov/pmc/articles/PMC2106236/pdf/579.pdf)."
   ]
  },
  {
   "cell_type": "code",
   "execution_count": 10,
   "metadata": {},
   "outputs": [],
   "source": [
    "# Total\n",
    "biomass_composition_df.loc['protein']=0.68\n",
    "# Breakdown\n",
    "temp_dict = {\n",
    "    'ala__L_c':0.099,\n",
    "    'glu__L_c':0.01,\n",
    "    'gly_c':0.235,\n",
    "    'ser__L_c':0.101,\n",
    "    'thr__L_c':0.069,\n",
    "    'val__L_c':0.059,\n",
    "    'leu__L_c':0.099/2,\n",
    "    'ile__L_c':0.099/2,\n",
    "    'phe__L_c':0.064,\n",
    "    'tyr__L_c':0.102,\n",
    "    'asp__L_c':0.098,\n",
    "    'arg__L_c':0.061,\n",
    "    'his__L_c':0.071,\n",
    "    'lys__L_c':0.142,\n",
    "}"
   ]
  },
  {
   "cell_type": "code",
   "execution_count": 11,
   "metadata": {},
   "outputs": [],
   "source": [
    "for m in temp_dict.keys():\n",
    "    met = me.metabolites.get_by_id(m)\n",
    "    weight = met.formula_weight\n",
    "    temp_dict[m] *= weight\n",
    "temp_df = pd.DataFrame.from_dict({'mass_frac':temp_dict})"
   ]
  },
  {
   "cell_type": "code",
   "execution_count": 12,
   "metadata": {},
   "outputs": [],
   "source": [
    "biomass_composition_df.loc['protein']['breakdown'] = temp_df.div(temp_df.sum())"
   ]
  },
  {
   "cell_type": "markdown",
   "metadata": {},
   "source": [
    "### Dipicolinate (DPA)"
   ]
  },
  {
   "cell_type": "markdown",
   "metadata": {},
   "source": [
    "DPA content from [ref](https://onlinelibrary.wiley.com/doi/abs/10.1002/food.19880321025)."
   ]
  },
  {
   "cell_type": "code",
   "execution_count": 13,
   "metadata": {},
   "outputs": [],
   "source": [
    "biomass_composition_df.loc['DPA']['mass_frac'] = 0.178\n",
    "biomass_composition_df.loc['DPA']['breakdown'] = pd.DataFrame.from_dict({'mass_frac':{'DPA_c':1.0}})"
   ]
  },
  {
   "cell_type": "markdown",
   "metadata": {},
   "source": [
    "### Carbohydrates"
   ]
  },
  {
   "cell_type": "markdown",
   "metadata": {},
   "source": [
    "Carbohydrate content from [ref](https://books.google.com.mx/books?id=xU85I7R-kFsC&pg=PA296&lpg=PA296&dq=%22gross+composition+of+spores+and+vegetative+cells+of+bacillus+megaterium%22&source=bl&ots=zJcGxeZczb&sig=ACfU3U1Y8pGJK6-Bl9KLGJ4JQciul1sdIw&hl=en&sa=X&ved=2ahUKEwjDwZb0j9LoAhXDk60KHRPFCccQ6AEwAHoECAIQKQ#v=onepage&q=%22gross%20composition%20of%20spores%20and%20vegetative%20cells%20of%20bacillus%20megaterium%22&f=false). Breakdown from ref"
   ]
  },
  {
   "cell_type": "code",
   "execution_count": 14,
   "metadata": {},
   "outputs": [],
   "source": [
    "carb_frac = 0.048\n",
    "biomass_composition_df.loc['carbohydrates']['mass_frac'] = carb_frac"
   ]
  },
  {
   "cell_type": "code",
   "execution_count": 15,
   "metadata": {},
   "outputs": [],
   "source": [
    "# Fill with model carb composition\n",
    "biomass_reaction = bsub.reactions.BIOMASS_BS_10\n",
    "filtered_metabolite_list = []\n",
    "carb_identifiers = ['glycogen','.+ose']\n",
    "temp_dict = {}\n",
    "for met in biomass_reaction.reactants:\n",
    "        for carb_id in carb_identifiers:\n",
    "            carb_regex = re.compile(carb_id)\n",
    "            if re.match(carb_regex,met.id) or re.match(carb_regex,met.name):\n",
    "                filtered_metabolite_list.append(met)\n",
    "                weight = met.formula_weight/1000\n",
    "                coefficient = biomass_reaction.metabolites[met]\n",
    "                temp_dict[met.id] = -weight*coefficient\n",
    "                break\n",
    "temp_df = pd.DataFrame.from_dict({'mass_frac':temp_dict})"
   ]
  },
  {
   "cell_type": "code",
   "execution_count": 16,
   "metadata": {},
   "outputs": [],
   "source": [
    "biomass_composition_df.loc['carbohydrates']['breakdown'] = temp_df.div(temp_df.sum())"
   ]
  },
  {
   "cell_type": "code",
   "execution_count": 17,
   "metadata": {},
   "outputs": [],
   "source": [
    "biomass_composition_df['mass_frac'] = biomass_composition_df['mass_frac'].div(biomass_composition_df['mass_frac'].sum())"
   ]
  },
  {
   "cell_type": "markdown",
   "metadata": {},
   "source": [
    "## Global"
   ]
  },
  {
   "cell_type": "code",
   "execution_count": 18,
   "metadata": {
    "scrolled": true
   },
   "outputs": [
    {
     "data": {
      "text/html": [
       "<div>\n",
       "<style scoped>\n",
       "    .dataframe tbody tr th:only-of-type {\n",
       "        vertical-align: middle;\n",
       "    }\n",
       "\n",
       "    .dataframe tbody tr th {\n",
       "        vertical-align: top;\n",
       "    }\n",
       "\n",
       "    .dataframe thead th {\n",
       "        text-align: right;\n",
       "    }\n",
       "</style>\n",
       "<table border=\"1\" class=\"dataframe\">\n",
       "  <thead>\n",
       "    <tr style=\"text-align: right;\">\n",
       "      <th></th>\n",
       "      <th>name</th>\n",
       "      <th>class</th>\n",
       "      <th>mass_frac</th>\n",
       "      <th>coeff</th>\n",
       "    </tr>\n",
       "  </thead>\n",
       "  <tbody>\n",
       "    <tr>\n",
       "      <th>ala__L_c</th>\n",
       "      <td>L-Alanine</td>\n",
       "      <td>protein</td>\n",
       "      <td>0.042049</td>\n",
       "      <td>0.471971</td>\n",
       "    </tr>\n",
       "    <tr>\n",
       "      <th>arg__L_c</th>\n",
       "      <td>L-Arginine</td>\n",
       "      <td>protein</td>\n",
       "      <td>0.050953</td>\n",
       "      <td>0.290811</td>\n",
       "    </tr>\n",
       "    <tr>\n",
       "      <th>asp__L_c</th>\n",
       "      <td>L-Aspartate</td>\n",
       "      <td>protein</td>\n",
       "      <td>0.061715</td>\n",
       "      <td>0.467204</td>\n",
       "    </tr>\n",
       "    <tr>\n",
       "      <th>glu__L_c</th>\n",
       "      <td>L-Glutamate</td>\n",
       "      <td>protein</td>\n",
       "      <td>0.006966</td>\n",
       "      <td>0.047674</td>\n",
       "    </tr>\n",
       "    <tr>\n",
       "      <th>gly_c</th>\n",
       "      <td>Glycine</td>\n",
       "      <td>protein</td>\n",
       "      <td>0.084100</td>\n",
       "      <td>1.120336</td>\n",
       "    </tr>\n",
       "    <tr>\n",
       "      <th>his__L_c</th>\n",
       "      <td>L-Histidine</td>\n",
       "      <td>protein</td>\n",
       "      <td>0.052517</td>\n",
       "      <td>0.338484</td>\n",
       "    </tr>\n",
       "    <tr>\n",
       "      <th>ile__L_c</th>\n",
       "      <td>L-Isoleucine</td>\n",
       "      <td>protein</td>\n",
       "      <td>0.030955</td>\n",
       "      <td>0.235986</td>\n",
       "    </tr>\n",
       "    <tr>\n",
       "      <th>leu__L_c</th>\n",
       "      <td>L-Leucine</td>\n",
       "      <td>protein</td>\n",
       "      <td>0.030955</td>\n",
       "      <td>0.235986</td>\n",
       "    </tr>\n",
       "    <tr>\n",
       "      <th>lys__L_c</th>\n",
       "      <td>L-Lysine</td>\n",
       "      <td>protein</td>\n",
       "      <td>0.099647</td>\n",
       "      <td>0.676969</td>\n",
       "    </tr>\n",
       "    <tr>\n",
       "      <th>phe__L_c</th>\n",
       "      <td>L-Phenylalanine</td>\n",
       "      <td>protein</td>\n",
       "      <td>0.050401</td>\n",
       "      <td>0.305113</td>\n",
       "    </tr>\n",
       "    <tr>\n",
       "      <th>ser__L_c</th>\n",
       "      <td>L-Serine</td>\n",
       "      <td>protein</td>\n",
       "      <td>0.050603</td>\n",
       "      <td>0.481506</td>\n",
       "    </tr>\n",
       "    <tr>\n",
       "      <th>thr__L_c</th>\n",
       "      <td>L-Threonine</td>\n",
       "      <td>protein</td>\n",
       "      <td>0.039184</td>\n",
       "      <td>0.328950</td>\n",
       "    </tr>\n",
       "    <tr>\n",
       "      <th>tyr__L_c</th>\n",
       "      <td>L-Tyrosine</td>\n",
       "      <td>protein</td>\n",
       "      <td>0.088107</td>\n",
       "      <td>0.486273</td>\n",
       "    </tr>\n",
       "    <tr>\n",
       "      <th>val__L_c</th>\n",
       "      <td>L-Valine</td>\n",
       "      <td>protein</td>\n",
       "      <td>0.032950</td>\n",
       "      <td>0.281276</td>\n",
       "    </tr>\n",
       "    <tr>\n",
       "      <th>cdlp_BS_c</th>\n",
       "      <td>Cardiolipin  B subtilis  C7172H13744O1700P200</td>\n",
       "      <td>lipids</td>\n",
       "      <td>0.000314</td>\n",
       "      <td>0.000002</td>\n",
       "    </tr>\n",
       "    <tr>\n",
       "      <th>d12dg_BS_c</th>\n",
       "      <td>Diglucosyl 1 2 diacylglycerol C4636H8672O1500</td>\n",
       "      <td>lipids</td>\n",
       "      <td>0.004944</td>\n",
       "      <td>0.000056</td>\n",
       "    </tr>\n",
       "    <tr>\n",
       "      <th>lysylpgly_BS_c</th>\n",
       "      <td>Lysylphophatidylglycerol C4336H8572N200O1100P100</td>\n",
       "      <td>lipids</td>\n",
       "      <td>0.000942</td>\n",
       "      <td>0.000011</td>\n",
       "    </tr>\n",
       "    <tr>\n",
       "      <th>m12dg_BS_c</th>\n",
       "      <td>Monoglucosyl 1 2 diacylglycerol C4036H7672O1000</td>\n",
       "      <td>lipids</td>\n",
       "      <td>0.003139</td>\n",
       "      <td>0.000043</td>\n",
       "    </tr>\n",
       "    <tr>\n",
       "      <th>pgly_BS_c</th>\n",
       "      <td>Phosphatidylglycerol  B subtils  C3736H7272O10...</td>\n",
       "      <td>lipids</td>\n",
       "      <td>0.006356</td>\n",
       "      <td>0.000089</td>\n",
       "    </tr>\n",
       "    <tr>\n",
       "      <th>psetha_BS_c</th>\n",
       "      <td>Phosphatidylethanolamine  B subtilis  C3636H71...</td>\n",
       "      <td>lipids</td>\n",
       "      <td>0.019344</td>\n",
       "      <td>0.000284</td>\n",
       "    </tr>\n",
       "    <tr>\n",
       "      <th>t12dg_BS_c</th>\n",
       "      <td>Triglucosyl 1 2 diacylglycerol C5236H9672O2000</td>\n",
       "      <td>lipids</td>\n",
       "      <td>0.003492</td>\n",
       "      <td>0.000033</td>\n",
       "    </tr>\n",
       "    <tr>\n",
       "      <th>gtca3_45_BS_c</th>\n",
       "      <td>Glycerol teichoic acid  n45   unlinked  glucos...</td>\n",
       "      <td>carbohydrates</td>\n",
       "      <td>0.017943</td>\n",
       "      <td>0.001222</td>\n",
       "    </tr>\n",
       "    <tr>\n",
       "      <th>lipo1_24_BS_c</th>\n",
       "      <td>Lipoteichoic acid  n24   linked  glucose subst...</td>\n",
       "      <td>carbohydrates</td>\n",
       "      <td>0.003972</td>\n",
       "      <td>0.000005</td>\n",
       "    </tr>\n",
       "    <tr>\n",
       "      <th>tcam_BS_c</th>\n",
       "      <td>Minor teichoic acid  acetylgalactosamine gluco...</td>\n",
       "      <td>carbohydrates</td>\n",
       "      <td>0.028987</td>\n",
       "      <td>0.002090</td>\n",
       "    </tr>\n",
       "    <tr>\n",
       "      <th>DPA_c</th>\n",
       "      <td>Dipicolinate C7H3NO4</td>\n",
       "      <td>DPA</td>\n",
       "      <td>0.188759</td>\n",
       "      <td>1.143282</td>\n",
       "    </tr>\n",
       "  </tbody>\n",
       "</table>\n",
       "</div>"
      ],
      "text/plain": [
       "                                                             name  \\\n",
       "ala__L_c                                                L-Alanine   \n",
       "arg__L_c                                               L-Arginine   \n",
       "asp__L_c                                              L-Aspartate   \n",
       "glu__L_c                                              L-Glutamate   \n",
       "gly_c                                                     Glycine   \n",
       "his__L_c                                              L-Histidine   \n",
       "ile__L_c                                             L-Isoleucine   \n",
       "leu__L_c                                                L-Leucine   \n",
       "lys__L_c                                                 L-Lysine   \n",
       "phe__L_c                                          L-Phenylalanine   \n",
       "ser__L_c                                                 L-Serine   \n",
       "thr__L_c                                              L-Threonine   \n",
       "tyr__L_c                                               L-Tyrosine   \n",
       "val__L_c                                                 L-Valine   \n",
       "cdlp_BS_c           Cardiolipin  B subtilis  C7172H13744O1700P200   \n",
       "d12dg_BS_c          Diglucosyl 1 2 diacylglycerol C4636H8672O1500   \n",
       "lysylpgly_BS_c   Lysylphophatidylglycerol C4336H8572N200O1100P100   \n",
       "m12dg_BS_c        Monoglucosyl 1 2 diacylglycerol C4036H7672O1000   \n",
       "pgly_BS_c       Phosphatidylglycerol  B subtils  C3736H7272O10...   \n",
       "psetha_BS_c     Phosphatidylethanolamine  B subtilis  C3636H71...   \n",
       "t12dg_BS_c         Triglucosyl 1 2 diacylglycerol C5236H9672O2000   \n",
       "gtca3_45_BS_c   Glycerol teichoic acid  n45   unlinked  glucos...   \n",
       "lipo1_24_BS_c   Lipoteichoic acid  n24   linked  glucose subst...   \n",
       "tcam_BS_c       Minor teichoic acid  acetylgalactosamine gluco...   \n",
       "DPA_c                                        Dipicolinate C7H3NO4   \n",
       "\n",
       "                        class  mass_frac     coeff  \n",
       "ala__L_c              protein   0.042049  0.471971  \n",
       "arg__L_c              protein   0.050953  0.290811  \n",
       "asp__L_c              protein   0.061715  0.467204  \n",
       "glu__L_c              protein   0.006966  0.047674  \n",
       "gly_c                 protein   0.084100  1.120336  \n",
       "his__L_c              protein   0.052517  0.338484  \n",
       "ile__L_c              protein   0.030955  0.235986  \n",
       "leu__L_c              protein   0.030955  0.235986  \n",
       "lys__L_c              protein   0.099647  0.676969  \n",
       "phe__L_c              protein   0.050401  0.305113  \n",
       "ser__L_c              protein   0.050603  0.481506  \n",
       "thr__L_c              protein   0.039184  0.328950  \n",
       "tyr__L_c              protein   0.088107  0.486273  \n",
       "val__L_c              protein   0.032950  0.281276  \n",
       "cdlp_BS_c              lipids   0.000314  0.000002  \n",
       "d12dg_BS_c             lipids   0.004944  0.000056  \n",
       "lysylpgly_BS_c         lipids   0.000942  0.000011  \n",
       "m12dg_BS_c             lipids   0.003139  0.000043  \n",
       "pgly_BS_c              lipids   0.006356  0.000089  \n",
       "psetha_BS_c            lipids   0.019344  0.000284  \n",
       "t12dg_BS_c             lipids   0.003492  0.000033  \n",
       "gtca3_45_BS_c   carbohydrates   0.017943  0.001222  \n",
       "lipo1_24_BS_c   carbohydrates   0.003972  0.000005  \n",
       "tcam_BS_c       carbohydrates   0.028987  0.002090  \n",
       "DPA_c                     DPA   0.188759  1.143282  "
      ]
     },
     "execution_count": 18,
     "metadata": {},
     "output_type": "execute_result"
    }
   ],
   "source": [
    "gf = []\n",
    "gc = []\n",
    "mets = []\n",
    "names = []\n",
    "classes = []\n",
    "for group,bd in biomass_composition_df['breakdown'].items():\n",
    "    mass_frac = biomass_composition_df.loc[group]['mass_frac']\n",
    "    for m,rel_frac in bd['mass_frac'].items():\n",
    "        global_frac = mass_frac*rel_frac # g/gDW\n",
    "        met = bsub.metabolites.get_by_id(m)\n",
    "        weight = met.formula_weight /1000 # g/mmol\n",
    "        coeff = global_frac/weight\n",
    "        mets.append(m)\n",
    "        gf.append(global_frac)\n",
    "        gc.append(coeff)\n",
    "        names.append(met.name)\n",
    "        classes.append(group)\n",
    "        \n",
    "global_composition_df = pd.DataFrame(index=mets)\n",
    "global_composition_df['name'] = names\n",
    "global_composition_df['class'] = classes\n",
    "global_composition_df['mass_frac'] = gf\n",
    "global_composition_df['coeff'] = gc\n",
    "\n",
    "global_composition_df"
   ]
  },
  {
   "cell_type": "code",
   "execution_count": 19,
   "metadata": {},
   "outputs": [],
   "source": [
    "global_composition_df.to_csv('spore_composition.csv')"
   ]
  },
  {
   "cell_type": "code",
   "execution_count": 20,
   "metadata": {},
   "outputs": [
    {
     "data": {
      "text/plain": [
       "name         L-AlanineL-ArginineL-AspartateL-GlutamateGlyci...\n",
       "class        proteinproteinproteinproteinproteinproteinprot...\n",
       "mass_frac                                             0.999294\n",
       "coeff                                                  6.91565\n",
       "dtype: object"
      ]
     },
     "execution_count": 20,
     "metadata": {},
     "output_type": "execute_result"
    }
   ],
   "source": [
    "global_composition_df.sum()"
   ]
  }
 ],
 "metadata": {
  "kernelspec": {
   "display_name": "Python 3",
   "language": "python",
   "name": "python3"
  },
  "language_info": {
   "codemirror_mode": {
    "name": "ipython",
    "version": 3
   },
   "file_extension": ".py",
   "mimetype": "text/x-python",
   "name": "python",
   "nbconvert_exporter": "python",
   "pygments_lexer": "ipython3",
   "version": "3.6.3"
  }
 },
 "nbformat": 4,
 "nbformat_minor": 4
}
