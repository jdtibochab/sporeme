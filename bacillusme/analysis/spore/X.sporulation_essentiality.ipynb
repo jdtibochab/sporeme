{
 "cells": [
  {
   "cell_type": "markdown",
   "metadata": {},
   "source": [
    "# Sporulation"
   ]
  },
  {
   "cell_type": "code",
   "execution_count": 2,
   "metadata": {
    "scrolled": true
   },
   "outputs": [
    {
     "name": "stderr",
     "output_type": "stream",
     "text": [
      "/home/jt/me_modeling/lib/python3.6/site-packages/cobra-0.5.11-py3.6-linux-x86_64.egg/cobra/io/sbml3.py:24: UserWarning: Install lxml for faster SBML I/O\n",
      "  warn(\"Install lxml for faster SBML I/O\")\n",
      "/home/jt/me_modeling/lib/python3.6/site-packages/cobra-0.5.11-py3.6-linux-x86_64.egg/cobra/io/__init__.py:12: UserWarning: cobra.io.sbml requires libsbml\n",
      "  warn(\"cobra.io.sbml requires libsbml\")\n"
     ]
    },
    {
     "name": "stdout",
     "output_type": "stream",
     "text": [
      "/home/jt/me_modeling/lib/python3.6/site-packages/cobra-0.5.11-py3.6-linux-x86_64.egg/cobra/__init__.py\n",
      "/home/jt/UCSD/cobrame/cobrame/__init__.py\n",
      "/home/jt/UCSD/bacillusme-master/bacillusme/__init__.py\n"
     ]
    }
   ],
   "source": [
    "from __future__ import print_function, division, absolute_import\n",
    "\n",
    "import sys\n",
    "\n",
    "import qminospy\n",
    "from qminospy.me2 import ME_NLP\n",
    "\n",
    "# python imports\n",
    "from copy import copy\n",
    "import re\n",
    "from os.path import join, dirname, abspath\n",
    "import sys\n",
    "sys.path.append('/home/UCSD/cobra_utils')\n",
    "from collections import defaultdict\n",
    "import pickle\n",
    "\n",
    "# third party imports\n",
    "import pandas\n",
    "import cobra\n",
    "from tqdm import tqdm\n",
    "import numpy as np\n",
    "import scipy\n",
    "\n",
    "# COBRAme\n",
    "import cobrame\n",
    "from cobrame.util import building, mu, me_model_interface\n",
    "from cobrame.io.json import save_json_me_model, save_reduced_json_me_model\n",
    "\n",
    "# ECOLIme\n",
    "import bacillusme\n",
    "from bacillusme import (transcription, translation, flat_files, generics, formulas, compartments)\n",
    "from cobrame.util.helper_functions import *\n",
    "\n",
    "import copy\n",
    "from scipy import stats\n",
    "import matplotlib.pyplot as plt\n",
    "%load_ext autoreload\n",
    "%autoreload 2\n",
    "print(cobra.__file__)\n",
    "print(cobrame.__file__)\n",
    "print(bacillusme.__file__)\n",
    "ecoli_files = dirname(abspath(bacillusme.__file__))\n",
    "pd.set_option('display.max_colwidth', None)"
   ]
  },
  {
   "cell_type": "code",
   "execution_count": 11,
   "metadata": {
    "scrolled": true
   },
   "outputs": [
    {
     "data": {
      "text/plain": [
       "<Solution 0.12 at 0x7fa3ed47f438>"
      ]
     },
     "execution_count": 11,
     "metadata": {},
     "output_type": "execute_result"
    }
   ],
   "source": [
    "eco_directory = join(flat_files.ecoli_files_dir, 'iJO1366.json')\n",
    "ijo_directory = join(flat_files.ecoli_files_dir, 'iYO844.json')\n",
    "uni_directory = join(flat_files.ecoli_files_dir, 'universal_model.json')\n",
    "\n",
    "eco = cobra.io.load_json_model(eco_directory)\n",
    "bsub = cobra.io.load_json_model(ijo_directory)\n",
    "uni = cobra.io.load_json_model(uni_directory)\n",
    "\n",
    "bsub.optimize()"
   ]
  },
  {
   "cell_type": "code",
   "execution_count": 12,
   "metadata": {
    "scrolled": true
   },
   "outputs": [],
   "source": [
    "with open('../../me_models/solution.pickle', 'rb') as solution:\n",
    "    me = pickle.load(solution)"
   ]
  },
  {
   "cell_type": "code",
   "execution_count": 8,
   "metadata": {},
   "outputs": [],
   "source": [
    "def add_transport(model,mets):\n",
    "    for i in mets:\n",
    "        rxn = cobrame.MEReaction('{}_transport'.format(i))\n",
    "        model.add_reactions([rxn])\n",
    "        rxn.add_metabolites({\n",
    "            '{}_c'.format(i):-1,\n",
    "            '{}_s'.format(i):1\n",
    "        })\n",
    "        rxn.bounds = (-1000,1000)"
   ]
  },
  {
   "cell_type": "markdown",
   "metadata": {},
   "source": [
    "### Essentiality of FS genes"
   ]
  },
  {
   "cell_type": "code",
   "execution_count": 9,
   "metadata": {
    "scrolled": true
   },
   "outputs": [],
   "source": [
    "with open(\"./sporeme_solution_v4_proteomics.pickle\", \"rb\") as outfile:\n",
    "    sporeme = pickle.load(outfile)"
   ]
  },
  {
   "cell_type": "code",
   "execution_count": 10,
   "metadata": {},
   "outputs": [],
   "source": [
    "add_transport(sporeme,['gdp','cdp'])"
   ]
  },
  {
   "cell_type": "code",
   "execution_count": 11,
   "metadata": {},
   "outputs": [],
   "source": [
    "from bacillusme.analysis import sensitivity as ss"
   ]
  },
  {
   "cell_type": "code",
   "execution_count": 12,
   "metadata": {},
   "outputs": [],
   "source": [
    "genes = ['BSU' + g.id.split('RNA_BSU')[1] for g in sporeme.metabolites.query(re.compile('RNA_BSU.*_s$'))]"
   ]
  },
  {
   "cell_type": "code",
   "execution_count": null,
   "metadata": {
    "scrolled": true,
    "tags": []
   },
   "outputs": [
    {
     "name": "stdout",
     "output_type": "stream",
     "text": [
      "1 0 100\n"
     ]
    },
    {
     "name": "stderr",
     "output_type": "stream",
     "text": [
      "biomass_dilution_s response (10 threads):   0%|          | 0/100 [00:00<?, ?it/s]"
     ]
    }
   ],
   "source": [
    "for i in range(0,int(len(genes)/100)+1):\n",
    "    a,b = (i*100,i*100 + 100)\n",
    "    b = min(b,len(genes))\n",
    "    print(i+1,a,b)\n",
    "    flux_responses = ss.all_flux_responses(sporeme,genes[a:b],NP=10,precision=1e-6, solution=sporeme.solution,\n",
    "                       single_change_function='gene_knockout',growth_key='sigma')\n",
    "    flux_responses.to_csv('essentiality_raw_results_FS_{}.csv'.format(i+1))"
   ]
  },
  {
   "cell_type": "code",
   "execution_count": 18,
   "metadata": {},
   "outputs": [],
   "source": [
    "import os"
   ]
  },
  {
   "cell_type": "code",
   "execution_count": 19,
   "metadata": {},
   "outputs": [],
   "source": [
    "flux_responses = {}\n",
    "f = 'essentiality_raw_results_FS'\n",
    "for i in os.listdir():\n",
    "    if f not in i: continue\n",
    "    if f+'.csv' == i: continue\n",
    "    print(i)\n",
    "    d = pd.read_csv(i,index_col=0).to_dict()\n",
    "    for k,v in d.items():\n",
    "        flux_responses[k] = v\n",
    "flux_responses = pd.DataFrame.from_dict(flux_responses)\n",
    "flux_responses.to_csv('{}.csv'.format(f))"
   ]
  },
  {
   "cell_type": "markdown",
   "metadata": {},
   "source": [
    "### Essentiality of MC genes"
   ]
  },
  {
   "cell_type": "code",
   "execution_count": 24,
   "metadata": {
    "scrolled": true
   },
   "outputs": [],
   "source": [
    "with open(\"./sporeme_solution_v4_proteomics.pickle\", \"rb\") as outfile:\n",
    "    sporeme = pickle.load(outfile)"
   ]
  },
  {
   "cell_type": "code",
   "execution_count": 25,
   "metadata": {},
   "outputs": [],
   "source": [
    "from bacillusme.analysis import sensitivity as ss"
   ]
  },
  {
   "cell_type": "code",
   "execution_count": 26,
   "metadata": {},
   "outputs": [],
   "source": [
    "genes = ['BSU' + g.id.split('RNA_BSU')[1] for \\\n",
    "         g in sporeme.metabolites.query(re.compile('RNA_BSU.*[^s]$'))]"
   ]
  },
  {
   "cell_type": "code",
   "execution_count": null,
   "metadata": {
    "scrolled": true,
    "tags": []
   },
   "outputs": [
    {
     "name": "stdout",
     "output_type": "stream",
     "text": [
      "1 0 100\n"
     ]
    },
    {
     "name": "stderr",
     "output_type": "stream",
     "text": [
      "biomass_dilution_s response (10 threads):  15%|█▌        | 15/100 [2:40:28<5:15:05, 222.42s/it]  "
     ]
    }
   ],
   "source": [
    "for i in range(0,int(len(genes)/100)+1):\n",
    "    a,b = (i*100,i*100 + 100)\n",
    "    b = min(b,len(genes))\n",
    "    print(i+1,a,b)\n",
    "    flux_responses = ss.all_flux_responses(sporeme,genes[a:b],NP=10,precision=1e-6, solution=sporeme.solution,\n",
    "                       single_change_function='gene_knockout',growth_key='sigma')\n",
    "    flux_responses.to_csv('essentiality_raw_results_MC_{}.csv'.format(i+1))"
   ]
  },
  {
   "cell_type": "code",
   "execution_count": 85,
   "metadata": {
    "scrolled": true,
    "tags": []
   },
   "outputs": [
    {
     "name": "stdout",
     "output_type": "stream",
     "text": [
      "essentiality_raw_results_MC_8.csv\n",
      "essentiality_raw_results_MC_9.csv\n",
      "essentiality_raw_results_MC_5.csv\n",
      "essentiality_raw_results_MC_1.csv\n",
      "essentiality_raw_results_MC_2.csv\n",
      "essentiality_raw_results_MC_10.csv\n",
      "essentiality_raw_results_MC_3.csv\n",
      "essentiality_raw_results_MC_4.csv\n",
      "essentiality_raw_results_MC_6.csv\n",
      "essentiality_raw_results_MC_7.csv\n",
      "essentiality_raw_results_MC_11.csv\n"
     ]
    }
   ],
   "source": [
    "flux_responses = {}\n",
    "f = 'essentiality_raw_results_MC'\n",
    "for i in os.listdir():\n",
    "    if f not in i: continue\n",
    "    if f+'.csv' == i: continue\n",
    "    print(i)\n",
    "    d = pd.read_csv(i,index_col=0).to_dict()\n",
    "    for k,v in d.items():\n",
    "        flux_responses[k] = v\n",
    "flux_responses = pd.DataFrame.from_dict(flux_responses)\n",
    "flux_responses.to_csv('{}.csv'.format(f))"
   ]
  },
  {
   "cell_type": "markdown",
   "metadata": {},
   "source": [
    "### Essentiality"
   ]
  },
  {
   "cell_type": "code",
   "execution_count": 3,
   "metadata": {},
   "outputs": [],
   "source": [
    "with open(\"./sporeme_solution_v4_proteomics.pickle\", \"rb\") as outfile:\n",
    "    sporeme = pickle.load(outfile)"
   ]
  },
  {
   "cell_type": "code",
   "execution_count": 4,
   "metadata": {},
   "outputs": [],
   "source": [
    "FS_df = pd.read_csv('essentiality_raw_results_FS.csv',index_col=0)\n",
    "MC_df = pd.read_csv('essentiality_raw_results_MC.csv',index_col=0)\n",
    "VG_df = pd.read_csv('../essentiality/essentiality_raw_me_results.csv',index_col=0)"
   ]
  },
  {
   "cell_type": "code",
   "execution_count": 87,
   "metadata": {},
   "outputs": [],
   "source": [
    "# df = pd.read_csv('../essentiality/essentiality_raw_me_results_eco.csv',index_col=0)"
   ]
  },
  {
   "cell_type": "code",
   "execution_count": 6,
   "metadata": {},
   "outputs": [],
   "source": [
    "def get_binary_essentiality(df,threshold = 1e-3,obj = 'biomass_dilution'):\n",
    "    d = {}\n",
    "    for g,row in df.T.iterrows():\n",
    "        d[g.split('_s')[0]] = 1 if row[obj] < threshold else 0\n",
    "    return d\n",
    "def get_comparison(l,annotation=[],names=[]):\n",
    "    d = {}\n",
    "    for i in l[0]:\n",
    "        if any(i not in di for di in l):\n",
    "            continue\n",
    "        v = [di[i] for di in l]\n",
    "        if not names:\n",
    "            names = range(len(l))\n",
    "        d[i] = {ni:vi for ni,vi in zip(names,v)}\n",
    "        if isinstance(annotation,pd.DataFrame):\n",
    "            p = '{}-MONOMER'.format(i)\n",
    "            if p in annotation.index:\n",
    "                if i in bsub.genes:\n",
    "                    model_annotation = [r.subsystem for r in bsub.genes.get_by_id(i).reactions]\n",
    "                d[i]['annotation'] = annotation.loc[p]['name']\n",
    "                d[i]['model_annotation'] = ','.join(model_annotation)\n",
    "    return pd.DataFrame.from_dict(d).T"
   ]
  },
  {
   "cell_type": "code",
   "execution_count": 50,
   "metadata": {},
   "outputs": [],
   "source": [
    "FS_es = get_binary_essentiality(FS_df,obj = 'biomass_dilution_s')\n",
    "VG_es = get_binary_essentiality(VG_df,obj = 'biomass_dilution')\n",
    "MC_es = get_binary_essentiality(MC_df,obj = 'biomass_dilution_s')\n",
    "locus_to_name = pd.read_csv('../gene_name_dictionary.csv',index_col=0)['name'].to_dict()"
   ]
  },
  {
   "cell_type": "code",
   "execution_count": 52,
   "metadata": {
    "scrolled": true,
    "tags": []
   },
   "outputs": [
    {
     "data": {
      "text/html": [
       "<div>\n",
       "<style scoped>\n",
       "    .dataframe tbody tr th:only-of-type {\n",
       "        vertical-align: middle;\n",
       "    }\n",
       "\n",
       "    .dataframe tbody tr th {\n",
       "        vertical-align: top;\n",
       "    }\n",
       "\n",
       "    .dataframe thead th {\n",
       "        text-align: right;\n",
       "    }\n",
       "</style>\n",
       "<table border=\"1\" class=\"dataframe\">\n",
       "  <thead>\n",
       "    <tr style=\"text-align: right;\">\n",
       "      <th></th>\n",
       "      <th>name</th>\n",
       "      <th>FS_flux</th>\n",
       "      <th>FS_essential</th>\n",
       "      <th>MC_flux</th>\n",
       "      <th>MC_essential</th>\n",
       "    </tr>\n",
       "  </thead>\n",
       "  <tbody>\n",
       "    <tr>\n",
       "      <th>BSU00090</th>\n",
       "      <td>guaB</td>\n",
       "      <td>0</td>\n",
       "      <td>False</td>\n",
       "      <td>6.89715e-09</td>\n",
       "      <td>False</td>\n",
       "    </tr>\n",
       "    <tr>\n",
       "      <th>BSU00110</th>\n",
       "      <td>pdxS</td>\n",
       "      <td>0</td>\n",
       "      <td>False</td>\n",
       "      <td>0</td>\n",
       "      <td>False</td>\n",
       "    </tr>\n",
       "    <tr>\n",
       "      <th>BSU00120</th>\n",
       "      <td>pdxT</td>\n",
       "      <td>0</td>\n",
       "      <td>False</td>\n",
       "      <td>0</td>\n",
       "      <td>False</td>\n",
       "    </tr>\n",
       "    <tr>\n",
       "      <th>BSU00130</th>\n",
       "      <td>serS</td>\n",
       "      <td>1.77563e-09</td>\n",
       "      <td>True</td>\n",
       "      <td>2.35315e-09</td>\n",
       "      <td>True</td>\n",
       "    </tr>\n",
       "    <tr>\n",
       "      <th>BSU00140</th>\n",
       "      <td>dck</td>\n",
       "      <td>0</td>\n",
       "      <td>False</td>\n",
       "      <td>0</td>\n",
       "      <td>False</td>\n",
       "    </tr>\n",
       "  </tbody>\n",
       "</table>\n",
       "</div>"
      ],
      "text/plain": [
       "          name      FS_flux FS_essential      MC_flux MC_essential\n",
       "BSU00090  guaB            0        False  6.89715e-09        False\n",
       "BSU00110  pdxS            0        False            0        False\n",
       "BSU00120  pdxT            0        False            0        False\n",
       "BSU00130  serS  1.77563e-09         True  2.35315e-09         True\n",
       "BSU00140   dck            0        False            0        False"
      ]
     },
     "execution_count": 52,
     "metadata": {},
     "output_type": "execute_result"
    }
   ],
   "source": [
    "# \n",
    "d = {}\n",
    "for r in sporeme.reactions.query('^translation_BSU.*_s$'):\n",
    "    g = r.id.split('translation_')[1].split('_s')[0]\n",
    "    d[g] = {\n",
    "        'name' : locus_to_name[g],\n",
    "        'FS_flux' : sporeme.solution.x_dict['translation_{}_s'.format(g)],\n",
    "        'FS_essential' : bool(FS_es[g]),\n",
    "        'MC_flux' : sporeme.solution.x_dict['translation_{}'.format(g)],\n",
    "        'MC_essential' : bool(MC_es[g])\n",
    "    }\n",
    "summary_df = pd.DataFrame.from_dict(d).T\n",
    "summary_df.to_csv('essentiality_summary.csv')\n",
    "summary_df[(summary_df['FS_flux'] > 1e-16)].to_csv('FS_proteins_summary.csv')\n",
    "summary_df[(summary_df['MC_flux'] > 1e-16)].to_csv('MC_proteins_summary.csv')\n",
    "summary_df.head()"
   ]
  },
  {
   "cell_type": "code",
   "execution_count": 8,
   "metadata": {},
   "outputs": [],
   "source": [
    "complexes = pd.read_csv('bacillus_complexes.csv',index_col=0)"
   ]
  },
  {
   "cell_type": "code",
   "execution_count": 13,
   "metadata": {
    "scrolled": true,
    "tags": []
   },
   "outputs": [],
   "source": [
    "c = get_comparison([FS_es,MC_es,VG_es],annotation=complexes,names=['FS','MC','VG'])"
   ]
  },
  {
   "cell_type": "code",
   "execution_count": 16,
   "metadata": {},
   "outputs": [
    {
     "name": "stdout",
     "output_type": "stream",
     "text": [
      "FS    205.0\n",
      "MC    174.0\n",
      "VG    311.0\n",
      "dtype: float64\n"
     ]
    },
    {
     "data": {
      "image/png": "[encoded data removed]",
      "text/plain": [
       "<Figure size 288x288 with 1 Axes>"
      ]
     },
     "metadata": {
      "needs_background": "light"
     },
     "output_type": "display_data"
    }
   ],
   "source": [
    "print(c[['FS','MC','VG']].sum())\n",
    "c[['FS','MC','VG']].sum().plot.bar(figsize=(4,4))\n",
    "plt.ylabel('Number of essential genes')\n",
    "plt.savefig('./figures/essential_genes.svg',format='SVG')"
   ]
  },
  {
   "cell_type": "code",
   "execution_count": 92,
   "metadata": {},
   "outputs": [],
   "source": [
    "from matplotlib_venn import venn3\n",
    "plt.rcParams['svg.fonttype'] = 'none'"
   ]
  },
  {
   "cell_type": "code",
   "execution_count": 93,
   "metadata": {},
   "outputs": [
    {
     "data": {
      "image/png": "[encoded data removed]",
      "text/plain": [
       "<Figure size 432x288 with 1 Axes>"
      ]
     },
     "metadata": {},
     "output_type": "display_data"
    }
   ],
   "source": [
    "fs = set(c[c['FS']>0].index)\n",
    "mc = set(c[c['MC']>0].index)\n",
    "vg = set(c[c['VG']>0].index)\n",
    "venn3([fs,mc,vg],('FS','MC','VG'))\n",
    "plt.savefig('figures/venn_FS_MC_VG.svg',format='SVG')"
   ]
  },
  {
   "cell_type": "code",
   "execution_count": 94,
   "metadata": {},
   "outputs": [
    {
     "data": {
      "text/plain": [
       "FS                                                                                                     0\n",
       "MC                                                                                                     0\n",
       "VG                                                                                                     0\n",
       "annotation          2-oxoglutarate dehydrogenase complex (dihydrolipoamide transsuccinylase, E2 subunit)\n",
       "model_annotation                                                   S_Carbohydrates_and_related_molecules\n",
       "Name: BSU19360, dtype: object"
      ]
     },
     "execution_count": 94,
     "metadata": {},
     "output_type": "execute_result"
    }
   ],
   "source": [
    "c.loc['BSU19360']"
   ]
  },
  {
   "cell_type": "code",
   "execution_count": 98,
   "metadata": {},
   "outputs": [],
   "source": [
    "c.drop('base').to_csv('Supplementary File 1.csv')"
   ]
  },
  {
   "cell_type": "code",
   "execution_count": 81,
   "metadata": {},
   "outputs": [],
   "source": [
    "c[(c.FS==1) & (c.MC==0)].drop(['FS','MC','VG'],axis=1).to_csv('annotation_FS.csv')"
   ]
  },
  {
   "cell_type": "code",
   "execution_count": 82,
   "metadata": {},
   "outputs": [],
   "source": [
    "c[(c.FS==0) & (c.MC==1)].drop(['FS','MC','VG'],axis=1).to_csv('annotation_MC.csv')"
   ]
  },
  {
   "cell_type": "code",
   "execution_count": 83,
   "metadata": {},
   "outputs": [],
   "source": [
    "c[(c.FS==0) & (c.MC==0) & (c.VG == 1)].drop(['FS','MC','VG'],axis=1).to_csv('annotation_VG.csv')"
   ]
  },
  {
   "cell_type": "code",
   "execution_count": 84,
   "metadata": {},
   "outputs": [],
   "source": [
    "c[(c.FS==1) & (c.MC==1) & (c.VG==1)].drop(['FS','MC','VG'],axis=1).to_csv('annotation_both.csv')"
   ]
  },
  {
   "cell_type": "code",
   "execution_count": 333,
   "metadata": {},
   "outputs": [
    {
     "name": "stdout",
     "output_type": "stream",
     "text": [
      "2-oxoisovalerate dehydrogenase (acylating; 4-methyl-2-oxopentaoate)\n",
      "4mop_c + coa_c + nad_c <=> co2_c + ivcoa_c + nadh_c\n",
      "2-oxoisovalerate dehydrogenase (acylating; 3-methyl-2-oxobutanoate)\n",
      "3mob_c + coa_c + nad_c --> co2_c + ibcoa_c + nadh_c\n",
      "2-oxoisovalerate dehydrogenase (acylating; 3-methyl-2-oxopentanoate)\n",
      "3mop_c + coa_c + nad_c --> 2mbcoa_c + co2_c + nadh_c\n"
     ]
    }
   ],
   "source": [
    "for r in bsub.genes.get_by_id('BSU24030').reactions:\n",
    "    print(r.name)\n",
    "    print(r.reaction)"
   ]
  },
  {
   "cell_type": "code",
   "execution_count": 343,
   "metadata": {
    "scrolled": true,
    "tags": []
   },
   "outputs": [
    {
     "data": {
      "text/html": [
       "<div>\n",
       "<style scoped>\n",
       "    .dataframe tbody tr th:only-of-type {\n",
       "        vertical-align: middle;\n",
       "    }\n",
       "\n",
       "    .dataframe tbody tr th {\n",
       "        vertical-align: top;\n",
       "    }\n",
       "\n",
       "    .dataframe thead th {\n",
       "        text-align: right;\n",
       "    }\n",
       "</style>\n",
       "<table border=\"1\" class=\"dataframe\">\n",
       "  <thead>\n",
       "    <tr style=\"text-align: right;\">\n",
       "      <th></th>\n",
       "      <th>lb</th>\n",
       "      <th>ub</th>\n",
       "      <th>rxn_flux</th>\n",
       "      <th>met_flux</th>\n",
       "      <th>reaction</th>\n",
       "    </tr>\n",
       "  </thead>\n",
       "  <tbody>\n",
       "    <tr>\n",
       "      <th>formation_CPLX000-60</th>\n",
       "      <td>0</td>\n",
       "      <td>1000</td>\n",
       "      <td>0</td>\n",
       "      <td>-0</td>\n",
       "      <td>protein_BSU24030 + protein_BSU24040 + protein_BSU24050 + protein_BSU24060 --&gt; CPLX000-60</td>\n",
       "    </tr>\n",
       "    <tr>\n",
       "      <th>formation_CPLX000-58</th>\n",
       "      <td>0</td>\n",
       "      <td>1000</td>\n",
       "      <td>0</td>\n",
       "      <td>-0</td>\n",
       "      <td>protein_BSU24030 + protein_BSU24040 + protein_BSU24050 + protein_BSU24060 --&gt; CPLX000-58</td>\n",
       "    </tr>\n",
       "    <tr>\n",
       "      <th>formation_CPLX000-59</th>\n",
       "      <td>0</td>\n",
       "      <td>1000</td>\n",
       "      <td>0</td>\n",
       "      <td>-0</td>\n",
       "      <td>protein_BSU24030 + protein_BSU24040 + protein_BSU24050 + protein_BSU24060 --&gt; CPLX000-59</td>\n",
       "    </tr>\n",
       "    <tr>\n",
       "      <th>translation_BSU24040</th>\n",
       "      <td>0</td>\n",
       "      <td>1000</td>\n",
       "      <td>0</td>\n",
       "      <td>0</td>\n",
       "      <td>10fthf_c + 40 ala__L_c + 16 arg__L_c + 6 asn__L_c + 22 asp__L_c + 3 cys__L_c + 15.0 generic_tRNA_AAA_lys__L_c + 4.0 generic_tRNA_AAC_asn__L_c + 4.0 generic_tRNA_AAG_lys__L_c + 2.0 generic_tRNA_AAU_asn__L_c + 8.0 generic_tRNA_ACA_thr__L_c + generic_tRNA_ACG_thr__L_c + generic_tRNA_ACU_thr__L_c + 5.0 generic_tRNA_AGA_arg__L_c + 4.0 generic_tRNA_AGC_ser__L_c + generic_tRNA_AGG_arg__L_c + 2.0 generic_tRNA_AUA_ile__L_c + 11.0 generic_tRNA_AUC_ile__L_c + 14.0 generic_tRNA_AUG_met__L_c + 11.0 generic_tRNA_AUU_ile__L_c + 4.0 generic_tRNA_CAA_gln__L_c + 3.0 generic_tRNA_CAC_his__L_c + 2.0 generic_tRNA_CAG_gln__L_c + 3.0 generic_tRNA_CAU_his__L_c + 4.0 generic_tRNA_CCA_pro__L_c + 2.0 generic_tRNA_CCC_pro__L_c + 9.0 generic_tRNA_CCG_pro__L_c + 3.0 generic_tRNA_CCU_pro__L_c + generic_tRNA_CGA_arg__L_c + 4.0 generic_tRNA_CGC_arg__L_c + 2.0 generic_tRNA_CGG_arg__L_c + 3.0 generic_tRNA_CGU_arg__L_c + 3.0 generic_tRNA_CUC_leu__L_c + 7.0 generic_tRNA_CUG_leu__L_c + 5.0 generic_tRNA_CUU_leu__L_c + 22.0 generic_tRNA_GAA_glu__L_c + 9.0 generic_tRNA_GAC_asp__L_c + 5.0 generic_tRNA_GAG_glu__L_c + 13.0 generic_tRNA_GAU_asp__L_c + 11.0 generic_tRNA_GCA_ala__L_c + 6.0 generic_tRNA_GCC_ala__L_c + 15.0 generic_tRNA_GCG_ala__L_c + 8.0 generic_tRNA_GCU_ala__L_c + 9.0 generic_tRNA_GGA_gly_c + 9.0 generic_tRNA_GGC_gly_c + 3.0 generic_tRNA_GGG_gly_c + 3.0 generic_tRNA_GGU_gly_c + 4.0 generic_tRNA_GUA_val__L_c + 11.0 generic_tRNA_GUC_val__L_c + 7.0 generic_tRNA_GUG_val__L_c + 6.0 generic_tRNA_GUU_val__L_c + generic_tRNA_START_met__L_c + 7.0 generic_tRNA_UAC_tyr__L_c + 6.0 generic_tRNA_UAU_tyr__L_c + 5.0 generic_tRNA_UCA_ser__L_c + 2.0 generic_tRNA_UCC_ser__L_c + 4.0 generic_tRNA_UCU_ser__L_c + generic_tRNA_UGG_trp__L_c + 3.0 generic_tRNA_UGU_cys__L_c + 5.0 generic_tRNA_UUA_leu__L_c + 5.0 generic_tRNA_UUC_phe__L_c + 2.0 generic_tRNA_UUG_leu__L_c + 7.0 generic_tRNA_UUU_phe__L_c + 6 gln__L_c + 27 glu__L_c + 24 gly_c + 654.0 gtp_c + 6 his__L_c + 24 ile__L_c + 22 leu__L_c + 19 lys__L_c + 15 met__L_c + 12 phe__L_c + 18 pro__L_c + 15 ser__L_c + 10 thr__L_c + trp__L_c + 13 tyr__L_c + 28 val__L_c --&gt; -0.00139316239316239*sigma BSU01120-MONOMER + -4.27350427350427e-6*sigma BSU01390-MONOMER + -4.27350427350427e-6*sigma BSU15720-MONOMER + -4.27350427350427e-6*sigma BSU15730-MONOMER + -0.00139316239316239*sigma BSU16500-MONOMER + -4.27350427350427e-6*sigma BSU16520-MONOMER + -8.54700854700855e-6*sigma BSU16630-MONOMER + -4.27350427350427e-6*sigma BSU28870-MONOMER + -4.27350427350427e-6*sigma BSU35290-MONOMER + -0.000498399634202103*sigma - 0.000195123456790123 - 0.00598079561042524*(sigma + 0.3915)/sigma RNA_BSU24040 + -2.55589556001079e-8*sigma - 1.00063311174422e-8 RNA_degradosome + 1.469780521262*(sigma + 0.3915)/sigma adp_c + 326.0 + 1.35764060356653*(sigma + 0.3915)/sigma amp_c + -326.0 - 1.469780521262*(sigma + 0.3915)/sigma atp_c + 1.57294924554184*(sigma + 0.3915)/sigma cmp_c + for_c + 654.0 gdp_c + -4.27350427350427e-6*sigma generic_RF + -0.00139316239316239*sigma generic_Tuf + 1.279890260631*(sigma + 0.3915)/sigma gmp_c + -655.0 - 1.469780521262*(sigma + 0.3915)/sigma h2o_c + 980.0 + 1.469780521262*(sigma + 0.3915)/sigma h_c + -1.8755836354434*(sigma + 0.3915)/sigma mRNA_biomass + 654.0 + 1.469780521262*(sigma + 0.3915)/sigma pi_c + 326.0 ppi_c + protein_BSU24040 + 35.842841899999996 protein_biomass + -0.0046880752466162*sigma - 0.00183538145905024 ribosome + thf_c + 1.67462277091907*(sigma + 0.3915)/sigma ump_c</td>\n",
       "    </tr>\n",
       "  </tbody>\n",
       "</table>\n",
       "</div>"
      ],
      "text/plain": [
       "                     lb    ub rxn_flux met_flux  \\\n",
       "formation_CPLX000-60  0  1000        0       -0   \n",
       "formation_CPLX000-58  0  1000        0       -0   \n",
       "formation_CPLX000-59  0  1000        0       -0   \n",
       "translation_BSU24040  0  1000        0        0   \n",
       "\n",
       "                                                                                                                                                                                                                                                                                                                                                                                                                                                                                                                                                                                                                                                                                                                                                                                                                                                                                                                                                                                                                                                                                                                                                                                                                                                                                                                                                                                                                                                                                                                                                                                                                                                                                                                                                                                                                                                                                                                                                                                                                                                                                                                                                                                                                                                                                                                                                                                                                                                                                                                                                                                                                                                                                                                                                                                                                                                                                                                                                                                                                                                                                                                                                                                                                                                                                                                                                                                                                                                                                                                                                                                             reaction  \n",
       "formation_CPLX000-60                                                                                                                                                                                                                                                                                                                                                                                                                                                                                                                                                                                                                                                                                                                                                                                                                                                                                                                                                                                                                                                                                                                                                                                                                                                                                                                                                                                                                                                                                                                                                                                                                                                                                                                                                                                                                                                                                                                                                                                                                                                                                                                                                                                                                                                                                                                                                                                                                                                                                                                                                                                                                                                                                                                                                                                                                                                                                                                                                                                                                                                                                                                                                                                                                                                                                                                                                                                                                                                                                         protein_BSU24030 + protein_BSU24040 + protein_BSU24050 + protein_BSU24060 --> CPLX000-60  \n",
       "formation_CPLX000-58                                                                                                                                                                                                                                                                                                                                                                                                                                                                                                                                                                                                                                                                                                                                                                                                                                                                                                                                                                                                                                                                                                                                                                                                                                                                                                                                                                                                                                                                                                                                                                                                                                                                                                                                                                                                                                                                                                                                                                                                                                                                                                                                                                                                                                                                                                                                                                                                                                                                                                                                                                                                                                                                                                                                                                                                                                                                                                                                                                                                                                                                                                                                                                                                                                                                                                                                                                                                                                                                                         protein_BSU24030 + protein_BSU24040 + protein_BSU24050 + protein_BSU24060 --> CPLX000-58  \n",
       "formation_CPLX000-59                                                                                                                                                                                                                                                                                                                                                                                                                                                                                                                                                                                                                                                                                                                                                                                                                                                                                                                                                                                                                                                                                                                                                                                                                                                                                                                                                                                                                                                                                                                                                                                                                                                                                                                                                                                                                                                                                                                                                                                                                                                                                                                                                                                                                                                                                                                                                                                                                                                                                                                                                                                                                                                                                                                                                                                                                                                                                                                                                                                                                                                                                                                                                                                                                                                                                                                                                                                                                                                                                         protein_BSU24030 + protein_BSU24040 + protein_BSU24050 + protein_BSU24060 --> CPLX000-59  \n",
       "translation_BSU24040  10fthf_c + 40 ala__L_c + 16 arg__L_c + 6 asn__L_c + 22 asp__L_c + 3 cys__L_c + 15.0 generic_tRNA_AAA_lys__L_c + 4.0 generic_tRNA_AAC_asn__L_c + 4.0 generic_tRNA_AAG_lys__L_c + 2.0 generic_tRNA_AAU_asn__L_c + 8.0 generic_tRNA_ACA_thr__L_c + generic_tRNA_ACG_thr__L_c + generic_tRNA_ACU_thr__L_c + 5.0 generic_tRNA_AGA_arg__L_c + 4.0 generic_tRNA_AGC_ser__L_c + generic_tRNA_AGG_arg__L_c + 2.0 generic_tRNA_AUA_ile__L_c + 11.0 generic_tRNA_AUC_ile__L_c + 14.0 generic_tRNA_AUG_met__L_c + 11.0 generic_tRNA_AUU_ile__L_c + 4.0 generic_tRNA_CAA_gln__L_c + 3.0 generic_tRNA_CAC_his__L_c + 2.0 generic_tRNA_CAG_gln__L_c + 3.0 generic_tRNA_CAU_his__L_c + 4.0 generic_tRNA_CCA_pro__L_c + 2.0 generic_tRNA_CCC_pro__L_c + 9.0 generic_tRNA_CCG_pro__L_c + 3.0 generic_tRNA_CCU_pro__L_c + generic_tRNA_CGA_arg__L_c + 4.0 generic_tRNA_CGC_arg__L_c + 2.0 generic_tRNA_CGG_arg__L_c + 3.0 generic_tRNA_CGU_arg__L_c + 3.0 generic_tRNA_CUC_leu__L_c + 7.0 generic_tRNA_CUG_leu__L_c + 5.0 generic_tRNA_CUU_leu__L_c + 22.0 generic_tRNA_GAA_glu__L_c + 9.0 generic_tRNA_GAC_asp__L_c + 5.0 generic_tRNA_GAG_glu__L_c + 13.0 generic_tRNA_GAU_asp__L_c + 11.0 generic_tRNA_GCA_ala__L_c + 6.0 generic_tRNA_GCC_ala__L_c + 15.0 generic_tRNA_GCG_ala__L_c + 8.0 generic_tRNA_GCU_ala__L_c + 9.0 generic_tRNA_GGA_gly_c + 9.0 generic_tRNA_GGC_gly_c + 3.0 generic_tRNA_GGG_gly_c + 3.0 generic_tRNA_GGU_gly_c + 4.0 generic_tRNA_GUA_val__L_c + 11.0 generic_tRNA_GUC_val__L_c + 7.0 generic_tRNA_GUG_val__L_c + 6.0 generic_tRNA_GUU_val__L_c + generic_tRNA_START_met__L_c + 7.0 generic_tRNA_UAC_tyr__L_c + 6.0 generic_tRNA_UAU_tyr__L_c + 5.0 generic_tRNA_UCA_ser__L_c + 2.0 generic_tRNA_UCC_ser__L_c + 4.0 generic_tRNA_UCU_ser__L_c + generic_tRNA_UGG_trp__L_c + 3.0 generic_tRNA_UGU_cys__L_c + 5.0 generic_tRNA_UUA_leu__L_c + 5.0 generic_tRNA_UUC_phe__L_c + 2.0 generic_tRNA_UUG_leu__L_c + 7.0 generic_tRNA_UUU_phe__L_c + 6 gln__L_c + 27 glu__L_c + 24 gly_c + 654.0 gtp_c + 6 his__L_c + 24 ile__L_c + 22 leu__L_c + 19 lys__L_c + 15 met__L_c + 12 phe__L_c + 18 pro__L_c + 15 ser__L_c + 10 thr__L_c + trp__L_c + 13 tyr__L_c + 28 val__L_c --> -0.00139316239316239*sigma BSU01120-MONOMER + -4.27350427350427e-6*sigma BSU01390-MONOMER + -4.27350427350427e-6*sigma BSU15720-MONOMER + -4.27350427350427e-6*sigma BSU15730-MONOMER + -0.00139316239316239*sigma BSU16500-MONOMER + -4.27350427350427e-6*sigma BSU16520-MONOMER + -8.54700854700855e-6*sigma BSU16630-MONOMER + -4.27350427350427e-6*sigma BSU28870-MONOMER + -4.27350427350427e-6*sigma BSU35290-MONOMER + -0.000498399634202103*sigma - 0.000195123456790123 - 0.00598079561042524*(sigma + 0.3915)/sigma RNA_BSU24040 + -2.55589556001079e-8*sigma - 1.00063311174422e-8 RNA_degradosome + 1.469780521262*(sigma + 0.3915)/sigma adp_c + 326.0 + 1.35764060356653*(sigma + 0.3915)/sigma amp_c + -326.0 - 1.469780521262*(sigma + 0.3915)/sigma atp_c + 1.57294924554184*(sigma + 0.3915)/sigma cmp_c + for_c + 654.0 gdp_c + -4.27350427350427e-6*sigma generic_RF + -0.00139316239316239*sigma generic_Tuf + 1.279890260631*(sigma + 0.3915)/sigma gmp_c + -655.0 - 1.469780521262*(sigma + 0.3915)/sigma h2o_c + 980.0 + 1.469780521262*(sigma + 0.3915)/sigma h_c + -1.8755836354434*(sigma + 0.3915)/sigma mRNA_biomass + 654.0 + 1.469780521262*(sigma + 0.3915)/sigma pi_c + 326.0 ppi_c + protein_BSU24040 + 35.842841899999996 protein_biomass + -0.0046880752466162*sigma - 0.00183538145905024 ribosome + thf_c + 1.67462277091907*(sigma + 0.3915)/sigma ump_c  "
      ]
     },
     "execution_count": 343,
     "metadata": {},
     "output_type": "execute_result"
    }
   ],
   "source": [
    "flux_based_reactions(sporeme,'protein_BSU24040')"
   ]
  },
  {
   "cell_type": "code",
   "execution_count": 347,
   "metadata": {},
   "outputs": [
    {
     "data": {
      "text/plain": [
       "biomass_dilution              0.0\n",
       "protein_biomass_to_biomass    0.0\n",
       "mRNA_biomass_to_biomass       0.0\n",
       "tRNA_biomass_to_biomass       0.0\n",
       "rRNA_biomass_to_biomass       0.0\n",
       "                             ... \n",
       "Demand_psetha_BS_s            0.0\n",
       "Demand_t12dg_BS_s             0.0\n",
       "Demand_gtca3_45_BS_s          0.0\n",
       "Demand_lipo1_24_BS_s          0.0\n",
       "Demand_tcam_BS_s              0.0\n",
       "Name: BSU24040_s, Length: 12323, dtype: float64"
      ]
     },
     "execution_count": 347,
     "metadata": {},
     "output_type": "execute_result"
    }
   ],
   "source": [
    "FS_df['BSU24040_s']"
   ]
  },
  {
   "cell_type": "code",
   "execution_count": 205,
   "metadata": {
    "scrolled": true,
    "tags": []
   },
   "outputs": [
    {
     "data": {
      "text/html": [
       "<div>\n",
       "<style scoped>\n",
       "    .dataframe tbody tr th:only-of-type {\n",
       "        vertical-align: middle;\n",
       "    }\n",
       "\n",
       "    .dataframe tbody tr th {\n",
       "        vertical-align: top;\n",
       "    }\n",
       "\n",
       "    .dataframe thead th {\n",
       "        text-align: right;\n",
       "    }\n",
       "</style>\n",
       "<table border=\"1\" class=\"dataframe\">\n",
       "  <thead>\n",
       "    <tr style=\"text-align: right;\">\n",
       "      <th></th>\n",
       "      <th>lb</th>\n",
       "      <th>ub</th>\n",
       "      <th>rxn_flux</th>\n",
       "      <th>met_flux</th>\n",
       "      <th>reaction</th>\n",
       "    </tr>\n",
       "  </thead>\n",
       "  <tbody>\n",
       "    <tr>\n",
       "      <th>RNDR3_FWD_CPLX8J2-9_s</th>\n",
       "      <td>0</td>\n",
       "      <td>999999</td>\n",
       "      <td>0.0029519</td>\n",
       "      <td>-0.0029519</td>\n",
       "      <td>cdp_s --&gt; BSU28500-MONOMER_mod_Oxidized_s + -4.27350427350427e-6*sigma - 1.0 BSU28500-MONOMER_s + -4.27350427350427e-6*sigma CPLX8J2-9_s + dcdp_s + h2o_s</td>\n",
       "    </tr>\n",
       "    <tr>\n",
       "      <th>NDPK3_REV_BSU22730-MONOMER_mod_mn2_s</th>\n",
       "      <td>0</td>\n",
       "      <td>999999</td>\n",
       "      <td>0.0029519</td>\n",
       "      <td>0.0029519</td>\n",
       "      <td>adp_s + ctp_s --&gt; -4.27350427350427e-6*sigma BSU22730-MONOMER_mod_mn2_s + atp_s + cdp_s</td>\n",
       "    </tr>\n",
       "    <tr>\n",
       "      <th>PPNCL_FWD_BSU15700-MONOMER_s</th>\n",
       "      <td>0</td>\n",
       "      <td>999999</td>\n",
       "      <td>1.17419e-18</td>\n",
       "      <td>1.17419e-18</td>\n",
       "      <td>4ppan_s + ctp_s + cys__L_s --&gt; 4ppcys_s + -3.22695132810028e-6*sigma BSU15700-MONOMER_s + cdp_s + h_s + pi_s</td>\n",
       "    </tr>\n",
       "    <tr>\n",
       "      <th>CYTK1_REV_BSU22890-MONOMER_mod_mg2_s</th>\n",
       "      <td>0</td>\n",
       "      <td>0</td>\n",
       "      <td>0</td>\n",
       "      <td>-0</td>\n",
       "      <td>adp_s + cdp_s --&gt; -4.27350427350427e-6*sigma BSU22890-MONOMER_mod_mg2_s + atp_s + cmp_s</td>\n",
       "    </tr>\n",
       "    <tr>\n",
       "      <th>NDPK3_FWD_BSU22730-MONOMER_mod_mn2_s</th>\n",
       "      <td>0</td>\n",
       "      <td>999999</td>\n",
       "      <td>0</td>\n",
       "      <td>-0</td>\n",
       "      <td>atp_s + cdp_s --&gt; -4.27350427350427e-6*sigma BSU22730-MONOMER_mod_mn2_s + adp_s + ctp_s</td>\n",
       "    </tr>\n",
       "    <tr>\n",
       "      <th>BIOMASS_BS_10_FWD_CPLX_dummy_s</th>\n",
       "      <td>0</td>\n",
       "      <td>0</td>\n",
       "      <td>0</td>\n",
       "      <td>-0</td>\n",
       "      <td>0.000367 10fthf_s + 0.266902 ala__L_s + 0.00467 amp_s + 0.193021 arg__L_s + 0.147987 asn__L_s + 0.148014 asp__L_s + 105.053483 atp_s + 0.003205 ca2_s + 5e-06 cdlp_BS_s + 0.000251 cdp_s + 0.001042 cmp_s + 0.038902 ctp_s + 0.05699 cys__L_s + 0.00011 d12dg_BS_s + 0.022982 datp_s + 0.01738 dctp_s + 0.017398 dgtp_s + 0.022899 dttp_s + 0.00345 fe3_s + 0.00018 gdp_s + 0.260335 gln__L_s + 0.260378 glu__L_s + 0.408288 gly_s + 0.000503 gmp_s + 0.003624 gtca1_45_BS_s + 0.002347 gtca2_45_BS_s + 0.001819 gtca3_45_BS_s + 0.062667 gtp_s + 105.0 h2o_s + 0.081739 his__L_s + 0.269905 ile__L_s + 0.706312 k_s + 0.346445 leu__L_s + 7e-06 lipo1_24_BS_s + 6e-06 lipo2_24_BS_s + 1.8e-05 lipo3_24_BS_s + 1.5e-05 lipo4_24_BS_s + 0.323093 lys__L_s + 2.2e-05 lysylpgly_BS_s + 8.6e-05 m12dg_BS_s + 0.113326 met__L_s + 0.101714 mg2_s + 0.000266 mql7_s + 0.016164 nad_s + 0.000934 nadp_s + 0.000216 nadph_s + 0.101817 peptido_BS_s + 0.000176 pgly_BS_s + 0.175939 phe__L_s + 0.000918 ppi_s + 0.160642 pro__L_s + 0.00056 psetha_BS_s + 0.216213 ser__L_s + 6.6e-05 t12dg_BS_s + 0.003112 tcam_BS_s + 0.186317 thr__L_s + 0.054336 trp__L_s + 0.110824 tyr__L_s + 0.041501 utp_s + 0.306734 val__L_s --&gt; -4.27350427350427e-6*sigma CPLX_dummy_s + 104.997414 adp_s + 105.0 h_s + 104.985613 pi_s</td>\n",
       "    </tr>\n",
       "    <tr>\n",
       "      <th>CYTK1_FWD_BSU22890-MONOMER_mod_mg2_s</th>\n",
       "      <td>0</td>\n",
       "      <td>0</td>\n",
       "      <td>0</td>\n",
       "      <td>0</td>\n",
       "      <td>atp_s + cmp_s --&gt; -4.27350427350427e-6*sigma BSU22890-MONOMER_mod_mg2_s + adp_s + cdp_s</td>\n",
       "    </tr>\n",
       "  </tbody>\n",
       "</table>\n",
       "</div>"
      ],
      "text/plain": [
       "                                     lb      ub     rxn_flux     met_flux  \\\n",
       "RNDR3_FWD_CPLX8J2-9_s                 0  999999    0.0029519   -0.0029519   \n",
       "NDPK3_REV_BSU22730-MONOMER_mod_mn2_s  0  999999    0.0029519    0.0029519   \n",
       "PPNCL_FWD_BSU15700-MONOMER_s          0  999999  1.17419e-18  1.17419e-18   \n",
       "CYTK1_REV_BSU22890-MONOMER_mod_mg2_s  0       0            0           -0   \n",
       "NDPK3_FWD_BSU22730-MONOMER_mod_mn2_s  0  999999            0           -0   \n",
       "BIOMASS_BS_10_FWD_CPLX_dummy_s        0       0            0           -0   \n",
       "CYTK1_FWD_BSU22890-MONOMER_mod_mg2_s  0       0            0            0   \n",
       "\n",
       "                                                                                                                                                                                                                                                                                                                                                                                                                                                                                                                                                                                                                                                                                                                                                                                                                                                                                                                                                                                                                                                                                                                                                                                                                                                                                                                                         reaction  \n",
       "RNDR3_FWD_CPLX8J2-9_s                                                                                                                                                                                                                                                                                                                                                                                                                                                                                                                                                                                                                                                                                                                                                                                                                                                                                                                                                                                                                                                                                                                                                                   cdp_s --> BSU28500-MONOMER_mod_Oxidized_s + -4.27350427350427e-6*sigma - 1.0 BSU28500-MONOMER_s + -4.27350427350427e-6*sigma CPLX8J2-9_s + dcdp_s + h2o_s  \n",
       "NDPK3_REV_BSU22730-MONOMER_mod_mn2_s                                                                                                                                                                                                                                                                                                                                                                                                                                                                                                                                                                                                                                                                                                                                                                                                                                                                                                                                                                                                                                                                                                                                                                                                                      adp_s + ctp_s --> -4.27350427350427e-6*sigma BSU22730-MONOMER_mod_mn2_s + atp_s + cdp_s  \n",
       "PPNCL_FWD_BSU15700-MONOMER_s                                                                                                                                                                                                                                                                                                                                                                                                                                                                                                                                                                                                                                                                                                                                                                                                                                                                                                                                                                                                                                                                                                                                                                                                         4ppan_s + ctp_s + cys__L_s --> 4ppcys_s + -3.22695132810028e-6*sigma BSU15700-MONOMER_s + cdp_s + h_s + pi_s  \n",
       "CYTK1_REV_BSU22890-MONOMER_mod_mg2_s                                                                                                                                                                                                                                                                                                                                                                                                                                                                                                                                                                                                                                                                                                                                                                                                                                                                                                                                                                                                                                                                                                                                                                                                                      adp_s + cdp_s --> -4.27350427350427e-6*sigma BSU22890-MONOMER_mod_mg2_s + atp_s + cmp_s  \n",
       "NDPK3_FWD_BSU22730-MONOMER_mod_mn2_s                                                                                                                                                                                                                                                                                                                                                                                                                                                                                                                                                                                                                                                                                                                                                                                                                                                                                                                                                                                                                                                                                                                                                                                                                      atp_s + cdp_s --> -4.27350427350427e-6*sigma BSU22730-MONOMER_mod_mn2_s + adp_s + ctp_s  \n",
       "BIOMASS_BS_10_FWD_CPLX_dummy_s        0.000367 10fthf_s + 0.266902 ala__L_s + 0.00467 amp_s + 0.193021 arg__L_s + 0.147987 asn__L_s + 0.148014 asp__L_s + 105.053483 atp_s + 0.003205 ca2_s + 5e-06 cdlp_BS_s + 0.000251 cdp_s + 0.001042 cmp_s + 0.038902 ctp_s + 0.05699 cys__L_s + 0.00011 d12dg_BS_s + 0.022982 datp_s + 0.01738 dctp_s + 0.017398 dgtp_s + 0.022899 dttp_s + 0.00345 fe3_s + 0.00018 gdp_s + 0.260335 gln__L_s + 0.260378 glu__L_s + 0.408288 gly_s + 0.000503 gmp_s + 0.003624 gtca1_45_BS_s + 0.002347 gtca2_45_BS_s + 0.001819 gtca3_45_BS_s + 0.062667 gtp_s + 105.0 h2o_s + 0.081739 his__L_s + 0.269905 ile__L_s + 0.706312 k_s + 0.346445 leu__L_s + 7e-06 lipo1_24_BS_s + 6e-06 lipo2_24_BS_s + 1.8e-05 lipo3_24_BS_s + 1.5e-05 lipo4_24_BS_s + 0.323093 lys__L_s + 2.2e-05 lysylpgly_BS_s + 8.6e-05 m12dg_BS_s + 0.113326 met__L_s + 0.101714 mg2_s + 0.000266 mql7_s + 0.016164 nad_s + 0.000934 nadp_s + 0.000216 nadph_s + 0.101817 peptido_BS_s + 0.000176 pgly_BS_s + 0.175939 phe__L_s + 0.000918 ppi_s + 0.160642 pro__L_s + 0.00056 psetha_BS_s + 0.216213 ser__L_s + 6.6e-05 t12dg_BS_s + 0.003112 tcam_BS_s + 0.186317 thr__L_s + 0.054336 trp__L_s + 0.110824 tyr__L_s + 0.041501 utp_s + 0.306734 val__L_s --> -4.27350427350427e-6*sigma CPLX_dummy_s + 104.997414 adp_s + 105.0 h_s + 104.985613 pi_s  \n",
       "CYTK1_FWD_BSU22890-MONOMER_mod_mg2_s                                                                                                                                                                                                                                                                                                                                                                                                                                                                                                                                                                                                                                                                                                                                                                                                                                                                                                                                                                                                                                                                                                                                                                                                                      atp_s + cmp_s --> -4.27350427350427e-6*sigma BSU22890-MONOMER_mod_mg2_s + adp_s + cdp_s  "
      ]
     },
     "execution_count": 205,
     "metadata": {},
     "output_type": "execute_result"
    }
   ],
   "source": [
    "flux_based_reactions(sporeme,'cdp_s',flux_dict=FS_df['BSU22890_s'].to_dict())"
   ]
  },
  {
   "cell_type": "code",
   "execution_count": 206,
   "metadata": {
    "scrolled": true,
    "tags": []
   },
   "outputs": [
    {
     "data": {
      "text/html": [
       "<div>\n",
       "<style scoped>\n",
       "    .dataframe tbody tr th:only-of-type {\n",
       "        vertical-align: middle;\n",
       "    }\n",
       "\n",
       "    .dataframe tbody tr th {\n",
       "        vertical-align: top;\n",
       "    }\n",
       "\n",
       "    .dataframe thead th {\n",
       "        text-align: right;\n",
       "    }\n",
       "</style>\n",
       "<table border=\"1\" class=\"dataframe\">\n",
       "  <thead>\n",
       "    <tr style=\"text-align: right;\">\n",
       "      <th></th>\n",
       "      <th>lb</th>\n",
       "      <th>ub</th>\n",
       "      <th>rxn_flux</th>\n",
       "      <th>met_flux</th>\n",
       "      <th>reaction</th>\n",
       "    </tr>\n",
       "  </thead>\n",
       "  <tbody>\n",
       "    <tr>\n",
       "      <th>CTPS1_FWD_BSU37150-MONOMER_mod_mg2_s</th>\n",
       "      <td>0</td>\n",
       "      <td>0</td>\n",
       "      <td>0.048428</td>\n",
       "      <td>0.048428</td>\n",
       "      <td>atp_s + nh4_s + utp_s --&gt; -4.27350427350427e-6*sigma BSU37150-MONOMER_mod_mg2_s + adp_s + ctp_s + 2.0 h_s + pi_s</td>\n",
       "    </tr>\n",
       "    <tr>\n",
       "      <th>G3PCT_FWD_BSU35740-MONOMER_s</th>\n",
       "      <td>0</td>\n",
       "      <td>999999</td>\n",
       "      <td>0.0318192</td>\n",
       "      <td>-0.0318192</td>\n",
       "      <td>ctp_s + glyc3p_s + h_s --&gt; -4.27350427350427e-6*sigma BSU35740-MONOMER_s + cdpglyc_s + ppi_s</td>\n",
       "    </tr>\n",
       "    <tr>\n",
       "      <th>PHCYT_BS_FWD_BSU16540-MONOMER_mod_mg2_mod_k_s</th>\n",
       "      <td>0</td>\n",
       "      <td>999999</td>\n",
       "      <td>0.0069811</td>\n",
       "      <td>-0.0069811</td>\n",
       "      <td>0.01 12dag3p_BS_s + ctp_s + h_s --&gt; -1.54262689436083e-5*sigma BSU16540-MONOMER_mod_mg2_mod_k_s + 0.01 cdpdag_BS_s + ppi_s</td>\n",
       "    </tr>\n",
       "    <tr>\n",
       "      <th>NDPK3_REV_BSU22730-MONOMER_mod_mn2_s</th>\n",
       "      <td>0</td>\n",
       "      <td>999999</td>\n",
       "      <td>0.0029519</td>\n",
       "      <td>-0.0029519</td>\n",
       "      <td>adp_s + ctp_s --&gt; -4.27350427350427e-6*sigma BSU22730-MONOMER_mod_mn2_s + atp_s + cdp_s</td>\n",
       "    </tr>\n",
       "    <tr>\n",
       "      <th>transcription_TU_BSU38240_s</th>\n",
       "      <td>0</td>\n",
       "      <td>1000</td>\n",
       "      <td>4.22742e-06</td>\n",
       "      <td>-0.00175861</td>\n",
       "      <td>449 atp_s + 416 ctp_s + 360 gtp_s + 317 utp_s --&gt; -4.27350427350427e-6*sigma BSU00550-MONOMER_s + -4.27350427350427e-6*sigma BSU01010-MONOMER_s + -4.27350427350427e-6*sigma BSU16600-MONOMER_s + -4.27350427350427e-6*sigma BSU27320-MONOMER_s + -4.27350427350427e-6*sigma CPLX8J2-30_s + RNA_BSU38240_s + 494.543165362 mRNA_biomass_s + 1542 ppi_s</td>\n",
       "    </tr>\n",
       "    <tr>\n",
       "      <th>...</th>\n",
       "      <td>...</td>\n",
       "      <td>...</td>\n",
       "      <td>...</td>\n",
       "      <td>...</td>\n",
       "      <td>...</td>\n",
       "    </tr>\n",
       "    <tr>\n",
       "      <th>transcription_TU8J2_1485_from_BSU25200-MONOMER_s</th>\n",
       "      <td>0</td>\n",
       "      <td>1000</td>\n",
       "      <td>0</td>\n",
       "      <td>-0</td>\n",
       "      <td>310.0 atp_s + 206 ctp_s + 196 gtp_s + 3.0 h2o_s + 215 utp_s --&gt; -4.27350427350427e-6*sigma BSU00550-MONOMER_s + -4.27350427350427e-6*sigma BSU01010-MONOMER_s + -4.27350427350427e-6*sigma BSU16600-MONOMER_s + -4.27350427350427e-6*sigma BSU27320-MONOMER_s + -4.27350427350427e-6*sigma BSU37080-MONOMER_s + -4.27350427350427e-6*sigma CPLX8J2-30_s + -0.00441567943717978*sigma - 0.00172873849965588 CPLX8J2-52_s + RNA_BSU25420_s + 3.0 adp_s + 3.0 h_s + 296.48816002399997 mRNA_biomass_s + 3.0 pi_s + 924 ppi_s</td>\n",
       "    </tr>\n",
       "    <tr>\n",
       "      <th>transcription_TU8J2_321_from_BSU25200-MONOMER_s</th>\n",
       "      <td>0</td>\n",
       "      <td>1000</td>\n",
       "      <td>0</td>\n",
       "      <td>-0</td>\n",
       "      <td>1189.0 atp_s + 887 ctp_s + 833 gtp_s + 3.0 h2o_s + 1041 utp_s --&gt; -4.27350427350427e-6*sigma BSU00550-MONOMER_s + -4.27350427350427e-6*sigma BSU01010-MONOMER_s + -4.27350427350427e-6*sigma BSU16600-MONOMER_s + -4.27350427350427e-6*sigma BSU27320-MONOMER_s + -4.27350427350427e-6*sigma BSU37080-MONOMER_s + -4.27350427350427e-6*sigma CPLX8J2-30_s + -0.0188622150850093*sigma - 0.00738455720578114 CPLX8J2-52_s + RNA_BSU38140_s + RNA_BSU38150_s + RNA_BSU38160_s + RNA_BSU38170_s + 3.0 adp_s + 3.0 h_s + 1250.5552831460002 mRNA_biomass_s + 3.0 pi_s + 3947 ppi_s</td>\n",
       "    </tr>\n",
       "    <tr>\n",
       "      <th>transcription_TU8J2_1532_from_BSU25200-MONOMER_s</th>\n",
       "      <td>0</td>\n",
       "      <td>1000</td>\n",
       "      <td>0</td>\n",
       "      <td>-0</td>\n",
       "      <td>262.0 atp_s + 256 ctp_s + 257 gtp_s + 3.0 h2o_s + 296 utp_s --&gt; -4.27350427350427e-6*sigma BSU00550-MONOMER_s + -4.27350427350427e-6*sigma BSU01010-MONOMER_s + -4.27350427350427e-6*sigma BSU16600-MONOMER_s + -4.27350427350427e-6*sigma BSU27320-MONOMER_s + -4.27350427350427e-6*sigma BSU37080-MONOMER_s + -4.27350427350427e-6*sigma CPLX8J2-30_s + -0.00510383727154546*sigma - 0.00199815229181005 CPLX8J2-52_s + RNA_BSU32200_s + 3.0 adp_s + 3.0 h_s + 341.657165428 mRNA_biomass_s + 3.0 pi_s + 1068 ppi_s</td>\n",
       "    </tr>\n",
       "    <tr>\n",
       "      <th>transcription_TU_BSU15020_s</th>\n",
       "      <td>0</td>\n",
       "      <td>1000</td>\n",
       "      <td>0</td>\n",
       "      <td>-0</td>\n",
       "      <td>129 atp_s + 122 ctp_s + 82 gtp_s + 153 utp_s --&gt; -4.27350427350427e-6*sigma BSU00550-MONOMER_s + -4.27350427350427e-6*sigma BSU01010-MONOMER_s + -4.27350427350427e-6*sigma BSU16600-MONOMER_s + -4.27350427350427e-6*sigma BSU27320-MONOMER_s + -4.27350427350427e-6*sigma CPLX8J2-30_s + RNA_BSU15020_s + 154.36005506600003 mRNA_biomass_s + 486 ppi_s</td>\n",
       "    </tr>\n",
       "    <tr>\n",
       "      <th>transcription_TU8J2_10_from_BSU25200-MONOMER_s</th>\n",
       "      <td>0</td>\n",
       "      <td>1000</td>\n",
       "      <td>0</td>\n",
       "      <td>-0</td>\n",
       "      <td>311.0 atp_s + 192 ctp_s + 201 gtp_s + 3.0 h2o_s + 220 utp_s --&gt; -4.27350427350427e-6*sigma BSU00550-MONOMER_s + -4.27350427350427e-6*sigma BSU01010-MONOMER_s + -4.27350427350427e-6*sigma BSU16600-MONOMER_s + -4.27350427350427e-6*sigma BSU27320-MONOMER_s + -4.27350427350427e-6*sigma BSU37080-MONOMER_s + -4.27350427350427e-6*sigma CPLX8J2-30_s + -0.0044013428156305*sigma - 0.00172312571231934 CPLX8J2-52_s + RNA_BSU14870_s + 3.0 adp_s + 3.0 h_s + 295.80470912100003 mRNA_biomass_s + 3.0 pi_s + 921 ppi_s</td>\n",
       "    </tr>\n",
       "  </tbody>\n",
       "</table>\n",
       "<p>752 rows × 5 columns</p>\n",
       "</div>"
      ],
      "text/plain": [
       "                                                 lb      ub     rxn_flux  \\\n",
       "CTPS1_FWD_BSU37150-MONOMER_mod_mg2_s              0       0     0.048428   \n",
       "G3PCT_FWD_BSU35740-MONOMER_s                      0  999999    0.0318192   \n",
       "PHCYT_BS_FWD_BSU16540-MONOMER_mod_mg2_mod_k_s     0  999999    0.0069811   \n",
       "NDPK3_REV_BSU22730-MONOMER_mod_mn2_s              0  999999    0.0029519   \n",
       "transcription_TU_BSU38240_s                       0    1000  4.22742e-06   \n",
       "...                                              ..     ...          ...   \n",
       "transcription_TU8J2_1485_from_BSU25200-MONOMER_s  0    1000            0   \n",
       "transcription_TU8J2_321_from_BSU25200-MONOMER_s   0    1000            0   \n",
       "transcription_TU8J2_1532_from_BSU25200-MONOMER_s  0    1000            0   \n",
       "transcription_TU_BSU15020_s                       0    1000            0   \n",
       "transcription_TU8J2_10_from_BSU25200-MONOMER_s    0    1000            0   \n",
       "\n",
       "                                                    met_flux  \\\n",
       "CTPS1_FWD_BSU37150-MONOMER_mod_mg2_s                0.048428   \n",
       "G3PCT_FWD_BSU35740-MONOMER_s                      -0.0318192   \n",
       "PHCYT_BS_FWD_BSU16540-MONOMER_mod_mg2_mod_k_s     -0.0069811   \n",
       "NDPK3_REV_BSU22730-MONOMER_mod_mn2_s              -0.0029519   \n",
       "transcription_TU_BSU38240_s                      -0.00175861   \n",
       "...                                                      ...   \n",
       "transcription_TU8J2_1485_from_BSU25200-MONOMER_s          -0   \n",
       "transcription_TU8J2_321_from_BSU25200-MONOMER_s           -0   \n",
       "transcription_TU8J2_1532_from_BSU25200-MONOMER_s          -0   \n",
       "transcription_TU_BSU15020_s                               -0   \n",
       "transcription_TU8J2_10_from_BSU25200-MONOMER_s            -0   \n",
       "\n",
       "                                                                                                                                                                                                                                                                                                                                                                                                                                                                                                                                                                                                                        reaction  \n",
       "CTPS1_FWD_BSU37150-MONOMER_mod_mg2_s                                                                                                                                                                                                                                                                                                                                                                                                                                                                            atp_s + nh4_s + utp_s --> -4.27350427350427e-6*sigma BSU37150-MONOMER_mod_mg2_s + adp_s + ctp_s + 2.0 h_s + pi_s  \n",
       "G3PCT_FWD_BSU35740-MONOMER_s                                                                                                                                                                                                                                                                                                                                                                                                                                                                                                        ctp_s + glyc3p_s + h_s --> -4.27350427350427e-6*sigma BSU35740-MONOMER_s + cdpglyc_s + ppi_s  \n",
       "PHCYT_BS_FWD_BSU16540-MONOMER_mod_mg2_mod_k_s                                                                                                                                                                                                                                                                                                                                                                                                                                                         0.01 12dag3p_BS_s + ctp_s + h_s --> -1.54262689436083e-5*sigma BSU16540-MONOMER_mod_mg2_mod_k_s + 0.01 cdpdag_BS_s + ppi_s  \n",
       "NDPK3_REV_BSU22730-MONOMER_mod_mn2_s                                                                                                                                                                                                                                                                                                                                                                                                                                                                                                     adp_s + ctp_s --> -4.27350427350427e-6*sigma BSU22730-MONOMER_mod_mn2_s + atp_s + cdp_s  \n",
       "transcription_TU_BSU38240_s                                                                                                                                                                                                                                               449 atp_s + 416 ctp_s + 360 gtp_s + 317 utp_s --> -4.27350427350427e-6*sigma BSU00550-MONOMER_s + -4.27350427350427e-6*sigma BSU01010-MONOMER_s + -4.27350427350427e-6*sigma BSU16600-MONOMER_s + -4.27350427350427e-6*sigma BSU27320-MONOMER_s + -4.27350427350427e-6*sigma CPLX8J2-30_s + RNA_BSU38240_s + 494.543165362 mRNA_biomass_s + 1542 ppi_s  \n",
       "...                                                                                                                                                                                                                                                                                                                                                                                                                                                                                                                                                                                                                          ...  \n",
       "transcription_TU8J2_1485_from_BSU25200-MONOMER_s                                                       310.0 atp_s + 206 ctp_s + 196 gtp_s + 3.0 h2o_s + 215 utp_s --> -4.27350427350427e-6*sigma BSU00550-MONOMER_s + -4.27350427350427e-6*sigma BSU01010-MONOMER_s + -4.27350427350427e-6*sigma BSU16600-MONOMER_s + -4.27350427350427e-6*sigma BSU27320-MONOMER_s + -4.27350427350427e-6*sigma BSU37080-MONOMER_s + -4.27350427350427e-6*sigma CPLX8J2-30_s + -0.00441567943717978*sigma - 0.00172873849965588 CPLX8J2-52_s + RNA_BSU25420_s + 3.0 adp_s + 3.0 h_s + 296.48816002399997 mRNA_biomass_s + 3.0 pi_s + 924 ppi_s  \n",
       "transcription_TU8J2_321_from_BSU25200-MONOMER_s   1189.0 atp_s + 887 ctp_s + 833 gtp_s + 3.0 h2o_s + 1041 utp_s --> -4.27350427350427e-6*sigma BSU00550-MONOMER_s + -4.27350427350427e-6*sigma BSU01010-MONOMER_s + -4.27350427350427e-6*sigma BSU16600-MONOMER_s + -4.27350427350427e-6*sigma BSU27320-MONOMER_s + -4.27350427350427e-6*sigma BSU37080-MONOMER_s + -4.27350427350427e-6*sigma CPLX8J2-30_s + -0.0188622150850093*sigma - 0.00738455720578114 CPLX8J2-52_s + RNA_BSU38140_s + RNA_BSU38150_s + RNA_BSU38160_s + RNA_BSU38170_s + 3.0 adp_s + 3.0 h_s + 1250.5552831460002 mRNA_biomass_s + 3.0 pi_s + 3947 ppi_s  \n",
       "transcription_TU8J2_1532_from_BSU25200-MONOMER_s                                                           262.0 atp_s + 256 ctp_s + 257 gtp_s + 3.0 h2o_s + 296 utp_s --> -4.27350427350427e-6*sigma BSU00550-MONOMER_s + -4.27350427350427e-6*sigma BSU01010-MONOMER_s + -4.27350427350427e-6*sigma BSU16600-MONOMER_s + -4.27350427350427e-6*sigma BSU27320-MONOMER_s + -4.27350427350427e-6*sigma BSU37080-MONOMER_s + -4.27350427350427e-6*sigma CPLX8J2-30_s + -0.00510383727154546*sigma - 0.00199815229181005 CPLX8J2-52_s + RNA_BSU32200_s + 3.0 adp_s + 3.0 h_s + 341.657165428 mRNA_biomass_s + 3.0 pi_s + 1068 ppi_s  \n",
       "transcription_TU_BSU15020_s                                                                                                                                                                                                                                            129 atp_s + 122 ctp_s + 82 gtp_s + 153 utp_s --> -4.27350427350427e-6*sigma BSU00550-MONOMER_s + -4.27350427350427e-6*sigma BSU01010-MONOMER_s + -4.27350427350427e-6*sigma BSU16600-MONOMER_s + -4.27350427350427e-6*sigma BSU27320-MONOMER_s + -4.27350427350427e-6*sigma CPLX8J2-30_s + RNA_BSU15020_s + 154.36005506600003 mRNA_biomass_s + 486 ppi_s  \n",
       "transcription_TU8J2_10_from_BSU25200-MONOMER_s                                                          311.0 atp_s + 192 ctp_s + 201 gtp_s + 3.0 h2o_s + 220 utp_s --> -4.27350427350427e-6*sigma BSU00550-MONOMER_s + -4.27350427350427e-6*sigma BSU01010-MONOMER_s + -4.27350427350427e-6*sigma BSU16600-MONOMER_s + -4.27350427350427e-6*sigma BSU27320-MONOMER_s + -4.27350427350427e-6*sigma BSU37080-MONOMER_s + -4.27350427350427e-6*sigma CPLX8J2-30_s + -0.0044013428156305*sigma - 0.00172312571231934 CPLX8J2-52_s + RNA_BSU14870_s + 3.0 adp_s + 3.0 h_s + 295.80470912100003 mRNA_biomass_s + 3.0 pi_s + 921 ppi_s  \n",
       "\n",
       "[752 rows x 5 columns]"
      ]
     },
     "execution_count": 206,
     "metadata": {},
     "output_type": "execute_result"
    }
   ],
   "source": [
    "flux_based_reactions(sporeme,'ctp_s',flux_dict=FS_df['BSU22890_s'].to_dict())"
   ]
  }
 ],
 "metadata": {
  "kernelspec": {
   "display_name": "me_modeling",
   "language": "python",
   "name": "me_modeling"
  },
  "language_info": {
   "codemirror_mode": {
    "name": "ipython",
    "version": 3
   },
   "file_extension": ".py",
   "mimetype": "text/x-python",
   "name": "python",
   "nbconvert_exporter": "python",
   "pygments_lexer": "ipython3",
   "version": "3.6.8"
  }
 },
 "nbformat": 4,
 "nbformat_minor": 4
}
