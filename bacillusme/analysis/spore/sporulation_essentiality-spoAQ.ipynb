{
 "cells": [
  {
   "cell_type": "markdown",
   "metadata": {},
   "source": [
    "# Sporulation"
   ]
  },
  {
   "cell_type": "code",
   "execution_count": 3,
   "metadata": {
    "scrolled": true
   },
   "outputs": [
    {
     "name": "stderr",
     "output_type": "stream",
     "text": [
      "/home/jt/me_modeling/lib/python3.6/site-packages/cobra-0.5.11-py3.6-linux-x86_64.egg/cobra/io/sbml3.py:24: UserWarning: Install lxml for faster SBML I/O\n",
      "  warn(\"Install lxml for faster SBML I/O\")\n",
      "/home/jt/me_modeling/lib/python3.6/site-packages/cobra-0.5.11-py3.6-linux-x86_64.egg/cobra/io/__init__.py:12: UserWarning: cobra.io.sbml requires libsbml\n",
      "  warn(\"cobra.io.sbml requires libsbml\")\n"
     ]
    },
    {
     "name": "stdout",
     "output_type": "stream",
     "text": [
      "/home/jt/me_modeling/lib/python3.6/site-packages/cobra-0.5.11-py3.6-linux-x86_64.egg/cobra/__init__.py\n",
      "/home/jt/UCSD/cobrame/cobrame/__init__.py\n",
      "/home/jt/UCSD/bacillusme-master/bacillusme/__init__.py\n"
     ]
    }
   ],
   "source": [
    "from __future__ import print_function, division, absolute_import\n",
    "\n",
    "import sys\n",
    "\n",
    "import qminospy\n",
    "from qminospy.me2 import ME_NLP\n",
    "\n",
    "# python imports\n",
    "from copy import copy\n",
    "import re\n",
    "from os.path import join, dirname, abspath\n",
    "import sys\n",
    "\n",
    "\n",
    "sys.path.append('/home/UCSD/cobra_utils')\n",
    "from collections import defaultdict\n",
    "import pickle\n",
    "\n",
    "# third party imports\n",
    "import pandas\n",
    "import cobra\n",
    "from tqdm import tqdm\n",
    "import numpy as np\n",
    "import scipy\n",
    "\n",
    "# COBRAme\n",
    "import cobrame\n",
    "from cobrame.util import building, mu, me_model_interface\n",
    "from cobrame.io.json import save_json_me_model, save_reduced_json_me_model\n",
    "\n",
    "# ECOLIme\n",
    "import bacillusme\n",
    "from bacillusme import (transcription, translation, flat_files, generics, formulas, compartments)\n",
    "from cobrame.util.helper_functions import *\n",
    "\n",
    "import copy\n",
    "from scipy import stats\n",
    "import matplotlib.pyplot as plt\n",
    "%load_ext autoreload\n",
    "%autoreload 2\n",
    "print(cobra.__file__)\n",
    "print(cobrame.__file__)\n",
    "print(bacillusme.__file__)\n",
    "ecoli_files = dirname(abspath(bacillusme.__file__))\n",
    "pd.set_option('display.max_colwidth', None)"
   ]
  },
  {
   "cell_type": "code",
   "execution_count": 4,
   "metadata": {
    "scrolled": true
   },
   "outputs": [
    {
     "data": {
      "text/plain": [
       "<Solution 0.12 at 0x7f97799eacf8>"
      ]
     },
     "execution_count": 4,
     "metadata": {},
     "output_type": "execute_result"
    }
   ],
   "source": [
    "eco_directory = join(flat_files.ecoli_files_dir, 'iJO1366.json')\n",
    "ijo_directory = join(flat_files.ecoli_files_dir, 'iYO844.json')\n",
    "uni_directory = join(flat_files.ecoli_files_dir, 'universal_model.json')\n",
    "\n",
    "eco = cobra.io.load_json_model(eco_directory)\n",
    "bsub = cobra.io.load_json_model(ijo_directory)\n",
    "uni = cobra.io.load_json_model(uni_directory)\n",
    "\n",
    "bsub.optimize()"
   ]
  },
  {
   "cell_type": "code",
   "execution_count": 5,
   "metadata": {
    "scrolled": true
   },
   "outputs": [],
   "source": [
    "# with open('../../me_models/solution.pickle', 'rb') as solution:\n",
    "#     me = pickle.load(solution)"
   ]
  },
  {
   "cell_type": "code",
   "execution_count": 6,
   "metadata": {},
   "outputs": [],
   "source": [
    "def add_transport(model,mets):\n",
    "    for i in mets:\n",
    "        rxn = cobrame.MEReaction('{}_transport'.format(i))\n",
    "        model.add_reactions([rxn])\n",
    "        rxn.add_metabolites({\n",
    "            '{}_c'.format(i):-1,\n",
    "            '{}_s'.format(i):1\n",
    "        })\n",
    "        rxn.bounds = (-1000,1000)"
   ]
  },
  {
   "cell_type": "markdown",
   "metadata": {},
   "source": [
    "### Essentiality of FS genes"
   ]
  },
  {
   "cell_type": "code",
   "execution_count": 3,
   "metadata": {
    "scrolled": true
   },
   "outputs": [
    {
     "name": "stderr",
     "output_type": "stream",
     "text": [
      "/home/jt/me_modeling/lib/python3.6/site-packages/cobra-0.5.11-py3.6-linux-x86_64.egg/cobra/io/sbml3.py:24: UserWarning: Install lxml for faster SBML I/O\n",
      "  warn(\"Install lxml for faster SBML I/O\")\n",
      "/home/jt/me_modeling/lib/python3.6/site-packages/cobra-0.5.11-py3.6-linux-x86_64.egg/cobra/io/__init__.py:12: UserWarning: cobra.io.sbml requires libsbml\n",
      "  warn(\"cobra.io.sbml requires libsbml\")\n"
     ]
    }
   ],
   "source": [
    "import pickle\n",
    "with open(\"./sporeme_solution_v4_proteomics_spoAQ.pickle\", \"rb\") as outfile:\n",
    "    sporeme = pickle.load(outfile)"
   ]
  },
  {
   "cell_type": "code",
   "execution_count": 6,
   "metadata": {},
   "outputs": [],
   "source": [
    "add_transport(sporeme,['gtp','ctp','utp'])"
   ]
  },
  {
   "cell_type": "code",
   "execution_count": 7,
   "metadata": {},
   "outputs": [],
   "source": [
    "from bacillusme.analysis import sensitivity as ss"
   ]
  },
  {
   "cell_type": "code",
   "execution_count": 67,
   "metadata": {},
   "outputs": [],
   "source": [
    "genes = ['BSU' + g.id.split('RNA_BSU')[1] for g in sporeme.metabolites.query(re.compile('RNA_BSU.*_s$'))]"
   ]
  },
  {
   "cell_type": "code",
   "execution_count": null,
   "metadata": {
    "scrolled": true,
    "tags": []
   },
   "outputs": [
    {
     "name": "stdout",
     "output_type": "stream",
     "text": [
      "1 0 100\n"
     ]
    },
    {
     "name": "stderr",
     "output_type": "stream",
     "text": [
      "biomass_dilution_s response (10 threads):   0%|          | 0/100 [00:00<?, ?it/s]"
     ]
    }
   ],
   "source": [
    "for i in range(0,int(len(genes)/100)+1):\n",
    "    a,b = (i*100,i*100 + 100)\n",
    "    b = min(b,len(genes))\n",
    "    print(i+1,a,b)\n",
    "    flux_responses = ss.all_flux_responses(sporeme,genes[a:b],NP=10,precision=1e-6, solution=sporeme.solution,\n",
    "                       single_change_function='gene_knockout',growth_key='sigma')\n",
    "    flux_responses.to_csv('essentiality_raw_results_FS_spoAQ_{}.csv'.format(i+1))"
   ]
  },
  {
   "cell_type": "code",
   "execution_count": null,
   "metadata": {},
   "outputs": [],
   "source": [
    "import os"
   ]
  },
  {
   "cell_type": "code",
   "execution_count": 65,
   "metadata": {},
   "outputs": [
    {
     "name": "stdout",
     "output_type": "stream",
     "text": [
      "essentiality_raw_results_FS_spoAQ_6.csv\n",
      "essentiality_raw_results_FS_spoAQ_5.csv\n",
      "essentiality_raw_results_FS_spoAQ_1.csv\n",
      "essentiality_raw_results_FS_spoAQ_3.csv\n",
      "essentiality_raw_results_FS_spoAQ_4.csv\n",
      "essentiality_raw_results_FS_spoAQ_7.csv\n",
      "essentiality_raw_results_FS_spoAQ_9.csv\n",
      "essentiality_raw_results_FS_spoAQ_2.csv\n",
      "essentiality_raw_results_FS_spoAQ_8.csv\n"
     ]
    }
   ],
   "source": [
    "flux_responses = {}\n",
    "f = 'essentiality_raw_results_FS_spoAQ'\n",
    "for i in os.listdir():\n",
    "    if f not in i: continue\n",
    "    if f+'.csv' == i: continue\n",
    "    print(i)\n",
    "    d = pd.read_csv(i,index_col=0).to_dict()\n",
    "    for k,v in d.items():\n",
    "        flux_responses[k] = v\n",
    "flux_responses = pd.DataFrame.from_dict(flux_responses)\n",
    "# flux_responses.to_csv('{}.csv'.format(f))"
   ]
  },
  {
   "cell_type": "markdown",
   "metadata": {},
   "source": [
    "### Essentiality of MC genes"
   ]
  },
  {
   "cell_type": "code",
   "execution_count": null,
   "metadata": {
    "scrolled": true
   },
   "outputs": [],
   "source": [
    "with open(\"./sporeme_solution_v4_proteomics_spoAQ.pickle\", \"rb\") as outfile:\n",
    "    sporeme = pickle.load(outfile)"
   ]
  },
  {
   "cell_type": "code",
   "execution_count": null,
   "metadata": {},
   "outputs": [],
   "source": [
    "from bacillusme.analysis import sensitivity as ss"
   ]
  },
  {
   "cell_type": "code",
   "execution_count": 62,
   "metadata": {},
   "outputs": [],
   "source": [
    "genes = ['BSU' + g.id.split('RNA_BSU')[1] for \\\n",
    "         g in sporeme.metabolites.query(re.compile('RNA_BSU.*[^s]$'))]"
   ]
  },
  {
   "cell_type": "code",
   "execution_count": null,
   "metadata": {
    "scrolled": true,
    "tags": []
   },
   "outputs": [],
   "source": [
    "for i in range(0,int(len(genes)/100)+1):\n",
    "    a,b = (i*100,i*100 + 100)\n",
    "    b = min(b,len(genes))\n",
    "    print(i+1,a,b)\n",
    "    flux_responses = ss.all_flux_responses(sporeme,genes[a:b],NP=10,precision=1e-6, solution=sporeme.solution,\n",
    "                       single_change_function='gene_knockout',growth_key='sigma')\n",
    "    flux_responses.to_csv('essentiality_raw_results_MC_spoAQ_{}.csv'.format(i+1))"
   ]
  },
  {
   "cell_type": "code",
   "execution_count": 55,
   "metadata": {
    "scrolled": true,
    "tags": []
   },
   "outputs": [
    {
     "name": "stdout",
     "output_type": "stream",
     "text": [
      "essentiality_raw_results_MC_spoAQ_3.csv\n",
      "68\n",
      "essentiality_raw_results_MC_spoAQ_6.csv\n",
      "100\n",
      "essentiality_raw_results_MC_spoAQ_8.csv\n",
      "99\n",
      "essentiality_raw_results_MC_spoAQ_2.csv\n",
      "81\n",
      "essentiality_raw_results_MC_spoAQ_1.csv\n",
      "72\n",
      "essentiality_raw_results_MC_spoAQ_11.csv\n",
      "87\n",
      "essentiality_raw_results_MC_spoAQ_10.csv\n",
      "100\n",
      "essentiality_raw_results_MC_spoAQ_5.csv\n",
      "101\n",
      "essentiality_raw_results_MC_spoAQ_4.csv\n",
      "99\n",
      "essentiality_raw_results_MC_spoAQ_7.csv\n",
      "100\n",
      "essentiality_raw_results_MC_spoAQ_9.csv\n",
      "77\n"
     ]
    }
   ],
   "source": [
    "flux_responses = {}\n",
    "f = 'essentiality_raw_results_MC_spoAQ'\n",
    "for i in os.listdir():\n",
    "    if f not in i: continue\n",
    "    if f+'.csv' == i: continue\n",
    "    print(i)\n",
    "    d = pd.read_csv(i,index_col=0).to_dict()\n",
    "    print(len(d))\n",
    "    for k,v in d.items():\n",
    "        flux_responses[k] = v\n",
    "flux_responses = pd.DataFrame.from_dict(flux_responses)\n",
    "# flux_responses.to_csv('{}.csv'.format(f))"
   ]
  },
  {
   "cell_type": "markdown",
   "metadata": {},
   "source": [
    "### Essentiality"
   ]
  },
  {
   "cell_type": "code",
   "execution_count": 7,
   "metadata": {},
   "outputs": [],
   "source": [
    "with open(\"./sporeme_solution_v4_proteomics_spoAQ.pickle\", \"rb\") as outfile:\n",
    "    sporeme = pickle.load(outfile)"
   ]
  },
  {
   "cell_type": "code",
   "execution_count": 8,
   "metadata": {},
   "outputs": [],
   "source": [
    "FS_df = pd.read_csv('essentiality_raw_results_FS_spoAQ.csv',index_col=0)\n",
    "MC_df = pd.read_csv('essentiality_raw_results_MC_spoAQ.csv',index_col=0)\n",
    "VG_df = pd.read_csv('../essentiality/essentiality_raw_me_results.csv',index_col=0)"
   ]
  },
  {
   "cell_type": "code",
   "execution_count": 9,
   "metadata": {},
   "outputs": [
    {
     "data": {
      "text/html": [
       "<div>\n",
       "<style scoped>\n",
       "    .dataframe tbody tr th:only-of-type {\n",
       "        vertical-align: middle;\n",
       "    }\n",
       "\n",
       "    .dataframe tbody tr th {\n",
       "        vertical-align: top;\n",
       "    }\n",
       "\n",
       "    .dataframe thead th {\n",
       "        text-align: right;\n",
       "    }\n",
       "</style>\n",
       "<table border=\"1\" class=\"dataframe\">\n",
       "  <thead>\n",
       "    <tr style=\"text-align: right;\">\n",
       "      <th></th>\n",
       "      <th>flux</th>\n",
       "    </tr>\n",
       "  </thead>\n",
       "  <tbody>\n",
       "    <tr>\n",
       "      <th>translation_BSU00090_s</th>\n",
       "      <td>0.0</td>\n",
       "    </tr>\n",
       "    <tr>\n",
       "      <th>translation_BSU00110_s</th>\n",
       "      <td>0.0</td>\n",
       "    </tr>\n",
       "    <tr>\n",
       "      <th>translation_BSU00120_s</th>\n",
       "      <td>0.0</td>\n",
       "    </tr>\n",
       "    <tr>\n",
       "      <th>translation_BSU00270_s</th>\n",
       "      <td>0.0</td>\n",
       "    </tr>\n",
       "    <tr>\n",
       "      <th>translation_BSU00410_s</th>\n",
       "      <td>0.0</td>\n",
       "    </tr>\n",
       "    <tr>\n",
       "      <th>...</th>\n",
       "      <td>...</td>\n",
       "    </tr>\n",
       "    <tr>\n",
       "      <th>translation_BSU40320_s</th>\n",
       "      <td>0.0</td>\n",
       "    </tr>\n",
       "    <tr>\n",
       "      <th>translation_BSU40340_s</th>\n",
       "      <td>0.0</td>\n",
       "    </tr>\n",
       "    <tr>\n",
       "      <th>translation_BSU40420_s</th>\n",
       "      <td>0.0</td>\n",
       "    </tr>\n",
       "    <tr>\n",
       "      <th>translation_BSU40550_s</th>\n",
       "      <td>0.0</td>\n",
       "    </tr>\n",
       "    <tr>\n",
       "      <th>translation_BSU40850_s</th>\n",
       "      <td>0.0</td>\n",
       "    </tr>\n",
       "  </tbody>\n",
       "</table>\n",
       "<p>478 rows × 1 columns</p>\n",
       "</div>"
      ],
      "text/plain": [
       "                        flux\n",
       "translation_BSU00090_s   0.0\n",
       "translation_BSU00110_s   0.0\n",
       "translation_BSU00120_s   0.0\n",
       "translation_BSU00270_s   0.0\n",
       "translation_BSU00410_s   0.0\n",
       "...                      ...\n",
       "translation_BSU40320_s   0.0\n",
       "translation_BSU40340_s   0.0\n",
       "translation_BSU40420_s   0.0\n",
       "translation_BSU40550_s   0.0\n",
       "translation_BSU40850_s   0.0\n",
       "\n",
       "[478 rows x 1 columns]"
      ]
     },
     "execution_count": 9,
     "metadata": {},
     "output_type": "execute_result"
    }
   ],
   "source": [
    "df = pd.DataFrame.from_dict({'flux':sporeme.solution.x_dict})\n",
    "sdf = df[df.index.str.contains('translation.*_s')]\n",
    "sdf[sdf['flux']<=0.]"
   ]
  },
  {
   "cell_type": "code",
   "execution_count": 10,
   "metadata": {},
   "outputs": [],
   "source": [
    "# df = pd.read_csv('../essentiality/essentiality_raw_me_results_eco.csv',index_col=0)"
   ]
  },
  {
   "cell_type": "code",
   "execution_count": 11,
   "metadata": {},
   "outputs": [],
   "source": [
    "def get_binary_essentiality(df,threshold = 1e-3,obj = 'biomass_dilution'):\n",
    "    d = {}\n",
    "    for g,row in df.T.iterrows():\n",
    "        d[g.split('_s')[0]] = 1 if row[obj] < threshold else 0\n",
    "    return d\n",
    "def get_comparison(l,annotation=[],names=[]):\n",
    "    d = {}\n",
    "    for i in l[0]:\n",
    "        if any(i not in di for di in l):\n",
    "            continue\n",
    "        v = [di[i] for di in l]\n",
    "        if not names:\n",
    "            names = range(len(l))\n",
    "        d[i] = {ni:vi for ni,vi in zip(names,v)}\n",
    "        if isinstance(annotation,pd.DataFrame):\n",
    "            p = '{}-MONOMER'.format(i)\n",
    "            if p in annotation.index:\n",
    "                if i in bsub.genes:\n",
    "                    model_annotation = [r.subsystem for r in bsub.genes.get_by_id(i).reactions]\n",
    "                d[i]['name'] = locus_to_name[i] if i in locus_to_name else ''\n",
    "                d[i]['annotation'] = annotation.loc[p]['name']\n",
    "                d[i]['model_annotation'] = ','.join(model_annotation)\n",
    "    return pd.DataFrame.from_dict(d).T"
   ]
  },
  {
   "cell_type": "code",
   "execution_count": 12,
   "metadata": {},
   "outputs": [],
   "source": [
    "FS_es = get_binary_essentiality(FS_df,obj = 'biomass_dilution_s')\n",
    "VG_es = get_binary_essentiality(VG_df,obj = 'biomass_dilution')\n",
    "MC_es = get_binary_essentiality(MC_df,obj = 'biomass_dilution_s')\n",
    "locus_to_name = pd.read_csv('../gene_name_dictionary.csv',index_col=0)['name'].to_dict()"
   ]
  },
  {
   "cell_type": "code",
   "execution_count": 13,
   "metadata": {
    "scrolled": true,
    "tags": []
   },
   "outputs": [
    {
     "data": {
      "text/html": [
       "<div>\n",
       "<style scoped>\n",
       "    .dataframe tbody tr th:only-of-type {\n",
       "        vertical-align: middle;\n",
       "    }\n",
       "\n",
       "    .dataframe tbody tr th {\n",
       "        vertical-align: top;\n",
       "    }\n",
       "\n",
       "    .dataframe thead th {\n",
       "        text-align: right;\n",
       "    }\n",
       "</style>\n",
       "<table border=\"1\" class=\"dataframe\">\n",
       "  <thead>\n",
       "    <tr style=\"text-align: right;\">\n",
       "      <th></th>\n",
       "      <th>name</th>\n",
       "      <th>FS_flux</th>\n",
       "      <th>FS_essential</th>\n",
       "      <th>MC_flux</th>\n",
       "      <th>MC_essential</th>\n",
       "    </tr>\n",
       "  </thead>\n",
       "  <tbody>\n",
       "    <tr>\n",
       "      <th>BSU00090</th>\n",
       "      <td>guaB</td>\n",
       "      <td>0</td>\n",
       "      <td>False</td>\n",
       "      <td>6.09167e-09</td>\n",
       "      <td>False</td>\n",
       "    </tr>\n",
       "    <tr>\n",
       "      <th>BSU00110</th>\n",
       "      <td>pdxS</td>\n",
       "      <td>0</td>\n",
       "      <td>False</td>\n",
       "      <td>0</td>\n",
       "      <td>False</td>\n",
       "    </tr>\n",
       "    <tr>\n",
       "      <th>BSU00120</th>\n",
       "      <td>pdxT</td>\n",
       "      <td>0</td>\n",
       "      <td>False</td>\n",
       "      <td>0</td>\n",
       "      <td>False</td>\n",
       "    </tr>\n",
       "    <tr>\n",
       "      <th>BSU00130</th>\n",
       "      <td>serS</td>\n",
       "      <td>4.22795e-10</td>\n",
       "      <td>True</td>\n",
       "      <td>1.84078e-09</td>\n",
       "      <td>True</td>\n",
       "    </tr>\n",
       "    <tr>\n",
       "      <th>BSU00140</th>\n",
       "      <td>dck</td>\n",
       "      <td>1.41135e-09</td>\n",
       "      <td>False</td>\n",
       "      <td>0</td>\n",
       "      <td>False</td>\n",
       "    </tr>\n",
       "  </tbody>\n",
       "</table>\n",
       "</div>"
      ],
      "text/plain": [
       "          name      FS_flux FS_essential      MC_flux MC_essential\n",
       "BSU00090  guaB            0        False  6.09167e-09        False\n",
       "BSU00110  pdxS            0        False            0        False\n",
       "BSU00120  pdxT            0        False            0        False\n",
       "BSU00130  serS  4.22795e-10         True  1.84078e-09         True\n",
       "BSU00140   dck  1.41135e-09        False            0        False"
      ]
     },
     "execution_count": 13,
     "metadata": {},
     "output_type": "execute_result"
    }
   ],
   "source": [
    "# \n",
    "d = {}\n",
    "for r in sporeme.reactions.query('^translation_BSU.*_s$'):\n",
    "    g = r.id.split('translation_')[1].split('_s')[0]\n",
    "    d[g] = {\n",
    "        'name' : locus_to_name[g],\n",
    "        'FS_flux' : sporeme.solution.x_dict['translation_{}_s'.format(g)],\n",
    "        'FS_essential' : bool(FS_es[g]),\n",
    "        'MC_flux' : sporeme.solution.x_dict['translation_{}'.format(g)],\n",
    "        'MC_essential' : bool(MC_es[g])\n",
    "    }\n",
    "summary_df = pd.DataFrame.from_dict(d).T\n",
    "summary_df.to_csv('essentiality_summary_spoAQ.csv')\n",
    "summary_df[(summary_df['FS_flux'] > 1e-16)].to_csv('FS_proteins_summary_spoAQ.csv')\n",
    "summary_df[(summary_df['MC_flux'] > 1e-16)].to_csv('MC_proteins_summary_spoAQ.csv')\n",
    "summary_df.head()"
   ]
  },
  {
   "cell_type": "code",
   "execution_count": 25,
   "metadata": {},
   "outputs": [
    {
     "data": {
      "text/html": [
       "<div>\n",
       "<style scoped>\n",
       "    .dataframe tbody tr th:only-of-type {\n",
       "        vertical-align: middle;\n",
       "    }\n",
       "\n",
       "    .dataframe tbody tr th {\n",
       "        vertical-align: top;\n",
       "    }\n",
       "\n",
       "    .dataframe thead th {\n",
       "        text-align: right;\n",
       "    }\n",
       "</style>\n",
       "<table border=\"1\" class=\"dataframe\">\n",
       "  <thead>\n",
       "    <tr style=\"text-align: right;\">\n",
       "      <th></th>\n",
       "      <th>FS</th>\n",
       "      <th>MC</th>\n",
       "      <th>VG</th>\n",
       "      <th>name</th>\n",
       "      <th>annotation</th>\n",
       "      <th>model_annotation</th>\n",
       "    </tr>\n",
       "  </thead>\n",
       "  <tbody>\n",
       "    <tr>\n",
       "      <th>BSU34200</th>\n",
       "      <td>1.0</td>\n",
       "      <td>0.0</td>\n",
       "      <td>1.0</td>\n",
       "      <td>sigL</td>\n",
       "      <td>RNA polymerase sigma-54 factor (sigma-L)</td>\n",
       "      <td>S_Membrane_bioenergetics</td>\n",
       "    </tr>\n",
       "    <tr>\n",
       "      <th>BSU27120</th>\n",
       "      <td>0.0</td>\n",
       "      <td>0.0</td>\n",
       "      <td>0.0</td>\n",
       "      <td>sigV</td>\n",
       "      <td>RNA polymerase ECF(extracytoplasmic function)-type sigma factor (sigma(V))</td>\n",
       "      <td>S_Carbohydrates_and_related_molecules,S_Carbohydrates_and_related_molecules,S_Carbohydrates_and_related_molecules,S_Carbohydrates_and_related_molecules</td>\n",
       "    </tr>\n",
       "    <tr>\n",
       "      <th>BSU00980</th>\n",
       "      <td>0.0</td>\n",
       "      <td>0.0</td>\n",
       "      <td>0.0</td>\n",
       "      <td>sigH</td>\n",
       "      <td>RNA polymerase sigma-30 factor (sigma(H))</td>\n",
       "      <td>S_Carbohydrates_and_related_molecules,S_Carbohydrates_and_related_molecules,S_Carbohydrates_and_related_molecules,S_Carbohydrates_and_related_molecules</td>\n",
       "    </tr>\n",
       "    <tr>\n",
       "      <th>BSU25200</th>\n",
       "      <td>1.0</td>\n",
       "      <td>1.0</td>\n",
       "      <td>1.0</td>\n",
       "      <td>sigA</td>\n",
       "      <td>RNA polymerase major sigma-43 factor (sigma-A)</td>\n",
       "      <td>S_Carbohydrates_and_related_molecules,S_Carbohydrates_and_related_molecules</td>\n",
       "    </tr>\n",
       "    <tr>\n",
       "      <th>BSU16470</th>\n",
       "      <td>0.0</td>\n",
       "      <td>0.0</td>\n",
       "      <td>0.0</td>\n",
       "      <td>sigD</td>\n",
       "      <td>RNA polymerase sigma-28 factor (sigma-D)</td>\n",
       "      <td>S_Nucleotides_and_nucleic_acids,S_Nucleotides_and_nucleic_acids,S_Nucleotides_and_nucleic_acids,S_Nucleotides_and_nucleic_acids,S_Nucleotides_and_nucleic_acids,S_Nucleotides_and_nucleic_acids,S_Nucleotides_and_nucleic_acids,S_Nucleotides_and_nucleic_acids,S_Nucleotides_and_nucleic_acids</td>\n",
       "    </tr>\n",
       "    <tr>\n",
       "      <th>BSU09520</th>\n",
       "      <td>0.0</td>\n",
       "      <td>0.0</td>\n",
       "      <td>0.0</td>\n",
       "      <td>sigM</td>\n",
       "      <td>RNA polymerase ECF (extracytoplasmic function)-type sigma factor (sigma(M))</td>\n",
       "      <td>S_Nucleotides_and_nucleic_acids,S_Nucleotides_and_nucleic_acids,S_Nucleotides_and_nucleic_acids,S_Nucleotides_and_nucleic_acids,S_Nucleotides_and_nucleic_acids,S_Nucleotides_and_nucleic_acids,S_Nucleotides_and_nucleic_acids,S_Nucleotides_and_nucleic_acids,S_Nucleotides_and_nucleic_acids</td>\n",
       "    </tr>\n",
       "    <tr>\n",
       "      <th>BSU01730</th>\n",
       "      <td>0.0</td>\n",
       "      <td>0.0</td>\n",
       "      <td>0.0</td>\n",
       "      <td>sigW</td>\n",
       "      <td>RNA polymerase ECF(extracytoplasmic function)-type sigma factor W</td>\n",
       "      <td>S_Carbohydrates_and_related_molecules</td>\n",
       "    </tr>\n",
       "    <tr>\n",
       "      <th>BSU13450</th>\n",
       "      <td>0.0</td>\n",
       "      <td>0.0</td>\n",
       "      <td>0.0</td>\n",
       "      <td>sigI</td>\n",
       "      <td>RNA polymerase sigma factor (heat stress responsive)</td>\n",
       "      <td>S_Amino_acids_and_related_molecules,S_Amino_acids_and_related_molecules</td>\n",
       "    </tr>\n",
       "    <tr>\n",
       "      <th>BSU38700</th>\n",
       "      <td>0.0</td>\n",
       "      <td>0.0</td>\n",
       "      <td>0.0</td>\n",
       "      <td>sigY</td>\n",
       "      <td>RNA polymerase ECF (extracytoplasmic function)-type sigma factor (sigma-Y)</td>\n",
       "      <td>S_Nucleotides_and_nucleic_acids</td>\n",
       "    </tr>\n",
       "    <tr>\n",
       "      <th>BSU14730</th>\n",
       "      <td>0.0</td>\n",
       "      <td>0.0</td>\n",
       "      <td>0.0</td>\n",
       "      <td>sigP</td>\n",
       "      <td>RNA polymerase ECF-type sigma factor</td>\n",
       "      <td>S_Coenzymes_and_prosthetic_groups</td>\n",
       "    </tr>\n",
       "    <tr>\n",
       "      <th>BSU16740</th>\n",
       "      <td>0.0</td>\n",
       "      <td>0.0</td>\n",
       "      <td>0.0</td>\n",
       "      <td>spoVFB</td>\n",
       "      <td>spore dipicolinate synthase subunit B</td>\n",
       "      <td>S_Other_function</td>\n",
       "    </tr>\n",
       "    <tr>\n",
       "      <th>BSU16730</th>\n",
       "      <td>0.0</td>\n",
       "      <td>0.0</td>\n",
       "      <td>0.0</td>\n",
       "      <td>spoVFA</td>\n",
       "      <td>spore dipicolinate synthase subunit A</td>\n",
       "      <td>S_Other_function</td>\n",
       "    </tr>\n",
       "    <tr>\n",
       "      <th>BSU04730</th>\n",
       "      <td>1.0</td>\n",
       "      <td>0.0</td>\n",
       "      <td>1.0</td>\n",
       "      <td>sigB</td>\n",
       "      <td>RNA polymerase sigma-37 factor (sigma(B))</td>\n",
       "      <td>S_Cell_wall</td>\n",
       "    </tr>\n",
       "    <tr>\n",
       "      <th>BSU23100</th>\n",
       "      <td>0.0</td>\n",
       "      <td>0.0</td>\n",
       "      <td>0.0</td>\n",
       "      <td>sigX</td>\n",
       "      <td>RNA polymerase ECF(extracytoplasmic function)-type sigma factor sigma(X)</td>\n",
       "      <td>S_Carbohydrates_and_related_molecules</td>\n",
       "    </tr>\n",
       "    <tr>\n",
       "      <th>BSU23450</th>\n",
       "      <td>1.0</td>\n",
       "      <td>0.0</td>\n",
       "      <td>0.0</td>\n",
       "      <td>sigF</td>\n",
       "      <td>RNA polymerase sporulation-specific sigma factor (sigma-F)</td>\n",
       "      <td>S_Coenzymes_and_prosthetic_groups</td>\n",
       "    </tr>\n",
       "    <tr>\n",
       "      <th>BSU15320</th>\n",
       "      <td>0.0</td>\n",
       "      <td>1.0</td>\n",
       "      <td>1.0</td>\n",
       "      <td>sigE</td>\n",
       "      <td>RNA polymerase sporulation-specific sigma-29 factor (sigma-E)</td>\n",
       "      <td>S_Nucleotides_and_nucleic_acids</td>\n",
       "    </tr>\n",
       "  </tbody>\n",
       "</table>\n",
       "</div>"
      ],
      "text/plain": [
       "           FS   MC   VG    name  \\\n",
       "BSU34200  1.0  0.0  1.0    sigL   \n",
       "BSU27120  0.0  0.0  0.0    sigV   \n",
       "BSU00980  0.0  0.0  0.0    sigH   \n",
       "BSU25200  1.0  1.0  1.0    sigA   \n",
       "BSU16470  0.0  0.0  0.0    sigD   \n",
       "BSU09520  0.0  0.0  0.0    sigM   \n",
       "BSU01730  0.0  0.0  0.0    sigW   \n",
       "BSU13450  0.0  0.0  0.0    sigI   \n",
       "BSU38700  0.0  0.0  0.0    sigY   \n",
       "BSU14730  0.0  0.0  0.0    sigP   \n",
       "BSU16740  0.0  0.0  0.0  spoVFB   \n",
       "BSU16730  0.0  0.0  0.0  spoVFA   \n",
       "BSU04730  1.0  0.0  1.0    sigB   \n",
       "BSU23100  0.0  0.0  0.0    sigX   \n",
       "BSU23450  1.0  0.0  0.0    sigF   \n",
       "BSU15320  0.0  1.0  1.0    sigE   \n",
       "\n",
       "                                                                           annotation  \\\n",
       "BSU34200                                     RNA polymerase sigma-54 factor (sigma-L)   \n",
       "BSU27120   RNA polymerase ECF(extracytoplasmic function)-type sigma factor (sigma(V))   \n",
       "BSU00980                                    RNA polymerase sigma-30 factor (sigma(H))   \n",
       "BSU25200                               RNA polymerase major sigma-43 factor (sigma-A)   \n",
       "BSU16470                                     RNA polymerase sigma-28 factor (sigma-D)   \n",
       "BSU09520  RNA polymerase ECF (extracytoplasmic function)-type sigma factor (sigma(M))   \n",
       "BSU01730            RNA polymerase ECF(extracytoplasmic function)-type sigma factor W   \n",
       "BSU13450                         RNA polymerase sigma factor (heat stress responsive)   \n",
       "BSU38700   RNA polymerase ECF (extracytoplasmic function)-type sigma factor (sigma-Y)   \n",
       "BSU14730                                         RNA polymerase ECF-type sigma factor   \n",
       "BSU16740                                        spore dipicolinate synthase subunit B   \n",
       "BSU16730                                        spore dipicolinate synthase subunit A   \n",
       "BSU04730                                    RNA polymerase sigma-37 factor (sigma(B))   \n",
       "BSU23100     RNA polymerase ECF(extracytoplasmic function)-type sigma factor sigma(X)   \n",
       "BSU23450                   RNA polymerase sporulation-specific sigma factor (sigma-F)   \n",
       "BSU15320                RNA polymerase sporulation-specific sigma-29 factor (sigma-E)   \n",
       "\n",
       "                                                                                                                                                                                                                                                                                         model_annotation  \n",
       "BSU34200                                                                                                                                                                                                                                                                         S_Membrane_bioenergetics  \n",
       "BSU27120                                                                                                                                          S_Carbohydrates_and_related_molecules,S_Carbohydrates_and_related_molecules,S_Carbohydrates_and_related_molecules,S_Carbohydrates_and_related_molecules  \n",
       "BSU00980                                                                                                                                          S_Carbohydrates_and_related_molecules,S_Carbohydrates_and_related_molecules,S_Carbohydrates_and_related_molecules,S_Carbohydrates_and_related_molecules  \n",
       "BSU25200                                                                                                                                                                                                                      S_Carbohydrates_and_related_molecules,S_Carbohydrates_and_related_molecules  \n",
       "BSU16470  S_Nucleotides_and_nucleic_acids,S_Nucleotides_and_nucleic_acids,S_Nucleotides_and_nucleic_acids,S_Nucleotides_and_nucleic_acids,S_Nucleotides_and_nucleic_acids,S_Nucleotides_and_nucleic_acids,S_Nucleotides_and_nucleic_acids,S_Nucleotides_and_nucleic_acids,S_Nucleotides_and_nucleic_acids  \n",
       "BSU09520  S_Nucleotides_and_nucleic_acids,S_Nucleotides_and_nucleic_acids,S_Nucleotides_and_nucleic_acids,S_Nucleotides_and_nucleic_acids,S_Nucleotides_and_nucleic_acids,S_Nucleotides_and_nucleic_acids,S_Nucleotides_and_nucleic_acids,S_Nucleotides_and_nucleic_acids,S_Nucleotides_and_nucleic_acids  \n",
       "BSU01730                                                                                                                                                                                                                                                            S_Carbohydrates_and_related_molecules  \n",
       "BSU13450                                                                                                                                                                                                                          S_Amino_acids_and_related_molecules,S_Amino_acids_and_related_molecules  \n",
       "BSU38700                                                                                                                                                                                                                                                                  S_Nucleotides_and_nucleic_acids  \n",
       "BSU14730                                                                                                                                                                                                                                                                S_Coenzymes_and_prosthetic_groups  \n",
       "BSU16740                                                                                                                                                                                                                                                                                 S_Other_function  \n",
       "BSU16730                                                                                                                                                                                                                                                                                 S_Other_function  \n",
       "BSU04730                                                                                                                                                                                                                                                                                      S_Cell_wall  \n",
       "BSU23100                                                                                                                                                                                                                                                            S_Carbohydrates_and_related_molecules  \n",
       "BSU23450                                                                                                                                                                                                                                                                S_Coenzymes_and_prosthetic_groups  \n",
       "BSU15320                                                                                                                                                                                                                                                                  S_Nucleotides_and_nucleic_acids  "
      ]
     },
     "execution_count": 25,
     "metadata": {},
     "output_type": "execute_result"
    }
   ],
   "source": [
    "c[c['name'].str.contains('sig|spo')]"
   ]
  },
  {
   "cell_type": "code",
   "execution_count": 18,
   "metadata": {},
   "outputs": [],
   "source": [
    "complexes = pd.read_csv('bacillus_complexes.csv',index_col=0)"
   ]
  },
  {
   "cell_type": "code",
   "execution_count": 23,
   "metadata": {
    "scrolled": true,
    "tags": []
   },
   "outputs": [],
   "source": [
    "c = get_comparison([FS_es,MC_es,VG_es],annotation=complexes,names=['FS','MC','VG']).fillna('')"
   ]
  },
  {
   "cell_type": "code",
   "execution_count": 173,
   "metadata": {},
   "outputs": [
    {
     "name": "stdout",
     "output_type": "stream",
     "text": [
      "FS    170.0\n",
      "MC    190.0\n",
      "VG    301.0\n",
      "dtype: float64\n"
     ]
    },
    {
     "data": {
      "image/png": "[encoded data removed]",
      "text/plain": [
       "<Figure size 288x288 with 1 Axes>"
      ]
     },
     "metadata": {
      "needs_background": "light"
     },
     "output_type": "display_data"
    }
   ],
   "source": [
    "print(c[['FS','MC','VG']].sum())\n",
    "c[['FS','MC','VG']].sum().plot.bar(figsize=(4,4))\n",
    "plt.ylabel('Number of essential genes')\n",
    "plt.savefig('./figures/essential_genes_spoAQ.svg',format='SVG')"
   ]
  },
  {
   "cell_type": "code",
   "execution_count": 174,
   "metadata": {},
   "outputs": [],
   "source": [
    "from matplotlib_venn import venn3\n",
    "plt.rcParams['svg.fonttype'] = 'none'"
   ]
  },
  {
   "cell_type": "code",
   "execution_count": 175,
   "metadata": {},
   "outputs": [
    {
     "data": {
      "image/png": "[encoded data removed]",
      "text/plain": [
       "<Figure size 432x288 with 1 Axes>"
      ]
     },
     "metadata": {},
     "output_type": "display_data"
    }
   ],
   "source": [
    "fs = set(c[c['FS']>0].index)\n",
    "mc = set(c[c['MC']>0].index)\n",
    "vg = set(c[c['VG']>0].index)\n",
    "venn3([fs,mc,vg],('FS','MC','VG'))\n",
    "plt.savefig('figures/venn_FS_MC_VG_spoAQ.svg',format='SVG')"
   ]
  },
  {
   "cell_type": "code",
   "execution_count": 176,
   "metadata": {},
   "outputs": [
    {
     "data": {
      "text/html": [
       "<div>\n",
       "<style scoped>\n",
       "    .dataframe tbody tr th:only-of-type {\n",
       "        vertical-align: middle;\n",
       "    }\n",
       "\n",
       "    .dataframe tbody tr th {\n",
       "        vertical-align: top;\n",
       "    }\n",
       "\n",
       "    .dataframe thead th {\n",
       "        text-align: right;\n",
       "    }\n",
       "</style>\n",
       "<table border=\"1\" class=\"dataframe\">\n",
       "  <thead>\n",
       "    <tr style=\"text-align: right;\">\n",
       "      <th></th>\n",
       "      <th>FS</th>\n",
       "      <th>MC</th>\n",
       "      <th>VG</th>\n",
       "      <th>name</th>\n",
       "      <th>annotation</th>\n",
       "      <th>model_annotation</th>\n",
       "    </tr>\n",
       "  </thead>\n",
       "  <tbody>\n",
       "    <tr>\n",
       "      <th>BSU23450</th>\n",
       "      <td>1</td>\n",
       "      <td>0</td>\n",
       "      <td>0</td>\n",
       "      <td>sigF</td>\n",
       "      <td>RNA polymerase sporulation-specific sigma factor (sigma-F)</td>\n",
       "      <td>S_Coenzymes_and_prosthetic_groups</td>\n",
       "    </tr>\n",
       "  </tbody>\n",
       "</table>\n",
       "</div>"
      ],
      "text/plain": [
       "         FS MC VG  name  \\\n",
       "BSU23450  1  0  0  sigF   \n",
       "\n",
       "                                                          annotation  \\\n",
       "BSU23450  RNA polymerase sporulation-specific sigma factor (sigma-F)   \n",
       "\n",
       "                           model_annotation  \n",
       "BSU23450  S_Coenzymes_and_prosthetic_groups  "
      ]
     },
     "execution_count": 176,
     "metadata": {},
     "output_type": "execute_result"
    }
   ],
   "source": [
    "c[(c['FS'] == 1)&(c['VG'] == 0)]"
   ]
  },
  {
   "cell_type": "code",
   "execution_count": 177,
   "metadata": {},
   "outputs": [
    {
     "data": {
      "text/plain": [
       "FS                                                          1\n",
       "MC                                                          0\n",
       "VG                                                          1\n",
       "name                                                     sigB\n",
       "annotation          RNA polymerase sigma-37 factor (sigma(B))\n",
       "model_annotation                                  S_Cell_wall\n",
       "Name: BSU04730, dtype: object"
      ]
     },
     "execution_count": 177,
     "metadata": {},
     "output_type": "execute_result"
    }
   ],
   "source": [
    "c[(c['FS'] == 1)&(c['VG'] == 1)].loc['BSU04730']"
   ]
  },
  {
   "cell_type": "code",
   "execution_count": 178,
   "metadata": {},
   "outputs": [],
   "source": [
    "c.drop('base').to_csv('Supplementary Files/Supplementary File 2.csv')"
   ]
  },
  {
   "cell_type": "code",
   "execution_count": 94,
   "metadata": {},
   "outputs": [],
   "source": [
    "c[(c.FS==1) & (c.MC==0)].drop(['FS','MC','VG'],axis=1).to_csv('annotation_FS.csv')"
   ]
  },
  {
   "cell_type": "code",
   "execution_count": 95,
   "metadata": {},
   "outputs": [],
   "source": [
    "c[(c.FS==0) & (c.MC==1)].drop(['FS','MC','VG'],axis=1).to_csv('annotation_MC.csv')"
   ]
  },
  {
   "cell_type": "code",
   "execution_count": 96,
   "metadata": {},
   "outputs": [],
   "source": [
    "c[(c.FS==0) & (c.MC==0) & (c.VG == 1)].drop(['FS','MC','VG'],axis=1).to_csv('annotation_VG.csv')"
   ]
  },
  {
   "cell_type": "code",
   "execution_count": 97,
   "metadata": {},
   "outputs": [],
   "source": [
    "c[(c.FS==1) & (c.MC==1) & (c.VG==1)].drop(['FS','MC','VG'],axis=1).to_csv('annotation_both.csv')"
   ]
  },
  {
   "cell_type": "code",
   "execution_count": null,
   "metadata": {},
   "outputs": [],
   "source": [
    "for r in bsub.genes.get_by_id('BSU24030').reactions:\n",
    "    print(r.name)\n",
    "    print(r.reaction)"
   ]
  },
  {
   "cell_type": "code",
   "execution_count": null,
   "metadata": {
    "scrolled": true,
    "tags": []
   },
   "outputs": [],
   "source": [
    "flux_based_reactions(sporeme,'protein_BSU24040')"
   ]
  },
  {
   "cell_type": "code",
   "execution_count": null,
   "metadata": {},
   "outputs": [],
   "source": [
    "FS_df['BSU24040_s']"
   ]
  },
  {
   "cell_type": "code",
   "execution_count": null,
   "metadata": {
    "scrolled": true,
    "tags": []
   },
   "outputs": [],
   "source": [
    "flux_based_reactions(sporeme,'cdp_s',flux_dict=FS_df['BSU22890_s'].to_dict())"
   ]
  },
  {
   "cell_type": "code",
   "execution_count": null,
   "metadata": {
    "scrolled": true,
    "tags": []
   },
   "outputs": [],
   "source": [
    "flux_based_reactions(sporeme,'ctp_s',flux_dict=FS_df['BSU22890_s'].to_dict())"
   ]
  },
  {
   "cell_type": "code",
   "execution_count": null,
   "metadata": {},
   "outputs": [],
   "source": []
  },
  {
   "cell_type": "code",
   "execution_count": 147,
   "metadata": {},
   "outputs": [
    {
     "data": {
      "text/plain": [
       "'BSU05740'"
      ]
     },
     "execution_count": 147,
     "metadata": {},
     "output_type": "execute_result"
    }
   ],
   "source": [
    "name_to_locus['phoB']"
   ]
  },
  {
   "cell_type": "code",
   "execution_count": 146,
   "metadata": {},
   "outputs": [
    {
     "data": {
      "text/plain": [
       "'phoA'"
      ]
     },
     "execution_count": 146,
     "metadata": {},
     "output_type": "execute_result"
    }
   ],
   "source": [
    "locus_to_name['BSU09410']"
   ]
  },
  {
   "cell_type": "code",
   "execution_count": null,
   "metadata": {},
   "outputs": [],
   "source": []
  }
 ],
 "metadata": {
  "kernelspec": {
   "display_name": "me_modeling",
   "language": "python",
   "name": "me_modeling"
  },
  "language_info": {
   "codemirror_mode": {
    "name": "ipython",
    "version": 3
   },
   "file_extension": ".py",
   "mimetype": "text/x-python",
   "name": "python",
   "nbconvert_exporter": "python",
   "pygments_lexer": "ipython3",
   "version": "3.6.8"
  }
 },
 "nbformat": 4,
 "nbformat_minor": 4
}
