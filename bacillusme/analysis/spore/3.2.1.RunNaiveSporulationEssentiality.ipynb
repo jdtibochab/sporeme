{
 "cells": [
  {
   "cell_type": "markdown",
   "metadata": {},
   "source": [
    "# Sporulation"
   ]
  },
  {
   "cell_type": "code",
   "execution_count": 1,
   "metadata": {
    "scrolled": true
   },
   "outputs": [
    {
     "name": "stderr",
     "output_type": "stream",
     "text": [
      "/home/jt/work/cobrapy-0.5.11/cobra/io/sbml3.py:24: UserWarning: Install lxml for faster SBML I/O\n",
      "  warn(\"Install lxml for faster SBML I/O\")\n",
      "/home/jt/work/cobrapy-0.5.11/cobra/io/__init__.py:12: UserWarning: cobra.io.sbml requires libsbml\n",
      "  warn(\"cobra.io.sbml requires libsbml\")\n"
     ]
    },
    {
     "name": "stdout",
     "output_type": "stream",
     "text": [
      "/home/jt/work/cobrapy-0.5.11/cobra/__init__.py\n",
      "/home/jt/work/cobrame/cobrame/__init__.py\n",
      "/home/jt/work/sporeme/bacillusme/__init__.py\n"
     ]
    }
   ],
   "source": [
    "from __future__ import print_function, division, absolute_import\n",
    "\n",
    "import sys\n",
    "\n",
    "import qminospy\n",
    "from qminospy.me2 import ME_NLP\n",
    "import os\n",
    "\n",
    "# python imports\n",
    "from copy import copy\n",
    "import re\n",
    "from os.path import join, dirname, abspath\n",
    "import sys\n",
    "from collections import defaultdict\n",
    "import pickle\n",
    "\n",
    "# third party imports\n",
    "import pandas as pd\n",
    "import cobra\n",
    "from tqdm import tqdm\n",
    "import numpy as np\n",
    "import scipy\n",
    "\n",
    "# COBRAme\n",
    "import cobrame\n",
    "from cobrame.util import building, mu, me_model_interface\n",
    "from cobrame.io.json import save_json_me_model, save_reduced_json_me_model\n",
    "\n",
    "# ECOLIme\n",
    "import bacillusme\n",
    "from bacillusme import (transcription, translation, flat_files, generics, formulas, compartments)\n",
    "from cobrame.util.helper_functions import *\n",
    "\n",
    "import copy\n",
    "from scipy import stats\n",
    "import matplotlib.pyplot as plt\n",
    "%load_ext autoreload\n",
    "%autoreload 2\n",
    "ecoli_files = dirname(abspath(bacillusme.__file__))\n",
    "pd.set_option('display.max_colwidth', None)"
   ]
  },
  {
   "cell_type": "code",
   "execution_count": 2,
   "metadata": {},
   "outputs": [],
   "source": [
    "def add_transport_to_model(model,mets):\n",
    "    for met in mets:\n",
    "        rxn = cobrame.MEReaction('{}_transport'.format(met))\n",
    "        model.add_reactions([rxn])\n",
    "        rxn.add_metabolites({\n",
    "            '{}_c'.format(met):-1,\n",
    "            '{}_s'.format(met):1\n",
    "        })\n",
    "        rxn.bounds = (-1000,1000)\n",
    "        print(rxn.reaction)"
   ]
  },
  {
   "cell_type": "markdown",
   "metadata": {},
   "source": [
    "### Essentiality of FS genes"
   ]
  },
  {
   "cell_type": "code",
   "execution_count": 3,
   "metadata": {
    "scrolled": true
   },
   "outputs": [],
   "source": [
    "with open(\"./sporeme_solution_v4_proteomics_spoAQ_naive.pickle\", \"rb\") as outfile:\n",
    "    sporeme = pickle.load(outfile)"
   ]
  },
  {
   "cell_type": "code",
   "execution_count": 4,
   "metadata": {},
   "outputs": [
    {
     "name": "stdout",
     "output_type": "stream",
     "text": [
      "gtp_c <=> gtp_s\n",
      "ctp_c <=> ctp_s\n",
      "utp_c <=> utp_s\n",
      "gdp_c <=> gdp_s\n",
      "cdp_c <=> cdp_s\n",
      "udp_c <=> udp_s\n",
      "adp_c <=> adp_s\n",
      "atp_c <=> atp_s\n"
     ]
    }
   ],
   "source": [
    "add_transport_to_model(sporeme,['gtp','ctp','utp','gdp','cdp','udp','adp','atp'])"
   ]
  },
  {
   "cell_type": "code",
   "execution_count": null,
   "metadata": {},
   "outputs": [],
   "source": [
    "from bacillusme.analysis import sensitivity as ss"
   ]
  },
  {
   "cell_type": "code",
   "execution_count": 6,
   "metadata": {},
   "outputs": [],
   "source": [
    "genes = ['BSU' + g.id.split('RNA_BSU')[1] for g in sporeme.metabolites.query(re.compile('RNA_BSU.*_s$'))]"
   ]
  },
  {
   "cell_type": "code",
   "execution_count": 7,
   "metadata": {
    "scrolled": true,
    "tags": []
   },
   "outputs": [
    {
     "name": "stdout",
     "output_type": "stream",
     "text": [
      "iter\tmuopt    \ta     \tb     \tmu1       \tstat1\n",
      "Finished compiling expressions in 53.648077 seconds\n",
      "Finished substituting S,lb,ub in 1.850711 seconds\n",
      "Finished makeME_LP in 0.262818 seconds\n",
      "Getting MINOS parameters from ME_NLP...\n",
      "1 0.0 0.0 0.05 0.05 1\n",
      "Finished substituting S,lb,ub in 2.122538 seconds\n",
      "Finished makeME_LP in 0.312662 seconds\n",
      "Getting MINOS parameters from ME_NLP...\n",
      "2 0.025 0.025 0.05 0.025 optimal\n",
      "Finished substituting S,lb,ub in 2.100982 seconds\n",
      "Finished makeME_LP in 0.267643 seconds\n",
      "Getting MINOS parameters from ME_NLP...\n",
      "3 0.025 0.025 0.037500000000000006 0.037500000000000006 1\n",
      "Finished substituting S,lb,ub in 2.071897 seconds\n",
      "Finished makeME_LP in 0.267238 seconds\n",
      "Getting MINOS parameters from ME_NLP...\n",
      "4 0.03125 0.03125 0.037500000000000006 0.03125 optimal\n",
      "Finished substituting S,lb,ub in 2.119460 seconds\n",
      "Finished makeME_LP in 0.271038 seconds\n",
      "Getting MINOS parameters from ME_NLP...\n",
      "5 0.034375 0.034375 0.037500000000000006 0.034375 optimal\n",
      "Finished substituting S,lb,ub in 2.147817 seconds\n",
      "Finished makeME_LP in 0.269793 seconds\n",
      "Getting MINOS parameters from ME_NLP...\n",
      "6 0.034375 0.034375 0.035937500000000004 0.035937500000000004 1\n",
      "Finished substituting S,lb,ub in 2.132440 seconds\n",
      "Finished makeME_LP in 0.267929 seconds\n",
      "Getting MINOS parameters from ME_NLP...\n",
      "7 0.03515625 0.03515625 0.035937500000000004 0.03515625 optimal\n",
      "Finished substituting S,lb,ub in 2.105215 seconds\n",
      "Finished makeME_LP in 0.268883 seconds\n",
      "Getting MINOS parameters from ME_NLP...\n",
      "8 0.03515625 0.03515625 0.035546875000000006 0.035546875000000006 1\n",
      "Finished substituting S,lb,ub in 2.063430 seconds\n",
      "Finished makeME_LP in 0.282294 seconds\n",
      "Getting MINOS parameters from ME_NLP...\n",
      "9 0.03515625 0.03515625 0.0353515625 0.0353515625 1\n",
      "Finished substituting S,lb,ub in 2.265499 seconds\n",
      "Finished makeME_LP in 0.266688 seconds\n",
      "Getting MINOS parameters from ME_NLP...\n",
      "10 0.03525390625 0.03525390625 0.0353515625 0.03525390625 optimal\n",
      "Finished substituting S,lb,ub in 2.009454 seconds\n",
      "Finished makeME_LP in 0.270787 seconds\n",
      "Getting MINOS parameters from ME_NLP...\n",
      "11 0.035302734375000006 0.035302734375000006 0.0353515625 0.035302734375000006 optimal\n",
      "Finished substituting S,lb,ub in 1.982684 seconds\n",
      "Finished makeME_LP in 0.267208 seconds\n",
      "Getting MINOS parameters from ME_NLP...\n",
      "12 0.035327148437500004 0.035327148437500004 0.0353515625 0.035327148437500004 optimal\n",
      "Finished substituting S,lb,ub in 2.015285 seconds\n",
      "Finished makeME_LP in 0.270260 seconds\n",
      "Getting MINOS parameters from ME_NLP...\n",
      "13 0.035327148437500004 0.035327148437500004 0.03533935546875 0.03533935546875 1\n",
      "Finished substituting S,lb,ub in 2.048627 seconds\n",
      "Finished makeME_LP in 0.273078 seconds\n",
      "Getting MINOS parameters from ME_NLP...\n",
      "14 0.035333251953125006 0.035333251953125006 0.03533935546875 0.035333251953125006 optimal\n",
      "Finished substituting S,lb,ub in 2.053384 seconds\n",
      "Finished makeME_LP in 0.270473 seconds\n",
      "Getting MINOS parameters from ME_NLP...\n",
      "15 0.035333251953125006 0.035333251953125006 0.0353363037109375 0.0353363037109375 1\n",
      "Finished substituting S,lb,ub in 2.103752 seconds\n",
      "Finished makeME_LP in 0.272247 seconds\n",
      "Getting MINOS parameters from ME_NLP...\n",
      "16 0.035333251953125006 0.035333251953125006 0.035334777832031254 0.035334777832031254 1\n",
      "Finished substituting S,lb,ub in 2.120322 seconds\n",
      "Finished makeME_LP in 0.270957 seconds\n",
      "Getting MINOS parameters from ME_NLP...\n",
      "17 0.03533401489257813 0.03533401489257813 0.035334777832031254 0.03533401489257813 optimal\n",
      "Bisection done in 358.31 seconds\n"
     ]
    }
   ],
   "source": [
    "solve_me_model(sporeme,\n",
    "                   max_mu = 0.1,\n",
    "                   min_mu = .01,\n",
    "                   using_soplex=False,\n",
    "                   precision = 1e-6,\n",
    "                   growth_key = 'sigma',\n",
    "                   verbosity=2)"
   ]
  },
  {
   "cell_type": "code",
   "execution_count": null,
   "metadata": {
    "scrolled": true,
    "tags": []
   },
   "outputs": [
    {
     "name": "stdout",
     "output_type": "stream",
     "text": [
      "1 0 100\n"
     ]
    },
    {
     "name": "stderr",
     "output_type": "stream",
     "text": [
      "dummy_reaction_FWD_SPONT_s response (10 threads):  31%|███       | 31/100 [1:22:27<2:52:33, 150.04s/it]"
     ]
    }
   ],
   "source": [
    "for i in range(0,int(len(genes)/100)+1):\n",
    "    a,b = (i*100,i*100 + 100)\n",
    "    b = min(b,len(genes))\n",
    "    \n",
    "    print(i+1,a,b)\n",
    "    genes_it = genes[a:b]\n",
    "    flux_responses = ss.all_flux_responses(sporeme,genes_it,NP=10,precision=1e-6,max_mu=0.2,\n",
    "                                           solution=sporeme.solution,\n",
    "                                           single_change_function='gene_knockout',growth_key='sigma')\n",
    "    \n",
    "    missing = list(set(genes_it) - set(flux_responses.columns))\n",
    "    flux_responses[missing] = [[np.nan]*len(missing)]*flux_responses.shape[0]\n",
    "    flux_responses.to_csv('./essentiality_raw_results_naive_FS_transport_spoAQ_{}.csv'.format(i+1))"
   ]
  },
  {
   "cell_type": "code",
   "execution_count": null,
   "metadata": {},
   "outputs": [],
   "source": [
    "flux_responses = {}\n",
    "f = 'essentiality_raw_results_naive_FS_transport_spoAQ'\n",
    "for i in tqdm(os.listdir()):\n",
    "    if f not in i: continue\n",
    "    if f+'.csv' == i: continue\n",
    "    d = pd.read_csv(i,index_col=0).dropna().to_dict()\n",
    "    for k,v in d.items():\n",
    "        flux_responses[k] = v\n",
    "flux_responses = pd.DataFrame.from_dict(flux_responses)\n",
    "flux_responses.to_csv('{}.csv'.format(f))"
   ]
  },
  {
   "cell_type": "code",
   "execution_count": null,
   "metadata": {
    "scrolled": true,
    "tags": []
   },
   "outputs": [],
   "source": [
    "df = flux_responses.T\n",
    "repeat = []\n",
    "for i,row in df.drop('base').iterrows():\n",
    "    f = row['translation_'+i]\n",
    "    if  f>0.:\n",
    "        repeat.append(i)\n",
    "repeat"
   ]
  },
  {
   "cell_type": "code",
   "execution_count": null,
   "metadata": {},
   "outputs": [],
   "source": [
    "del flux_responses"
   ]
  },
  {
   "cell_type": "code",
   "execution_count": null,
   "metadata": {},
   "outputs": [],
   "source": [
    "2"
   ]
  }
 ],
 "metadata": {
  "kernelspec": {
   "display_name": "python3.7-cobrame",
   "language": "python",
   "name": "python3.7-cobrame"
  },
  "language_info": {
   "codemirror_mode": {
    "name": "ipython",
    "version": 3
   },
   "file_extension": ".py",
   "mimetype": "text/x-python",
   "name": "python",
   "nbconvert_exporter": "python",
   "pygments_lexer": "ipython3",
   "version": "3.7.8"
  }
 },
 "nbformat": 4,
 "nbformat_minor": 4
}
