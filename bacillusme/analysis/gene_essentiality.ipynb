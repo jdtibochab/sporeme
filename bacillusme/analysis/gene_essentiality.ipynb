{
 "cells": [
  {
   "cell_type": "markdown",
   "metadata": {},
   "source": [
    "# Gene essentiality"
   ]
  },
  {
   "cell_type": "code",
   "execution_count": 1,
   "metadata": {
    "scrolled": true
   },
   "outputs": [
    {
     "name": "stderr",
     "output_type": "stream",
     "text": [
      "/home/jt/me_modeling/lib/python3.6/site-packages/cobra-0.5.11-py3.6-linux-x86_64.egg/cobra/io/sbml3.py:24: UserWarning: Install lxml for faster SBML I/O\n",
      "  warn(\"Install lxml for faster SBML I/O\")\n",
      "/home/jt/me_modeling/lib/python3.6/site-packages/cobra-0.5.11-py3.6-linux-x86_64.egg/cobra/io/__init__.py:12: UserWarning: cobra.io.sbml requires libsbml\n",
      "  warn(\"cobra.io.sbml requires libsbml\")\n"
     ]
    },
    {
     "name": "stdout",
     "output_type": "stream",
     "text": [
      "/home/jt/me_modeling/lib/python3.6/site-packages/cobra-0.5.11-py3.6-linux-x86_64.egg/cobra/__init__.py\n",
      "/home/jt/UCSD/cobrame/cobrame/__init__.py\n",
      "/home/jt/UCSD/bacillusme-master/bacillusme/__init__.py\n"
     ]
    }
   ],
   "source": [
    "from __future__ import print_function, division, absolute_import\n",
    "\n",
    "import sys\n",
    "\n",
    "import qminospy\n",
    "from qminospy.me2 import ME_NLP\n",
    "\n",
    "# python imports\n",
    "from copy import copy\n",
    "import re\n",
    "from os.path import join\n",
    "from collections import defaultdict\n",
    "import pickle\n",
    "\n",
    "# third party imports\n",
    "import pandas\n",
    "import cobra\n",
    "from tqdm import tqdm\n",
    "import numpy as np\n",
    "import scipy\n",
    "\n",
    "# COBRAme\n",
    "import cobrame\n",
    "from cobrame.util import building, mu, me_model_interface\n",
    "from cobrame.io.json import save_json_me_model, save_reduced_json_me_model\n",
    "\n",
    "# ECOLIme\n",
    "import bacillusme\n",
    "from bacillusme import (transcription, translation, flat_files, generics, formulas, compartments)\n",
    "from bacillusme.util.helper_functions import *\n",
    "\n",
    "import matplotlib.pyplot as plt\n",
    "plt.rcParams['svg.fonttype'] = 'none'\n",
    "\n",
    "%load_ext autoreload\n",
    "%autoreload 2\n",
    "print(cobra.__file__)\n",
    "print(cobrame.__file__)\n",
    "print(bacillusme.__file__)"
   ]
  },
  {
   "cell_type": "code",
   "execution_count": 2,
   "metadata": {},
   "outputs": [],
   "source": [
    "def get_genes_of_me(me):\n",
    "    genes = [m.id.split('_')[1] for m in me.metabolites if isinstance(m,cobrame.TranslatedGene)]\n",
    "    if 'dummy' in genes:\n",
    "        genes.remove('dummy')\n",
    "    return list(set(genes))"
   ]
  },
  {
   "cell_type": "code",
   "execution_count": 3,
   "metadata": {
    "scrolled": true
   },
   "outputs": [
    {
     "data": {
      "text/plain": [
       "<Solution 0.12 at 0x7f9dd7a18390>"
      ]
     },
     "execution_count": 3,
     "metadata": {},
     "output_type": "execute_result"
    }
   ],
   "source": [
    "eco_directory = join(flat_files.ecoli_files_dir, 'iJO1366.json')\n",
    "ijo_directory = join(flat_files.ecoli_files_dir, 'iYO844.json')\n",
    "uni_directory = join(flat_files.ecoli_files_dir, 'universal_model.json')\n",
    "ibsu_directory = join(flat_files.ecoli_files_dir, 'iBsu1103.json') \n",
    "\n",
    "eco = cobra.io.load_json_model(eco_directory)\n",
    "bsub = cobra.io.load_json_model(ijo_directory)\n",
    "uni = cobra.io.load_json_model(uni_directory)\n",
    "ibsu = cobra.io.load_json_model(ibsu_directory)\n",
    "\n",
    "bsub.optimize()"
   ]
  },
  {
   "cell_type": "code",
   "execution_count": 4,
   "metadata": {},
   "outputs": [
    {
     "data": {
      "text/plain": [
       "''"
      ]
     },
     "execution_count": 4,
     "metadata": {},
     "output_type": "execute_result"
    }
   ],
   "source": [
    "met = ibsu.reactions[0]\n",
    "\n",
    "met.gene_reaction_rule"
   ]
  },
  {
   "cell_type": "code",
   "execution_count": 5,
   "metadata": {
    "scrolled": true
   },
   "outputs": [],
   "source": [
    "with open('../me_models/solution.pickle', 'rb') as solution:\n",
    "    me = pickle.load(solution)\n",
    "with open('../me_models/final/iJL1678b.pickle', 'rb') as f:\n",
    "    ecome = pickle.load(f)"
   ]
  },
  {
   "cell_type": "markdown",
   "metadata": {},
   "source": [
    "## Essentiality"
   ]
  },
  {
   "cell_type": "markdown",
   "metadata": {},
   "source": [
    "M-model"
   ]
  },
  {
   "cell_type": "code",
   "execution_count": 6,
   "metadata": {
    "scrolled": true
   },
   "outputs": [],
   "source": [
    "from bacillusme.analysis import essentiality as es"
   ]
  },
  {
   "cell_type": "code",
   "execution_count": 7,
   "metadata": {
    "scrolled": true
   },
   "outputs": [
    {
     "name": "stdout",
     "output_type": "stream",
     "text": [
      "Solving model for base solution\n"
     ]
    },
    {
     "name": "stderr",
     "output_type": "stream",
     "text": [
      "100%|██████████| 844/844 [02:24<00:00,  5.85it/s]\n"
     ]
    },
    {
     "name": "stdout",
     "output_type": "stream",
     "text": [
      "Done\n"
     ]
    }
   ],
   "source": [
    "genes = [gene.id for gene in bsub.genes]\n",
    "essentiality_df_m,flux_responses_m = es.gene_essentiality(bsub,genes, 'm',NP=1,threshold = 0.01,precision=1e-6)\n",
    "flux_responses_m.to_csv('essentiality/essentiality_raw_results.csv')"
   ]
  },
  {
   "cell_type": "code",
   "execution_count": 8,
   "metadata": {
    "scrolled": true
   },
   "outputs": [
    {
     "name": "stdout",
     "output_type": "stream",
     "text": [
      "Solving model for base solution\n"
     ]
    },
    {
     "name": "stderr",
     "output_type": "stream",
     "text": [
      "100%|██████████| 1367/1367 [11:58<00:00,  1.90it/s]\n"
     ]
    },
    {
     "name": "stdout",
     "output_type": "stream",
     "text": [
      "Done\n"
     ]
    }
   ],
   "source": [
    "# E. coli\n",
    "genes = [gene.id for gene in eco.genes]\n",
    "essentiality_df_m,flux_responses_m = es.gene_essentiality(eco,genes, 'm',NP=1,threshold = 0.01,precision=1e-6)\n",
    "flux_responses_m.to_csv('essentiality/essentiality_raw_results_eco.csv')"
   ]
  },
  {
   "cell_type": "markdown",
   "metadata": {},
   "source": [
    "ME-model"
   ]
  },
  {
   "cell_type": "code",
   "execution_count": 9,
   "metadata": {},
   "outputs": [],
   "source": [
    "genes = [gene.id for gene in me.genes]\n",
    "genes_eco = get_genes_of_me(ecome)"
   ]
  },
  {
   "cell_type": "code",
   "execution_count": null,
   "metadata": {
    "scrolled": true
   },
   "outputs": [
    {
     "name": "stdout",
     "output_type": "stream",
     "text": [
      "Solving model for base solution\n"
     ]
    },
    {
     "name": "stderr",
     "output_type": "stream",
     "text": [
      "10 threads:   2%|▏         | 21/964 [44:57<23:42:56, 90.54s/it] "
     ]
    }
   ],
   "source": [
    "essentiality_df_me,flux_responses_me = es.gene_essentiality(me,genes,'me',NP=10,threshold = 0.01,precision=1e-6)\n",
    "flux_responses_me.to_csv('essentiality/essentiality_raw_me_results.csv')"
   ]
  },
  {
   "cell_type": "code",
   "execution_count": null,
   "metadata": {
    "scrolled": true
   },
   "outputs": [
    {
     "name": "stdout",
     "output_type": "stream",
     "text": [
      "Solving model for base solution\n"
     ]
    },
    {
     "name": "stderr",
     "output_type": "stream",
     "text": [
      "10 threads:   1%|          | 8/1568 [18:40<15:27:20, 35.67s/it]   "
     ]
    }
   ],
   "source": [
    "# E. coli\n",
    "essentiality_df_me,flux_responses_me = es.gene_essentiality(ecome,genes_eco,'me',NP=10,threshold = 0.01,precision=1e-6)\n",
    "flux_responses_me.to_csv('essentiality/essentiality_raw_me_results_eco.csv')"
   ]
  },
  {
   "cell_type": "code",
   "execution_count": 10,
   "metadata": {},
   "outputs": [],
   "source": [
    "# Read\n",
    "flux_responses_m = pd.read_csv('essentiality/essentiality_raw_results.csv',index_col=0)\n",
    "flux_responses_me = pd.read_csv('essentiality/essentiality_raw_me_results.csv',index_col=0)\n",
    "\n",
    "flux_responses_m_eco = pd.read_csv('essentiality/essentiality_raw_results_eco.csv',index_col=0)\n",
    "flux_responses_me_eco = pd.read_csv('essentiality/essentiality_raw_me_results_eco.csv',index_col=0)"
   ]
  },
  {
   "cell_type": "code",
   "execution_count": 11,
   "metadata": {},
   "outputs": [
    {
     "name": "stdout",
     "output_type": "stream",
     "text": [
      "Done\n",
      "Done\n",
      "Done\n",
      "Done\n"
     ]
    }
   ],
   "source": [
    "essentiality_df_m,_ = es.gene_essentiality(bsub,genes,'m',flux_responses=flux_responses_m)\n",
    "essentiality_df_me,_ = es.gene_essentiality(me,genes,'me',flux_responses=flux_responses_me)\n",
    "\n",
    "essentiality_df_m_eco,_ = es.gene_essentiality(eco,genes_eco,'m',flux_responses=flux_responses_m_eco)\n",
    "essentiality_df_me_eco,_ = es.gene_essentiality(ecome,genes_eco,'me',flux_responses=flux_responses_me_eco)"
   ]
  },
  {
   "cell_type": "markdown",
   "metadata": {},
   "source": [
    "### Combine results"
   ]
  },
  {
   "cell_type": "code",
   "execution_count": 12,
   "metadata": {
    "scrolled": true
   },
   "outputs": [],
   "source": [
    "essentiality_df = essentiality_df_me.join(essentiality_df_m,lsuffix='_me',rsuffix='_m')\n",
    "essentiality_df_eco = essentiality_df_me_eco.join(essentiality_df_m_eco,lsuffix='_me',rsuffix='_m')"
   ]
  },
  {
   "cell_type": "markdown",
   "metadata": {},
   "source": [
    "## M/ME comparison"
   ]
  },
  {
   "cell_type": "code",
   "execution_count": 13,
   "metadata": {},
   "outputs": [],
   "source": [
    "difference_df = essentiality_df[essentiality_df.essentiality_m != essentiality_df.essentiality_me].dropna()\n",
    "difference_df_eco = essentiality_df_eco[essentiality_df_eco.essentiality_m != essentiality_df_eco.essentiality_me].dropna()"
   ]
  },
  {
   "cell_type": "code",
   "execution_count": 14,
   "metadata": {},
   "outputs": [
    {
     "data": {
      "text/html": [
       "<div>\n",
       "<style scoped>\n",
       "    .dataframe tbody tr th:only-of-type {\n",
       "        vertical-align: middle;\n",
       "    }\n",
       "\n",
       "    .dataframe tbody tr th {\n",
       "        vertical-align: top;\n",
       "    }\n",
       "\n",
       "    .dataframe thead th {\n",
       "        text-align: right;\n",
       "    }\n",
       "</style>\n",
       "<table border=\"1\" class=\"dataframe\">\n",
       "  <thead>\n",
       "    <tr style=\"text-align: right;\">\n",
       "      <th></th>\n",
       "      <th>response_me</th>\n",
       "      <th>essentiality_me</th>\n",
       "      <th>response_m</th>\n",
       "      <th>essentiality_m</th>\n",
       "    </tr>\n",
       "  </thead>\n",
       "  <tbody>\n",
       "    <tr>\n",
       "      <th>b0084</th>\n",
       "      <td>1.42316</td>\n",
       "      <td>+</td>\n",
       "      <td>0</td>\n",
       "      <td>0</td>\n",
       "    </tr>\n",
       "    <tr>\n",
       "      <th>b0351</th>\n",
       "      <td>-0.553186</td>\n",
       "      <td>-</td>\n",
       "      <td>0</td>\n",
       "      <td>0</td>\n",
       "    </tr>\n",
       "    <tr>\n",
       "      <th>b3747</th>\n",
       "      <td>-0.0234864</td>\n",
       "      <td>-</td>\n",
       "      <td>0</td>\n",
       "      <td>0</td>\n",
       "    </tr>\n",
       "    <tr>\n",
       "      <th>b0243</th>\n",
       "      <td>-0.378763</td>\n",
       "      <td>-</td>\n",
       "      <td>-0.00091602</td>\n",
       "      <td>0</td>\n",
       "    </tr>\n",
       "    <tr>\n",
       "      <th>b2601</th>\n",
       "      <td>1.64346</td>\n",
       "      <td>+</td>\n",
       "      <td>0</td>\n",
       "      <td>0</td>\n",
       "    </tr>\n",
       "    <tr>\n",
       "      <th>...</th>\n",
       "      <td>...</td>\n",
       "      <td>...</td>\n",
       "      <td>...</td>\n",
       "      <td>...</td>\n",
       "    </tr>\n",
       "    <tr>\n",
       "      <th>b3829</th>\n",
       "      <td>-1</td>\n",
       "      <td>e</td>\n",
       "      <td>0</td>\n",
       "      <td>0</td>\n",
       "    </tr>\n",
       "    <tr>\n",
       "      <th>b3956</th>\n",
       "      <td>1.55205</td>\n",
       "      <td>+</td>\n",
       "      <td>-0.00305921</td>\n",
       "      <td>0</td>\n",
       "    </tr>\n",
       "    <tr>\n",
       "      <th>b0727</th>\n",
       "      <td>2.26168</td>\n",
       "      <td>+</td>\n",
       "      <td>-0.00473291</td>\n",
       "      <td>0</td>\n",
       "    </tr>\n",
       "    <tr>\n",
       "      <th>b2779</th>\n",
       "      <td>-1</td>\n",
       "      <td>e</td>\n",
       "      <td>-0.0788231</td>\n",
       "      <td>-</td>\n",
       "    </tr>\n",
       "    <tr>\n",
       "      <th>b2762</th>\n",
       "      <td>-1</td>\n",
       "      <td>e</td>\n",
       "      <td>0</td>\n",
       "      <td>0</td>\n",
       "    </tr>\n",
       "  </tbody>\n",
       "</table>\n",
       "<p>179 rows × 4 columns</p>\n",
       "</div>"
      ],
      "text/plain": [
       "      response_me essentiality_me  response_m essentiality_m\n",
       "b0084     1.42316               +           0              0\n",
       "b0351   -0.553186               -           0              0\n",
       "b3747  -0.0234864               -           0              0\n",
       "b0243   -0.378763               - -0.00091602              0\n",
       "b2601     1.64346               +           0              0\n",
       "...           ...             ...         ...            ...\n",
       "b3829          -1               e           0              0\n",
       "b3956     1.55205               + -0.00305921              0\n",
       "b0727     2.26168               + -0.00473291              0\n",
       "b2779          -1               e  -0.0788231              -\n",
       "b2762          -1               e           0              0\n",
       "\n",
       "[179 rows x 4 columns]"
      ]
     },
     "execution_count": 14,
     "metadata": {},
     "output_type": "execute_result"
    }
   ],
   "source": [
    "difference_df_eco"
   ]
  },
  {
   "cell_type": "markdown",
   "metadata": {},
   "source": [
    "## Reported essentiality"
   ]
  },
  {
   "cell_type": "code",
   "execution_count": 15,
   "metadata": {},
   "outputs": [],
   "source": [
    "gene_dictionary = pd.read_csv('../building_data/gene_name_dictionary.csv',index_col=0)\n",
    "essential_genes = pd.read_csv('./essentiality/subtiwiki_essential.txt',index_col=0,sep='\\t')\n",
    "essential_genes_eco = pd.read_csv('./essentiality/eco_essential.txt',index_col=3,sep='\\t')"
   ]
  },
  {
   "cell_type": "code",
   "execution_count": 16,
   "metadata": {},
   "outputs": [],
   "source": [
    "def get_gene_count(me):\n",
    "    from Bio import SeqIO\n",
    "    gb_file = SeqIO.read(\"../building_data/NC_000964.gb\", 'gb')\n",
    "    gene_count = 0\n",
    "    for feature in gb_file.features:\n",
    "        if feature.type not in {'CDS', 'rRNA','tRNA', 'ncRNA'}:\n",
    "            continue\n",
    "        gene_count += 1\n",
    "    return gene_count"
   ]
  },
  {
   "cell_type": "code",
   "execution_count": 17,
   "metadata": {},
   "outputs": [],
   "source": [
    "gene_count = get_gene_count(\"../building_data/NC_000964.gb\")\n",
    "gene_count_eco = get_gene_count(\"../building_data/NC_000913.2.gb\")"
   ]
  },
  {
   "cell_type": "code",
   "execution_count": 18,
   "metadata": {
    "scrolled": true
   },
   "outputs": [],
   "source": [
    "all_genes = get_genes_of_me(me)\n",
    "all_genes_eco = get_genes_of_me(ecome)"
   ]
  },
  {
   "cell_type": "code",
   "execution_count": 19,
   "metadata": {},
   "outputs": [],
   "source": [
    "def get_true_essentiality(essential_genes,all_genes,gene_dictionary=False):\n",
    "    true_essentiality = {}\n",
    "    for locus_id in all_genes:\n",
    "        if isinstance(gene_dictionary,pd.DataFrame):\n",
    "            name = gene_dictionary.loc[locus_id]['name']\n",
    "        else:\n",
    "            name = locus_id\n",
    "        if name in essential_genes.index.values:\n",
    "            true_essentiality[locus_id] = 'e'\n",
    "        else:\n",
    "            true_essentiality[locus_id] = '0'\n",
    "    true_essentiality_df = pd.DataFrame({'true_essentiality':true_essentiality})\n",
    "    return true_essentiality_df"
   ]
  },
  {
   "cell_type": "code",
   "execution_count": 20,
   "metadata": {},
   "outputs": [
    {
     "data": {
      "text/html": [
       "<div>\n",
       "<style scoped>\n",
       "    .dataframe tbody tr th:only-of-type {\n",
       "        vertical-align: middle;\n",
       "    }\n",
       "\n",
       "    .dataframe tbody tr th {\n",
       "        vertical-align: top;\n",
       "    }\n",
       "\n",
       "    .dataframe thead th {\n",
       "        text-align: right;\n",
       "    }\n",
       "</style>\n",
       "<table border=\"1\" class=\"dataframe\">\n",
       "  <thead>\n",
       "    <tr style=\"text-align: right;\">\n",
       "      <th></th>\n",
       "      <th>response_me</th>\n",
       "      <th>essentiality_me</th>\n",
       "      <th>response_m</th>\n",
       "      <th>essentiality_m</th>\n",
       "    </tr>\n",
       "  </thead>\n",
       "  <tbody>\n",
       "    <tr>\n",
       "      <th>BSU00180</th>\n",
       "      <td>-9.37743e-06</td>\n",
       "      <td>0</td>\n",
       "      <td>-2.96277e-06</td>\n",
       "      <td>0</td>\n",
       "    </tr>\n",
       "    <tr>\n",
       "      <th>BSU00270</th>\n",
       "      <td>0</td>\n",
       "      <td>0</td>\n",
       "      <td>-2.53507e-10</td>\n",
       "      <td>0</td>\n",
       "    </tr>\n",
       "    <tr>\n",
       "      <th>BSU00150</th>\n",
       "      <td>-0.000243813</td>\n",
       "      <td>0</td>\n",
       "      <td>-9.72943e-05</td>\n",
       "      <td>0</td>\n",
       "    </tr>\n",
       "    <tr>\n",
       "      <th>BSU00140</th>\n",
       "      <td>0</td>\n",
       "      <td>0</td>\n",
       "      <td>-2.11555e-09</td>\n",
       "      <td>0</td>\n",
       "    </tr>\n",
       "    <tr>\n",
       "      <th>BSU00110</th>\n",
       "      <td>0</td>\n",
       "      <td>0</td>\n",
       "      <td>0</td>\n",
       "      <td>0</td>\n",
       "    </tr>\n",
       "    <tr>\n",
       "      <th>...</th>\n",
       "      <td>...</td>\n",
       "      <td>...</td>\n",
       "      <td>...</td>\n",
       "      <td>...</td>\n",
       "    </tr>\n",
       "    <tr>\n",
       "      <th>BSU40420</th>\n",
       "      <td>-1</td>\n",
       "      <td>e</td>\n",
       "      <td>-1</td>\n",
       "      <td>e</td>\n",
       "    </tr>\n",
       "    <tr>\n",
       "      <th>BSU40550</th>\n",
       "      <td>-1</td>\n",
       "      <td>e</td>\n",
       "      <td>-1</td>\n",
       "      <td>e</td>\n",
       "    </tr>\n",
       "    <tr>\n",
       "      <th>BSU41060</th>\n",
       "      <td>-1</td>\n",
       "      <td>e</td>\n",
       "      <td>NaN</td>\n",
       "      <td>NaN</td>\n",
       "    </tr>\n",
       "    <tr>\n",
       "      <th>BSU41050</th>\n",
       "      <td>-1</td>\n",
       "      <td>e</td>\n",
       "      <td>NaN</td>\n",
       "      <td>NaN</td>\n",
       "    </tr>\n",
       "    <tr>\n",
       "      <th>BSU40910</th>\n",
       "      <td>-1</td>\n",
       "      <td>e</td>\n",
       "      <td>NaN</td>\n",
       "      <td>NaN</td>\n",
       "    </tr>\n",
       "  </tbody>\n",
       "</table>\n",
       "<p>964 rows × 4 columns</p>\n",
       "</div>"
      ],
      "text/plain": [
       "          response_me essentiality_me   response_m essentiality_m\n",
       "BSU00180 -9.37743e-06               0 -2.96277e-06              0\n",
       "BSU00270            0               0 -2.53507e-10              0\n",
       "BSU00150 -0.000243813               0 -9.72943e-05              0\n",
       "BSU00140            0               0 -2.11555e-09              0\n",
       "BSU00110            0               0            0              0\n",
       "...               ...             ...          ...            ...\n",
       "BSU40420           -1               e           -1              e\n",
       "BSU40550           -1               e           -1              e\n",
       "BSU41060           -1               e          NaN            NaN\n",
       "BSU41050           -1               e          NaN            NaN\n",
       "BSU40910           -1               e          NaN            NaN\n",
       "\n",
       "[964 rows x 4 columns]"
      ]
     },
     "execution_count": 20,
     "metadata": {},
     "output_type": "execute_result"
    }
   ],
   "source": [
    "essentiality_df"
   ]
  },
  {
   "cell_type": "code",
   "execution_count": 21,
   "metadata": {},
   "outputs": [],
   "source": [
    "true_essentiality_df = get_true_essentiality(essential_genes,all_genes,gene_dictionary=gene_dictionary)\n",
    "true_essentiality_df_eco = get_true_essentiality(essential_genes_eco,all_genes_eco,gene_dictionary=False)"
   ]
  },
  {
   "cell_type": "code",
   "execution_count": 22,
   "metadata": {},
   "outputs": [],
   "source": [
    "essentiality_df = essentiality_df.join(true_essentiality_df)\n",
    "essentiality_df_eco = essentiality_df_eco.join(true_essentiality_df_eco)"
   ]
  },
  {
   "cell_type": "code",
   "execution_count": 23,
   "metadata": {},
   "outputs": [
    {
     "data": {
      "text/html": [
       "<div>\n",
       "<style scoped>\n",
       "    .dataframe tbody tr th:only-of-type {\n",
       "        vertical-align: middle;\n",
       "    }\n",
       "\n",
       "    .dataframe tbody tr th {\n",
       "        vertical-align: top;\n",
       "    }\n",
       "\n",
       "    .dataframe thead th {\n",
       "        text-align: right;\n",
       "    }\n",
       "</style>\n",
       "<table border=\"1\" class=\"dataframe\">\n",
       "  <thead>\n",
       "    <tr style=\"text-align: right;\">\n",
       "      <th></th>\n",
       "      <th>response_me</th>\n",
       "      <th>essentiality_me</th>\n",
       "      <th>response_m</th>\n",
       "      <th>essentiality_m</th>\n",
       "      <th>true_essentiality</th>\n",
       "    </tr>\n",
       "  </thead>\n",
       "  <tbody>\n",
       "    <tr>\n",
       "      <th>BSU00180</th>\n",
       "      <td>-9.37743e-06</td>\n",
       "      <td>0</td>\n",
       "      <td>-2.96277e-06</td>\n",
       "      <td>0</td>\n",
       "      <td>0</td>\n",
       "    </tr>\n",
       "    <tr>\n",
       "      <th>BSU00270</th>\n",
       "      <td>0</td>\n",
       "      <td>0</td>\n",
       "      <td>-2.53507e-10</td>\n",
       "      <td>0</td>\n",
       "      <td>0</td>\n",
       "    </tr>\n",
       "    <tr>\n",
       "      <th>BSU00150</th>\n",
       "      <td>-0.000243813</td>\n",
       "      <td>0</td>\n",
       "      <td>-9.72943e-05</td>\n",
       "      <td>0</td>\n",
       "      <td>0</td>\n",
       "    </tr>\n",
       "    <tr>\n",
       "      <th>BSU00140</th>\n",
       "      <td>0</td>\n",
       "      <td>0</td>\n",
       "      <td>-2.11555e-09</td>\n",
       "      <td>0</td>\n",
       "      <td>0</td>\n",
       "    </tr>\n",
       "    <tr>\n",
       "      <th>BSU00110</th>\n",
       "      <td>0</td>\n",
       "      <td>0</td>\n",
       "      <td>0</td>\n",
       "      <td>0</td>\n",
       "      <td>0</td>\n",
       "    </tr>\n",
       "    <tr>\n",
       "      <th>...</th>\n",
       "      <td>...</td>\n",
       "      <td>...</td>\n",
       "      <td>...</td>\n",
       "      <td>...</td>\n",
       "      <td>...</td>\n",
       "    </tr>\n",
       "    <tr>\n",
       "      <th>BSU40420</th>\n",
       "      <td>-1</td>\n",
       "      <td>e</td>\n",
       "      <td>-1</td>\n",
       "      <td>e</td>\n",
       "      <td>0</td>\n",
       "    </tr>\n",
       "    <tr>\n",
       "      <th>BSU40550</th>\n",
       "      <td>-1</td>\n",
       "      <td>e</td>\n",
       "      <td>-1</td>\n",
       "      <td>e</td>\n",
       "      <td>e</td>\n",
       "    </tr>\n",
       "    <tr>\n",
       "      <th>BSU41060</th>\n",
       "      <td>-1</td>\n",
       "      <td>e</td>\n",
       "      <td>NaN</td>\n",
       "      <td>NaN</td>\n",
       "      <td>0</td>\n",
       "    </tr>\n",
       "    <tr>\n",
       "      <th>BSU41050</th>\n",
       "      <td>-1</td>\n",
       "      <td>e</td>\n",
       "      <td>NaN</td>\n",
       "      <td>NaN</td>\n",
       "      <td>e</td>\n",
       "    </tr>\n",
       "    <tr>\n",
       "      <th>BSU40910</th>\n",
       "      <td>-1</td>\n",
       "      <td>e</td>\n",
       "      <td>NaN</td>\n",
       "      <td>NaN</td>\n",
       "      <td>0</td>\n",
       "    </tr>\n",
       "  </tbody>\n",
       "</table>\n",
       "<p>964 rows × 5 columns</p>\n",
       "</div>"
      ],
      "text/plain": [
       "          response_me essentiality_me   response_m essentiality_m  \\\n",
       "BSU00180 -9.37743e-06               0 -2.96277e-06              0   \n",
       "BSU00270            0               0 -2.53507e-10              0   \n",
       "BSU00150 -0.000243813               0 -9.72943e-05              0   \n",
       "BSU00140            0               0 -2.11555e-09              0   \n",
       "BSU00110            0               0            0              0   \n",
       "...               ...             ...          ...            ...   \n",
       "BSU40420           -1               e           -1              e   \n",
       "BSU40550           -1               e           -1              e   \n",
       "BSU41060           -1               e          NaN            NaN   \n",
       "BSU41050           -1               e          NaN            NaN   \n",
       "BSU40910           -1               e          NaN            NaN   \n",
       "\n",
       "         true_essentiality  \n",
       "BSU00180                 0  \n",
       "BSU00270                 0  \n",
       "BSU00150                 0  \n",
       "BSU00140                 0  \n",
       "BSU00110                 0  \n",
       "...                    ...  \n",
       "BSU40420                 0  \n",
       "BSU40550                 e  \n",
       "BSU41060                 0  \n",
       "BSU41050                 e  \n",
       "BSU40910                 0  \n",
       "\n",
       "[964 rows x 5 columns]"
      ]
     },
     "execution_count": 23,
     "metadata": {},
     "output_type": "execute_result"
    }
   ],
   "source": [
    "essentiality_df"
   ]
  },
  {
   "cell_type": "code",
   "execution_count": null,
   "metadata": {
    "scrolled": true
   },
   "outputs": [],
   "source": [
    "essentiality_df.to_csv('essentiality/essentiality_results.csv')\n",
    "essentiality_df_eco.to_csv('essentiality/essentiality_results_eco.csv')"
   ]
  },
  {
   "cell_type": "markdown",
   "metadata": {},
   "source": [
    "### Read"
   ]
  },
  {
   "cell_type": "code",
   "execution_count": null,
   "metadata": {
    "scrolled": true
   },
   "outputs": [],
   "source": [
    "# Read\n",
    "essentiality_df = pd.read_csv('essentiality/essentiality_results.csv',index_col=0)\n",
    "essentiality_df_eco = pd.read_csv('essentiality/essentiality_results_eco.csv',index_col=0)"
   ]
  },
  {
   "cell_type": "code",
   "execution_count": 29,
   "metadata": {},
   "outputs": [
    {
     "data": {
      "text/plain": [
       "response_me         -1\n",
       "essentiality_me      e\n",
       "response_m          -1\n",
       "essentiality_m       e\n",
       "true_essentiality    e\n",
       "Name: BSU37150, dtype: object"
      ]
     },
     "execution_count": 29,
     "metadata": {},
     "output_type": "execute_result"
    }
   ],
   "source": [
    "essentiality_df.loc['BSU37150']"
   ]
  },
  {
   "cell_type": "code",
   "execution_count": null,
   "metadata": {},
   "outputs": [],
   "source": [
    "# essentiality_df = essentiality_df.dropna()\n",
    "# essentiality_df_eco = essentiality_df_eco.dropna()"
   ]
  },
  {
   "cell_type": "code",
   "execution_count": 24,
   "metadata": {},
   "outputs": [],
   "source": [
    "def get_scores(essentiality_df,gene_count):\n",
    "    models = ['m','me']\n",
    "    scores = {}\n",
    "    for m in models:\n",
    "        scores[m] = {}\n",
    "\n",
    "        field = 'essentiality_{}'.format(m)\n",
    "        P = essentiality_df[(essentiality_df[field]=='e')].shape[0]\n",
    "        N = essentiality_df[(essentiality_df[field]=='0')].shape[0]\n",
    "        TP = essentiality_df[essentiality_df[field]=='e'][essentiality_df.true_essentiality=='e'].shape[0]\n",
    "        FP = P-TP\n",
    "        TN = essentiality_df[essentiality_df[field]=='0'][essentiality_df.true_essentiality=='0'].shape[0]\n",
    "        FN = N-TN\n",
    "\n",
    "        FDR = FP/(FP+TP)\n",
    "        precision = TP/(TP+FP)\n",
    "        TPR = TP/(TP+FN)\n",
    "        MCC = (TP*TN - FP*FN)/np.sqrt((TP+FP)*(TP+FN)*(TN+FP)*(TN+FN))\n",
    "        coverage = (P+N)/gene_count\n",
    "\n",
    "        print(TP,FP,TN,FN)\n",
    "\n",
    "        scores[m]['Precision'] = precision\n",
    "        scores[m]['FDR'] = FDR\n",
    "        scores[m]['TPR'] = TPR\n",
    "        scores[m]['MCC'] = MCC\n",
    "        scores[m]['Coverage'] = coverage\n",
    "\n",
    "    scores_df = pd.DataFrame.from_dict(scores)\n",
    "    return scores_df"
   ]
  },
  {
   "cell_type": "code",
   "execution_count": 25,
   "metadata": {},
   "outputs": [
    {
     "data": {
      "text/plain": [
       "311"
      ]
     },
     "execution_count": 25,
     "metadata": {},
     "output_type": "execute_result"
    }
   ],
   "source": [
    "len(essentiality_df['essentiality_me'].loc[essentiality_df['essentiality_me']=='e'])"
   ]
  },
  {
   "cell_type": "code",
   "execution_count": 26,
   "metadata": {},
   "outputs": [
    {
     "name": "stdout",
     "output_type": "stream",
     "text": [
      "57 117 579 23\n",
      "143 168 603 20\n",
      "92 110 983 141\n",
      "232 177 904 98\n"
     ]
    },
    {
     "name": "stderr",
     "output_type": "stream",
     "text": [
      "/home/jt/me_modeling/lib/python3.6/site-packages/ipykernel_launcher.py:10 \u001b[1;31mUserWarning\u001b[0m: Boolean Series key will be reindexed to match DataFrame index.\n",
      "/home/jt/me_modeling/lib/python3.6/site-packages/ipykernel_launcher.py:12 \u001b[1;31mUserWarning\u001b[0m: Boolean Series key will be reindexed to match DataFrame index.\n"
     ]
    }
   ],
   "source": [
    "scores_df = get_scores(essentiality_df,gene_count)\n",
    "scores_df_eco = get_scores(essentiality_df_eco,gene_count_eco)"
   ]
  },
  {
   "cell_type": "code",
   "execution_count": null,
   "metadata": {},
   "outputs": [],
   "source": [
    "scores_df.plot.bar()\n",
    "plt.ylabel('Score')\n",
    "plt.savefig('figures/essentiality_scores.svg',format='SVG')"
   ]
  },
  {
   "cell_type": "code",
   "execution_count": 30,
   "metadata": {},
   "outputs": [
    {
     "data": {
      "text/html": [
       "<div>\n",
       "<style scoped>\n",
       "    .dataframe tbody tr th:only-of-type {\n",
       "        vertical-align: middle;\n",
       "    }\n",
       "\n",
       "    .dataframe tbody tr th {\n",
       "        vertical-align: top;\n",
       "    }\n",
       "\n",
       "    .dataframe thead th {\n",
       "        text-align: right;\n",
       "    }\n",
       "</style>\n",
       "<table border=\"1\" class=\"dataframe\">\n",
       "  <thead>\n",
       "    <tr style=\"text-align: right;\">\n",
       "      <th></th>\n",
       "      <th>m</th>\n",
       "      <th>me</th>\n",
       "    </tr>\n",
       "  </thead>\n",
       "  <tbody>\n",
       "    <tr>\n",
       "      <th>Precision</th>\n",
       "      <td>0.327586</td>\n",
       "      <td>0.459807</td>\n",
       "    </tr>\n",
       "    <tr>\n",
       "      <th>FDR</th>\n",
       "      <td>0.672414</td>\n",
       "      <td>0.540193</td>\n",
       "    </tr>\n",
       "    <tr>\n",
       "      <th>TPR</th>\n",
       "      <td>0.712500</td>\n",
       "      <td>0.877301</td>\n",
       "    </tr>\n",
       "    <tr>\n",
       "      <th>MCC</th>\n",
       "      <td>0.396910</td>\n",
       "      <td>0.531064</td>\n",
       "    </tr>\n",
       "    <tr>\n",
       "      <th>Coverage</th>\n",
       "      <td>0.174657</td>\n",
       "      <td>0.210218</td>\n",
       "    </tr>\n",
       "  </tbody>\n",
       "</table>\n",
       "</div>"
      ],
      "text/plain": [
       "                  m        me\n",
       "Precision  0.327586  0.459807\n",
       "FDR        0.672414  0.540193\n",
       "TPR        0.712500  0.877301\n",
       "MCC        0.396910  0.531064\n",
       "Coverage   0.174657  0.210218"
      ]
     },
     "execution_count": 30,
     "metadata": {},
     "output_type": "execute_result"
    }
   ],
   "source": [
    "scores_df"
   ]
  },
  {
   "cell_type": "code",
   "execution_count": null,
   "metadata": {},
   "outputs": [],
   "source": [
    "scores_df_eco.plot.bar()\n",
    "plt.ylabel('Score')"
   ]
  },
  {
   "cell_type": "code",
   "execution_count": null,
   "metadata": {},
   "outputs": [],
   "source": [
    "all_scores_df = scores_df.join(scores_df_eco,lsuffix='_bsub',rsuffix='_eco')\n",
    "all_scores_df.plot.bar()\n",
    "plt.ylabel('Score')\n",
    "plt.savefig('figures/essentiality_scores_comparison.svg',format='SVG')\n",
    "plt.tight_layout()"
   ]
  },
  {
   "cell_type": "code",
   "execution_count": null,
   "metadata": {},
   "outputs": [],
   "source": []
  },
  {
   "cell_type": "code",
   "execution_count": 118,
   "metadata": {},
   "outputs": [
    {
     "data": {
      "text/plain": [
       "Precision   -0.132221\n",
       "FDR          0.132221\n",
       "TPR         -0.164801\n",
       "MCC         -0.134008\n",
       "Coverage    -0.035336\n",
       "dtype: float64"
      ]
     },
     "execution_count": 118,
     "metadata": {},
     "output_type": "execute_result"
    }
   ],
   "source": [
    "all_scores_df['m_bsub'] - all_scores_df['me_bsub']"
   ]
  },
  {
   "cell_type": "code",
   "execution_count": 117,
   "metadata": {},
   "outputs": [
    {
     "data": {
      "text/plain": [
       "Precision   -0.403622\n",
       "FDR          0.196636\n",
       "TPR         -0.231299\n",
       "MCC         -0.337628\n",
       "Coverage    -0.202320\n",
       "dtype: float64"
      ]
     },
     "execution_count": 117,
     "metadata": {},
     "output_type": "execute_result"
    }
   ],
   "source": [
    "(all_scores_df['m_bsub'] - all_scores_df['me_bsub']).div(all_scores_df['m_bsub'])"
   ]
  },
  {
   "cell_type": "code",
   "execution_count": null,
   "metadata": {},
   "outputs": [],
   "source": [
    "(965-844)/844"
   ]
  },
  {
   "cell_type": "markdown",
   "metadata": {},
   "source": [
    "### Essentiality pie chart"
   ]
  },
  {
   "cell_type": "code",
   "execution_count": 277,
   "metadata": {},
   "outputs": [
    {
     "data": {
      "text/html": [
       "<div>\n",
       "<style scoped>\n",
       "    .dataframe tbody tr th:only-of-type {\n",
       "        vertical-align: middle;\n",
       "    }\n",
       "\n",
       "    .dataframe tbody tr th {\n",
       "        vertical-align: top;\n",
       "    }\n",
       "\n",
       "    .dataframe thead th {\n",
       "        text-align: right;\n",
       "    }\n",
       "</style>\n",
       "<table border=\"1\" class=\"dataframe\">\n",
       "  <thead>\n",
       "    <tr style=\"text-align: right;\">\n",
       "      <th></th>\n",
       "      <th>response_me</th>\n",
       "      <th>essentiality_me</th>\n",
       "      <th>response_m</th>\n",
       "      <th>essentiality_m</th>\n",
       "    </tr>\n",
       "  </thead>\n",
       "  <tbody>\n",
       "    <tr>\n",
       "      <th>BSU00140</th>\n",
       "      <td>0.000000</td>\n",
       "      <td>0</td>\n",
       "      <td>-2.150779e-10</td>\n",
       "      <td>0</td>\n",
       "    </tr>\n",
       "    <tr>\n",
       "      <th>BSU00180</th>\n",
       "      <td>0.000000</td>\n",
       "      <td>0</td>\n",
       "      <td>-2.960415e-06</td>\n",
       "      <td>0</td>\n",
       "    </tr>\n",
       "    <tr>\n",
       "      <th>BSU00150</th>\n",
       "      <td>-0.000234</td>\n",
       "      <td>0</td>\n",
       "      <td>-9.729447e-05</td>\n",
       "      <td>0</td>\n",
       "    </tr>\n",
       "    <tr>\n",
       "      <th>BSU00090</th>\n",
       "      <td>0.000000</td>\n",
       "      <td>0</td>\n",
       "      <td>-3.719203e-10</td>\n",
       "      <td>0</td>\n",
       "    </tr>\n",
       "    <tr>\n",
       "      <th>BSU00270</th>\n",
       "      <td>0.000000</td>\n",
       "      <td>0</td>\n",
       "      <td>-1.300703e-10</td>\n",
       "      <td>0</td>\n",
       "    </tr>\n",
       "    <tr>\n",
       "      <th>BSU00120</th>\n",
       "      <td>0.000000</td>\n",
       "      <td>0</td>\n",
       "      <td>-1.441039e-10</td>\n",
       "      <td>0</td>\n",
       "    </tr>\n",
       "    <tr>\n",
       "      <th>BSU00110</th>\n",
       "      <td>0.000000</td>\n",
       "      <td>0</td>\n",
       "      <td>-1.441039e-10</td>\n",
       "      <td>0</td>\n",
       "    </tr>\n",
       "    <tr>\n",
       "      <th>BSU00410</th>\n",
       "      <td>0.000000</td>\n",
       "      <td>0</td>\n",
       "      <td>NaN</td>\n",
       "      <td>NaN</td>\n",
       "    </tr>\n",
       "    <tr>\n",
       "      <th>BSU00680</th>\n",
       "      <td>-0.000234</td>\n",
       "      <td>0</td>\n",
       "      <td>-9.729473e-05</td>\n",
       "      <td>0</td>\n",
       "    </tr>\n",
       "    <tr>\n",
       "      <th>BSU00730</th>\n",
       "      <td>0.000000</td>\n",
       "      <td>0</td>\n",
       "      <td>-3.456350e-10</td>\n",
       "      <td>0</td>\n",
       "    </tr>\n",
       "  </tbody>\n",
       "</table>\n",
       "</div>"
      ],
      "text/plain": [
       "          response_me essentiality_me    response_m essentiality_m\n",
       "BSU00140     0.000000               0 -2.150779e-10              0\n",
       "BSU00180     0.000000               0 -2.960415e-06              0\n",
       "BSU00150    -0.000234               0 -9.729447e-05              0\n",
       "BSU00090     0.000000               0 -3.719203e-10              0\n",
       "BSU00270     0.000000               0 -1.300703e-10              0\n",
       "BSU00120     0.000000               0 -1.441039e-10              0\n",
       "BSU00110     0.000000               0 -1.441039e-10              0\n",
       "BSU00410     0.000000               0           NaN            NaN\n",
       "BSU00680    -0.000234               0 -9.729473e-05              0\n",
       "BSU00730     0.000000               0 -3.456350e-10              0"
      ]
     },
     "execution_count": 277,
     "metadata": {},
     "output_type": "execute_result"
    }
   ],
   "source": [
    "essentiality_df[essentiality_df['essentiality_me']==0]"
   ]
  },
  {
   "cell_type": "code",
   "execution_count": 314,
   "metadata": {},
   "outputs": [
    {
     "data": {
      "image/png": "[encoded data removed]",
      "text/plain": [
       "<Figure size 432x288 with 1 Axes>"
      ]
     },
     "metadata": {},
     "output_type": "display_data"
    }
   ],
   "source": [
    "essentiality_df['essentiality_me'].value_counts().plot.pie(autopct='%1.1f%%')\n",
    "plt.savefig('figures/essentiality_scores.svg',format='SVG')\n",
    "plt.tight_layout()"
   ]
  },
  {
   "cell_type": "code",
   "execution_count": 312,
   "metadata": {},
   "outputs": [
    {
     "data": {
      "text/plain": [
       "0    622\n",
       "e    311\n",
       "-     30\n",
       "Name: essentiality_me, dtype: int64"
      ]
     },
     "execution_count": 312,
     "metadata": {},
     "output_type": "execute_result"
    }
   ],
   "source": [
    "essentiality_df['essentiality_me'].value_counts()"
   ]
  },
  {
   "cell_type": "code",
   "execution_count": 313,
   "metadata": {},
   "outputs": [
    {
     "data": {
      "text/plain": [
       "0    0.645898\n",
       "e    0.322949\n",
       "-    0.031153\n",
       "Name: essentiality_me, dtype: float64"
      ]
     },
     "execution_count": 313,
     "metadata": {},
     "output_type": "execute_result"
    }
   ],
   "source": [
    "essentiality_df['essentiality_me'].value_counts().div(essentiality_df['essentiality_me'].value_counts().sum())"
   ]
  },
  {
   "cell_type": "code",
   "execution_count": 76,
   "metadata": {},
   "outputs": [],
   "source": [
    "def get_gene_annotation(me,model):\n",
    "    gene_annotation = {}\n",
    "    for m in tqdm(me.metabolites):\n",
    "        if isinstance(m,cobrame.TranslatedGene):\n",
    "            gene_id = m.id.split('_')[-1]\n",
    "            if hasattr(model.genes,gene_id):\n",
    "                gene = model.genes.get_by_id(gene_id)\n",
    "                for r in gene.reactions:\n",
    "                    gene_annotation[gene_id] = r.subsystem\n",
    "            else:\n",
    "                rxns = get_final_reactions_of_gene(me,gene_id)\n",
    "                if rxns:\n",
    "                    subsystem = rxns[0].id.split('_')[-0]\n",
    "                else:\n",
    "                    subsystem = 'no_rxn'\n",
    "                gene_annotation[gene_id] = subsystem\n",
    "    return gene_annotation"
   ]
  },
  {
   "cell_type": "code",
   "execution_count": null,
   "metadata": {},
   "outputs": [],
   "source": [
    "subsystem = list(set([i.id.split('_')[0] for i in final_rxns if active_complex not in i.id]))"
   ]
  },
  {
   "cell_type": "code",
   "execution_count": 78,
   "metadata": {
    "scrolled": true
   },
   "outputs": [
    {
     "name": "stderr",
     "output_type": "stream",
     "text": [
      "\n",
      "\n",
      "\n",
      "\n",
      "  0%|          | 0/4214 [00:00<?, ?it/s]\u001b[A\u001b[A\u001b[A\u001b[A\n",
      "\n",
      "\n",
      "\n",
      " 52%|█████▏    | 2173/4214 [00:00<00:00, 4774.13it/s]\u001b[A\u001b[A\u001b[A\u001b[A\n",
      "\n",
      "\n",
      "\n",
      " 55%|█████▍    | 2317/4214 [00:05<00:20, 92.93it/s]  \u001b[A\u001b[A\u001b[A\u001b[A\n",
      "\n",
      "\n",
      "\n",
      " 57%|█████▋    | 2419/4214 [00:05<00:14, 127.05it/s]\u001b[A\u001b[A\u001b[A\u001b[A\n",
      "\n",
      "\n",
      "\n",
      " 60%|█████▉    | 2528/4214 [00:05<00:09, 172.12it/s]\u001b[A\u001b[A\u001b[A\u001b[A\n",
      "\n",
      "\n",
      "\n",
      " 62%|██████▏   | 2627/4214 [00:12<00:39, 40.60it/s] \u001b[A\u001b[A\u001b[A\u001b[A\n",
      "\n",
      "\n",
      "\n",
      " 64%|██████▍   | 2703/4214 [00:12<00:27, 55.50it/s]\u001b[A\u001b[A\u001b[A\u001b[A\n",
      "\n",
      "\n",
      "\n",
      " 66%|██████▌   | 2763/4214 [00:13<00:21, 67.14it/s]\u001b[A\u001b[A\u001b[A\u001b[A\n",
      "\n",
      "\n",
      "\n",
      " 67%|██████▋   | 2809/4214 [00:15<00:34, 40.77it/s]\u001b[A\u001b[A\u001b[A\u001b[A\n",
      "\n",
      "\n",
      "\n",
      " 70%|██████▉   | 2946/4214 [00:15<00:22, 57.49it/s]\u001b[A\u001b[A\u001b[A\u001b[A\n",
      "\n",
      "\n",
      "\n",
      " 71%|███████▏  | 3010/4214 [00:17<00:26, 44.61it/s]\u001b[A\u001b[A\u001b[A\u001b[A\n",
      "\n",
      "\n",
      "\n",
      "100%|██████████| 4214/4214 [00:18<00:00, 232.01it/s][A\u001b[A\u001b[A\u001b[A\n"
     ]
    }
   ],
   "source": [
    "gene_annotation = get_gene_annotation(me,bsub)"
   ]
  },
  {
   "cell_type": "code",
   "execution_count": 70,
   "metadata": {},
   "outputs": [],
   "source": [
    "annotation_df = pd.DataFrame.from_dict({'annotation':gene_annotation})\n",
    "annotation_df.to_csv('gene_annotation.csv')"
   ]
  },
  {
   "cell_type": "code",
   "execution_count": 79,
   "metadata": {},
   "outputs": [
    {
     "data": {
      "text/plain": [
       "<matplotlib.axes._subplots.AxesSubplot at 0x7ff4626a0978>"
      ]
     },
     "execution_count": 79,
     "metadata": {},
     "output_type": "execute_result"
    },
    {
     "data": {
      "image/png": "[encoded data removed]",
      "text/plain": [
       "<Figure size 432x288 with 1 Axes>"
      ]
     },
     "metadata": {},
     "output_type": "display_data"
    }
   ],
   "source": [
    "annotation_df['annotation'].value_counts().plot.pie()"
   ]
  },
  {
   "cell_type": "markdown",
   "metadata": {},
   "source": [
    "#### Essential genes"
   ]
  },
  {
   "cell_type": "code",
   "execution_count": 80,
   "metadata": {},
   "outputs": [
    {
     "data": {
      "text/plain": [
       "<matplotlib.axes._subplots.AxesSubplot at 0x7ff462552ba8>"
      ]
     },
     "execution_count": 80,
     "metadata": {},
     "output_type": "execute_result"
    },
    {
     "data": {
      "image/png": "[encoded data removed]",
      "text/plain": [
       "<Figure size 432x288 with 1 Axes>"
      ]
     },
     "metadata": {},
     "output_type": "display_data"
    }
   ],
   "source": [
    "annotation_df.loc[essentiality_df[essentiality_df['essentiality_me']=='e'].index]['annotation'].value_counts().plot.pie(autopct='%1.1f%%')\n",
    "plt.savefig('figures/essential_genes_pie.svg',format='SVG')\n",
    "#plt.tight_layout()"
   ]
  },
  {
   "cell_type": "code",
   "execution_count": 56,
   "metadata": {},
   "outputs": [
    {
     "data": {
      "text/plain": [
       "                                         126\n",
       "S_Amino_acids_and_related_molecules       62\n",
       "S_Coenzymes_and_prosthetic_groups         28\n",
       "S_Cell_wall                               25\n",
       "S_Lipids                                  23\n",
       "S_Nucleotides_and_nucleic_acids           22\n",
       "S_Carbohydrates_and_related_molecules      9\n",
       "S_Membrane_bioenergetics                   9\n",
       "S_Other_function                           3\n",
       "S_Transport                                2\n",
       "S_Phosphate_and_sulfur                     2\n",
       "Name: annotation, dtype: int64"
      ]
     },
     "execution_count": 56,
     "metadata": {},
     "output_type": "execute_result"
    }
   ],
   "source": [
    "annotation_df.loc[essentiality_df[essentiality_df['essentiality_me']=='e'].index]['annotation'].value_counts()"
   ]
  },
  {
   "cell_type": "code",
   "execution_count": 328,
   "metadata": {},
   "outputs": [
    {
     "data": {
      "text/html": [
       "<div>\n",
       "<style scoped>\n",
       "    .dataframe tbody tr th:only-of-type {\n",
       "        vertical-align: middle;\n",
       "    }\n",
       "\n",
       "    .dataframe tbody tr th {\n",
       "        vertical-align: top;\n",
       "    }\n",
       "\n",
       "    .dataframe thead th {\n",
       "        text-align: right;\n",
       "    }\n",
       "</style>\n",
       "<table border=\"1\" class=\"dataframe\">\n",
       "  <thead>\n",
       "    <tr style=\"text-align: right;\">\n",
       "      <th></th>\n",
       "      <th>annotation</th>\n",
       "    </tr>\n",
       "  </thead>\n",
       "  <tbody>\n",
       "    <tr>\n",
       "      <th>BSU00410</th>\n",
       "      <td>formation</td>\n",
       "    </tr>\n",
       "    <tr>\n",
       "      <th>BSU00990</th>\n",
       "      <td>formation</td>\n",
       "    </tr>\n",
       "    <tr>\n",
       "      <th>BSU01020</th>\n",
       "      <td>formation</td>\n",
       "    </tr>\n",
       "    <tr>\n",
       "      <th>BSU01030</th>\n",
       "      <td>formation</td>\n",
       "    </tr>\n",
       "    <tr>\n",
       "      <th>BSU01040</th>\n",
       "      <td>formation</td>\n",
       "    </tr>\n",
       "    <tr>\n",
       "      <th>...</th>\n",
       "      <td>...</td>\n",
       "    </tr>\n",
       "    <tr>\n",
       "      <th>BSU40500</th>\n",
       "      <td>formation</td>\n",
       "    </tr>\n",
       "    <tr>\n",
       "      <th>BSU40890</th>\n",
       "      <td>formation</td>\n",
       "    </tr>\n",
       "    <tr>\n",
       "      <th>BSU40910</th>\n",
       "      <td>formation</td>\n",
       "    </tr>\n",
       "    <tr>\n",
       "      <th>BSU41050</th>\n",
       "      <td>formation</td>\n",
       "    </tr>\n",
       "    <tr>\n",
       "      <th>BSU41060</th>\n",
       "      <td>formation</td>\n",
       "    </tr>\n",
       "  </tbody>\n",
       "</table>\n",
       "<p>66 rows × 1 columns</p>\n",
       "</div>"
      ],
      "text/plain": [
       "         annotation\n",
       "BSU00410  formation\n",
       "BSU00990  formation\n",
       "BSU01020  formation\n",
       "BSU01030  formation\n",
       "BSU01040  formation\n",
       "...             ...\n",
       "BSU40500  formation\n",
       "BSU40890  formation\n",
       "BSU40910  formation\n",
       "BSU41050  formation\n",
       "BSU41060  formation\n",
       "\n",
       "[66 rows x 1 columns]"
      ]
     },
     "execution_count": 328,
     "metadata": {},
     "output_type": "execute_result"
    }
   ],
   "source": [
    "annotation_df.loc[annotation_df['annotation']=='formation']"
   ]
  },
  {
   "cell_type": "markdown",
   "metadata": {},
   "source": [
    "#### Non-essential genes"
   ]
  },
  {
   "cell_type": "code",
   "execution_count": 319,
   "metadata": {},
   "outputs": [
    {
     "name": "stderr",
     "output_type": "stream",
     "text": [
      "/home/jt/UCSD/ME_modelling/ME_env/lib/python3.6/site-packages/ipykernel_launcher.py:1 \u001b[1;31mFutureWarning\u001b[0m: \n",
      "Passing list-likes to .loc or [] with any missing label will raise\n",
      "KeyError in the future, you can use .reindex() as an alternative.\n",
      "\n",
      "See the documentation here:\n",
      "https://pandas.pydata.org/pandas-docs/stable/user_guide/indexing.html#deprecate-loc-reindex-listlike\n"
     ]
    },
    {
     "data": {
      "image/png": "[encoded data removed]",
      "text/plain": [
       "<Figure size 432x288 with 1 Axes>"
      ]
     },
     "metadata": {},
     "output_type": "display_data"
    }
   ],
   "source": [
    "annotation_df.loc[essentiality_df[essentiality_df['essentiality_me']!='e'].index]['annotation'].value_counts().plot.pie(autopct='%1.1f%%')\n",
    "plt.savefig('figures/non_essential_genes_pie.svg',format='SVG')\n",
    "plt.tight_layout()"
   ]
  },
  {
   "cell_type": "markdown",
   "metadata": {},
   "source": [
    "#### Errors"
   ]
  },
  {
   "cell_type": "code",
   "execution_count": 307,
   "metadata": {},
   "outputs": [
    {
     "name": "stderr",
     "output_type": "stream",
     "text": [
      "/home/jt/UCSD/ME_modelling/ME_env/lib/python3.6/site-packages/ipykernel_launcher.py:1 \u001b[1;31mFutureWarning\u001b[0m: \n",
      "Passing list-likes to .loc or [] with any missing label will raise\n",
      "KeyError in the future, you can use .reindex() as an alternative.\n",
      "\n",
      "See the documentation here:\n",
      "https://pandas.pydata.org/pandas-docs/stable/user_guide/indexing.html#deprecate-loc-reindex-listlike\n"
     ]
    },
    {
     "data": {
      "text/plain": [
       "<matplotlib.axes._subplots.AxesSubplot at 0x7f90c162c828>"
      ]
     },
     "execution_count": 307,
     "metadata": {},
     "output_type": "execute_result"
    },
    {
     "data": {
      "image/png": "[encoded data removed]",
      "text/plain": [
       "<Figure size 432x288 with 1 Axes>"
      ]
     },
     "metadata": {},
     "output_type": "display_data"
    }
   ],
   "source": [
    "annotation_df.loc[essentiality_df[essentiality_df['essentiality_me']!=essentiality_df['true_essentiality']].index]['annotation'].value_counts().plot.pie()"
   ]
  },
  {
   "cell_type": "code",
   "execution_count": 309,
   "metadata": {},
   "outputs": [
    {
     "data": {
      "text/html": [
       "<div>\n",
       "<style scoped>\n",
       "    .dataframe tbody tr th:only-of-type {\n",
       "        vertical-align: middle;\n",
       "    }\n",
       "\n",
       "    .dataframe tbody tr th {\n",
       "        vertical-align: top;\n",
       "    }\n",
       "\n",
       "    .dataframe thead th {\n",
       "        text-align: right;\n",
       "    }\n",
       "</style>\n",
       "<table border=\"1\" class=\"dataframe\">\n",
       "  <thead>\n",
       "    <tr style=\"text-align: right;\">\n",
       "      <th></th>\n",
       "      <th>response_me</th>\n",
       "      <th>essentiality_me</th>\n",
       "      <th>response_m</th>\n",
       "      <th>essentiality_m</th>\n",
       "      <th>true_essentiality</th>\n",
       "    </tr>\n",
       "  </thead>\n",
       "  <tbody>\n",
       "    <tr>\n",
       "      <th>BSU00550</th>\n",
       "      <td>-1.0</td>\n",
       "      <td>e</td>\n",
       "      <td>NaN</td>\n",
       "      <td>NaN</td>\n",
       "      <td>0</td>\n",
       "    </tr>\n",
       "    <tr>\n",
       "      <th>BSU00500</th>\n",
       "      <td>-1.0</td>\n",
       "      <td>e</td>\n",
       "      <td>-1.0</td>\n",
       "      <td>e</td>\n",
       "      <td>0</td>\n",
       "    </tr>\n",
       "    <tr>\n",
       "      <th>BSU00750</th>\n",
       "      <td>-1.0</td>\n",
       "      <td>e</td>\n",
       "      <td>-1.0</td>\n",
       "      <td>e</td>\n",
       "      <td>0</td>\n",
       "    </tr>\n",
       "    <tr>\n",
       "      <th>BSU00740</th>\n",
       "      <td>-1.0</td>\n",
       "      <td>e</td>\n",
       "      <td>-1.0</td>\n",
       "      <td>e</td>\n",
       "      <td>0</td>\n",
       "    </tr>\n",
       "    <tr>\n",
       "      <th>BSU00760</th>\n",
       "      <td>-1.0</td>\n",
       "      <td>e</td>\n",
       "      <td>-1.0</td>\n",
       "      <td>e</td>\n",
       "      <td>0</td>\n",
       "    </tr>\n",
       "    <tr>\n",
       "      <th>...</th>\n",
       "      <td>...</td>\n",
       "      <td>...</td>\n",
       "      <td>...</td>\n",
       "      <td>...</td>\n",
       "      <td>...</td>\n",
       "    </tr>\n",
       "    <tr>\n",
       "      <th>BSU38520</th>\n",
       "      <td>-1.0</td>\n",
       "      <td>e</td>\n",
       "      <td>-1.0</td>\n",
       "      <td>e</td>\n",
       "      <td>0</td>\n",
       "    </tr>\n",
       "    <tr>\n",
       "      <th>BSU40500</th>\n",
       "      <td>-1.0</td>\n",
       "      <td>e</td>\n",
       "      <td>NaN</td>\n",
       "      <td>NaN</td>\n",
       "      <td>0</td>\n",
       "    </tr>\n",
       "    <tr>\n",
       "      <th>BSU41060</th>\n",
       "      <td>-1.0</td>\n",
       "      <td>e</td>\n",
       "      <td>NaN</td>\n",
       "      <td>NaN</td>\n",
       "      <td>0</td>\n",
       "    </tr>\n",
       "    <tr>\n",
       "      <th>BSU40910</th>\n",
       "      <td>-1.0</td>\n",
       "      <td>e</td>\n",
       "      <td>NaN</td>\n",
       "      <td>NaN</td>\n",
       "      <td>0</td>\n",
       "    </tr>\n",
       "    <tr>\n",
       "      <th>BSU40420</th>\n",
       "      <td>-1.0</td>\n",
       "      <td>e</td>\n",
       "      <td>-1.0</td>\n",
       "      <td>e</td>\n",
       "      <td>0</td>\n",
       "    </tr>\n",
       "  </tbody>\n",
       "</table>\n",
       "<p>218 rows × 5 columns</p>\n",
       "</div>"
      ],
      "text/plain": [
       "          response_me essentiality_me  response_m essentiality_m  \\\n",
       "BSU00550         -1.0               e         NaN            NaN   \n",
       "BSU00500         -1.0               e        -1.0              e   \n",
       "BSU00750         -1.0               e        -1.0              e   \n",
       "BSU00740         -1.0               e        -1.0              e   \n",
       "BSU00760         -1.0               e        -1.0              e   \n",
       "...               ...             ...         ...            ...   \n",
       "BSU38520         -1.0               e        -1.0              e   \n",
       "BSU40500         -1.0               e         NaN            NaN   \n",
       "BSU41060         -1.0               e         NaN            NaN   \n",
       "BSU40910         -1.0               e         NaN            NaN   \n",
       "BSU40420         -1.0               e        -1.0              e   \n",
       "\n",
       "         true_essentiality  \n",
       "BSU00550                 0  \n",
       "BSU00500                 0  \n",
       "BSU00750                 0  \n",
       "BSU00740                 0  \n",
       "BSU00760                 0  \n",
       "...                    ...  \n",
       "BSU38520                 0  \n",
       "BSU40500                 0  \n",
       "BSU41060                 0  \n",
       "BSU40910                 0  \n",
       "BSU40420                 0  \n",
       "\n",
       "[218 rows x 5 columns]"
      ]
     },
     "execution_count": 309,
     "metadata": {},
     "output_type": "execute_result"
    }
   ],
   "source": [
    "essentiality_df[essentiality_df['essentiality_me']!=essentiality_df['true_essentiality']]"
   ]
  },
  {
   "cell_type": "code",
   "execution_count": 82,
   "metadata": {},
   "outputs": [
    {
     "data": {
      "text/plain": [
       "response_me         -1\n",
       "essentiality_me      e\n",
       "response_m          -1\n",
       "essentiality_m       e\n",
       "true_essentiality    0\n",
       "Name: BSU22670, dtype: object"
      ]
     },
     "execution_count": 82,
     "metadata": {},
     "output_type": "execute_result"
    }
   ],
   "source": [
    "essentiality_df.loc['BSU22670']"
   ]
  },
  {
   "cell_type": "code",
   "execution_count": 360,
   "metadata": {},
   "outputs": [
    {
     "name": "stdout",
     "output_type": "stream",
     "text": [
      "BSU00460 CDPMEK 4-(cytidine 5'-diphospho)-2-C-methyl-D-erythritol kinase 4c2me_c + atp_c --> 2p4c2me_c + adp_c + h_c\n",
      "BSU01770 PGMT Phosphoglucomutase g1p_c <=> g6p_c\n",
      "BSU01770 PGAMT Phosphoglucosamine mutase gam1p_c <=> gam6p_c\n",
      "BSU16550 DXPRIi 1-deoxy-D-xylulose reductoisomerase dxyl5p_c + h_c + nadph_c --> 2me4p_c + nadp_c\n",
      "BSU17890 TKT1 Transketolase r5p_c + xu5p__D_c <=> g3p_c + s7p_c\n",
      "BSU17890 TKT2 Transketolase e4p_c + xu5p__D_c <=> f6p_c + g3p_c\n",
      "BSU22830 G3PD1ir Glycerol 3 phosphate dehydrogenase  NAD  dhap_c + h_c + nadh_c <=> glyc3p_c + nad_c\n",
      "BSU24270 DXPS 1-deoxy-D-xylulose 5-phosphate synthase g3p_c + h_c + pyr_c --> co2_c + dxyl5p_c\n",
      "BSU29190 PFK Phosphofructokinase atp_c + f6p_c --> adp_c + fdp_c + h_c\n",
      "BSU29190 PFK_2 Phosphofructokinase atp_c + tag6p__D_c --> adp_c + h_c + tagdp__D_c\n",
      "BSU33900 ENO Enolase 2pg_c <=> h2o_c + pep_c\n",
      "BSU35660 UAG2E UDP-N-acetylglucosamine 2-epimerase uacgam_c <=> uacmam_c\n",
      "BSU35660 UAG2EMA UDP-N-acetyl-D-glucosamine 2-epimerase (Hydrolysis) h2o_c + uacgam_c <=> acmana_c + h_c + udp_c\n"
     ]
    }
   ],
   "source": [
    "for gene in annotation_df.index:\n",
    "    if 'Carbohydrate' in annotation_df.loc[gene]['annotation'] and essentiality_df.loc[gene]['essentiality_me']=='e':\n",
    "        gene = bsub.genes.get_by_id(gene)\n",
    "        for r in gene.reactions:\n",
    "            print(gene.id,r.id, r.name,r.reaction)"
   ]
  },
  {
   "cell_type": "code",
   "execution_count": 363,
   "metadata": {},
   "outputs": [
    {
     "name": "stdout",
     "output_type": "stream",
     "text": [
      "BSU00750 ADCS 4-amino-4-deoxychorismate synthase chor_c + gln__L_c --> 4adcho_c + glu__L_c\n",
      "BSU00750 ANS Anthranilate synthase chor_c + gln__L_c --> anth_c + glu__L_c + h_c + pyr_c\n",
      "BSU01780 GF6PTA Glutamine-fructose-6-phosphate transaminase f6p_c + gln__L_c --> gam6p_c + glu__L_c\n",
      "BSU03150 SHKK Shikimate kinase atp_c + skm_c --> adp_c + h_c + skm5p_c\n",
      "BSU04640 ALAR Alanine racemase ala__L_c <=> ala__D_c\n",
      "BSU04740 PSP_L Phosphoserine phosphatase (L-serine) h2o_c + pser__L_c --> pi_c + ser__L_c\n",
      "BSU04740 PSP_D Phosphoserine phosphatase  D serine  h2o_c + pser__D_c --> pi_c + ser__D_c\n",
      "BSU10020 PSERT Phosphoserine transaminase 3php_c + glu__L_c <=> akg_c + pser__L_c\n",
      "BSU11190 AGPR N-acetyl-g-glutamyl-phosphate reductase acg5sa_c + nadp_c + pi_c <=> acg5p_c + h_c + nadph_c\n",
      "BSU11200 ACGS N-acetylglutamate synthase accoa_c + glu__L_c --> acglu_c + coa_c + h_c\n",
      "BSU11200 ORNTAC_1 Ornithine transacetylase acorn_c + glu__L_c <=> acglu_c + orn__L_c\n",
      "BSU11210 ACGK Acetylglutamate kinase acglu_c + atp_c --> acg5p_c + adp_c\n",
      "BSU11220 ACOTA Acetylornithine transaminase acorn_c + akg_c <=> acg5sa_c + glu__L_c\n",
      "BSU11250 OCBT_1 Ornithine carbamoyltransferase cbp_c + orn__L_c <=> citr__L_c + h_c + pi_c\n",
      "BSU11870 SHSL2 O succinylhomoserine lyase  H2S  h2s_c + suchms_c --> hcys__L_c + succ_c\n",
      "BSU11870 SLCYSS O-acetyl-L-serine sulfhydrylase acser_c + tsul_c --> ac_c + scys__L_c\n",
      "BSU11870 SHSL4r O succinylhomoserine lyase  elimination   reversible h2o_c + suchms_c --> 2obut_c + h_c + nh4_c + succ_c\n",
      "BSU11870 SHSL1 O-succinylhomoserine lyase (L-cysteine) cys__L_c + suchms_c --> cyst__L_c + h_c + succ_c\n",
      "BSU11870 SHSL3 O succinylhomoserine lyase  methanethiol  ch4s_c + suchms_c --> h_c + met__L_c + succ_c\n",
      "BSU13180 METS Methionine synthase 5mthf_c + hcys__L_c --> h_c + met__L_c + thf_c\n",
      "BSU14000 APTA1i Acetyl L L diaminopimelate aminotransferase acamoxm_c + glu__L_c --> 26dapime_c + akg_c\n",
      "BSU14180 APATi Tetrahydrodipicolinate acetyltransferase accoa_c + h2o_c + thdp_c --> acamoxm_c + coa_c\n",
      "BSU14190 ADPDA N6 acetyl LL 2 6 diaminoheptanedioate amidohydrolase 26dapime_c + h2o_c <=> 26dap_LL_c + ac_c\n",
      "BSU15570 PAPSR Phosphoadenylyl-sulfate reductase (thioredoxin) paps_c + trdrd_c --> 2.0 h_c + pap_c + so3_c + trdox_c\n",
      "BSU15570 APSR Adenosine 5'-phosphosulfate reductase; aps_c + trdrd_c --> amp_c + 2.0 h_c + so3_c + trdox_c\n",
      "BSU15720 FMETDF Formylmethionine deformylase fmet_c + h2o_c --> for_c + met__L_c\n",
      "BSU16750 ASAD Aspartate-semialdehyde dehydrogenase aspsa_c + nadp_c + pi_c <=> 4pasp_c + h_c + nadph_c\n",
      "BSU16770 DHDPS Dihydrodipicolinate synthase aspsa_c + pyr_c --> 23dhdp_c + 2.0 h2o_c + h_c\n",
      "BSU17460 GLNS Glutamine synthetase atp_c + glu__L_c + nh4_c --> adp_c + gln__L_c + h_c + pi_c\n",
      "BSU21870 DHAD1 Dihydroxy-acid dehydratase (2,3-dihydroxy-3-methylbutanoate) 23dhmb_c --> 3mob_c + h2o_c\n",
      "BSU21870 DHAD3 Dihydroxy acid dehydratase  2 3 dihydroxy 3 methylpentanoate  23dhmp_c --> 2o3mpt_c + h2o_c\n",
      "BSU21870 DHAD2 Dihydroxy-acid dehydratase (2,3-dihydroxy-3-methylpentanoate) 23dhmp_c --> 3mop_c + h2o_c\n",
      "BSU21910 HSST Homoserine O-succinyltransferase hom__L_c + succoa_c <=> coa_c + suchms_c\n",
      "BSU22370 ASPTA Aspartate transaminase akg_c + asp__L_c <=> glu__L_c + oaa_c\n",
      "BSU22490 DHDPRy Dihydrodipicolinate reductase (NADPH) 23dhdp_c + h_c + nadph_c --> nadp_c + thdp_c\n",
      "BSU22600 PSCVT 3-phosphoshikimate 1-carboxyvinyltransferase pep_c + skm5p_c <=> 3psme_c + pi_c\n",
      "BSU22610 PPND Prephenate dehydrogenase nad_c + pphn_c --> 34hpp_c + co2_c + nadh_c\n",
      "BSU22630 TRPS1 Tryptophan synthase (indoleglycerol phosphate) 3ig3p_c + ser__L_c --> g3p_c + h2o_c + trp__L_c\n",
      "BSU22640 TRPS1 Tryptophan synthase (indoleglycerol phosphate) 3ig3p_c + ser__L_c --> g3p_c + h2o_c + trp__L_c\n",
      "BSU22650 PRAIi Phosphoribosylanthranilate isomerase (irreversible) pran_c <=> 2cpr5p_c\n",
      "BSU22660 IGPS Indole-3-glycerol-phosphate synthase 2cpr5p_c + h_c --> 3ig3p_c + co2_c + h2o_c\n",
      "BSU22670 ANPRT Anthranilate phosphoribosyltransferase anth_c + prpp_c --> ppi_c + pran_c\n",
      "BSU22700 DHQS 3-dehydroquinate synthase 2dda7p_c --> 3dhq_c + pi_c\n",
      "BSU22710 CHORS Chorismate synthase 3psme_c --> chor_c + pi_c\n",
      "BSU23070 PGCD Phosphoglycerate dehydrogenase 3pg_c + nad_c <=> 3php_c + h_c + nadh_c\n",
      "BSU23080 DHQTi 3-dehydroquinate dehydratase, irreversible 3dhq_c <=> 3dhsk_c + h2o_c\n",
      "BSU23380 DAPDC Diaminopimelate decarboxylase 26dap__M_c + h_c --> co2_c + lys__L_c\n",
      "BSU24080 VALDHr Valine dehydrogenase h2o_c + nad_c + val__L_c <=> 3mob_c + h_c + nadh_c + nh4_c\n",
      "BSU24080 LLEUDr L leucine dehydrogenase h2o_c + leu__L_c + nad_c <=> 4mop_c + h_c + nadh_c + nh4_c\n",
      "BSU24080 ILEDHr Isoleucine dehydrogenase h2o_c + ile__L_c + nad_c <=> 2o3mpt_c + h_c + nadh_c + nh4_c\n",
      "BSU25660 SHK3Dr Shikimate dehydrogenase 3dhsk_c + h_c + nadph_c <=> nadp_c + skm_c\n",
      "BSU27900 PPNDH Prephenate dehydratase h_c + pphn_c --> co2_c + h2o_c + phpyr_c\n",
      "BSU28250 IPPMIb 2-isopropylmalate hydratase 2ippm_c + h2o_c <=> 3c3hmp_c\n",
      "BSU28250 IPPMIa 3-isopropylmalate dehydratase 3c2hmp_c <=> 2ippm_c + h2o_c\n",
      "BSU28260 IPPMIb 2-isopropylmalate hydratase 2ippm_c + h2o_c <=> 3c3hmp_c\n",
      "BSU28260 IPPMIa 3-isopropylmalate dehydratase 3c2hmp_c <=> 2ippm_c + h2o_c\n",
      "BSU28270 IPMD 3-isopropylmalate dehydrogenase 3c2hmp_c + nad_c --> 3c4mop_c + h_c + nadh_c\n",
      "BSU28280 IPPS 2-isopropylmalate synthase 3mob_c + accoa_c + h2o_c --> 3c3hmp_c + coa_c + h_c\n",
      "BSU28290 KARA1 Ketol-acid reductoisomerase (2,3-dihydroxy-3-methylbutanoate) 23dhmb_c + nadp_c <=> alac__S_c + h_c + nadph_c\n",
      "BSU28290 KARA2 Ketol-acid reductoisomerase (2-Acetolactate) 2ahbut_c + h_c + nadph_c <=> 23dhmp_c + nadp_c\n",
      "BSU29440 ARGSL Argininosuccinate lyase argsuc_c <=> arg__L_c + fum_c\n",
      "BSU29450 ARGSS Argininosuccinate synthase asp__L_c + atp_c + citr__L_c <=> amp_c + argsuc_c + h_c + ppi_c\n",
      "BSU29620 HISTP Histidinol-phosphatase h2o_c + hisp_c --> histd_c + pi_c\n",
      "BSU29750 CHORM Chorismate mutase chor_c --> pphn_c\n",
      "BSU29750 DDPA 3-deoxy-D-arabino-heptulosonate 7-phosphate synthetase e4p_c + h2o_c + pep_c --> 2dda7p_c + pi_c\n",
      "BSU31400 ALATA_L L-alanine transaminase akg_c + ala__L_c <=> glu__L_c + pyr_c\n",
      "BSU32170 DAPE Diaminopimelate epimerase 26dap_LL_c <=> 26dap__M_c\n",
      "BSU32240 HSK Homoserine kinase atp_c + hom__L_c --> adp_c + h_c + phom_c\n",
      "BSU32250 THRS Threonine synthase h2o_c + phom_c --> pi_c + thr__L_c\n",
      "BSU32260 HSDy Homoserine dehydrogenase (NADPH) hom__L_c + nadp_c <=> aspsa_c + h_c + nadph_c\n",
      "BSU34860 PRATPP Phosphoribosyl-ATP pyrophosphatase h2o_c + prbatp_c --> h_c + ppi_c + prbamp_c\n",
      "BSU34860 PRAMPC_1 Phosphoribosyl AMP cyclohydrolase h2o_c + h_c + prbamp_c --> prfp_c\n",
      "BSU34870 IG3PS_1 Imidazole glycerol 3 phosphate synthase gln__L_c + prlp_c --> aicar_c + eig3p_c + glu__L_c + 2.0 h_c\n",
      "BSU34880 PRMICI 1-(5-phosphoribosyl)-5-[(5-phosphoribosylamino)methylideneamino)imidazole-4-carboxamide isomerase prfp_c <=> prlp_c\n",
      "BSU34900 IGPDH_1 Imidazoleglycerol phosphate dehydratase eig3p_c + h_c --> h2o_c + imacp_c\n",
      "BSU34910 HISTD Histidinol dehydrogenase h2o_c + histd_c + 2.0 nad_c --> 3.0 h_c + his__L_c + 2.0 nadh_c\n",
      "BSU34920 ATPPRT ATP phosphoribosyltransferase atp_c + prpp_c <=> ppi_c + prbatp_c\n",
      "BSU36900 GHMT2r Glycine hydroxymethyltransferase, reversible ser__L_c + thf_c <=> gly_c + h2o_c + mlthf_c\n"
     ]
    }
   ],
   "source": [
    "for gene in annotation_df.index:\n",
    "    if 'Amino' in annotation_df.loc[gene]['annotation'] and essentiality_df.loc[gene]['essentiality_me']=='e':\n",
    "        gene = bsub.genes.get_by_id(gene)\n",
    "        for r in gene.reactions:\n",
    "            print(gene.id,r.id, r.name,r.reaction)"
   ]
  },
  {
   "cell_type": "code",
   "execution_count": 84,
   "metadata": {},
   "outputs": [
    {
     "data": {
      "text/html": [
       "<div>\n",
       "<style scoped>\n",
       "    .dataframe tbody tr th:only-of-type {\n",
       "        vertical-align: middle;\n",
       "    }\n",
       "\n",
       "    .dataframe tbody tr th {\n",
       "        vertical-align: top;\n",
       "    }\n",
       "\n",
       "    .dataframe thead th {\n",
       "        text-align: right;\n",
       "    }\n",
       "</style>\n",
       "<table border=\"1\" class=\"dataframe\">\n",
       "  <thead>\n",
       "    <tr style=\"text-align: right;\">\n",
       "      <th></th>\n",
       "      <th>name</th>\n",
       "      <th>reaction</th>\n",
       "      <th>lower_bound</th>\n",
       "      <th>upper_bound</th>\n",
       "      <th>flux</th>\n",
       "    </tr>\n",
       "    <tr>\n",
       "      <th>id</th>\n",
       "      <th></th>\n",
       "      <th></th>\n",
       "      <th></th>\n",
       "      <th></th>\n",
       "      <th></th>\n",
       "    </tr>\n",
       "  </thead>\n",
       "  <tbody>\n",
       "    <tr>\n",
       "      <th>EX_co2_e</th>\n",
       "      <td></td>\n",
       "      <td>co2_e &lt;=&gt;</td>\n",
       "      <td>-999999.0</td>\n",
       "      <td>999999.0</td>\n",
       "      <td>6.044420e+00</td>\n",
       "    </tr>\n",
       "    <tr>\n",
       "      <th>EX_cobalt2_e</th>\n",
       "      <td></td>\n",
       "      <td>cobalt2_e &lt;=&gt;</td>\n",
       "      <td>-1000.0</td>\n",
       "      <td>0.0</td>\n",
       "      <td>-4.854562e-08</td>\n",
       "    </tr>\n",
       "    <tr>\n",
       "      <th>EX_glc__D_e</th>\n",
       "      <td></td>\n",
       "      <td>glc__D_e &lt;=&gt;</td>\n",
       "      <td>-1.7</td>\n",
       "      <td>999999.0</td>\n",
       "      <td>-1.699990e+00</td>\n",
       "    </tr>\n",
       "    <tr>\n",
       "      <th>EX_h2o_e</th>\n",
       "      <td></td>\n",
       "      <td>h2o_e &lt;=&gt;</td>\n",
       "      <td>-999999.0</td>\n",
       "      <td>999999.0</td>\n",
       "      <td>8.428708e+00</td>\n",
       "    </tr>\n",
       "    <tr>\n",
       "      <th>EX_h_e</th>\n",
       "      <td></td>\n",
       "      <td>h_e &lt;=&gt;</td>\n",
       "      <td>-999999.0</td>\n",
       "      <td>999999.0</td>\n",
       "      <td>7.870135e-01</td>\n",
       "    </tr>\n",
       "    <tr>\n",
       "      <th>EX_k_e</th>\n",
       "      <td></td>\n",
       "      <td>k_e &lt;=&gt;</td>\n",
       "      <td>-999999.0</td>\n",
       "      <td>999999.0</td>\n",
       "      <td>-1.808661e-07</td>\n",
       "    </tr>\n",
       "    <tr>\n",
       "      <th>EX_mg2_e</th>\n",
       "      <td></td>\n",
       "      <td>mg2_e &lt;=&gt;</td>\n",
       "      <td>-999999.0</td>\n",
       "      <td>999999.0</td>\n",
       "      <td>-1.309331e-03</td>\n",
       "    </tr>\n",
       "    <tr>\n",
       "      <th>EX_mn2_e</th>\n",
       "      <td></td>\n",
       "      <td>mn2_e &lt;=&gt;</td>\n",
       "      <td>-1000.0</td>\n",
       "      <td>0.0</td>\n",
       "      <td>-2.372348e-06</td>\n",
       "    </tr>\n",
       "    <tr>\n",
       "      <th>EX_nh4_e</th>\n",
       "      <td></td>\n",
       "      <td>nh4_e &lt;=&gt;</td>\n",
       "      <td>-5.0</td>\n",
       "      <td>999999.0</td>\n",
       "      <td>-9.474726e-01</td>\n",
       "    </tr>\n",
       "    <tr>\n",
       "      <th>EX_o2_e</th>\n",
       "      <td></td>\n",
       "      <td>o2_e &lt;--</td>\n",
       "      <td>-999999.0</td>\n",
       "      <td>0.0</td>\n",
       "      <td>-5.795471e+00</td>\n",
       "    </tr>\n",
       "    <tr>\n",
       "      <th>EX_pi_e</th>\n",
       "      <td></td>\n",
       "      <td>pi_e &lt;=&gt;</td>\n",
       "      <td>-5.0</td>\n",
       "      <td>999999.0</td>\n",
       "      <td>-1.071532e-01</td>\n",
       "    </tr>\n",
       "    <tr>\n",
       "      <th>EX_so4_e</th>\n",
       "      <td></td>\n",
       "      <td>so4_e &lt;=&gt;</td>\n",
       "      <td>-5.0</td>\n",
       "      <td>999999.0</td>\n",
       "      <td>-1.696117e-02</td>\n",
       "    </tr>\n",
       "    <tr>\n",
       "      <th>EX_zn2_e</th>\n",
       "      <td></td>\n",
       "      <td>zn2_e &lt;=&gt;</td>\n",
       "      <td>-1000.0</td>\n",
       "      <td>0.0</td>\n",
       "      <td>-1.834611e-07</td>\n",
       "    </tr>\n",
       "    <tr>\n",
       "      <th>EX_cbl1_e</th>\n",
       "      <td></td>\n",
       "      <td>cbl1_e &lt;=&gt;</td>\n",
       "      <td>-1000.0</td>\n",
       "      <td>1000.0</td>\n",
       "      <td>-3.363663e-09</td>\n",
       "    </tr>\n",
       "    <tr>\n",
       "      <th>EX_4fe4s_e</th>\n",
       "      <td></td>\n",
       "      <td>4fe4s_e &lt;=&gt;</td>\n",
       "      <td>-1000.0</td>\n",
       "      <td>0.0</td>\n",
       "      <td>-2.390395e-07</td>\n",
       "    </tr>\n",
       "    <tr>\n",
       "      <th>EX_pydx5p_e</th>\n",
       "      <td></td>\n",
       "      <td>pydx5p_e &lt;=&gt;</td>\n",
       "      <td>-1000.0</td>\n",
       "      <td>0.0</td>\n",
       "      <td>-1.540987e-07</td>\n",
       "    </tr>\n",
       "    <tr>\n",
       "      <th>EX_thmpp_e</th>\n",
       "      <td></td>\n",
       "      <td>thmpp_e &lt;=&gt;</td>\n",
       "      <td>-1000.0</td>\n",
       "      <td>0.0</td>\n",
       "      <td>-6.740399e-09</td>\n",
       "    </tr>\n",
       "  </tbody>\n",
       "</table>\n",
       "</div>"
      ],
      "text/plain": [
       "             name        reaction  lower_bound  upper_bound          flux\n",
       "id                                                                       \n",
       "EX_co2_e               co2_e <=>     -999999.0     999999.0  6.044420e+00\n",
       "EX_cobalt2_e       cobalt2_e <=>       -1000.0          0.0 -4.854562e-08\n",
       "EX_glc__D_e         glc__D_e <=>          -1.7     999999.0 -1.699990e+00\n",
       "EX_h2o_e               h2o_e <=>     -999999.0     999999.0  8.428708e+00\n",
       "EX_h_e                   h_e <=>     -999999.0     999999.0  7.870135e-01\n",
       "EX_k_e                   k_e <=>     -999999.0     999999.0 -1.808661e-07\n",
       "EX_mg2_e               mg2_e <=>     -999999.0     999999.0 -1.309331e-03\n",
       "EX_mn2_e               mn2_e <=>       -1000.0          0.0 -2.372348e-06\n",
       "EX_nh4_e               nh4_e <=>          -5.0     999999.0 -9.474726e-01\n",
       "EX_o2_e                 o2_e <--     -999999.0          0.0 -5.795471e+00\n",
       "EX_pi_e                 pi_e <=>          -5.0     999999.0 -1.071532e-01\n",
       "EX_so4_e               so4_e <=>          -5.0     999999.0 -1.696117e-02\n",
       "EX_zn2_e               zn2_e <=>       -1000.0          0.0 -1.834611e-07\n",
       "EX_cbl1_e             cbl1_e <=>       -1000.0       1000.0 -3.363663e-09\n",
       "EX_4fe4s_e           4fe4s_e <=>       -1000.0          0.0 -2.390395e-07\n",
       "EX_pydx5p_e         pydx5p_e <=>       -1000.0          0.0 -1.540987e-07\n",
       "EX_thmpp_e           thmpp_e <=>       -1000.0          0.0 -6.740399e-09"
      ]
     },
     "execution_count": 84,
     "metadata": {},
     "output_type": "execute_result"
    }
   ],
   "source": [
    "exchange_single_model(me)"
   ]
  },
  {
   "cell_type": "code",
   "execution_count": 85,
   "metadata": {},
   "outputs": [
    {
     "data": {
      "text/plain": [
       "0.1017141342163086"
      ]
     },
     "execution_count": 85,
     "metadata": {},
     "output_type": "execute_result"
    }
   ],
   "source": [
    "me.solution.f"
   ]
  },
  {
   "cell_type": "code",
   "execution_count": null,
   "metadata": {},
   "outputs": [],
   "source": []
  }
 ],
 "metadata": {
  "kernelspec": {
   "display_name": "me_modeling",
   "language": "python",
   "name": "me_modeling"
  },
  "language_info": {
   "codemirror_mode": {
    "name": "ipython",
    "version": 3
   },
   "file_extension": ".py",
   "mimetype": "text/x-python",
   "name": "python",
   "nbconvert_exporter": "python",
   "pygments_lexer": "ipython3",
   "version": "3.6.8"
  }
 },
 "nbformat": 4,
 "nbformat_minor": 4
}
