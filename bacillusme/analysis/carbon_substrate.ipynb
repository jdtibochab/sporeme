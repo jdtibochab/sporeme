{
 "cells": [
  {
   "cell_type": "markdown",
   "metadata": {},
   "source": [
    "# Carbon substrate"
   ]
  },
  {
   "cell_type": "code",
   "execution_count": 13,
   "metadata": {
    "scrolled": true
   },
   "outputs": [
    {
     "name": "stdout",
     "output_type": "stream",
     "text": [
      "The autoreload extension is already loaded. To reload it, use:\n",
      "  %reload_ext autoreload\n",
      "/home/jt/Downloads/cobrapy-0.5.11/cobra/__init__.py\n",
      "/home/jt/UCSD/cobrame-master/cobrame/__init__.py\n",
      "/home/jt/UCSD/bacillusme-master/bacillusme/__init__.py\n"
     ]
    },
    {
     "name": "stderr",
     "output_type": "stream",
     "text": [
      "[autoreload of cobrame.core.reaction failed: Traceback (most recent call last):\n",
      "  File \"/home/jt/UCSD/ME_modelling/ME_env/lib/python3.6/site-packages/IPython/extensions/autoreload.py\", line 245, in check\n",
      "    superreload(m, reload, self.old_objects)\n",
      "  File \"/home/jt/UCSD/ME_modelling/ME_env/lib/python3.6/site-packages/IPython/extensions/autoreload.py\", line 394, in superreload\n",
      "    module = reload(module)\n",
      "  File \"/home/jt/UCSD/ME_modelling/ME_env/lib/python3.6/imp.py\", line 315, in reload\n",
      "    return importlib.reload(module)\n",
      "  File \"/home/jt/UCSD/ME_modelling/ME_env/lib/python3.6/importlib/__init__.py\", line 166, in reload\n",
      "    _bootstrap._exec(spec, module)\n",
      "  File \"<frozen importlib._bootstrap>\", line 618, in _exec\n",
      "  File \"<frozen importlib._bootstrap_external>\", line 674, in exec_module\n",
      "  File \"<frozen importlib._bootstrap_external>\", line 781, in get_code\n",
      "  File \"<frozen importlib._bootstrap_external>\", line 741, in source_to_code\n",
      "  File \"<frozen importlib._bootstrap>\", line 219, in _call_with_frames_removed\n",
      "  File \"/home/jt/UCSD/cobrame-master/cobrame/core/reaction.py\", line 317\n",
      "    self.add_metabolites(object_stoichiometry)\n",
      "    ^\n",
      "IndentationError: unexpected indent\n",
      "]\n"
     ]
    }
   ],
   "source": [
    "from __future__ import print_function, division, absolute_import\n",
    "\n",
    "import sys\n",
    "\n",
    "import qminospy\n",
    "from qminospy.me2 import ME_NLP\n",
    "\n",
    "# python imports\n",
    "from copy import copy\n",
    "import re\n",
    "from os.path import join\n",
    "from collections import defaultdict\n",
    "import pickle\n",
    "\n",
    "# third party imports\n",
    "import pandas\n",
    "import cobra\n",
    "from tqdm import tqdm\n",
    "import numpy as np\n",
    "import scipy\n",
    "\n",
    "# COBRAme\n",
    "import cobrame\n",
    "from cobrame.util import building, mu, me_model_interface\n",
    "from cobrame.io.json import save_json_me_model, save_reduced_json_me_model\n",
    "\n",
    "# ECOLIme\n",
    "import bacillusme\n",
    "from bacillusme import (transcription, translation, flat_files, generics, formulas, compartments)\n",
    "from bacillusme.util.helper_functions import *\n",
    "from bacillusme.analysis import sensitivity as ss\n",
    "\n",
    "\n",
    "import matplotlib.pyplot as plt\n",
    "plt.rcParams['svg.fonttype'] = 'none'\n",
    "\n",
    "%load_ext autoreload\n",
    "%autoreload 2\n",
    "print(cobra.__file__)\n",
    "print(cobrame.__file__)\n",
    "print(bacillusme.__file__)"
   ]
  },
  {
   "cell_type": "code",
   "execution_count": 14,
   "metadata": {
    "scrolled": true
   },
   "outputs": [
    {
     "data": {
      "text/plain": [
       "<Solution 0.12 at 0x7fc5d7031278>"
      ]
     },
     "execution_count": 14,
     "metadata": {},
     "output_type": "execute_result"
    }
   ],
   "source": [
    "eco_directory = join(flat_files.ecoli_files_dir, 'iJO1366.json')\n",
    "ijo_directory = join(flat_files.ecoli_files_dir, 'iYO844.json')\n",
    "uni_directory = join(flat_files.ecoli_files_dir, 'universal_model.json')\n",
    "ibsu_directory = join(flat_files.ecoli_files_dir, 'iBsu1103.json') \n",
    "\n",
    "eco = cobra.io.load_json_model(eco_directory)\n",
    "bsub = cobra.io.load_json_model(ijo_directory)\n",
    "uni = cobra.io.load_json_model(uni_directory)\n",
    "ibsu = cobra.io.load_json_model(ibsu_directory)\n",
    "\n",
    "bsub.optimize()"
   ]
  },
  {
   "cell_type": "code",
   "execution_count": 3,
   "metadata": {
    "scrolled": true
   },
   "outputs": [],
   "source": [
    "with open('../me_models/solution.pickle', 'rb') as solution:\n",
    "    me = pickle.load(solution)\n",
    "glc_uptake = me.reactions.get_by_id('EX_glc__D_e').lower_bound\n"
   ]
  },
  {
   "cell_type": "code",
   "execution_count": 4,
   "metadata": {},
   "outputs": [
    {
     "data": {
      "text/html": [
       "<div>\n",
       "<style scoped>\n",
       "    .dataframe tbody tr th:only-of-type {\n",
       "        vertical-align: middle;\n",
       "    }\n",
       "\n",
       "    .dataframe tbody tr th {\n",
       "        vertical-align: top;\n",
       "    }\n",
       "\n",
       "    .dataframe thead th {\n",
       "        text-align: right;\n",
       "    }\n",
       "</style>\n",
       "<table border=\"1\" class=\"dataframe\">\n",
       "  <thead>\n",
       "    <tr style=\"text-align: right;\">\n",
       "      <th></th>\n",
       "      <th>met_id</th>\n",
       "      <th>exp_growth</th>\n",
       "    </tr>\n",
       "    <tr>\n",
       "      <th>met_name</th>\n",
       "      <th></th>\n",
       "      <th></th>\n",
       "    </tr>\n",
       "  </thead>\n",
       "  <tbody>\n",
       "    <tr>\n",
       "      <th>L-Leucine</th>\n",
       "      <td>leu-L</td>\n",
       "      <td>0.0</td>\n",
       "    </tr>\n",
       "    <tr>\n",
       "      <th>L-Lysine</th>\n",
       "      <td>lys-L</td>\n",
       "      <td>0.0</td>\n",
       "    </tr>\n",
       "    <tr>\n",
       "      <th>L-Methionine</th>\n",
       "      <td>met-L</td>\n",
       "      <td>0.0</td>\n",
       "    </tr>\n",
       "    <tr>\n",
       "      <th>L-Phenylalanine</th>\n",
       "      <td>phe-L</td>\n",
       "      <td>0.0</td>\n",
       "    </tr>\n",
       "    <tr>\n",
       "      <th>D,L-Carnitine</th>\n",
       "      <td>crn</td>\n",
       "      <td>0.0</td>\n",
       "    </tr>\n",
       "    <tr>\n",
       "      <th>...</th>\n",
       "      <td>...</td>\n",
       "      <td>...</td>\n",
       "    </tr>\n",
       "    <tr>\n",
       "      <th>Dihydroxy-Acetone</th>\n",
       "      <td>dha</td>\n",
       "      <td>1.0</td>\n",
       "    </tr>\n",
       "    <tr>\n",
       "      <th>Glycyl-L-Aspartic Acid</th>\n",
       "      <td>gly-asp-L</td>\n",
       "      <td>1.0</td>\n",
       "    </tr>\n",
       "    <tr>\n",
       "      <th>Glycyl-L-Glutamic Acid</th>\n",
       "      <td>gly-glu-L</td>\n",
       "      <td>1.0</td>\n",
       "    </tr>\n",
       "    <tr>\n",
       "      <th>L-Alanyl-Glycine</th>\n",
       "      <td>alagly-L</td>\n",
       "      <td>1.0</td>\n",
       "    </tr>\n",
       "    <tr>\n",
       "      <th>Glycyl-L-Proline</th>\n",
       "      <td>gly-pro-L</td>\n",
       "      <td>1.0</td>\n",
       "    </tr>\n",
       "  </tbody>\n",
       "</table>\n",
       "<p>87 rows × 2 columns</p>\n",
       "</div>"
      ],
      "text/plain": [
       "                           met_id  exp_growth\n",
       "met_name                                     \n",
       "L-Leucine                   leu-L         0.0\n",
       "L-Lysine                    lys-L         0.0\n",
       "L-Methionine                met-L         0.0\n",
       "L-Phenylalanine             phe-L         0.0\n",
       "D,L-Carnitine                 crn         0.0\n",
       "...                           ...         ...\n",
       "Dihydroxy-Acetone             dha         1.0\n",
       "Glycyl-L-Aspartic Acid  gly-asp-L         1.0\n",
       "Glycyl-L-Glutamic Acid  gly-glu-L         1.0\n",
       "L-Alanyl-Glycine         alagly-L         1.0\n",
       "Glycyl-L-Proline        gly-pro-L         1.0\n",
       "\n",
       "[87 rows x 2 columns]"
      ]
     },
     "execution_count": 4,
     "metadata": {},
     "output_type": "execute_result"
    }
   ],
   "source": [
    "## biolog\n",
    "\n",
    "biolog_df = pd.read_excel('biolog_plates.xlsx',sheet_name='C',index_col=0).dropna().drop_duplicates()\n",
    "biolog_df"
   ]
  },
  {
   "cell_type": "code",
   "execution_count": 45,
   "metadata": {},
   "outputs": [
    {
     "name": "stdout",
     "output_type": "stream",
     "text": [
      "( LEUt2r_REV_BSU29600-MONOMER 0 999999.0 ) \t 4.27350427350427e-6*mu BSU29600-MONOMER + h_c + leu__L_c <=> h_e + leu__L_e\n",
      "( LEUt2r_REV_BSU26690-MONOMER 0 999999.0 ) \t 4.27350427350427e-6*mu BSU26690-MONOMER + h_c + leu__L_c <=> h_e + leu__L_e\n",
      "( EX_leu__L_e 0.0 999999.0 ) \t leu__L_e --> \n",
      "( LEUt2r_FWD_BSU29600-MONOMER 0 999999.0 ) \t 4.27350427350427e-6*mu BSU29600-MONOMER + h_e + leu__L_e <=> h_c + leu__L_c\n",
      "( LEUt2r_FWD_BSU26690-MONOMER 0 999999.0 ) \t 4.27350427350427e-6*mu BSU26690-MONOMER + h_e + leu__L_e <=> h_c + leu__L_c\n"
     ]
    },
    {
     "data": {
      "text/plain": [
       "[<MetabolicReaction LEUt2r_REV_BSU29600-MONOMER at 0x7fc5d30be550>,\n",
       " <MetabolicReaction LEUt2r_REV_BSU26690-MONOMER at 0x7fc5d30be358>,\n",
       " <MEReaction EX_leu__L_e at 0x7fc5d831ec88>,\n",
       " <MetabolicReaction LEUt2r_FWD_BSU29600-MONOMER at 0x7fc5d30be5c0>,\n",
       " <MetabolicReaction LEUt2r_FWD_BSU26690-MONOMER at 0x7fc5d30be4e0>]"
      ]
     },
     "execution_count": 45,
     "metadata": {},
     "output_type": "execute_result"
    }
   ],
   "source": [
    "get_reactions_of_met(me,'leu__L_e')"
   ]
  },
  {
   "cell_type": "code",
   "execution_count": 5,
   "metadata": {},
   "outputs": [],
   "source": [
    "met_list = []\n",
    "met_dict = {}\n",
    "uptake_rates = {}\n",
    "for met_name,entry in biolog_df.iterrows():\n",
    "    met_id = entry['met_id']\n",
    "    old_id = met_id\n",
    "    if type(met_id) != str:\n",
    "        continue\n",
    "        \n",
    "    exp_growth = entry['exp_growth']\n",
    "    met_id = re.sub(r'-([D,L])','__'+r'\\1',met_id)\n",
    "    met_id = met_id.replace('-','_') + '_e'\n",
    "    if hasattr(bsub.metabolites,met_id):\n",
    "        met_list.append(met_id)\n",
    "        met_dict[met_id] = old_id\n",
    "        \n",
    "        met = me.metabolites.get_by_id(met_id)\n",
    "        formula = me.metabolites.get_by_id(met_id).formula\n",
    "        C_no = formula[formula.index('C')+1]\n",
    "        C_no = float(C_no) if re.match('[0-9]',C_no) else 1.0\n",
    "        uptake_rates[met_id] = glc_uptake * (6/C_no) # Ensure same C-mol uptake"
   ]
  },
  {
   "cell_type": "code",
   "execution_count": 222,
   "metadata": {
    "scrolled": true
   },
   "outputs": [
    {
     "name": "stderr",
     "output_type": "stream",
     "text": [
      "\n",
      "\n",
      "  0%|          | 0/86 [00:00<?, ?it/s]\u001b[A\u001b[A\n",
      "\n",
      "  1%|          | 1/86 [00:00<00:09,  9.18it/s]\u001b[A\u001b[A\n",
      "\n",
      "  3%|▎         | 3/86 [00:00<00:08,  9.83it/s]\u001b[A\u001b[A\n",
      "\n",
      "  6%|▌         | 5/86 [00:00<00:07, 10.41it/s]\u001b[A\u001b[A\n",
      "\n",
      "  8%|▊         | 7/86 [00:00<00:07, 10.55it/s]\u001b[A\u001b[A\n",
      "\n",
      " 10%|█         | 9/86 [00:00<00:07, 10.57it/s]\u001b[A\u001b[A\n",
      "\n",
      " 13%|█▎        | 11/86 [00:00<00:07, 10.71it/s]\u001b[A\u001b[A\n",
      "\n",
      " 15%|█▌        | 13/86 [00:01<00:06, 11.41it/s]\u001b[A\u001b[A\n",
      "\n",
      " 17%|█▋        | 15/86 [00:01<00:05, 11.97it/s]\u001b[A\u001b[A\n",
      "\n",
      " 20%|█▉        | 17/86 [00:01<00:05, 12.37it/s]\u001b[A\u001b[A\n",
      "\n",
      " 22%|██▏       | 19/86 [00:01<00:05, 12.66it/s]\u001b[A\u001b[A\n",
      "\n",
      " 24%|██▍       | 21/86 [00:01<00:05, 12.86it/s]\u001b[A\u001b[A\n",
      "\n",
      " 27%|██▋       | 23/86 [00:01<00:04, 12.92it/s]\u001b[A\u001b[A\n",
      "\n",
      " 29%|██▉       | 25/86 [00:02<00:04, 13.17it/s]\u001b[A\u001b[A\n",
      "\n",
      " 31%|███▏      | 27/86 [00:02<00:04, 13.38it/s]\u001b[A\u001b[A\n",
      "\n",
      " 34%|███▎      | 29/86 [00:02<00:04, 13.29it/s]\u001b[A\u001b[A\n",
      "\n",
      " 36%|███▌      | 31/86 [00:02<00:04, 13.40it/s]\u001b[A\u001b[A\n",
      "\n",
      " 38%|███▊      | 33/86 [00:02<00:03, 13.45it/s]\u001b[A\u001b[A\n",
      "\n",
      " 41%|████      | 35/86 [00:02<00:03, 13.40it/s]\u001b[A\u001b[A\n",
      "\n",
      " 43%|████▎     | 37/86 [00:02<00:03, 13.49it/s]\u001b[A\u001b[A\n",
      "\n",
      " 45%|████▌     | 39/86 [00:03<00:03, 13.44it/s]\u001b[A\u001b[A\n",
      "\n",
      " 48%|████▊     | 41/86 [00:03<00:03, 13.53it/s]\u001b[A\u001b[A\n",
      "\n",
      " 50%|█████     | 43/86 [00:03<00:03, 13.57it/s]\u001b[A\u001b[A\n",
      "\n",
      " 52%|█████▏    | 45/86 [00:03<00:03, 13.19it/s]\u001b[A\u001b[A\n",
      "\n",
      " 55%|█████▍    | 47/86 [00:03<00:02, 13.17it/s]\u001b[A\u001b[A\n",
      "\n",
      " 57%|█████▋    | 49/86 [00:03<00:02, 13.26it/s]\u001b[A\u001b[A\n",
      "\n",
      " 59%|█████▉    | 51/86 [00:03<00:02, 13.42it/s]\u001b[A\u001b[A\n",
      "\n",
      " 62%|██████▏   | 53/86 [00:04<00:02, 13.46it/s]\u001b[A\u001b[A\n",
      "\n",
      " 64%|██████▍   | 55/86 [00:04<00:02, 12.85it/s]\u001b[A\u001b[A\n",
      "\n",
      " 66%|██████▋   | 57/86 [00:04<00:02, 13.02it/s]\u001b[A\u001b[A\n",
      "\n",
      " 69%|██████▊   | 59/86 [00:04<00:02, 13.14it/s]\u001b[A\u001b[A\n",
      "\n",
      " 71%|███████   | 61/86 [00:04<00:01, 13.28it/s]\u001b[A\u001b[A\n",
      "\n",
      " 73%|███████▎  | 63/86 [00:04<00:01, 13.35it/s]\u001b[A\u001b[A\n",
      "\n",
      " 76%|███████▌  | 65/86 [00:05<00:01, 13.31it/s]\u001b[A\u001b[A\n",
      "\n",
      " 78%|███████▊  | 67/86 [00:05<00:01, 11.62it/s]\u001b[A\u001b[A\n",
      "\n",
      " 80%|████████  | 69/86 [00:05<00:01, 11.53it/s]\u001b[A\u001b[A\n",
      "\n",
      " 83%|████████▎ | 71/86 [00:05<00:01, 11.49it/s]\u001b[A\u001b[A\n",
      "\n",
      " 85%|████████▍ | 73/86 [00:05<00:01, 11.46it/s]\u001b[A\u001b[A\n",
      "\n",
      " 87%|████████▋ | 75/86 [00:05<00:00, 11.56it/s]\u001b[A\u001b[A\n",
      "\n",
      " 90%|████████▉ | 77/86 [00:06<00:00, 12.08it/s]\u001b[A\u001b[A\n",
      "\n",
      " 92%|█████████▏| 79/86 [00:06<00:00, 12.55it/s]\u001b[A\u001b[A\n",
      "\n",
      " 94%|█████████▍| 81/86 [00:06<00:00, 12.66it/s]\u001b[A\u001b[A\n",
      "\n",
      " 97%|█████████▋| 83/86 [00:06<00:00, 12.74it/s]\u001b[A\u001b[A\n",
      "\n",
      "100%|██████████| 86/86 [00:06<00:00, 12.71it/s]\u001b[A\u001b[A\n"
     ]
    }
   ],
   "source": [
    "flux_dict ={}\n",
    "for met_id in tqdm(met_list):\n",
    "    ss.feed_metabolite(bsub,met_id)\n",
    "    bsub.optimize()\n",
    "    flux_dict[met_id] = bsub.solution.x_dict\n",
    "    bsub.reactions.get_by_id('EX_{}'.format(met_id)).lower_bound = 0\n",
    "flux_response_m = pd.DataFrame.from_dict(flux_dict).fillna(0)"
   ]
  },
  {
   "cell_type": "code",
   "execution_count": 141,
   "metadata": {},
   "outputs": [],
   "source": [
    "flux_response_m.to_csv('carbon_substrate/biolog_responses_m.csv')"
   ]
  },
  {
   "cell_type": "code",
   "execution_count": 6,
   "metadata": {},
   "outputs": [],
   "source": [
    "me.reactions.get_by_id('EX_glc__D_e').lower_bound = 0"
   ]
  },
  {
   "cell_type": "code",
   "execution_count": 8,
   "metadata": {
    "scrolled": true
   },
   "outputs": [
    {
     "name": "stderr",
     "output_type": "stream",
     "text": [
      "\n",
      "  0%|          | 0/86 [00:00<?, ?it/s]\u001b[A\n",
      "biomass_dilution response (12 threads):   0%|          | 0/86 [00:00<?, ?it/s]\u001b[A"
     ]
    }
   ],
   "source": [
    "flux_response_me = ss.all_flux_responses(me,met_list,mu_fix=False,solution=me.solution,NP=12,precision=1e-4,\n",
    "                       single_change_function='feed_metabolite',growth_key = 'mu',sequential=False,flux_dict=uptake_rates)"
   ]
  },
  {
   "cell_type": "code",
   "execution_count": 142,
   "metadata": {},
   "outputs": [],
   "source": [
    "flux_response_me.to_csv('carbon_substrate/biolog_responses_me.csv')"
   ]
  },
  {
   "cell_type": "code",
   "execution_count": 24,
   "metadata": {},
   "outputs": [],
   "source": [
    "flux_response_m = pd.read_csv('carbon_substrate/biolog_responses_m.csv',index_col=0)\n",
    "flux_response_me = pd.read_csv('carbon_substrate/biolog_responses_me.csv',index_col=0)"
   ]
  },
  {
   "cell_type": "code",
   "execution_count": 25,
   "metadata": {},
   "outputs": [],
   "source": [
    "response_df = biolog_df.copy()\n",
    "response_df.reset_index()\n",
    "response_df = response_df.set_index('met_id')"
   ]
  },
  {
   "cell_type": "code",
   "execution_count": 26,
   "metadata": {},
   "outputs": [
    {
     "name": "stderr",
     "output_type": "stream",
     "text": [
      "\n",
      "\n",
      "  0%|          | 0/86 [00:00<?, ?it/s]\u001b[A\u001b[A\n",
      "\n",
      "100%|██████████| 86/86 [00:00<00:00, 514.15it/s]\u001b[A\u001b[A\n"
     ]
    }
   ],
   "source": [
    "response_dict ={}\n",
    "for met_id in tqdm(met_list):\n",
    "    response_dict[met_id] = {}\n",
    "    response_dict[met_id]['m'] = 1. if flux_response_m.loc['BIOMASS_BS_10'][met_id]>1.0e-3 else 0.\n",
    "    response_dict[met_id]['me'] = 1. if flux_response_me.loc['biomass_dilution'][met_id]>1.0e-3 else 0.\n",
    "    response_dict[met_id]['exp'] = 1. if response_df.loc[met_dict[met_id]]['exp_growth'] else 0.\n",
    "response_df = pd.DataFrame.from_dict(response_dict).T"
   ]
  },
  {
   "cell_type": "code",
   "execution_count": 46,
   "metadata": {},
   "outputs": [
    {
     "data": {
      "text/html": [
       "<div>\n",
       "<style scoped>\n",
       "    .dataframe tbody tr th:only-of-type {\n",
       "        vertical-align: middle;\n",
       "    }\n",
       "\n",
       "    .dataframe tbody tr th {\n",
       "        vertical-align: top;\n",
       "    }\n",
       "\n",
       "    .dataframe thead th {\n",
       "        text-align: right;\n",
       "    }\n",
       "</style>\n",
       "<table border=\"1\" class=\"dataframe\">\n",
       "  <thead>\n",
       "    <tr style=\"text-align: right;\">\n",
       "      <th></th>\n",
       "      <th>m</th>\n",
       "      <th>me</th>\n",
       "      <th>exp</th>\n",
       "    </tr>\n",
       "  </thead>\n",
       "  <tbody>\n",
       "    <tr>\n",
       "      <th>galctr__D_e</th>\n",
       "      <td>1.0</td>\n",
       "      <td>0.0</td>\n",
       "      <td>1.0</td>\n",
       "    </tr>\n",
       "  </tbody>\n",
       "</table>\n",
       "</div>"
      ],
      "text/plain": [
       "               m   me  exp\n",
       "galctr__D_e  1.0  0.0  1.0"
      ]
     },
     "execution_count": 46,
     "metadata": {},
     "output_type": "execute_result"
    }
   ],
   "source": [
    "response_df[response_df.m != response_df.me]"
   ]
  },
  {
   "cell_type": "code",
   "execution_count": 48,
   "metadata": {},
   "outputs": [],
   "source": [
    "response_df.to_csv('biolog_complete.csv')"
   ]
  },
  {
   "cell_type": "code",
   "execution_count": 39,
   "metadata": {},
   "outputs": [
    {
     "name": "stdout",
     "output_type": "stream",
     "text": [
      "69 4 6 7 0.45451414375297394 0.2460526315789473\n"
     ]
    },
    {
     "name": "stderr",
     "output_type": "stream",
     "text": [
      "/home/jt/UCSD/ME_modelling/ME_env/lib/python3.6/site-packages/ipykernel_launcher.py:1 \u001b[1;31mUserWarning\u001b[0m: Boolean Series key will be reindexed to match DataFrame index.\n",
      "/home/jt/UCSD/ME_modelling/ME_env/lib/python3.6/site-packages/ipykernel_launcher.py:2 \u001b[1;31mUserWarning\u001b[0m: Boolean Series key will be reindexed to match DataFrame index.\n",
      "/home/jt/UCSD/ME_modelling/ME_env/lib/python3.6/site-packages/ipykernel_launcher.py:3 \u001b[1;31mUserWarning\u001b[0m: Boolean Series key will be reindexed to match DataFrame index.\n",
      "/home/jt/UCSD/ME_modelling/ME_env/lib/python3.6/site-packages/ipykernel_launcher.py:4 \u001b[1;31mUserWarning\u001b[0m: Boolean Series key will be reindexed to match DataFrame index.\n"
     ]
    }
   ],
   "source": [
    "TP = response_df[response_df.me == 1.0][response_df.me == response_df.exp].shape[0]\n",
    "FP = response_df[response_df.me == 1.0][response_df.me != response_df.exp].shape[0]\n",
    "TN = response_df[response_df.me == 0.0][response_df.me == response_df.exp].shape[0]\n",
    "FN = response_df[response_df.me == 0.0][response_df.me != response_df.exp].shape[0]\n",
    "MCC = (TP*TN - FP*FN)/np.sqrt((TP+FP)*(TP+FN)*(TN+FP)*(TN+FN))\n",
    "TPR = TP/(TP+FN)\n",
    "TNR = TN/(TN+FP)\n",
    "BER = 1 - 0.5*(TPR+TNR)\n",
    "print(TP,FP,TN,FN,MCC,BER)"
   ]
  },
  {
   "cell_type": "code",
   "execution_count": 40,
   "metadata": {},
   "outputs": [
    {
     "name": "stdout",
     "output_type": "stream",
     "text": [
      "70 4 6 6 0.45451414375297394 0.23947368421052628\n"
     ]
    },
    {
     "name": "stderr",
     "output_type": "stream",
     "text": [
      "/home/jt/UCSD/ME_modelling/ME_env/lib/python3.6/site-packages/ipykernel_launcher.py:1 \u001b[1;31mUserWarning\u001b[0m: Boolean Series key will be reindexed to match DataFrame index.\n",
      "/home/jt/UCSD/ME_modelling/ME_env/lib/python3.6/site-packages/ipykernel_launcher.py:2 \u001b[1;31mUserWarning\u001b[0m: Boolean Series key will be reindexed to match DataFrame index.\n",
      "/home/jt/UCSD/ME_modelling/ME_env/lib/python3.6/site-packages/ipykernel_launcher.py:3 \u001b[1;31mUserWarning\u001b[0m: Boolean Series key will be reindexed to match DataFrame index.\n",
      "/home/jt/UCSD/ME_modelling/ME_env/lib/python3.6/site-packages/ipykernel_launcher.py:4 \u001b[1;31mUserWarning\u001b[0m: Boolean Series key will be reindexed to match DataFrame index.\n"
     ]
    }
   ],
   "source": [
    "TP = response_df[response_df.m == 1.0][response_df.m == response_df.exp].shape[0]\n",
    "FP = response_df[response_df.m == 1.0][response_df.m != response_df.exp].shape[0]\n",
    "TN = response_df[response_df.m == 0.0][response_df.m == response_df.exp].shape[0]\n",
    "FN = response_df[response_df.m == 0.0][response_df.m != response_df.exp].shape[0]\n",
    "TPR = TP/(TP+FN)\n",
    "TNR = TN/(TN+FP)\n",
    "BER = 1 - 0.5*(TPR+TNR)\n",
    "print(TP,FP,TN,FN,MCC,BER)"
   ]
  },
  {
   "cell_type": "code",
   "execution_count": 186,
   "metadata": {},
   "outputs": [
    {
     "data": {
      "text/plain": [
       "<matplotlib.axes._subplots.AxesSubplot at 0x7f65dee08940>"
      ]
     },
     "execution_count": 186,
     "metadata": {},
     "output_type": "execute_result"
    },
    {
     "data": {
      "image/png": "[encoded data removed]",
      "text/plain": [
       "<Figure size 432x288 with 1 Axes>"
      ]
     },
     "metadata": {
      "needs_background": "light"
     },
     "output_type": "display_data"
    }
   ],
   "source": [
    "flux_response_me.loc['biomass_dilution'].plot.bar()"
   ]
  },
  {
   "cell_type": "code",
   "execution_count": 175,
   "metadata": {},
   "outputs": [
    {
     "data": {
      "text/html": [
       "<div>\n",
       "<style scoped>\n",
       "    .dataframe tbody tr th:only-of-type {\n",
       "        vertical-align: middle;\n",
       "    }\n",
       "\n",
       "    .dataframe tbody tr th {\n",
       "        vertical-align: top;\n",
       "    }\n",
       "\n",
       "    .dataframe thead th {\n",
       "        text-align: right;\n",
       "    }\n",
       "</style>\n",
       "<table border=\"1\" class=\"dataframe\">\n",
       "  <thead>\n",
       "    <tr style=\"text-align: right;\">\n",
       "      <th></th>\n",
       "      <th>m</th>\n",
       "      <th>me</th>\n",
       "      <th>exp</th>\n",
       "    </tr>\n",
       "  </thead>\n",
       "  <tbody>\n",
       "    <tr>\n",
       "      <th>leu__L_e</th>\n",
       "      <td>0.0</td>\n",
       "      <td>0.0</td>\n",
       "      <td>0.0</td>\n",
       "    </tr>\n",
       "    <tr>\n",
       "      <th>lys__L_e</th>\n",
       "      <td>0.0</td>\n",
       "      <td>0.0</td>\n",
       "      <td>0.0</td>\n",
       "    </tr>\n",
       "    <tr>\n",
       "      <th>met__L_e</th>\n",
       "      <td>0.0</td>\n",
       "      <td>0.0</td>\n",
       "      <td>0.0</td>\n",
       "    </tr>\n",
       "    <tr>\n",
       "      <th>phe__L_e</th>\n",
       "      <td>0.0</td>\n",
       "      <td>0.0</td>\n",
       "      <td>0.0</td>\n",
       "    </tr>\n",
       "    <tr>\n",
       "      <th>crn_e</th>\n",
       "      <td>0.0</td>\n",
       "      <td>0.0</td>\n",
       "      <td>0.0</td>\n",
       "    </tr>\n",
       "    <tr>\n",
       "      <th>...</th>\n",
       "      <td>...</td>\n",
       "      <td>...</td>\n",
       "      <td>...</td>\n",
       "    </tr>\n",
       "    <tr>\n",
       "      <th>orn__L_e</th>\n",
       "      <td>1.0</td>\n",
       "      <td>1.0</td>\n",
       "      <td>1.0</td>\n",
       "    </tr>\n",
       "    <tr>\n",
       "      <th>dha_e</th>\n",
       "      <td>1.0</td>\n",
       "      <td>1.0</td>\n",
       "      <td>1.0</td>\n",
       "    </tr>\n",
       "    <tr>\n",
       "      <th>gly_asp__L_e</th>\n",
       "      <td>0.0</td>\n",
       "      <td>0.0</td>\n",
       "      <td>1.0</td>\n",
       "    </tr>\n",
       "    <tr>\n",
       "      <th>gly_glu__L_e</th>\n",
       "      <td>0.0</td>\n",
       "      <td>0.0</td>\n",
       "      <td>1.0</td>\n",
       "    </tr>\n",
       "    <tr>\n",
       "      <th>gly_pro__L_e</th>\n",
       "      <td>0.0</td>\n",
       "      <td>0.0</td>\n",
       "      <td>1.0</td>\n",
       "    </tr>\n",
       "  </tbody>\n",
       "</table>\n",
       "<p>86 rows × 3 columns</p>\n",
       "</div>"
      ],
      "text/plain": [
       "                m   me  exp\n",
       "leu__L_e      0.0  0.0  0.0\n",
       "lys__L_e      0.0  0.0  0.0\n",
       "met__L_e      0.0  0.0  0.0\n",
       "phe__L_e      0.0  0.0  0.0\n",
       "crn_e         0.0  0.0  0.0\n",
       "...           ...  ...  ...\n",
       "orn__L_e      1.0  1.0  1.0\n",
       "dha_e         1.0  1.0  1.0\n",
       "gly_asp__L_e  0.0  0.0  1.0\n",
       "gly_glu__L_e  0.0  0.0  1.0\n",
       "gly_pro__L_e  0.0  0.0  1.0\n",
       "\n",
       "[86 rows x 3 columns]"
      ]
     },
     "execution_count": 175,
     "metadata": {},
     "output_type": "execute_result"
    }
   ],
   "source": [
    "response_df"
   ]
  },
  {
   "cell_type": "code",
   "execution_count": 9,
   "metadata": {},
   "outputs": [
    {
     "data": {
      "text/plain": [
       "'D Galactarate C6H8O8'"
      ]
     },
     "execution_count": 9,
     "metadata": {},
     "output_type": "execute_result"
    }
   ],
   "source": [
    "me.metabolites.get_by_id('galctr__D_e').name"
   ]
  },
  {
   "cell_type": "code",
   "execution_count": 15,
   "metadata": {},
   "outputs": [
    {
     "name": "stdout",
     "output_type": "stream",
     "text": [
      "generic_16Sm4Cm1402\n",
      "generic_LYSINEaaRS\n",
      "generic_Dus\n",
      "generic_RF\n",
      "generic_Tuf\n",
      "generic_RNase\n",
      "generic_5s_rRNAs\n",
      "generic_16s_rRNAs\n",
      "generic_23s_rRNAs\n",
      "generic_2fe2s_transfer_complex\n",
      "generic_4fe4s_transfer_complex\n"
     ]
    }
   ],
   "source": [
    "for m in me.metabolites:\n",
    "    if isinstance(m,cobrame.GenericComponent):\n",
    "        print(m.id)"
   ]
  },
  {
   "cell_type": "code",
   "execution_count": 18,
   "metadata": {},
   "outputs": [
    {
     "name": "stdout",
     "output_type": "stream",
     "text": [
      "( formation_polycistronic_wout_rRNA_excision_machinery 0.0 1000.0 ) \t BSU23840-MONOMER + BSU41050-MONOMER + generic_RNase --> polycistronic_wout_rRNA_excision_machinery\n",
      "( formation_monocistronic_excision_machinery 0.0 1000.0 ) \t BSU23840-MONOMER + BSU41050-MONOMER + generic_RNase --> monocistronic_excision_machinery\n",
      "( BSU28370-MONOMER_to_generic_RNase 0.0 1000.0 ) \t BSU28370-MONOMER --> generic_RNase\n"
     ]
    },
    {
     "data": {
      "text/plain": [
       "[<ComplexFormation formation_polycistronic_wout_rRNA_excision_machinery at 0x7fc5d2dd96a0>,\n",
       " <ComplexFormation formation_monocistronic_excision_machinery at 0x7fc5d2dd9630>,\n",
       " <GenericFormationReaction BSU28370-MONOMER_to_generic_RNase at 0x7fc5d2dca550>]"
      ]
     },
     "execution_count": 18,
     "metadata": {},
     "output_type": "execute_result"
    }
   ],
   "source": [
    "get_reactions_of_met(me,'generic_RNase')"
   ]
  },
  {
   "cell_type": "code",
   "execution_count": 42,
   "metadata": {},
   "outputs": [],
   "source": [
    "me.reactions.get_by_id('EX_glc__D_e').lower_bound = 0\n",
    "me.reactions.get_by_id('EX_glc__D_e').upper_bound = 0\n",
    "\n",
    "me.reactions.get_by_id('EX_galctr__D_e').lower_bound = 0\n",
    "me.reactions.get_by_id('EX_galctr__D_e').upper_bound = 0\n"
   ]
  },
  {
   "cell_type": "code",
   "execution_count": 43,
   "metadata": {},
   "outputs": [
    {
     "name": "stdout",
     "output_type": "stream",
     "text": [
      "iter\tmuopt    \ta     \tb     \tmu1       \tstat1\n",
      "Finished compiling expressions in 208.165550 seconds\n",
      "Finished substituting S,lb,ub in 8.969414 seconds\n",
      "Finished makeME_LP in 1.095391 seconds\n",
      "Getting MINOS parameters from ME_NLP...\n",
      "1 0.0 0.0 0.25 0.25 1\n",
      "Finished substituting S,lb,ub in 8.831810 seconds\n",
      "Finished makeME_LP in 1.092378 seconds\n",
      "Getting MINOS parameters from ME_NLP...\n",
      "2 0.0 0.0 0.125 0.125 1\n",
      "Finished substituting S,lb,ub in 8.952778 seconds\n",
      "Finished makeME_LP in 1.106566 seconds\n",
      "Getting MINOS parameters from ME_NLP...\n",
      "3 0.0 0.0 0.0625 0.0625 1\n",
      "Finished substituting S,lb,ub in 8.843260 seconds\n",
      "Finished makeME_LP in 1.100505 seconds\n",
      "Getting MINOS parameters from ME_NLP...\n",
      "4 0.0 0.0 0.03125 0.03125 1\n",
      "Finished substituting S,lb,ub in 9.096864 seconds\n",
      "Finished makeME_LP in 1.093191 seconds\n",
      "Getting MINOS parameters from ME_NLP...\n",
      "5 0.0 0.0 0.015625 0.015625 1\n",
      "Finished substituting S,lb,ub in 8.974474 seconds\n",
      "Finished makeME_LP in 1.091662 seconds\n",
      "Getting MINOS parameters from ME_NLP...\n",
      "6 0.0 0.0 0.0078125 0.0078125 1\n",
      "Finished substituting S,lb,ub in 8.963496 seconds\n",
      "Finished makeME_LP in 1.098578 seconds\n",
      "Getting MINOS parameters from ME_NLP...\n",
      "7 0.0 0.0 0.00390625 0.00390625 1\n",
      "Finished substituting S,lb,ub in 9.115808 seconds\n",
      "Finished makeME_LP in 1.088447 seconds\n",
      "Getting MINOS parameters from ME_NLP...\n",
      "8 0.0 0.0 0.001953125 0.001953125 1\n",
      "Finished substituting S,lb,ub in 8.936159 seconds\n",
      "Finished makeME_LP in 1.092933 seconds\n",
      "Getting MINOS parameters from ME_NLP...\n",
      "9 0.0 0.0 0.0009765625 0.0009765625 1\n",
      "Finished substituting S,lb,ub in 9.633687 seconds\n",
      "Finished makeME_LP in 1.098910 seconds\n",
      "Getting MINOS parameters from ME_NLP...\n",
      "10 0.0 0.0 0.00048828125 0.00048828125 1\n",
      "Finished substituting S,lb,ub in 9.024634 seconds\n",
      "Finished makeME_LP in 1.102625 seconds\n",
      "Getting MINOS parameters from ME_NLP...\n",
      "11 0.0 0.0 0.000244140625 0.000244140625 1\n",
      "Finished substituting S,lb,ub in 8.964063 seconds\n",
      "Finished makeME_LP in 1.098602 seconds\n",
      "Getting MINOS parameters from ME_NLP...\n",
      "12 0.0 0.0 0.0001220703125 0.0001220703125 1\n",
      "Finished substituting S,lb,ub in 8.913616 seconds\n",
      "Finished makeME_LP in 1.096261 seconds\n",
      "Getting MINOS parameters from ME_NLP...\n",
      "13 0.0 0.0 6.103515625e-05 6.103515625e-05 1\n",
      "Finished substituting S,lb,ub in 8.924268 seconds\n",
      "Finished makeME_LP in 1.097013 seconds\n",
      "Getting MINOS parameters from ME_NLP...\n",
      "14 0.0 0.0 3.0517578125e-05 3.0517578125e-05 1\n",
      "Finished substituting S,lb,ub in 8.910176 seconds\n",
      "Finished makeME_LP in 1.099385 seconds\n",
      "Getting MINOS parameters from ME_NLP...\n",
      "15 0.0 0.0 1.52587890625e-05 1.52587890625e-05 1\n",
      "Finished substituting S,lb,ub in 9.181477 seconds\n",
      "Finished makeME_LP in 1.112959 seconds\n",
      "Getting MINOS parameters from ME_NLP...\n",
      "16 0.0 0.0 7.62939453125e-06 7.62939453125e-06 1\n",
      "Finished substituting S,lb,ub in 9.442461 seconds\n",
      "Finished makeME_LP in 1.101253 seconds\n",
      "Getting MINOS parameters from ME_NLP...\n",
      "17 0.0 0.0 3.814697265625e-06 3.814697265625e-06 1\n",
      "Finished substituting S,lb,ub in 10.803617 seconds\n",
      "Finished makeME_LP in 1.235857 seconds\n",
      "Getting MINOS parameters from ME_NLP...\n",
      "18 0.0 0.0 1.9073486328125e-06 1.9073486328125e-06 1\n",
      "Finished substituting S,lb,ub in 10.964594 seconds\n",
      "Finished makeME_LP in 1.324468 seconds\n",
      "Getting MINOS parameters from ME_NLP...\n",
      "19 0.0 0.0 9.5367431640625e-07 9.5367431640625e-07 1\n",
      "Bisection done in 1536.01 seconds\n"
     ]
    }
   ],
   "source": [
    "solve_me_model(me, max_mu = 0.5, min_mu = .05, using_soplex=False, precision = 1e-6)"
   ]
  },
  {
   "cell_type": "code",
   "execution_count": null,
   "metadata": {},
   "outputs": [],
   "source": []
  }
 ],
 "metadata": {
  "kernelspec": {
   "display_name": "test",
   "language": "python",
   "name": "test"
  },
  "language_info": {
   "codemirror_mode": {
    "name": "ipython",
    "version": 3
   },
   "file_extension": ".py",
   "mimetype": "text/x-python",
   "name": "python",
   "nbconvert_exporter": "python",
   "pygments_lexer": "ipython3",
   "version": "3.6.8"
  }
 },
 "nbformat": 4,
 "nbformat_minor": 4
}
