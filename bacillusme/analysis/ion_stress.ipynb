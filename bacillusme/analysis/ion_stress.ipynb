{
 "cells": [
  {
   "cell_type": "markdown",
   "metadata": {},
   "source": [
    "# Ion stress response"
   ]
  },
  {
   "cell_type": "code",
   "execution_count": 1,
   "metadata": {},
   "outputs": [
    {
     "name": "stderr",
     "output_type": "stream",
     "text": [
      "/home/jt/Downloads/cobrapy-0.5.11/cobra/io/sbml3.py:24: UserWarning: Install lxml for faster SBML I/O\n",
      "  warn(\"Install lxml for faster SBML I/O\")\n",
      "/home/jt/Downloads/cobrapy-0.5.11/cobra/io/__init__.py:12: UserWarning: cobra.io.sbml requires libsbml\n",
      "  warn(\"cobra.io.sbml requires libsbml\")\n"
     ]
    },
    {
     "name": "stdout",
     "output_type": "stream",
     "text": [
      "/home/jt/Downloads/cobrapy-0.5.11/cobra/__init__.py\n",
      "/home/jt/UCSD/cobrame-master/cobrame/__init__.py\n",
      "/home/jt/UCSD/bacillusme-master/ecolime/__init__.py\n"
     ]
    }
   ],
   "source": [
    "from __future__ import print_function, division, absolute_import\n",
    "\n",
    "import sys\n",
    "\n",
    "import qminospy\n",
    "from qminospy.me2 import ME_NLP\n",
    "\n",
    "# python imports\n",
    "from copy import copy\n",
    "import re\n",
    "from os.path import join\n",
    "from collections import defaultdict\n",
    "import pickle\n",
    "\n",
    "# third party imports\n",
    "import pandas\n",
    "import cobra\n",
    "from tqdm import tqdm\n",
    "import numpy as np\n",
    "import scipy\n",
    "import matplotlib.pyplot as plt\n",
    "\n",
    "# COBRAme\n",
    "import cobrame\n",
    "from cobrame.util import building, mu, me_model_interface\n",
    "from cobrame.io.json import save_json_me_model, save_reduced_json_me_model\n",
    "\n",
    "# ECOLIme\n",
    "import ecolime\n",
    "from ecolime import (transcription, translation, flat_files, generics, formulas, compartments)\n",
    "from ecolime.util.helper_functions import *\n",
    "%load_ext autoreload\n",
    "%autoreload 2\n",
    "print(cobra.__file__)\n",
    "print(cobrame.__file__)\n",
    "print(ecolime.__file__)"
   ]
  },
  {
   "cell_type": "code",
   "execution_count": 2,
   "metadata": {},
   "outputs": [],
   "source": [
    "gene_dictionary = pd.read_csv('gene_name_dictionary.csv',index_col=1)\n",
    "ions = ['na1_e','ca2_e','zn2_e','k_e','mg2_e','mn2_e']\n",
    "# ions = ['mg2_e']"
   ]
  },
  {
   "cell_type": "markdown",
   "metadata": {},
   "source": [
    "Load"
   ]
  },
  {
   "cell_type": "code",
   "execution_count": 49,
   "metadata": {},
   "outputs": [],
   "source": [
    "eco_directory = join(flat_files.ecoli_files_dir, 'iJO1366.json')\n",
    "ijo_directory = join(flat_files.ecoli_files_dir, 'iYO844.json')\n",
    "uni_directory = join(flat_files.ecoli_files_dir, 'universal_model.json')\n",
    "\n",
    "eco = cobra.io.load_json_model(eco_directory)\n",
    "bsub = cobra.io.load_json_model(ijo_directory)\n",
    "uni = cobra.io.load_json_model(uni_directory)\n",
    "\n",
    "bsub.optimize()\n",
    "base = bsub.solution.x_dict\n",
    "base_mu = bsub.solution.f"
   ]
  },
  {
   "cell_type": "markdown",
   "metadata": {},
   "source": [
    "## M-model simulations"
   ]
  },
  {
   "cell_type": "code",
   "execution_count": 4,
   "metadata": {},
   "outputs": [
    {
     "name": "stderr",
     "output_type": "stream",
     "text": [
      "100%|██████████| 100/100 [00:09<00:00, 11.05it/s]\n"
     ]
    },
    {
     "data": {
      "text/plain": [
       "<matplotlib.legend.Legend at 0x7f5b32323ac8>"
      ]
     },
     "execution_count": 4,
     "metadata": {},
     "output_type": "execute_result"
    },
    {
     "data": {
      "image/png": "[encoded data removed]",
      "text/plain": [
       "<Figure size 432x288 with 1 Axes>"
      ]
     },
     "metadata": {
      "needs_background": "light"
     },
     "output_type": "display_data"
    }
   ],
   "source": [
    "import itertools\n",
    "marker = itertools.cycle(('v', 's', '^', 'o', '*')) \n",
    "ion_rates = -np.arange(0,10,0.1)*1e-6\n",
    "for ion in ['na1_e']:\n",
    "    base_flux = base['EX_'+ion]\n",
    "    gr = []\n",
    "    for rate in tqdm(ion_rates):\n",
    "        ex = bsub.reactions.get_by_id('EX_'+ion)\n",
    "        ex.lower_bound = rate\n",
    "        ex.upper_bound = rate\n",
    "        bsub.optimize()\n",
    "        gr.append(bsub.solution.f)\n",
    "    plt.plot(-ion_rates,gr,label=ion,marker=next(marker),markersize=8)\n",
    "plt.legend()"
   ]
  },
  {
   "cell_type": "markdown",
   "metadata": {},
   "source": [
    "## ME-model simulations"
   ]
  },
  {
   "cell_type": "code",
   "execution_count": 5,
   "metadata": {},
   "outputs": [],
   "source": [
    "with open('../me_models/solution.pickle', 'rb') as solution:\n",
    "    me = pickle.load(solution)"
   ]
  },
  {
   "cell_type": "code",
   "execution_count": 6,
   "metadata": {},
   "outputs": [
    {
     "name": "stdout",
     "output_type": "stream",
     "text": [
      "na1_e 0.0\n",
      "ca2_e 0.0\n",
      "zn2_e -1.833244939576966e-07\n",
      "k_e -1.8080572856545358e-07\n",
      "mg2_e -0.0013002379702828882\n",
      "mn2_e -2.3718242480067265e-06\n"
     ]
    }
   ],
   "source": [
    "for ion in ions:\n",
    "    print(ion, me.solution.x_dict['EX_'+ion])"
   ]
  },
  {
   "cell_type": "markdown",
   "metadata": {},
   "source": [
    "Add those reactions that account for osmosis"
   ]
  },
  {
   "cell_type": "code",
   "execution_count": 7,
   "metadata": {},
   "outputs": [
    {
     "name": "stdout",
     "output_type": "stream",
     "text": [
      "\n",
      " na1_e\n",
      "GLUt4_osm 0 1000 glu__L_e + na1_e <=> glu__L_c + na1_c\n",
      "BILEt4_osm 0 1000 bilea_e + na1_e <=> bilea_c + na1_c\n",
      "MALt4_osm 0 1000 mal__L_e + na1_e <=> mal__L_c + na1_c\n",
      "PIt7_osm 0 1000 3.0 na1_e + pi_e <=> 3.0 na1_c + pi_c\n",
      "\n",
      " ca2_e\n",
      "CAt4_osm -1000 0 ca2_c + h_e <=> ca2_e + h_c\n",
      "CITt14_osm 0 1000 ca2_e + cit_e + h_e <=> ca2_c + cit_c + h_c\n",
      "\n",
      " zn2_e\n",
      "ZNabc_osm 0 1000 atp_c + h2o_c + zn2_e <=> adp_c + h_c + pi_c + zn2_c\n",
      "CITt15_osm 0 1000 cit_e + h_e + zn2_e <=> cit_c + h_c + zn2_c\n",
      "\n",
      " k_e\n",
      "Kt2r_osm 0 1000 h_e + k_e <=> h_c + k_c\n",
      "CD2t4_osm 0 1000 cd2_c + h_e + k_e <=> cd2_e + h_c + k_c\n",
      "ZN2t4_osm 0 1000 h_e + k_e + zn2_c <=> h_c + k_c + zn2_e\n",
      "Kt1_osm 0 1000 k_e <=> k_c\n",
      "\n",
      " mg2_e\n",
      "MGt5_osm -1000 0 mg2_c <=> mg2_e\n",
      "CITt10_osm 0 1000 cit_e + h_e + mg2_e <=> cit_c + h_c + mg2_c\n",
      "ICITt10_osm 0 1000 h_e + icit_e + mg2_e <=> h_c + icit_c + mg2_c\n",
      "\n",
      " mn2_e\n",
      "MNt2_osm 0 1000 h_e + mn2_e <=> h_c + mn2_c\n",
      "MNabc_osm 0 1000 atp_c + h2o_c + mn2_e <=> adp_c + h_c + mn2_c + pi_c\n",
      "CITt11_osm 0 1000 cit_e + h_e + mn2_e <=> cit_c + h_c + mn2_c\n"
     ]
    }
   ],
   "source": [
    "# Add a copy of transport reactions that do not need a transporter\n",
    "\n",
    "for ion in ions:\n",
    "    uptake_rxns = get_transport_reactions(me,ion,comps=['e','c'],verbose=0)\n",
    "    osm_rxns = []\n",
    "    print('\\n',ion)\n",
    "    for rxn in uptake_rxns:\n",
    "        stoich = rxn.stoichiometric_data.stoichiometry\n",
    "        direction = '_FWD' if 'FWD' in rxn.id else '_REV'\n",
    "        osm_id = rxn.id.split(direction)[0]+'_osm'\n",
    "        \n",
    "        ion_position = stoich[ion] < 0\n",
    "        ub = ion_position * 1000\n",
    "        lb = (not ion_position) * -1000\n",
    "        \n",
    "        if not hasattr(me.reactions,osm_id):\n",
    "            osm_rxn = cobrame.MEReaction(osm_id)\n",
    "            me.add_reaction(osm_rxn)\n",
    "\n",
    "            osm_rxn.add_metabolites(stoich)\n",
    "            osm_rxn.lower_bound=lb\n",
    "            osm_rxn.upper_bound=ub\n",
    "            osm_rxns.append(osm_rxn)\n",
    "            print(osm_rxn.id,osm_rxn.lower_bound,osm_rxn.upper_bound,osm_rxn.reaction)"
   ]
  },
  {
   "cell_type": "markdown",
   "metadata": {},
   "source": [
    "Add ion uptake and exit separately"
   ]
  },
  {
   "cell_type": "code",
   "execution_count": 8,
   "metadata": {
    "scrolled": true
   },
   "outputs": [
    {
     "name": "stdout",
     "output_type": "stream",
     "text": [
      "( GLUt4_FWD_BSU09130-MONOMER 0 999999.0 ) \t glu__L_e + na1_in <=> -4.27350427350427e-6*mu BSU09130-MONOMER + glu__L_c + na1_c\n",
      "( MALt4_osm 0 1000 ) \t mal__L_e + na1_in <=> mal__L_c + na1_c\n",
      "( MALt4_FWD_BSU31580-MONOMER 0 999999.0 ) \t mal__L_e + na1_in <=> -7.87506223338379e-5*mu BSU31580-MONOMER + mal__L_c + na1_c\n",
      "( GLUt4_FWD_BSU10220-MONOMER 0 999999.0 ) \t glu__L_e + na1_in <=> -8.11887730293195e-5*mu BSU10220-MONOMER + glu__L_c + na1_c\n",
      "( BILEt4_osm 0 1000 ) \t bilea_e + na1_in <=> bilea_c + na1_c\n",
      "( BILEt4_FWD_BSU19350-MONOMER 0 999999.0 ) \t bilea_e + na1_in <=> -0.000101135364372873*mu BSU19350-MONOMER + bilea_c + na1_c\n",
      "( GLUt4_osm 0 1000 ) \t glu__L_e + na1_in <=> glu__L_c + na1_c\n",
      "( PIt7_FWD_BSU25420-MONOMER 0 999999.0 ) \t 3.0 na1_in + pi_e <=> -0.000103860411537506*mu BSU25420-MONOMER + 3.0 na1_c + pi_c\n",
      "( EX_na1_in -1000 0 ) \t na1_in <=> \n",
      "( PIt7_osm 0 1000 ) \t 3.0 na1_in + pi_e <=> 3.0 na1_c + pi_c\n",
      "( NAabcO_FWD_CPLX8J2-78 0 999999.0 ) \t atp_c + h2o_c + na1_c <=> -5.87636248818479e-5*mu CPLX8J2-78 + adp_c + h_c + na1_out + pi_c\n",
      "( NAt3_1_FWD_BSU09680-MONOMER 0 999999.0 ) \t h_e + na1_c <=> -4.27350427350427e-6*mu BSU09680-MONOMER + h_c + na1_out\n",
      "( NAt3_1_FWD_BSU31650-MONOMER 0 999999.0 ) \t h_e + na1_c <=> -4.27350427350427e-6*mu BSU31650-MONOMER + h_c + na1_out\n",
      "( NAt3_1_FWD_BSU31620-MONOMER 0 999999.0 ) \t h_e + na1_c <=> -4.27350427350427e-6*mu BSU31620-MONOMER + h_c + na1_out\n",
      "( NAt3_1_FWD_BSU11640-MONOMER 0 999999.0 ) \t h_e + na1_c <=> -6.08493287593205e-5*mu BSU11640-MONOMER + h_c + na1_out\n",
      "( NAt3_1_FWD_BSU31600-MONOMER 0 999999.0 ) \t h_e + na1_c <=> -4.27350427350427e-6*mu BSU31600-MONOMER + h_c + na1_out\n",
      "( MALt10_FWD_BSU23560-MONOMER 0 999999.0 ) \t 2.0 h_e + lac__L_c + mal__L_e + na1_c <=> -7.59309745207179e-5*mu BSU23560-MONOMER + 2.0 h_c + lac__L_e + mal__L_c + na1_out\n",
      "( NAt3_1_FWD_BSU31660-MONOMER 0 999999.0 ) \t h_e + na1_c <=> -4.27350427350427e-6*mu BSU31660-MONOMER + h_c + na1_out\n",
      "( NAt3_1_FWD_BSU33420-MONOMER 0 999999.0 ) \t h_e + na1_c <=> -4.27350427350427e-6*mu BSU33420-MONOMER + h_c + na1_out\n",
      "( NAt3_1_FWD_BSU09850-MONOMER 0 999999.0 ) \t h_e + na1_c <=> -4.27350427350427e-6*mu BSU09850-MONOMER + h_c + na1_out\n",
      "( NAt3_1_FWD_BSU31640-MONOMER 0 999999.0 ) \t h_e + na1_c <=> -4.27350427350427e-6*mu BSU31640-MONOMER + h_c + na1_out\n",
      "( NAt3_1_FWD_BSU31630-MONOMER 0 999999.0 ) \t h_e + na1_c <=> -4.27350427350427e-6*mu BSU31630-MONOMER + h_c + na1_out\n",
      "( DM_na1_out 0 1000 ) \t na1_out <=> \n",
      "( NAt3_1_FWD_BSU31610-MONOMER 0 999999.0 ) \t h_e + na1_c <=> -4.27350427350427e-6*mu BSU31610-MONOMER + h_c + na1_out\n",
      "( CAt4_REV_BSU07920-MONOMER 0 999999.0 ) \t ca2_in + h_c <=> -4.27350427350427e-6*mu BSU07920-MONOMER + ca2_c + h_e\n",
      "( CAt4_REV_CPLX8J2-142 0 999999.0 ) \t ca2_in + h_c <=> -4.27350427350427e-6*mu CPLX8J2-142 + ca2_c + h_e\n",
      "( CITt14_FWD_BSU07610-MONOMER 0 999999.0 ) \t ca2_in + cit_e + h_e <=> -4.27350427350427e-6*mu BSU07610-MONOMER + ca2_c + cit_c + h_c\n",
      "( CITt14_osm 0 1000 ) \t ca2_in + cit_e + h_e <=> ca2_c + cit_c + h_c\n",
      "( CITt14_FWD_BSU39060-MONOMER 0 999999.0 ) \t ca2_in + cit_e + h_e <=> -8.20234613946502e-5*mu BSU39060-MONOMER + ca2_c + cit_c + h_c\n",
      "( EX_ca2_in -1000 0 ) \t ca2_in <=> \n",
      "( CAt4_osm -1000 0 ) \t ca2_c + h_e <=> ca2_out + h_c\n",
      "( DM_ca2_out 0 1000 ) \t ca2_out <=> \n",
      "( CAt4_FWD_BSU07920-MONOMER 0 999999.0 ) \t ca2_c + h_e <=> -4.27350427350427e-6*mu BSU07920-MONOMER + ca2_out + h_c\n",
      "( CA2abc1_FWD_BSU15650-MONOMER 0 999999.0 ) \t atp_c + ca2_c + h2o_c <=> -4.62320900569255e-5*mu BSU15650-MONOMER + adp_c + ca2_out + h_c + pi_c\n",
      "( CAt4_FWD_CPLX8J2-142 0 999999.0 ) \t ca2_c + h_e <=> -4.27350427350427e-6*mu CPLX8J2-142 + ca2_out + h_c\n",
      "( ZNabc_FWD_CPLX000-70 0 999999.0 ) \t atp_c + h2o_c + zn2_in <=> -4.27350427350427e-6*mu CPLX000-70 + adp_c + h_c + pi_c + zn2_c\n",
      "( EX_zn2_in -1000 0 ) \t zn2_in <=> \n",
      "( CITt15_FWD_BSU07610-MONOMER 0 999999.0 ) \t cit_e + h_e + zn2_in <=> -4.27350427350427e-6*mu BSU07610-MONOMER + cit_c + h_c + zn2_c\n",
      "( CITt15_osm 0 1000 ) \t cit_e + h_e + zn2_in <=> cit_c + h_c + zn2_c\n",
      "( ZNabc_osm 0 1000 ) \t atp_c + h2o_c + zn2_in <=> adp_c + h_c + pi_c + zn2_c\n",
      "( DM_zn2_out 0 1000 ) \t zn2_out <=> \n",
      "( ZN2t4_osm 0 1000 ) \t h_e + k_e + zn2_c <=> h_c + k_c + zn2_out\n",
      "( ZN2t4_FWD_BSU26650-MONOMER 0 999999.0 ) \t h_e + k_e + zn2_c <=> -0.000101383203279485*mu BSU26650-MONOMER + h_c + k_c + zn2_out\n",
      "( CD2t4_FWD_BSU26650-MONOMER 0 999999.0 ) \t cd2_c + h_e + k_in <=> -4.27350427350427e-6*mu BSU26650-MONOMER + cd2_e + h_c + k_c\n",
      "( Kt1_osm 0 1000 ) \t k_in <=> k_c\n",
      "( EX_k_in -1000 0 ) \t k_in <=> \n",
      "( ZN2t4_FWD_BSU26650-MONOMER 0 999999.0 ) \t h_e + k_in + zn2_c <=> -0.000101383203279485*mu BSU26650-MONOMER + h_c + k_c + zn2_out\n",
      "( Kt2r_osm 0 1000 ) \t h_e + k_in <=> h_c + k_c\n",
      "( Kt1_FWD_BSU31322-MONOMER 0 999999.0 ) \t k_in <=> -3.40454651084207e-5*mu BSU31322-MONOMER + k_c\n",
      "( CD2t4_osm 0 1000 ) \t cd2_c + h_e + k_in <=> cd2_e + h_c + k_c\n",
      "( Kt2r_FWD_BSU26640-MONOMER 0 999999.0 ) \t h_e + k_in <=> -9.16356395098642e-5*mu BSU26640-MONOMER + h_c + k_c\n",
      "( ZN2t4_osm 0 1000 ) \t h_e + k_in + zn2_c <=> h_c + k_c + zn2_out\n",
      "( Kt2r_FWD_CPLX8J2-165 0 999999.0 ) \t h_e + k_in <=> -4.27350427350427e-6*mu CPLX8J2-165 + h_c + k_c\n",
      "( DM_k_out 0 1000 ) \t k_out <=> \n",
      "( Kt3r_FWD_CPLX8J2-158 0 999999.0 ) \t h_e + k_c <=> -2.5701099514183e-5*mu CPLX8J2-158 + h_c + k_out\n",
      "( Kt1_REV_BSU31322-MONOMER 0 999999.0 ) \t k_c <=> -3.40454651084207e-5*mu BSU31322-MONOMER + k_out\n",
      "( EX_mg2_in -1000 0 ) \t mg2_in <=> \n",
      "( MGt5_REV_BSU13300-MONOMER 0 999999.0 ) \t mg2_in <=> -4.27350427350427e-6*mu BSU13300-MONOMER + mg2_c\n",
      "( ICITt10_osm 0 1000 ) \t h_e + icit_e + mg2_in <=> h_c + icit_c + mg2_c\n",
      "( MGt5_REV_BSU08000-MONOMER 0 999999.0 ) \t mg2_in <=> -4.27350427350427e-6*mu BSU08000-MONOMER + mg2_c\n",
      "( CITt10_osm 0 1000 ) \t cit_e + h_e + mg2_in <=> cit_c + h_c + mg2_c\n",
      "( MGt5_REV_BSU24740-MONOMER 0 999999.0 ) \t mg2_in <=> -9.41113110892308e-5*mu BSU24740-MONOMER + mg2_c\n",
      "( CITt10_FWD_BSU07610-MONOMER 0 999999.0 ) \t cit_e + h_e + mg2_in <=> -4.27350427350427e-6*mu BSU07610-MONOMER + cit_c + h_c + mg2_c\n",
      "( ICITt10_FWD_BSU07610-MONOMER 0 999999.0 ) \t h_e + icit_e + mg2_in <=> -4.27350427350427e-6*mu BSU07610-MONOMER + h_c + icit_c + mg2_c\n",
      "( MGt5_FWD_BSU13300-MONOMER 0 999999.0 ) \t mg2_c <=> -4.27350427350427e-6*mu BSU13300-MONOMER + mg2_out\n",
      "( MGt5_FWD_BSU08000-MONOMER 0 999999.0 ) \t mg2_c <=> -4.27350427350427e-6*mu BSU08000-MONOMER + mg2_out\n",
      "( MGt5_osm -1000 0 ) \t mg2_c <=> mg2_out\n",
      "( MGt5_FWD_BSU24740-MONOMER 0 999999.0 ) \t mg2_c <=> -9.41113110892308e-5*mu BSU24740-MONOMER + mg2_out\n",
      "( DM_mg2_out 0 1000 ) \t mg2_out <=> \n",
      "( MNt2_osm 0 1000 ) \t h_e + mn2_in <=> h_c + mn2_c\n",
      "( EX_mn2_in -1000 0 ) \t mn2_in <=> \n",
      "( CITt11_osm 0 1000 ) \t cit_e + h_e + mn2_in <=> cit_c + h_c + mn2_c\n",
      "( MNabc_FWD_CPLX8J2-66 0 999999.0 ) \t atp_c + h2o_c + mn2_in <=> -3.51317488235809e-5*mu CPLX8J2-66 + adp_c + h_c + mn2_c + pi_c\n",
      "( CITt11_FWD_BSU07610-MONOMER 0 999999.0 ) \t cit_e + h_e + mn2_in <=> -4.27350427350427e-6*mu BSU07610-MONOMER + cit_c + h_c + mn2_c\n",
      "( MNabc_osm 0 1000 ) \t atp_c + h2o_c + mn2_in <=> adp_c + h_c + mn2_c + pi_c\n",
      "( MNt2_FWD_BSU04360-MONOMER 0 999999.0 ) \t h_e + mn2_in <=> -4.27350427350427e-6*mu BSU04360-MONOMER + h_c + mn2_c\n",
      "( DM_mn2_out 0 1000 ) \t mn2_out <=> \n"
     ]
    }
   ],
   "source": [
    "for ion in ions:\n",
    "    old_ion = me.metabolites.get_by_id(ion)\n",
    "    ion_base = ion.split('_')[0]\n",
    "    # Close old exchange\n",
    "    me.reactions.get_by_id('EX_{}'.format(ion)).lower_bound = 0\n",
    "    me.reactions.get_by_id('EX_{}'.format(ion)).upper_bound = 0\n",
    "    \n",
    "    # Create new in/out metabolites\n",
    "    ion_in = cobrame.Metabolite(id='{}_in'.format(ion_base))\n",
    "    ion_out = cobrame.Metabolite(id='{}_out'.format(ion_base))\n",
    "    \n",
    "    # Ion uptake (creation, all open)\n",
    "    rxn = cobrame.MEReaction(id='EX_{}_in'.format(ion_base))\n",
    "    rxn.add_metabolites({\n",
    "        ion_in:-1.0\n",
    "    })\n",
    "    me.add_reaction(rxn)\n",
    "    rxn.lower_bound = -1000\n",
    "    rxn.upper_bound = 0\n",
    "    \n",
    "    # Ion exit\n",
    "    rxn = cobrame.MEReaction(id='DM_{}_out'.format(ion_base))\n",
    "    rxn.add_metabolites({\n",
    "        ion_out:-1.0\n",
    "    })\n",
    "    rxn.lower_bound = 0\n",
    "    rxn.upper_bound = 1000\n",
    "    me.add_reaction(rxn)\n",
    "    \n",
    "    # Replace old met\n",
    "    uptake_rxns = get_transport_reactions(me,ion,comps=['e','c'],verbose=0)\n",
    "    exit_rxns = get_transport_reactions(me,ion,comps=['c','e'],verbose=0)\n",
    "\n",
    "    for rxn in uptake_rxns:\n",
    "        coeff = rxn.pop(old_ion)\n",
    "        rxn.add_metabolites({ion_in:coeff})\n",
    "    for rxn in exit_rxns:\n",
    "        coeff = rxn.pop(old_ion)\n",
    "        rxn.add_metabolites({ion_out:coeff})\n",
    "        #print('\\n', ion)\n",
    "    _=get_reactions_of_met(me,ion_in.id)\n",
    "    _=get_reactions_of_met(me,ion_out.id)"
   ]
  },
  {
   "cell_type": "code",
   "execution_count": 71,
   "metadata": {
    "scrolled": true
   },
   "outputs": [],
   "source": [
    "def single_flux_response(me,rate,ion,mu_fix=False,verbosity=0):\n",
    "    ion_base = ion.split('_')[0]\n",
    "    me.reactions.get_by_id('EX_{}_in'.format(ion_base)).lower_bound = rate\n",
    "    me.reactions.get_by_id('EX_{}_in'.format(ion_base)).upper_bound = rate\n",
    "    solve_me_model(me, max_mu = 0.5, min_mu = .05, using_soplex=False,\n",
    "                   precision = 1e-6,verbosity=verbosity,mu_fix=mu_fix)\n",
    "    try:\n",
    "        x_dict = me.solution.x_dict\n",
    "    except:\n",
    "        x_dict = {'status':0}\n",
    "    return rate, x_dict"
   ]
  },
  {
   "cell_type": "markdown",
   "metadata": {},
   "source": [
    "## Small fluxes"
   ]
  },
  {
   "cell_type": "code",
   "execution_count": 10,
   "metadata": {},
   "outputs": [
    {
     "name": "stdout",
     "output_type": "stream",
     "text": [
      "Ions to include: ['na1_e', 'ca2_e', 'zn2_e', 'k_e', 'mg2_e', 'mn2_e']\n",
      "Rates to use: {'na1_e': array([-0.0e+00, -4.0e-09, -8.0e-09, -1.2e-08, -1.6e-08, -2.0e-08,\n",
      "       -2.4e-08, -2.8e-08, -3.2e-08, -3.6e-08]), 'ca2_e': array([-0.0e+00, -4.0e-09, -8.0e-09, -1.2e-08, -1.6e-08, -2.0e-08,\n",
      "       -2.4e-08, -2.8e-08, -3.2e-08, -3.6e-08]), 'zn2_e': array([-0.00000000e+00, -3.66648988e-08, -7.33297976e-08, -1.09994696e-07,\n",
      "       -1.46659595e-07, -1.83324494e-07, -2.19989393e-07, -2.56654292e-07,\n",
      "       -2.93319190e-07, -3.29984089e-07]), 'k_e': array([-0.00000000e+00, -3.61611457e-08, -7.23222914e-08, -1.08483437e-07,\n",
      "       -1.44644583e-07, -1.80805729e-07, -2.16966874e-07, -2.53128020e-07,\n",
      "       -2.89289166e-07, -3.25450311e-07]), 'mg2_e': array([-0.        , -0.00026005, -0.0005201 , -0.00078014, -0.00104019,\n",
      "       -0.00130024, -0.00156029, -0.00182033, -0.00208038, -0.00234043]), 'mn2_e': array([-0.00000000e+00, -4.74364850e-07, -9.48729699e-07, -1.42309455e-06,\n",
      "       -1.89745940e-06, -2.37182425e-06, -2.84618910e-06, -3.32055395e-06,\n",
      "       -3.79491880e-06, -4.26928365e-06])}\n"
     ]
    }
   ],
   "source": [
    "# Calculation at several ion uptake rates\n",
    "ion_rates_dict = {}\n",
    "ion_fractions = np.arange(0,2,0.2)\n",
    "for ion in ions:\n",
    "    base_flux = me.solution.x_dict['EX_'+ion]\n",
    "    if base_flux:\n",
    "        ion_rates_dict[ion] = ion_fractions*base_flux\n",
    "    else:\n",
    "        ion_rates_dict[ion] = ion_fractions*-0.2e-7\n",
    "#     ion_rates_dict[ion] = ion_fractions*-0.2e-7\n",
    "print('Ions to include: {}'.format(ions))\n",
    "print('Rates to use: {}'.format(ion_rates_dict))\n",
    "\n",
    "ion_result_macrodict = dict()\n",
    "\n",
    "import multiprocessing as mp\n",
    "NP = min([len(ion_fractions),10])"
   ]
  },
  {
   "cell_type": "code",
   "execution_count": null,
   "metadata": {
    "scrolled": true
   },
   "outputs": [
    {
     "name": "stderr",
     "output_type": "stream",
     "text": [
      "Calculating na1_e (10 threads):   0%|          | 0/60 [00:00<?, ?it/s]"
     ]
    }
   ],
   "source": [
    "# Parallel processing\n",
    "pbar = tqdm(total=len(ions)*len(ion_fractions))\n",
    "for ion in ions:\n",
    "    flux_dict = {}  \n",
    "    ion_rates = ion_rates_dict[ion]\n",
    "    pbar.set_description('Calculating {} ({} threads)'.format(ion,NP))\n",
    "    def collect_result(result):\n",
    "        pbar.update(1)\n",
    "        flux_dict[result[0]] = result[1]\n",
    "        \n",
    "    pool = mp.Pool(NP)\n",
    "    for rate in ion_rates:\n",
    "        pool.apply_async(single_flux_response, args=(me,rate,ion), callback=collect_result)\n",
    "    pool.close()\n",
    "    pool.join()\n",
    "    \n",
    "    flux_responses_me = pd.DataFrame.from_dict(flux_dict)\n",
    "    flux_responses_me = flux_responses_me[sorted(flux_responses_me.columns)]\n",
    "    ion_result_macrodict[ion] = flux_responses_me"
   ]
  },
  {
   "cell_type": "code",
   "execution_count": null,
   "metadata": {},
   "outputs": [],
   "source": [
    "# Write\n",
    "for ion in ions:\n",
    "    ion_result_macrodict[ion].to_csv('{}_flux_responses.csv'.format(ion))"
   ]
  },
  {
   "cell_type": "code",
   "execution_count": 18,
   "metadata": {},
   "outputs": [],
   "source": [
    "# Read\n",
    "for ion in ions:\n",
    "    ion_result_macrodict[ion] = pd.read_csv('{}_flux_responses.csv'.format(ion),index_col=0)"
   ]
  },
  {
   "cell_type": "code",
   "execution_count": 19,
   "metadata": {},
   "outputs": [
    {
     "data": {
      "image/png": "[encoded data removed]",
      "text/plain": [
       "<Figure size 936x432 with 6 Axes>"
      ]
     },
     "metadata": {
      "needs_background": "light"
     },
     "output_type": "display_data"
    },
    {
     "data": {
      "text/plain": [
       "<Figure size 360x288 with 0 Axes>"
      ]
     },
     "metadata": {},
     "output_type": "display_data"
    }
   ],
   "source": [
    "import itertools\n",
    "marker = itertools.cycle(('v', 's', '^', 'o', '*')) \n",
    "fig,axes = plt.subplots(round(len(ions)/3),3,figsize=(13,round(len(ions))))\n",
    "axes = axes.flatten()\n",
    "plt.figure(figsize=(5,4))\n",
    "for idx,ion in enumerate(ions):\n",
    "    ion_base = ion.split('_')[0]\n",
    "    flux_responses_me = ion_result_macrodict[ion]\n",
    "    fluxes = (-flux_responses_me.loc['EX_{}_in'.format(ion_base)])\n",
    "    \n",
    "    axes[idx].plot(fluxes,flux_responses_me.loc['biomass_dilution'],\n",
    "                label = ion,marker = next(marker),markersize=8)\n",
    "    axes[idx].set_xlabel('Ion uptake')\n",
    "    axes[idx].set_ylabel('Growth rate')\n",
    "    axes[idx].set_title(ion)\n",
    "    \n",
    "fig.tight_layout()\n",
    "#plt.legend()\n",
    "#plt.tight_layout()"
   ]
  },
  {
   "cell_type": "markdown",
   "metadata": {},
   "source": [
    "It appers that the icnrease davailability of ionstends to favor growth for Na and Ca. Zn does not change much. Potassium seems to greatly decrease. Is it due to the transporter expression?"
   ]
  },
  {
   "cell_type": "code",
   "execution_count": 20,
   "metadata": {},
   "outputs": [
    {
     "data": {
      "image/png": "[encoded data removed]",
      "text/plain": [
       "<Figure size 720x360 with 6 Axes>"
      ]
     },
     "metadata": {
      "needs_background": "light"
     },
     "output_type": "display_data"
    }
   ],
   "source": [
    "plt.figure(figsize=(10,5))\n",
    "marker = itertools.cycle(('v', 's', '^', 'o', '*')) \n",
    "for idx,ion in enumerate(ions):\n",
    "    ion_base = ion.split('_')[0]\n",
    "    plt.subplot(2,3,idx+1)\n",
    "    flux_responses_me = pd.DataFrame.from_dict(ion_result_macrodict[ion])\n",
    "    flux_responses_me = flux_responses_me[sorted(flux_responses_me.columns)]\n",
    "    \n",
    "    uptake_rxns = get_transport_reactions(me,ion.replace('e','c'),comps=['in','c'],verbose=0)\n",
    "    exit_rxns = get_transport_reactions(me,ion.replace('e','c'),comps=['c','out'],verbose=0)\n",
    "    transport_rxns = uptake_rxns + exit_rxns\n",
    "    for rxn in exit_rxns:\n",
    "        if not hasattr(rxn,'complex_data'):\n",
    "            continue\n",
    "        \n",
    "        complex_id = rxn.complex_data.complex.id\n",
    "        formation_id = 'formation_{}'.format(complex_id)\n",
    "        plt.plot(-flux_responses_me.loc['EX_{}_in'.format(ion_base)],\n",
    "                 flux_responses_me.loc[formation_id]/flux_responses_me.loc['biomass_dilution'],\n",
    "                 label = complex_id,marker = next(marker),markersize=8)\n",
    "    plt.xlabel('Ion uptake')\n",
    "    plt.title(ion)\n",
    "    #plt.legend()\n",
    "plt.tight_layout()"
   ]
  },
  {
   "cell_type": "code",
   "execution_count": null,
   "metadata": {},
   "outputs": [],
   "source": [
    "ion = 'k_c'\n",
    "flux_responses_me = pd.DataFrame.from_dict(ion_result_macrodict[ion])\n",
    "flux_responses_me = flux_responses_me[sorted(flux_responses_me.columns)]\n",
    "transport_rxns = get_reactions_of_met(me,ion.replace('_c','_e'),verbose=0)\n",
    "for rxn in transport_rxns:\n",
    "    if not hasattr(rxn,'complex_data'):\n",
    "        continue\n",
    "    complex_id = rxn.complex_data.complex.id\n",
    "    formation_id = 'formation_{}'.format(complex_id)\n",
    "    \n",
    "    plt.plot(-flux_responses_me.loc['EX_{}_osm'.format(ion)],flux_responses_me.loc[formation_id],\n",
    "                label = formation_id)\n",
    "    plt.xlabel('Ion uptake')\n",
    "plt.legend(bbox_to_anchor=(1, 1))"
   ]
  },
  {
   "cell_type": "markdown",
   "metadata": {},
   "source": [
    "## Big fluxes"
   ]
  },
  {
   "cell_type": "code",
   "execution_count": 38,
   "metadata": {},
   "outputs": [
    {
     "name": "stdout",
     "output_type": "stream",
     "text": [
      "Ions to include: ['na1_e', 'ca2_e', 'zn2_e', 'k_e', 'mg2_e', 'mn2_e']\n",
      "Rates to use: {'na1_e': array([-0. , -0.2, -0.4, -0.6, -0.8, -1. , -1.2, -1.4, -1.6, -1.8]), 'ca2_e': array([-0. , -0.2, -0.4, -0.6, -0.8, -1. , -1.2, -1.4, -1.6, -1.8]), 'zn2_e': array([-0. , -0.2, -0.4, -0.6, -0.8, -1. , -1.2, -1.4, -1.6, -1.8]), 'k_e': array([-0. , -0.2, -0.4, -0.6, -0.8, -1. , -1.2, -1.4, -1.6, -1.8]), 'mg2_e': array([-0. , -0.2, -0.4, -0.6, -0.8, -1. , -1.2, -1.4, -1.6, -1.8]), 'mn2_e': array([-0. , -0.2, -0.4, -0.6, -0.8, -1. , -1.2, -1.4, -1.6, -1.8])}\n"
     ]
    }
   ],
   "source": [
    "# Calculation at several ion uptake rates\n",
    "ion_rates_dict = {}\n",
    "ion_fractions = -np.arange(0,2,0.2)\n",
    "for ion in ions:\n",
    "    ion_rates_dict[ion] = ion_fractions\n",
    "#     ion_rates_dict[ion] = ion_fractions*-0.2e-7\n",
    "print('Ions to include: {}'.format(ions))\n",
    "print('Rates to use: {}'.format(ion_rates_dict))\n",
    "\n",
    "ion_result_macrodict = dict()\n",
    "\n",
    "import multiprocessing as mp\n",
    "NP = min([len(ion_fractions),10])"
   ]
  },
  {
   "cell_type": "code",
   "execution_count": null,
   "metadata": {
    "scrolled": true
   },
   "outputs": [
    {
     "name": "stderr",
     "output_type": "stream",
     "text": [
      "\n",
      "\n",
      "\n",
      "\n",
      "  0%|          | 0/60 [00:00<?, ?it/s]\u001b[A\u001b[A\u001b[A\u001b[A\n",
      "\n",
      "\n",
      "\n",
      "Calculating na1_e (10 threads):   0%|          | 0/60 [00:00<?, ?it/s]\u001b[A\u001b[A\u001b[A\u001b[A\n",
      "\n",
      "\n",
      "\n",
      "Calculating na1_e (10 threads):   2%|▏         | 1/60 [10:20<10:10:02, 620.39s/it]\u001b[A\u001b[A\u001b[A\u001b[A\n",
      "\n",
      "\n",
      "\n",
      "Calculating na1_e (10 threads):   3%|▎         | 2/60 [10:24<7:01:01, 435.55s/it] \u001b[A\u001b[A\u001b[A\u001b[A\n",
      "\n",
      "\n",
      "\n",
      "Calculating na1_e (10 threads):   5%|▌         | 3/60 [10:25<4:49:54, 305.17s/it]\u001b[A\u001b[A\u001b[A\u001b[A\n",
      "\n",
      "\n",
      "\n",
      "Calculating na1_e (10 threads):   7%|▋         | 4/60 [10:32<3:21:21, 215.74s/it]\u001b[A\u001b[A\u001b[A\u001b[A\n",
      "\n",
      "\n",
      "\n",
      "Calculating na1_e (10 threads):   8%|▊         | 5/60 [10:38<2:20:01, 152.75s/it]\u001b[A\u001b[A\u001b[A\u001b[A\n",
      "\n",
      "\n",
      "\n",
      "Calculating na1_e (10 threads):  10%|█         | 6/60 [10:39<1:36:33, 107.29s/it]\u001b[A\u001b[A\u001b[A\u001b[A\n",
      "\n",
      "\n",
      "\n",
      "Calculating na1_e (10 threads):  12%|█▏        | 7/60 [10:44<1:07:32, 76.47s/it] \u001b[A\u001b[A\u001b[A\u001b[A\n",
      "\n",
      "\n",
      "\n",
      "Calculating na1_e (10 threads):  13%|█▎        | 8/60 [10:51<48:13, 55.65s/it]  \u001b[A\u001b[A\u001b[A\u001b[A\n",
      "\n",
      "\n",
      "\n",
      "Calculating na1_e (10 threads):  15%|█▌        | 9/60 [10:53<33:38, 39.58s/it]\u001b[A\u001b[A\u001b[A\u001b[A\n",
      "\n",
      "\n",
      "\n",
      "Calculating na1_e (10 threads):  17%|█▋        | 10/60 [10:54<23:19, 27.99s/it]\u001b[A\u001b[A\u001b[A\u001b[A\n",
      "\n",
      "\n",
      "\n",
      "Calculating ca2_e (10 threads):  17%|█▋        | 10/60 [10:54<23:19, 27.99s/it]\u001b[A\u001b[A\u001b[A\u001b[A\n",
      "\n",
      "\n",
      "\n",
      "Calculating ca2_e (10 threads):  18%|█▊        | 11/60 [21:13<2:47:43, 205.38s/it]\u001b[A\u001b[A\u001b[A\u001b[A\n",
      "\n",
      "\n",
      "\n",
      "Calculating ca2_e (10 threads):  20%|██        | 12/60 [21:15<1:55:23, 144.24s/it]\u001b[A\u001b[A\u001b[A\u001b[A\n",
      "\n",
      "\n",
      "\n",
      "Calculating ca2_e (10 threads):  22%|██▏       | 13/60 [21:17<1:19:39, 101.69s/it]\u001b[A\u001b[A\u001b[A\u001b[A\n",
      "\n",
      "\n",
      "\n",
      "Calculating ca2_e (10 threads):  23%|██▎       | 14/60 [21:18<54:44, 71.40s/it]   \u001b[A\u001b[A\u001b[A\u001b[A\n",
      "\n",
      "\n",
      "\n",
      "Calculating ca2_e (10 threads):  25%|██▌       | 15/60 [21:22<38:29, 51.33s/it]\u001b[A\u001b[A\u001b[A\u001b[A\n",
      "\n",
      "\n",
      "\n",
      "Calculating ca2_e (10 threads):  27%|██▋       | 16/60 [21:32<28:29, 38.85s/it]\u001b[A\u001b[A\u001b[A\u001b[A\n",
      "\n",
      "\n",
      "\n",
      "Calculating ca2_e (10 threads):  28%|██▊       | 17/60 [21:34<19:49, 27.67s/it]\u001b[A\u001b[A\u001b[A\u001b[A\n",
      "\n",
      "\n",
      "\n",
      "Calculating ca2_e (10 threads):  30%|███       | 18/60 [21:37<14:14, 20.35s/it]\u001b[A\u001b[A\u001b[A\u001b[A\n",
      "\n",
      "\n",
      "\n",
      "Calculating ca2_e (10 threads):  32%|███▏      | 19/60 [21:40<10:24, 15.23s/it]\u001b[A\u001b[A\u001b[A\u001b[A\n",
      "\n",
      "\n",
      "\n",
      "Calculating ca2_e (10 threads):  33%|███▎      | 20/60 [21:42<07:32, 11.30s/it]\u001b[A\u001b[A\u001b[A\u001b[A\n",
      "\n",
      "\n",
      "\n",
      "Calculating zn2_e (10 threads):  33%|███▎      | 20/60 [21:43<07:32, 11.30s/it]\u001b[A\u001b[A\u001b[A\u001b[A"
     ]
    }
   ],
   "source": [
    "# Parallel processing\n",
    "pbar = tqdm(total=len(ions)*len(ion_fractions))\n",
    "for ion in ions:\n",
    "    flux_dict = {}  \n",
    "    ion_rates = ion_rates_dict[ion]\n",
    "    pbar.set_description('Calculating {} ({} threads)'.format(ion,NP))\n",
    "    def collect_result(result):\n",
    "        pbar.update(1)\n",
    "        flux_dict[result[0]] = result[1]\n",
    "        \n",
    "    pool = mp.Pool(NP)\n",
    "    for rate in ion_rates:\n",
    "        pool.apply_async(single_flux_response, args=(me,rate,ion), callback=collect_result)\n",
    "    pool.close()\n",
    "    pool.join()\n",
    "    \n",
    "    flux_responses_me = pd.DataFrame.from_dict(flux_dict)\n",
    "    flux_responses_me = flux_responses_me[sorted(flux_responses_me.columns)]\n",
    "    ion_result_macrodict[ion] = flux_responses_me"
   ]
  },
  {
   "cell_type": "code",
   "execution_count": null,
   "metadata": {},
   "outputs": [],
   "source": [
    "# Write\n",
    "for ion in ions:\n",
    "    ion_result_macrodict[ion].to_csv('{}_big_flux_responses.csv'.format(ion))"
   ]
  },
  {
   "cell_type": "code",
   "execution_count": 66,
   "metadata": {},
   "outputs": [],
   "source": [
    "# Read\n",
    "for ion in ions:\n",
    "    ion_result_macrodict[ion] = pd.read_csv('{}_big_flux_responses.csv'.format(ion),index_col=0)"
   ]
  },
  {
   "cell_type": "code",
   "execution_count": 67,
   "metadata": {},
   "outputs": [
    {
     "data": {
      "image/png": "[encoded data removed]",
      "text/plain": [
       "<Figure size 936x432 with 6 Axes>"
      ]
     },
     "metadata": {
      "needs_background": "light"
     },
     "output_type": "display_data"
    },
    {
     "data": {
      "text/plain": [
       "<Figure size 360x288 with 0 Axes>"
      ]
     },
     "metadata": {},
     "output_type": "display_data"
    }
   ],
   "source": [
    "import itertools\n",
    "marker = itertools.cycle(('v', 's', '^', 'o', '*')) \n",
    "fig,axes = plt.subplots(round(len(ions)/3),3,figsize=(13,round(len(ions))))\n",
    "axes = axes.flatten()\n",
    "plt.figure(figsize=(5,4))\n",
    "for idx,ion in enumerate(ions):\n",
    "    ion_base = ion.split('_')[0]\n",
    "    try:\n",
    "        flux_responses_me = ion_result_macrodict[ion]\n",
    "        fluxes = (-flux_responses_me.loc['EX_{}_in'.format(ion_base)])\n",
    "        axes[idx].plot(fluxes,flux_responses_me.loc['biomass_dilution'],\n",
    "                label = ion,marker = next(marker),markersize=8)\n",
    "    except:\n",
    "        pass\n",
    "    axes[idx].set_xlabel('Ion uptake')\n",
    "    axes[idx].set_ylabel('Growth rate')\n",
    "    axes[idx].set_title(ion)\n",
    "    \n",
    "fig.tight_layout()\n",
    "#plt.legend()\n",
    "#plt.tight_layout()"
   ]
  },
  {
   "cell_type": "code",
   "execution_count": null,
   "metadata": {},
   "outputs": [],
   "source": []
  },
  {
   "cell_type": "code",
   "execution_count": null,
   "metadata": {},
   "outputs": [],
   "source": []
  },
  {
   "cell_type": "code",
   "execution_count": null,
   "metadata": {},
   "outputs": [],
   "source": []
  },
  {
   "cell_type": "code",
   "execution_count": null,
   "metadata": {},
   "outputs": [],
   "source": [
    "rxn"
   ]
  },
  {
   "cell_type": "code",
   "execution_count": 23,
   "metadata": {},
   "outputs": [
    {
     "ename": "KeyError",
     "evalue": "'EX_k_in_osm'",
     "output_type": "error",
     "traceback": [
      "\u001b[0;31m---------------------------------------------------------------------------\u001b[0m",
      "\u001b[0;31mKeyError\u001b[0m                                  Traceback (most recent call last)",
      "\u001b[0;32m~/UCSD/ME_modelling/ME_env/lib/python3.6/site-packages/pandas/core/indexes/base.py\u001b[0m in \u001b[0;36mget_loc\u001b[0;34m(self, key, method, tolerance)\u001b[0m\n\u001b[1;32m   2896\u001b[0m             \u001b[0;32mtry\u001b[0m\u001b[0;34m:\u001b[0m\u001b[0;34m\u001b[0m\u001b[0m\n\u001b[0;32m-> 2897\u001b[0;31m                 \u001b[0;32mreturn\u001b[0m \u001b[0mself\u001b[0m\u001b[0;34m.\u001b[0m\u001b[0m_engine\u001b[0m\u001b[0;34m.\u001b[0m\u001b[0mget_loc\u001b[0m\u001b[0;34m(\u001b[0m\u001b[0mkey\u001b[0m\u001b[0;34m)\u001b[0m\u001b[0;34m\u001b[0m\u001b[0m\n\u001b[0m\u001b[1;32m   2898\u001b[0m             \u001b[0;32mexcept\u001b[0m \u001b[0mKeyError\u001b[0m\u001b[0;34m:\u001b[0m\u001b[0;34m\u001b[0m\u001b[0m\n",
      "\u001b[0;32mpandas/_libs/index.pyx\u001b[0m in \u001b[0;36mpandas._libs.index.IndexEngine.get_loc\u001b[0;34m()\u001b[0m\n",
      "\u001b[0;32mpandas/_libs/index.pyx\u001b[0m in \u001b[0;36mpandas._libs.index.IndexEngine.get_loc\u001b[0;34m()\u001b[0m\n",
      "\u001b[0;32mpandas/_libs/hashtable_class_helper.pxi\u001b[0m in \u001b[0;36mpandas._libs.hashtable.PyObjectHashTable.get_item\u001b[0;34m()\u001b[0m\n",
      "\u001b[0;32mpandas/_libs/hashtable_class_helper.pxi\u001b[0m in \u001b[0;36mpandas._libs.hashtable.PyObjectHashTable.get_item\u001b[0;34m()\u001b[0m\n",
      "\u001b[0;31mKeyError\u001b[0m: 'EX_k_in_osm'",
      "\nDuring handling of the above exception, another exception occurred:\n",
      "\u001b[0;31mKeyError\u001b[0m                                  Traceback (most recent call last)",
      "\u001b[0;32m<ipython-input-23-dd71589b65d0>\u001b[0m in \u001b[0;36m<module>\u001b[0;34m\u001b[0m\n\u001b[1;32m     13\u001b[0m     \u001b[0mexpression\u001b[0m \u001b[0;34m=\u001b[0m \u001b[0mflux_responses_me\u001b[0m\u001b[0;34m.\u001b[0m\u001b[0mloc\u001b[0m\u001b[0;34m[\u001b[0m\u001b[0;34m'translation_'\u001b[0m\u001b[0;34m+\u001b[0m\u001b[0mlocus_id\u001b[0m\u001b[0;34m]\u001b[0m\u001b[0;34m\u001b[0m\u001b[0m\n\u001b[1;32m     14\u001b[0m     \u001b[0mexpression\u001b[0m \u001b[0;34m/=\u001b[0m \u001b[0mnp\u001b[0m\u001b[0;34m.\u001b[0m\u001b[0mmax\u001b[0m\u001b[0;34m(\u001b[0m\u001b[0mexpression\u001b[0m\u001b[0;34m)\u001b[0m\u001b[0;34m\u001b[0m\u001b[0m\n\u001b[0;32m---> 15\u001b[0;31m     plt.plot(-flux_responses_me.loc['EX_k_in_osm'],expression,\n\u001b[0m\u001b[1;32m     16\u001b[0m             label=gene_name,marker = next(marker),markersize=8)\n\u001b[1;32m     17\u001b[0m \u001b[0mplt\u001b[0m\u001b[0;34m.\u001b[0m\u001b[0mlegend\u001b[0m\u001b[0;34m(\u001b[0m\u001b[0;34m)\u001b[0m\u001b[0;34m\u001b[0m\u001b[0m\n",
      "\u001b[0;32m~/UCSD/ME_modelling/ME_env/lib/python3.6/site-packages/pandas/core/indexing.py\u001b[0m in \u001b[0;36m__getitem__\u001b[0;34m(self, key)\u001b[0m\n\u001b[1;32m   1422\u001b[0m \u001b[0;34m\u001b[0m\u001b[0m\n\u001b[1;32m   1423\u001b[0m             \u001b[0mmaybe_callable\u001b[0m \u001b[0;34m=\u001b[0m \u001b[0mcom\u001b[0m\u001b[0;34m.\u001b[0m\u001b[0mapply_if_callable\u001b[0m\u001b[0;34m(\u001b[0m\u001b[0mkey\u001b[0m\u001b[0;34m,\u001b[0m \u001b[0mself\u001b[0m\u001b[0;34m.\u001b[0m\u001b[0mobj\u001b[0m\u001b[0;34m)\u001b[0m\u001b[0;34m\u001b[0m\u001b[0m\n\u001b[0;32m-> 1424\u001b[0;31m             \u001b[0;32mreturn\u001b[0m \u001b[0mself\u001b[0m\u001b[0;34m.\u001b[0m\u001b[0m_getitem_axis\u001b[0m\u001b[0;34m(\u001b[0m\u001b[0mmaybe_callable\u001b[0m\u001b[0;34m,\u001b[0m \u001b[0maxis\u001b[0m\u001b[0;34m=\u001b[0m\u001b[0maxis\u001b[0m\u001b[0;34m)\u001b[0m\u001b[0;34m\u001b[0m\u001b[0m\n\u001b[0m\u001b[1;32m   1425\u001b[0m \u001b[0;34m\u001b[0m\u001b[0m\n\u001b[1;32m   1426\u001b[0m     \u001b[0;32mdef\u001b[0m \u001b[0m_is_scalar_access\u001b[0m\u001b[0;34m(\u001b[0m\u001b[0mself\u001b[0m\u001b[0;34m,\u001b[0m \u001b[0mkey\u001b[0m\u001b[0;34m:\u001b[0m \u001b[0mTuple\u001b[0m\u001b[0;34m)\u001b[0m\u001b[0;34m:\u001b[0m\u001b[0;34m\u001b[0m\u001b[0m\n",
      "\u001b[0;32m~/UCSD/ME_modelling/ME_env/lib/python3.6/site-packages/pandas/core/indexing.py\u001b[0m in \u001b[0;36m_getitem_axis\u001b[0;34m(self, key, axis)\u001b[0m\n\u001b[1;32m   1848\u001b[0m         \u001b[0;31m# fall thru to straight lookup\u001b[0m\u001b[0;34m\u001b[0m\u001b[0;34m\u001b[0m\u001b[0m\n\u001b[1;32m   1849\u001b[0m         \u001b[0mself\u001b[0m\u001b[0;34m.\u001b[0m\u001b[0m_validate_key\u001b[0m\u001b[0;34m(\u001b[0m\u001b[0mkey\u001b[0m\u001b[0;34m,\u001b[0m \u001b[0maxis\u001b[0m\u001b[0;34m)\u001b[0m\u001b[0;34m\u001b[0m\u001b[0m\n\u001b[0;32m-> 1850\u001b[0;31m         \u001b[0;32mreturn\u001b[0m \u001b[0mself\u001b[0m\u001b[0;34m.\u001b[0m\u001b[0m_get_label\u001b[0m\u001b[0;34m(\u001b[0m\u001b[0mkey\u001b[0m\u001b[0;34m,\u001b[0m \u001b[0maxis\u001b[0m\u001b[0;34m=\u001b[0m\u001b[0maxis\u001b[0m\u001b[0;34m)\u001b[0m\u001b[0;34m\u001b[0m\u001b[0m\n\u001b[0m\u001b[1;32m   1851\u001b[0m \u001b[0;34m\u001b[0m\u001b[0m\n\u001b[1;32m   1852\u001b[0m \u001b[0;34m\u001b[0m\u001b[0m\n",
      "\u001b[0;32m~/UCSD/ME_modelling/ME_env/lib/python3.6/site-packages/pandas/core/indexing.py\u001b[0m in \u001b[0;36m_get_label\u001b[0;34m(self, label, axis)\u001b[0m\n\u001b[1;32m    158\u001b[0m             \u001b[0;32mraise\u001b[0m \u001b[0mIndexingError\u001b[0m\u001b[0;34m(\u001b[0m\u001b[0;34m\"no slices here, handle elsewhere\"\u001b[0m\u001b[0;34m)\u001b[0m\u001b[0;34m\u001b[0m\u001b[0m\n\u001b[1;32m    159\u001b[0m \u001b[0;34m\u001b[0m\u001b[0m\n\u001b[0;32m--> 160\u001b[0;31m         \u001b[0;32mreturn\u001b[0m \u001b[0mself\u001b[0m\u001b[0;34m.\u001b[0m\u001b[0mobj\u001b[0m\u001b[0;34m.\u001b[0m\u001b[0m_xs\u001b[0m\u001b[0;34m(\u001b[0m\u001b[0mlabel\u001b[0m\u001b[0;34m,\u001b[0m \u001b[0maxis\u001b[0m\u001b[0;34m=\u001b[0m\u001b[0maxis\u001b[0m\u001b[0;34m)\u001b[0m\u001b[0;34m\u001b[0m\u001b[0m\n\u001b[0m\u001b[1;32m    161\u001b[0m \u001b[0;34m\u001b[0m\u001b[0m\n\u001b[1;32m    162\u001b[0m     \u001b[0;32mdef\u001b[0m \u001b[0m_get_loc\u001b[0m\u001b[0;34m(\u001b[0m\u001b[0mself\u001b[0m\u001b[0;34m,\u001b[0m \u001b[0mkey\u001b[0m\u001b[0;34m:\u001b[0m \u001b[0mint\u001b[0m\u001b[0;34m,\u001b[0m \u001b[0maxis\u001b[0m\u001b[0;34m:\u001b[0m \u001b[0mint\u001b[0m\u001b[0;34m)\u001b[0m\u001b[0;34m:\u001b[0m\u001b[0;34m\u001b[0m\u001b[0m\n",
      "\u001b[0;32m~/UCSD/ME_modelling/ME_env/lib/python3.6/site-packages/pandas/core/generic.py\u001b[0m in \u001b[0;36mxs\u001b[0;34m(self, key, axis, level, drop_level)\u001b[0m\n\u001b[1;32m   3735\u001b[0m             \u001b[0mloc\u001b[0m\u001b[0;34m,\u001b[0m \u001b[0mnew_index\u001b[0m \u001b[0;34m=\u001b[0m \u001b[0mself\u001b[0m\u001b[0;34m.\u001b[0m\u001b[0mindex\u001b[0m\u001b[0;34m.\u001b[0m\u001b[0mget_loc_level\u001b[0m\u001b[0;34m(\u001b[0m\u001b[0mkey\u001b[0m\u001b[0;34m,\u001b[0m \u001b[0mdrop_level\u001b[0m\u001b[0;34m=\u001b[0m\u001b[0mdrop_level\u001b[0m\u001b[0;34m)\u001b[0m\u001b[0;34m\u001b[0m\u001b[0m\n\u001b[1;32m   3736\u001b[0m         \u001b[0;32melse\u001b[0m\u001b[0;34m:\u001b[0m\u001b[0;34m\u001b[0m\u001b[0m\n\u001b[0;32m-> 3737\u001b[0;31m             \u001b[0mloc\u001b[0m \u001b[0;34m=\u001b[0m \u001b[0mself\u001b[0m\u001b[0;34m.\u001b[0m\u001b[0mindex\u001b[0m\u001b[0;34m.\u001b[0m\u001b[0mget_loc\u001b[0m\u001b[0;34m(\u001b[0m\u001b[0mkey\u001b[0m\u001b[0;34m)\u001b[0m\u001b[0;34m\u001b[0m\u001b[0m\n\u001b[0m\u001b[1;32m   3738\u001b[0m \u001b[0;34m\u001b[0m\u001b[0m\n\u001b[1;32m   3739\u001b[0m             \u001b[0;32mif\u001b[0m \u001b[0misinstance\u001b[0m\u001b[0;34m(\u001b[0m\u001b[0mloc\u001b[0m\u001b[0;34m,\u001b[0m \u001b[0mnp\u001b[0m\u001b[0;34m.\u001b[0m\u001b[0mndarray\u001b[0m\u001b[0;34m)\u001b[0m\u001b[0;34m:\u001b[0m\u001b[0;34m\u001b[0m\u001b[0m\n",
      "\u001b[0;32m~/UCSD/ME_modelling/ME_env/lib/python3.6/site-packages/pandas/core/indexes/base.py\u001b[0m in \u001b[0;36mget_loc\u001b[0;34m(self, key, method, tolerance)\u001b[0m\n\u001b[1;32m   2897\u001b[0m                 \u001b[0;32mreturn\u001b[0m \u001b[0mself\u001b[0m\u001b[0;34m.\u001b[0m\u001b[0m_engine\u001b[0m\u001b[0;34m.\u001b[0m\u001b[0mget_loc\u001b[0m\u001b[0;34m(\u001b[0m\u001b[0mkey\u001b[0m\u001b[0;34m)\u001b[0m\u001b[0;34m\u001b[0m\u001b[0m\n\u001b[1;32m   2898\u001b[0m             \u001b[0;32mexcept\u001b[0m \u001b[0mKeyError\u001b[0m\u001b[0;34m:\u001b[0m\u001b[0;34m\u001b[0m\u001b[0m\n\u001b[0;32m-> 2899\u001b[0;31m                 \u001b[0;32mreturn\u001b[0m \u001b[0mself\u001b[0m\u001b[0;34m.\u001b[0m\u001b[0m_engine\u001b[0m\u001b[0;34m.\u001b[0m\u001b[0mget_loc\u001b[0m\u001b[0;34m(\u001b[0m\u001b[0mself\u001b[0m\u001b[0;34m.\u001b[0m\u001b[0m_maybe_cast_indexer\u001b[0m\u001b[0;34m(\u001b[0m\u001b[0mkey\u001b[0m\u001b[0;34m)\u001b[0m\u001b[0;34m)\u001b[0m\u001b[0;34m\u001b[0m\u001b[0m\n\u001b[0m\u001b[1;32m   2900\u001b[0m         \u001b[0mindexer\u001b[0m \u001b[0;34m=\u001b[0m \u001b[0mself\u001b[0m\u001b[0;34m.\u001b[0m\u001b[0mget_indexer\u001b[0m\u001b[0;34m(\u001b[0m\u001b[0;34m[\u001b[0m\u001b[0mkey\u001b[0m\u001b[0;34m]\u001b[0m\u001b[0;34m,\u001b[0m \u001b[0mmethod\u001b[0m\u001b[0;34m=\u001b[0m\u001b[0mmethod\u001b[0m\u001b[0;34m,\u001b[0m \u001b[0mtolerance\u001b[0m\u001b[0;34m=\u001b[0m\u001b[0mtolerance\u001b[0m\u001b[0;34m)\u001b[0m\u001b[0;34m\u001b[0m\u001b[0m\n\u001b[1;32m   2901\u001b[0m         \u001b[0;32mif\u001b[0m \u001b[0mindexer\u001b[0m\u001b[0;34m.\u001b[0m\u001b[0mndim\u001b[0m \u001b[0;34m>\u001b[0m \u001b[0;36m1\u001b[0m \u001b[0;32mor\u001b[0m \u001b[0mindexer\u001b[0m\u001b[0;34m.\u001b[0m\u001b[0msize\u001b[0m \u001b[0;34m>\u001b[0m \u001b[0;36m1\u001b[0m\u001b[0;34m:\u001b[0m\u001b[0;34m\u001b[0m\u001b[0m\n",
      "\u001b[0;32mpandas/_libs/index.pyx\u001b[0m in \u001b[0;36mpandas._libs.index.IndexEngine.get_loc\u001b[0;34m()\u001b[0m\n",
      "\u001b[0;32mpandas/_libs/index.pyx\u001b[0m in \u001b[0;36mpandas._libs.index.IndexEngine.get_loc\u001b[0;34m()\u001b[0m\n",
      "\u001b[0;32mpandas/_libs/hashtable_class_helper.pxi\u001b[0m in \u001b[0;36mpandas._libs.hashtable.PyObjectHashTable.get_item\u001b[0;34m()\u001b[0m\n",
      "\u001b[0;32mpandas/_libs/hashtable_class_helper.pxi\u001b[0m in \u001b[0;36mpandas._libs.hashtable.PyObjectHashTable.get_item\u001b[0;34m()\u001b[0m\n",
      "\u001b[0;31mKeyError\u001b[0m: 'EX_k_in_osm'"
     ]
    },
    {
     "data": {
      "text/plain": [
       "<Figure size 1080x288 with 0 Axes>"
      ]
     },
     "metadata": {},
     "output_type": "display_data"
    },
    {
     "data": {
      "image/png": "[encoded data removed]",
      "text/plain": [
       "<Figure size 864x288 with 1 Axes>"
      ]
     },
     "metadata": {
      "needs_background": "light"
     },
     "output_type": "display_data"
    }
   ],
   "source": [
    "# Visualize protein expression profiles\n",
    "plt.figure(figsize=(15,4))\n",
    "import itertools\n",
    "marker = itertools.cycle(('v', 's', '^', 'o', '*')) \n",
    "\n",
    "flux_responses_me[abs(flux_responses_me)<1e-20] = 0\n",
    "\n",
    "plt.figure(figsize=(12,4))\n",
    "plt.subplots_adjust(wspace=0.3)\n",
    "plt.subplot(1,2,1)\n",
    "genes = ['ktrB','ktrA']\n",
    "for gene_name,locus_id in gene_dictionary.loc[genes]['locus_id'].items():\n",
    "    expression = flux_responses_me.loc['translation_'+locus_id]\n",
    "    expression /= np.max(expression)\n",
    "    plt.plot(-flux_responses_me.loc['EX_k_in_osm'],expression,\n",
    "            label=gene_name,marker = next(marker),markersize=8)\n",
    "plt.legend()\n",
    "plt.xlabel('Sodium uptake')\n",
    "plt.ylabel('Protein expression')\n",
    "plt.title('Protein: K+ transporter KtrAB')\n",
    "\n",
    "plt.subplot(1,2,2)\n",
    "genes = ['ktrB','ktrA']\n",
    "for gene_name,locus_id in gene_dictionary.loc[genes]['locus_id'].items():\n",
    "    expression = flux_responses_me.loc['translation_'+locus_id]\n",
    "    expression /= np.max(expression)\n",
    "    plt.plot(-flux_responses_me.loc['EX_k_c_osm'],expression,\n",
    "            label=gene_name,marker = next(marker),markersize=8)\n",
    "plt.legend()\n",
    "plt.xlabel('Sodium uptake')\n",
    "plt.ylabel('Protein expression')\n",
    "plt.title(genes)"
   ]
  },
  {
   "cell_type": "code",
   "execution_count": null,
   "metadata": {},
   "outputs": [],
   "source": []
  },
  {
   "cell_type": "code",
   "execution_count": null,
   "metadata": {},
   "outputs": [],
   "source": []
  }
 ],
 "metadata": {
  "kernelspec": {
   "display_name": "Python 3",
   "language": "python",
   "name": "python3"
  },
  "language_info": {
   "codemirror_mode": {
    "name": "ipython",
    "version": 3
   },
   "file_extension": ".py",
   "mimetype": "text/x-python",
   "name": "python",
   "nbconvert_exporter": "python",
   "pygments_lexer": "ipython3",
   "version": "3.6.3"
  }
 },
 "nbformat": 4,
 "nbformat_minor": 4
}
